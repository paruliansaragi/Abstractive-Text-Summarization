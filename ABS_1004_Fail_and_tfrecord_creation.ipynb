{
  "nbformat": 4,
  "nbformat_minor": 0,
  "metadata": {
    "colab": {
      "name": "ABS-1004-Fail-and-tfrecord-creation.ipynb",
      "version": "0.3.2",
      "provenance": [],
      "collapsed_sections": [],
      "toc_visible": true,
      "include_colab_link": true
    },
    "kernelspec": {
      "name": "python3",
      "display_name": "Python 3"
    },
    "accelerator": "GPU"
  },
  "cells": [
    {
      "cell_type": "markdown",
      "metadata": {
        "id": "view-in-github",
        "colab_type": "text"
      },
      "source": [
        "<a href=\"https://colab.research.google.com/github/paruliansaragi/Abstractive-Text-Summarization/blob/master/ABS_1004_Fail_and_tfrecord_creation.ipynb\" target=\"_parent\"><img src=\"https://colab.research.google.com/assets/colab-badge.svg\" alt=\"Open In Colab\"/></a>"
      ]
    },
    {
      "cell_type": "code",
      "metadata": {
        "id": "XkLuN3o9JvSZ",
        "colab_type": "code",
        "colab": {}
      },
      "source": [
        "!unzip ./bbc-news-summary.zip\n",
        "!unrar x \"./BBC News Summary.rar\"\n",
        "#!pip install pytorch-pretrained-bert"
      ],
      "execution_count": 0,
      "outputs": []
    },
    {
      "cell_type": "code",
      "metadata": {
        "id": "d-hMKQrlNK6y",
        "colab_type": "code",
        "cellView": "both",
        "colab": {}
      },
      "source": [
        "#@title\n",
        "#!mkdir bert_pretrained_models\n",
        "#!wget https://storage.googleapis.com/bert_models/2018_10_18/uncased_L-12_H-768_A-12.zip -P bert_pretrained_models/;\n",
        "#!unzip bert_pretrained_models/uncased_L-12_H-768_A-12.zip -d bert_pretrained_models/"
      ],
      "execution_count": 0,
      "outputs": []
    },
    {
      "cell_type": "code",
      "metadata": {
        "id": "ravpf5tTZLFk",
        "colab_type": "code",
        "outputId": "94ee7e8c-6de9-40b3-d4f2-ded65293fe7c",
        "colab": {
          "base_uri": "https://localhost:8080/",
          "height": 167
        }
      },
      "source": [
        "!pip install pyrouge"
      ],
      "execution_count": 0,
      "outputs": [
        {
          "output_type": "stream",
          "text": [
            "Collecting pyrouge\n",
            "\u001b[?25l  Downloading https://files.pythonhosted.org/packages/11/85/e522dd6b36880ca19dcf7f262b22365748f56edc6f455e7b6a37d0382c32/pyrouge-0.1.3.tar.gz (60kB)\n",
            "\u001b[K    100% |████████████████████████████████| 61kB 2.3MB/s \n",
            "\u001b[?25hBuilding wheels for collected packages: pyrouge\n",
            "  Building wheel for pyrouge (setup.py) ... \u001b[?25ldone\n",
            "\u001b[?25h  Stored in directory: /root/.cache/pip/wheels/75/d3/0c/e5b04e15b6b87c42e980de3931d2686e14d36e045058983599\n",
            "Successfully built pyrouge\n",
            "Installing collected packages: pyrouge\n",
            "Successfully installed pyrouge-0.1.3\n"
          ],
          "name": "stdout"
        }
      ]
    },
    {
      "cell_type": "code",
      "metadata": {
        "id": "mJzCcBmUX_1o",
        "colab_type": "code",
        "colab": {}
      },
      "source": [
        "#!mkdir data"
      ],
      "execution_count": 0,
      "outputs": []
    },
    {
      "cell_type": "code",
      "metadata": {
        "id": "zfvMm6gmn9PZ",
        "colab_type": "code",
        "colab": {}
      },
      "source": [
        "#!pip install flair"
      ],
      "execution_count": 0,
      "outputs": []
    },
    {
      "cell_type": "code",
      "metadata": {
        "id": "YpC5u3fVX3_o",
        "colab_type": "code",
        "cellView": "both",
        "colab": {}
      },
      "source": [
        "#@title\n",
        "vocab_path =\"./vocab.txt\"\n",
        "log_root = \"./ptr_nw/log\""
      ],
      "execution_count": 0,
      "outputs": []
    },
    {
      "cell_type": "code",
      "metadata": {
        "id": "_Jzm8ophNfT3",
        "colab_type": "code",
        "cellView": "both",
        "colab": {}
      },
      "source": [
        "#@title\n",
        "import tensorflow as tf\n",
        "import sys\n",
        "\n",
        "!test -d texar_repo || git clone https://github.com/asyml/texar.git texar_repo\n",
        "if not 'texar_repo' in sys.path:\n",
        "  sys.path += ['texar_repo']\n",
        "!pip install funcsigs"
      ],
      "execution_count": 0,
      "outputs": []
    },
    {
      "cell_type": "code",
      "metadata": {
        "id": "4omdHI7xNeRV",
        "colab_type": "code",
        "cellView": "both",
        "colab": {}
      },
      "source": [
        "#@title Imports\n",
        "import os\n",
        "import csv\n",
        "import collections\n",
        "import sys\n",
        "#from texar_repo.examples.bert.utils import data_utils, model_utils, tokenization\n",
        "import importlib\n",
        "import tensorflow as tf\n",
        "#import texar as tx \n",
        "#from texar_repo.examples.bert import config_classifier as config_downstream\n",
        "#from texar_repo.texar.utils import transformer_utils\n",
        "#from texar_repo.examples.transformer.utils import data_utils, utils\n",
        "#from texar_repo.examples.transformer.bleu_tool import bleu_wrapper\n",
        "import glob\n",
        "import random\n",
        "import struct\n",
        "import csv\n",
        "from tensorflow.core.example import example_pb2\n",
        "import operator\n",
        "import numpy as np\n",
        "import pyrouge\n",
        "np.random.seed(123)"
      ],
      "execution_count": 0,
      "outputs": []
    },
    {
      "cell_type": "code",
      "metadata": {
        "id": "S3sU-dwBZWT5",
        "colab_type": "code",
        "colab": {}
      },
      "source": [
        "############UTILS#####################"
      ],
      "execution_count": 0,
      "outputs": []
    },
    {
      "cell_type": "code",
      "metadata": {
        "id": "tEdy0fF-ZWLy",
        "colab_type": "code",
        "cellView": "both",
        "colab": {}
      },
      "source": [
        "#@title UTILS\n",
        "def print_results(article, abstract, decoded_output):\n",
        "  print (\"\")\n",
        "  print('ARTICLE:  %s', article)\n",
        "  print('REFERENCE SUMMARY: %s', abstract)\n",
        "  print('GENERATED SUMMARY: %s', decoded_output)\n",
        "  print( \"\")\n",
        "      \n",
        "\n",
        "def make_html_safe(s):\n",
        "  s.replace(\"<\", \"&lt;\")\n",
        "  s.replace(\">\", \"&gt;\")\n",
        "  return s\n",
        "\n",
        "\n",
        "def rouge_eval(ref_dir, dec_dir):\n",
        "  r = pyrouge.Rouge155()\n",
        "  r.model_filename_pattern = '#ID#_reference.txt'\n",
        "  r.system_filename_pattern = '(\\d+)_decoded.txt'\n",
        "  r.model_dir = ref_dir\n",
        "  r.system_dir = dec_dir\n",
        "  logging.getLogger('global').setLevel(logging.WARNING) # silence pyrouge logging\n",
        "  rouge_results = r.convert_and_evaluate()\n",
        "  return r.output_to_dict(rouge_results)\n",
        "\n",
        "\n",
        "def rouge_log(results_dict, dir_to_write):\n",
        "  log_str = \"\"\n",
        "  for x in [\"1\",\"2\",\"l\"]:\n",
        "    log_str += \"\\nROUGE-%s:\\n\" % x\n",
        "    for y in [\"f_score\", \"recall\", \"precision\"]:\n",
        "      key = \"rouge_%s_%s\" % (x,y)\n",
        "      key_cb = key + \"_cb\"\n",
        "      key_ce = key + \"_ce\"\n",
        "      val = results_dict[key]\n",
        "      val_cb = results_dict[key_cb]\n",
        "      val_ce = results_dict[key_ce]\n",
        "      log_str += \"%s: %.4f with confidence interval (%.4f, %.4f)\\n\" % (key, val, val_cb, val_ce)\n",
        "  print(log_str)\n",
        "  results_file = os.path.join(dir_to_write, \"ROUGE_results.txt\")\n",
        "  print(\"Writing final ROUGE results to %s...\"%(results_file))\n",
        "  with open(results_file, \"w\") as f:\n",
        "    f.write(log_str)\n",
        "\n",
        "\n",
        "def calc_running_avg_loss(loss, running_avg_loss, summary_writer, step, decay=0.99):\n",
        "  if running_avg_loss == 0:  # on the first iteration just take the loss\n",
        "    running_avg_loss = loss\n",
        "  else:\n",
        "    running_avg_loss = running_avg_loss * decay + (1 - decay) * loss\n",
        "  running_avg_loss = min(running_avg_loss, 12)  # clip\n",
        "  loss_sum = tf.Summary()\n",
        "  tag_name = 'running_avg_loss/decay=%f' % (decay)\n",
        "  loss_sum.value.add(tag=tag_name, simple_value=running_avg_loss)\n",
        "  summary_writer.add_summary(loss_sum, step)\n",
        "  return running_avg_loss\n",
        "\n",
        "\n",
        "def write_for_rouge(reference_sents, decoded_words, ex_index,\n",
        "                    _rouge_ref_dir, _rouge_dec_dir):\n",
        "  decoded_sents = []\n",
        "  while len(decoded_words) > 0:\n",
        "    try:\n",
        "      fst_period_idx = decoded_words.index(\".\")\n",
        "    except ValueError:\n",
        "      fst_period_idx = len(decoded_words)\n",
        "    sent = decoded_words[:fst_period_idx + 1]\n",
        "    decoded_words = decoded_words[fst_period_idx + 1:]\n",
        "    decoded_sents.append(' '.join(sent))\n",
        "\n",
        "  # pyrouge calls a perl script that puts the data into HTML files.\n",
        "  # Therefore we need to make our output HTML safe.\n",
        "  decoded_sents = [make_html_safe(w) for w in decoded_sents]\n",
        "  reference_sents = [make_html_safe(w) for w in reference_sents]\n",
        "\n",
        "  ref_file = os.path.join(_rouge_ref_dir, \"%06d_reference.txt\" % ex_index)\n",
        "  decoded_file = os.path.join(_rouge_dec_dir, \"%06d_decoded.txt\" % ex_index)\n",
        "\n",
        "  with open(ref_file, \"w\") as f:\n",
        "    for idx, sent in enumerate(reference_sents):\n",
        "      f.write(sent) if idx == len(reference_sents) - 1 else f.write(sent + \"\\n\")\n",
        "  with open(decoded_file, \"w\") as f:\n",
        "    for idx, sent in enumerate(decoded_sents):\n",
        "      f.write(sent) if idx == len(decoded_sents) - 1 else f.write(sent + \"\\n\")\n",
        "\n",
        "  #print(\"Wrote example %i to file\" % ex_index)"
      ],
      "execution_count": 0,
      "outputs": []
    },
    {
      "cell_type": "code",
      "metadata": {
        "id": "S8IrwdmuZWEi",
        "colab_type": "code",
        "colab": {}
      },
      "source": [
        "############UTILS~~END#####################"
      ],
      "execution_count": 0,
      "outputs": []
    },
    {
      "cell_type": "code",
      "metadata": {
        "id": "5Y6e4sJYeE4V",
        "colab_type": "code",
        "colab": {}
      },
      "source": [
        "##########HPS############"
      ],
      "execution_count": 0,
      "outputs": []
    },
    {
      "cell_type": "code",
      "metadata": {
        "id": "4epQfPYgWmZl",
        "colab_type": "code",
        "cellView": "both",
        "colab": {}
      },
      "source": [
        "#@title Hyperparameters\n",
        "# Hyperparameters\n",
        "hidden_dim= 256\n",
        "emb_dim= 128\n",
        "batch_size= 8\n",
        "max_enc_steps=400\n",
        "max_dec_steps=100\n",
        "beam_size=4\n",
        "min_dec_steps=35\n",
        "vocab_size=50000\n",
        "\n",
        "lr=0.15\n",
        "adagrad_init_acc=0.1\n",
        "rand_unif_init_mag=0.02\n",
        "trunc_norm_init_std=1e-4\n",
        "max_grad_norm=2.0\n",
        "\n",
        "pointer_gen = True\n",
        "is_coverage = False\n",
        "cov_loss_wt = 1.0\n",
        "\n",
        "eps = 1e-12\n",
        "max_iterations = 500000\n",
        "\n",
        "use_gpu=True\n",
        "\n",
        "lr_coverage=0.15"
      ],
      "execution_count": 0,
      "outputs": []
    },
    {
      "cell_type": "code",
      "metadata": {
        "id": "K3qmg27XeGmI",
        "colab_type": "code",
        "colab": {}
      },
      "source": [
        "##########HPS~~~~END############"
      ],
      "execution_count": 0,
      "outputs": []
    },
    {
      "cell_type": "code",
      "metadata": {
        "id": "BYJwX8QTeH3i",
        "colab_type": "code",
        "colab": {}
      },
      "source": [
        "#############DATA PROCESSING################"
      ],
      "execution_count": 0,
      "outputs": []
    },
    {
      "cell_type": "code",
      "metadata": {
        "id": "VyL714rrFolu",
        "colab_type": "code",
        "cellView": "both",
        "colab": {}
      },
      "source": [
        "#@title\n",
        "#Tokenize and vocabularize\n",
        "# Use Bert / Texar to tokenize and get a vocab since the WordPiece tokenization\n",
        "# will be effective for OOV words\n",
        "\n",
        "#Create Examples (src and tgt)\n",
        "\n",
        "#Batchify\n",
        "\n",
        "#Pretrained model for sequence generation ~ init weights and config\n",
        "\n",
        "#Train and Save\n",
        "\n",
        "#Rougify and evaluate\n"
      ],
      "execution_count": 0,
      "outputs": []
    },
    {
      "cell_type": "code",
      "metadata": {
        "id": "MvVjfJCYNXeU",
        "colab_type": "code",
        "cellView": "both",
        "colab": {}
      },
      "source": [
        "#@title\n",
        "#bert_pretrain_dir = 'bert_pretrained_models/uncased_L-12_H-768_A-12'\n",
        "\n",
        "#tokenizer = tokenization.FullTokenizer(\n",
        "#        vocab_file=os.path.join(bert_pretrain_dir, 'vocab.txt'),\n",
        "#        do_lower_case=True)"
      ],
      "execution_count": 0,
      "outputs": []
    },
    {
      "cell_type": "code",
      "metadata": {
        "id": "QAVXTKj-d1_h",
        "colab_type": "code",
        "cellView": "form",
        "colab": {}
      },
      "source": [
        "#@title\n",
        "#vocab_size = len(tokenizer.vocab)"
      ],
      "execution_count": 0,
      "outputs": []
    },
    {
      "cell_type": "code",
      "metadata": {
        "id": "YvTWx-uGeOON",
        "colab_type": "code",
        "cellView": "form",
        "colab": {}
      },
      "source": [
        "#@title\n",
        "#TOKENIZE then pass the vocab to the Vocab constructor"
      ],
      "execution_count": 0,
      "outputs": []
    },
    {
      "cell_type": "code",
      "metadata": {
        "id": "zOYLKWjkd-VL",
        "colab_type": "code",
        "cellView": "form",
        "colab": {}
      },
      "source": [
        "#@title DataProcessor\n",
        "class Dataprocessor(object):\n",
        "  def __init__(self):\n",
        "    self.data_dir = './'\n",
        "  \n",
        "  def get_art_or_sum(self, file):\n",
        "    return self._read_file(file)\n",
        "  \n",
        "  def get_examples(self, article, summary):\n",
        "    return self._create_examples(article, summary, Bert_usage=False)\n",
        "  \n",
        "  def _create_examples(self, src_lines,tgt_lines,set_type, Bert_usage=False):\n",
        "        examples = [] \n",
        "        for i,data in enumerate(zip(src_lines,tgt_lines)):\n",
        "            guid = \"%s-%s\" % (set_type, i)\n",
        "            if set_type == \"test\" and i == 0:\n",
        "                continue\n",
        "            else:\n",
        "                #print(data)\n",
        "                if len(data[0])==0 or len(data[1])==0:\n",
        "                  continue\n",
        "                src_lines = tokenization.convert_to_unicode(data[0][0])\n",
        "                tgt_lines = tokenization.convert_to_unicode(data[1][0])\n",
        "                if Bert_usage == True:\n",
        "                  examples.append(InputExample(guid=guid, text_a=src_lines,\n",
        "                                         text_b=tgt_lines))\n",
        "                else:\n",
        "                  examples.append(Example(tgt_lines, tgt_lines, tokenizer.vocab))\n",
        "        return examples\n",
        "      \n",
        "  def _read_file(input_file, quotechar=None):\n",
        "      \"\"\"Reads a text file.\"\"\"\n",
        "      with tf.gfile.Open(input_file, \"r\") as f:\n",
        "          reader = csv.reader(f, delimiter=\"\\n\", quotechar=quotechar)\n",
        "          lines = []\n",
        "          i = 0\n",
        "          for line in reader:\n",
        "              lines.append(line)\n",
        "      return lines"
      ],
      "execution_count": 0,
      "outputs": []
    },
    {
      "cell_type": "code",
      "metadata": {
        "id": "HieUIXA5hsMw",
        "colab_type": "code",
        "cellView": "form",
        "colab": {}
      },
      "source": [
        "#@title\n",
        "#get_example = Dataprocessor\n",
        "#art, summm = get_example().get_art_or_sum(art_pol_path[1]), get_example().get_art_or_sum(sum_pol_path[1])\n",
        "#art, summm"
      ],
      "execution_count": 0,
      "outputs": []
    },
    {
      "cell_type": "code",
      "metadata": {
        "id": "rvK1VBHhUdlJ",
        "colab_type": "code",
        "colab": {}
      },
      "source": [
        "########FASTAI##################"
      ],
      "execution_count": 0,
      "outputs": []
    },
    {
      "cell_type": "code",
      "metadata": {
        "id": "02wpmBr2UdZa",
        "colab_type": "code",
        "cellView": "form",
        "colab": {}
      },
      "source": [
        "#@title Fast.ai\n",
        "\n",
        "from torchtext import data, vocab\n",
        "tokenizer = data.get_tokenizer('spacy')\n",
        "TEXT = data.Field(tokenize=tokenizer, lower=True, eos_token='_eos_')\n"
      ],
      "execution_count": 0,
      "outputs": []
    },
    {
      "cell_type": "code",
      "metadata": {
        "id": "WdtdbNrCUwa1",
        "colab_type": "code",
        "cellView": "both",
        "colab": {}
      },
      "source": [
        "#@title Turn to csv and train test split { form-width: \"5px\" }\n",
        "import pandas as pd\n",
        "import os\n",
        "import glob\n",
        "\n",
        "def read_lines(file):\n",
        "    \"\"\"Gets the lines from a file.\n",
        "\n",
        "    Returns\n",
        "    -------\n",
        "    str\n",
        "        the lines of text of the input file\n",
        "    \"\"\"\n",
        "    with open(file, 'r', encoding=\"utf-8\", errors=\"replace\") as fd:\n",
        "        first_lines = fd.readlines()\n",
        "    return first_lines\n",
        "\n",
        "def merge_art_sum(art_folder_path, sum_folder_path, category):\n",
        "    \"\"\"Merges first lines of text files in one folder, and\n",
        "    writes combined lines into new output file\n",
        "\n",
        "    Parameters\n",
        "    ----------\n",
        "    folder_path : str\n",
        "        String representation of the folder path containing the text files.\n",
        "    output_filename : str\n",
        "        Name of the output file the merged lines will be written to.\n",
        "    \"\"\"\n",
        "    # get all text files\n",
        "    art_txt_files = glob.glob(art_folder_path + \"*.txt\")\n",
        "    sum_txt_files = glob.glob(sum_folder_path + \"*.txt\")\n",
        "    # get first lines; map to each text file (sorted)\n",
        "    art_arr = []\n",
        "    sum_arr = []\n",
        "    for fle in art_txt_files:\n",
        "      # open the file and then call .read() to get the text\n",
        "      art_arr.append(read_lines(fle))\n",
        "    for fl in sum_txt_files:\n",
        "      sum_arr.append(read_lines(fl))\n",
        "    # create dir\n",
        "    #if not os.path.exists(output_dir) : os.makedirs(output_dir)\n",
        "    # return dataframe\n",
        "    art_df = pd.DataFrame({'article':art_arr})\n",
        "    sum_df = pd.DataFrame({'summary':sum_arr})\n",
        "    df = pd.merge(sum_df,art_df,left_index=True,right_index=True)\n",
        "    return df.to_csv(category+'.csv')\n",
        "  \n",
        "categories = ['business', 'entertainment', 'politics', 'sport', 'tech']\n",
        "\n",
        "def art_or_sum(category):\n",
        "  artpath = './BBC News Summary/News Articles/' + category +'/'\n",
        "  sumpath = './BBC News Summary/Summaries/' + category +'/'\n",
        "  return artpath, sumpath\n",
        "\n",
        "for i in categories:\n",
        "  art, summ = art_or_sum(i)\n",
        "  merge_art_sum(art, summ, i)"
      ],
      "execution_count": 0,
      "outputs": []
    },
    {
      "cell_type": "code",
      "metadata": {
        "id": "CfT5589_V75I",
        "colab_type": "code",
        "cellView": "both",
        "colab": {}
      },
      "source": [
        "#@title\n",
        "pol = pd.read_csv('politics.csv')\n",
        "biz = pd.read_csv('business.csv')\n",
        "ent = pd.read_csv('entertainment.csv')\n",
        "tech = pd.read_csv('tech.csv')\n",
        "sport = pd.read_csv('sport.csv')"
      ],
      "execution_count": 0,
      "outputs": []
    },
    {
      "cell_type": "code",
      "metadata": {
        "id": "B5av97tShN42",
        "colab_type": "code",
        "cellView": "both",
        "colab": {}
      },
      "source": [
        "#@title\n",
        "def strip_sum_art(df):\n",
        "  df = df.drop('Unnamed: 0', 1)\n",
        "  df.summary = df.summary.str.strip('[]')\n",
        "  df.article = df.article.str.strip('[]')\n",
        "  df.summary = df.summary.replace('\\n',' ', regex=True)\n",
        "  df.article = df.article.replace(r'\\\\n',' ', regex=True)\n",
        "  df.article = df.article.str.strip('\"').replace('\"', '')\n",
        "  columns_headers = [\"article\", \"summary\"]\n",
        "  df = df.reindex(columns=columns_headers)\n",
        "  return df"
      ],
      "execution_count": 0,
      "outputs": []
    },
    {
      "cell_type": "code",
      "metadata": {
        "id": "yNSRJnkXjxdM",
        "colab_type": "code",
        "cellView": "both",
        "colab": {}
      },
      "source": [
        "#@title\n",
        "pol = strip_sum_art(pol)\n",
        "biz = strip_sum_art(biz)\n",
        "ent = strip_sum_art(ent)\n",
        "tech = strip_sum_art(tech)\n",
        "sport = strip_sum_art(sport)"
      ],
      "execution_count": 0,
      "outputs": []
    },
    {
      "cell_type": "code",
      "metadata": {
        "id": "010KUs34kB54",
        "colab_type": "code",
        "cellView": "both",
        "colab": {}
      },
      "source": [
        "#@title\n",
        "pol.head()"
      ],
      "execution_count": 0,
      "outputs": []
    },
    {
      "cell_type": "code",
      "metadata": {
        "id": "iLv7VhI2mBD-",
        "colab_type": "code",
        "cellView": "both",
        "colab": {}
      },
      "source": [
        "#@title\n",
        "df = pol.merge(biz, how='outer')\n",
        "df = df.merge(ent, how='outer')\n",
        "df = df.merge(tech, how='outer')\n",
        "df = df.merge(sport, how='outer')"
      ],
      "execution_count": 0,
      "outputs": []
    },
    {
      "cell_type": "code",
      "metadata": {
        "id": "CuH4mnkUZCOH",
        "colab_type": "code",
        "cellView": "both",
        "colab": {}
      },
      "source": [
        "#@title\n",
        "from sklearn.model_selection import train_test_split\n",
        "\n",
        "trn, val = train_test_split(df, test_size=0.2)"
      ],
      "execution_count": 0,
      "outputs": []
    },
    {
      "cell_type": "code",
      "metadata": {
        "id": "FuClHZHaZdiD",
        "colab_type": "code",
        "cellView": "both",
        "colab": {}
      },
      "source": [
        "#@title\n",
        "trn.to_csv('train.csv', index=False)\n",
        "val.to_csv('valid.csv', index=False)"
      ],
      "execution_count": 0,
      "outputs": []
    },
    {
      "cell_type": "code",
      "metadata": {
        "id": "HfM29JT1ZrLA",
        "colab_type": "code",
        "cellView": "both",
        "colab": {}
      },
      "source": [
        "#@title\n",
        "trn = pd.read_csv('train.csv')\n",
        "val = pd.read_csv('valid.csv')\n",
        "val.head()"
      ],
      "execution_count": 0,
      "outputs": []
    },
    {
      "cell_type": "code",
      "metadata": {
        "id": "vOfPnemGYpwM",
        "colab_type": "code",
        "cellView": "both",
        "colab": {}
      },
      "source": [
        "#@title\n",
        "from sklearn.model_selection import train_test_split\n",
        "\n",
        "trn_data_fields = [(\"source\", TEXT),\n",
        "                  (\"target\", TEXT)]\n",
        "\n",
        "trn, vld = data.TabularDataset.splits(path='./',\n",
        "                                     train='train.csv', validation='valid.csv',\n",
        "                                     format='csv', skip_header=True, fields=trn_data_fields)"
      ],
      "execution_count": 0,
      "outputs": []
    },
    {
      "cell_type": "code",
      "metadata": {
        "id": "xoT8S35JadN9",
        "colab_type": "code",
        "cellView": "both",
        "colab": {}
      },
      "source": [
        "#@title\n",
        "print(trn[0].source, trn[0].target)"
      ],
      "execution_count": 0,
      "outputs": []
    },
    {
      "cell_type": "code",
      "metadata": {
        "id": "iXgteKTlmosv",
        "colab_type": "code",
        "cellView": "both",
        "colab": {}
      },
      "source": [
        "#@title\n",
        "pre_trained_vector_type = 'glove.6B.200d' \n",
        "TEXT.build_vocab(trn, vectors=pre_trained_vector_type )"
      ],
      "execution_count": 0,
      "outputs": []
    },
    {
      "cell_type": "code",
      "metadata": {
        "id": "zsBkhMGSmrlJ",
        "colab_type": "code",
        "cellView": "both",
        "colab": {}
      },
      "source": [
        "#@title\n",
        "TEXT.vocab.freqs.most_common(10)"
      ],
      "execution_count": 0,
      "outputs": []
    },
    {
      "cell_type": "code",
      "metadata": {
        "id": "K3g53CLMmwOt",
        "colab_type": "code",
        "cellView": "both",
        "colab": {}
      },
      "source": [
        "#@title\n",
        "import torch\n",
        "\n",
        "USE_GPU = torch.cuda.is_available()\n",
        "print('USE_GPU={}'.format(USE_GPU))\n",
        "if USE_GPU:\n",
        "    print('current_device={}'.format(torch.cuda.current_device()))\n",
        "\n",
        "batch_size = 4\n",
        "\n",
        "train_iter, val_iter = data.BucketIterator.splits(\n",
        "                        (trn, vld), batch_sizes=(batch_size, int(batch_size*1.6)),\n",
        "                        device=(0 if USE_GPU else -1), \n",
        "                        sort_key=lambda x: len(x.source),\n",
        "                        shuffle=True, sort_within_batch=False, repeat=False)\n",
        "\n",
        "class BatchTuple():\n",
        "    def __init__(self, dataset, x_var, y_var):\n",
        "        self.dataset, self.x_var, self.y_var = dataset, x_var, y_var\n",
        "        \n",
        "    def __iter__(self):\n",
        "        for batch in self.dataset:\n",
        "            x = getattr(batch, self.x_var) \n",
        "            y = getattr(batch, self.y_var)                 \n",
        "            yield (x, y)\n",
        "            \n",
        "    def __len__(self):\n",
        "        return len(self.dataset)\n",
        "      \n",
        "train_iter_tuple = BatchTuple(train_iter, \"source\", \"target\")\n",
        "val_iter_tuple = BatchTuple(val_iter, \"source\", \"target\")"
      ],
      "execution_count": 0,
      "outputs": []
    },
    {
      "cell_type": "code",
      "metadata": {
        "id": "SI3s5hljoRSs",
        "colab_type": "code",
        "cellView": "both",
        "colab": {}
      },
      "source": [
        "#@title\n",
        "next(iter(train_iter_tuple))"
      ],
      "execution_count": 0,
      "outputs": []
    },
    {
      "cell_type": "code",
      "metadata": {
        "id": "LxuQi4pxof32",
        "colab_type": "code",
        "cellView": "both",
        "colab": {}
      },
      "source": [
        "#@title\n",
        "!pip install fastai -U"
      ],
      "execution_count": 0,
      "outputs": []
    },
    {
      "cell_type": "code",
      "metadata": {
        "id": "cT-SA-sephcJ",
        "colab_type": "code",
        "cellView": "both",
        "colab": {}
      },
      "source": [
        "#@title\n",
        "from fastai.text import *\n",
        "\n",
        "model_data = ModelData('./', trn_dl=train_iter_tuple, val_dl=val_iter_tuple)\n",
        "\n",
        "len(model_data.trn_dl), len(model_data.val_dl), len(TEXT.vocab)"
      ],
      "execution_count": 0,
      "outputs": []
    },
    {
      "cell_type": "code",
      "metadata": {
        "id": "dGBihWmsppfx",
        "colab_type": "code",
        "cellView": "both",
        "colab": {}
      },
      "source": [
        "#@title\n",
        "t, z = next(model_data.trn_dl.__iter__())\n",
        "t.size(), z.size()"
      ],
      "execution_count": 0,
      "outputs": []
    },
    {
      "cell_type": "code",
      "metadata": {
        "id": "37rl4Zzzqcul",
        "colab_type": "code",
        "cellView": "both",
        "colab": {}
      },
      "source": [
        "#@title\n",
        "sample_source = t.transpose(1,0)[0].data.cpu().numpy()\n",
        "sample_target = z.transpose(1,0)[0].data.cpu().numpy()\n",
        "\n",
        "print(\"source:\\n%s \\n\\ncorresponding tensor:\\n%s \\n\" %(' '.join([TEXT.vocab.itos[o] for o in sample_source]), sample_source))\n",
        "print(\"target:\\n%s \\n\\ncorresponding tensor:\\n%s \\n\" %(' '.join([TEXT.vocab.itos[o] for o in sample_target]), sample_target))"
      ],
      "execution_count": 0,
      "outputs": []
    },
    {
      "cell_type": "markdown",
      "metadata": {
        "id": "cn7ohgy_rAmn",
        "colab_type": "text"
      },
      "source": [
        "##Model\n",
        "\n",
        "The sequence model, consists of:\n",
        "\n",
        "- single layer encoder-decoder RNNs (biGRU-to-uniGRU)\n",
        "- feed-forward attention network (bahdanau)\n",
        "- option for luong global dot attention\n",
        "- option for teacher forcing\n",
        "- option for tied embeddings\n",
        "- option for multi-layer model\n",
        "- option for regularization (dropout)"
      ]
    },
    {
      "cell_type": "code",
      "metadata": {
        "id": "ToOKE1HKq-rW",
        "colab_type": "code",
        "cellView": "both",
        "colab": {}
      },
      "source": [
        "#@title\n",
        "import torch.nn.functional as F\n",
        "import torch.nn as nn"
      ],
      "execution_count": 0,
      "outputs": []
    },
    {
      "cell_type": "code",
      "metadata": {
        "id": "mJTnTSA5rN9J",
        "colab_type": "code",
        "cellView": "both",
        "colab": {}
      },
      "source": [
        "#@title\n",
        "class Seq2SeqRNN(nn.Module):\n",
        "    \n",
        "    def __init__(self, rnn_type, input_size, embz_size, hidden_size, batch_size,output_size,max_tgt_len,\n",
        "                 attention_type, tied_weight_type, pre_trained_vector, pre_trained_vector_type, padding_idx,\n",
        "                 num_layers=1, encoder_drop=(0.0,0.0), decoder_drop=(0.0,0.0), \n",
        "                 bidirectional=True, bias=False, teacher_forcing=True):\n",
        "        \n",
        "        super().__init__()\n",
        "        \n",
        "        rnn_type, attention_type, tied_weight_type = rnn_type.upper(), attention_type.title(), tied_weight_type.lower()\n",
        "        \n",
        "        if rnn_type in ['LSTM', 'GRU']: self.rnn_type = rnn_type\n",
        "        else: raise ValueError(\"\"\"An invalid option for '--rnn_type' was supplied,\n",
        "                                    options are ['LSTM', 'GRU']\"\"\")\n",
        "            \n",
        "        if attention_type in ['Luong', 'Bahdanau']: self.attention_type = attention_type\n",
        "        else: raise ValueError(\"\"\"An invalid option for '--attention_type' was supplied,\n",
        "                                    options are ['Luong', 'Bahdanau']\"\"\")\n",
        "            \n",
        "        if tied_weight_type in ['three_way', 'two_way']: self.tied_weight_type = tied_weight_type\n",
        "        else: raise ValueError(\"\"\"An invalid option for '--tied_weight_type' was supplied,\n",
        "                                    options are ['three_way', 'two_way']\"\"\")\n",
        "    \n",
        "                    \n",
        "        #initialize model parameters            \n",
        "        self.output_size, self.embz_size, self.hidden_size = output_size, embz_size, hidden_size//2\n",
        "        self.num_layers, self.input_size, self.max_tgt_len, self.pre_trained_vector = num_layers, input_size, max_tgt_len, pre_trained_vector\n",
        "        self.bidirectional,self.teacher_forcing, self.pre_trained_vector_type = bidirectional, teacher_forcing, pre_trained_vector_type\n",
        "        self.encoder_drop, self.decoder_drop, self.padding_idx = encoder_drop, decoder_drop, padding_idx\n",
        "        \n",
        "        \n",
        "        if self.teacher_forcing: self.force_prob = 1.0\n",
        "        \n",
        "        #set bidirectional\n",
        "        if self.bidirectional: self.num_directions = 2\n",
        "        else: self.num_directions = 1\n",
        "            \n",
        "        \n",
        "        #encoder\n",
        "        self.encoder_dropout = nn.Dropout(self.encoder_drop[0])\n",
        "        self.encoder_embedding_layer = nn.Embedding(self.input_size, self.embz_size, padding_idx=self.padding_idx)\n",
        "        if self.pre_trained_vector: self.encoder_embedding_layer.weight.data.copy_(self.pre_trained_vector.weight.data)\n",
        "            \n",
        "        self.encoder_rnn = getattr(nn, self.rnn_type)(\n",
        "                           input_size=self.embz_size,\n",
        "                           hidden_size=self.hidden_size,\n",
        "                           num_layers=self.num_layers,\n",
        "                           dropout=self.encoder_drop[1], \n",
        "                           bidirectional=self.bidirectional)\n",
        "        self.encoder_vector_layer = nn.Linear(self.hidden_size*self.num_directions,self.embz_size, bias=bias)\n",
        "        \n",
        "       #decoder\n",
        "        self.decoder_dropout = nn.Dropout(self.decoder_drop[0])\n",
        "        self.decoder_embedding_layer = nn.Embedding(self.input_size, self.embz_size, padding_idx=self.padding_idx)\n",
        "        self.decoder_rnn = getattr(nn, self.rnn_type)(\n",
        "                           input_size=self.embz_size,\n",
        "                           hidden_size=self.hidden_size*self.num_directions,\n",
        "                           num_layers=self.num_layers,\n",
        "                           dropout=self.decoder_drop[1]) \n",
        "        self.decoder_output_layer = nn.Linear(self.hidden_size*self.num_directions, self.embz_size, bias=bias)\n",
        "        self.output_layer = nn.Linear(self.embz_size, self.output_size, bias=bias)\n",
        "        \n",
        "        #set tied weights: three way tied weights vs two way tied weights\n",
        "        if self.tied_weight_type == 'three_way':\n",
        "            self.decoder_embedding_layer.weight  = self.encoder_embedding_layer.weight\n",
        "            self.output_layer.weight = self.decoder_embedding_layer.weight  \n",
        "        else:\n",
        "            if self.pre_trained_vector: self.decoder_embedding_layer.weight.data.copy_(self.pre_trained_vector.weight.data)\n",
        "            self.output_layer.weight = self.decoder_embedding_layer.weight  \n",
        "            \n",
        "        #set attention\n",
        "        self.encoder_output_layer = nn.Linear(self.hidden_size*self.num_directions, self.embz_size, bias=bias)\n",
        "        self.att_vector_layer = nn.Linear(self.embz_size+self.embz_size, self.embz_size,bias=bias)\n",
        "        if self.attention_type == 'Bahdanau':\n",
        "            self.decoder_hidden_layer = nn.Linear(self.hidden_size*self.num_directions, self.embz_size, bias=bias)\n",
        "            self.att_score = nn.Linear(self.embz_size,1,bias=bias)\n",
        "\n",
        "            \n",
        "    \n",
        "    def init_hidden(self, batch_size):\n",
        "        if self.rnn_type == 'LSTM':\n",
        "            return (V(torch.zeros(self.num_layers*self.num_directions, batch_size, self.hidden_size)),\n",
        "                    V(torch.zeros(self.num_layers*self.num_directions, batch_size, self.hidden_size)))\n",
        "        else:\n",
        "            return V(torch.zeros(self.num_layers*self.num_directions, batch_size, self.hidden_size))\n",
        "   \n",
        "\n",
        "    def _cat_directions(self, hidden):\n",
        "        def _cat(h):\n",
        "            return torch.cat([h[0:h.size(0):2], h[1:h.size(0):2]], 2)\n",
        "            \n",
        "        if isinstance(hidden, tuple):\n",
        "            # LSTM hidden contains a tuple (hidden state, cell state)\n",
        "            hidden = tuple([_cat(h) for h in hidden])\n",
        "        else:\n",
        "            # GRU hidden\n",
        "            hidden = _cat(hidden)\n",
        "        return hidden    \n",
        "    \n",
        "    \n",
        "    def bahdanau_attention(self, encoder_output, decoder_hidden, decoder_input):\n",
        "        encoder_output = self.encoder_output_layer(encoder_output) \n",
        "        encoder_output = encoder_output.transpose(0,1)\n",
        "        decoder_hidden = decoder_hidden.transpose(0,1)\n",
        "        att_score = F.tanh(encoder_output + decoder_hidden)\n",
        "        att_score = self.att_score(att_score)\n",
        "        att_weight = F.softmax(att_score, dim=1)\n",
        "        context_vector = torch.bmm(att_weight.transpose(-1, 1), encoder_output).squeeze(1)\n",
        "        att_vector = torch.cat((context_vector, decoder_input), dim=1)\n",
        "        att_vector = self.att_vector_layer(att_vector)\n",
        "        return att_weight.squeeze(-1), att_vector\n",
        "    \n",
        "    \n",
        "    def luong_attention(self, encoder_output, decoder_output):\n",
        "        encoder_output = self.encoder_output_layer(encoder_output) \n",
        "        encoder_output = encoder_output.transpose(0,1)\n",
        "        decoder_output = decoder_output.transpose(0,1)\n",
        "        att_score = torch.bmm(encoder_output, decoder_output.transpose(-1,1))\n",
        "        att_weight = F.softmax(att_score, dim=1)\n",
        "        context_vector = torch.bmm(att_weight.transpose(-1, 1), encoder_output).squeeze(1)\n",
        "        att_vector = torch.cat((context_vector, decoder_output.squeeze(1)), dim=1)\n",
        "        att_vector = self.att_vector_layer(att_vector)\n",
        "        att_vector = F.tanh(att_vector)\n",
        "        return att_weight.squeeze(-1), att_vector\n",
        "        \n",
        "    def decoder_forward(self, batch_size, encoder_output, decoder_hidden, y=None):\n",
        "        decoder_input = V(torch.zeros(batch_size).long())  \n",
        "        output_seq_stack, att_stack = [], []\n",
        "        \n",
        "        for i in range(self.max_tgt_len):\n",
        "            decoder_input = self.decoder_dropout(self.decoder_embedding_layer(decoder_input))\n",
        "            if self.attention_type == 'Bahdanau':\n",
        "                if isinstance(decoder_hidden, tuple):\n",
        "                    prev_hidden = self.decoder_hidden_layer(decoder_hidden[0][-1]).unsqueeze(0)\n",
        "                else:\n",
        "                    prev_hidden = self.decoder_hidden_layer(decoder_hidden[-1]).unsqueeze(0) \n",
        "                att, decoder_input = self.bahdanau_attention(encoder_output, prev_hidden, decoder_input)\n",
        "                decoder_output, decoder_hidden = self.decoder_rnn(decoder_input.unsqueeze(0), decoder_hidden)\n",
        "                decoder_output = self.decoder_output_layer(decoder_output.squeeze(0)) \n",
        "            else:\n",
        "                decoder_output, decoder_hidden = self.decoder_rnn(decoder_input.unsqueeze(0), decoder_hidden)\n",
        "                decoder_output = self.decoder_output_layer(decoder_output) \n",
        "                att, decoder_output = self.luong_attention(encoder_output, decoder_output)\n",
        "            att_stack.append(att)\n",
        "            output = self.output_layer(decoder_output)\n",
        "            output_seq_stack.append(output)\n",
        "            decoder_input = V(output.data.max(1)[1])\n",
        "            if (decoder_input==1).all(): break \n",
        "            if self.teacher_forcing:    \n",
        "                samp_prob = round(random.random(),1)\n",
        "                if (y is not None) and (samp_prob < self.force_prob):\n",
        "                    if i >= len(y): break\n",
        "                    decoder_input = y[i] \n",
        "                \n",
        "        return torch.stack(output_seq_stack), torch.stack(att_stack)\n",
        "        \n",
        "                \n",
        "    def forward(self, seq, y=None):\n",
        "        batch_size = seq[0].size(0)\n",
        "        encoder_hidden = self.init_hidden(batch_size)\n",
        "        encoder_input = self.encoder_dropout(self.encoder_embedding_layer(seq))\n",
        "        encoder_output, encoder_hidden = self.encoder_rnn(encoder_input, encoder_hidden) \n",
        "        if self.bidirectional:\n",
        "            encoder_hidden = self._cat_directions(encoder_hidden)\n",
        "        output = self.decoder_forward(batch_size, encoder_output, encoder_hidden, y=y)\n",
        "        if isinstance(encoder_hidden, tuple):\n",
        "            encoder_vector = self.encoder_vector_layer(encoder_hidden[0][-1])\n",
        "        else:\n",
        "            encoder_vector = self.encoder_vector_layer(encoder_hidden[-1])\n",
        "        output = output + (encoder_vector,)  \n",
        "        return output"
      ],
      "execution_count": 0,
      "outputs": []
    },
    {
      "cell_type": "code",
      "metadata": {
        "id": "kU_N38VWrjrB",
        "colab_type": "code",
        "outputId": "8bc8a39c-d335-4c75-d6af-00b4a9f35683",
        "cellView": "both",
        "colab": {
          "base_uri": "https://localhost:8080/",
          "height": 33
        }
      },
      "source": [
        "#@title\n",
        "its = [next(model_data.trn_dl.__iter__())[1] for i in range(10)]\n",
        "max_tgt_len = int(np.percentile([its[o].size()[0] for o in range(len(its))], 99))\n",
        "max_tgt_len"
      ],
      "execution_count": 0,
      "outputs": [
        {
          "output_type": "execute_result",
          "data": {
            "text/plain": [
              "711"
            ]
          },
          "metadata": {
            "tags": []
          },
          "execution_count": 277
        }
      ]
    },
    {
      "cell_type": "code",
      "metadata": {
        "id": "W-NymR0srR2z",
        "colab_type": "code",
        "cellView": "both",
        "colab": {}
      },
      "source": [
        "#@title\n",
        "def save_pickle(path, filename, file):\n",
        "    \"\"\"Function to save file as pickle\"\"\"\n",
        "    with open(f'{path}/{filename}', 'wb') as f:\n",
        "        pickle.dump(file, f)\n",
        "\n",
        "        \n",
        "def norm_pre_trained_embeddings(vecs, itos, em_sz, padding_idx):\n",
        "    \"\"\"Function to load and normalize pretrained vectors\"\"\"\n",
        "    emb = nn.Embedding(len(itos), em_sz, padding_idx=padding_idx)\n",
        "    wgts = emb.weight.data\n",
        "    for i,w in enumerate(itos):\n",
        "        try: \n",
        "            wgts[i] = torch.from_numpy(vecs[w]-vec_mean)\n",
        "            wgts[i] = torch.from_numpy(vecs[w]/vec_std)\n",
        "        except: pass \n",
        "    emb.weight.requires_grad = False    \n",
        "    return emb\n",
        "\n",
        "\n",
        "def embedding_param(path, data_field, pre_trained_vector_type, embz_size=128, save_vocab=False, itos='itos', stoi='stoi'):\n",
        "    \"\"\"Returns embedding parameters\"\"\"\n",
        "    pre_trained=None\n",
        "    padding_idx = data_field.vocab.stoi['<pad>']\n",
        "    index_to_string, string_to_index = data_field.vocab.itos, data_field.vocab.stoi\n",
        "    if save_vocab:\n",
        "        vocab_path = os.path.join(path, \"vocab\")\n",
        "        os.makedirs(vocab_path, exist_ok=True)\n",
        "        save_pickle(vocab_path, f'{itos}.pk', index_to_string) \n",
        "        save_pickle(vocab_path, f'{stoi}.pk', string_to_index) \n",
        "    if pre_trained_vector_type:\n",
        "        vec_mean, vec_std = data_field.vocab.vectors.numpy().mean(), data_field.vocab.vectors.numpy().std()\n",
        "        print('pre_trained_vector_mean = %s, pre_trained_vector_std = %s'%(vec_mean, vec_std))\n",
        "        vector_weight_matrix = data_field.vocab.vectors\n",
        "        embz_size = vector_weight_matrix.size(1)\n",
        "        pre_trained = norm_pre_trained_embeddings(vector_weight_matrix, index_to_string, embz_size, padding_idx)\n",
        "        print('Normalizing.... \\npre_trained_vector_mean = %s, pre_trained_vector_std = %s' %(pre_trained.weight.data.numpy().mean(), pre_trained.weight.data.numpy().std()))\n",
        "    return pre_trained, embz_size, padding_idx"
      ],
      "execution_count": 0,
      "outputs": []
    },
    {
      "cell_type": "code",
      "metadata": {
        "id": "OpXecZHzsN2U",
        "colab_type": "code",
        "cellView": "both",
        "colab": {}
      },
      "source": [
        "#@title\n",
        "rev=0\n",
        "rev += 1\n",
        "print(\"rev = %s\" %rev)\n",
        "\n",
        "pre_trained_vector,  embz_size, padding_idx = embedding_param('./', TEXT, pre_trained_vector_type, save_vocab=True)\n",
        "\n",
        "input_size = len(TEXT.vocab)\n",
        "hidden_size = 400\n",
        "output_size =  len(TEXT.vocab)\n",
        "rnn_type = 'gru'\n",
        "tied_weight_type ='three_way'\n",
        "max_tgt_len = max_tgt_len"
      ],
      "execution_count": 0,
      "outputs": []
    },
    {
      "cell_type": "code",
      "metadata": {
        "id": "PNUUi6cwslVT",
        "colab_type": "code",
        "cellView": "both",
        "colab": {}
      },
      "source": [
        "#@title\n",
        "!pip install tensorboardX"
      ],
      "execution_count": 0,
      "outputs": []
    },
    {
      "cell_type": "code",
      "metadata": {
        "id": "I9j5rKrFsXwn",
        "colab_type": "code",
        "cellView": "form",
        "colab": {}
      },
      "source": [
        "#@title\n",
        "from fastai.nlp import *\n",
        "from fastai.model import Stepper\n",
        "\n",
        "class Seq2SeqStepper(Stepper):\n",
        "    def step(self, xs, y, epoch):\n",
        "        output = self.m(*xs, y)\n",
        "        xtra = []\n",
        "        if isinstance(output,tuple): output,*xtra = output\n",
        "        self.opt.zero_grad()\n",
        "        loss = raw_loss = self.crit(output, y)\n",
        "        if self.reg_fn: loss = self.reg_fn(output, xtra, raw_loss)\n",
        "        loss.backward()\n",
        "        if self.clip:   # Gradient clipping\n",
        "            nn.utils.clip_grad_norm(trainable_params_(self.m), self.clip)\n",
        "        self.opt.step()\n",
        "        return raw_loss.data\n",
        "    \n",
        "def seq2seq_loss(input, target):\n",
        "    sl,bs = target.size()\n",
        "    sl_in,bs_in,nc = input.size()\n",
        "    if sl>sl_in: input = F.pad(input, (0,0,0,0,0,sl-sl_in))\n",
        "    input = input[:sl]\n",
        "    return F.cross_entropy(input.view(-1,nc), target.view(-1))#, ignore_index=1)\n",
        "  \n",
        "#custom callbacks\n",
        "from tensorboardX import SummaryWriter\n",
        "from fastai.sgdr import Callback, DecayScheduler\n",
        "from fastai.learner import Learner\n",
        "\n",
        "class TensorboardLogger(Callback):\n",
        "    def __init__(self, path, log_name, metrics_names=[]):\n",
        "        super().__init__()\n",
        "        self.metrics_names = [\"validation_loss\"]\n",
        "        self.metrics_names += metrics_names\n",
        "        log_path = os.path.join(path, \"logs\")\n",
        "        self.log_dir = os.path.join(log_path, log_name)\n",
        "        if os.path.exists(self.log_dir): shutil.rmtree(self.log_dir)\n",
        "        os.makedirs(self.log_dir)\n",
        "        \n",
        "    def on_train_begin(self):\n",
        "        self.iteration = 0\n",
        "        self.epoch = 0\n",
        "        self.writer = SummaryWriter(log_dir=self.log_dir)\n",
        "    def on_batch_begin(self): pass\n",
        "    def on_phase_begin(self): pass\n",
        "    def on_epoch_end(self, metrics):\n",
        "        self.epoch += 1\n",
        "        for val, name in zip(metrics, self.metrics_names):\n",
        "            self.writer.add_scalar(name, val, self.iteration) \n",
        "                        \n",
        "    def on_phase_end(self): pass\n",
        "    def on_batch_end(self, loss):\n",
        "        self.iteration += 1\n",
        "        self.writer.add_scalar(\"training_loss\", loss, self.iteration)\n",
        "    def on_train_end(self):\n",
        "        self.writer.close()\n",
        "        \n",
        "        \n",
        "class BestModelCheckPoint(Callback):\n",
        "    def __init__(self, learner, path, model_name, lr):\n",
        "        super().__init__()\n",
        "        self.learner = learner\n",
        "        self.model_name = model_name\n",
        "        self.learning_rate = lr\n",
        "        self.model_log = {}\n",
        "        self.model_path = self.learner.models_path\n",
        "        os.makedirs(self.model_path, exist_ok=True)\n",
        "\n",
        "    def on_train_begin(self): \n",
        "        self.first_epoch = True\n",
        "        self.epoch = 0\n",
        "        self.best_loss = 0.\n",
        "\n",
        "    def on_batch_begin(self): pass\n",
        "    def on_phase_begin(self): pass\n",
        "    def on_epoch_end(self, metrics): \n",
        "        self.epoch += 1\n",
        "        self.val_loss = metrics[0]\n",
        "        if self.first_epoch:\n",
        "            self.best_loss = self.val_loss\n",
        "            self.first_epoch = False\n",
        "        elif self.val_loss < self.best_loss:\n",
        "            self.best_loss = self.val_loss\n",
        "            self.learner.save(self.model_name)\n",
        "            self.model_log['training_loss'] = [str(self.train_losses)]\n",
        "            self.model_log['validation_loss'] = [str(self.val_loss)]\n",
        "            self.model_log['epoch_num'] = [str(self.epoch)]\n",
        "            self.model_log['learning_rate'] = [str(self.learning_rate)]\n",
        "            self.model_log['model_info'] = [w for s in [str(self.learner.model)] for w in s.split('\\n')]\n",
        "            self.model_log['model_info'].append(\"(attention_type): %s\" %self.learner.model.attention_type)\n",
        "            self.model_log['model_info'].append(\"(weight_tie): %s\" %self.learner.model.tied_weight_type)\n",
        "            self.model_log['model_info'].append(\"(pre_trained_vector_type): %s\" %self.learner.model.pre_trained_vector_type)\n",
        "            self.model_log['model_info'].append(\"(teacher_forcing): %s\" %self.learner.model.teacher_forcing)\n",
        "            if self.learner.model.teacher_forcing: self.model_log['model_info'].append(\"(teacher_forcing_prob): %s\" %self.learner.model.force_prob)\n",
        "            with open(f'{self.model_path}/{self.model_name}_model_log.json', 'w') as d: json.dump(self.model_log, d)\n",
        "        else: pass        \n",
        "    def on_phase_end(self): pass\n",
        "    def on_batch_end(self, loss):\n",
        "        self.train_losses = loss\n",
        "    def on_train_end(self): \n",
        "            self.learner.save(f'{self.model_name}_train_end')\n",
        "            self.model_log['training_loss'] = [str(self.train_losses)]\n",
        "            self.model_log['validation_loss'] = [str(self.val_loss)]\n",
        "            self.model_log['epoch_num'] = [str(self.epoch)]\n",
        "            self.model_log['learning_rate'] = [str(self.learning_rate)]\n",
        "            self.model_log['model_info'] = [w for s in [str(self.learner.model)] for w in s.split('\\n')]\n",
        "            self.model_log['model_info'].append(\"(attention_type): %s\" %self.learner.model.attention_type)\n",
        "            self.model_log['model_info'].append(\"(weight_tie): %s\" %self.learner.model.tied_weight_type)\n",
        "            self.model_log['model_info'].append(\"(pre_trained_vector_type): %s\" %self.learner.model.pre_trained_vector_type)\n",
        "            self.model_log['model_info'].append(\"(teacher_forcing): %s\" %self.learner.model.teacher_forcing)\n",
        "            if self.learner.model.teacher_forcing: self.model_log['model_info'].append(\"(teacher_forcing_prob): %s\" %self.learner.model.force_prob)\n",
        "            with open(f'{self.model_path}/{self.model_name}_train_end_model_log.json', 'w') as d: json.dump(self.model_log, d)\n",
        "\n",
        "class TeacherForcingSched(Callback):\n",
        "    def __init__(self, learner, scheduler):\n",
        "        super().__init__()\n",
        "        self.learner = learner\n",
        "        self.scheduler = scheduler\n",
        "        \n",
        "    def on_train_begin(self): \n",
        "        self.learner.model.force_prob = round(self.scheduler.next_val(),1)\n",
        "        \n",
        "    def on_batch_begin(self): pass\n",
        "    def on_phase_begin(self): pass\n",
        "    def on_epoch_end(self, metrics): \n",
        "        self.learner.model.force_prob = round(self.scheduler.next_val(),1)\n",
        "        \n",
        "    def on_phase_end(self): pass\n",
        "    def on_batch_end(self, loss):pass\n",
        "    def on_train_end(self): pass"
      ],
      "execution_count": 0,
      "outputs": []
    },
    {
      "cell_type": "code",
      "metadata": {
        "id": "pwdLYlLIsqP2",
        "colab_type": "code",
        "cellView": "form",
        "colab": {}
      },
      "source": [
        "#@title\n",
        "attention_type='luong'\n",
        "model_luong = Seq2SeqRNN(rnn_type, input_size, embz_size, hidden_size, 1, output_size, 20,\n",
        "               attention_type, tied_weight_type, pre_trained_vector, pre_trained_vector_type, padding_idx)\n",
        "\n",
        "print('='*100)\n",
        "print('Model log:')\n",
        "print(model_luong, '\\n')\n",
        "print('- attention_type = {} \\n'.format(model_luong.attention_type))\n",
        "print('- weight_tie = {} \\n'.format(model_luong.tied_weight_type))\n",
        "print('- teacher_forcing = {} \\n '.format(model_luong.teacher_forcing)) \n",
        "print('- pre_trained_embedding = {} \\n'.format(model_luong.pre_trained_vector_type)) \n",
        "print('='*100 + '\\n')\n",
        "\n",
        "if USE_GPU:\n",
        "    model_luong.cuda()\n",
        "opt_fn = partial(optim.Adam, betas=(0.8, 0.99))\n",
        "learn_luong = RNN_Learner(model_data, SingleModel(model_luong), opt_fn=opt_fn)\n",
        "learn_luong.crit = seq2seq_loss"
      ],
      "execution_count": 0,
      "outputs": []
    },
    {
      "cell_type": "code",
      "metadata": {
        "id": "JBALIvg2tH3H",
        "colab_type": "code",
        "cellView": "form",
        "colab": {}
      },
      "source": [
        "#@title\n",
        "learn_luong.lr_find()\n",
        "learn_luong.sched.plot()"
      ],
      "execution_count": 0,
      "outputs": []
    },
    {
      "cell_type": "code",
      "metadata": {
        "id": "BC0zoZEkvrju",
        "colab_type": "code",
        "cellView": "form",
        "colab": {}
      },
      "source": [
        "#@title\n",
        "# Luong Attention model\n",
        "lr=1e-3\n",
        "model_name = f'{model_luong.rnn_type}_{model_luong.attention_type}_rev_{rev}'.lower()\n",
        "cycle_len=15\n",
        "best_model = BestModelCheckPoint(learn_luong, model_data.path, model_name, lr)\n",
        "tb_logger = TensorboardLogger(model_data.path, model_name)\n",
        "sched = DecayScheduler(DecayType.LINEAR, cycle_len, 0.5, 0.1)\n",
        "teach_forcer = TeacherForcingSched(learn_luong, sched)\n",
        "learn_luong.fit(lr, 1, cycle_len=cycle_len, use_clr=(20,10), stepper=Seq2SeqStepper, \\\n",
        "          callbacks=[tb_logger, teach_forcer, best_model])"
      ],
      "execution_count": 0,
      "outputs": []
    },
    {
      "cell_type": "code",
      "metadata": {
        "id": "VgCj1qkwwbnQ",
        "colab_type": "code",
        "cellView": "form",
        "colab": {}
      },
      "source": [
        "#@title\n",
        "import matplotlib.ticker as ticker\n",
        "# function for plotting the attention weights\n",
        "def plot_attention(attention, sentence, predicted_sentence):\n",
        "    fig = plt.figure(figsize=(10,10))\n",
        "    ax = fig.add_subplot(1, 1, 1)\n",
        "    ax.matshow(attention, cmap='viridis')\n",
        "    fontdict = {'fontsize': 14}\n",
        "    ax.set_xticklabels([''] + sentence, fontdict=fontdict, rotation=90)\n",
        "    ax.set_yticklabels([''] + predicted_sentence, fontdict=fontdict)\n",
        "    ax.xaxis.set_major_locator(ticker.MultipleLocator(1))\n",
        "    ax.yaxis.set_major_locator(ticker.MultipleLocator(1))\n",
        "    plt.show()\n",
        "    \n",
        "    \n",
        "def generate(x, y, m):\n",
        "    probs = m.model(V(x))\n",
        "    preds, attention, encoder_embedding = to_np(probs[0].max(2)[1]), to_np(probs[1].squeeze(1)), to_np(probs[2])\n",
        "    sentence = ' '.join([index_to_string[o] for o in x[:,0].data.cpu().numpy() if o != 1])\n",
        "    result = ' '.join([index_to_string[o] for o in preds[:,0] if o!=1])\n",
        "    orig = ' '.join([index_to_string[o] for o in y[:,0].data.cpu().numpy() if o != 1])\n",
        "    print('Input: {}'.format(sentence), '\\n')\n",
        "    print('Original summary: {}'.format(orig), '\\n')\n",
        "    print('Predicted summary: {}'.format(result))\n",
        "    attention_plot = attention[:len(result.split(' ')), :len(sentence.split(' '))]\n",
        "    plot_attention(attention_plot, sentence.split(' '), result.split(' '))\n",
        "    return preds, attention, encoder_embedding\n",
        "  \n",
        "attention_type='luong'\n",
        "model_luong = Seq2SeqRNN(rnn_type, input_size, embz_size, hidden_size, batch_size, output_size, max_tgt_len,\n",
        "               attention_type, tied_weight_type, pre_trained_vector, pre_trained_vector_type, padding_idx)\n",
        "if USE_GPU:\n",
        "    model_luong.cuda()\n",
        "learn_luong = RNN_Learner(model_data, SingleModel(model_luong))\n",
        "learn_luong.load('gru_luong_rev_1_train_end')\n",
        "\n",
        "attention_type='bahdanau'\n",
        "model_bahdanau = Seq2SeqRNN(rnn_type, input_size, embz_size, hidden_size, batch_size, output_size, max_tgt_len,\n",
        "               attention_type, tied_weight_type, pre_trained_vector, pre_trained_vector_type, padding_idx)\n",
        "if USE_GPU:\n",
        "    model_bahdanau.cuda()\n",
        "learn_bahdanau = RNN_Learner(model_data, SingleModel(model_bahdanau))\n",
        "learn_bahdanau.load('gru_bahdanau_rev_1_train_end')\n",
        "\n",
        "# Luong (Global Dot) Attention\n",
        "x,y = next(iter(model_data.trn_dl))\n",
        "for i in range(1):\n",
        "    print(i)\n",
        "    preds, attention, encoder_embedding = generate(x.transpose(1,0)[i].unsqueeze(1), y.transpose(1,0)[i].unsqueeze(1), learn_luong)"
      ],
      "execution_count": 0,
      "outputs": []
    },
    {
      "cell_type": "code",
      "metadata": {
        "id": "YaKIlUldwoTa",
        "colab_type": "code",
        "cellView": "form",
        "colab": {}
      },
      "source": [
        "#@title\n",
        "# Bahdanau Attention\n",
        "for i in range(1):\n",
        "    print(i)\n",
        "    preds, attention, encoder_embedding = generate(x.transpose(1,0)[i].unsqueeze(1), y.transpose(1,0)[i].unsqueeze(1), learn_bahdanau)"
      ],
      "execution_count": 0,
      "outputs": []
    },
    {
      "cell_type": "code",
      "metadata": {
        "id": "fYnmlhAAUdMH",
        "colab_type": "code",
        "colab": {}
      },
      "source": [
        "#########FASTAI~~END~~~~~~#########"
      ],
      "execution_count": 0,
      "outputs": []
    },
    {
      "cell_type": "code",
      "metadata": {
        "id": "vhKfS8aoVSHE",
        "colab_type": "code",
        "cellView": "form",
        "colab": {}
      },
      "source": [
        "#@title train_val_test_split\n",
        "def train_val_test_split(processor, summary, article, split_pct):\n",
        "  max_len = len(summary)\n",
        "  split_point = int(max_len * split_pct)\n",
        "  test_split_point = int((max_len - split_point) / 2)\n",
        "  for (i, path) in enumerate(summary):\n",
        "    if i < split_point:\n",
        "      trn_sum_examples, trn_art_examples = read_files(path[i]), read_files(article[i])\n",
        "    elif i > split_point and i < split_point + test_split_point:\n",
        "      val_sum_examples, val_art_examples = read_files(path[i]), read_files(article[i])\n",
        "    else:\n",
        "      test_sum_examples, test_art_examples = read_files(path[i]), read_files(article[i])\n",
        "      \n",
        "  return trn_sum_examples, trn_sum_examples, val_sum_examples, val_art_examples, test_sum_examples, test_art_examples"
      ],
      "execution_count": 0,
      "outputs": []
    },
    {
      "cell_type": "code",
      "metadata": {
        "id": "_Nuy5CIvc9va",
        "colab_type": "code",
        "colab": {}
      },
      "source": [
        "#@title IO open file\n",
        "import io\n",
        "def read_io_file(input_file):\n",
        "  lines=[]\n",
        "  with io.open(input_file,'r',encoding='utf-8',errors='ignore') as infile:\n",
        "      for line in infile:\n",
        "          lines.append(line.split())\n",
        "  return lines"
      ],
      "execution_count": 0,
      "outputs": []
    },
    {
      "cell_type": "code",
      "metadata": {
        "id": "Y3sn6WqPbIoK",
        "colab_type": "code",
        "cellView": "both",
        "colab": {}
      },
      "source": [
        "#@title Read_files\n",
        "def read_files(input_file, quotechar=None):\n",
        "      \"\"\"Reads a text file.\"\"\"\n",
        "      with tf.gfile.Open(input_file, \"r\") as f:\n",
        "          reader = csv.reader(f, delimiter=\"\\n\", quotechar=quotechar)\n",
        "          lines = []\n",
        "          i = 0\n",
        "          for line in reader:\n",
        "            if line == \"\":\n",
        "              continue\n",
        "            else:\n",
        "              lines.append(line)\n",
        "      return lines"
      ],
      "execution_count": 0,
      "outputs": []
    },
    {
      "cell_type": "code",
      "metadata": {
        "id": "QawWKu3UbMCh",
        "colab_type": "code",
        "cellView": "form",
        "colab": {}
      },
      "source": [
        "#@title split via loops\n",
        "trn_arts, val_arts, test_arts = [], [], []\n",
        "trn_sums, val_sums, test_sums = [], [], []\n",
        "max_len = len(sum_pol_path)\n",
        "split_point = int(max_len * 0.8)\n",
        "test_split_point = int((max_len - split_point) / 2)\n",
        "for (i, path) in enumerate(sum_pol_path):\n",
        "  if i < split_point:\n",
        "    trn_sums.append(read_files(path))\n",
        "  elif i > split_point and i < split_point + test_split_point:\n",
        "    val_sums.append(read_files(path))\n",
        "  else:\n",
        "    test_sums.append(read_files(path))"
      ],
      "execution_count": 0,
      "outputs": []
    },
    {
      "cell_type": "code",
      "metadata": {
        "id": "PzFV6hVJd7rt",
        "colab_type": "code",
        "cellView": "form",
        "colab": {}
      },
      "source": [
        "#@title split via loops article\n",
        "for (i, path) in enumerate(art_pol_path):\n",
        "  if i < split_point:\n",
        "    trn_arts.append(read_files(path))\n",
        "  elif i > split_point and i < split_point + test_split_point:\n",
        "    val_arts.append(read_files(path))\n",
        "  else:\n",
        "    test_arts.append(read_files(path))"
      ],
      "execution_count": 0,
      "outputs": []
    },
    {
      "cell_type": "code",
      "metadata": {
        "id": "fnTiMTml5dsI",
        "colab_type": "code",
        "colab": {}
      },
      "source": [
        "art_pol_path = glob.glob('./BBC News Summary/News Articles/politics/' +'*.txt')\n",
        "art_biz_path = glob.glob('./BBC News Summary/News Articles/business/' +'*.txt')\n",
        "art_tech_path = glob.glob('./BBC News Summary/News Articles/tech/' +'*.txt')\n",
        "art_sport_path = glob.glob('./BBC News Summary/News Articles/sport/' +'*.txt')\n",
        "art_ent_path = glob.glob('./BBC News Summary/News Articles/entertainment/' +'*.txt')\n",
        "\n",
        "sum_pol_path = glob.glob('./BBC News Summary/Summaries/politics/' +'*.txt')\n",
        "sum_biz_path = glob.glob('./BBC News Summary/Summaries/business/' +'*.txt')\n",
        "sum_tech_path = glob.glob('./BBC News Summary/Summaries/tech/' +'*.txt')\n",
        "sum_sport_path = glob.glob('./BBC News Summary/Summaries/sport/' +'*.txt')\n",
        "sum_ent_path = glob.glob('./BBC News Summary/Summaries/entertainment/' +'*.txt')"
      ],
      "execution_count": 0,
      "outputs": []
    },
    {
      "cell_type": "code",
      "metadata": {
        "id": "frHPzf5E5SvX",
        "colab_type": "code",
        "colab": {}
      },
      "source": [
        "sum_pth, art_pth = [], []\n",
        "for i in categories:\n",
        "  art_pth.append(os.path.join('./BBC News Summary/News Articles/{}/'.format(i), '*.txt'))\n",
        "  sum_pth.append(os.path.join('./BBC News Summary/Summaries/{}/'.format(i), '*.txt'))\n",
        "  #for path in glob.glob():\n",
        "    "
      ],
      "execution_count": 0,
      "outputs": []
    },
    {
      "cell_type": "code",
      "metadata": {
        "id": "8_g-1Xo57nvj",
        "colab_type": "code",
        "colab": {}
      },
      "source": [
        "glob_art, glob_sum = [], []\n",
        "    #for sum_path in glob.glob():\n",
        "for j in art_pth:\n",
        "  glob_art.append(glob.glob(j))\n",
        "for m in sum_pth:\n",
        "  glob_sum.append(glob.glob(m))"
      ],
      "execution_count": 0,
      "outputs": []
    },
    {
      "cell_type": "code",
      "metadata": {
        "id": "RbkiGFAc7tNS",
        "colab_type": "code",
        "colab": {}
      },
      "source": [
        "glob_art = flatten_list(glob_art)\n",
        "glob_sum = flatten_list(glob_sum)"
      ],
      "execution_count": 0,
      "outputs": []
    },
    {
      "cell_type": "code",
      "metadata": {
        "id": "xLZh0Wpv6Pdj",
        "colab_type": "code",
        "colab": {}
      },
      "source": [
        "all_arts, all_sums = [], []\n",
        "for i in glob_sum:\n",
        "  all_sums.append(read_io_file(i))\n",
        "for j in glob_art:\n",
        "  all_arts.append(read_io_file(j))"
      ],
      "execution_count": 0,
      "outputs": []
    },
    {
      "cell_type": "code",
      "metadata": {
        "id": "U-Pb_g8ke750",
        "colab_type": "code",
        "cellView": "both",
        "colab": {}
      },
      "source": [
        "#@title Combined\n",
        "combined_trn = list(all_arts) + list(all_sums) "
      ],
      "execution_count": 0,
      "outputs": []
    },
    {
      "cell_type": "code",
      "metadata": {
        "id": "Tq6JRF0iQpQi",
        "colab_type": "code",
        "colab": {}
      },
      "source": [
        "import keras\n",
        "\n",
        "from keras.preprocessing.text import Tokenizer\n",
        "tokenizer = Tokenizer(num_words=10000)\n",
        "tokenizer.fit_on_texts(cmb)\n",
        "sequences = tokenizer.texts_to_sequences(cmb)\n"
      ],
      "execution_count": 0,
      "outputs": []
    },
    {
      "cell_type": "code",
      "metadata": {
        "id": "0zVCULMnSsJy",
        "colab_type": "code",
        "outputId": "cacd7f75-6e1c-47db-de2e-775e8574e4eb",
        "colab": {
          "base_uri": "https://localhost:8080/",
          "height": 33
        }
      },
      "source": [
        "len(sequences)"
      ],
      "execution_count": 0,
      "outputs": [
        {
          "output_type": "execute_result",
          "data": {
            "text/plain": [
              "1221986"
            ]
          },
          "metadata": {
            "tags": []
          },
          "execution_count": 335
        }
      ]
    },
    {
      "cell_type": "code",
      "metadata": {
        "id": "VKTSXmnHTFf-",
        "colab_type": "code",
        "outputId": "2d41ca1c-cb42-40fe-9680-e0548722f956",
        "colab": {
          "base_uri": "https://localhost:8080/",
          "height": 33
        }
      },
      "source": [
        "tokenizer.word_index['election']"
      ],
      "execution_count": 0,
      "outputs": [
        {
          "output_type": "execute_result",
          "data": {
            "text/plain": [
              "119"
            ]
          },
          "metadata": {
            "tags": []
          },
          "execution_count": 334
        }
      ]
    },
    {
      "cell_type": "code",
      "metadata": {
        "id": "vkq47nyuTjPO",
        "colab_type": "code",
        "colab": {}
      },
      "source": [
        "i2w = tokenizer.index_word"
      ],
      "execution_count": 0,
      "outputs": []
    },
    {
      "cell_type": "code",
      "metadata": {
        "id": "scYsfxpbURGo",
        "colab_type": "code",
        "outputId": "a5012ff7-a9e1-4db3-adec-bee639f639f2",
        "colab": {
          "base_uri": "https://localhost:8080/",
          "height": 50
        }
      },
      "source": [
        "for i in cmb[5]:\n",
        "  print(token2idx(i, vocab))"
      ],
      "execution_count": 0,
      "outputs": [
        {
          "output_type": "stream",
          "text": [
            "4995\n",
            "12\n"
          ],
          "name": "stdout"
        }
      ]
    },
    {
      "cell_type": "code",
      "metadata": {
        "id": "uo5ZLSKpRgFU",
        "colab_type": "code",
        "colab": {}
      },
      "source": [
        "bb = [tokenizer.word_index[sent.lower()] for sent in cmb]"
      ],
      "execution_count": 0,
      "outputs": []
    },
    {
      "cell_type": "code",
      "metadata": {
        "id": "w3O2qBPPz9qy",
        "colab_type": "code",
        "cellView": "both",
        "colab": {}
      },
      "source": [
        "#@title Padding TOkens\n",
        "# <s> and </s> are used in the data files to segment the abstracts into sentences. They don't receive vocab ids.\n",
        "SENTENCE_START = '<s>'\n",
        "SENTENCE_END = '</s>'\n",
        "\n",
        "PAD_TOKEN = '[PAD]' # This has a vocab id, which is used to pad the encoder input, decoder input and target sequence\n",
        "UNKNOWN_TOKEN = '[UNK]' # This has a vocab id, which is used to represent out-of-vocabulary words\n",
        "START_DECODING = '[START]' # This has a vocab id, which is used at the start of every decoder input sequence\n",
        "STOP_DECODING = '[STOP]' # This has a vocab id, which is used at the end of untruncated target sequences\n",
        "\n",
        "# Note: none of <s>, </s>, [PAD], [UNK], [START], [STOP] should appear in the vocab file.\n"
      ],
      "execution_count": 0,
      "outputs": []
    },
    {
      "cell_type": "code",
      "metadata": {
        "id": "2SCjcZ6RJ6Gn",
        "colab_type": "code",
        "cellView": "both",
        "colab": {}
      },
      "source": [
        "#@title Flatten List { form-width: \"30px\" }\n",
        "def flatten_list(a_list):\n",
        "  flat_list = [item for sublist in a_list for item in sublist]\n",
        "  return flat_list"
      ],
      "execution_count": 0,
      "outputs": []
    },
    {
      "cell_type": "code",
      "metadata": {
        "id": "B7ooFSoz082j",
        "colab_type": "code",
        "cellView": "both",
        "colab": {}
      },
      "source": [
        "#@title Vocab builder\n",
        "import pprint as pprint\n",
        "from collections import Counter\n",
        "# for tokenizer\n",
        "import re\n",
        "\n",
        "def tokenizer(sentences):\n",
        "    tokens = re.findall(r\"[\\w]+|[^\\s\\w]\", sentence)\n",
        "    return tokens\n",
        "\n",
        "def build_vocab(sentences, is_target=False, max_vocab_size=None):\n",
        "    word_counter = Counter()\n",
        "    vocab = dict()\n",
        "    reverse_vocab = dict()\n",
        "    \n",
        "    for sentence in sentences:\n",
        "        tokens = tokenizer(sentence)\n",
        "        word_counter.update(tokens)\n",
        "        \n",
        "    if max_vocab_size is None:\n",
        "        max_vocab_size = len(word_counter)\n",
        "    \n",
        "    if is_target:\n",
        "        vocab['START'] = 0\n",
        "        vocab['PAD'] = 1\n",
        "        vocab_idx = 2\n",
        "        for key, value in word_counter.most_common(max_vocab_size):\n",
        "            vocab[key] = vocab_idx\n",
        "            vocab_idx += 1\n",
        "    else:\n",
        "        vocab['PAD'] = 0\n",
        "        vocab_idx = 1\n",
        "        for key, value in word_counter.most_common(max_vocab_size):\n",
        "            vocab[key] = vocab_idx\n",
        "            vocab_idx += 1\n",
        "            \n",
        "    for key, value in vocab.items():\n",
        "        reverse_vocab[value] = key\n",
        "            \n",
        "    return vocab, reverse_vocab, max_vocab_size"
      ],
      "execution_count": 0,
      "outputs": []
    },
    {
      "cell_type": "code",
      "metadata": {
        "id": "J-XnDLm_BESL",
        "colab_type": "code",
        "colab": {}
      },
      "source": [
        "comb = flatten_list(combined_trn)"
      ],
      "execution_count": 0,
      "outputs": []
    },
    {
      "cell_type": "code",
      "metadata": {
        "id": "YEGYm9LiB8bd",
        "colab_type": "code",
        "colab": {}
      },
      "source": [
        "#comb = [item.decode('utf_8', 'ignore') for item in comb]"
      ],
      "execution_count": 0,
      "outputs": []
    },
    {
      "cell_type": "code",
      "metadata": {
        "id": "JSwV_IMIBQ4d",
        "colab_type": "code",
        "colab": {}
      },
      "source": [
        "#cmb = [x for x in combined_trn]"
      ],
      "execution_count": 0,
      "outputs": []
    },
    {
      "cell_type": "code",
      "metadata": {
        "id": "xzajlWdWgYOE",
        "colab_type": "code",
        "colab": {}
      },
      "source": [
        "cmb = flatten_list(comb)"
      ],
      "execution_count": 0,
      "outputs": []
    },
    {
      "cell_type": "code",
      "metadata": {
        "id": "QyzJmI5LEqKb",
        "colab_type": "code",
        "colab": {}
      },
      "source": [
        "#cmb = cmb.split(' ')\n",
        "#what = [t.strip() for t in cmb]\n",
        "#what = [t for t in what if t!=\"\"]"
      ],
      "execution_count": 0,
      "outputs": []
    },
    {
      "cell_type": "code",
      "metadata": {
        "id": "EK2HvBmJEybL",
        "colab_type": "code",
        "outputId": "f5e7b020-5fe8-40f9-fa00-cf70e5ef5a78",
        "colab": {
          "base_uri": "https://localhost:8080/",
          "height": 53
        }
      },
      "source": [
        "word_counter = Counter()\n",
        "for sentence in cmb:\n",
        "  tokens = tokenizer(sentence)\n",
        "  word_counter.update(tokens)\n",
        "print(word_counter)"
      ],
      "execution_count": 0,
      "outputs": [
        {
          "output_type": "stream",
          "text": [
            "Counter({'the': 65220, '.': 62409, ',': 52761, 'to': 36037, 'of': 28812, '\"': 28318, 'and': 25686, 'a': 25034, 'in': 24265, \"'\": 19219, '-': 18714, 's': 12738, 'for': 12710, 'is': 11921, 'that': 11535, 'said': 11528, 'The': 11494, 'on': 10580, 'was': 9646, 'it': 8246, 'be': 8229, 'has': 7761, 'with': 7436, 'as': 6691, 'have': 6670, 'by': 6419, 'at': 6384, 'he': 6283, 'will': 6260, 'are': 6012, 'I': 5302, 'from': 5060, 'Mr': 5055, 'not': 4973, 'his': 4238, 'would': 3976, 'but': 3855, 'an': 3837, 'had': 3822, 'which': 3748, 'been': 3631, 'they': 3557, ')': 3441, '(': 3436, 'their': 3417, 'year': 3328, 'its': 3247, 'up': 3234, 'more': 3221, 'were': 3150, 'this': 3115, 'who': 3013, 'also': 3009, '%': 2914, 'people': 2891, 'It': 2772, 'about': 2525, 'But': 2517, 'US': 2508, 'we': 2505, ':': 2501, 'than': 2365, 'one': 2361, 'out': 2350, 'after': 2324, 'new': 2292, 'can': 2284, 'or': 2280, 'could': 2203, '£': 2129, 'He': 2110, 'over': 2099, 'first': 1979, 'all': 1972, 'time': 1927, 'last': 1846, 'there': 1841, '$': 1819, 'two': 1793, 'you': 1718, 'when': 1694, 'UK': 1687, 't': 1687, 'government': 1643, 'into': 1629, 'A': 1568, 'if': 1528, 'best': 1489, 'years': 1480, 'In': 1476, 'now': 1456, 'We': 1442, 'other': 1433, 'against': 1405, 'so': 1399, 'make': 1359, 'them': 1359, '1': 1338, 'being': 1318, 'what': 1314, 'only': 1313, 'told': 1312, 'some': 1308, 'just': 1302, 'game': 1284, 'world': 1272, 'do': 1268, 'get': 1259, 'made': 1237, 'film': 1220, 'no': 1213, 'back': 1210, 'should': 1197, 'music': 1190, 'like': 1185, 'Labour': 1176, 'because': 1174, 'such': 1162, '000': 1161, 'very': 1157, 'three': 1140, 'she': 1140, 'set': 1117, 'BBC': 1111, 'number': 1110, '2': 1097, 'before': 1093, 'next': 1092, 'her': 1083, 'take': 1082, 'says': 1059, 'any': 1054, 'way': 1040, 'well': 1038, 'many': 1005, 'while': 999, 'market': 996, 'added': 989, 'most': 971, 'election': 967, 'England': 945, 'Blair': 943, 'company': 943, 'him': 926, '2004': 923, 'off': 920, 'down': 910, 'win': 906, '6': 904, 'good': 893, 'second': 886, '3': 886, 'won': 884, 'firm': 876, 'much': 864, 'games': 861, 'work': 855, 'week': 854, 'going': 852, 'say': 851, 'still': 849, 'show': 841, 'then': 838, 'use': 836, 'think': 829, 'British': 827, 'play': 827, '10': 817, 'since': 811, 'go': 809, 'home': 809, 'part': 809, 'technology': 807, 'between': 802, '4': 800, '5': 796, 'my': 796, 'TV': 794, 'how': 791, 'And': 790, 'top': 790, 'This': 788, 'European': 782, 'did': 775, 'want': 772, 'million': 769, 'see': 766, 'our': 765, 'mobile': 758, 'Brown': 757, 'those': 751, 'public': 749, 'players': 749, 'party': 727, 'may': 723, 'expected': 722, 'where': 722, ';': 717, 'There': 716, 'country': 716, 'through': 714, 'used': 706, 'They': 705, 'high': 684, 'months': 683, 'under': 682, 'sales': 682, 'New': 682, 'put': 680, 'end': 676, 'plans': 675, 'If': 674, 'Britain': 670, 'already': 668, 'growth': 664, 'tax': 663, '2005': 663, 'London': 661, 'net': 661, 'economy': 660, 'five': 651, 'own': 646, 'come': 645, 'four': 640, 'half': 638, 'director': 631, 'even': 628, 'too': 620, '?': 619, 'month': 619, 'deal': 615, 'money': 614, 'minister': 611, 'help': 610, 'Wales': 609, 'me': 605, 'system': 604, 'during': 602, 'companies': 601, 'services': 598, 'report': 596, 'both': 595, 'old': 595, 'chief': 594, 'phone': 591, 'based': 588, 'Howard': 586, 'including': 585, 'third': 585, 'long': 584, 'Europe': 579, 'team': 578, '2003': 578, 'group': 577, 'record': 577, 'firms': 577, '7': 576, 'service': 574, 'industry': 569, 'place': 566, 'these': 565, 'right': 563, 'called': 561, 'around': 556, 'need': 553, 'final': 550, 'former': 548, 'move': 546, 'don': 544, 'hit': 539, 'users': 537, 'video': 535, 'same': 533, 'business': 533, 'France': 533, 'spokesman': 532, 'day': 531, 'future': 529, 'club': 529, 'big': 525, 'software': 523, 'economic': 519, 'took': 516, 'Ireland': 512, 'digital': 511, 'really': 508, 'got': 503, 'start': 502, 'better': 501, 'came': 501, 'However': 494, 'great': 489, 'likely': 488, 're': 487, 'side': 484, 'China': 482, 'World': 481, 'action': 481, 'know': 479, 'm': 479, 'United': 476, 'found': 472, 'decision': 472, 'O': 471, 'information': 470, 'computer': 468, 'campaign': 467, 'making': 467, 'offer': 467, 'using': 466, 'seen': 464, 'six': 463, 'countries': 463, 'biggest': 461, 'law': 460, 'become': 460, 'another': 459, 'saying': 458, 'us': 457, 'far': 456, 'according': 455, 'without': 452, 'player': 451, 'give': 451, 'online': 448, 'EU': 447, 'December': 447, 'rise': 446, 'As': 445, 'left': 443, 'lost': 443, 'match': 443, 'able': 441, 'January': 441, 'away': 440, 'data': 440, 'line': 439, 'Michael': 438, 'Cup': 437, '20': 435, 'run': 433, 'general': 431, 'cost': 431, 'figures': 429, 'role': 428, 'given': 427, 'That': 427, 'security': 427, 'lot': 426, '12': 425, 'whether': 424, 'playing': 424, 'oil': 420, 'taking': 419, 'legal': 419, 've': 419, 'pay': 417, 'prices': 415, 'cut': 413, 'current': 412, 'Microsoft': 412, 'important': 410, 'life': 410, 'Lord': 408, 'does': 408, 'played': 408, 'leader': 407, 'spending': 406, 'again': 406, 'less': 405, 'She': 404, 'executive': 403, 'look': 402, 'quarter': 402, 'Tory': 401, 'case': 401, 'Ms': 398, 'past': 398, 'One': 397, 'state': 397, 'foreign': 396, 'interest': 395, 'increase': 392, 'control': 392, 'star': 390, 'season': 390, 'early': 389, 'every': 389, 'hard': 388, '0': 388, 'ahead': 387, 'days': 387, 'Sunday': 385, 'went': 384, 'due': 382, 'news': 382, 'face': 381, 'issue': 380, 'Scotland': 380, 'On': 379, 'strong': 379, 'later': 378, 'e': 377, 'children': 376, 'media': 376, 'few': 374, 'never': 374, 'award': 374, 'major': 373, 'phones': 372, 'recent': 372, 'change': 372, 'real': 371, 'thought': 371, 'your': 371, 'support': 370, 'believe': 370, 'further': 370, 'working': 369, 'announced': 369, '8': 369, 'following': 367, 'John': 365, 'rate': 364, 'prime': 363, 'court': 363, 'different': 363, 'little': 362, 'held': 362, 'ago': 362, 'latest': 362, 'broadband': 361, 'access': 361, 'local': 359, '30': 359, 'try': 358, 'films': 358, 'full': 356, 'statement': 356, 'personal': 353, 'lead': 352, 'David': 352, 'chance': 352, 'Tories': 351, '11': 351, 'free': 350, 'international': 348, 'series': 348, 'behind': 348, 'return': 346, 'until': 346, 'share': 345, 'problem': 345, 'anti': 345, 'must': 345, 'sold': 345, 'something': 344, 'ever': 344, 'always': 344, 'winning': 344, 'meeting': 344, 'injury': 344, 'claims': 342, 'American': 342, '9': 342, 'News': 342, 'coach': 342, 'key': 340, 'internet': 340, 'website': 339, 'find': 339, 'each': 339, 'am': 337, 'released': 337, '&': 337, 'title': 336, 'Bank': 336, 'looking': 335, 'enough': 335, 'search': 335, 'Japan': 335, '/': 334, '50': 333, 'power': 332, 'Tony': 332, 'taken': 332, '25': 332, 'clear': 331, 'point': 331, 'content': 330, 'band': 329, 'problems': 327, 'yet': 327, 'done': 327, 'having': 327, 'chairman': 327, 'Williams': 327, 'performance': 326, 'demand': 326, 'political': 325, 'women': 325, 'Chelsea': 325, 'might': 324, 'low': 324, 'February': 324, 'March': 324, 'include': 323, 'South': 322, 'minutes': 322, 'At': 321, 'November': 320, 'men': 320, 'sale': 320, 'keep': 319, 'almost': 318, '18': 318, 'currently': 317, 'means': 317, 'chancellor': 317, 'needed': 317, 'programme': 316, 'allow': 316, 'research': 316, 'doing': 315, 'Nations': 315, 'Wednesday': 314, 'despite': 314, 'list': 314, 'earlier': 313, 'network': 313, 'times': 312, 'manager': 312, '100': 311, 'job': 311, 'Tuesday': 311, 'Apple': 310, 'least': 309, 'India': 309, 'head': 308, 'costs': 308, 'police': 307, 'hold': 307, 'continue': 306, 'Saturday': 306, 'PC': 306, 'Yukos': 306, 'getting': 305, 'rights': 305, 'bid': 304, 'across': 303, 'You': 303, 'term': 302, 'open': 302, 'actor': 302, 'level': 301, 'possible': 301, 'available': 301, 'Monday': 300, 'things': 300, 'site': 300, 'price': 300, 'victory': 299, 'weeks': 299, 'shares': 298, 'album': 298, 'jobs': 297, 'among': 297, 'For': 297, 'rather': 297, '15': 297, 'song': 296, 'result': 295, 'Friday': 295, 'coming': 295, 'mail': 294, 'financial': 293, 'French': 293, 'awards': 293, 'within': 292, 'office': 292, 'warned': 291, 'MPs': 290, 'buy': 289, 'investment': 288, 'Six': 288, 'running': 287, 'although': 286, 'huge': 284, 'members': 284, 'Radio': 284, 'trade': 284, 'beat': 283, 'known': 282, '2001': 280, 'man': 280, 'production': 280, 'vote': 278, 'close': 278, 'analysts': 278, 'main': 277, 'version': 277, 'wanted': 277, 'trying': 276, 'dollar': 276, 'With': 276, 'Sony': 274, 'single': 273, 'reported': 273, 'president': 273, 'fans': 273, '!': 272, 'showed': 272, 'evidence': 272, 'total': 272, 'asked': 271, 'Sir': 271, 'budget': 271, 'success': 271, 'issues': 270, 'Open': 270, 'form': 269, 'cash': 269, 'agreed': 269, 'fourth': 269, 'web': 269, 'rates': 268, 'saw': 268, 'thing': 267, 'plan': 267, 'career': 267, 'What': 265, 'Russian': 265, 'here': 264, 'Iraq': 264, 'break': 264, 'war': 264, 'forward': 262, 'failed': 261, 'race': 261, 'Some': 260, 'When': 258, 'goal': 258, 'York': 258, '17': 257, 'small': 257, 'book': 257, 'Christmas': 257, 'annual': 257, 'shows': 256, 'led': 255, 'Thursday': 255, 'networks': 255, 'Liverpool': 255, 'reports': 254, 'Jones': 254, 'rules': 253, 'His': 253, 'though': 253, 'wants': 252, 'points': 252, 'trial': 252, 'eight': 252, 'Charles': 251, 'Lib': 251, 'growing': 250, 'All': 250, 'September': 250, 'Italy': 250, 'DVD': 250, 'previous': 249, 'house': 249, 'May': 248, 'comes': 248, 'secretary': 247, 'young': 247, 'launched': 247, 'Australian': 247, 'International': 246, 'higher': 246, 'profits': 246, 'customers': 246, 'October': 245, 'several': 245, 'hope': 245, 'event': 245, 'claim': 244, 'champion': 244, '2002': 244, 'virus': 244, 'national': 243, 'rose': 243, 'centre': 243, 'box': 243, 'bank': 243, 'policy': 242, 'received': 242, 'difficult': 242, 'popular': 242, 'let': 242, 'recently': 242, 'release': 242, 'denied': 241, 'mean': 241, 'global': 241, 'fact': 240, 'competition': 240, 'radio': 240, 'parties': 239, 'sites': 239, 'fell': 239, 'once': 238, 'Arsenal': 238, 'bill': 237, 'short': 237, 'late': 237, 'giant': 237, 'round': 237, 'car': 237, 'family': 236, 'actress': 236, 'Party': 235, 'boss': 235, 'name': 234, 'call': 233, 'devices': 233, 'Office': 232, 'paid': 231, 'prize': 231, 'Olympic': 231, 'consumer': 231, '13': 230, '40': 230, '16': 230, 'calls': 230, 'gaming': 230, 'Paul': 229, 'cards': 229, 'Minister': 229, 'nothing': 229, 'Irish': 229, 'fall': 229, 'movie': 229, 'Dr': 228, 'S': 228, 'believes': 227, 'Liberal': 227, 'accused': 227, 'Gordon': 227, 'co': 227, 'debt': 227, 'Africa': 227, 'involved': 226, 'didn': 225, 'rugby': 225, 'changes': 224, 'largest': 224, 'euros': 223, 'cannot': 222, 'large': 222, 'tour': 222, 'Manchester': 221, 'age': 221, 'launch': 221, 'development': 220, 'boost': 220, 'meet': 220, 'attacks': 220, 'television': 219, 'choice': 218, 'sure': 218, 'feel': 218, 'range': 218, 'sent': 218, 'stop': 218, '24': 218, 'President': 218, 'together': 217, 'idea': 217, 'create': 217, 'National': 217, 'Scottish': 217, 'per': 217, 'consumers': 217, 'themselves': 216, 'weekend': 216, 'survey': 216, 'Oscar': 216, 'Germany': 216, 'German': 216, 'summer': 216, 'BT': 216, 'health': 215, 'pressure': 215, 'order': 214, 'ensure': 214, 'Kilroy': 214, 'UKIP': 214, 'Film': 214, 'leading': 213, 'why': 213, 'Last': 213, 'potential': 212, 'League': 212, 'named': 212, 'Martin': 211, 'position': 210, 'pre': 210, 'aid': 210, 'products': 210, 'provide': 209, 'football': 209, 'ministers': 209, 'remain': 209, 'human': 209, 'claimed': 208, 'opening': 208, 'Conservative': 207, 'whole': 207, 'turn': 207, 'via': 207, 'itself': 207, 'ball': 207, 'started': 206, '14': 206, 'needs': 206, 'Commission': 206, 'makes': 206, 'chart': 206, 'Kennedy': 205, 'drive': 205, '2000': 205, 'So': 205, 'bit': 205, 'taxes': 204, 'simply': 204, 'stage': 204, 'Union': 204, 'stand': 204, 'value': 204, 'Russia': 204, 'test': 203, 'Other': 202, 'date': 202, 'charge': 202, 'Robinson': 202, 'Secretary': 201, 'forced': 201, 'project': 201, 'seven': 201, 'singer': 201, 'others': 200, 'talks': 200, 'squad': 200, 'official': 199, 'senior': 199, 'hours': 199, 'act': 199, 'stock': 199, 'admitted': 198, 'live': 197, 'Mark': 196, 'immigration': 196, 'sector': 196, 'impact': 196, 'conference': 196, 'hopes': 196, 'Bush': 196, 'stars': 196, 'similar': 195, 'compared': 195, 'Silk': 195, 'extra': 195, 'helped': 195, 'Windows': 195, 'voters': 193, 'Association': 193, 'average': 193, 'results': 193, 'bought': 193, 'proposals': 192, 'comedy': 192, 'Roddick': 192, 'sell': 191, 'attack': 191, 'bring': 191, 'ban': 191, 'quite': 190, 'either': 190, 'groups': 190, 'fraud': 190, 'outside': 190, 'officials': 189, 'period': 189, 'Grand': 189, 'Andy': 188, 'Davis': 187, 'anything': 187, 'Smith': 187, 'appeal': 186, 'confirmed': 186, 'education': 186, 'instead': 186, 'wrong': 186, 'turned': 186, 'gave': 186, 'special': 185, 'decided': 185, 'cuts': 185, 'however': 185, 'member': 184, 'board': 184, '2006': 184, 'spent': 184, 'An': 184, 'original': 184, 'Johnson': 184, 'winner': 184, 'himself': 183, 'fight': 183, 'included': 183, 'Google': 183, 'Deutsche': 183, 'drugs': 182, 'signed': 182, 'Street': 182, 'Australia': 182, 'June': 182, 'process': 181, 'Campbell': 181, 'whose': 181, 'front': 180, 'shown': 180, 'brought': 180, 'laws': 180, 'generation': 180, 'revealed': 180, 'According': 180, 'school': 179, 'offered': 179, 'Parliament': 179, 'amount': 179, 'target': 179, 'systems': 179, 'download': 179, 'concerned': 178, 'Home': 178, 'remains': 178, 'audience': 178, 'charges': 178, 'areas': 177, 'comments': 177, 'numbers': 177, 'shot': 177, 'view': 176, 'authorities': 176, 'More': 176, 'By': 176, 'quality': 176, 'staff': 175, 'Alan': 175, 'Bill': 175, 'April': 175, 'night': 175, 'created': 175, 'widely': 175, 'While': 175, 'After': 175, 'West': 174, 'worked': 174, 'insisted': 174, 'speech': 174, 'raise': 174, 'James': 174, '19': 174, 'gadget': 174, 'Commons': 173, 'ways': 173, 'became': 173, 'host': 173, 'today': 173, 'lower': 172, 'hand': 172, 'step': 172, 'People': 172, 'House': 172, 'majority': 172, 'City': 172, 'takes': 172, 'particularly': 171, 'independent': 171, 'battle': 171, 'Mike': 171, 'easy': 170, 'moment': 170, 'course': 170, 'newspaper': 170, 'America': 170, 'Blunkett': 169, 'No': 169, 'worth': 169, 'selling': 169, 'body': 169, 'community': 168, 'Robert': 168, 'challenge': 168, 'spam': 168, 'experience': 167, 'concerns': 167, 'force': 167, 'nominated': 167, 'messages': 167, 'training': 167, 'Madrid': 167, 'area': 166, 'private': 166, 'll': 166, 'focus': 166, 'committee': 166, 'happy': 166, 'speed': 166, 'longer': 165, 'levels': 165, 'lives': 165, 'account': 165, 'tough': 165, 'Spain': 165, 'minute': 165, 'device': 165, '22': 164, 'Council': 164, 'card': 164, 'Indian': 164, 'message': 164, 'soon': 164, 'tsunami': 164, 'double': 164, 'deficit': 164, 'titles': 164, 'Hollywood': 164, 'met': 163, 'Many': 163, 'situation': 163, 'captain': 163, 'designed': 162, 'reached': 162, 'example': 162, 'Despite': 162, 'becoming': 162, 'risk': 162, 'attempt': 162, 'favourite': 162, 'history': 162, 'technologies': 162, 'looked': 162, 'workers': 162, 'non': 162, 'poor': 162, 'rival': 162, 'opportunity': 161, 'spend': 161, 'debate': 161, 'leave': 161, 'serious': 161, 'allowed': 161, 'reach': 161, '5bn': 161, 'Although': 161, 'analyst': 161, 'R': 161, 'Awards': 161, 'council': 160, 'MP': 160, 'gone': 160, 'stay': 160, 'post': 160, 'debut': 160, 'bad': 159, 'black': 159, 'threat': 159, 'began': 159, 'B': 159, '[': 158, ']': 158, 'file': 158, 'positive': 158, 'civil': 158, 'believed': 158, 'profit': 158, 'Athens': 158, 'schools': 157, 'images': 157, 'PCs': 157, 'Aviator': 157, 'argued': 156, 'Group': 156, 'increased': 156, 'Lords': 156, 'Zealand': 156, 'programs': 156, 'v': 156, 'Conservatives': 155, 'Kelly': 155, 'response': 155, 'probably': 155, 'nine': 155, 'computers': 155, 'To': 155, 'suggested': 154, 'terms': 154, 'Clarke': 154, 'track': 154, 'dropped': 154, 'musical': 153, 'press': 153, 'English': 153, 'figure': 153, 'missed': 153, 'markets': 153, 'Now': 153, 'previously': 152, 'rest': 152, 'poll': 152, 'programmes': 152, 'significant': 152, 'often': 152, 'everything': 152, 'maker': 152, 'files': 152, 'moved': 151, 'row': 151, 'operating': 151, 'unit': 151, 'keen': 151, 'credit': 151, 'politics': 150, 'person': 150, 'felt': 150, 'voice': 150, 'My': 150, 'euro': 150, 'category': 150, 'care': 149, 'fund': 149, 'build': 149, 'asylum': 149, 'Life': 149, 'income': 148, 'illegal': 148, 'watch': 148, 'actually': 148, 'followed': 148, 'agreement': 148, 'websites': 148, 'send': 148, 'contract': 148, 'definition': 147, 'written': 147, 'confidence': 147, 'effort': 147, 'Court': 147, 'd': 147, 'mobiles': 147, 'nominations': 147, 'ruled': 146, 'confident': 146, 'story': 146, 'fast': 146, 'approach': 146, '27': 146, 'Thomas': 146, 'machine': 146, 'J': 146, 'gadgets': 146, 'ceremony': 145, 'planning': 145, 'everyone': 145, 'wide': 145, 'Sport': 145, 'expect': 145, 'domestic': 145, 'mark': 144, 'ID': 144, 'Peter': 144, 'penalty': 144, 'energy': 144, 'individual': 144, 'machines': 144, 'Meanwhile': 144, 'successful': 144, 'investors': 144, 'festival': 144, 'cases': 143, 'looks': 143, 'field': 143, 'pair': 143, 'banks': 143, 'screen': 143, 'light': 143, 'songs': 143, 'scheme': 142, 'matter': 142, 'giving': 142, 'defeat': 142, 'Richard': 142, 'Premiership': 142, 'program': 142, 'D': 142, 'talk': 141, 'entertainment': 141, 'Fox': 141, 'suggests': 141, 'loss': 141, 'Day': 141, 'hour': 141, 'bankruptcy': 141, 'Nintendo': 141, 'Music': 141, 'G': 141, 'nearly': 140, 'rejected': 140, 'predicted': 140, 'doubt': 140, 'stake': 140, 'defence': 140, 'businesses': 140, 'nations': 140, 'kept': 140, 'disaster': 140, 'Newcastle': 140, 'artists': 140, 'Japanese': 140, 'fear': 139, 'question': 139, 'towards': 139, 'peer': 139, 'rule': 139, 'social': 139, '500': 139, 'receive': 139, 'ready': 138, 'parents': 138, 'affected': 138, 'criticised': 138, 'minimum': 138, 'July': 138, 'Department': 138, 'Both': 138, 'trading': 138, 'wins': 138, 'Taylor': 138, 'near': 138, 'airline': 138, 'Ferguson': 138, 'Dems': 137, 'answer': 137, 'sign': 137, 'death': 137, 'measures': 137, 'died': 137, 'leaders': 137, 'offering': 137, 'Its': 137, 'rock': 137, 'Democrats': 136, 'Of': 136, '60': 136, 'exports': 136, 'Mac': 136, 'M': 136, 'camera': 136, 'seed': 136, 'goes': 135, 'White': 135, 'talking': 135, 'Straw': 135, 'details': 135, 'millions': 135, 'Spanish': 135, 'gold': 135, 'joined': 134, 'accounts': 134, 'guilty': 134, 'introduced': 134, 'protection': 134, 'especially': 134, 'ruling': 133, 'terror': 133, 'backed': 133, 'ability': 133, 'highest': 133, 'August': 133, 'recovery': 133, 'opposition': 132, 'Times': 132, 'hoping': 132, 'drop': 132, 'produced': 132, 'Man': 132, '21': 132, 'Asia': 132, 'Gerrard': 132, 'wireless': 132, 'policies': 131, 'changed': 131, 'operators': 131, 'takeover': 131, 'iPod': 131, 'drama': 131, 'meant': 130, 'particular': 130, 'controversial': 130, 'along': 130, 'planned': 130, 'couple': 130, 'trust': 130, 'compete': 130, 'Former': 130, 'considered': 130, 'kick': 130, 'fuel': 130, 'continued': 130, 'starting': 130, 'Leicester': 130, '3G': 130, 'University': 129, 'published': 129, 'Andrew': 129, 'above': 129, 'built': 129, 'agency': 129, 'raised': 129, 'magazine': 129, 'Real': 129, 'portable': 129, 'Champions': 129, 'anyone': 128, 'described': 128, 'billion': 128, 'elections': 128, 'Chinese': 128, 'North': 128, 'love': 128, 'Analysts': 128, 'Jamie': 128, 'Lions': 128, 'voted': 127, '200': 127, 'Prime': 127, 'George': 127, '45': 127, 'Sullivan': 127, 'offers': 127, 'winners': 127, 'Glazer': 127, 'Digital': 127, 'Today': 126, 'refused': 126, 'study': 126, 'unlikely': 126, 'central': 126, 'add': 126, '5m': 126, 'Mobile': 126, 'doesn': 125, 'separate': 125, 'finance': 125, 'understand': 125, 'Budget': 125, 'tackle': 125, 'developing': 125, 'aimed': 125, 'experts': 125, 'Welsh': 124, '28': 124, 'language': 124, 'developed': 124, 'present': 124, 'matches': 124, 'reason': 124, 'pop': 124, 'powers': 123, 'criminal': 123, 'lack': 123, 'wage': 123, 'source': 123, 'crime': 122, 'adding': 122, 'sound': 122, 'cross': 122, 'advice': 122, '1bn': 122, 'picked': 122, 'seconds': 122, 'T': 122, 'singles': 122, 'missing': 121, 'building': 121, 'lose': 121, 'tried': 121, 'happen': 121, 'announcement': 121, 'speaking': 121, 'speculation': 121, 'East': 121, 'onto': 121, 'buying': 121, 'facing': 121, 'High': 121, 'follow': 121, 'product': 121, 'tie': 121, 'organisation': 120, '1997': 120, 'ended': 120, 'faces': 120, 'management': 120, 'spot': 120, 'code': 120, 'Steve': 120, 'copies': 120, 'movies': 120, 'serve': 119, 'comment': 119, 'Asian': 119, 'Our': 119, 'closed': 119, 'effect': 119, 'appear': 119, 'happened': 119, 'certainly': 119, 'Act': 119, 'someone': 119, 'kind': 119, 'suspended': 119, 'starring': 119, '3bn': 119, 'design': 119, 'Paris': 119, 'piracy': 119, 'protect': 118, 'text': 118, 'certain': 118, '26': 118, 'console': 118, 'Jackson': 118, 'straight': 118, 'producer': 118, 'Under': 117, 'unveiled': 117, 'hands': 117, 'promised': 117, 'orders': 117, 'advantage': 117, 'save': 117, 'commercial': 117, 'LSE': 117, 'GM': 117, 'ground': 116, 'Tim': 116, 'tournament': 116, 'Cardiff': 116, 'judge': 116, 'massive': 116, 'King': 116, 'relief': 116, 'rising': 116, 'below': 116, 'fit': 116, 'Two': 116, 'Xbox': 116, 'Slam': 116, 'deliver': 115, 'works': 115, 'appeared': 115, 'supporters': 115, 'decide': 115, 'quickly': 115, 'true': 115, 'Five': 115, 'inflation': 115, 'picture': 115, 'traffic': 115, 'Internet': 115, 'Park': 115, 'These': 114, 'improve': 114, 'Dem': 114, 'helping': 114, 'inquiry': 114, 'beyond': 114, 'proposed': 114, 'efforts': 114, 'subject': 114, 'earnings': 114, 'store': 114, 'feature': 114, 'Holmes': 114, 'chip': 114, 'Lee': 114, 'Boerse': 114, 'Academy': 114, 'progress': 113, 'critics': 113, 'concern': 113, 'reduce': 113, 'agree': 113, 'knew': 113, 'child': 113, 'students': 113, 'losing': 113, 'corporate': 113, 'Gazprom': 113, 'scored': 113, 'Mourinho': 113, 'fair': 112, 'spokeswoman': 112, 'decisions': 112, 'draw': 112, 'consider': 112, 'interested': 112, 'includes': 112, 'alongside': 112, 'hunting': 112, 'marketing': 112, 'waiting': 112, 'faster': 112, 'gamers': 112, 'Oscars': 112, 'fellow': 111, 'issued': 111, 'heart': 111, 'address': 111, 'Research': 111, 'homes': 111, 'Birmingham': 111, 'striker': 111, 'showing': 110, 'review': 110, 'common': 110, 'Ray': 110, 'Milburn': 110, 'alone': 110, 'panel': 110, 'families': 110, 'air': 110, 'limit': 110, '23': 110, 'produce': 110, 'cameras': 110, 'output': 110, 'damage': 109, 'avoid': 109, 'targets': 109, 'Committee': 109, 'Harry': 109, '31': 109, 'overall': 109, 'standard': 109, 'records': 109, 'Hewitt': 109, 'makers': 109, 'continuing': 109, 'pretty': 109, 'thousands': 109, 'referee': 109, 'mails': 108, 'favour': 108, 'chances': 108, 'hoped': 108, '80': 108, 'owned': 108, 'Turkey': 108, 'handed': 108, 'insurance': 108, 'grow': 108, 'limited': 108, 'shareholders': 108, 'exchange': 108, 'auction': 108, 'Fiat': 108, 'San': 108, 'Rugby': 108, 'Kenteris': 108, 'Cabinet': 107, 'driven': 107, '70': 107, 'standards': 107, 'hip': 107, 'Green': 106, 'benefit': 106, 'writing': 106, 'operations': 106, 'seems': 105, 'editor': 105, 'ex': 105, 'Simon': 105, 'reform': 105, 'Earlier': 105, 'falling': 105, 'critical': 105, 'read': 105, 'Steven': 105, 'Owen': 105, 'sort': 104, 'vital': 104, 'existing': 104, 'twice': 104, 'suffered': 104, 'greater': 104, 'property': 104, 'responsible': 104, 'worldwide': 104, 'hop': 104, 'finished': 103, 'friends': 103, 'woman': 103, 'interview': 103, 'Edinburgh': 103, 'benefits': 103, 'funding': 103, 'sport': 103, 'warning': 103, 'fears': 103, 'increasing': 103, 'dominated': 103, 'broken': 103, 'vice': 103, 'Service': 103, 'places': 103, 'uses': 103, 'drug': 103, 'Morgan': 103, 'mini': 103, 'hits': 103, 'Ebbers': 103, 'Olympics': 103, 'Nadal': 103, 'capacity': 102, 'proved': 102, 'Ian': 102, 'gives': 102, 'claiming': 102, 'direct': 102, 'questions': 102, 'tell': 102, 'General': 102, 'prevent': 102, 'How': 102, 'living': 102, 'powerful': 102, 'develop': 102, 'manufacturing': 102, 'features': 102, 'accept': 101, 'responsibility': 101, 'shadow': 101, 'quit': 101, 'index': 101, 'secure': 101, 'conditions': 101, 'executives': 101, 'estimated': 101, 'viruses': 101, 'Henry': 101, 'crucial': 100, 'sides': 100, 'pass': 100, 'cutting': 100, 'difference': 100, '4bn': 100, 'beginning': 100, 'presented': 100, 'lawyer': 100, 'activity': 100, 'managed': 100, 'easier': 100, 'Sky': 100, '6bn': 100, 'blog': 100, 'mind': 99, 'forecast': 99, 'housing': 99, '8bn': 99, 'poverty': 99, 'increasingly': 99, 'score': 99, 'blogs': 99, 'Games': 99, 'models': 99, 'spyware': 99, 'Stone': 99, 'IBM': 99, 'fi': 99, 'Championships': 99, 'Democrat': 98, 'trouble': 98, 'politicians': 98, 'urged': 98, 'nation': 98, 'unemployment': 98, 'names': 98, 'leadership': 98, 'investigation': 98, 'gets': 98, 'viewers': 98, 'Korea': 98, 'Brian': 98, 'station': 98, 'lets': 97, 'accepted': 97, 'putting': 97, 'environment': 97, 'pension': 97, 'trend': 97, 'failing': 97, 'State': 97, 'travel': 97, 'tests': 97, 'de': 97, 'gas': 97, 'revenue': 97, 'sharing': 97, 'grew': 97, 'Argentina': 97, 'DS': 97, 'finals': 97, 'Foxx': 97, 'ask': 96, 'visit': 96, 'miss': 96, 'smaller': 96, 'voting': 96, 'African': 96, 'highly': 96, 'technical': 96, 'rivals': 96, 'user': 96, 'seek': 95, 'strategy': 95, 'sense': 95, 'duty': 95, 'transfer': 95, 'Year': 95, 'heard': 95, 'connection': 95, 'tipped': 95, 'questioned': 95, 'Greek': 95, 'projects': 95, 'filed': 95, 'completely': 94, 'character': 94, 'legislation': 94, 'Chancellor': 94, 'fully': 94, 'bigger': 94, 'relationship': 94, '1999': 94, 'Chris': 94, 'alleged': 94, 'red': 94, 'else': 94, 'Those': 94, 'goals': 94, 'pace': 94, 'supporting': 94, 'Consumer': 94, 'style': 94, 'carry': 94, 'Italian': 94, 'slow': 94, 'broke': 94, 'Shares': 94, 'assets': 94, 'display': 94, 'Los': 94, 'crowd': 94, 'caused': 93, 'immediately': 93, 'simple': 93, 'city': 93, 'jump': 93, 'recorded': 93, 'strength': 93, 'isn': 93, 'GMT': 93, 'visitors': 93, 'pictures': 93, 'producers': 93, 'economist': 93, 'Exchange': 93, 'replace': 92, 'decade': 92, 'victims': 92, 'faced': 92, 'spread': 92, 'funds': 92, 'traditional': 92, 'union': 92, 'Stephen': 92, 'watching': 92, 'Standard': 92, 'Israel': 92, 'tries': 92, 'sending': 92, 'Baby': 92, 'Thanou': 92, 'IAAF': 92, 'prepared': 91, 'increases': 91, 'suggest': 91, 'interests': 91, 'urban': 91, 'fly': 91, 'allowing': 91, 'William': 91, 'events': 91, 'capital': 91, 'fifth': 91, 'paying': 91, 'books': 91, 'Since': 91, 'female': 91, 'continues': 91, 'handheld': 91, 'Gara': 91, 'Festival': 91, 'touch': 90, 'linked': 90, 'Foreign': 90, 'join': 90, 'returned': 90, 'league': 90, 'suspects': 90, 'Matt': 90, 'self': 90, 'IMF': 90, 'morning': 90, 'inside': 90, 'sees': 90, 'Yugansk': 90, 'stadium': 90, 'DVDs': 90, 'storage': 90, 'FA': 90, 'discuss': 89, 'word': 89, 'society': 89, 'Lewis': 89, 'improved': 89, 'Downing': 89, 'sports': 89, 'size': 89, 'Treasury': 89, 'carried': 89, 'push': 89, '35': 89, 'remained': 89, 'aware': 89, 'moving': 89, 'model': 89, 'Three': 89, 'revenues': 89, 'seeking': 89, 'Sydney': 89, 'Wenger': 89, 'Jack': 88, 'officer': 88, 'Their': 88, 'basis': 88, 'cause': 88, 'creating': 88, 'surprised': 88, 'Most': 88, 'monthly': 88, 'fighting': 88, 'studio': 88, 'Scott': 88, 'words': 88, 'retail': 88, 'expects': 88, 'Sri': 88, 'Rosneft': 88, 'versions': 88, 'Yahoo': 88, 'HD': 88, 'multimedia': 88, 'Robbie': 88, 'behaviour': 87, 'absolutely': 87, 'improving': 87, 'clearly': 87, 'Another': 87, 'natural': 87, 'finally': 87, 'amid': 87, 'passed': 87, 'courts': 87, 'rises': 87, 'chosen': 87, 'cap': 87, 'born': 87, 'expectations': 87, 'impressive': 87, 'format': 87, 'engine': 87, 'goods': 87, 'lawsuit': 87, 'teams': 87, 'views': 86, 'fallen': 86, 'watchdog': 86, 'Four': 86, 'wrote': 86, 'Golden': 86, 'unless': 86, 'opportunities': 86, 'throughout': 86, 'committed': 86, 'Celtic': 86, 'Rangers': 86, 'effectively': 86, 'states': 86, '1m': 86, 'leaving': 86, 'myself': 86, 'seeing': 86, 'broadcast': 86, 'Jose': 86, 'Dollar': 86, 'handsets': 86, 'Henman': 86, 'modern': 85, 'malicious': 85, 'manifesto': 85, 'setting': 85, 'Financial': 85, 'thinking': 85, 'Roger': 85, 'telephone': 85, 'Institute': 85, 'arrest': 85, 'slightly': 85, 'population': 85, 'allegations': 85, '2bn': 85, 'surprise': 85, 'Bath': 85, 'talent': 85, 'currency': 85, 'image': 84, 'Police': 84, 'introduce': 84, 'pledged': 84, 'strike': 84, 'bringing': 84, 'Queen': 84, 'expensive': 84, 'fantastic': 84, 'clubs': 84, '90': 84, 'cinema': 84, 'Reuters': 84, 'Hodgson': 84, 'links': 83, 'reforms': 83, 'savings': 83, 'remaining': 83, '1998': 83, 'fine': 83, 'Glasgow': 83, 'Even': 83, 'organisations': 83, 'Alex': 83, 'space': 83, 'plays': 83, 'yen': 83, 'California': 83, 'Woodward': 83, 'specific': 82, 'Collins': 82, 'holding': 82, 'Royal': 82, 'easily': 82, 'Media': 82, 'During': 82, 'developers': 82, 'overseas': 82, 'food': 82, 'material': 82, 'gain': 82, 'MCI': 82, 'Jason': 82, 'P2P': 82, 'worried': 81, 'knows': 81, 'providing': 81, 'runs': 81, '100m': 81, 'pensions': 81, 'failure': 81, 'forecasts': 81, 'Speaking': 81, 'fresh': 81, 'cast': 81, 'drawn': 81, 'pushed': 81, 'arrested': 81, 'decline': 81, '29': 81, 'partner': 81, 'States': 81, 'charged': 81, 'supply': 81, 'Rock': 81, 'Barcelona': 81, 'consoles': 81, 'Love': 81, 'Million': 81, 'paper': 80, 'worst': 80, 'terrorism': 80, 'trip': 80, 'Trade': 80, 'Live': 80, 'beating': 80, 'retirement': 80, 'Murray': 80, 'semi': 80, 'charts': 80, 'wi': 80, 'happens': 79, 'proposal': 79, 'operation': 79, 'considering': 79, 'follows': 79, 'criticism': 79, 'aim': 79, 'Black': 79, 'contest': 79, 'documents': 79, 'Hill': 79, 'room': 79, 'Also': 79, 'competitive': 79, 'unions': 79, 'wasn': 79, '34': 79, 'Kevin': 79, 'brand': 79, 'Parry': 79, 'fees': 78, 'cover': 78, 'Prescott': 78, 'sixth': 78, 'type': 78, 'Prince': 78, 'connections': 78, 'Northern': 78, 'thinks': 78, 'Sheffield': 78, 'finish': 78, 'tennis': 78, 'cheaper': 78, 'prove': 78, 'artist': 78, 'Best': 78, 'Dutch': 78, '800m': 78, 'Angeles': 78, 'elected': 77, 'waste': 77, 'Daily': 77, 'detailed': 77, 'speeds': 77, '4m': 77, 'charity': 77, 'treatment': 77, 'fun': 77, 'Jonathan': 77, 'C': 77, 'directed': 77, 'struggling': 77, 'approval': 77, 'beaten': 77, 'Football': 77, 'scale': 76, 'agenda': 76, 'complete': 76, 'mass': 76, 'encourage': 76, '300': 76, 'Clive': 76, 'entry': 76, 'Not': 76, 'documentary': 76, 'safe': 76, 'achieved': 76, '1994': 76, 'useful': 76, 'Aid': 76, 'owners': 76, 'graphics': 76, 'telecoms': 76, 'Edwards': 76, 'Federer': 76, 'communities': 75, 'disappointing': 75, 'older': 75, 'appearance': 75, 'delighted': 75, 'replacement': 75, 'opinion': 75, 'attention': 75, 'division': 75, 'option': 75, 'provided': 75, 'mortgage': 75, 'honour': 75, 'trillion': 75, 'Boeing': 75, 'tech': 75, 'satellite': 75, 'Award': 75, 'Radcliffe': 75, 'Everton': 75, 'athletes': 75, 'affairs': 74, 'region': 74, 'influence': 74, 'initially': 74, 'dismissed': 74, 'appears': 74, 'listen': 74, 'banned': 74, 'university': 74, 'competing': 74, '75': 74, 'parts': 74, 'delivered': 74, 'compensation': 74, 'hunt': 74, 'Phil': 74, 'Vodafone': 74, 'Indoor': 74, 'Driscoll': 74, 'Benitez': 74, 'Oliver': 73, 'seats': 73, 'federal': 73, 'weak': 73, 'reality': 73, 'sets': 73, 'Government': 73, 'perhaps': 73, 'vehicles': 73, 'basic': 73, 'gap': 73, 'road': 73, 'shared': 73, 'Bell': 73, 'Great': 73, 'cars': 73, 'Before': 73, 'Top': 73, 'Lanka': 73, 'Indonesia': 73, '8m': 73, 'directors': 73, 'SEC': 73, 'Swiss': 73, 'accounting': 73, 'Thompson': 73, 'performed': 73, 'Intel': 73, 'com': 73, 'rap': 73, 'MP3': 73, 'Vera': 73, 'Swank': 73, 'choose': 72, 'extremely': 72, 'ran': 72, '7m': 72, 'wouldn': 72, 'injured': 72, 'culture': 72, 'P': 72, 'wait': 72, 'hearing': 72, 'memory': 72, 'Game': 72, 'perform': 72, 'fastest': 72, 'losses': 72, 'finding': 72, 'innovation': 72, 'Air': 72, 'Stock': 72, 'indoor': 72, 'novel': 72, 'browser': 72, 'haven': 71, 'link': 71, 'effects': 71, 'reduced': 71, 'centres': 71, 'skills': 71, 'Davies': 71, 'acting': 71, 'raising': 71, 'core': 71, 'military': 71, 'damages': 71, 'signing': 71, 'task': 71, 'wing': 71, 'replaced': 71, 'risen': 71, 'optimistic': 71, 'Christian': 71, 'joint': 71, 'Forsyth': 71, 'allows': 71, 'theatre': 71, 'channel': 71, '60m': 71, 'infected': 71, 'fake': 71, 'tool': 71, 'owns': 71, 'Wimbledon': 71, 'studios': 71, 'MTV': 71, 'Angels': 71, '1980s': 70, 'Instead': 70, 'ideas': 70, 'emerged': 70, 'calling': 70, 'determined': 70, 'Leigh': 70, 'opened': 70, 'Wilson': 70, 'deals': 70, 'Rights': 70, 'backing': 70, 'aims': 70, 'payments': 70, 'scene': 70, 'monitor': 70, 'explained': 70, '7bn': 70, 'Tom': 70, 'Star': 70, 'Drake': 70, 'respect': 69, 'seat': 69, 'stronger': 69, 'recognise': 69, 'risks': 69, 'nuclear': 69, 'killed': 69, 'profile': 69, 'science': 69, 'targeted': 69, 'stability': 69, 'physical': 69, 'quick': 69, 'drinking': 69, 'actions': 69, 'larger': 69, 'Dublin': 69, 'famous': 69, 'Graham': 69, 'screens': 69, 'classic': 69, 'banking': 69, 'PlayStation': 69, 'audio': 69, 'Dallaglio': 69, 'Henson': 69, 'Conte': 69, 'Scorsese': 69, 'jail': 68, 'lists': 68, 'constitution': 68, 'murder': 68, 'package': 68, 'begin': 68, 'pick': 68, 'councils': 68, 'Houston': 68, 'write': 68, 'advertising': 68, 'reasons': 68, 'administration': 68, 'Big': 68, 'controls': 68, 'mid': 68, 'art': 68, '32': 68, 'crude': 68, 'founder': 68, '200m': 68, 'patents': 68, 'Bellamy': 68, 'land': 67, 'poster': 67, 'pointed': 67, 'abroad': 67, 'welcomed': 67, 'defended': 67, 'prison': 67, 'willing': 67, 'usually': 67, 'contact': 67, 'intended': 67, 'clean': 67, 'Once': 67, 'completed': 67, 'adults': 67, 'penalties': 67, 'attend': 67, '65': 67, 'regular': 67, 'acts': 67, '36': 67, 'engines': 67, 'contrast': 67, 'Sun': 67, 'owner': 67, 'slowdown': 67, 'Mini': 67, 'concert': 67, 'nominees': 67, 'Elvis': 67, 'medal': 67, 'blamed': 66, 'expressed': 66, 'eventually': 66, 'signs': 66, 'driving': 66, 'asking': 66, 'Mrs': 66, 'employment': 66, 'Southampton': 66, 'controlled': 66, 'turning': 66, 'class': 66, 'stressed': 66, 'producing': 66, 'Anti': 66, 'scandal': 66, 'From': 66, 'Murphy': 66, 'ones': 66, 'Channel': 66, 'settlement': 66, 'winter': 66, 'shut': 66, 'dance': 66, 'Milan': 66, 'downloaded': 66, 'computing': 66, 'Wasps': 66, 'Davenport': 66, 'Eastwood': 66, 'foot': 65, 'campaigning': 65, 'Phillips': 65, 'transport': 65, 'reaching': 65, 'seem': 65, 'greatest': 65, 'suffering': 65, 'challenges': 65, 'crisis': 65, 'obviously': 65, 'Agency': 65, 'options': 65, 'demands': 65, 'directly': 65, 'breaking': 65, 'label': 65, 'donations': 65, 'electronic': 65, '250': 65, 'HIV': 65, 'managing': 65, 'Republic': 65, 'tools': 65, 'earned': 65, 'thanks': 65, '48': 65, 'airlines': 65, 'dollars': 65, 'Federal': 65, 'creditors': 65, 'L': 65, 'Halo': 65, 'Old': 64, 'Jewish': 64, 'candidate': 64, 'Britons': 64, 'deputy': 64, 'Chief': 64, 'conducted': 64, 'originally': 64, 'wife': 64, 'direction': 64, 'desktop': 64, 'door': 64, 'quoted': 64, 'clash': 64, 'aged': 64, 'balance': 64, 'correspondent': 64, 'industrial': 64, 'employees': 64, 'deep': 64, 'Aids': 64, 'session': 64, 'performances': 64, 'daily': 64, 'Ross': 64, 'electronics': 64, 'leg': 64, 'Ask': 64, 'Jeeves': 64, 'Theatre': 64, 'PSP': 64, '000m': 64, 'doping': 64, 'Sideways': 64, 'movement': 63, 'Her': 63, 'wider': 63, 'effective': 63, 'cheap': 63, 'stopped': 63, 'son': 63, 'sentence': 63, 'sensitive': 63, 'Board': 63, 'contribution': 63, 'parliamentary': 63, 'peace': 63, '2007': 63, '2008': 63, 'factor': 63, 'totally': 63, 'learn': 63, 'eye': 63, '150': 63, 'closely': 63, 'false': 63, 'desire': 63, 'hugely': 63, 'enter': 63, 'worse': 63, 'brands': 63, 'Securities': 63, 'Texas': 63, 'corner': 63, 'feels': 63, 'Online': 63, 'focused': 63, 'About': 63, 'ticket': 63, 'Show': 63, 'Opera': 63, 'Wilkinson': 63, 'Ruddock': 63, 'announce': 62, 'promise': 62, 'remember': 62, 'citizens': 62, 'granted': 62, 'Muslim': 62, 'votes': 62, 'placed': 62, 'negotiations': 62, 'approved': 62, 'hear': 62, 'weather': 62, 'capable': 62, 'Road': 62, 'Only': 62, 'safety': 62, 'camp': 62, 'relatively': 62, 'Gary': 62, 'interesting': 62, 'ink': 62, 'researchers': 62, 'pulled': 62, 'lawyers': 62, 'shareholder': 62, 'GDP': 62, 'Marsh': 62, 'manufacturers': 62, 'iTunes': 62, 'handset': 62, 'BitTorrent': 62, 'sequel': 62, 'domain': 62, 'Athletics': 62, 'Staunton': 62, 'Westminster': 61, 'controversy': 61, 'referendum': 61, 'colour': 61, 'agencies': 61, 'creation': 61, 'St': 61, 'middle': 61, 'merger': 61, 'praised': 61, 'telling': 61, 'lord': 61, 'Human': 61, 'attempts': 61, 'journalists': 61, 'estimates': 61, 'expansion': 61, 'upon': 61, 'unable': 61, 'fan': 61, 'cope': 61, 'Super': 61, 'popularity': 61, 'Brazil': 61, 'Bond': 61, 'hardware': 61, 'Championship': 61, 'laptop': 61, 'cable': 61, 'downloads': 61, 'flanker': 61, 'ambitions': 60, 'reading': 60, 'vision': 60, 'Among': 60, 'colleagues': 60, 'Justice': 60, 'attacking': 60, 'freedom': 60, 'speak': 60, 'defend': 60, 'Goldsmith': 60, 'threats': 60, 'enjoyed': 60, 'awarded': 60, 'platform': 60, 'debts': 60, 'disappointed': 60, 'definitely': 60, 'lines': 60, 'blow': 60, 'enjoy': 60, 'fixed': 60, 'outstanding': 60, 'Frank': 60, 'Disney': 60, 'Euronext': 60, 'Electronics': 60, 'Ferdinand': 60, 'Moya': 60, 'Souness': 60, 'Agassi': 60, 'officers': 59, 'ethnic': 59, 'sources': 59, 'properly': 59, 'Public': 59, 'exactly': 59, 'judges': 59, 'nice': 59, 'changing': 59, 'commitment': 59, 'borrowing': 59, 'application': 59, 'partly': 59, 'Security': 59, 'letter': 59, 'possibility': 59, 'vast': 59, 'lifted': 59, 'proper': 59, 'Industry': 59, 'rich': 59, 'injuries': 59, 'creative': 59, 'ordered': 59, 'writer': 59, 'learning': 59, 'wine': 59, 'Rooney': 59, 'WorldCom': 59, 'La': 59, 'copyright': 59, 'pirated': 59, 'Project': 59, 'EA': 59, 'soul': 59, 'Cole': 59, 'alternative': 58, 'violence': 58, 'Letwin': 58, 'solution': 58, 'keeping': 58, 'arm': 58, 'becomes': 58, 'knee': 58, 'ownership': 58, '2010': 58, 'Society': 58, 'reportedly': 58, 'tickets': 58, 'finances': 58, 'First': 58, 'loans': 58, 'loan': 58, 'maybe': 58, 'obvious': 58, 'heavy': 58, 'arms': 58, 'practice': 58, 'switch': 58, 'Berlin': 58, 'shops': 58, 'Canada': 58, 'tight': 58, 'plus': 58, 'collection': 58, 'distance': 58, 'stations': 58, 'exciting': 58, 'Half': 58, 'Joss': 58, 'Nokia': 58, 'attacked': 57, 'seemed': 57, 'earn': 57, 'necessary': 57, 'Leeds': 57, 'initiative': 57, 'dedicated': 57, 'Charlie': 57, 'male': 57, 'channels': 57, 'status': 57, 'defender': 57, 'Cell': 57, 'professional': 57, 'topped': 57, 'pushing': 57, 'Bafta': 57, 'posted': 57, 'couldn': 57, 'Sales': 57, 'Van': 57, 'recover': 57, 'Linux': 57, 'nomination': 57, 'Sale': 57, 'commissioner': 56, 'opposed': 56, 'Hughes': 56, 'threatened': 56, 'vulnerable': 56, 'Telegraph': 56, '53': 56, 'closer': 56, 'visa': 56, 'individuals': 56, 'friendly': 56, 'Law': 56, 'lowest': 56, 'father': 56, 'fee': 56, 'rumours': 56, 'required': 56, 'apologise': 56, 'stores': 56, 'Blue': 56, 'rupees': 56, 'Potter': 56, 'AC': 56, 'capt': 56, 'Gloucester': 56, 'earning': 55, '1990s': 55, 'affect': 55, 'automatically': 55, 'helps': 55, 'venture': 55, 'Ministers': 55, 'friend': 55, 'roles': 55, 'afford': 55, 'trials': 55, 'standing': 55, '400': 55, 'racist': 55, 'contracts': 55, 'lots': 55, 'invest': 55, 'Bob': 55, 'collapse': 55, 'table': 55, 'combined': 55, '42': 55, 'related': 55, 'perfect': 55, 'legitimate': 55, 'water': 55, 'agent': 55, 'ray': 55, 'Lisbon': 55, 'items': 55, 'BMW': 55, 'kicking': 55, 'upgrade': 55, 'champions': 55, 'DiCaprio': 55, 'actors': 55, 'limits': 54, 'base': 54, 'parliament': 54, 'remove': 54, 'Federation': 54, 'essential': 54, 'organised': 54, 'minority': 54, 'initial': 54, 'reporters': 54, 'pleased': 54, 'Will': 54, 'Young': 54, 'papers': 54, 'intelligence': 54, 'environmental': 54, 'Gates': 54, '800': 54, 'commission': 54, 'variety': 54, 'operator': 54, 'thrown': 54, 'Ulster': 54, 'illegally': 54, 'wild': 54, 'autumn': 54, 'comeback': 54, 'retailers': 54, 'Mary': 54, 'edge': 54, 'Economic': 54, 'handle': 54, 'fiscal': 54, 'Swansea': 54, 'van': 54, 'assistant': 54, 'superb': 54, 'boosted': 54, 'purchase': 54, 'Khodorkovsky': 54, 'providers': 54, 'CES': 54, 'scrum': 54, 'keeper': 54, 'Safin': 54, 'pitch': 53, 'insists': 53, 'reducing': 53, 'backs': 53, 'argues': 53, 'Borders': 53, 'split': 53, 'Douglas': 53, 'wanting': 53, 'carefully': 53, 'structure': 53, 'ambition': 53, 'Centre': 53, 'recognised': 53, 'registered': 53, 'Currently': 53, 'Foundation': 53, 'mistake': 53, 'department': 53, 'gained': 53, 'reputation': 53, 'potentially': 53, '3m': 53, 'younger': 53, 'offence': 53, 'industries': 53, 'infrastructure': 53, 'grown': 53, 'incident': 53, 'quarters': 53, 'veteran': 53, 'Delta': 53, 'sued': 53, 'construction': 53, 'Norwich': 53, 'U2': 53, 'distribution': 53, 'De': 53, 'Peel': 53, 'Blues': 53, 'athletics': 53, 'Cent': 53, 'stories': 52, 'membership': 52, 'abuse': 52, 'posters': 52, 'prompted': 52, 'joining': 52, 'evening': 52, 'secured': 52, 'ensuring': 52, 'truth': 52, 'succeed': 52, 'Sweden': 52, 'Cross': 52, 'golden': 52, 'justice': 52, 'achieve': 52, 'declared': 52, '64': 52, 'letting': 52, 'normal': 52, 'multi': 52, 'represent': 52, 'forces': 52, 'block': 52, 'dead': 52, 'sharp': 52, 'Club': 52, 'categories': 52, 'tracks': 52, 'Next': 52, 'Arts': 52, 'headed': 52, 'Miller': 52, 'copy': 52, 'duo': 52, 'Gartner': 52, '9m': 52, '1500m': 52, 'argument': 51, 'commit': 51, 'Asked': 51, 'championship': 51, 'criminals': 51, 'walk': 51, 'Services': 51, 'gains': 51, 'super': 51, 'declined': 51, 'patients': 51, 'involvement': 51, 'usual': 51, 'gathered': 51, 'episode': 51, 'achievement': 51, 'tribunal': 51, 'Falconer': 51, 'genuine': 51, 'journalist': 51, 'resources': 51, 'provides': 51, 'complaint': 51, 'closing': 51, 'complex': 51, 'aircraft': 51, 'Like': 51, 'subscribers': 51, 'established': 51, '39': 51, 'reserves': 51, 'Congress': 51, 'seventh': 51, 'Kong': 51, 'patent': 51, 'Fed': 51, 'Wal': 51, 'Users': 51, 'Motorola': 51, 'laser': 51, 'Paula': 51, 'rapper': 51, 'badly': 50, 'Latin': 50, 'Critics': 50, 'promises': 50, 'welcome': 50, 'spring': 50, 'leads': 50, 'ballot': 50, 'shape': 50, 'odds': 50, 'hosted': 50, 'proud': 50, 'largely': 50, 'moves': 50, 'trusted': 50, 'encouraging': 50, 'entirely': 50, 'extend': 50, 'cleared': 50, 'newspapers': 50, 'southern': 50, 'Hilary': 50, 'whom': 50, 'complaints': 50, 'efficient': 50, 'Boys': 50, 'Matthew': 50, 'employers': 50, '43': 50, 'hospital': 50, 'strongly': 50, 'USA': 50, 'Pro': 50, 'Americans': 50, 'receiving': 50, 'Iran': 50, 'passengers': 50, 'testing': 50, 'interactive': 50, 'customer': 50, 'X': 50, 'hurt': 50, 'subsidiary': 50, 'page': 50, 'Mart': 50, 'Firefox': 50, 'favourites': 50, 'Dean': 50, 'Blu': 50, 'Simonetti': 50, 'Uefa': 50, 'Balco': 50, 'mainstream': 49, 'entered': 49, 'argue': 49, 'Just': 49, 'Executive': 49, 'Then': 49, 'governments': 49, 'anniversary': 49, 'maintain': 49, 'struck': 49, 'Liam': 49, 'buyers': 49, 'sought': 49, 'tribute': 49, 'highlighted': 49, '2m': 49, 'additional': 49, 'W': 49, 'resigned': 49, 'hundreds': 49, 'likes': 49, 'apart': 49, 'Brother': 49, 'dispute': 49, 'delayed': 49, 'Don': 49, 'organisers': 49, 'settle': 49, 'piece': 49, 'Ukraine': 49, '1993': 49, 'equipment': 49, 'pleaded': 49, '38': 49, 'cool': 49, 'economists': 49, 'Thailand': 49, 'yards': 49, 'listing': 49, 'Roberts': 49, 'Kate': 49, 'Oil': 49, 'Chicago': 49, 'Airbus': 49, 'broadcasting': 49, 'audiences': 49, 'servers': 49, 'Twickenham': 49, 'reflects': 48, 'treated': 48, 'detained': 48, 'Evans': 48, 'Every': 48, 'tend': 48, 'feeling': 48, 'lies': 48, '600': 48, 'appointed': 48, 'funded': 48, 'fewer': 48, 'indicated': 48, 'returning': 48, 'UN': 48, 'era': 48, 'Jim': 48, 'aiming': 48, 'predict': 48, 'terrorist': 48, 'selection': 48, 'apply': 48, 'entire': 48, 'summit': 48, 'Why': 48, 'mother': 48, 'listed': 48, 'meetings': 48, 'Fund': 48, 'G8': 48, 'Any': 48, 'addition': 48, 'regularly': 48, 'holiday': 48, 'ease': 48, 'tested': 48, 'sister': 48, 'Ben': 48, '52': 48, 'preparing': 48, 'medical': 48, 'Kim': 48, 'Blackburn': 48, 'lending': 48, 'premium': 48, 'LG': 48, 'Franz': 48, 'virtual': 48, 'processor': 48, 'XP': 48, 'laptops': 48, 'Ronaldo': 48, 'Mirza': 48, 'kicked': 47, 'seriously': 47, 'protected': 47, 'ordinary': 47, 'selected': 47, 'assembly': 47, 'Bay': 47, 'Trust': 47, 'Parker': 47, 'wish': 47, 'Shadow': 47, 'Wright': 47, 'publish': 47, 'damaging': 47, 'Las': 47, 'expert': 47, 'struggle': 47, 'understood': 47, 'worry': 47, 'saved': 47, '35bn': 47, 'households': 47, 'opens': 47, 'scheduled': 47, 'immediate': 47, 'excellent': 47, 'stepped': 47, 'pledge': 47, 'retired': 47, 'belief': 47, 'Almost': 47, 'welfare': 47, 'Nick': 47, 'Who': 47, 'recording': 47, 'require': 47, '37': 47, 'prop': 47, 'author': 47, '33': 47, 'Craig': 47, 'Moore': 47, '55': 47, 'Alexander': 47, '9bn': 47, 'Heineken': 47, 'sophisticated': 47, 'Virgin': 47, 'Shane': 47, 'downloading': 47, 'doubles': 47, 'musicians': 47, 'Lycos': 47, 'Blacks': 47, 'marathon': 47, 'Stade': 47, 'faith': 46, 'matters': 46, 'entitled': 46, 'School': 46, 'conflict': 46, 'instance': 46, 'cities': 46, 'wake': 46, 'Edward': 46, 'draft': 46, 'dramatic': 46, 'attorney': 46, 'confidential': 46, 'resolution': 46, 'climate': 46, 'dubbed': 46, 'drink': 46, 'Development': 46, 'Finance': 46, 'Cable': 46, 'south': 46, 'discussed': 46, 'danger': 46, 'ten': 46, 'officially': 46, 'understanding': 46, 'billions': 46, 'respond': 46, 'adds': 46, 'therefore': 46, 'angry': 46, 'knocked': 46, 'returns': 46, 'parent': 46, 'pages': 46, 'prizes': 46, 'honours': 46, 'writers': 46, 'proving': 46, 'holder': 46, 'bids': 46, 'guys': 46, 'falls': 46, 'Carlos': 46, 'Rover': 46, 'Ofcom': 46, 'albums': 46, 'qualifying': 46, 'Toshiba': 46, 'Jupiter': 46, 'formats': 46, 'genre': 46, 'Finding': 46, 'Rusedski': 46, 'Lewsey': 46, 'Alicia': 46, 'pocket': 45, 'flying': 45, 'represents': 45, 'constituency': 45, 'acknowledged': 45, 'served': 45, 'bench': 45, 'Ken': 45, 'communications': 45, 'governing': 45, 'suggesting': 45, 'Veritas': 45, 'schemes': 45, 'detainees': 45, 'importance': 45, 'removed': 45, 'Vegas': 45, 'apology': 45, 'convicted': 45, 'forget': 45, 'rural': 45, 'E': 45, 'Switzerland': 45, 'fines': 45, 'broadcasters': 45, 'regional': 45, 'arrived': 45, 'democracy': 45, 'Gareth': 45, 'Livingstone': 45, 'discussions': 45, 'suit': 45, 'recognition': 45, 'Video': 45, 'lived': 45, 'labels': 45, 'flights': 45, 'medium': 45, 'elements': 45, 'remote': 45, 'bands': 45, 'flat': 45, 'addresses': 45, 'Wall': 45, 'starts': 45, 'predicts': 45, 'jumped': 45, 'holds': 45, 'Airlines': 45, 'triple': 45, 'Dubai': 45, 'photos': 45, 'junk': 45, 'Francisco': 45, 'subscription': 45, 'HDTV': 45, 'CD': 45, 'header': 45, 'Gallas': 45, 'Keane': 45, 'Imelda': 45, 'forthcoming': 44, 'breakthrough': 44, 'pupils': 44, 'candidates': 44, 'branded': 44, 'caught': 44, 'Century': 44, 'regulations': 44, 'bodies': 44, 'unfair': 44, 'poorest': 44, 'stolen': 44, 'worrying': 44, 'perfectly': 44, 'meanwhile': 44, 'disease': 44, 'print': 44, 'allegedly': 44, 'register': 44, 'investigating': 44, 'spoke': 44, 'presenter': 44, 'shock': 44, 'measure': 44, 'contained': 44, '44': 44, 'Connor': 44, 'Health': 44, 'Independent': 44, 'Bolton': 44, 'cold': 44, 'economies': 44, 'appointment': 44, 'unique': 44, 'regulator': 44, 'investments': 44, 'supplies': 44, 'impressed': 44, 'Jean': 44, 'Brazilian': 44, 'Barclays': 44, 'flight': 44, 'Argentine': 44, 'Entertainment': 44, 'Go': 44, 'Stuart': 44, 'Software': 44, 'runners': 44, 'Gavin': 44, 'spammers': 44, 'relay': 44, 'Johnny': 44, 'Barkley': 44, 'ankle': 44, 'Charlton': 44, 'McIlroy': 44, 'Cueto': 44, 'advance': 43, 'tackling': 43, 'readers': 43, 'enable': 43, 'sex': 43, 'regime': 43, 'betting': 43, '56': 43, 'plenty': 43, 'decades': 43, 'Butler': 43, 'equivalent': 43, 'Energy': 43, 'supported': 43, 'aside': 43, 'sometimes': 43, 'McConnell': 43, 'pack': 43, 'involving': 43, 'Middle': 43, 'eyes': 43, 'suffer': 43, 'pull': 43, 'daughter': 43, 'factory': 43, 'challenging': 43, 'percentage': 43, 'Clark': 43, 'begun': 43, 'hospitals': 43, 'bills': 43, 'promote': 43, 'representing': 43, 'Ford': 43, '49': 43, 'absence': 43, 'Such': 43, 'anywhere': 43, 'lock': 43, 'heavily': 43, 'bottom': 43, 'Little': 43, 'subsidies': 43, 'Hong': 43, 'Baikal': 43, 'Yuganskneftegas': 43, 'Corporation': 43, 'Electronic': 43, '3D': 43, 'Presley': 43, 'hamstring': 43, 'Munster': 43, 'Laporte': 43, 'Villa': 43, 'Education': 42, 'substantial': 42, 'Oaten': 42, 'Independence': 42, 'assess': 42, 'sparked': 42, 'appropriate': 42, 'destruction': 42, 'attracted': 42, '47': 42, 'fired': 42, 'Hague': 42, 'divide': 42, 'mainly': 42, 'terrorists': 42, 'departure': 42, 'fundamental': 42, 'surrounding': 42, 'combination': 42, 'Global': 42, 'spoken': 42, 'applications': 42, 'highlight': 42, 'associated': 42, '85': 42, 'identity': 42, 'Brussels': 42, 'Netherlands': 42, 'chose': 42, 'desperate': 42, 'vehicle': 42, 'Peston': 42, 'scenes': 42, 'tells': 42, 'breaks': 42, 'operate': 42, 'knowledge': 42, 'disabled': 42, 'tobacco': 42, 'BNP': 42, 'adverts': 42, 'train': 42, 'scoring': 42, 'Malcolm': 42, 'watched': 42, 'hero': 42, 'McDonald': 42, 'Melbourne': 42, 'turns': 42, '1985': 42, 'Serena': 42, 'overcome': 42, 'Bridge': 42, 'materials': 42, 'Band': 42, 'distribute': 42, 'WTO': 42, 'Parmalat': 42, 'Airways': 42, 'Company': 42, 'battery': 42, 'steel': 42, 'provider': 42, 'Dawson': 42, 'UWB': 42, 'IPTV': 42, 'robot': 42, 'screensaver': 42, 'gig': 42, 'Clint': 42, 'Giggs': 42, 'Duff': 42, 'midfielder': 42, 'Tait': 42, 'Anfield': 42, 'Keys': 42, 'outcome': 41, 'student': 41, 'indeed': 41, 'theme': 41, 'atmosphere': 41, 'purpose': 41, 'pensioners': 41, 'Deputy': 41, 'circumstances': 41, 'stuff': 41, 'analysis': 41, 'visiting': 41, 'impossible': 41, 'connected': 41, 'Callaghan': 41, 'generally': 41, 'jury': 41, 'everybody': 41, 'lift': 41, 'ratings': 41, 'solid': 41, 'activities': 41, 'rapid': 41, 'introduction': 41, 'withdraw': 41, 'ill': 41, 'Margaret': 41, 'prosecutors': 41, 'fire': 41, 'spokesperson': 41, 'fought': 41, 'extended': 41, 'ultimate': 41, 'widespread': 41, 'Guantanamo': 41, 'suspension': 41, 'victim': 41, 'adopted': 41, 'allies': 41, 'smoking': 41, 'upbeat': 41, 'animals': 41, 'Beijing': 41, 'export': 41, 'K': 41, 'accident': 41, 'signals': 41, 'begins': 41, 'crash': 41, 'moments': 41, 'Without': 41, 'Central': 41, 'ONS': 41, 'outlook': 41, 'Reserve': 41, 'struggled': 41, 'plant': 41, 'AOL': 41, 'N': 41, 'Simpson': 41, 'RBS': 41, 'boxes': 41, 'Joe': 41, 'Jonny': 41, 'characters': 41, 'silicon': 41, 'Nielsen': 41, 'robots': 41, 'Test': 41, 'fitness': 41, 'starred': 41, 'Gardener': 41, 'Francis': 41, 'attract': 40, 'mixed': 40, 'window': 40, 'Neil': 40, 'protest': 40, 'sporting': 40, 'dinner': 40, 'forms': 40, 'Robin': 40, 'replacing': 40, 'Over': 40, 'regulation': 40, 'Affairs': 40, 'processing': 40, 'Jeremy': 40, 'intention': 40, 'Islamic': 40, 'operates': 40, 'presence': 40, 'harder': 40, 'conduct': 40, 'entering': 40, 'payment': 40, 'realised': 40, 'Policy': 40, '50m': 40, 'covered': 40, 'strategic': 40, 'types': 40, 'legend': 40, 'note': 40, 'steps': 40, 'Palestinian': 40, 'realise': 40, 'multiple': 40, 'embargo': 40, 'acquisition': 40, 'discovered': 40, 'chips': 40, 'reconstruction': 40, 'adult': 40, '400m': 40, 'ministry': 40, 'performing': 40, 'End': 40, 'Bruce': 40, 'nervous': 40, 'improvement': 40, 'Country': 40, 'recession': 40, 'profitable': 40, 'Motors': 40, 'directive': 40, 'silver': 40, 'hi': 40, 'dial': 40, 'replay': 40, 'RFID': 40, 'Rafael': 40, 'Robben': 40, 'Tottenham': 40, 'screenplay': 40, 'discipline': 39, 'refuse': 39, 'priority': 39, 'teachers': 39, 'reaction': 39, 'hardly': 39, 'guarantee': 39, 'document': 39, 'Rome': 39, 'sustained': 39, 'cabinet': 39, 'stands': 39, 'Given': 39, 'offices': 39, 'decent': 39, 'reduction': 39, 'weapons': 39, 'launching': 39, 'glad': 39, 'statements': 39, 'statistics': 39, 'estimate': 39, 'reveal': 39, 'detention': 39, 'household': 39, 'roll': 39, 'Mail': 39, 'wonderful': 39, 'normally': 39, 'stored': 39, 'Professor': 39, 'labour': 39, '6m': 39, 'headquarters': 39, 'accessible': 39, 'engineering': 39, 'equal': 39, 'happening': 39, 'McLetchie': 39, 'sacked': 39, 'prosecution': 39, 'dogs': 39, 'request': 39, 'gun': 39, 'initiatives': 39, 'cancelled': 39, 'Wars': 39, 'pilot': 39, 'prospects': 39, 'upset': 39, 'Wood': 39, 'compiled': 39, 'dream': 39, 'Middlesbrough': 39, 'Corp': 39, 'Saudi': 39, '95': 39, 'fashion': 39, 'Cairn': 39, 'hybrid': 39, 'nets': 39, 'athlete': 39, 'Grammy': 39, 'Meet': 39, 'elderly': 38, 'promising': 38, 'Frost': 38, 'timing': 38, 'campaigners': 38, 'represented': 38, 'Guy': 38, 'defending': 38, 'hotel': 38, 'husband': 38, '87': 38, 'scrutiny': 38, 'ongoing': 38, 'handling': 38, 'judgement': 38, '700': 38, 'reflect': 38, 'affordable': 38, 'Egypt': 38, 'alliance': 38, 'Turkish': 38, 'ignored': 38, 'combat': 38, 'check': 38, 'tactics': 38, 'specialist': 38, '62': 38, 'Information': 38, 'various': 38, 'reasonable': 38, 'doubled': 38, 'Yet': 38, 'Aston': 38, 'Bennett': 38, 'rebate': 38, 'Stewart': 38, 'hitting': 38, 'remarks': 38, 'mayor': 38, 'Well': 38, 'afterwards': 38, 'rely': 38, 'enormous': 38, 'Organisation': 38, 'shoot': 38, 'convinced': 38, 'fined': 38, 'rarely': 38, 'prospect': 38, 'amazing': 38, 'awareness': 38, 'recall': 38, 'wages': 38, 'units': 38, 'wearing': 38, 'planes': 38, 'Me': 38, 'Pop': 38, 'slower': 38, 'monitoring': 38, 'DJ': 38, 'regulators': 38, 'Nicolas': 38, 'G7': 38, 'rating': 38, 'barrel': 38, 'Retail': 38, 'Greece': 38, 'Ericsson': 38, 'bandwidth': 38, 'Broadband': 38, 'generate': 38, 'takings': 38, 'triumph': 38, 'releasing': 38, 'Bollywood': 38, 'Doherty': 38, 'GB': 38, 'Connell': 38, 'Carling': 38, 'goalkeeper': 38, 'screened': 38, 'optimism': 37, 'incredible': 37, 'deeply': 37, 'Parliamentary': 37, 'servants': 37, 'Director': 37, 'nor': 37, '57': 37, 'hole': 37, 'serving': 37, 'departments': 37, 'chat': 37, 'consumption': 37, 'formal': 37, 'dealt': 37, 'boosting': 37, 'suspected': 37, 'nature': 37, 'string': 37, 'select': 37, 'persuade': 37, 'opponents': 37, 'offences': 37, 'guidance': 37, 'hidden': 37, 'boom': 37, 'applied': 37, 'Monetary': 37, 'freeze': 37, 'shop': 37, 'Women': 37, 'negative': 37, 'repeatedly': 37, 'gross': 37, 'photo': 37, 'H': 37, 'harm': 37, 'Square': 37, 'behalf': 37, 'delivery': 37, 'Data': 37, 'shocked': 37, 'blind': 37, 'festive': 37, 'maintained': 37, 'founded': 37, 'Maria': 37, 'manage': 37, 'Management': 37, 'defeated': 37, 'consecutive': 37, 'gather': 37, 'Bernard': 37, 'revolution': 37, 'F': 37, 'topping': 37, 'imports': 37, 'Moody': 37, 'drives': 37, 'competitors': 37, 'tags': 37, 'encounter': 37, 'epic': 37, 'Commodore': 37, 'Skype': 37, 'Screen': 37, 'boy': 37, 'midfield': 37, 'Martyn': 37, 'Corry': 37, 'Juninho': 37, 'sprinters': 37, 'Kuznetsova': 37, 'Aragones': 37, 'Neverland': 37, 'Jimmy': 36, 'Terry': 36, 'dangerous': 36, 'sentences': 36, 'commissioned': 36, 'ultimately': 36, 'carrying': 36, 'whatever': 36, 'arguing': 36, 'protests': 36, 'sensible': 36, 'anticipated': 36, 'revised': 36, 'mood': 36, 'thirds': 36, 'severe': 36, 'remarkable': 36, 'Number': 36, 'suspicion': 36, 'possibly': 36, 'Authority': 36, 'ourselves': 36, 'fail': 36, 'deserved': 36, 'talented': 36, 'concluded': 36, 'succession': 36, 'Nigel': 36, 'herself': 36, 'intervention': 36, 'worlds': 36, 'featured': 36, 'praise': 36, 'Ministry': 36, 'resort': 36, 'background': 36, 'Cooper': 36, 'partners': 36, 'workforce': 36, 'Foster': 36, 'Portsmouth': 36, 'aspects': 36, 'motivated': 36, 'contains': 36, 'dip': 36, 'functions': 36, 'Dan': 36, 'Communications': 36, 'Frankfurt': 36, 'collect': 36, 'lucrative': 36, 'Boston': 36, 'shoppers': 36, 'Press': 36, 'luxury': 36, 'Rings': 36, 'concept': 36, 'Qantas': 36, '72': 36, 'keyboard': 36, 'HP': 36, 'worm': 36, 'Johansson': 36, 'experienced': 35, 'suggestions': 35, 'impression': 35, 'burden': 35, 'meaning': 35, 'Local': 35, 'Ham': 35, 'featuring': 35, 'affair': 35, 'controlling': 35, 'fill': 35, 'Scots': 35, '120': 35, 'Cook': 35, 'voter': 35, 'insist': 35, 'NHS': 35, 'strengthen': 35, 'formed': 35, 'wave': 35, 'Division': 35, 'mistakes': 35, 'Alliance': 35, 'legally': 35, 'innocent': 35, 'explain': 35, 'nobody': 35, 'deny': 35, 'unacceptable': 35, 'shake': 35, 'counter': 35, 'Commerce': 35, 'blocking': 35, 'secret': 35, 'sectors': 35, 'capability': 35, 'dark': 35, 'consultation': 35, 'route': 35, 'blame': 35, 'Israeli': 35, 'Oxford': 35, 'Statistics': 35, 'Against': 35, 'factors': 35, 'Mexico': 35, 'facilities': 35, 'imposed': 35, 'coverage': 35, 'Adam': 35, 'Brits': 35, 'intentions': 35, 'worries': 35, 'confirm': 35, 'amounts': 35, 'passing': 35, 'Cuba': 35, 'Colin': 35, 'Capital': 35, 'peak': 35, 'hurdles': 35, 'coaches': 35, 'slipped': 35, 'arrival': 35, 'Korean': 35, 'filing': 35, 'Verizon': 35, 'surge': 35, 'Do': 35, 'Mercedes': 35, 'Mitsubishi': 35, 'Spider': 35, 'Lopez': 35, 'globally': 35, 'Eddie': 35, 'Amazon': 35, 'Orange': 35, 'Universal': 35, 'displays': 35, 'Andreas': 35, 'Jay': 35, 'messaging': 35, 'Stadium': 35, 'eBay': 35, 'Pew': 35, 'inspired': 35, 'winger': 35, 'bloggers': 35, 'maps': 35, 'phishing': 35, 'hosting': 35, 'adaptation': 35, 'Lindsay': 35, 'stages': 35, 'skipper': 35, 'Drogba': 35, 'Tommy': 35, 'Lleyton': 35, 'Chepkemei': 35, 'Brit': 35, 'Fockers': 35, 'Bowl': 35, 'reject': 34, 'recommended': 34, 'conspiracy': 34, 'polls': 34, 'ignore': 34, 'yes': 34, 'influential': 34, 'trick': 34, 'stood': 34, 'Muslims': 34, 'principle': 34, 'Alastair': 34, 'peers': 34, 'prefer': 34, 'attended': 34, 'restructuring': 34, 'attempting': 34, 'chamber': 34, 'stayed': 34, 'stance': 34, 'improvements': 34, 'regarding': 34, 'publicly': 34, 'association': 34, '54': 34, 'pledges': 34, 'War': 34, 'stick': 34, 'picking': 34, '500m': 34, 'significantly': 34, '1995': 34, 'Convention': 34, 'sitting': 34, '51': 34, '1960s': 34, 'crown': 34, 'express': 34, 'client': 34, 'seeks': 34, 'north': 34, 'catch': 34, 'hunts': 34, 'thank': 34, 'binge': 34, 'ranging': 34, 'Czech': 34, 'bosses': 34, 'Briton': 34, 'Children': 34, 'brilliant': 34, 'Iraqi': 34, 'libraries': 34, 'hopefully': 34, 'Free': 34, 'Carroll': 34, 'successfully': 34, 'retire': 34, 'kids': 34, 'truly': 34, 'Balls': 34, 'MPC': 34, 'active': 34, 'familiar': 34, 'Ocean': 34, 'deficits': 34, 'giants': 34, 'Consumers': 34, 'fierce': 34, 'exposure': 34, 'theft': 34, 'Re': 34, 'western': 34, 'Nissan': 34, 'Trafford': 34, 'broadcaster': 34, 'schedule': 34, 'visual': 34, 'glory': 34, 'Millan': 34, 'Spaniard': 34, 'Dyer': 34, 'animated': 34, 'Cabir': 34, 'Subs': 34, 'Sharks': 34, 'Ospreys': 34, 'Lansdowne': 34, 'Byrne': 34, 'Easterby': 34, 'runner': 34, 'Andre': 34, 'Morrison': 34, 'Farrell': 34, 'Sundance': 34, 'premiere': 34, 'guitarist': 34, 'Usher': 34, 'resignation': 33, 'policing': 33, '1987': 33, 'investigate': 33, 'denies': 33, 'Assembly': 33, 'maximum': 33, 'advised': 33, 'married': 33, 'merge': 33, 'Midlands': 33, 'spin': 33, 'Pakistan': 33, 'saving': 33, 'delegates': 33, 'forgotten': 33, 'invited': 33, 'ranked': 33, 'internal': 33, 'west': 33, 'proof': 33, 'none': 33, 'mentioned': 33, 'Cyprus': 33, 'street': 33, 'marked': 33, 'Norway': 33, 'Daniel': 33, 'warm': 33, 'incomes': 33, 'breach': 33, 'Afghanistan': 33, 'Transport': 33, 'Up': 33, 'Stevens': 33, 'apparent': 33, 'headlines': 33, 'informed': 33, 'Speaker': 33, 'warnings': 33, 'habits': 33, 'tremendous': 33, 'encouraged': 33, 'Europeans': 33, 'somebody': 33, 'pressures': 33, 'smart': 33, 'teenage': 33, 'bar': 33, 'puts': 33, 'cultural': 33, 'TPS': 33, 'olds': 33, 'ending': 33, 'rebuild': 33, 'flexibility': 33, 'recalled': 33, '46': 33, 'wasted': 33, 'Marion': 33, '41': 33, 'Jobs': 33, 'Ashley': 33, 'Blackpool': 33, 'steal': 33, 'explains': 33, 'noted': 33, 'stocks': 33, 'Investors': 33, 'update': 33, 'offset': 33, 'slide': 33, 'investor': 33, 'highs': 33, 'Warner': 33, '74': 33, 'Samsung': 33, 'Ellis': 33, 'FBI': 33, 'Explorer': 33, 'recorders': 33, 'Dead': 33, 'MMS': 33, 'hosts': 33, 'Paterson': 33, 'Vickery': 33, 'championships': 33, 'Redknapp': 33, 'Kaplan': 33, 'Harriers': 33, 'Winslet': 33, 'Globe': 33, 'Da': 33, 'ballet': 33, 'grand': 32, 'Catholic': 32, 'extending': 32, 'discussion': 32, 'determination': 32, 'extraordinary': 32, 'exchanges': 32, 'lay': 32, 'stamp': 32, 'settled': 32, 'eighth': 32, 'promoting': 32, 'article': 32, 'studying': 32, 'mutual': 32, 'emergency': 32, 'mouse': 32, 'reacted': 32, 'streets': 32, 'casinos': 32, 'abused': 32, 'travelling': 32, 'sorts': 32, 'Morris': 32, 'Sports': 32, 'troops': 32, 'alcohol': 32, 'findings': 32, 'soap': 32, 'hopeful': 32, 'installed': 32, 'successive': 32, 'wealth': 32, 'trio': 32, 'delays': 32, 'feet': 32, 'presidential': 32, 'Tel': 32, 'qualified': 32, 'owed': 32, 'lie': 32, 'Because': 32, 'Mind': 32, 'cell': 32, 'fiction': 32, 'attempted': 32, 'Here': 32, 'brain': 32, 'disciplinary': 32, 'chain': 32, 'conceded': 32, 'heads': 32, 'troubled': 32, 'hotspots': 32, 'trophy': 32, 'broadcasts': 32, 'partnership': 32, 'Flight': 32, 'searching': 32, 'generated': 32, 'singing': 32, 'halt': 32, 'Roy': 32, 'booming': 32, 'Growth': 32, 'Net': 32, 'transactions': 32, 'carmaker': 32, 'sharply': 32, 'adventure': 32, 'Labs': 32, 'directing': 32, 'Reddy': 32, 'listeners': 32, 'Argonaut': 32, 'Tennis': 32, 'disc': 32, 'domains': 32, 'Night': 32, 'Jerry': 32, 'mate': 32, 'Ryan': 32, 'Neville': 32, 'Lampard': 32, 'Hickie': 32, 'Saints': 32, 'Leinster': 32, 'Singer': 32, 'Osbourne': 32, 'straightforward': 31, 'minorities': 31, 'relations': 31, 'aren': 31, 'somewhere': 31, 'values': 31, 'Thousands': 31, 'avoided': 31, 'personally': 31, 'Whilst': 31, 'Damien': 31, 'sit': 31, 'accurate': 31, 'absolute': 31, 'valued': 31, 'Guardian': 31, 'properties': 31, 'typical': 31, 'northern': 31, '20th': 31, 'Electoral': 31, 'Sam': 31, 'unveil': 31, 'publication': 31, 'deciding': 31, 'whilst': 31, 'contacted': 31, 'introducing': 31, 'drivers': 31, 'Patrick': 31, 'detail': 31, 'licence': 31, 'damaged': 31, 'positions': 31, 'resolve': 31, 'loose': 31, 'ends': 31, '1970s': 31, 'observers': 31, 'secondary': 31, 'throw': 31, 'worker': 31, 'momentum': 31, 'prior': 31, 'enjoying': 31, 'consistently': 31, 'Let': 31, 'Euro': 31, 'activists': 31, 'bail': 31, 'deserve': 31, 'shooting': 31, 'Lane': 31, 'episodes': 31, 'heading': 31, 'Your': 31, 'tiny': 31, 'respectively': 31, 'Mubanga': 31, 'Belgian': 31, 'Hotel': 31, 'Manuel': 31, 'Celebrity': 31, 'Western': 31, 'surgery': 31, 'honoured': 31, 'Everyone': 31, 'Canadian': 31, 'tonnes': 31, 'Mikhail': 31, 'WMC': 31, 'Fannie': 31, 'depth': 31, 'plane': 31, 'Southcorp': 31, 'click': 31, 'interact': 31, 'DRM': 31, 'Out': 31, 'Beckham': 31, 'languages': 31, 'MSN': 31, 'Telewest': 31, 'Spurs': 31, 'Tindall': 31, 'Dragons': 31, 'Kostas': 31, 'medallist': 31, 'Mutu': 31, 'Actor': 31, 'Hanks': 31, 'cautious': 30, 'historical': 30, 'offensive': 30, 'afternoon': 30, 'lessons': 30, 'authority': 30, 'Harris': 30, 'shortlist': 30, 'MEP': 30, 'privacy': 30, 'doctors': 30, 'employed': 30, 'Millennium': 30, 'elsewhere': 30, 'withdrawn': 30, '21st': 30, 'replied': 30, 'guidelines': 30, 'suicide': 30, 'Greg': 30, 'adviser': 30, 'gambling': 30, 'Defence': 30, 'Ex': 30, 'Hockney': 30, 'Kinnock': 30, 'Market': 30, 'pact': 30, 'sorry': 30, 'communication': 30, 'proportion': 30, 'adoption': 30, 'premier': 30, 'conversion': 30, 'buildings': 30, 'equity': 30, 'threatening': 30, 'swap': 30, 'matched': 30, 'joins': 30, 'institutions': 30, 'apologised': 30, 'Philip': 30, 'modest': 30, 'sums': 30, 'identify': 30, 'College': 30, '10bn': 30, 'vowed': 30, 'managers': 30, 'sufficient': 30, 'Barry': 30, 'innovative': 30, 'Schroeder': 30, 'maternity': 30, 'keynote': 30, 'quotas': 30, 'unusual': 30, 'clients': 30, 'Aviv': 30, 'east': 30, 'retain': 30, 'Prof': 30, 'Flynn': 30, 'politically': 30, '1996': 30, '#': 30, 'leap': 30, 'rebuilding': 30, 'Pound': 30, 'Shaun': 30, 'solve': 30, 'reporting': 30, 'Following': 30, 'slight': 30, 'pence': 30, 'booked': 30, 'Wells': 30, 'attachment': 30, 'ITV1': 30, 'Putin': 30, 'Idol': 30, 'Technology': 30, 'temporary': 30, 'developments': 30, 'expecting': 30, 'Singapore': 30, 'Worldcom': 30, 'jobless': 30, 'preliminary': 30, 'submit': 30, 'yuan': 30, 'Overall': 30, 'listings': 30, 'shopping': 30, 'Tate': 30, 'components': 30, 'Mae': 30, 'hot': 30, 'clothing': 30, 'qualify': 30, 'Utd': 30, 'Telecom': 30, 'releases': 30, 'racing': 30, 'Chartered': 30, 'Malaysia': 30, 'TVs': 30, '99': 30, 'blockbuster': 30, 'surface': 30, 'Right': 30, 'Computer': 30, 'Eminem': 30, 'Exeem': 30, 'Noon': 30, 'volley': 30, 'Hantuchova': 30, 'Horgan': 30, 'Grewcock': 30, 'ABC': 30, 'Keegan': 30, 'Fulham': 30, 'Bates': 30, 'Marigny': 30, 'Vinci': 30, 'Closer': 30, 'CSI': 30, 'electoral': 29, 'comfortable': 29, 'teacher': 29, 'rush': 29, 'hasn': 29, 'Line': 29, 'religious': 29, 'impose': 29, 'errors': 29, 'Mandelson': 29, 'integrity': 29, 'corruption': 29, 'neither': 29, 'bet': 29, 'disappointment': 29, 'delivering': 29, 'avoiding': 29, 'Election': 29, 'demanded': 29, 'coalition': 29, 'drafted': 29, 'sue': 29, 'representatives': 29, 'careful': 29, 'lords': 29, 'interviewed': 29, 'century': 29, 'Bristol': 29, 'practices': 29, 'suddenly': 29, 'guard': 29, 'emerging': 29, 'liberties': 29, 'birth': 29, 'rare': 29, 'barrier': 29, 'weight': 29, 'seekers': 29, 'engage': 29, 'apparently': 29, 'marks': 29, 'Judge': 29, 'petrol': 29, 'otherwise': 29, 'perspective': 29, 'airport': 29, 'Palace': 29, 'Evening': 29, 'anybody': 29, 'Jacques': 29, 'moral': 29, 'Yushchenko': 29, 'satisfied': 29, 'thriller': 29, 'defined': 29, 'collected': 29, 'identified': 29, 'walked': 29, 'boys': 29, 'Library': 29, 'jurisdiction': 29, 'Business': 29, 'Forum': 29, '05': 29, 'keeps': 29, 'slowing': 29, 'discover': 29, 'outdoor': 29, 'Ed': 29, 'approached': 29, 'Conference': 29, 'entries': 29, 'Khan': 29, 'tourism': 29, 'Wayne': 29, 'dominate': 29, 'celebrities': 29, 'Nasdaq': 29, 'Chapter': 29, 'Venezuela': 29, 'trends': 29, 'carrier': 29, 'cents': 29, 'Card': 29, 'Halifax': 29, 'Florida': 29, 'expand': 29, 'EC': 29, 'admits': 29, 'Munich': 29, 'Qwest': 29, 'AT': 29, 'Greenspan': 29, 'Part': 29, 'Prix': 29, 'metres': 29, 'Rob': 29, 'Speed': 29, 'IE': 29, 'Napster': 29, 'lifestyle': 29, 'Bjorn': 29, 'GameBoy': 29, 'comedian': 29, 'Marathon': 29, 'cinemas': 29, 'prints': 29, 'MDA': 29, 'lovers': 29, 'Biarritz': 29, 'Luscombe': 29, 'Hearts': 29, 'Stringer': 29, 'Doping': 29, 'Katerina': 29, 'McClaren': 29, 'Yelling': 29, 'McFadden': 29, 'comic': 29, 'Gervais': 29, 'Bening': 29, 'intends': 28, 'complained': 28, 'challenged': 28, 'Hall': 28, 'ambitious': 28, 'pro': 28, 'fairly': 28, 'sustainable': 28, 'bomb': 28, 'discrimination': 28, 'Pensions': 28, 'exhibition': 28, 'venue': 28, 'Crime': 28, 'section': 28, 'announcing': 28, 'threshold': 28, 'Eric': 28, 'rid': 28, 'costly': 28, 'interviews': 28, 'assessment': 28, 'Islands': 28, 'surplus': 28, 'nationals': 28, 'aggressive': 28, 'registration': 28, 'unity': 28, '1989': 28, 'spell': 28, 'bans': 28, 'correct': 28, '63': 28, 'robust': 28, 'prepare': 28, 'cancel': 28, 'Crown': 28, 'killing': 28, 'regions': 28, 'pounds': 28, 'horror': 28, 'sounds': 28, 'talked': 28, 'manner': 28, 'ages': 28, 'grounds': 28, 'Yes': 28, 'advanced': 28, 'ITV': 28, 'feud': 28, 'shortly': 28, 'dealing': 28, 'opted': 28, 'Anthony': 28, 'count': 28, 'affects': 28, 'surprising': 28, 'warn': 28, 'Attorney': 28, 'protecting': 28, 'Others': 28, 'Hopefully': 28, 'leaves': 28, 'asset': 28, 'birthday': 28, 'constantly': 28, 'wonder': 28, 'opponent': 28, 'richest': 28, 'equally': 28, 'formally': 28, '1984': 28, 'stuck': 28, 'extent': 28, 'Looking': 28, 'occasion': 28, 'poorer': 28, 'ship': 28, 'appearances': 28, 'authors': 28, 'billed': 28, 'Systems': 28, 'Victor': 28, 'Moscow': 28, 'brother': 28, 'lawsuits': 28, 'Fuller': 28, 'existence': 28, 'History': 28, 'Sunderland': 28, 'Davos': 28, 'quarterly': 28, 'Opec': 28, 'scams': 28, 'Associated': 28, 'Siemens': 28, 'eurozone': 28, 'knock': 28, 'El': 28, 'Menatep': 28, '77': 28, 'Already': 28, 'finds': 28, 'Snow': 28, 'Wong': 28, 'waves': 28, 'Citigroup': 28, 'Hendrix': 28, 'copying': 28, 'Premier': 28, 'HSDPA': 28, 'recorder': 28, 'bot': 28, 'DEC': 28, 'Portable': 28, 'CEA': 28, 'Stern': 28, 'Arsene': 28, 'medals': 28, 'Wolves': 28, 'Brando': 28, 'mostly': 27, 'headline': 27, 'historic': 27, 'Work': 27, 'prosperity': 27, 'oppose': 27, 'afraid': 27, 'compulsory': 27, 'Audit': 27, 'Woolf': 27, 'experiences': 27, 'tricks': 27, 'choices': 27, 'dates': 27, 'Church': 27, 'Kings': 27, 'brief': 27, 'scrapped': 27, 'publishing': 27, 'genuinely': 27, 'themes': 27, 'Dame': 27, 'principles': 27, 'efficiency': 27, 'brings': 27, 'exploit': 27, 'arrangements': 27, 'supposed': 27, 'Gateshead': 27, 'veto': 27, '1983': 27, 'kill': 27, 'threw': 27, 'covering': 27, 'Baghdad': 27, 'pain': 27, 'rift': 27, 'opera': 27, 'differences': 27, 'tragedy': 27, 'frustrated': 27, 'shouldn': 27, 'footage': 27, 'refugees': 27, 'clock': 27, 'safer': 27, 'notice': 27, 'disasters': 27, 'Kenya': 27, 'launches': 27, 'causes': 27, 'Code': 27, 'animal': 27, 'resolved': 27, 'Age': 27, 'upper': 27, 'Stuff': 27, 'drinks': 27, 'screening': 27, 'Burnley': 27, 'Obviously': 27, 'celebrity': 27, 'Washington': 27, 'contain': 27, 'fuelled': 27, 'Red': 27, '110': 27, 'signal': 27, 'visited': 27, '68': 27, 'memories': 27, 'responded': 27, 'reviews': 27, 'predictions': 27, 'landed': 27, 'Record': 27, 'stated': 27, 'Several': 27, 'Holland': 27, 'requirements': 27, 'emerge': 27, 'dating': 27, '40m': 27, 'slowly': 27, 'Wembley': 27, 'ups': 27, 'fortunes': 27, 'busy': 27, 'external': 27, 'Prosecutors': 27, 'copper': 27, 'adapted': 27, 'Almunia': 27, 'Gene': 27, 'Interactive': 27, 'revival': 27, 'Vivendi': 27, 'Studios': 27, 'withdrew': 27, 'Curry': 27, 'Olivier': 27, 'lucky': 27, 'prestigious': 27, 'Umaga': 27, 'Gudjohnsen': 27, 'sprinter': 27, 'Arcy': 27, 'Neath': 27, 'Kerr': 27, 'Cate': 27, 'nominee': 27, 'Blanchett': 27, 'Leonardo': 27, 'Niro': 27, 'hide': 26, 'commitments': 26, 'gaining': 26, 'Breakfast': 26, 'classroom': 26, 'exercise': 26, 'Cambridge': 26, 'reflected': 26, 'striking': 26, 'tougher': 26, 'reference': 26, 'fails': 26, 'Army': 26, 'regiments': 26, '59': 26, 'divided': 26, 'laid': 26, 'nanny': 26, 'Chambers': 26, 'renewed': 26, 'salary': 26, 'creates': 26, 'Jowell': 26, 'strategist': 26, 'church': 26, 'Quinn': 26, '1991': 26, 'taxation': 26, 'floor': 26, 'demonstrated': 26, 'doctor': 26, 'neck': 26, 'suspect': 26, 'passion': 26, 'stress': 26, 'dual': 26, 'passport': 26, 'dropping': 26, 'margin': 26, 'strikes': 26, 'indication': 26, '1992': 26, 'practical': 26, 'junior': 26, 'arts': 26, 'publicity': 26, 'Much': 26, 'deliberately': 26, 'questioning': 26, 'Nazi': 26, 'shift': 26, 'maintaining': 26, 'prominent': 26, 'implications': 26, 'activist': 26, 'factories': 26, 'chase': 26, 'drawing': 26, 'learned': 26, 'eating': 26, 'withdrawal': 26, 'periods': 26, 'element': 26, 'delay': 26, 'Or': 26, 'method': 26, 'Roma': 26, 'assault': 26, 'relatives': 26, 'sentenced': 26, 'collaboration': 26, 'capabilities': 26, 'Galloway': 26, 'sessions': 26, 'Humphreys': 26, 'communicate': 26, 'beer': 26, 'Dunne': 26, 'deadline': 26, 'TB': 26, 'Recent': 26, 'predicting': 26, 'denial': 26, 'Tokyo': 26, 'destroyed': 26, 'pieces': 26, 'barrels': 26, 'Scholes': 26, 'converted': 26, 'Knight': 26, 'enhancing': 26, 'doubts': 26, 'Marc': 26, 'JP': 26, 'exist': 26, 'combine': 26, 'retailer': 26, 'Virginia': 26, 'recovered': 26, 'blocked': 26, 'ONGC': 26, 'Bez': 26, 'Reliance': 26, 'Back': 26, 'Gorges': 26, 'Sound': 26, 'BA': 26, 'musician': 26, 'tapes': 26, 'megapixel': 26, 'prototype': 26, 'creator': 26, 'org': 26, 'Creative': 26, 'programming': 26, 'viewing': 26, 'hackers': 26, 'interface': 26, 'clips': 26, 'productions': 26, 'Spears': 26, 'Bloglines': 26, 'Doom': 26, 'Anderson': 26, 'Yachvili': 26, 'Greene': 26, 'Used': 26, 'clay': 26, 'Leary': 26, 'Hayes': 26, 'Murrayfield': 26, 'Josh': 26, 'Reeves': 26, 'Prize': 26, 'biopic': 26, 'remake': 26, 'Spend': 26, 'bidding': 25, 'honest': 25, 'white': 25, 'Grant': 25, 'Ancram': 25, 'rally': 25, 'arguments': 25, 'QC': 25, 'horse': 25, 'amongst': 25, 'drew': 25, 'hinted': 25, 'bus': 25, 'spirit': 25, 'PM': 25, 'Atlantic': 25, 'rent': 25, 'intend': 25, 'restrictions': 25, 'chair': 25, 'Gibson': 25, 'Culture': 25, 'slot': 25, 'fits': 25, 'IRA': 25, 'extension': 25, 'primary': 25, 'Commissioner': 25, 'odd': 25, 'mix': 25, 'constant': 25, 'cycle': 25, 'pause': 25, 'possession': 25, 'televised': 25, 'Thatcher': 25, 'enthusiasm': 25, '102': 25, 'anger': 25, 'gifts': 25, 'suitable': 25, 'newly': 25, 'Sarah': 25, 'participation': 25, 'CBI': 25, 'Stanley': 25, '71': 25, 'chasing': 25, 'contributions': 25, 'sustain': 25, 'necessarily': 25, 'Child': 25, 'filmed': 25, 'witness': 25, 'soaring': 25, 'tape': 25, 'acquire': 25, 'requires': 25, 'custody': 25, 'Special': 25, 'Essex': 25, 'surveyed': 25, 'sum': 25, 'Sharon': 25, 'suspend': 25, 'abortion': 25, 'quangos': 25, 'pursue': 25, 'staged': 25, 'Woman': 25, 'employee': 25, 'blue': 25, 'i': 25, 'Y': 25, 'mention': 25, 'connect': 25, 'attitude': 25, 'preparation': 25, 'ideal': 25, 'listening': 25, '11bn': 25, 'Full': 25, 'substantially': 25, 'fed': 25, 'electricity': 25, 'Gold': 25, 'weaker': 25, '20bn': 25, 'mining': 25, 'insurers': 25, 'supplier': 25, 'Enron': 25, 'slowed': 25, 'auto': 25, 'tourist': 25, 'consortium': 25, 'slump': 25, 'battled': 25, 'Long': 25, 'Georgia': 25, 'V': 25, 'Manager': 25, 'Lawrence': 25, 'cup': 25, 'acclaimed': 25, 'BPI': 25, 'Bluetooth': 25, 'rankings': 25, 'Donofrio': 25, 'Joy': 25, 'Search': 25, 'Connors': 25, 'Carpenter': 25, 'Tour': 25, 'seeded': 25, 'Morientes': 25, 'Ronan': 25, 'Claxton': 25, 'Vieira': 25, 'Melzer': 25, 'Dent': 25, 'Ljubicic': 25, 'Pops': 25, 'Depp': 25, 'Poppins': 25, 'Z': 25, 'Fightstar': 25, 'Hot': 25, 'pigs': 24, 'campaigns': 24, 'politician': 24, 'democratic': 24, 'Lucas': 24, 'closure': 24, 'soft': 24, 'Baroness': 24, 'Power': 24, 'bets': 24, 'marriage': 24, 'alive': 24, 'victories': 24, 'stable': 24, 'Until': 24, 'Knapman': 24, 'knowing': 24, 'subsequent': 24, 'Within': 24, '69': 24, 'methods': 24, 'switched': 24, 'establish': 24, 'jailed': 24, 'earmarked': 24, 'Having': 24, 'Through': 24, 'Beattie': 24, 'feared': 24, 'stopping': 24, 'crack': 24, 'acceptable': 24, 'contenders': 24, 'rubbish': 24, 'expanded': 24, 'length': 24, 'duties': 24, 'doors': 24, 'typically': 24, 'Heathrow': 24, 'strict': 24, 'flow': 24, 'presidency': 24, '58': 24, 'perception': 24, 'submitted': 24, 'Good': 24, 'calculations': 24, 'respondents': 24, 'Being': 24, 'Center': 24, 'Unit': 24, 'scores': 24, 'clothes': 24, 'master': 24, '83': 24, 'solutions': 24, 'Social': 24, 'routine': 24, 'expanding': 24, 'condition': 24, 'lifts': 24, 'credits': 24, 'Blake': 24, 'gear': 24, 'realistic': 24, 'articles': 24, 'Richards': 24, 'landmark': 24, 'Time': 24, 'emotional': 24, 'island': 24, 'Ivan': 24, 'Iranian': 24, 'processors': 24, 'Sea': 24, 'climbed': 24, 'employs': 24, 'edged': 24, 'carriers': 24, 'Columbia': 24, 'bond': 24, 'fault': 24, 'combines': 24, 'Lufthansa': 24, 'Walter': 24, 'function': 24, 'DaimlerChrysler': 24, 'telecommunications': 24, 'Steel': 24, '86': 24, '67': 24, 'Producers': 24, 'explore': 24, 'cafes': 24, 'Jet': 24, 'Magazine': 24, '50th': 24, 'Express': 24, 'Perry': 24, 'FSA': 24, 'updated': 24, 'patches': 24, 'wall': 24, 'Broadcasting': 24, 'blogging': 24, 'server': 24, 'iPods': 24, 'Fogg': 24, 'extras': 24, 'Arnold': 24, 'printer': 24, 'forensic': 24, 'conventional': 24, 'Tests': 24, 'Jaynes': 24, 'Icann': 24, 'editing': 24, 'fictional': 24, 'Gogh': 24, 'Toulousain': 24, 'Cech': 24, 'Garcia': 24, 'Sidoli': 24, 'Payne': 24, 'Anelka': 24, 'Clijsters': 24, 'bronze': 24, 'Sotherton': 24, 'Bekele': 24, 'Edu': 24, 'Orquera': 24, 'Summer': 24, 'Viotti': 24, 'God': 23, 'impress': 23, 'margins': 23, 'Hogg': 23, 'counterparts': 23, 'frontline': 23, 'Companies': 23, 'luck': 23, 'appearing': 23, 'intent': 23, 'numerous': 23, 'consistent': 23, 'electorate': 23, 'forum': 23, 'Brighton': 23, 'collapsed': 23, 'finishing': 23, 'summary': 23, 'legacy': 23, 'forcing': 23, 'involve': 23, 'radical': 23, 'healthy': 23, 'carpet': 23, 'contribute': 23, 'economics': 23, 'hardest': 23, 'uncertainty': 23, 'traditionally': 23, 'inappropriate': 23, 'emphasis': 23, 'die': 23, 'critic': 23, 'relating': 23, 'prisoners': 23, 'priorities': 23, 'reveals': 23, 'unhappy': 23, 'Islam': 23, 'codes': 23, 'Lloyd': 23, 'MEPs': 23, 'resign': 23, 'aviation': 23, 'airports': 23, 'opinions': 23, 'regarded': 23, 'specifically': 23, 'judged': 23, 'Nicholas': 23, 'compliance': 23, 'motion': 23, 'races': 23, 'mental': 23, 'attractive': 23, 'yourself': 23, 'overwhelming': 23, 'flash': 23, 'pundits': 23, 'drunk': 23, 'CSA': 23, 'Parents': 23, 'Plan': 23, 'load': 23, 'occurred': 23, 'speeches': 23, 'Caribbean': 23, 'Short': 23, 'visits': 23, 'regain': 23, '82': 23, 'vocal': 23, 'succeeded': 23, 'consultant': 23, 'Reynolds': 23, 'publisher': 23, 'explosion': 23, 'Nationwide': 23, 'battles': 23, 'coaching': 23, 'bankrupt': 23, '76': 23, 'landscape': 23, '27bn': 23, 'Austria': 23, 'costume': 23, 'Have': 23, 'Higher': 23, 'chest': 23, 'Between': 23, '10th': 23, 'representative': 23, 'battling': 23, 'Records': 23, 'ranking': 23, 'farmers': 23, '25m': 23, 'Team': 23, '73': 23, 'consultancy': 23, 'utility': 23, 'Toyota': 23, 'Force': 23, 'Urban': 23, 'priced': 23, 'adjusted': 23, '2009': 23, '1973': 23, 'tasks': 23, 'endured': 23, 'Thierry': 23, 'Anil': 23, 'distributed': 23, 'Television': 23, 'Book': 23, 'lira': 23, 'phenomenon': 23, 'Island': 23, 'NBC': 23, 'Kay': 23, 'Finnish': 23, 'Freeview': 23, 'titled': 23, '1982': 23, 'Susan': 23, 'inventions': 23, 'Return': 23, 'specifications': 23, 'concerts': 23, 'raced': 23, 'Crystal': 23, 'podcasting': 23, 'Voip': 23, 'Magic': 23, 'Bortolami': 23, 'Fletcher': 23, 'Shanklin': 23, 'Ferrero': 23, 'Tzekos': 23, 'Eternal': 23, 'Sunshine': 23, 'Spotless': 23, 'Jamelia': 23, 'Tautou': 23, 'Perhaps': 22, 'persistent': 22, 'occasions': 22, 'loved': 22, 'fantasy': 22, 'representation': 22, 'diverse': 22, 'Boateng': 22, 'sooner': 22, 'branding': 22, 'terrible': 22, 'holders': 22, 'employer': 22, 'Hugh': 22, 'negotiate': 22, 'taxpayers': 22, 'reporter': 22, 'Family': 22, '1970': 22, 'postponed': 22, 'consensus': 22, 'Second': 22, 'turnout': 22, 'describe': 22, 'posed': 22, 'Philippe': 22, 'Cunningham': 22, 'Veteran': 22, 'studies': 22, 'focusing': 22, 'breached': 22, 'internationally': 22, 'Appeal': 22, 'probe': 22, 'frozen': 22, 'checks': 22, 'Friends': 22, 'accusing': 22, 'compromise': 22, 'Later': 22, 'girl': 22, 'Jamieson': 22, 'trigger': 22, 'killer': 22, 'Kerry': 22, 'journey': 22, 'clever': 22, 'rapidly': 22, 'baby': 22, 'Land': 22, 'rivalry': 22, 'Reid': 22, 'reluctant': 22, 'supports': 22, 'exposed': 22, 'pound': 22, 'ninth': 22, 'command': 22, 'drove': 22, 'constitutional': 22, 'BAA': 22, 'slip': 22, 'border': 22, 'Amsterdam': 22, 'budgets': 22, 'licensed': 22, 'bars': 22, 'unclear': 22, 'fields': 22, 'Very': 22, 'shall': 22, 'liked': 22, 'causing': 22, 'Yorkshire': 22, 'mission': 22, 'voiced': 22, 'videos': 22, 'Anyone': 22, 'territory': 22, 'hailed': 22, 'grabbed': 22, 'investigations': 22, 'enhance': 22, 'kinds': 22, 'incredibly': 22, 'wholesale': 22, 'Shaw': 22, 'wear': 22, 'stem': 22, 'dozen': 22, 'Hart': 22, 'default': 22, 'relevant': 22, 'weekly': 22, '84': 22, 'exit': 22, 'celebrate': 22, 'valuable': 22, 'permission': 22, 'sluggish': 22, 'Stamford': 22, 'rescue': 22, 'raw': 22, 'zone': 22, 'tune': 22, 'determine': 22, 'benchmark': 22, 'greeted': 22, 'globe': 22, 'upward': 22, 'Chavez': 22, 'expenses': 22, 'Spitzer': 22, 'distributing': 22, 'discs': 22, 'port': 22, 'Arabia': 22, 'Forest': 22, 'Qatar': 22, 'Santa': 22, 'alert': 22, 'regulatory': 22, 'SBC': 22, 'tycoon': 22, 'supplied': 22, 'technically': 22, 'Turkcell': 22, 'Dam': 22, 'everyday': 22, 'Come': 22, 'techniques': 22, 'Mann': 22, 'portal': 22, 'scan': 22, 'MPAA': 22, 'excited': 22, 'animation': 22, 'GPRS': 22, 'RipGuard': 22, 'Macintosh': 22, 'Comedy': 22, 'saves': 22, 'stunning': 22, 'Cohen': 22, 'ESPN': 22, 'awesome': 22, 'Graeme': 22, 'Northampton': 22, 'Seville': 22, 'Healey': 22, 'WTA': 22, 'Fernando': 22, 'Dementieva': 22, 'Pompey': 22, 'AAAs': 22, 'Robson': 22, 'Kirwan': 22, 'Stan': 22, 'Nitoglia': 22, 'Natalie': 22, 'Kapranos': 22, 'Julia': 22, 'Fenice': 22, 'Rodgers': 22, 'Ossie': 22, 'Billboard': 22, 'context': 21, 'zero': 21, 'Tomlinson': 21, '1979': 21, 'Trevor': 21, 'reserve': 21, 'Vote': 21, 'restore': 21, 'passenger': 21, 'Plans': 21, 'prince': 21, 'Geoff': 21, '66': 21, 'implemented': 21, 'insisting': 21, '11th': 21, 'Constitutional': 21, 'Leslie': 21, 'prompting': 21, 'narrow': 21, 'eve': 21, 'suggestion': 21, 'empty': 21, 'taxpayer': 21, 'unknown': 21, 'runway': 21, 'guaranteed': 21, 'immense': 21, 'chairs': 21, 'elite': 21, 'postal': 21, '180': 21, 'overturned': 21, 'tuition': 21, 'Carter': 21, 'pointing': 21, '2012': 21, 'blood': 21, 'survival': 21, 'turnover': 21, 'prosecuted': 21, 'Studies': 21, 'bonus': 21, 'desperately': 21, 'preventing': 21, 'universities': 21, 'longest': 21, 'Russell': 21, 'town': 21, 'consequences': 21, '19th': 21, 'Paper': 21, 'Stop': 21, 'Poland': 21, 'Twelve': 21, 'expense': 21, 'Victoria': 21, 'cited': 21, 'enables': 21, 'scope': 21, 'refusing': 21, 'anyway': 21, 'repayments': 21, 'edition': 21, 'barred': 21, 'intense': 21, 'Adams': 21, 'bulk': 21, 'concentrating': 21, 'tyranny': 21, 'consideration': 21, 'etc': 21, 'mandatory': 21, 'comparison': 21, 'unsolicited': 21, 'committing': 21, 'Walker': 21, 'charities': 21, 'reception': 21, 'disappear': 21, 'principal': 21, 'patient': 21, 'Gray': 21, 'adapt': 21, 'beats': 21, 'loopholes': 21, 'abandoned': 21, 'viewer': 21, 'shed': 21, 'Turner': 21, 'aspect': 21, 'Everything': 21, 'queries': 21, 'weren': 21, 'poorly': 21, 'jet': 21, 'plastic': 21, 'requests': 21, 'suing': 21, 'promotion': 21, 'flaws': 21, 'tank': 21, 'uncertain': 21, 'halted': 21, 'steady': 21, 'Brothers': 21, 'monopoly': 21, 'extensive': 21, 'insurer': 21, 'Phoenix': 21, 'punishment': 21, 'TCI': 21, 'Joshua': 21, 'Alfa': 21, 'produces': 21, 'Renault': 21, 'crowned': 21, 'transmission': 21, 'Tigers': 21, 'sight': 21, 'donate': 21, 'Antonio': 21, 'enabled': 21, 'purchased': 21, 'Networks': 21, 'SMS': 21, 'Motion': 21, 'terrestrial': 21, 'browsers': 21, 'passwords': 21, 'exploited': 21, 'swapping': 21, 'Web': 21, 'Viacom': 21, 'opener': 21, 'EFF': 21, 'colours': 21, 'Macrovision': 21, 'Fans': 21, 'cables': 21, 'rain': 21, 'blogger': 21, 'PS2': 21, 'Valve': 21, 'Incredibles': 21, 'mates': 21, 'EastEnders': 21, 'Dempsey': 21, 'Yapp': 21, 'decider': 21, 'Harinordoquy': 21, 'Michalak': 21, 'Nistelrooy': 21, 'Mathew': 21, 'Hazell': 21, '4x100m': 21, 'Denis': 21, 'steroid': 21, 'Slams': 21, 'Henin': 21, 'Hardenne': 21, 'fixture': 21, 'Shearer': 21, 'trophies': 21, 'Brentford': 21, 'Reyes': 21, 'Myskina': 21, 'Know': 21, 'Streets': 21, 'Scissor': 21, 'Sisters': 21, 'Globes': 21, 'lyrics': 21, 'Janet': 21, 'threaten': 20, 'NEC': 20, '1969': 20, 'plot': 20, 'Jeff': 20, 'catalogue': 20, 'targeting': 20, 'concentrate': 20, 'difficulties': 20, 'fix': 20, 'Castle': 20, 'biography': 20, 'achievements': 20, 'judicial': 20, 'Christopher': 20, 'childcare': 20, 'wind': 20, 'jointly': 20, 'tap': 20, '93': 20, '1981': 20, 'enforcement': 20, 'operated': 20, 'sad': 20, 'Neill': 20, 'colleague': 20, 'frequently': 20, 'versus': 20, 'Earth': 20, 'relation': 20, 'buyer': 20, 'clause': 20, 'gift': 20, 'marketed': 20, 'Fair': 20, 'Hour': 20, 'upcoming': 20, 'diversity': 20, 'Robertson': 20, 'clearance': 20, 'surely': 20, 'influenced': 20, 'educational': 20, 'driver': 20, '1980': 20, 'incidents': 20, 'resulted': 20, 'carers': 20, 'thus': 20, 'rogue': 20, 'secretly': 20, 'degree': 20, 'permanent': 20, 'estate': 20, 'dramatically': 20, 'disappeared': 20, 'incentives': 20, 'lied': 20, 'broad': 20, 'noise': 20, 'sack': 20, 'automatic': 20, 'depending': 20, 'adopt': 20, 'unified': 20, 'chunk': 20, 'justified': 20, 'volume': 20, 'disclosure': 20, '233': 20, 'fishing': 20, 'drag': 20, 'survive': 20, 'somewhat': 20, 'verge': 20, 'Dave': 20, 'Warren': 20, 'violent': 20, 'unaware': 20, 'responses': 20, 'Frederick': 20, 'surveillance': 20, 'Freddie': 20, 'except': 20, 'racism': 20, 'teenagers': 20, 'Using': 20, 'charging': 20, 'criteria': 20, 'ceremonies': 20, 'purposes': 20, 'instructions': 20, 'lying': 20, 'slogan': 20, 'Get': 20, 'Devon': 20, 'stepping': 20, 'scientists': 20, 'barriers': 20, 'agreements': 20, 'Unlike': 20, 'benefiting': 20, 'fortune': 20, 'Duncan': 20, 'Ten': 20, 'Rick': 20, 'actual': 20, 'Economics': 20, 'technique': 20, 'village': 20, 'demonstrate': 20, 'youth': 20, 'Archer': 20, 'icon': 20, 'landing': 20, 'hang': 20, 'substitute': 20, 'Adrian': 20, 'excess': 20, 'governance': 20, 'contestant': 20, 'buzz': 20, 'firmly': 20, 'processes': 20, 'Everybody': 20, 'composer': 20, 'Indonesian': 20, 'covers': 20, 'eviction': 20, 'Dundee': 20, 'deserves': 20, 'dominant': 20, 'frontman': 20, 'percent': 20, 'dividends': 20, 'lows': 20, 'suppliers': 20, 'Tobacco': 20, 'capture': 20, 'exploration': 20, 'ABN': 20, 'Deccan': 20, 'Ryanair': 20, 'Shell': 20, 'Pacific': 20, 'designer': 20, 'Unilever': 20, 'shell': 20, 'Rio': 20, 'measured': 20, 'Borussia': 20, 'motorcycle': 20, 'brewer': 20, 'Merrill': 20, 'Venezuelan': 20, 'Total': 20, 'Call': 20, 'Belgium': 20, 'Are': 20, 'strange': 20, 'Factory': 20, 'Ghosn': 20, 'sole': 20, 'Sharp': 20, 'lifetime': 20, 'Aguas': 20, 'Mexican': 20, '125': 20, 'dominance': 20, 'Max': 20, 'Jon': 20, 'Ahold': 20, 'Denmark': 20, 'rubber': 20, 'Mercury': 20, 'firewall': 20, 'Cannes': 20, 'Walkman': 20, 'telephony': 20, 'spotted': 20, 'DTT': 20, 'holes': 20, 'CBS': 20, 'Viewers': 20, 'USB': 20, 'hottest': 20, 'browse': 20, 'commercially': 20, 'Sloncek': 20, 'Le': 20, 'Orchestra': 20, 'teenager': 20, 'tired': 20, 'LA': 20, 'IRB': 20, 'Sweeney': 20, 'Kezman': 20, 'Reds': 20, 'Luis': 20, 'Baros': 20, 'ATP': 20, 'Worsley': 20, 'Saracens': 20, 'Gunners': 20, 'Dechy': 20, 'Maggs': 20, 'Idowu': 20, 'Desailly': 20, 'Elena': 20, 'Boro': 20, 'Lehmann': 20, 'Saulnier': 20, 'Bogdanovic': 20, 'Santini': 20, 'Arnesen': 20, 'Bergamasco': 20, 'Hoddle': 20, 'Ozzy': 20, 'Jailhouse': 20, 'Ladbrokes': 20, 'Busted': 20, 'Kasabian': 20, 'artificial': 19, '+': 19, 'incorporated': 19, 'balanced': 19, 'flawed': 19, 'grip': 19, 'urging': 19, 'Commercial': 19, 'ads': 19, 'Where': 19, 'dossier': 19, 'engaging': 19, 'Gaming': 19, 'handing': 19, 'earth': 19, 'depend': 19, 'unnecessary': 19, 'competitiveness': 19, 'Can': 19, '80m': 19, 'sends': 19, 'Marr': 19, 'outright': 19, 'donated': 19, 'gradually': 19, 'origin': 19, 'investigated': 19, 'licences': 19, 'conversation': 19, 'thoughts': 19, 'privatisation': 19, 'Neither': 19, 'successes': 19, 'punished': 19, 'contributed': 19, 'briefly': 19, 'error': 19, 'Never': 19, 'Maybe': 19, 'competitions': 19, '350': 19, 'banning': 19, 'implementation': 19, 'Born': 19, 'strongest': 19, 'examples': 19, 'premises': 19, 'admit': 19, 'outbreak': 19, 'cells': 19, 'posts': 19, 'tomorrow': 19, 'appealed': 19, 'reassure': 19, 'quitting': 19, 'presents': 19, 'urge': 19, 'assume': 19, 'Cash': 19, 'prevented': 19, 'locked': 19, 'enforce': 19, 'voluntary': 19, 'detentions': 19, 'Supreme': 19, 'Civil': 19, 'Unions': 19, 'proves': 19, 'magic': 19, 'Al': 19, 'Similarly': 19, 'merged': 19, 'smoke': 19, 'deaths': 19, 'reflecting': 19, 'Jane': 19, 'Hutt': 19, 'consolidation': 19, 'underlying': 19, 'exclusive': 19, 'imagine': 19, 'Countryside': 19, 'halfway': 19, 'shame': 19, 'Viktor': 19, 'IT': 19, 'Michelle': 19, 'snapped': 19, 'transformed': 19, 'Marshall': 19, 'Hitler': 19, 'tense': 19, 'Underground': 19, 'Eastern': 19, 'condemned': 19, 'Community': 19, 'complain': 19, 'discovery': 19, 'Laura': 19, 'violations': 19, 'ranks': 19, 'unchanged': 19, 'Nottingham': 19, 'shortages': 19, 'inclusion': 19, 'Tsunami': 19, 'Order': 19, 'cancer': 19, 'employ': 19, 'quiet': 19, 'reward': 19, 'Exeter': 19, 'Choice': 19, 'Brent': 19, 'CSOs': 19, 'bonds': 19, 'Powys': 19, 'involves': 19, 'Kent': 19, '300m': 19, 'rewards': 19, 'technological': 19, 'Vladimir': 19, 'injection': 19, 'borrow': 19, '06': 19, 'gay': 19, 'experiencing': 19, 'defensive': 19, 'sidelined': 19, 'financing': 19, 'confess': 19, 'integral': 19, 'intellectual': 19, 'Rwanda': 19, 'location': 19, 'assistance': 19, 'River': 19, 'Third': 19, 'gangs': 19, 'Guide': 19, 'handful': 19, 'substance': 19, 'Rowntree': 19, 'skill': 19, 'evolution': 19, 'cult': 19, 'fame': 19, 'dividend': 19, 'anymore': 19, 'sized': 19, 'minor': 19, 'slice': 19, 'evasion': 19, 'Ethiopia': 19, 'Silva': 19, 'lure': 19, 'Axa': 19, 'profitability': 19, 'plants': 19, 'Hans': 19, 'tip': 19, 'Early': 19, 'Rovers': 19, 'Dortmund': 19, 'purchases': 19, 'BP': 19, 'Continental': 19, 'Inbev': 19, 'dipped': 19, 'McManus': 19, 'Magnier': 19, 'Auto': 19, 'Maldives': 19, 'Vice': 19, 'ISM': 19, 'routes': 19, 'newcomer': 19, 'Chidambaram': 19, 'embrace': 19, 'plasma': 19, 'traders': 19, 'Angola': 19, 'transition': 19, 'Duty': 19, 'Peoplesoft': 19, 'GE': 19, 'Carolina': 19, 'Carry': 19, 'Films': 19, 'franchise': 19, 'Myers': 19, 'Justin': 19, 'Arbitration': 19, 'Spam': 19, 'intelligent': 19, 'trackers': 19, 'surfers': 19, 'Netcraft': 19, 'gameplay': 19, 'pioneers': 19, 'patenting': 19, 'DJs': 19, 'Wireless': 19, 'Phonographic': 19, 'requested': 19, 'circulating': 19, 'Betamax': 19, 'journals': 19, 'Mario': 19, 'Seagrave': 19, 'artistic': 19, 'romantic': 19, 'Inside': 19, 'Boy': 19, 'Julie': 19, 'Fiji': 19, 'Isinbayeva': 19, 'Gregory': 19, 'Cockbain': 19, 'McAllister': 19, 'Replacements': 19, 'Sevens': 19, 'Double': 19, 'Faroe': 19, 'Jol': 19, 'Mido': 19, 'Keanu': 19, 'Dance': 19, 'Neeson': 19, 'Marvel': 19, 'Guild': 19, 'Broadway': 19, 'Ballet': 19, 'Wonder': 19, 'reggae': 19, 'OutKast': 19, 'Trek': 19, 'Roundabout': 19, 'Godzilla': 19, 'scrap': 18, 'Fraser': 18, 'Concern': 18, 'Llanelli': 18, 'Kingdom': 18, 'approve': 18, 'ensures': 18, 'rail': 18, 'Anne': 18, 'skin': 18, 'exists': 18, 'hopefuls': 18, 'Julian': 18, 'preferred': 18, 'exceed': 18, 'offenders': 18, 'patterns': 18, 'marry': 18, 'ring': 18, 'polling': 18, 'Previous': 18, 'stiff': 18, 'soldiers': 18, '1974': 18, 'bound': 18, 'commerce': 18, 'movements': 18, 'prosecutions': 18, 'indefinitely': 18, 'dies': 18, 'toured': 18, 'united': 18, 'liberal': 18, 'bureaucracy': 18, '10m': 18, 'Credit': 18, 'humour': 18, 'Patricia': 18, 'scrapping': 18, 'toll': 18, 'professor': 18, 'roads': 18, 'Freedom': 18, 'failures': 18, 'Hansard': 18, 'weapon': 18, 'Gerhard': 18, 'squabbling': 18, 'spreading': 18, 'repeated': 18, 'TUC': 18, 'houses': 18, 'youngest': 18, 'Hundreds': 18, 'seize': 18, 'sealed': 18, 'eligible': 18, 'residents': 18, 'appeals': 18, 'stream': 18, 'predecessor': 18, 'unveils': 18, 'opposite': 18, 'Barbara': 18, 'contrary': 18, '1990': 18, 'defeats': 18, 'printed': 18, 'Menzies': 18, 'searches': 18, 'persuaded': 18, 'Plaid': 18, 'Hunting': 18, 'impetus': 18, 'Thank': 18, 'Dick': 18, 'Far': 18, 'citizenship': 18, 'Iron': 18, '1948': 18, 'citizen': 18, 'pattern': 18, 'subsequently': 18, 'promotional': 18, 'examine': 18, 'farm': 18, 'weakness': 18, 'tariffs': 18, 'guess': 18, 'disclose': 18, 'gathering': 18, 'whistle': 18, 'freely': 18, 'bust': 18, 'Sean': 18, 'pockets': 18, 'situations': 18, 'specially': 18, 'generous': 18, 'Pentagon': 18, 'capped': 18, 'rewarded': 18, '79': 18, 'procedures': 18, 'resulting': 18, 'Sometimes': 18, 'dressing': 18, 'institution': 18, 'mock': 18, 'financially': 18, 'path': 18, 'poised': 18, 'eastern': 18, 'indicate': 18, 'Each': 18, 'stripped': 18, 'solo': 18, 'pride': 18, 'Brad': 18, 'tale': 18, 'oldest': 18, 'emergence': 18, 'generating': 18, 'formerly': 18, 'Make': 18, 'stormed': 18, 'pipeline': 18, 'Honda': 18, 'BDO': 18, 'addiction': 18, 'caps': 18, 'UFJ': 18, 'auditors': 18, 'Nevertheless': 18, 'acquired': 18, 'Series': 18, '30m': 18, 'prosecutor': 18, 'advert': 18, 'classics': 18, 'burst': 18, '98': 18, 'sponsorship': 18, 'equipped': 18, 'CML': 18, 'Elsewhere': 18, 'pole': 18, 'install': 18, 'viewed': 18, 'Newton': 18, 'PPI': 18, 'Argentinas': 18, 'Packard': 18, 'II': 18, 'Walsh': 18, 'reverse': 18, 'scam': 18, 'feta': 18, 'integrated': 18, '1986': 18, 'ear': 18, 'Jurgen': 18, 'Fosters': 18, 'Carnival': 18, 'convert': 18, 'convenient': 18, 'Billy': 18, '3GSM': 18, 'Morquendi': 18, 'convincing': 18, 'Mozilla': 18, 'developer': 18, 'gigabytes': 18, 'NTL': 18, 'cyber': 18, 'Sophos': 18, 'surpassed': 18, 'ringtones': 18, 'EduVision': 18, 'slates': 18, 'Asimo': 18, 'Lanzone': 18, 'Chart': 18, 'translates': 18, 'museum': 18, 'Paniccia': 18, 'entertaining': 18, 'Hogan': 18, 'FCC': 18, 'Webster': 18, 'PVR': 18, 'Warcraft': 18, 'Visual': 18, 'Respond': 18, 'Hansen': 18, 'Fame': 18, 'Shrek': 18, 'Freeman': 18, 'Samoa': 18, 'Martinez': 18, 'Christ': 18, 'Tevez': 18, 'Delaigue': 18, 'offside': 18, 'Sheridan': 18, 'Scarlets': 18, 'Juan': 18, 'sprint': 18, 'internationals': 18, 'Vogts': 18, 'Lennon': 18, 'Svetlana': 18, 'AK': 18, 'Bowyer': 18, 'Toure': 18, 'triumphed': 18, 'Bravery': 18, 'Grace': 18, 'duet': 18, 'Kanye': 18, 'Rapper': 18, 'REM': 18, 'Hey': 18, 'Redford': 18, 'Hailey': 18, 'fare': 17, 'declining': 17, 'remark': 17, 'tolerance': 17, 'Ruth': 17, 'spare': 17, 'Jan': 17, 'Keith': 17, 'Abbott': 17, 'advocates': 17, 'scared': 17, 'Borthwick': 17, 'immigrants': 17, '104': 17, 'announcements': 17, 'bookmakers': 17, 'define': 17, 'Bowles': 17, 'wedding': 17, 'Whitehall': 17, 'destroy': 17, '92': 17, 'linking': 17, 'Bombay': 17, 'independently': 17, 'Allen': 17, 'examining': 17, 'admission': 17, 'regained': 17, 'loyal': 17, 'supporter': 17, 'outlined': 17, 'filled': 17, 'investing': 17, 'Belmarsh': 17, 'recruit': 17, 'opt': 17, 'Empire': 17, 'bridge': 17, 'crimes': 17, 'Scarman': 17, 'celebrated': 17, 'remembered': 17, 'respected': 17, 'Chairman': 17, 'Younger': 17, 'Name': 17, 'eased': 17, 'safeguards': 17, 'detain': 17, 'hike': 17, 'permanently': 17, 'Less': 17, 'Arab': 17, 'moderate': 17, 'cent': 17, 'Unison': 17, 'accompanied': 17, 'warns': 17, 'Metropolitan': 17, 'mounted': 17, 'throwing': 17, 'swiftly': 17, 'breaches': 17, 'Commonwealth': 17, 'chaos': 17, 'sake': 17, 'motivation': 17, 'Danny': 17, 'unpaid': 17, 'prominence': 17, 'Romania': 17, 'repeat': 17, 'Figures': 17, 'reviewed': 17, 'incompatible': 17, 'survived': 17, 'concentration': 17, 'attributed': 17, 'cautioned': 17, 'Abbas': 17, 'explaining': 17, 'attendance': 17, 'migrants': 17, 'trained': 17, 'controversially': 17, 'Hain': 17, 'obsessed': 17, 'tourists': 17, 'sick': 17, 'quicker': 17, 'backwards': 17, 'Cymru': 17, 'Chirac': 17, 'meets': 17, 'foxes': 17, 'assist': 17, 'Wallace': 17, 'perceived': 17, 'sheer': 17, 'Clinton': 17, 'promotions': 17, 'youngsters': 17, 'Griffin': 17, 'Secret': 17, 'grid': 17, 'undermine': 17, 'Austrian': 17, 'triggered': 17, 'invisible': 17, 'Bobby': 17, 'unnamed': 17, 'rushed': 17, 'teaching': 17, 'stroke': 17, 'lined': 17, 'react': 17, 'laboratory': 17, 'Reports': 17, 'metal': 17, 'Kenyan': 17, 'calm': 17, 'roof': 17, 'Network': 17, 'Arthur': 17, 'foster': 17, 'allowance': 17, 'transparent': 17, 'Boxing': 17, 'latter': 17, 'exact': 17, 'tens': 17, 'branch': 17, 'map': 17, 'Egyptian': 17, 'nuisance': 17, 'Around': 17, 'crowds': 17, 'hotels': 17, 'euthanasia': 17, 'lender': 17, 'Venice': 17, 'inadequate': 17, 'Camp': 17, 'photographers': 17, 'totalling': 17, 'Small': 17, 'Andrews': 17, 'Thai': 17, 'contestants': 17, 'clearing': 17, 'snap': 17, 'funeral': 17, 'Legal': 17, 'narrowly': 17, 'shortfall': 17, 'merit': 17, 'archives': 17, 'Joseph': 17, 'n': 17, 'monitors': 17, 'printing': 17, '13m': 17, 'bundled': 17, 'personality': 17, 'Bono': 17, 'currencies': 17, 'Telekom': 17, 'injunction': 17, 'agrees': 17, 'import': 17, 'Poor': 17, 'Amro': 17, 'circulation': 17, 'Xstrata': 17, 'commodity': 17, 'Saab': 17, 'FT': 17, 'textile': 17, 'manufacturer': 17, 'Agriculture': 17, 'Kok': 17, 'organise': 17, 'Boyd': 17, 'Danish': 17, 'tag': 17, 'publishers': 17, 'shoulder': 17, 'heat': 17, 'Romeo': 17, 'Building': 17, '16bn': 17, 'Joel': 17, 'Mittal': 17, 'Nestle': 17, 'ice': 17, 'roughly': 17, 'powered': 17, 'tunnel': 17, 'awaited': 17, 'midnight': 17, 'Ambani': 17, 'Getting': 17, 'instant': 17, 'Zurich': 17, 'ties': 17, 'Adriano': 17, 'controller': 17, 'cartoon': 17, 'niche': 17, 'Camera': 17, 'Picture': 17, 'Variety': 17, 'variants': 17, 'pixels': 17, 'invention': 17, 'graphical': 17, 'nostalgia': 17, 'pirates': 17, 'Pictures': 17, 'usage': 17, 'beta': 17, 'megabits': 17, 'batteries': 17, '15th': 17, 'playback': 17, 'fixes': 17, 'Pete': 17, 'Bangkok': 17, 'RSA': 17, 'Blinkx': 17, 'showcasing': 17, 'loyalty': 17, 'DDoS': 17, 'Sims': 17, 'performer': 17, 'Fifa': 17, 'Happy': 17, 'pool': 17, 'Ron': 17, 'Painkiller': 17, 'Winners': 17, 'frustrating': 17, 'Burger': 17, 'Pelous': 17, 'Bernabeu': 17, 'Newport': 17, 'unbeaten': 17, 'Dominici': 17, 'Ruud': 17, 'Llewellyn': 17, 'McCall': 17, 'Pires': 17, 'Foley': 17, 'Leamy': 17, 'Venus': 17, 'USADA': 17, 'scooped': 17, 'Castaignede': 17, 'Miami': 17, 'Curtis': 17, 'Diaries': 17, 'dancers': 17, 'Wham': 17, 'Clarkson': 17, 'Thunderbirds': 17, 'Mel': 17, 'Patrol': 17, 'Soul': 17, 'Nair': 17, 'eager': 16, 'decisive': 16, 'classes': 16, 'fortnight': 16, 'rightly': 16, 'tackled': 16, 'deeper': 16, 'fuss': 16, 'lasting': 16, 'visible': 16, 'frustration': 16, 'McCartney': 16, 'Brien': 16, 'phase': 16, 'Coast': 16, 'acknowledge': 16, 'enterprise': 16, 'attraction': 16, 'responding': 16, 'labelled': 16, 'calculated': 16, 'removal': 16, 'tariff': 16, 'reductions': 16, 'spotlight': 16, 'tightening': 16, 'governor': 16, 'Diana': 16, 'irresponsible': 16, 'chiefs': 16, 'sadly': 16, 'touring': 16, 'cooperation': 16, 'achieving': 16, 'province': 16, 'lengthy': 16, 'Thorpe': 16, 'ad': 16, 'hell': 16, 'liberty': 16, 'industrialised': 16, 'proceedings': 16, 'credibility': 16, 'accusations': 16, 'Protection': 16, 'coast': 16, 'freed': 16, 'Liberty': 16, 'tensions': 16, 'spark': 16, 'psychological': 16, 'Crosby': 16, 'plug': 16, 'Immigration': 16, 'surveys': 16, 'Newsnight': 16, 'referring': 16, 'Hunt': 16, 'Support': 16, 'downturn': 16, '2011': 16, 'attending': 16, 'ordinate': 16, 'Amicus': 16, 'tone': 16, 'lacking': 16, 'debates': 16, 'obliged': 16, 'Leader': 16, 'excessive': 16, 'Norfolk': 16, 'Economy': 16, '900': 16, 'pose': 16, 'consult': 16, 'recycling': 16, 'deprived': 16, 'dangers': 16, 'divisions': 16, 'unfortunately': 16, 'disputes': 16, 'al': 16, 'forecasting': 16, 'turnaround': 16, 'shortage': 16, 'collecting': 16, 'guns': 16, 'likened': 16, 'comprehensive': 16, 'requirement': 16, 'leaked': 16, 'relied': 16, 'stops': 16, 'harmful': 16, 'declare': 16, 'Gibbons': 16, 'Valley': 16, 'mile': 16, 'Doug': 16, 'mine': 16, 'nonsense': 16, 'agents': 16, 'spends': 16, 'ride': 16, 'tracking': 16, 'U': 16, 'Soviet': 16, 'dog': 16, 'celebrating': 16, 'teach': 16, 'disadvantaged': 16, 'Motor': 16, 'Murder': 16, 'echoed': 16, 'masses': 16, 'contested': 16, 'voices': 16, 'revenge': 16, '61': 16, 'sample': 16, 'legs': 16, 'Details': 16, 'Food': 16, 'Begg': 16, 'mobility': 16, 'Job': 16, 'reunited': 16, 'obtained': 16, 'Students': 16, 'Whether': 16, 'shifting': 16, 'grows': 16, 'Samuel': 16, 'infringement': 16, 'umbrella': 16, 'reaches': 16, 'pile': 16, 'ancient': 16, 'Pitt': 16, 'Defra': 16, 'strengthened': 16, 'referred': 16, 'Preston': 16, 'undisclosed': 16, 'secrets': 16, 'closest': 16, 'Helen': 16, 'Aceh': 16, 'Poll': 16, 'exceeded': 16, 'slid': 16, 'pays': 16, 'grab': 16, 'advisor': 16, 'irregularities': 16, 'blew': 16, 'sing': 16, 'blasts': 16, 'smash': 16, 'favoured': 16, 'Millions': 16, 'Willis': 16, 'Porto': 16, 'holdings': 16, 'brink': 16, 'jurors': 16, 'Strong': 16, 'Interest': 16, 'violated': 16, 'surged': 16, 'pin': 16, 'counterfeit': 16, 'BCC': 16, 'seal': 16, 'sweet': 16, 'Pierre': 16, 'poured': 16, 'Lynch': 16, 'tumbled': 16, 'miles': 16, 'Separately': 16, 'deposit': 16, 'Firms': 16, 'Ultimately': 16, 'Supporters': 16, 'brokers': 16, 'kronor': 16, 'cheese': 16, 'Villalba': 16, 'Levy': 16, 'LCD': 16, 'OECD': 16, 'Monsanto': 16, 'transferred': 16, 'Hewlett': 16, 'blocks': 16, 'swapped': 16, 'soared': 16, 'Aer': 16, 'Lingus': 16, 'phenomenal': 16, 'Mills': 16, 'Crawford': 16, 'database': 16, 'jazz': 16, 'notes': 16, 'commonly': 16, '17m': 16, 'performers': 16, 'Maurice': 16, 'upload': 16, 'Bofra': 16, 'Secure': 16, 'podcasts': 16, 'streaming': 16, 'Mobiles': 16, 'gamer': 16, 'browsing': 16, 'legendary': 16, 'cartridges': 16, 'simultaneously': 16, 'aired': 16, 'height': 16, 'array': 16, 'tuned': 16, 'Baftas': 16, '25th': 16, 'calculator': 16, 'unreleased': 16, 'Metal': 16, 'slam': 16, 'arena': 16, 'TiVo': 16, 'Motorcycle': 16, 'thumb': 16, 'Fiorina': 16, 'GTA': 16, 'seafarers': 16, 'shots': 16, 'IP': 16, 'Symbian': 16, 'Skulls': 16, 'Negroponte': 16, 'Bailey': 16, 'Grammys': 16, 'Aguilera': 16, 'Housewives': 16, 'substances': 16, 'Purushotma': 16, 'EverQuest': 16, 'Hemisphere': 16, 'Springboks': 16, 'forwards': 16, 'Valencia': 16, 'Triple': 16, 'Sebastien': 16, 'yard': 16, 'compatriot': 16, 'Jenkins': 16, 'touchline': 16, 'Fowler': 16, 'Eriksson': 16, 'crossed': 16, 'Toshack': 16, 'Dutchman': 16, 'seasons': 16, 'Varga': 16, 'qualifier': 16, 'Catherine': 16, 'Mauresmo': 16, 'finalist': 16, 'clinched': 16, 'Rochus': 16, 'Campese': 16, 'Spector': 16, 'shortlisted': 16, 'Sella': 16, 'Duran': 16, 'Portman': 16, 'Elton': 16, 'Organisers': 16, 'Jude': 16, 'Abba': 16, 'Passion': 16, 'Spacey': 16, 'Hoffman': 16, 'Kite': 16, 'Conti': 16, 'Look': 15, 'contemporary': 15, 'excluding': 15, 'qualifications': 15, 'Semitic': 15, 'Fagin': 15, 'Chronicle': 15, 'portrayal': 15, 'Louise': 15, '1950s': 15, 'extreme': 15, 'shortlists': 15, 'racial': 15, 'Diane': 15, 'Bernie': 15, 'reservations': 15, 'objectives': 15, 'healthcare': 15, 'PCS': 15, 'steer': 15, 'rethink': 15, 'regard': 15, 'plea': 15, 'engaged': 15, 'criminally': 15, 'propose': 15, 'displayed': 15, 'Archbishop': 15, 'undoubtedly': 15, 'Watch': 15, 'opposing': 15, 'Save': 15, 'ashamed': 15, 'goodbye': 15, 'disputed': 15, 'Pakistani': 15, 'Terrorism': 15, 'lover': 15, 'embarrassing': 15, 'Sands': 15, 'agriculture': 15, 'portfolio': 15, 'farms': 15, 'decides': 15, 'flagship': 15, 'barely': 15, 'swept': 15, 'binding': 15, '2015': 15, 'Standards': 15, 'shooter': 15, 'pressing': 15, 'sceptical': 15, 'passage': 15, 'billionaire': 15, 'precisely': 15, 'Final': 15, 'framework': 15, 'spree': 15, 'Safety': 15, 'Major': 15, 'leaflet': 15, 'confusion': 15, 'knocking': 15, 'Fiscal': 15, 'courses': 15, 'virtually': 15, 'Berlusconi': 15, 'Kenny': 15, 'minds': 15, 'FTSE': 15, 'Musharraf': 15, 'contender': 15, 'restaurant': 15, 'compatible': 15, 'ODPM': 15, 'certificate': 15, 'nationality': 15, 'criticising': 15, 'Sayeed': 15, 'disappearance': 15, 'responsibilities': 15, 'obligation': 15, 'Medical': 15, 'weakened': 15, 'flaw': 15, 'escape': 15, 'Anglo': 15, 'examined': 15, 'sleep': 15, 'hundred': 15, 'iron': 15, 'emotions': 15, 'merits': 15, 'translated': 15, 'unlike': 15, 'forever': 15, 'witnessed': 15, 'thoroughly': 15, 'careers': 15, 'foul': 15, 'looming': 15, 'walking': 15, 'nerve': 15, 'speaker': 15, 'Zimbabwe': 15, 'uniform': 15, 'lasted': 15, 'wipe': 15, 'Beverly': 15, 'guide': 15, 'arriving': 15, 'guy': 15, 'paralysed': 15, 'Nearly': 15, 'anonymous': 15, 'Captain': 15, 'sexual': 15, 'Political': 15, 'handled': 15, 'Directors': 15, 'saga': 15, 'whereas': 15, 'toughest': 15, 'Dennis': 15, '1978': 15, 'coffee': 15, 'concentrated': 15, 'promoted': 15, 'Still': 15, 'boards': 15, 'complaining': 15, 'Gill': 15, 'Rhys': 15, 'painting': 15, 'underground': 15, 'inevitable': 15, 'trail': 15, 'fate': 15, 'Isle': 15, 'Way': 15, '81': 15, 'Glenn': 15, 'Lawyers': 15, 'Andrea': 15, 'treat': 15, '140': 15, 'girls': 15, 'respects': 15, 'assurances': 15, 'Cowell': 15, 'excitement': 15, '97': 15, 'speakers': 15, 'microphone': 15, 'green': 15, 'rein': 15, 'park': 15, 'yesterday': 15, '52m': 15, 'Harrison': 15, 'Coach': 15, 'continent': 15, 'imported': 15, 'Sex': 15, 'albeit': 15, 'travellers': 15, 'promptly': 15, 'sidelines': 15, 'idle': 15, 'centred': 15, 'ports': 15, 'dozens': 15, 'District': 15, 'Administration': 15, 'offshore': 15, 'broker': 15, 'bidder': 15, 'Clara': 15, 'infection': 15, 'wares': 15, 'entrepreneur': 15, 'downside': 15, 'Louis': 15, 'Palmer': 15, 'Paolo': 15, 'Bayern': 15, 'Yuganskneftegaz': 15, 'ranch': 15, 'solely': 15, 'steadily': 15, 'trilogy': 15, 'faults': 15, 'combining': 15, 'monetary': 15, 'Labor': 15, 'citing': 15, 'Bangladesh': 15, 'iconic': 15, 'recovering': 15, 'Fortune': 15, 'sells': 15, 'dot': 15, 'Swedish': 15, 'Mukesh': 15, 'Yangtze': 15, 'CEO': 15, 'component': 15, 'seller': 15, 'Hitachi': 15, 'Phytopharm': 15, 'BSkyB': 15, 'Serge': 15, 'Inter': 15, 'Lenovo': 15, 'Dell': 15, 'Judy': 15, 'Elgindy': 15, 'basically': 15, 'ECB': 15, 'Khatami': 15, 'Access': 15, 'Plus': 15, 'Oracle': 15, 'Absa': 15, 'Vioxx': 15, 'compression': 15, 'surround': 15, 'clutch': 15, 'Advance': 15, 'Outlook': 15, 'Macklin': 15, 'distances': 15, 'Nortel': 15, 'updates': 15, 'architecture': 15, 'Cebit': 15, 'angle': 15, 'humans': 15, 'Movie': 15, 'sharers': 15, 'Suprnova': 15, 'clocked': 15, 'Toulouse': 15, 'analogue': 15, 'offline': 15, 'Carr': 15, 'login': 15, 'finest': 15, 'immersive': 15, 'distributor': 15, 'circuit': 15, 'biometric': 15, 'Britney': 15, 'pulses': 15, 'gigabyte': 15, 'Kodak': 15, 'Madonna': 15, 'Paramount': 15, 'Sigarchi': 15, 'Hopkins': 15, 'Player': 15, 'Cinema': 15, 'RSS': 15, 'Grady': 15, 'Gameboyzz': 15, 'Reading': 15, 'beautiful': 15, 'replaces': 15, 'Raskin': 15, 'Assault': 15, 'gallery': 15, 'Olly': 15, 'Lo': 15, 'Cicero': 15, 'captaincy': 15, 'Rougerie': 15, 'Yannick': 15, 'Betsen': 15, 'comfortably': 15, 'interval': 15, 'Sociedad': 15, 'scorer': 15, 'Gilbert': 15, 'Darren': 15, 'footed': 15, 'Corrigan': 15, 'faking': 15, 'Marat': 15, 'ruck': 15, 'THG': 15, 'Juventus': 15, 'Rush': 15, 'Hopman': 15, 'Millwall': 15, '1965': 15, 'Persie': 15, 'Nalbandian': 15, 'Heinze': 15, 'Sculthorpe': 15, 'Guerrouj': 15, 'Libertines': 15, 'Fry': 15, 'Simpsons': 15, 'singers': 15, 'Beatles': 15, 'Dams': 15, 'Spurlock': 15, 'critically': 15, 'Muse': 15, 'Beastie': 15, 'Eyed': 15, 'Peas': 15, 'sitcom': 15, 'Jam': 15, 'indecency': 15, 'Sizzla': 15, 'housemates': 15, 'ageing': 14, 'provision': 14, 'structures': 14, 'Whatever': 14, 'Griffiths': 14, 'clashed': 14, 'councillors': 14, 'accountability': 14, 'sits': 14, 'Should': 14, 'treaty': 14, 'gesture': 14, 'Campaign': 14, 'towns': 14, 'outrage': 14, 'Norman': 14, 'backgrounds': 14, 'resume': 14, 'audit': 14, 'administrators': 14, 'Princess': 14, 'precedent': 14, 'backbenchers': 14, 'heritage': 14, 'tradition': 14, 'tension': 14, 'Rajasthan': 14, 'embracing': 14, 'Greenwood': 14, 'Officials': 14, 'fitted': 14, 'Brixton': 14, 'exceptional': 14, 'crackdown': 14, 'theory': 14, 'backbencher': 14, 'tactic': 14, 'attitudes': 14, 'individually': 14, 'bombs': 14, 'Belfast': 14, 'demanding': 14, 'squeezed': 14, 'annually': 14, 'imposing': 14, 'Vincent': 14, 'Banks': 14, 'containing': 14, 'funny': 14, 'shipped': 14, 'complicated': 14, 'marginal': 14, 'valid': 14, 'sections': 14, 'ironic': 14, 'Derby': 14, 'Few': 14, 'obligations': 14, 'pursuing': 14, 'integration': 14, 'genocide': 14, 'payouts': 14, 'Sandra': 14, 'fulfil': 14, 'obsession': 14, 'universal': 14, 'appreciate': 14, '20m': 14, 'adequately': 14, 'fashioned': 14, 'Construction': 14, 'advise': 14, 'Gen': 14, 'agreeing': 14, 'PR': 14, 'Jennifer': 14, 'joke': 14, 'worthwhile': 14, 'separately': 14, 'Gerard': 14, 'reiterated': 14, 'Stansted': 14, 'consulting': 14, 'literacy': 14, 'Opposition': 14, 'casual': 14, 'abuses': 14, 'confusing': 14, 'borders': 14, 'oversee': 14, 'intervened': 14, 'thin': 14, 'searched': 14, 'illness': 14, 'comply': 14, 'brave': 14, 'greatly': 14, 'Section': 14, 'justify': 14, 'plain': 14, 'regulate': 14, 'inadvertently': 14, 'ridiculous': 14, 'applying': 14, 'tied': 14, 'sights': 14, 'useless': 14, 'mouth': 14, 'embarrassed': 14, 'satisfy': 14, 'slipping': 14, 'neat': 14, 'diaries': 14, 'rolling': 14, 'stabbed': 14, 'None': 14, 'Bach': 14, 'affecting': 14, 'Initially': 14, '1945': 14, 'naive': 14, 'compare': 14, 'facts': 14, 'accuse': 14, 'Amnesty': 14, 'outset': 14, 'expenditure': 14, '90s': 14, 'merely': 14, 'touted': 14, 'identification': 14, 'arrests': 14, 'Things': 14, 'Nothing': 14, 'Albania': 14, 'acted': 14, 'Agricultural': 14, 'hungry': 14, 'dry': 14, 'hadn': 14, 'heralded': 14, 'symbol': 14, 'Jackie': 14, 'grasp': 14, 'convictions': 14, 'wishes': 14, 'stakes': 14, 'tricky': 14, 'hamper': 14, 'unremittingly': 14, 'inch': 14, '750': 14, 'reviewing': 14, 'deleted': 14, 'axed': 14, 'planet': 14, 'taste': 14, 'mountain': 14, 'assured': 14, 'altogether': 14, 'helm': 14, 'fortunate': 14, 'defences': 14, 'credible': 14, 'Holocaust': 14, 'tabled': 14, 'Rose': 14, 'Shakespeare': 14, 'verdict': 14, 'Lishman': 14, 'describes': 14, 'Cameron': 14, 'Phone': 14, 'deemed': 14, 'digit': 14, 'soar': 14, 'bed': 14, 'guitar': 14, 'observed': 14, 'heels': 14, 'pending': 14, 'Fish': 14, 'bizarre': 14, 'sky': 14, 'bombarded': 14, 'smarter': 14, 'Observer': 14, 'Zambia': 14, 'Prior': 14, '94': 14, 'casting': 14, 'script': 14, 'scare': 14, 'Scot': 14, 'buoyant': 14, 'celebration': 14, 'protocol': 14, 'Bryan': 14, 'conversations': 14, 'temperatures': 14, 'Raymond': 14, 'Shareholders': 14, 'WEF': 14, 'collections': 14, 'ore': 14, 'transaction': 14, 'da': 14, 'agricultural': 14, 'Druyun': 14, 'LVMH': 14, 'brothers': 14, 'tabloid': 14, 'Yili': 14, 'compelling': 14, 'favourable': 14, 'restate': 14, 'plunged': 14, 'crew': 14, 'owning': 14, 'Andersen': 14, 'ventures': 14, 'approvals': 14, 'Hamm': 14, '35m': 14, 'Though': 14, 'Hawkins': 14, 'touched': 14, 'Bad': 14, 'speculated': 14, 'harsh': 14, 'checking': 14, '1971': 14, 'strains': 14, 'Bulgaria': 14, 'Ali': 14, 'negotiated': 14, 'travels': 14, 'subscriptions': 14, 'KFB': 14, 'cement': 14, 'peaked': 14, 'trademark': 14, 'Travel': 14, 'vendors': 14, 'Italians': 14, '7E7': 14, 'cocoa': 14, 'successor': 14, 'eat': 14, 'SSL': 14, 'Scholl': 14, 'VHS': 14, 'tips': 14, 'thrilled': 14, 'Pernod': 14, 'Sina': 14, 'Highbury': 14, 'menu': 14, 'raids': 14, 'EMI': 14, '777': 14, 'engineer': 14, 'lighting': 14, 'OS': 14, 'clicking': 14, 'Email': 14, 'showcased': 14, 'moderators': 14, 'worms': 14, 'ons': 14, 'hype': 14, 'Said': 14, 'imagination': 14, 'contentious': 14, 'printers': 14, 'rooms': 14, 'convergence': 14, 'programmers': 14, 'physics': 14, 'downloadable': 14, 'poetry': 14, 'Suddenly': 14, 'Dark': 14, 'remotely': 14, 'Milanesi': 14, 'reader': 14, 'Herren': 14, 'Domain': 14, 'Slug': 14, 'Often': 14, 'Norwegian': 14, 'Symantec': 14, 'Blogger': 14, 'usability': 14, 'Zafi': 14, 'Demos': 14, 'Carson': 14, 'Grid': 14, 'DOD': 14, 'boot': 14, 'Desperate': 14, 'Elliott': 14, 'Playing': 14, 'coached': 14, 'Paulo': 14, 'Imanol': 14, 'Frenchman': 14, 'Ferreira': 14, 'Bomb': 14, 'Arjen': 14, 'Cudicini': 14, 'Roland': 14, 'Marlon': 14, 'Mikoliunas': 14, 'understands': 14, 'Nathalie': 14, 'Daniela': 14, 'Montgomery': 14, 'Horan': 14, 'McLeish': 14, 'pundit': 14, 'LTA': 14, 'kicker': 14, 'heptathlon': 14, 'Novo': 14, 'Nou': 14, 'Kluft': 14, 'Jens': 14, 'tiebreak': 14, 'Haas': 14, 'Chester': 14, 'Magpies': 14, 'Hrbaty': 14, 'Rafa': 14, 'Pavey': 14, 'Coria': 14, 'Capriati': 14, 'Ljungberg': 14, 'Lomu': 14, 'Houllier': 14, 'Maso': 14, 'Beach': 14, 'Men': 14, 'Tarantino': 14, 'Gere': 14, 'Slater': 14, 'Ice': 14, 'Jr': 14, 'Shoes': 14, 'Walliams': 14, 'Howl': 14, 'Hide': 14, 'Seek': 14, 'Fahrenheit': 14, 'orchestra': 14, 'Nirvana': 14, 'Actors': 14, 'Stallone': 14, 'McCririck': 14, 'Lush': 14, 'literary': 14, 'bitter': 13, 'spectrum': 13, 'severely': 13, 'disruption': 13, 'removing': 13, 'professionals': 13, 'constable': 13, 'rejects': 13, 'MSPs': 13, 'Enterprise': 13, 'weighed': 13, 'precise': 13, 'NAO': 13, 'designs': 13, 'Officers': 13, 'reoffending': 13, 'existed': 13, 'suspicious': 13, 'Windsor': 13, 'surprises': 13, 'alike': 13, 'ordinator': 13, 'Mumbai': 13, '12bn': 13, 'choosing': 13, 'ICT': 13, 'resisted': 13, 'lawful': 13, 'bone': 13, 'devastating': 13, 'ladder': 13, 'discounts': 13, 'Eurosceptic': 13, 'advances': 13, 'Dominic': 13, 'casino': 13, 'Tessa': 13, 'walls': 13, 'enabling': 13, 'confronted': 13, 'vaccine': 13, 'disguise': 13, 'mess': 13, 'constituencies': 13, 'relative': 13, 'limiting': 13, 'Science': 13, 'swing': 13, 'addressing': 13, 'unpredictable': 13, 'silly': 13, 'differently': 13, 'restored': 13, 'Gulf': 13, 'productive': 13, 'associate': 13, 'temporarily': 13, 'preparations': 13, 'Either': 13, 'invitation': 13, 'householders': 13, 'informal': 13, 'scepticism': 13, 'flexible': 13, 'statutory': 13, 'slim': 13, 'demonstrates': 13, 'nowhere': 13, 'lacked': 13, 'gender': 13, 'Clearly': 13, 'Unfortunately': 13, 'accessed': 13, 'fancy': 13, 'girlfriend': 13, 'ministerial': 13, 'urgent': 13, 'requiring': 13, 'counterpart': 13, 'Hungary': 13, 'criticise': 13, 'upheld': 13, 'renew': 13, 'academic': 13, 'epidemic': 13, 'Hospital': 13, 'manoeuvring': 13, 'answers': 13, 'Bournemouth': 13, 'enforced': 13, 'Sturgeon': 13, 'Tods': 13, 'Airport': 13, 'participate': 13, 'Prisoner': 13, 'sorted': 13, 'monitored': 13, 'opting': 13, 'inflated': 13, 'enemy': 13, 'cruise': 13, 'primarily': 13, 'cheaply': 13, 'sanctions': 13, 'maintenance': 13, 'absent': 13, 'relaxed': 13, 'rattled': 13, 'Dixon': 13, 'animosity': 13, 'Field': 13, 'Rather': 13, 'deadly': 13, 'Lady': 13, 'blown': 13, 'phrase': 13, '80s': 13, 'Lucy': 13, 'literally': 13, 'alarm': 13, 'accelerating': 13, 'repay': 13, 'similarly': 13, 'speculate': 13, 'hearings': 13, 'accepting': 13, 'foundation': 13, 'prospective': 13, 'overseeing': 13, 'Direct': 13, 'qualification': 13, 'tends': 13, 'obtain': 13, 'commentators': 13, 'couples': 13, 'educated': 13, 'Lomax': 13, 'denying': 13, 'Cuban': 13, 'filter': 13, 'Indeed': 13, 'dying': 13, 'hub': 13, 'compact': 13, 'thousand': 13, 'Browne': 13, 'Jamaica': 13, 'projected': 13, 'procedure': 13, 'expression': 13, 'diary': 13, 'Review': 13, 'dent': 13, 'climb': 13, 'suits': 13, 'pharmaceutical': 13, 'locally': 13, 'grants': 13, 'exercising': 13, 'dragged': 13, 'appetite': 13, 'Mock': 13, 'contributors': 13, 'motor': 13, 'thanked': 13, 'federation': 13, 'beneficial': 13, 'knife': 13, 'allegation': 13, 'Booker': 13, 'Brady': 13, 'unlimited': 13, 'escaped': 13, 'inform': 13, 'captured': 13, 'demonstration': 13, 'skilled': 13, 'possibilities': 13, 'photographs': 13, 'whatsoever': 13, 'personnel': 13, 'overtaken': 13, 'filling': 13, 'bearing': 13, 'inner': 13, 'radically': 13, 'provisional': 13, 'asks': 13, 'cord': 13, 'Allan': 13, 'Mallon': 13, 'Hadi': 13, 'scientist': 13, 'magnitude': 13, 'SA': 13, 'securities': 13, 'rebound': 13, 'Cadbury': 13, 'Geneva': 13, 'Customers': 13, 'bounced': 13, 'Kremlin': 13, '75bn': 13, 'Seifert': 13, 'generic': 13, 'setback': 13, 'Chile': 13, 'undervalued': 13, 'Furse': 13, 'ILO': 13, 'buys': 13, '130': 13, 'hiring': 13, 'protested': 13, 'sellers': 13, 'Hard': 13, 'patch': 13, 'Harvey': 13, 'traded': 13, 'Pearson': 13, 'Deloitte': 13, 'crop': 13, 'System': 13, 'bubble': 13, 'Natural': 13, 'experimental': 13, 'storm': 13, 'manufactured': 13, 'guided': 13, 'highlights': 13, 'Investment': 13, '30bn': 13, 'Kurt': 13, 'Daiwa': 13, 'unexpected': 13, 'Buenos': 13, 'transparency': 13, 'Aviation': 13, 'expectation': 13, 'Sumitomo': 13, 'satisfying': 13, 'Rising': 13, 'ADB': 13, 'rehabilitation': 13, 'flotation': 13, 'wary': 13, 'Marie': 13, 'Ferrari': 13, 'Novartis': 13, 'Gallagher': 13, 'Jain': 13, 'Fargo': 13, 'newest': 13, 'manages': 13, 'investigators': 13, 'heating': 13, 'Fly': 13, 'Nigerian': 13, 'Cameroon': 13, '78': 13, 'genius': 13, 'revolutionary': 13, 'honorary': 13, 'experiment': 13, 'beauty': 13, 'Rod': 13, 'Fischer': 13, 'Pasquale': 13, 'loop': 13, 'seamless': 13, 'Fast': 13, 'shelves': 13, 'Diageo': 13, 'Valentine': 13, 'shaped': 13, 'hemisphere': 13, 'distributors': 13, 'Coldplay': 13, 'coloured': 13, 'Lesotho': 13, 'megapixels': 13, 'pulling': 13, 'Downlink': 13, 'Packet': 13, 'interaction': 13, 'copied': 13, 'researcher': 13, 'McGuire': 13, 'weird': 13, 'groundbreaking': 13, 'recordings': 13, 'everywhere': 13, 'native': 13, 'navigate': 13, 'multiplayer': 13, 'jewellery': 13, 'Kazaa': 13, 'snaps': 13, 'Cluley': 13, 'Moving': 13, 'notebook': 13, '1956': 13, 'Sinclair': 13, 'modem': 13, 'scammers': 13, 'visitor': 13, 'realising': 13, 'Winning': 13, 'ripping': 13, 'Arash': 13, 'smashed': 13, 'debuts': 13, 'savvy': 13, 'logs': 13, 'Gizmondo': 13, 'Atomic': 13, 'UMD': 13, 'podcast': 13, 'Voice': 13, 'Trotter': 13, 'creativity': 13, 'Mick': 13, 'Musicians': 13, 'gigs': 13, 'Steam': 13, 'AAA': 13, 'AutoLink': 13, 'lads': 13, 'Dimitri': 13, 'Cusiter': 13, 'Traille': 13, '12th': 13, 'Bourgoin': 13, 'Jauzion': 13, 'Julien': 13, 'clinch': 13, 'Carragher': 13, 'physically': 13, 'Hal': 13, 'hooker': 13, 'McBryde': 13, 'Bosvelt': 13, 'quartet': 13, 'Ioannidis': 13, 'wrist': 13, 'Petrov': 13, 'Swede': 13, 'Stam': 13, 'Fabregas': 13, 'Cyril': 13, 'lad': 13, 'Amelie': 13, 'Sharapova': 13, 'Helens': 13, 'Prutton': 13, 'Ceplak': 13, 'Ashdown': 13, 'Kiely': 13, 'Newry': 13, 'Stevie': 13, 'Diary': 13, 'Stars': 13, 'superhero': 13, 'Sophie': 13, 'Strictly': 13, 'Story': 13, 'Dismantle': 13, 'Hackford': 13, 'drummer': 13, 'Dee': 13, 'Actress': 13, 'Stiller': 13, 'Cosby': 13, 'Whitbread': 13, 'Nelly': 13, 'evicted': 13, 'Moreno': 13, 'Foo': 13, 'Fighters': 13, 'Clooney': 13, 'presenters': 13, 'Cesar': 13, 'airplay': 13, 'Maiden': 13, 'Dirty': 13, 'Buhecha': 13, 'notion': 12, 'actively': 12, 'disillusioned': 12, 'exclude': 12, 'beliefs': 12, 'divorce': 12, 'detect': 12, 'Kemp': 12, 'reflection': 12, 'establishing': 12, 'confuse': 12, 'pitches': 12, 'abolish': 12, 'considerably': 12, 'pig': 12, 'sticking': 12, 'lighter': 12, 'witnesses': 12, 'abiding': 12, 'importantly': 12, 'passes': 12, 'awaiting': 12, 'supreme': 12, 'regiment': 12, 'advisers': 12, 'Chamber': 12, 'prosper': 12, 'Heath': 12, 'Hamilton': 12, 'convention': 12, 'Matrix': 12, 'square': 12, 'Experts': 12, 'trains': 12, 'emissions': 12, 'Environmental': 12, 'vary': 12, 'insane': 12, 'Herald': 12, 'bow': 12, 'migration': 12, 'pioneering': 12, 'guarantees': 12, 'signature': 12, 'Programme': 12, 'Father': 12, 'fraudulent': 12, 'proposes': 12, 'Sainsbury': 12, 'thrust': 12, 'aggressively': 12, 'blaming': 12, 'log': 12, 'shipments': 12, 'pursued': 12, 'stays': 12, 'Romanian': 12, 'Bulgarian': 12, 'squeeze': 12, 'nights': 12, 'Talks': 12, 'Workers': 12, 'rough': 12, 'partisan': 12, 'promotes': 12, 'protects': 12, 'disproportionate': 12, 'supremo': 12, 'Skills': 12, 'founding': 12, 'Napier': 12, 'commissions': 12, 'closures': 12, 'Dallas': 12, 'Portugal': 12, 'ears': 12, 'declaring': 12, 'regret': 12, 'suspicions': 12, 'doubling': 12, 'judiciary': 12, 'writes': 12, 'Qaeda': 12, 'bullish': 12, 'OK': 12, 'Page': 12, 'dominates': 12, 'unprecedented': 12, 'Events': 12, 'rigging': 12, 'Luton': 12, 'Gatwick': 12, 'Sanders': 12, 'protesters': 12, 'amounted': 12, 'grant': 12, 'imminent': 12, '96': 12, 'consulted': 12, 'firing': 12, 'Death': 12, 'appoint': 12, 'briefing': 12, 'arise': 12, 'Tanzania': 12, 'Africans': 12, 'insider': 12, 'inaccurate': 12, 'scandals': 12, 'heaped': 12, 'licensing': 12, 'notices': 12, 'cleverly': 12, 'wrongdoing': 12, 'obliges': 12, 'solicitor': 12, '101': 12, 'fish': 12, 'protections': 12, 'flood': 12, 'exploded': 12, 'fairer': 12, 'stunt': 12, 'belonging': 12, 'sensational': 12, 'levelled': 12, 'pub': 12, 'clamp': 12, 'coincided': 12, 'arranged': 12, 'turf': 12, 'Stefan': 12, 'expose': 12, 'cleaner': 12, 'packs': 12, '3000': 12, 'Citizens': 12, 'Catholics': 12, 'Frederic': 12, 'overhaul': 12, 'exploring': 12, 'horrible': 12, 'Ashcroft': 12, 'hunger': 12, 'mediation': 12, 'Q': 12, 'answered': 12, 'holidays': 12, 'resource': 12, 'dependent': 12, 'overlooked': 12, 'shore': 12, 'branches': 12, 'relationships': 12, 'allowances': 12, 'TGWU': 12, 'hammer': 12, 'hardcore': 12, 'permitted': 12, 'presentation': 12, '1964': 12, 'tended': 12, 'Audrey': 12, 'travelled': 12, 'Winter': 12, 'customs': 12, 'Making': 12, 'salaries': 12, 'Den': 12, 'explanation': 12, 'Co': 12, 'MacDonald': 12, 'expertise': 12, 'Protocol': 12, 'degrees': 12, 'Vaughan': 12, 'rumoured': 12, 'unaffected': 12, 'Boothroyd': 12, 'BBC1': 12, 'goodwill': 12, 'deer': 12, 'invented': 12, 'rifle': 12, 'Auschwitz': 12, 'army': 12, 'photograph': 12, 'alleges': 12, 'jacket': 12, 'receives': 12, 'undergo': 12, 'Reform': 12, 'Jakarta': 12, 'reinforce': 12, 'dressed': 12, 'overturn': 12, 'Eventually': 12, 'jumper': 12, 'spots': 12, 'somehow': 12, 'Need': 12, 'Davey': 12, 'Tower': 12, 'Baume': 12, 'Lisa': 12, 'survivors': 12, 'solving': 12, 'shocks': 12, 'Members': 12, 'discussing': 12, 'unauthorised': 12, 'modified': 12, 'acceptance': 12, 'consume': 12, 'bright': 12, 'feed': 12, 'Hayward': 12, 'inflationary': 12, 'Clearstream': 12, 'Turkmenistan': 12, 'disrupted': 12, 'Harvard': 12, 'Southern': 12, 'sub': 12, 'settings': 12, 'totalled': 12, 'Resources': 12, 'Economists': 12, 'trim': 12, 'payout': 12, 'nicknamed': 12, '920': 12, 'erase': 12, '89': 12, 'Henri': 12, 'naming': 12, 'instruments': 12, 'cracking': 12, 'flagged': 12, 'Bros': 12, 'acquisitions': 12, 'jumping': 12, 'Leading': 12, 'Seychelles': 12, 'topic': 12, 'mounting': 12, 'Aires': 12, 'commuters': 12, 'equities': 12, 'Ronald': 12, 'Jamaican': 12, 'viable': 12, 'pilots': 12, 'Private': 12, 'reliable': 12, 'Consortium': 12, 'coal': 12, 'textiles': 12, 'Rotterdam': 12, 'Journal': 12, 'confirming': 12, 'relies': 12, 'breakneck': 12, 'pegged': 12, 'Bureau': 12, 'Markets': 12, 'dam': 12, 'administrator': 12, 'interrupted': 12, 'Tourism': 12, 'reinsurance': 12, 'EADS': 12, 'crazy': 12, 'Alitalia': 12, 'mill': 12, 'Krivorizhstal': 12, 'illegitimate': 12, 'Jarvis': 12, 'competitor': 12, 'Parma': 12, 'kit': 12, 'frame': 12, 'Kraft': 12, 'Holcim': 12, 'FDA': 12, 'Claude': 12, 'NIESR': 12, 'marine': 12, 'Santander': 12, '1988': 12, 'Rees': 12, 'Money': 12, 'Escape': 12, 'layout': 12, 'GW': 12, 'refers': 12, 'focuses': 12, 'weblog': 12, 'eDonkey': 12, 'copyrighted': 12, 'Laboratory': 12, 'supercomputer': 12, 'bug': 12, 'infect': 12, 'preview': 12, 'em': 12, 'Multimedia': 12, 'Broadcast': 12, 'enemies': 12, 'hat': 12, 'tree': 12, 'Edge': 12, 'Travis': 12, 'Danton': 12, 'Battlefront': 12, 'functionality': 12, 'brains': 12, 'Wippit': 12, 'lab': 12, 'innovations': 12, 'trojan': 12, 'pornography': 12, 'Soon': 12, 'pen': 12, 'NetRatings': 12, 'transmitted': 12, 'Superior': 12, 'Players': 12, 'Theft': 12, 'MGM': 12, 'Developers': 12, 'telco': 12, 'Helsinki': 12, 'Revolution': 12, 'Technorati': 12, 'Take': 12, 'Houlihan': 12, '24m': 12, 'Azkaban': 12, 'acclaim': 12, 'recycled': 12, 'angled': 12, 'uk': 12, 'adapter': 12, 'realistically': 12, 'Sciences': 12, 'MIT': 12, 'amplify': 12, 'electrons': 12, 'newer': 12, 'designers': 12, 'footsteps': 12, 'Bagle': 12, 'quirky': 12, 'Hosford': 12, 'unfortunate': 12, 'Forrester': 12, 'filming': 12, 'Vienna': 12, 'Yoran': 12, 'Different': 12, 'Hero': 12, 'Madden': 12, 'Capella': 12, 'locks': 12, 'Christie': 12, 'Wanadoo': 12, 'DVR': 12, 'outfit': 12, 'CM': 12, 'EPA': 12, 'Gracenote': 12, 'qualifiers': 12, 'Zhang': 12, 'Eve': 12, 'slotted': 12, 'Indoors': 12, 'Fabien': 12, 'WRU': 12, 'XV': 12, 'Corinthians': 12, 'Grandclaude': 12, 'Christophe': 12, 'Francais': 12, 'Bruno': 12, 'referees': 12, 'uncapped': 12, 'Dudek': 12, 'Guillermo': 12, 'Brom': 12, 'Charvis': 12, 'tally': 12, 'Sheahan': 12, 'Christos': 12, 'Hartson': 12, 'decorated': 12, 'Camara': 12, 'Lamont': 12, 'CAS': 12, 'verbal': 12, 'soil': 12, 'Leverkusen': 12, 'Moyes': 12, 'Deacon': 12, 'Molik': 12, 'Calder': 12, 'Slovakia': 12, 'Abeyie': 12, 'Cragg': 12, 'Troncon': 12, 'Masi': 12, 'Carrey': 12, 'Stephens': 12, 'collector': 12, 'Dancing': 12, 'Mondays': 12, 'Bear': 12, 'Kinsey': 12, 'Maroon': 12, 'Factor': 12, 'Ant': 12, 'Dec': 12, 'Darin': 12, 'Corbett': 12, 'Size': 12, 'Engagement': 12, 'Spike': 12, 'boxing': 12, 'Hepburn': 12, 'sang': 12, 'Greer': 12, 'Melcher': 12, 'Cheadle': 12, 'Us': 12, 'Godfather': 12, 'Danger': 12, 'Def': 12, 'Nogar': 12, 'provoked': 11, 'hall': 11, 'Welshman': 11, 'accountable': 11, 'sheriff': 11, 'prisons': 11, 'lobby': 11, 'Caroline': 11, 'Sources': 11, 'effectiveness': 11, 'Mansfield': 11, 'religion': 11, 'outdated': 11, 'Dome': 11, 'confused': 11, 'murderers': 11, 'pleas': 11, 'contempt': 11, 'vastly': 11, 'clarity': 11, 'discount': 11, 'dirty': 11, 'dig': 11, 'cheating': 11, 'placing': 11, 'throne': 11, 'fold': 11, 'merging': 11, 'ratified': 11, 'futures': 11, 'crowded': 11, 'unsuccessfully': 11, 'motivate': 11, 'reforming': 11, 'Indians': 11, 'Harold': 11, 'spirits': 11, 'nightmare': 11, 'consultants': 11, 'legality': 11, 'whip': 11, 'unsuccessful': 11, 'curb': 11, 'heights': 11, 'deport': 11, 'torture': 11, 'preference': 11, 'Senior': 11, 'Roman': 11, 'Eight': 11, 'subjected': 11, 'counting': 11, 'regardless': 11, 'ballots': 11, 'recommend': 11, 'pubs': 11, 'wrongly': 11, 'authentic': 11, 'Vince': 11, 'inheritance': 11, 'catching': 11, 'AND': 11, 'refusal': 11, 'donation': 11, 'processed': 11, 'reactions': 11, 'occasionally': 11, 'conflicts': 11, 'Firm': 11, 'habit': 11, 'DCA': 11, 'Beith': 11, 'hints': 11, 'youngster': 11, 'Eton': 11, 'CPS': 11, 'burglar': 11, 'pit': 11, 'conviction': 11, 'wise': 11, 'backers': 11, 'wished': 11, 'prisoner': 11, 'Osborne': 11, 'diplomatic': 11, 'Nigeria': 11, 'clearer': 11, 'Further': 11, 'volatility': 11, 'Cardinal': 11, 'Holy': 11, 'inspectors': 11, 'backbench': 11, 'shocking': 11, 'sexism': 11, 'Carl': 11, 'coastal': 11, 'infamous': 11, 'benefited': 11, 'petition': 11, 'empire': 11, 'Hartlepool': 11, 'sin': 11, 'meantime': 11, 'concerning': 11, 'homeland': 11, 'tier': 11, 'foreigners': 11, 'refuses': 11, 'unfavourable': 11, 'bilateral': 11, 'clinical': 11, 'confidentiality': 11, 'Holyrood': 11, 'MSP': 11, 'Titanic': 11, 'intensive': 11, 'pensioner': 11, 'switching': 11, 'horses': 11, 'generations': 11, 'uphill': 11, 'hair': 11, 'splits': 11, 'qualities': 11, 'staggering': 11, 'misery': 11, 'retiring': 11, 'Tiananmen': 11, 'Burma': 11, 'lifting': 11, 'Taiwan': 11, 'County': 11, 'letters': 11, 'infringed': 11, 'behave': 11, 'stupid': 11, 'checked': 11, 'precious': 11, 'portion': 11, 'Judges': 11, 'regards': 11, 'obscured': 11, 'Recently': 11, 'telephoning': 11, 'Clare': 11, 'Fellow': 11, 'guest': 11, 'expectancy': 11, 'Amanda': 11, 'fat': 11, 'joy': 11, 'hunters': 11, 'repaid': 11, 'Town': 11, 'uncovered': 11, 'considerable': 11, 'Richie': 11, 'classed': 11, 'unwilling': 11, 'Palestinians': 11, 'rallying': 11, 'portray': 11, 'Beatty': 11, 'Warwick': 11, 'quake': 11, 'earns': 11, 'Derek': 11, 'serial': 11, 'advisory': 11, 'Abbasi': 11, 'hostile': 11, '1976': 11, 'tear': 11, 'RAF': 11, 'yearly': 11, 'downward': 11, 'positives': 11, 'shirt': 11, 'graduate': 11, 'Think': 11, 'commonplace': 11, 'carbon': 11, 'faltering': 11, 'strengthening': 11, 'humble': 11, 'Bishop': 11, 'restricting': 11, 'concessions': 11, 'Bradshaw': 11, 'admitting': 11, 'waited': 11, 'Hereford': 11, 'backbone': 11, 'Action': 11, 'Burns': 11, 'Increasingly': 11, 'restricted': 11, 'spy': 11, 'pregnant': 11, 'gamble': 11, 'expire': 11, 'Nobody': 11, 'Digby': 11, 'carries': 11, 'shrinking': 11, 'Quentin': 11, 'classical': 11, 'respectable': 11, 'improper': 11, 'privilege': 11, 'Roche': 11, 'Sandy': 11, 'completing': 11, 'Ever': 11, 'meaningless': 11, 'Increased': 11, 'reliance': 11, 'Duchy': 11, 'inefficient': 11, 'unavailable': 11, 'Wine': 11, 'solved': 11, 'Older': 11, '170': 11, 'resistance': 11, 'fractured': 11, 'Elliot': 11, 'identical': 11, 'compromised': 11, 'IOC': 11, 'engineers': 11, 'rand': 11, 'Watson': 11, 'globalisation': 11, 'outsourcing': 11, 'crossover': 11, 'SUVs': 11, 'weakening': 11, 'dealings': 11, 'Hugo': 11, 'inflate': 11, 'reap': 11, 'artificially': 11, 'exporting': 11, 'conservative': 11, 'coupled': 11, 'Bloom': 11, 'concludes': 11, 'Lula': 11, 'exporters': 11, 'milk': 11, 'Michel': 11, 'Kingfisher': 11, 'Evolution': 11, 'Profits': 11, 'HSBC': 11, 'advertisers': 11, 'scary': 11, 'FAO': 11, 'waning': 11, 'auctioned': 11, 'Benz': 11, 'SAIC': 11, 'innocence': 11, 'parking': 11, 'Wang': 11, 'relentless': 11, 'accounted': 11, 'seasonally': 11, 'WPP': 11, 'Carlsberg': 11, 'compares': 11, 'mad': 11, 'TimeWarner': 11, 'Rupert': 11, 'Monica': 11, 'Peugeot': 11, 'uncomfortable': 11, 'Federated': 11, 'Stores': 11, 'toward': 11, 'Umbro': 11, 'query': 11, 'Post': 11, 'Cantona': 11, 'Technologies': 11, 'Holdings': 11, 'destination': 11, 'cream': 11, 'rallied': 11, 'pricing': 11, 'till': 11, 'revive': 11, 'fragile': 11, 'lacklustre': 11, 'chemicals': 11, 'Tata': 11, 'shipping': 11, 'vying': 11, 'destined': 11, 'O2': 11, 'Maserati': 11, 'bullying': 11, 'Based': 11, 'partially': 11, 'faulty': 11, 'Metlife': 11, 'notably': 11, 'Noel': 11, 'accuracy': 11, 'deaf': 11, 'Point': 11, 'KSE': 11, 'alerts': 11, 'loaded': 11, 'attracting': 11, 'guests': 11, 'Allied': 11, 'medicine': 11, 'SAP': 11, 'Cox': 11, 'corners': 11, 'Rossignol': 11, 'Botin': 11, 'wheel': 11, 'ATR': 11, 'Tiger': 11, 'notch': 11, 'childhood': 11, 'asbestos': 11, 'Aurora': 11, 'dancer': 11, 'calendar': 11, 'Finland': 11, 'blur': 11, 'accessing': 11, 'Mauritius': 11, 'Virus': 11, 'teraflops': 11, 'feedback': 11, 'Micro': 11, 'labs': 11, 'eponymous': 11, 'flair': 11, 'thrill': 11, 'testament': 11, 'Spyware': 11, 'cartridge': 11, 'Piero': 11, 'hubs': 11, 'bits': 11, 'Hip': 11, 'dialogue': 11, 'inspiring': 11, 'Classic': 11, 'Sega': 11, 'Investigation': 11, 'chronometer': 11, 'navigation': 11, 'handhelds': 11, '2D': 11, 'Londoners': 11, 'digitally': 11, 'bridges': 11, 'Archos': 11, 'connectivity': 11, 'Serbia': 11, 'dancing': 11, 'akin': 11, 'Gamers': 11, 'Qrio': 11, 'wearable': 11, 'Emergency': 11, 'trailing': 11, 'Blogs': 11, 'webpage': 11, 'bears': 11, 'magazines': 11, '6km': 11, 'item': 11, 'Saint': 11, 'searchers': 11, 'cursor': 11, 'zombie': 11, 'illiterate': 11, 'stole': 11, 'tunes': 11, 'Pollard': 11, 'Blog': 11, 'imaging': 11, 'burner': 11, 'Burke': 11, 'Underwood': 11, 'Parks': 11, 'Goodman': 11, 'continually': 11, 'playable': 11, 'commons': 11, 'megabytes': 11, 'Bruvik': 11, 'cab': 11, 'Spamhaus': 11, 'Icstis': 11, 'wartime': 11, 'Speegle': 11, 'OptInRealBig': 11, 'paparazzi': 11, 'Hit': 11, 'Released': 11, 'delight': 11, 'quest': 11, 'Parisse': 11, 'farewell': 11, 'Portuguese': 11, 'Goode': 11, 'Makelele': 11, 'derby': 11, 'Sonny': 11, 'McManaman': 11, 'Tri': 11, 'Calvisano': 11, 'Meldrum': 11, 'Gough': 11, 'equaliser': 11, 'magnificent': 11, 'Duffy': 11, 'Gatlin': 11, 'Birchfield': 11, 'tapped': 11, 'Geordan': 11, 'Jelena': 11, 'Sebastian': 11, 'Titterrell': 11, 'Mackie': 11, 'Vignal': 11, 'scrappy': 11, 'Kluivert': 11, 'vault': 11, 'Masai': 11, 'mentally': 11, 'Eerdekens': 11, 'Nathan': 11, 'Meadows': 11, 'Savage': 11, 'Hayley': 11, 'cocaine': 11, 'Ethiopian': 11, 'contention': 11, 'replacements': 11, 'Jackman': 11, 'Ajax': 11, 'Halliwell': 11, 'Strachan': 11, 'Prodigy': 11, 'banter': 11, 'Anastasia': 11, 'Pearce': 11, 'Monster': 11, 'Osbournes': 11, 'Huw': 11, 'Kisna': 11, 'Portishead': 11, 'bassist': 11, 'comics': 11, 'Carmen': 11, 'Westlife': 11, 'Goodrem': 11, 'Materials': 11, 'Jesus': 11, 'Ronnies': 11, 'Dustin': 11, 'Jeunet': 11, 'Garden': 11, 'Scrubs': 11, 'Zach': 11, 'Braff': 11, 'Confessions': 11, 'Weitz': 11, 'Becky': 11, 'Heat': 11, 'RCA': 11, 'Korn': 11, 'Chorus': 11, 'Manic': 11, 'disruptive': 10, 'spiritual': 10, 'Greater': 10, 'practise': 10, 'snooker': 10, 'Responding': 10, 'independence': 10, 'equality': 10, 'painful': 10, 'crossing': 10, 'courage': 10, 'reopening': 10, 'debated': 10, 'overruling': 10, 'extremists': 10, 'talents': 10, 'reminded': 10, 'punters': 10, 'cheats': 10, 'facility': 10, 'abolishing': 10, 'preserve': 10, 'resigning': 10, 'flourish': 10, 'unfounded': 10, 'willingness': 10, 'Mackay': 10, 'drafting': 10, 'resolutions': 10, 'ally': 10, 'Highlands': 10, 'tagging': 10, 'discriminatory': 10, 'intercept': 10, 'uniquely': 10, 'famously': 10, 'spawned': 10, 'scares': 10, 'criticisms': 10, 'inherited': 10, 'Maguire': 10, 'Gerry': 10, 'Giuseppe': 10, 'coordinator': 10, 'axe': 10, 'floated': 10, 'sunset': 10, 'recruiting': 10, 'sergeant': 10, 'constructive': 10, 'unveiling': 10, 'Trading': 10, 'mailed': 10, 'partnerships': 10, 'endless': 10, 'tightened': 10, 'opposes': 10, 'sweep': 10, 'incentive': 10, 'confrontation': 10, 'Cape': 10, 'Serwotka': 10, 'Is': 10, 'Apart': 10, 'Holme': 10, 'tactical': 10, 'judgment': 10, 'topics': 10, 'Madagascar': 10, 'fathers': 10, 'Theresa': 10, 'strain': 10, 'Kruger': 10, 'enjoys': 10, 'Fears': 10, '68m': 10, 'integrate': 10, 'occur': 10, 'overtook': 10, 'devoted': 10, 'underlined': 10, 'testimony': 10, 'shine': 10, 'Nicholls': 10, 'imprisonment': 10, 'Pierce': 10, 'maths': 10, 'objections': 10, 'feelings': 10, 'Thames': 10, 'enforcing': 10, 'employing': 10, 'pathetic': 10, 'pragmatic': 10, 'Oxfam': 10, 'Price': 10, '25bn': 10, 'minded': 10, 'Sylvia': 10, 'stockpiles': 10, 'bear': 10, 'Hazel': 10, 'diagnosed': 10, 'sacking': 10, 'cigarette': 10, 'Commenting': 10, 'distracted': 10, 'joked': 10, 'Ivory': 10, 'companion': 10, 'amendment': 10, 'Cruel': 10, 'Morning': 10, 'steam': 10, 'volumes': 10, 'backdoor': 10, 'disorder': 10, 'Agent': 10, 'Lancashire': 10, 'defendant': 10, 'considers': 10, 'insistence': 10, 'rated': 10, 'convince': 10, 'swell': 10, 'bases': 10, 'Surely': 10, 'sovereign': 10, 'suffers': 10, 'propaganda': 10, 'selecting': 10, 'tempted': 10, 'penalised': 10, 'seemingly': 10, 'revaluation': 10, '18th': 10, 'drilling': 10, 'unemployed': 10, 'unlawful': 10, 'Telephone': 10, 'Girls': 10, 'Appeals': 10, 'Parkinson': 10, '70s': 10, 'depends': 10, 'excuse': 10, 'outline': 10, 'hounds': 10, 'helicopter': 10, 'royal': 10, 'presumption': 10, 'resident': 10, 'Karen': 10, 'rung': 10, 'packed': 10, '60bn': 10, 'ovation': 10, 'subjects': 10, 'Engineering': 10, 'wealthy': 10, 'creditor': 10, 'moratorium': 10, 'Rank': 10, 'caring': 10, 'recommends': 10, 'Hassan': 10, 'wreck': 10, 'catastrophe': 10, 'gospel': 10, 'congratulated': 10, 'slick': 10, 'egg': 10, 'mortgages': 10, 'streak': 10, 'outweigh': 10, 'implement': 10, 'Key': 10, 'concrete': 10, 'stealth': 10, 'college': 10, 'Emma': 10, 'mere': 10, '105': 10, 'donor': 10, 'slimmer': 10, 'abandoning': 10, 'references': 10, 'difficulty': 10, 'colonial': 10, 'halve': 10, 'Elections': 10, 'dress': 10, 'grandmother': 10, 'Iraqis': 10, 'seized': 10, 'reluctance': 10, 'column': 10, 'presenting': 10, 'arrive': 10, 'sudden': 10, 'Westwood': 10, 'recruited': 10, 'surprisingly': 10, 'MI6': 10, 'diseases': 10, '21m': 10, 'bunch': 10, 'judging': 10, 'MacKenzie': 10, 'painted': 10, 'smooth': 10, 'VW': 10, 'nod': 10, 'frankly': 10, 'slashed': 10, 'mature': 10, 'Fathers': 10, 'organising': 10, 'instrumental': 10, 'indictment': 10, 'ploughed': 10, 'addressed': 10, 'corporation': 10, 'den': 10, 'finale': 10, 'Lankan': 10, 'sheet': 10, 'uranium': 10, 'III': 10, 'Fire': 10, 'maintains': 10, 'Charity': 10, 'monumental': 10, 'breakdown': 10, 'Ingram': 10, 'Working': 10, 'maximise': 10, 'courting': 10, 'INSEE': 10, 'Todd': 10, '75m': 10, 'nerves': 10, 'Panke': 10, 'UBS': 10, 'contraction': 10, 'rhythm': 10, 'Altria': 10, 'racketeering': 10, 'widened': 10, 'Chilean': 10, '70m': 10, '91m': 10, 'Branson': 10, '23bn': 10, 'Mervyn': 10, 'Shanghai': 10, 'rip': 10, 'defraud': 10, 'Lacroix': 10, 'Falic': 10, 'Industrial': 10, 'televisions': 10, 'rupiah': 10, 'twin': 10, 'redundancies': 10, 'declines': 10, 'transportation': 10, 'wondered': 10, 'indicators': 10, 'emulate': 10, 'tender': 10, 'invested': 10, 'cheapest': 10, 'paint': 10, 'conglomerate': 10, 'Bat': 10, 'Car': 10, 'showcase': 10, '550': 10, 'floating': 10, 'Rival': 10, 'exceeds': 10, 'Chernin': 10, 'diesel': 10, 'strategies': 10, 'cheer': 10, 'owes': 10, 'AP': 10, 'Interbrew': 10, 'kits': 10, 'lenders': 10, 'Detroit': 10, 'Smart': 10, 'Asset': 10, 'Senator': 10, 'installation': 10, '300p': 10, 'aerospace': 10, 'Official': 10, 'liable': 10, 'baht': 10, 'provinces': 10, 'Telecommunications': 10, 'fares': 10, 'Soros': 10, 'insulting': 10, '190': 10, '133': 10, 'EEF': 10, 'Heart': 10, 'revamped': 10, 'recipient': 10, 'peg': 10, 'restructure': 10, 'Skinner': 10, 'picks': 10, 'Savoy': 10, '01': 10, 'Forster': 10, 'sues': 10, 'pioneer': 10, 'Pinochet': 10, 'Tysabri': 10, 'availability': 10, 'utilities': 10, 'keys': 10, 'orange': 10, '07': 10, 'Camus': 10, 'BaFin': 10, 'evolved': 10, 'Donaldson': 10, 'ripe': 10, 'Bartlett': 10, 'Again': 10, 'Ukrainian': 10, 'valuation': 10, 'surging': 10, 'completion': 10, 'Mouse': 10, 'pervasive': 10, 'lung': 10, 'refinery': 10, 'Winn': 10, 'Dixie': 10, 'supermarket': 10, 'upgrading': 10, 'forums': 10, 'Vietnam': 10, 'stomach': 10, 'tremors': 10, 'Libya': 10, 'hook': 10, 'mogul': 10, 'Hardie': 10, 'limped': 10, 'rental': 10, 'Ifo': 10, 'IDS': 10, 'accurately': 10, 'Genuine': 10, 'mains': 10, 'Pharma': 10, 'Museum': 10, 'Jo': 10, 'overwhelmed': 10, 'bugs': 10, 'harbouring': 10, 'Spybot': 10, 'inkjet': 10, 'instantly': 10, 'breed': 10, 'VCR': 10, 'kicks': 10, 'jumps': 10, 'Sonaptic': 10, 'Caballeros': 10, 'latinohiphopradio': 10, 'journal': 10, 'memorable': 10, 'raises': 10, '3ami': 10, 'logged': 10, 'Anna': 10, 'factual': 10, 'Oasis': 10, 'Gadgets': 10, 'Knife': 10, 'textbooks': 10, 'teething': 10, 'Frontier': 10, 'adapting': 10, 'Names': 10, 'IDN': 10, 'documentaries': 10, 'thrive': 10, 'portals': 10, 'scrolling': 10, 'robotic': 10, 'Allard': 10, 'headset': 10, 'Format': 10, 'lasers': 10, 'Mojtaba': 10, 'blogosphere': 10, 'showcases': 10, 'manually': 10, 'DVB': 10, 'spoof': 10, 'personalisation': 10, 'texting': 10, 'Longhorn': 10, 'mould': 10, 'embedded': 10, 'Warrior': 10, 'quantities': 10, 'Wimax': 10, 'incorporates': 10, 'Pouwelse': 10, 'disks': 10, 'electrodes': 10, 'Makower': 10, 'capacities': 10, 'fibre': 10, 'optic': 10, 'Energis': 10, 'creatures': 10, 'Cyber': 10, 'Sven': 10, 'genres': 10, 'tops': 10, 'Babinet': 10, 'MMORPGs': 10, 'Tracey': 10, 'stocking': 10, 'crashed': 10, 'Trainor': 10, 'Thing': 10, 'CDs': 10, 'Florin': 10, 'notify': 10, 'violation': 10, 'Die': 10, 'gigabit': 10, 'Sprint': 10, 'inspiration': 10, 'samples': 10, 'upright': 10, 'aka': 10, 'Bud': 10, 'gritty': 10, 'Tournament': 10, 'spectators': 10, 'endlessly': 10, 'Pollmann': 10, 'siege': 10, 'Run': 10, 'suspensions': 10, 'breast': 10, 'fixtures': 10, 'indoors': 10, 'Clermont': 10, 'Yann': 10, 'Laharrague': 10, 'Finnan': 10, 'Kewell': 10, 'Albert': 10, 'Pountney': 10, 'disgrace': 10, 'Didier': 10, 'Goran': 10, 'Burton': 10, 'Bullock': 10, 'Weston': 10, 'Bowe': 10, 'managerial': 10, 'Waterreus': 10, 'Prso': 10, 'Maloney': 10, 'detector': 10, 'Petrie': 10, 'Justine': 10, 'Hingis': 10, 'clocking': 10, 'competed': 10, 'Flamini': 10, 'Bayer': 10, 'Gatland': 10, 'wooden': 10, 'spoon': 10, 'Voyce': 10, 'Gravesen': 10, 'aspiring': 10, 'Dominik': 10, 'Ricky': 10, 'Harley': 10, 'Adelaide': 10, 'Luciano': 10, 'protege': 10, 'brilliantly': 10, 'rocked': 10, 'Contepomi': 10, 'Sania': 10, 'Castrogiovanni': 10, 'Persico': 10, 'Belgrave': 10, 'Gwent': 10, '1977': 10, 'Treviso': 10, 'JK': 10, 'Brosnan': 10, 'abortionist': 10, 'Flying': 10, 'Wasp': 10, 'Chemical': 10, '000th': 10, 'Wedding': 10, 'Mama': 10, 'Fever': 10, 'Bet': 10, 'bookmaker': 10, 'Annette': 10, 'songwriter': 10, 'Morrissey': 10, 'Ring': 10, 'Kosslick': 10, 'Snicket': 10, 'Unfortunate': 10, 'Massenet': 10, 'Strauss': 10, 'Springer': 10, 'Thoday': 10, 'Alda': 10, 'Kenzie': 10, 'Rowlands': 10, 'AFI': 10, 'Treasure': 10, 'Gant': 10, 'Meighan': 10, 'Preachers': 10, 'Boogeyman': 10, 'Ampas': 10, 'scripts': 10, 'Mars': 10, 'Scoggins': 10, 'Kidman': 10, 'Therefore': 9, 'collective': 9, 'ditch': 9, 'prejudice': 9, 'misunderstood': 9, 'portrayed': 9, 'Berry': 9, 'isolated': 9, 'securing': 9, 'neutral': 9, '36th': 9, 'Yeo': 9, 'Finally': 9, 'plead': 9, 'detected': 9, 'Hutton': 9, 'chaired': 9, 'Cornwall': 9, 'authorised': 9, 'sweeteners': 9, 'recruitment': 9, 'Elizabeth': 9, '270': 9, 'speeding': 9, 'notorious': 9, 'finalised': 9, 'purport': 9, 'misled': 9, 'Writing': 9, 'lifelong': 9, 'deliberate': 9, 'Environment': 9, 'warming': 9, 'Scientists': 9, 'curfews': 9, 'Algeria': 9, 'Jordan': 9, 'deported': 9, 'internment': 9, 'Croucher': 9, 'objective': 9, 'Paying': 9, 'Equality': 9, 'embraced': 9, 'Controversial': 9, 'Casino': 9, 'Voters': 9, 'relying': 9, 'pressed': 9, 'Facility': 9, 'Kimberly': 9, 'Questions': 9, 'wrongful': 9, 'furore': 9, 'complacent': 9, 'mixture': 9, 'email': 9, 'glass': 9, 'Ward': 9, 'inspection': 9, 'grossly': 9, 'simpler': 9, 'recommendations': 9, 'educating': 9, 'anxious': 9, 'nowadays': 9, 'electioneering': 9, 'exemptions': 9, 'guiding': 9, 'incumbent': 9, 'aides': 9, 'imply': 9, 'campaigned': 9, 'nearby': 9, 'exploiting': 9, 'preferring': 9, 'accelerated': 9, 'alleging': 9, 'litigation': 9, 'Nine': 9, 'underpin': 9, 'polled': 9, 'proven': 9, 'criticises': 9, 'bottle': 9, 'Along': 9, 'goodness': 9, 'gossip': 9, 'stir': 9, 'embark': 9, '1930s': 9, 'Rory': 9, 'Yeah': 9, 'debating': 9, 'Identity': 9, 'behaving': 9, 'Mirror': 9, 'supposedly': 9, 'counted': 9, 'persecution': 9, 'discriminates': 9, 'Concerns': 9, 'sea': 9, 'metropolitan': 9, 'applicants': 9, 'formidable': 9, 'Operation': 9, 'interpretations': 9, 'Treaty': 9, 'negotiating': 9, 'schoolboys': 9, 'Mozambique': 9, 'plight': 9, 'famine': 9, 'hostility': 9, 'grave': 9, 'Blears': 9, 'outrageous': 9, 'hiding': 9, 'circles': 9, 'unanimously': 9, 'preventable': 9, 'issuing': 9, 'restaurants': 9, 'recognises': 9, 'flared': 9, 'exempt': 9, 'abandonment': 9, 'defy': 9, 'Leicestershire': 9, 'fade': 9, 'obscurity': 9, 'plausible': 9, 'forming': 9, 'accommodate': 9, 'Oh': 9, 'reformed': 9, 'dynamic': 9, 'honesty': 9, 'SNP': 9, 'describing': 9, 'twins': 9, 'defendants': 9, 'distinct': 9, 'bat': 9, 'excluded': 9, 'repeating': 9, 'supportive': 9, 'Equally': 9, 'stating': 9, 'aftermath': 9, 'exported': 9, 'Report': 9, 'Joint': 9, 'mongrel': 9, 'confirms': 9, 'scanned': 9, 'coped': 9, 'blighted': 9, 'evil': 9, 'manipulate': 9, 'sat': 9, 'routinely': 9, 'sentiments': 9, 'locking': 9, 'assumptions': 9, 'inevitably': 9, 'bite': 9, 'cannabis': 9, 'Insurance': 9, 'fuelling': 9, 'inspire': 9, 'fundraising': 9, 'attached': 9, 'offended': 9, 'Politicians': 9, 'privately': 9, 'flag': 9, 'sentencing': 9, 'Champion': 9, 'disrepute': 9, 'Albanian': 9, 'confirmation': 9, 'fleeing': 9, 'bones': 9, 'sustaining': 9, 'inability': 9, 'kid': 9, 'Hunter': 9, 'Sage': 9, 'definite': 9, 'Betty': 9, 'closes': 9, 'oust': 9, 'rosy': 9, 'Hertfordshire': 9, 'accompanying': 9, 'hammered': 9, 'ensured': 9, 'addictive': 9, 'Respect': 9, 'Planning': 9, 'Revenue': 9, 'Better': 9, 'serves': 9, 'alternatives': 9, 'utterly': 9, 'Moazzam': 9, 'teeth': 9, 'recalls': 9, 'forgot': 9, 'fond': 9, '250m': 9, 'Low': 9, 'contractors': 9, 'assure': 9, '00': 9, 'governmental': 9, 'distinctive': 9, 'slash': 9, 'delete': 9, 'continuous': 9, '162': 9, 'Redwood': 9, 'bureaucratic': 9, 'Fifty': 9, 'Tourist': 9, 'Kyoto': 9, 'secures': 9, 'clampdown': 9, 'windfall': 9, 'Mortgage': 9, 'quietly': 9, 'upwards': 9, 'torn': 9, 'Dubs': 9, 'undertaking': 9, 'intact': 9, '65s': 9, 'Geldof': 9, 'Riverside': 9, 'Oldham': 9, 'Surrey': 9, 'unwanted': 9, 'Betts': 9, 'administrative': 9, 'civilian': 9, 'needing': 9, 'outings': 9, 'disposal': 9, 'Makarov': 9, 'Borrowing': 9, 'Inflation': 9, 'giveaway': 9, 'Expectations': 9, 'eventual': 9, 'stressing': 9, 'competent': 9, 'porn': 9, 'campaigner': 9, 'devastated': 9, 'suited': 9, 'brush': 9, 'liberalisation': 9, 'Sudan': 9, 'resorts': 9, 'fruit': 9, 'crunch': 9, 'notified': 9, 'conjunction': 9, 'cake': 9, 'loses': 9, 'assumed': 9, 'Fairford': 9, 'courtesy': 9, 'watchdogs': 9, 'fitting': 9, 'Bethnal': 9, 'Li': 9, 'deterioration': 9, 'stretches': 9, 'sliding': 9, 'depressed': 9, 'varied': 9, 'stretching': 9, 'slimming': 9, 'objected': 9, 'Pension': 9, 'Britannia': 9, 'en': 9, 'Stephenson': 9, 'donating': 9, 'allied': 9, 'locations': 9, 'credentials': 9, 'Aberdeen': 9, 'trialling': 9, 'Professional': 9, 'enters': 9, 'theirs': 9, 'sufficiently': 9, 'nots': 9, 'affiliate': 9, 'livelihoods': 9, 'stimulate': 9, 'Walt': 9, 'Bryson': 9, 'ranges': 9, 'Dow': 9, 'Bringing': 9, '14bn': 9, 'conducting': 9, 'buyout': 9, 'Speculation': 9, 'Werner': 9, 'weaken': 9, '13bn': 9, '280bn': 9, 'contend': 9, 'widen': 9, 'Suez': 9, 'McLennan': 9, 'Liffe': 9, 'derivatives': 9, 'seasonal': 9, 'woes': 9, 'Apacs': 9, 'Reilly': 9, 'comfort': 9, 'assigned': 9, 'Seattle': 9, 'Cadillac': 9, 'Opel': 9, 'MG': 9, 'Longbridge': 9, 'Sarbanes': 9, 'Oxley': 9, 'relax': 9, 'earthquake': 9, 'Rachel': 9, 'publications': 9, 'Gas': 9, 'petroleum': 9, 'milder': 9, 'staying': 9, 'defer': 9, 'Twenty': 9, '180bn': 9, 'protein': 9, 'cancellations': 9, 'drops': 9, 'Ad': 9, 'Exxon': 9, 'charm': 9, 'buoyed': 9, 'Playstation': 9, 'Box': 9, 'Cube': 9, 'conclude': 9, 'cylinder': 9, 'francs': 9, 'Bakrie': 9, 'Karl': 9, 'Ambev': 9, 'shirts': 9, '42m': 9, 'BSA': 9, 'cooled': 9, 'furniture': 9, 'BRC': 9, 'Kazakhstan': 9, 'Porsche': 9, 'Vantage': 9, 'Coal': 9, 'Boss': 9, 'Wipro': 9, 'Cheney': 9, 'Bondi': 9, 'bolster': 9, '19bn': 9, 'OSI': 9, 'Saakashvili': 9, 'rampant': 9, 'bribery': 9, 'Registry': 9, 'haul': 9, 'Powell': 9, 'Robot': 9, 'PBGC': 9, 'millionaires': 9, 'expires': 9, 'MW': 9, 'credited': 9, 'Excluding': 9, 'pesos': 9, 'Kirchner': 9, 'sheets': 9, 'Giant': 9, 'graduated': 9, 'dimension': 9, 'rupee': 9, 'Forgeard': 9, 'pan': 9, 'shaping': 9, 'NTPC': 9, '04': 9, 'Nelson': 9, 'Marchionne': 9, 'der': 9, 'Previously': 9, 'sponsored': 9, 'advertise': 9, 'demise': 9, 'Titan': 9, '1900': 9, 'IPO': 9, 'bumper': 9, 'celebrations': 9, 'CNPC': 9, 'fights': 9, 'Prozac': 9, 'Kenneth': 9, 'ambassador': 9, 'Carlo': 9, 'Trojan': 9, 'Colombia': 9, 'Colombian': 9, 'unbundling': 9, 'apiece': 9, 'memorabilia': 9, 'struggles': 9, 'Merck': 9, 'Californian': 9, 'UPS': 9, 'watchers': 9, 'unsure': 9, 'Clement': 9, 'mines': 9, 'Scrushy': 9, 'Bombardier': 9, 'Krispy': 9, 'Kreme': 9, 'Tsutsumi': 9, 'precursor': 9, 'Shanda': 9, 'Dein': 9, 'Wimpey': 9, 'Tellier': 9, 'Latest': 9, 'inches': 9, 'Canal': 9, 'Hariri': 9, 'environments': 9, 'resurrected': 9, 'Toronto': 9, 'Dunn': 9, 'Geoffrey': 9, 'pornographic': 9, 'prototypes': 9, 'steroids': 9, 'Imagine': 9, 'Jeremiah': 9, 'supercomputing': 9, 'Thomson': 9, 'Paypal': 9, 'Clearswift': 9, 'exploits': 9, 'Peru': 9, 'tenfold': 9, 'IFPI': 9, 'Pack': 9, 'packages': 9, 'logo': 9, 'flowing': 9, 'universe': 9, 'surfing': 9, 'platforms': 9, 'draws': 9, 'thieves': 9, 'incorporate': 9, 'explanations': 9, 'Really': 9, 'accolade': 9, 'airing': 9, 'infects': 9, 'explode': 9, 'hooked': 9, 'Pocket': 9, 'retro': 9, 'gasp': 9, 'GDC': 9, 'Katherine': 9, 'MacWorld': 9, 'telcos': 9, 'seamlessly': 9, 'Reporters': 9, 'Bloggers': 9, 'Tansley': 9, 'ADSL': 9, 'compressed': 9, 'h': 9, 'democratisation': 9, 'ringtone': 9, 'Passport': 9, 'foray': 9, 'Fisher': 9, 'indexing': 9, 'dug': 9, 'Kilgore': 9, 'wheelchair': 9, 'interpreter': 9, 'PBS': 9, 'frequency': 9, 'Kujda': 9, 'Stay': 9, 'Blind': 9, 'finalists': 9, 'Marco': 9, 'Berger': 9, 'CGI': 9, 'Merriam': 9, 'sci': 9, 'DAB': 9, 'Rolling': 9, 'Ash': 9, 'Armes': 9, 'Gupta': 9, 'honouring': 9, 'formula': 9, 'gym': 9, 'explored': 9, 'Doctorow': 9, 'Ram': 9, 'Doors': 9, 'Molyneux': 9, 'trapped': 9, '17th': 9, 'tournaments': 9, 'rediscovered': 9, 'paintings': 9, 'Personally': 9, 'MMORPG': 9, 'Gregan': 9, 'Wallabies': 9, 'Liga': 9, 'Arms': 9, 'thrilling': 9, 'Aurelien': 9, 'Lamboley': 9, 'Nyanga': 9, 'Cristiano': 9, 'Devine': 9, 'Petr': 9, 'midway': 9, 'groin': 9, 'Robredo': 9, 'knockout': 9, 'Goldfine': 9, 'lining': 9, 'Ranieri': 9, 'Wes': 9, 'Lester': 9, 'secs': 9, 'Maduaka': 9, 'McGregor': 9, 'Gabriel': 9, 'equalised': 9, 'Southwell': 9, 'Grimes': 9, 'Ginepri': 9, 'Lazio': 9, 'Brizzel': 9, 'Bergkamp': 9, 'Sol': 9, 'conceding': 9, 'ace': 9, 'backhand': 9, 'Federations': 9, 'Bramble': 9, 'Ancic': 9, 'Hasselbaink': 9, 'Dibaba': 9, 'disallowed': 9, 'Rinaldi': 9, 'Kenenisa': 9, 'Turnbull': 9, 'Squad': 9, 'Michels': 9, 'Cruyff': 9, 'Owusu': 9, 'physio': 9, 'Hislop': 9, 'Lauren': 9, 'glittering': 9, 'Gethin': 9, 'deflection': 9, 'Gaudio': 9, 'Griffen': 9, 'Mauro': 9, 'Hreidarsson': 9, 'rib': 9, 'caretaker': 9, 'hate': 9, 'Nicole': 9, 'Paddy': 9, 'boyfriend': 9, 'Bloc': 9, 'Vic': 9, 'Raw': 9, 'Cuaron': 9, 'Natasha': 9, 'Bedingfield': 9, 'Lightbody': 9, 'Sabbath': 9, 'Shameless': 9, 'Outstanding': 9, 'Rowling': 9, 'Lost': 9, 'Lemony': 9, 'Ludacris': 9, 'Toy': 9, 'Soldiers': 9, 'Read': 9, 'Demons': 9, 'Beautiful': 9, 'Springsteen': 9, 'Vanity': 9, 'Angolan': 9, 'Brookside': 9, 'Download': 9, 'probation': 9, 'remakes': 9, 'curfew': 9, 'Holiff': 9, 'Roc': 9, 'Fella': 9, 'RAD': 9, 'Pixies': 9, 'financed': 8, 'earners': 8, 'Semitism': 8, 'personalised': 8, 'abusive': 8, 'centuries': 8, 'con': 8, 'Nor': 8, 'miner': 8, 'rank': 8, 'magistrates': 8, 'enlarged': 8, 'Rail': 8, 'Waverley': 8, 'lobbying': 8, 'railway': 8, 'quota': 8, 'earliest': 8, 'offending': 8, 'demonising': 8, 'appropriately': 8, 'Canterbury': 8, 'inclined': 8, 'hanging': 8, 'leak': 8, 'gloomy': 8, 'overwhelmingly': 8, 'Regiments': 8, 'traditions': 8, 'proposing': 8, 'Kashmir': 8, 'dividing': 8, 'warmly': 8, 'respective': 8, 'lunchtime': 8, 'Common': 8, 'Budd': 8, 'reads': 8, 'verify': 8, 'sprinting': 8, 'deployment': 8, 'wholly': 8, 'pivotal': 8, 'Mates': 8, 'belongs': 8, 'pollution': 8, 'rolled': 8, 'Prison': 8, 'cat': 8, 'Kilbride': 8, 'submissions': 8, 'advocate': 8, 'Croatia': 8, 'riots': 8, 'insight': 8, 'robbery': 8, 'Racial': 8, 'definitive': 8, 'brushed': 8, 'socially': 8, 'Gambling': 8, 'regulated': 8, 'applies': 8, 'donors': 8, 'servant': 8, 'Conlon': 8, 'Seven': 8, 'wasteful': 8, 'penny': 8, 'thresholds': 8, 'amendments': 8, 'hefty': 8, 'strategists': 8, 'persuading': 8, 'Realising': 8, 'Blackberry': 8, 'okay': 8, 'colourful': 8, 'liquid': 8, 'unrealistic': 8, 'basketball': 8, 'obesity': 8, 'undecided': 8, 'thorough': 8, 'examination': 8, 'visas': 8, 'exclusion': 8, 'hatred': 8, 'Select': 8, 'challenger': 8, 'personalities': 8, 'cancelling': 8, 'Upper': 8, 'induction': 8, 'intruder': 8, 'Fred': 8, 'disgraceful': 8, 'dotcom': 8, 'undergoing': 8, 'missions': 8, 'mothers': 8, 'cardinal': 8, 'dire': 8, 'misrepresentation': 8, 'immigrant': 8, 'portrait': 8, 'perceptions': 8, 'favours': 8, '15m': 8, 'profoundly': 8, 'disquiet': 8, 'bombing': 8, 'surpass': 8, '167': 8, 'chancellors': 8, 'thwarted': 8, 'contents': 8, 'truce': 8, 'spat': 8, 'ward': 8, 'bags': 8, 'yellow': 8, 'dragging': 8, 'risked': 8, 'whim': 8, 'observes': 8, 'Massachusetts': 8, 'edits': 8, 'pager': 8, 'Barber': 8, 'Mahmoud': 8, 'Israelis': 8, 'arbitrary': 8, 'isolation': 8, 'needlessly': 8, 'Criminal': 8, 'conscience': 8, 'playground': 8, 'discontent': 8, 'leaks': 8, 'leaking': 8, 'Laws': 8, 'incoming': 8, 'civic': 8, 'encountered': 8, 'esteem': 8, 'insult': 8, 'outweighed': 8, 'Would': 8, 'declaration': 8, 'constituents': 8, 'irrelevant': 8, 'overshadowed': 8, 'sinking': 8, 'exception': 8, 'schedules': 8, 'Basically': 8, 'admissions': 8, 'contributing': 8, 'sweeping': 8, 'coup': 8, 'Future': 8, 'masters': 8, 'worthy': 8, 'speaks': 8, '18s': 8, 'wound': 8, 'surrounded': 8, 'mode': 8, 'arrange': 8, 'famed': 8, 'Raynsford': 8, 'Violent': 8, 'Manhunt': 8, 'labelling': 8, 'hails': 8, 'curriculum': 8, 'profound': 8, 'overly': 8, 'adequate': 8, 'swear': 8, 'inherit': 8, 'quote': 8, 'interpretation': 8, 'Sadly': 8, 'indefinite': 8, 'fundamentals': 8, 'bombings': 8, 'Migration': 8, 'furious': 8, 'spite': 8, 'avoids': 8, 'Opportunity': 8, 'frenzy': 8, 'attacker': 8, 'aggravating': 8, 'humanitarian': 8, 'mixing': 8, 'tracked': 8, 'overnight': 8, 'mount': 8, 'complacency': 8, 'nationwide': 8, 'Forty': 8, 'disagreed': 8, 'lag': 8, 'arrangement': 8, 'subsidised': 8, 'soften': 8, 'Shepherd': 8, 'Capacity': 8, 'waits': 8, 'inquiries': 8, 'pursuit': 8, 'cry': 8, 'Alistair': 8, 'shifts': 8, 'Schools': 8, 'taught': 8, '440': 8, 'Leisure': 8, 'disciplined': 8, 'remainder': 8, 'counts': 8, 'embattled': 8, 'slots': 8, 'rack': 8, 'stalking': 8, 'Meyer': 8, 'Slough': 8, '91': 8, 'daughters': 8, 'immensely': 8, 'enlisted': 8, '1967': 8, '1968': 8, 'Hills': 8, 'cafe': 8, 'remind': 8, 'Lottery': 8, 'provisionally': 8, 'fairness': 8, 'lazy': 8, 'bonuses': 8, 'overheads': 8, 'blatant': 8, 'corporations': 8, 'disagree': 8, 'Spring': 8, 'darker': 8, 'climbing': 8, 'ships': 8, 'disagreements': 8, 'marriages': 8, 'Des': 8, 'broader': 8, 'refund': 8, '111': 8, 'memorial': 8, 'pitfalls': 8, 'sentiment': 8, 'silence': 8, 'Gibraltar': 8, 'description': 8, 'snatched': 8, 'payers': 8, 'random': 8, 'enduring': 8, 'heirs': 8, 'angrily': 8, 'derail': 8, 'Relations': 8, 'shrugged': 8, 'Comic': 8, 'concession': 8, 'wrangling': 8, 'rejoin': 8, 'libel': 8, 'clues': 8, 'Decisions': 8, 'Pretty': 8, 'woo': 8, 'Finegold': 8, 'sincerely': 8, 'murdered': 8, 'fax': 8, 'freeing': 8, 'Tote': 8, 'novels': 8, 'bedroom': 8, 'fiercely': 8, 'boat': 8, 'Kahn': 8, 'circle': 8, 'Hilton': 8, 'Mayor': 8, 'Nicky': 8, 'mosque': 8, 'Emirates': 8, 'priest': 8, 'queues': 8, 'sun': 8, 'parallel': 8, 'premature': 8, 'amazed': 8, 'balances': 8, 'dodgy': 8, 'Pupils': 8, 'lively': 8, 'acknowledges': 8, 'Beatle': 8, 'assembled': 8, 'contributor': 8, 'Ibrox': 8, 'cutbacks': 8, 'panic': 8, 'Wyatt': 8, 'foolish': 8, 'specialised': 8, 'conciliation': 8, 'prohibited': 8, 'demo': 8, 'protestors': 8, 'amounting': 8, 'marking': 8, 'compensate': 8, '120m': 8, 'pedigree': 8, 'philosophy': 8, 'Rwandan': 8, 'happier': 8, 'Gurkhas': 8, 'lovely': 8, 'frantic': 8, 'upsurge': 8, 'List': 8, 'Savings': 8, 'sophistication': 8, 'destroying': 8, 'Hayman': 8, 'lifestyles': 8, 'lowering': 8, 'Water': 8, 'worn': 8, 'learners': 8, 'economically': 8, '404': 8, 'Ferry': 8, 'forged': 8, 'rousing': 8, '13th': 8, 'Yard': 8, 'Barker': 8, 'Mitchell': 8, 'chapter': 8, 'insulation': 8, 'Beyond': 8, 'Petroleum': 8, 'meaningful': 8, 'Spending': 8, 'Economist': 8, 'evaluate': 8, 'Gross': 8, 'statistical': 8, 'Area': 8, '96bn': 8, 'segment': 8, 'Typically': 8, 'carmakers': 8, 'Chase': 8, 'Takenaka': 8, 'Weingarten': 8, 'Stoy': 8, 'destiny': 8, 'Burren': 8, 'expands': 8, 'unleashed': 8, 'Pan': 8, 'capitalisation': 8, 'Southwest': 8, 'AMR': 8, 'plagued': 8, 'Suisse': 8, 'Varig': 8, 'fraudsters': 8, 'Agence': 8, 'spun': 8, 'Sears': 8, 'midst': 8, 'Automotive': 8, 'commented': 8, 'cosmetics': 8, 'Herve': 8, 'Demand': 8, '150m': 8, 'pulls': 8, 'Contrack': 8, 'executed': 8, 'Warning': 8, 'petrochemicals': 8, 'Caspian': 8, 'essentially': 8, 'registering': 8, 'depression': 8, 'reinforces': 8, 'hurricanes': 8, '37bn': 8, 'reversed': 8, 'Gref': 8, 'Laboratories': 8, 'Comair': 8, 'noises': 8, 'kroner': 8, 'gruelling': 8, 'arisen': 8, 'trader': 8, 'utilise': 8, 'revelation': 8, 'pump': 8, 'arbitration': 8, 'submission': 8, 'washed': 8, 'Goldman': 8, 'patience': 8, 'BBA': 8, 'Chrysler': 8, 'marque': 8, 'Train': 8, 'grips': 8, 'Solskjaer': 8, 'Investments': 8, 'scenario': 8, 'BoE': 8, 'gathers': 8, 'Gammell': 8, 'contractor': 8, 'buck': 8, 'Herbert': 8, 'organic': 8, 'easing': 8, 'Ahmed': 8, 'Shaheed': 8, 'revealing': 8, 'diving': 8, 'SMFG': 8, 'Shevardnadze': 8, 'Electrolux': 8, 'Pat': 8, '45bn': 8, 'flooded': 8, 'mild': 8, 'bottlenecks': 8, 'fated': 8, 'blessed': 8, 'hearts': 8, 'Bosch': 8, 'farming': 8, 'Fujitsu': 8, 'splitting': 8, 'UNECE': 8, 'advisors': 8, 'Crossrail': 8, 'Elan': 8, 'Biogen': 8, 'FC': 8, 'belt': 8, 'Easymobile': 8, 'shorter': 8, 'Nippon': 8, '03': 8, 'bribe': 8, 'Late': 8, 'bondholders': 8, '22m': 8, 'Circuit': 8, 'transformation': 8, 'laying': 8, 'Watts': 8, 'Jeffrey': 8, 'lifeline': 8, 'adhere': 8, 'EuroDisney': 8, 'misleading': 8, 'Benin': 8, 'falsifying': 8, 'Toshitsune': 8, 'golf': 8, 'conductor': 8, 'Gazpromneft': 8, 'renowned': 8, '160m': 8, 'unidentified': 8, 'hijack': 8, 'offerings': 8, '178': 8, 'territories': 8, 'Lilly': 8, 'lands': 8, 'Surveys': 8, 'filters': 8, 'Guinness': 8, '499': 8, 'Disaster': 8, 'Angel': 8, 'Be': 8, 'tackles': 8, 'resurgence': 8, 'Domecq': 8, 'manual': 8, 'Multiplex': 8, 'du': 8, 'streams': 8, 'NCCI': 8, 'Liberian': 8, 'Timberlake': 8, 'Volvo': 8, 'Watkins': 8, 'Stockholm': 8, 'steering': 8, '18m': 8, 'Inc': 8, 'Beirut': 8, '200LR': 8, 'barn': 8, 'Ideally': 8, 'lights': 8, 'Owens': 8, 'Michigan': 8, 'subtlety': 8, 'PS3': 8, 'Text': 8, 'WGBH': 8, 'Simulator': 8, 'supercomputers': 8, 'Silicon': 8, 'Saldarriaga': 8, '30GB': 8, 'Photo': 8, 'Zen': 8, 'portability': 8, 'wow': 8, '339': 8, 'literature': 8, 'PVRs': 8, 'beast': 8, 'infested': 8, 'Aware': 8, 'dictate': 8, 'underneath': 8, 'storyline': 8, 'superior': 8, 'capitalised': 8, 'touches': 8, 'marketplace': 8, 'Broes': 8, 'library': 8, 'bend': 8, 'refer': 8, 'Broadreach': 8, 'explosive': 8, 'originality': 8, 'irritating': 8, 'Greenfield': 8, 'experiments': 8, 'Monsters': 8, 'Rubin': 8, 'onboard': 8, 'materialists': 8, 'flop': 8, 'disable': 8, 'keystroke': 8, 'BridgeHead': 8, 'interactivity': 8, 'zombies': 8, 'Polish': 8, 'Powerbook': 8, 'specified': 8, 'Casio': 8, 'couch': 8, 'removable': 8, 'Philips': 8, 'installing': 8, 'antenna': 8, 'develops': 8, 'PowerPage': 8, 'Internationalised': 8, 'UKIF': 8, 'pirate': 8, 'codenamed': 8, 'Cellnet': 8, 'Subscriber': 8, '4km': 8, 'folding': 8, 'smartphones': 8, 'stature': 8, 'assuming': 8, 'unpatched': 8, 'Messenger': 8, 'vulnerabilities': 8, 'projectors': 8, 'visually': 8, 'commands': 8, 'compatibility': 8, 'Gwen': 8, 'Stefani': 8, 'texts': 8, 'toolbar': 8, 'Spaces': 8, 'banner': 8, 'graphic': 8, 'Track': 8, 'GameCube': 8, 'IAEA': 8, 'ISPs': 8, 'shrunk': 8, 'seafarer': 8, 'Jessica': 8, 'peddle': 8, 'Novastream': 8, 'crap': 8, 'theatres': 8, 'programmer': 8, 'BSL': 8, 'hijacked': 8, 'hacker': 8, 'coveted': 8, 'Vetham': 8, 'blend': 8, 'Word': 8, 'bump': 8, 'Gear': 8, 'Shark': 8, 'Tale': 8, 'teen': 8, 'surroundings': 8, 'Utah': 8, 'Bloggies': 8, 'attendant': 8, 'minis': 8, 'debuted': 8, 'FM': 8, 'springing': 8, 'loves': 8, 'Cellery': 8, 'tremor': 8, 'Advantage': 8, 'Tuffy': 8, 'blasted': 8, 'View': 8, 'firewalls': 8, 'NEM': 8, 'Larsson': 8, 'icons': 8, 'Dowd': 8, 'Essentials': 8, 'termination': 8, 'postings': 8, 'IETF': 8, 'IPv6': 8, 'Santy': 8, 'EV': 8, 'DO': 8, 'Lucent': 8, 'diallers': 8, 'accomplished': 8, 'leaf': 8, 'incarnation': 8, 'arguably': 8, 'Celltick': 8, 'Cry': 8, 'sequels': 8, 'CJ': 8, 'feat': 8, 'jungle': 8, 'plate': 8, 'MessageLabs': 8, 'craze': 8, 'monster': 8, 'climax': 8, 'Hasson': 8, 'Theo': 8, 'Jacobsen': 8, 'Wolong': 8, 'Blood': 8, 'Nachison': 8, 'humorous': 8, 'Doris': 8, 'lottery': 8, 'Schalk': 8, 'Bulloch': 8, 'Dwayne': 8, 'Ceri': 8, 'Maori': 8, 'Barbarians': 8, 'Marconnet': 8, 'Mas': 8, 'Perpignan': 8, 'Jerzy': 8, 'Irishman': 8, 'Jarosik': 8, 'semis': 8, 'unseeded': 8, 'misses': 8, 'debutant': 8, 'Mefin': 8, 'flank': 8, 'Victory': 8, 'sprinted': 8, 'curled': 8, 'fearsome': 8, 'relieved': 8, 'Larkin': 8, 'Navratilova': 8, 'Dokic': 8, 'outing': 8, 'captained': 8, 'Goals': 8, 'Sutton': 8, 'Lambert': 8, 'McGeady': 8, 'Ball': 8, 'muscle': 8, 'Sprinter': 8, 'attentions': 8, 'Sampras': 8, 'succeeding': 8, 'unlucky': 8, 'livid': 8, 'Shevchenko': 8, 'Wardle': 8, 'Referee': 8, 'composure': 8, 'Jade': 8, 'strikers': 8, 'Butragueno': 8, 'Weir': 8, 'Hyde': 8, 'Lock': 8, 'Writers': 8, 'Babayaro': 8, 'Candela': 8, 'Ewood': 8, 'thrashed': 8, 'Walder': 8, 'reel': 8, 'kickers': 8, 'Quincy': 8, 'Clyde': 8, '1957': 8, 'Sonia': 8, 'Defar': 8, 'Zoe': 8, 'Wigan': 8, 'Zeeuw': 8, 'thigh': 8, 'progressed': 8, 'Heather': 8, 'Hyderabad': 8, 'Joachim': 8, 'Ongaro': 8, 'Dellape': 8, 'Perugini': 8, 'Intoppa': 8, 'Fava': 8, 'Woodford': 8, 'Ladies': 8, 'Gebrselassie': 8, 'occupying': 8, 'Hicham': 8, 'Moroccan': 8, 'Mladenovic': 8, 'Hodges': 8, 'Mendes': 8, 'topper': 8, 'electro': 8, 'Kano': 8, 'Glastonbury': 8, 'Dre': 8, 'backstreet': 8, 'Daggers': 8, 'nods': 8, 'Kumar': 8, 'playwright': 8, 'Bookmakers': 8, 'Athlete': 8, 'Bernath': 8, 'Dreams': 8, 'Producer': 8, 'Clapton': 8, 'punk': 8, 'Vertigo': 8, 'outsider': 8, 'festivals': 8, 'actresses': 8, 'Beauty': 8, 'Boulevard': 8, 'accolades': 8, 'Snoop': 8, 'Nighty': 8, 'Polar': 8, 'Miyazaki': 8, 'Phantom': 8, 'Bourne': 8, 'fronted': 8, 'Silver': 8, 'Berlinale': 8, 'Fat': 8, 'Reporter': 8, 'Traviata': 8, 'Scene': 8, 'sung': 8, 'Capra': 8, 'Wonderful': 8, 'Spirit': 8, 'Burt': 8, 'Belafonte': 8, 'eulogy': 8, 'collaborated': 8, 'Jungle': 8, 'Harlem': 8, 'Giamatti': 8, 'Fight': 8, 'Musicology': 8, 'Fortuyn': 8, 'Langdon': 8, 'Lil': 8, 'Sandino': 8, 'Okonedo': 8, 'Smernicki': 8, 'Pullman': 8, 'Eleven': 8, 'Sinatra': 8, 'Soderbergh': 8, 'Angie': 8, 'nudity': 8, 'Weekly': 8, 'Jugnot': 8, 'Rebel': 8, 'Jolin': 8, 'Pirates': 8, 'Cage': 8, 'Markova': 8, 'Schrader': 8, 'Paver': 8, 'caution': 7, 'naturally': 7, 'sexually': 7, 'reshuffle': 7, 'diploma': 7, 'GCSEs': 7, 'halls': 7, 'retained': 7, 'commissioners': 7, 'constables': 7, 'Campaigners': 7, 'Carlisle': 7, 'pledging': 7, 'Bar': 7, 'abilities': 7, 'Light': 7, 'Across': 7, 'Wrexham': 7, '550m': 7, 'finger': 7, 'appreciated': 7, 'smear': 7, 'advertisements': 7, 'trauma': 7, 'Brennan': 7, 'SGC': 7, 'Worcester': 7, 'corrupt': 7, 'king': 7, 'dedication': 7, 'Rowan': 7, 'Hoon': 7, 'soldier': 7, 'unsustainable': 7, 'costed': 7, 'shambles': 7, 'uncover': 7, 'Documents': 7, 'hung': 7, 'lend': 7, 'Ted': 7, 'maturity': 7, 'invasion': 7, 'Cherie': 7, 'beef': 7, 'deter': 7, 'Throughout': 7, 'accession': 7, 'paved': 7, 'affection': 7, 'wisdom': 7, 'humanity': 7, 'tightly': 7, 'disadvantage': 7, 'generosity': 7, 'Non': 7, 'immunisation': 7, 'IFF': 7, 'trap': 7, 'worsen': 7, 'sinister': 7, 'Nuclear': 7, 'cleaning': 7, 'Ofsted': 7, 'Deal': 7, 'instances': 7, '230': 7, 'lowered': 7, 'delaying': 7, 'prefers': 7, 'unusually': 7, 'Opinion': 7, 'participants': 7, 'nurse': 7, 'frontbencher': 7, 'farmer': 7, 'Universities': 7, '14m': 7, 'Silvio': 7, 'slopping': 7, 'Funds': 7, 'embassies': 7, 'posing': 7, 'Could': 7, 'govern': 7, 'ringing': 7, 'premiership': 7, 'feeding': 7, 'responds': 7, 'Nasty': 7, 'clashes': 7, '12m': 7, 'leaflets': 7, 'productivity': 7, 'Equal': 7, 'rebellion': 7, 'Investec': 7, 'villages': 7, 'betrayed': 7, 'warehouse': 7, 'envelope': 7, 'invite': 7, 'tighten': 7, 'undermining': 7, 'tanks': 7, 'Germans': 7, 'fundamentally': 7, 'embarrassment': 7, 'modify': 7, 'Bingham': 7, 'Birkenhead': 7, 'partial': 7, 'brightest': 7, 'grade': 7, 'indigenous': 7, 'amnesty': 7, 'expressing': 7, 'restraint': 7, 'reasonably': 7, 'Limited': 7, 'crass': 7, 'dismissal': 7, 'nightclub': 7, 'Rice': 7, 'ordinated': 7, 'fingerprinting': 7, 'permits': 7, 'unanimous': 7, 'Luxembourg': 7, 'richer': 7, 'Poverty': 7, 'scar': 7, 'Aynsley': 7, 'lecturer': 7, 'Saddam': 7, 'Hussein': 7, 'chemical': 7, 'backlash': 7, 'onslaught': 7, 'Alzheimer': 7, 'Agreement': 7, 'painkillers': 7, 'unhealthy': 7, 'smokers': 7, 'Nicola': 7, 'clerk': 7, 'Christine': 7, 'recognising': 7, 'leaned': 7, 'negotiation': 7, 'wording': 7, 'bird': 7, 'modernise': 7, 'enthusiasts': 7, 'tears': 7, 'Learning': 7, 'stamping': 7, 'residency': 7, 'enormously': 7, 'Fantastic': 7, 'logical': 7, 'please': 7, 'chains': 7, 'levy': 7, 'Easter': 7, 'EDS': 7, 'balancing': 7, 'Firstly': 7, 'Benn': 7, 'frank': 7, 'rows': 7, 'unreasonable': 7, 'Cold': 7, 'motives': 7, 'Procurement': 7, 'Durham': 7, 'Darlington': 7, 'deliveries': 7, 'Help': 7, 'alright': 7, 'wore': 7, 'Thirty': 7, 'civilians': 7, 'abolished': 7, 'widening': 7, 'spilled': 7, 'Add': 7, 'killings': 7, 'tagged': 7, 'laughable': 7, 'Simply': 7, 'freedoms': 7, 'adamant': 7, 'peril': 7, 'discriminated': 7, 'Czechs': 7, 'Hope': 7, 'unfairly': 7, 'Focus': 7, 'MacDonell': 7, 'nationally': 7, 'numeracy': 7, 'plaster': 7, 'belong': 7, 'identities': 7, 'Race': 7, 'gearing': 7, 'Preference': 7, 'Fortunately': 7, 'ICM': 7, 'assessments': 7, 'Care': 7, 'prediction': 7, 'conceived': 7, 'rang': 7, 'rat': 7, 'chairmanship': 7, 'sympathy': 7, 'conscious': 7, 'ardent': 7, 'Bull': 7, 'converting': 7, 'instincts': 7, 'sexist': 7, 'imaginary': 7, 'whenever': 7, 'Gillian': 7, 'Unless': 7, 'grey': 7, 'preferences': 7, 'appointing': 7, 'peaceful': 7, 'hampering': 7, 'Balfour': 7, '115': 7, 'disastrous': 7, 'spill': 7, 'mechanism': 7, 'listened': 7, 'restrictive': 7, 'pave': 7, 'outraged': 7, 'Hodge': 7, 'Honours': 7, 'outgoing': 7, 'Inland': 7, 'Customs': 7, 'truants': 7, 'skip': 7, 'costing': 7, 'parenting': 7, '128': 7, 'Tutu': 7, 'heated': 7, 'countered': 7, 'hail': 7, 'advantages': 7, 'Uganda': 7, 'allocated': 7, 'recommendation': 7, 'Plymouth': 7, 'enterprises': 7, 'viability': 7, 'mirror': 7, 'Bannatyne': 7, 'businessman': 7, 'edging': 7, 'proportionate': 7, 'assessing': 7, 'sham': 7, 'weddings': 7, 'Strathclyde': 7, 'adverse': 7, 'Singh': 7, 'Helena': 7, 'Lenders': 7, 'relocated': 7, 'muted': 7, 'wonders': 7, 'boots': 7, 'eradicate': 7, 'trailed': 7, 'Barroso': 7, 'stretch': 7, 'suppose': 7, 'privileged': 7, 'Mental': 7, 'omission': 7, 'diagnosis': 7, 'queue': 7, 'liberation': 7, 'timely': 7, 'paperwork': 7, 'Rumours': 7, 'neighbourhood': 7, 'buried': 7, 'stark': 7, 'intercepted': 7, 'Please': 7, 'delivers': 7, 'Jews': 7, 'snub': 7, 'coffers': 7, 'failings': 7, 'magical': 7, 'loud': 7, 'shifted': 7, 'learnt': 7, 'outbreaks': 7, 'glorious': 7, 'unjustified': 7, 'cheque': 7, 'Crucial': 7, 'wisely': 7, 'concedes': 7, 'presumably': 7, 'tattoo': 7, 'Pre': 7, 'Defending': 7, 'parental': 7, 'Otherwise': 7, 'cracks': 7, 'congestion': 7, 'urine': 7, 'boxer': 7, 'freelance': 7, 'tactically': 7, 'publishes': 7, 'Bow': 7, 'grateful': 7, 'workings': 7, 'troubles': 7, '60th': 7, 'raped': 7, 'Tamimi': 7, 'specialists': 7, 'Assistant': 7, 'rings': 7, 'hampered': 7, 'flu': 7, 'Evil': 7, 'guru': 7, 'Llwyd': 7, 'settling': 7, '27m': 7, 'subscribe': 7, 'venues': 7, 'burglars': 7, 'bold': 7, 'endorsed': 7, 'millionaire': 7, 'magnate': 7, 'Corporate': 7, '100bn': 7, 'traveller': 7, 'worsened': 7, 'sheep': 7, 'prohibits': 7, 'DC': 7, 'stems': 7, 'prompt': 7, 'highlighting': 7, 'Irons': 7, 'irrigation': 7, 'Alegre': 7, 'PricewaterhouseCoopers': 7, 'tea': 7, 'diet': 7, '17bn': 7, 'contracted': 7, 'Rodrigo': 7, 'privatisations': 7, 'slaves': 7, 'allege': 7, 'indicator': 7, 'uncertainties': 7, 'nicotine': 7, 'standpoint': 7, 'rigged': 7, 'downgrade': 7, 'IV': 7, 'glut': 7, 'declarations': 7, 'litres': 7, 'Presse': 7, 'dealer': 7, 'rocket': 7, 'Hyundai': 7, 'sugar': 7, 'Nikkei': 7, 'Gaymard': 7, 'Journalists': 7, 'continental': 7, 'Murdoch': 7, 'auditor': 7, 'Thornton': 7, 'iceberg': 7, 'Sakhalin': 7, 'Achilles': 7, 'Riyadh': 7, 'Exports': 7, 'massively': 7, 'fetch': 7, 'racked': 7, 'Creditors': 7, 'generics': 7, '54bn': 7, 'darling': 7, '600m': 7, 'hedge': 7, 'Lines': 7, 'baggage': 7, 'Manufacturers': 7, 'quickest': 7, 'Vestey': 7, 'boundaries': 7, 'bells': 7, 'drum': 7, 'phenomenally': 7, '2020': 7, 'river': 7, 'Atticus': 7, 'eyeing': 7, 'Space': 7, 'wars': 7, 'SUV': 7, 'Cynthia': 7, 'Lundgren': 7, 'Barnard': 7, 'kilometres': 7, 'AFP': 7, 'hire': 7, 'Koreans': 7, 'Tankan': 7, 'pessimistic': 7, 'franc': 7, 'satisfaction': 7, 'Tube': 7, 'swung': 7, 'pitched': 7, 'roubles': 7, 'banker': 7, 'footwear': 7, 'tempt': 7, 'piled': 7, 'ING': 7, 'dented': 7, '103': 7, 'Lille': 7, 'blames': 7, 'estimating': 7, 'dampened': 7, 'touching': 7, 'networking': 7, 'positively': 7, 'Telecoms': 7, 'laundering': 7, 'Lamberty': 7, 'entourage': 7, 'appliances': 7, 'gauge': 7, 'Supply': 7, 'Delaware': 7, 'Royce': 7, 'truck': 7, 'FER': 7, 'ICBC': 7, 'merchandise': 7, 'Lebedev': 7, 'transform': 7, 'tragic': 7, 'curbs': 7, 'roaming': 7, 'reply': 7, 'Traders': 7, 'district': 7, 'AMF': 7, 'overtake': 7, 'HMV': 7, 'Monsoon': 7, 'Joining': 7, 'pumps': 7, 'stall': 7, 'Quinlan': 7, 'Room': 7, 'Electric': 7, 'McCarthy': 7, 'liquidation': 7, 'clamping': 7, 'Souza': 7, 'mystery': 7, 'Idec': 7, 'sclerosis': 7, 'sparking': 7, 'Personal': 7, 'Hurricane': 7, 'Mitch': 7, 'destinations': 7, 'tracker': 7, 'reinsurers': 7, 'Due': 7, 'remittances': 7, 'upgraded': 7, 'eliminate': 7, 'Nature': 7, '530': 7, 'Maruti': 7, 'winemaker': 7, 'GSM': 7, 'Sergio': 7, 'Yantai': 7, 'Tymoshenko': 7, 'Kuchma': 7, '112': 7, 'Royer': 7, 'Slimfast': 7, 'Arjan': 7, 'del': 7, 'ministries': 7, 'Glen': 7, 'demographic': 7, 'rounds': 7, 'curve': 7, 'Johnston': 7, 'Datamonitor': 7, 'routines': 7, 'garment': 7, 'Foods': 7, 'blip': 7, 'loosen': 7, 'dependence': 7, 'ousted': 7, 'thirst': 7, 'Eli': 7, 'Larry': 7, 'Mustafa': 7, 'BLB': 7, 'flowers': 7, 'Advisors': 7, 'Prettejohn': 7, 'Rules': 7, 'Past': 7, 'revamp': 7, 'tweaked': 7, 'booking': 7, 'flooding': 7, 'rendered': 7, 'culminated': 7, 'Odeon': 7, 'Xiluodu': 7, 'firearms': 7, 'averaged': 7, 'indicted': 7, 'Sibneft': 7, 'Alice': 7, 'lease': 7, 'royalties': 7, 'Distributor': 7, 'athletic': 7, 'Mohd': 7, 'Saaid': 7, 'Exel': 7, 'unspecified': 7, 'stakeholders': 7, 'hassle': 7, 'formation': 7, 'sponsors': 7, 'historically': 7, 'sponsor': 7, 'heats': 7, 'IPCL': 7, 'erratic': 7, 'scholarship': 7, 'Solidere': 7, 'variant': 7, 'conversions': 7, 'exclusively': 7, 'Sativex': 7, 'suite': 7, 'Solid': 7, 'organiser': 7, 'Bowden': 7, 'Senanayake': 7, 'Rampersad': 7, 'Cray': 7, 'TNT': 7, 'Lyon': 7, 'attachments': 7, 'Wi': 7, 'promoters': 7, 'sealing': 7, 'wildly': 7, 'Netscape': 7, 'Expo': 7, 'copycat': 7, 'entertain': 7, 'AI': 7, 'Earthlink': 7, 'Webroot': 7, 'programmed': 7, 'engineered': 7, 'Errera': 7, 'Tulip': 7, 'Computers': 7, 'Atari': 7, 'Peer': 7, 'StreamCast': 7, 'Grokster': 7, 'creations': 7, 'crosses': 7, 'Connect': 7, 'landline': 7, 'streamed': 7, 'landlines': 7, 'forest': 7, 'Images': 7, 'hacking': 7, 'Hi': 7, '2G': 7, 'sextant': 7, 'mp3': 7, 'transistor': 7, 'revolutionised': 7, 'Had': 7, 'info': 7, 'stylus': 7, 'Asteroid': 7, 'Insider': 7, 'Opsahl': 7, 'Sim': 7, 'glimpse': 7, 'imagery': 7, 'Tomorrow': 7, 'Lander': 7, 'thwart': 7, 'visuals': 7, 'ultra': 7, 'Graczyk': 7, 'weblogs': 7, 'VH1': 7, 'Kyrgyz': 7, 'bulletin': 7, 'lane': 7, 'terrific': 7, 'Handsets': 7, 'MDR': 7, 'humanoid': 7, 'Emiew': 7, 'versa': 7, 'Disasters': 7, 'elaborate': 7, 'Simple': 7, 'crisp': 7, 'Gadget': 7, 'Gate': 7, 'Persia': 7, 'Finest': 7, 'commentator': 7, 'toolkit': 7, 'aloud': 7, 'Hanson': 7, 'Harmony': 7, 'breezes': 7, 'tailored': 7, 'Nemo': 7, 'muscles': 7, 'relayed': 7, 'RNID': 7, 'pleasure': 7, 'bombard': 7, 'overwhelm': 7, 'Capgemini': 7, 'whereabouts': 7, 'TFC': 7, 'Sporting': 7, 'trace': 7, 'Arbor': 7, 'Spore': 7, 'blockbusters': 7, 'Frasca': 7, 'locate': 7, 'Shadowcrew': 7, 'readership': 7, 'Diamond': 7, 'piano': 7, 'Auction': 7, 'dictionary': 7, 'Podcasting': 7, 'Robots': 7, 'Entropia': 7, 'catalogues': 7, 'uptake': 7, 'Kathy': 7, 'podcasters': 7, 'Directive': 7, 'Marcus': 7, 'Wanted': 7, 'Schwartz': 7, '399': 7, '7610': 7, 'contacts': 7, 'gang': 7, 'rarity': 7, 'gong': 7, 'defamation': 7, 'Twin': 7, 'dialler': 7, 'license': 7, 'interfaces': 7, 'Benny': 7, 'WSIS': 7, 'infringements': 7, 'Honor': 7, 'IPPR': 7, 'jaw': 7, 'soundtrack': 7, 'shook': 7, 'explicit': 7, 'Thiemann': 7, 'CPL': 7, 'Aaron': 7, 'robbed': 7, 'pandas': 7, 'icing': 7, 'styles': 7, 'pure': 7, 'dialling': 7, 'wayward': 7, 'Smit': 7, 'Visagie': 7, 'Ollie': 7, 'Latham': 7, 'Conchita': 7, 'Bafana': 7, 'Native': 7, 'inaugural': 7, 'defenders': 7, 'Pascal': 7, 'Valbon': 7, 'Mignoni': 7, 'Sylvain': 7, 'Milloud': 7, 'Servat': 7, 'Thion': 7, 'Bonnaire': 7, 'unmarked': 7, 'Shea': 7, 'Ricardo': 7, 'inexperienced': 7, 'Riise': 7, 'Nunez': 7, 'Hamann': 7, 'Tiago': 7, 'tendon': 7, 'fortunately': 7, 'Webb': 7, 'Saul': 7, 'Easton': 7, 'Riley': 7, 'Steinmetz': 7, 'touchdown': 7, 'friendlies': 7, 'Uncle': 7, 'Girvan': 7, 'Erfurt': 7, 'Lawn': 7, 'Scrum': 7, 'Narbonne': 7, 'Blume': 7, 'hurdler': 7, 'Allahgreen': 7, 'mentality': 7, 'Alessandro': 7, 'Dunbar': 7, 'unforced': 7, 'Mandaric': 7, 'Sturrock': 7, 'Ipswich': 7, 'Soderling': 7, 'footballer': 7, 'Edith': 7, 'bests': 7, 'Gomarsall': 7, 'Falcons': 7, 'masks': 7, 'crosscourt': 7, 'forehand': 7, 'Fleming': 7, 'sevens': 7, 'overcame': 7, 'Gisbergen': 7, 'Mapletoft': 7, 'Casey': 7, 'Greening': 7, 'Wooden': 7, 'RFU': 7, 'lodge': 7, 'twisted': 7, 'Chuter': 7, 'gutsy': 7, 'Giannakopoulos': 7, 'Croatian': 7, '70th': 7, 'Goodridge': 7, 'SFA': 7, 'Minar': 7, 'Kiefer': 7, 'Bedford': 7, 'Lita': 7, 'equalled': 7, 'marvellous': 7, 'contemplating': 7, 'McCormack': 7, 'Elite': 7, 'inspirational': 7, 'Arrese': 7, 'lady': 7, 'Ignacio': 7, 'Chela': 7, 'McEnroe': 7, 'ARU': 7, 'Lupoli': 7, 'stretched': 7, 'Meersseman': 7, 'Ivanovic': 7, 'Hungarian': 7, 'Quashie': 7, 'Clichy': 7, 'Philippoussis': 7, 'Hassell': 7, 'Bwalya': 7, 'Mia': 7, 'Gaston': 7, 'Dwain': 7, 'dal': 7, 'modafinil': 7, 'Marca': 7, 'ITF': 7, 'Parmar': 7, 'accuses': 7, 'whingeing': 7, 'Manga': 7, 'paired': 7, 'Goodison': 7, 'Farina': 7, 'Elia': 7, 'Rijkaard': 7, 'Archibald': 7, 'Les': 7, 'Blades': 7, 'Tonge': 7, 'Directed': 7, 'Lion': 7, 'Touching': 7, 'Eavis': 7, 'garage': 7, 'Razorlight': 7, 'Charlize': 7, 'Theron': 7, 'Meryl': 7, 'Streep': 7, 'portrays': 7, 'Groening': 7, 'Cliff': 7, 'Shall': 7, 'catchy': 7, 'McGraw': 7, 'Hulk': 7, 'Enduring': 7, 'theatrical': 7, 'Hitch': 7, 'Stones': 7, 'belonged': 7, 'Webber': 7, 'wardrobe': 7, 'Barbra': 7, 'Streisand': 7, 'Mobo': 7, 'Beenie': 7, 'Cobain': 7, 'Katharine': 7, 'Von': 7, 'Sellers': 7, 'grossed': 7, 'Louvre': 7, 'Manson': 7, 'Roses': 7, 'Gangs': 7, 'Dergarabedian': 7, 'Thackeray': 7, 'Lemar': 7, 'anthem': 7, 'Joey': 7, 'Dizzee': 7, 'Rascal': 7, 'blues': 7, 'Errigo': 7, 'PTC': 7, 'Ja': 7, 'Rule': 7, 'rappers': 7, 'Liberace': 7, 'Doc': 7, 'Sheila': 7, 'Karger': 7, 'Shakur': 7, 'puppet': 7, 'Babyshambles': 7, 'Jimi': 7, 'Grudge': 7, 'Euros': 7, 'Connick': 7, 'Dropout': 7, 'Versace': 7, 'Carib': 7, 'Berman': 7, 'HBO': 7, 'canny': 6, 'conclusion': 6, 'dispel': 6, 'distinguish': 6, 'unruly': 6, 'Head': 6, 'pity': 6, 'preaches': 6, 'truancy': 6, 'operational': 6, 'Asians': 6, '659': 6, 'unpopular': 6, 'sounded': 6, 'march': 6, 'conflicting': 6, 'arrogant': 6, 'defiant': 6, 'proportionately': 6, 'Village': 6, 'fiasco': 6, 'Bourn': 6, 'outcry': 6, 'confessed': 6, 'Victims': 6, 'punishments': 6, 'gunning': 6, 'shout': 6, 'engagement': 6, 'needless': 6, 'prolonged': 6, 'reorganisation': 6, 'Own': 6, 'Highland': 6, 'casualties': 6, 'paramount': 6, 'unfairness': 6, 'Petrina': 6, 'Holdsworth': 6, 'vied': 6, 'AWOL': 6, 'Tyler': 6, 'renamed': 6, 'manifestos': 6, 'praises': 6, 'divides': 6, 'reopen': 6, 'Karachi': 6, 'mountainous': 6, 'Prevention': 6, 'spiralling': 6, 'defected': 6, 'Climate': 6, 'electric': 6, 'repair': 6, 'Tunisia': 6, 'telephones': 6, 'Shami': 6, 'Chakrabarti': 6, 'legalisation': 6, 'admiration': 6, 'watershed': 6, 'Grieve': 6, 'distract': 6, 'heartening': 6, '960m': 6, 'Gavi': 6, 'collateral': 6, 'ordeal': 6, 'eleven': 6, 'signalled': 6, 'deteriorate': 6, 'borrowed': 6, 'BBC2': 6, 'TBWA': 6, 'Must': 6, 'Baker': 6, 'hangs': 6, 'Launching': 6, 'colleges': 6, 'ducking': 6, 'enthusiastic': 6, 'soccer': 6, 'hurts': 6, 'inciting': 6, 'breath': 6, 'walkouts': 6, 'pointless': 6, 'spotting': 6, 'surgeries': 6, 'dubious': 6, 'proposition': 6, 'comparing': 6, 'preferable': 6, 'Baron': 6, 'riding': 6, 'bitterly': 6, 'risky': 6, 'Armed': 6, 'Cullen': 6, 'proliferation': 6, 'Nairobi': 6, 'misdirected': 6, 'overshadow': 6, 'camps': 6, 'Whelan': 6, 'indulging': 6, 'quits': 6, 'Documentary': 6, 'hardline': 6, 'laughing': 6, 'Career': 6, 'militant': 6, 'dissent': 6, 'prepares': 6, 'Kirkcaldy': 6, 'Islington': 6, 'publicise': 6, 'neighbour': 6, 'revitalise': 6, 'Mawrey': 6, 'Mohammed': 6, 'misuse': 6, 'Sukul': 6, 'counsel': 6, 'alerted': 6, 'envelopes': 6, 'scattered': 6, 'marred': 6, 'safeguard': 6, 'losers': 6, 'happily': 6, 'justification': 6, 'helpful': 6, 'briefed': 6, 'Expansion': 6, 'underestimate': 6, 'proceed': 6, 'detaining': 6, 'justifying': 6, 'Indefinite': 6, 'anathema': 6, 'Woodhill': 6, 'lecture': 6, 'profited': 6, 'tours': 6, 'privileges': 6, '173': 6, 'Boris': 6, 'Oxfordshire': 6, 'Blackberries': 6, 'Protect': 6, 'tighter': 6, 'spurred': 6, 'provisions': 6, 'timetable': 6, 'threatens': 6, 'unrest': 6, '1947': 6, 'bypassed': 6, 'governed': 6, 'Armstrong': 6, 'Explaining': 6, 'slowest': 6, 'GP': 6, 'standby': 6, 'Trouble': 6, 'fishermen': 6, 'cruelty': 6, 'emotive': 6, 'intervene': 6, 'remit': 6, 'legislative': 6, 'altered': 6, 'Hobday': 6, 'scent': 6, 'countryside': 6, 'Brooks': 6, 'Student': 6, 'blurred': 6, 'enhanced': 6, 'outlaw': 6, 'Agenda': 6, 'restoring': 6, 'stereotypes': 6, 'outmoded': 6, 'aspiration': 6, 'cares': 6, 'alter': 6, 'indicative': 6, 'regaining': 6, 'limelight': 6, 'attracts': 6, 'irrespective': 6, 'bankers': 6, 'posting': 6, 'disorderly': 6, 'Licensing': 6, 'outlets': 6, 'quo': 6, 'designated': 6, 'alien': 6, 'coincidence': 6, 'benches': 6, 'Prentis': 6, 'quotes': 6, 'practising': 6, 'undertaken': 6, 'shield': 6, 'grandchildren': 6, 'squabbles': 6, 'Adolf': 6, 'Behind': 6, 'Stalin': 6, 'pretended': 6, 'seventies': 6, 'corpus': 6, 'villain': 6, 'readily': 6, 'wholeheartedly': 6, 'alerting': 6, 'prosecute': 6, 'bloc': 6, 'blitz': 6, 'rounded': 6, 'Forsythe': 6, 'resist': 6, 'Has': 6, 'imprisoned': 6, 'applause': 6, 'approaching': 6, 'ineligible': 6, 'Refugee': 6, 'untrue': 6, 'tongue': 6, 'smiles': 6, 'ticking': 6, 'Strategy': 6, 'Improving': 6, 'outperforming': 6, 'telephoned': 6, 'slurry': 6, 'limb': 6, 'treating': 6, 'Vauxhall': 6, 'frightened': 6, 'tissue': 6, 'Lots': 6, 'Teenagers': 6, 'uncle': 6, 'abandon': 6, 'reconsider': 6, 'queried': 6, 'Hinckley': 6, 'unaccompanied': 6, 'underway': 6, 'separated': 6, 'Somerset': 6, 'Ealing': 6, 'obey': 6, 'barrister': 6, 'wherever': 6, 'wondering': 6, 'Treasurer': 6, '1200': 6, 'halved': 6, 'prolonging': 6, 'county': 6, 'juggle': 6, 'breasts': 6, 'swift': 6, 'flew': 6, 'horizon': 6, 'cracked': 6, 'Spokesman': 6, 'Notts': 6, 'symptoms': 6, 'singled': 6, 'believer': 6, 'retreat': 6, 'fostering': 6, 'logic': 6, 'emerges': 6, 'preceding': 6, 'restriction': 6, 'Employment': 6, 'abusing': 6, 'fading': 6, 'archbishop': 6, 'retains': 6, 'Gould': 6, 'reaped': 6, 'ins': 6, 'empowerment': 6, 'Always': 6, 'ceiling': 6, 'meals': 6, '1920': 6, 'sterling': 6, '22bn': 6, 'passports': 6, 'nose': 6, 'Azmat': 6, 'Unveiling': 6, 'Confederation': 6, 'stone': 6, 'trainers': 6, 'discourage': 6, 'classified': 6, 'predominantly': 6, 'nursery': 6, 'thereby': 6, 'Swindon': 6, 'namely': 6, 'obtaining': 6, '11m': 6, 'Various': 6, 'consciousness': 6, 'shouting': 6, 'lunch': 6, 'timed': 6, 'misgivings': 6, 'await': 6, 'Controversy': 6, 'Iceland': 6, '135': 6, 'registrars': 6, 'Rimmer': 6, 'probes': 6, 'fingerprints': 6, 'payroll': 6, 'Linda': 6, 'boast': 6, 'la': 6, 'Pugh': 6, 'emphasised': 6, 'shortened': 6, 'privy': 6, 'Rennard': 6, 'defied': 6, 'clawed': 6, 'transforming': 6, 'dignity': 6, 'confront': 6, 'callers': 6, 'Gibraltarians': 6, 'sovereignty': 6, 'faithful': 6, 'peppered': 6, 'beginnings': 6, 'hinge': 6, 'steep': 6, 'delegation': 6, 'treatments': 6, 'occasional': 6, 'initiated': 6, 'Anger': 6, 'boring': 6, 'disappoint': 6, 'defining': 6, 'rotated': 6, 'Results': 6, 'cease': 6, 'coincide': 6, 'participating': 6, 'urges': 6, 'Buckingham': 6, 'Suffolk': 6, 'fooled': 6, 'assisted': 6, 'Iain': 6, 'Merchant': 6, 'Memorial': 6, 'appealing': 6, 'Forbes': 6, 'expired': 6, 'generates': 6, 'Got': 6, 'Ann': 6, 'Row': 6, 'sailing': 6, 'Afterwards': 6, 'Javier': 6, 'Solana': 6, 'spying': 6, 'realisation': 6, 'Oleg': 6, 'fulfilled': 6, 'modelled': 6, 'Tanguay': 6, 'rash': 6, '158': 6, 'continents': 6, 'interim': 6, 'spectator': 6, 'transatlantic': 6, 'divert': 6, 'shaken': 6, 'transplant': 6, 'noting': 6, 'phoney': 6, 'pencilled': 6, 'Tough': 6, 'bored': 6, 'Carstairs': 6, 'trivial': 6, 'minimal': 6, 'electronically': 6, 'Failure': 6, 'Parton': 6, 'Fraud': 6, 'interrogated': 6, 'Gloucestershire': 6, 'slender': 6, 'complexity': 6, 'whipped': 6, 'agendas': 6, 'battlefield': 6, 'unite': 6, 'archive': 6, 'wiped': 6, 'Altogether': 6, 'Marvin': 6, 'Miliband': 6, 'impending': 6, 'haunted': 6, 'cynicism': 6, 'scaling': 6, 'MAB': 6, 'Ironically': 6, 'cheers': 6, 'Lancaster': 6, 'voluntarily': 6, '163': 6, 'nationalist': 6, 'Conwy': 6, 'sons': 6, 'professionalism': 6, 'smuggling': 6, 'potato': 6, 'Trades': 6, '55s': 6, 'Hardy': 6, 'poking': 6, 'OBE': 6, 'Ltd': 6, 'guaranteeing': 6, 'settlements': 6, 'parks': 6, 'evictions': 6, 'multilateral': 6, 'Luke': 6, 'regrets': 6, 'Starting': 6, 'volunteers': 6, 'Furthermore': 6, 'indicating': 6, 'bounce': 6, 'flout': 6, 'environmentally': 6, 'Robocop': 6, 'Herron': 6, 'dearly': 6, 'snow': 6, 'vicious': 6, 'Jordanian': 6, 'accustomed': 6, 'WHO': 6, 'Nath': 6, 'Weak': 6, '200bn': 6, 'composition': 6, '113': 6, 'Heizo': 6, 'reckon': 6, 'excludes': 6, 'mineral': 6, 'Rates': 6, 'Guidant': 6, 'fragmented': 6, 'RJ': 6, 'Williamson': 6, 'Organisations': 6, 'conspired': 6, '1953': 6, 'accepts': 6, 'Imports': 6, 'Cochilco': 6, 'Production': 6, 'feasible': 6, 'simplify': 6, 'boardroom': 6, 'Eliot': 6, 'Cherkasky': 6, 'Fitch': 6, 'Commentators': 6, 'screaming': 6, 'volatile': 6, 'jets': 6, 'Letitia': 6, 'aids': 6, 'prevalence': 6, 'IEA': 6, 'advises': 6, 'Luiz': 6, 'Inacio': 6, 'Operating': 6, 'debit': 6, '43m': 6, 'Hindi': 6, 'rulings': 6, 'varying': 6, 'assisting': 6, 'indebted': 6, 'Beer': 6, 'Mallya': 6, 'Costello': 6, 'awarding': 6, 'Lockheed': 6, 'Manufacturing': 6, 'McCafferty': 6, 'policyholders': 6, 'Chevrolet': 6, 'Volkswagen': 6, 'Andhra': 6, 'Pradesh': 6, 'measuring': 6, 'Donald': 6, 'auctions': 6, '1935': 6, 'inventories': 6, 'stagnated': 6, 'homeless': 6, 'stabilise': 6, 'observe': 6, 'Zheng': 6, 'slew': 6, 'sustainability': 6, 'conducive': 6, 'Raha': 6, 'Aiyar': 6, 'refining': 6, 'blast': 6, 'breweries': 6, 'Asahi': 6, 'IBGE': 6, 'absorbed': 6, 'eclipsed': 6, 'fluctuations': 6, 'crews': 6, 'rage': 6, 'slack': 6, 'Sorrell': 6, '350m': 6, 'Agroflora': 6, 'understandable': 6, 'inviting': 6, 'digits': 6, '2014': 6, 'bidders': 6, 'concluding': 6, 'adjust': 6, 'LNG': 6, 'ExxonMobil': 6, 'arcade': 6, 'consolidate': 6, 'skies': 6, '48m': 6, 'Falling': 6, 'adjustments': 6, 'sputtering': 6, 'minus': 6, 'Nonetheless': 6, 'Wholesale': 6, 'sink': 6, 'purchasing': 6, 'completes': 6, 'ariary': 6, '157': 6, 'Diemont': 6, 'Suggestions': 6, 'considerations': 6, 'PwC': 6, 'Bankers': 6, '88': 6, 'hammering': 6, 'Tampa': 6, 'Buccaneers': 6, 'Cubic': 6, 'Expression': 6, 'advising': 6, 'JPMorgan': 6, 'marginally': 6, 'catalyst': 6, 'fighter': 6, '737': 6, 'accountants': 6, 'positioned': 6, '155': 6, 'Meeting': 6, 'gloom': 6, 'penetration': 6, 'dairy': 6, 'Enrico': 6, 'brewing': 6, 'valuing': 6, 'shareholding': 6, 'AG': 6, '182': 6, 'NAAMSA': 6, 'Presidential': 6, 'matching': 6, 'Radley': 6, 'indicates': 6, 'Maran': 6, 'ignite': 6, 'narrowing': 6, 'marques': 6, 'Eurotunnel': 6, 'dean': 6, 'Paulsmeier': 6, 'sentimental': 6, 'cooling': 6, 'Regular': 6, 'Equity': 6, 'Agnelli': 6, 'twist': 6, 'Industries': 6, 'conservatively': 6, 'synergies': 6, 'fraction': 6, 'redundant': 6, 'convertible': 6, 'Sandoz': 6, 'extensions': 6, 'dumb': 6, 'oversaw': 6, 'Delhi': 6, 'bin': 6, 'attends': 6, 'Banking': 6, 'upturn': 6, '80bn': 6, 'Challenge': 6, 'tightest': 6, 'crystal': 6, 'transferring': 6, 'Bundesbank': 6, 'Slovenia': 6, '136m': 6, '375m': 6, 'MS': 6, 'elevated': 6, 'smallest': 6, 'spectacular': 6, 'Republican': 6, 'Worries': 6, 'liabilities': 6, '817': 6, 'Tucker': 6, 'Sahara': 6, 'stagnation': 6, 'cartel': 6, '374m': 6, 'obscene': 6, 'Rosemount': 6, 'Wolf': 6, 'Changyu': 6, 'Leonid': 6, 'fearing': 6, 'Lakhani': 6, 'victor': 6, 'associates': 6, 'overbooking': 6, 'Airline': 6, 'Tanzi': 6, 'powering': 6, 'Mathieu': 6, 'Kerekou': 6, 'longevity': 6, '420': 6, 'Shopping': 6, 'braking': 6, 'Misamore': 6, '14th': 6, 'Lecture': 6, 'miracle': 6, 'Cambodia': 6, 'Nationally': 6, 'Cement': 6, 'ACC': 6, 'offs': 6, 'button': 6, 'participated': 6, 'Drug': 6, 'unfriendly': 6, 'Rich': 6, 'Belle': 6, 'Shiga': 6, 'tenure': 6, 'charismatic': 6, 'Ellison': 6, 'knees': 6, 'Boyle': 6, 'hired': 6, 'dipping': 6, 'Pfizer': 6, 'Bigger': 6, 'translate': 6, 'Hanover': 6, 'Quiksilver': 6, 'Nike': 6, 'Emilio': 6, 'True': 6, 'Baez': 6, 'Regan': 6, 'culprit': 6, 'displaying': 6, '226': 6, 'Ombudsman': 6, 'nasty': 6, 'tipping': 6, 'cactus': 6, 'Hoodia': 6, '138m': 6, 'grace': 6, 'understated': 6, 'favourably': 6, 'Il': 6, 'Alexandria': 6, 'Banque': 6, 'Ashburton': 6, 'testify': 6, 'chopped': 6, 'certainty': 6, 'Destiny': 6, 'Anson': 6, 'Demel': 6, 'Representative': 6, 'Hensel': 6, 'speedy': 6, 'elusive': 6, 'Rightmove': 6, 'Coogan': 6, 'professionally': 6, 'Porter': 6, 'slavery': 6, 'Lebanon': 6, '2200': 6, 'Learmount': 6, 'interior': 6, 'electrical': 6, 'toilet': 6, 'jukebox': 6, 'Workplace': 6, 'premise': 6, 'fuels': 6, 'refined': 6, 'workstations': 6, 'converged': 6, 'W800': 6, 'Speech': 6, 'gizmos': 6, 'Dogs': 6, 'Livermore': 6, 'mathematical': 6, 'revolutionise': 6, 'Essentially': 6, 'MyDoom': 6, 'NT': 6, 'Huaral': 6, 'Cepes': 6, 'plots': 6, 'technicians': 6, '5GB': 6, 'DIY': 6, 'blasting': 6, 'excellence': 6, 'rear': 6, 'GoldenEye': 6, 'flick': 6, '007': 6, 'capturing': 6, 'surreptitious': 6, 'kitchen': 6, 'exotic': 6, 'sucking': 6, 'Somebody': 6, 'PDAs': 6, 'Weiss': 6, 'spinning': 6, 'Morgenstern': 6, 'File': 6, 'ripped': 6, 'Diego': 6, 'Yoda': 6, 'conferencing': 6, 'surfaces': 6, 'Jez': 6, 'Morpheme': 6, 'steadfastly': 6, 'invasive': 6, 'disk': 6, 'Privacy': 6, 'installs': 6, 'edit': 6, 'beam': 6, 'sensing': 6, 'sensor': 6, 'wrongs': 6, 'recipients': 6, 'flashes': 6, 'lightweight': 6, '28th': 6, 'Startac': 6, 'marvel': 6, 'GPS': 6, 'timeless': 6, 'wristwatch': 6, 'toys': 6, 'Psion': 6, 'notebooks': 6, 'Kleinberg': 6, 'Futurelab': 6, 'Racing': 6, 'MacFarlane': 6, 'Task': 6, 'faked': 6, 'Disc': 6, 'viewpoint': 6, 'Wap': 6, 'menus': 6, 'joystick': 6, 'modes': 6, 'aliens': 6, 'devised': 6, 'hectic': 6, 'Xenon': 6, 'consistency': 6, 'Caudwell': 6, 'Called': 6, 'shuffle': 6, '149': 6, 'localised': 6, 'gaps': 6, 'Abraham': 6, 'mapping': 6, 'Jill': 6, 'Yepp': 6, 'Motorsport': 6, 'Endeavour': 6, 'competes': 6, 'Embassy': 6, 'unprotected': 6, 'Deans': 6, 'Technical': 6, 'smartphone': 6, 'utilising': 6, 'optical': 6, 'camcorders': 6, 'impressions': 6, 'Globally': 6, 'harbours': 6, 'Trend': 6, 'X1': 6, 'Swap': 6, 'Attack': 6, 'Akamai': 6, 'webpages': 6, 'buzzwords': 6, 'PSPs': 6, 'metre': 6, 'Obermann': 6, 'Earthquake': 6, 'grammar': 6, 'Goldstein': 6, 'sail': 6, 'Seafarers': 6, 'interoperable': 6, 'Authenti': 6, 'corp': 6, 'Musselman': 6, 'suprnova': 6, 'nickname': 6, 'Johan': 6, 'remembering': 6, 'consuming': 6, 'throws': 6, 'Episode': 6, 'scans': 6, 'scalp': 6, 'altering': 6, 'Assigned': 6, 'Numbers': 6, 'suffix': 6, 'webcam': 6, 'exponentially': 6, 'teamed': 6, 'Taipei': 6, 'popping': 6, 'atmospheric': 6, 'Dani': 6, 'Tetris': 6, 'Advanced': 6, 'Copenhagen': 6, 'Workshare': 6, 'hotly': 6, 'Desktop': 6, 'pink': 6, 'NM2': 6, 'dimensions': 6, 'translating': 6, 'Songs': 6, 'bundle': 6, 'photographer': 6, 'rewrite': 6, 'Merry': 6, 'Dautenhahn': 6, 'Deathifier': 6, '2025': 6, 'refuseniks': 6, 'perceive': 6, 'Ellen': 6, 'airplane': 6, 'shiny': 6, 'Source': 6, 'Drew': 6, 'McIntyre': 6, 'uploaded': 6, 'Implemented': 6, 'Inventions': 6, 'hotspot': 6, 'Tremor': 6, 'origins': 6, 'hack': 6, 'clan': 6, 'Ultimate': 6, 'heroes': 6, 'Christina': 6, 'ransom': 6, 'Pipex': 6, 'rewind': 6, 'censorship': 6, 'indispensable': 6, '70p': 6, 'correctly': 6, 'drowned': 6, 'Linford': 6, 'DMB': 6, 'authenticate': 6, 'password': 6, 'transmits': 6, 'clinic': 6, 'Analysys': 6, 'Valente': 6, '4Mbps': 6, 'Lab': 6, 'souped': 6, 'antennae': 6, 'Generation': 6, 'Base': 6, 'songwriters': 6, 'burying': 6, 'revolutionising': 6, 'Stat': 6, 'Liquid': 6, 'Display': 6, 'subsidising': 6, 'Shailendra': 6, 'inducted': 6, 'wowed': 6, 'Henderson': 6, 'Medal': 6, 'ushered': 6, 'cheesy': 6, 'Developer': 6, 'stranger': 6, 'bass': 6, 'rave': 6, 'woeful': 6, 'SI': 6, 'Eidos': 6, 'FM2005': 6, 'relegation': 6, 'Girl': 6, 'Richter': 6, 'hobby': 6, 'Envisional': 6, 'ScanSoft': 6, 'grabs': 6, 'Marcel': 6, 'Yang': 6, 'reign': 6, 'ArtGarden': 6, 'clue': 6, 'panda': 6, 'Release': 6, 'cinematic': 6, 'Movies': 6, 'NISCC': 6, 'Ultima': 6, 'mighty': 6, 'Thankfully': 6, 'Marlin': 6, 'attackers': 6, 'Blinx': 6, 'Kylie': 6, 'remiss': 6, 'Matfield': 6, 'Fourie': 6, 'Macqueen': 6, 'Ibanez': 6, 'Mehrtens': 6, 'NZ': 6, 'Aus': 6, 'Pattaya': 6, 'Raul': 6, '10km': 6, 'pat': 6, 'Kiwis': 6, '1972': 6, 'Stradey': 6, 'Haden': 6, 'bruising': 6, 'Boca': 6, 'Atletico': 6, 'Yelena': 6, 'Wing': 6, 'Cedric': 6, 'Castres': 6, 'Brive': 6, 'Jerome': 6, 'dive': 6, 'Moments': 6, 'Igor': 6, 'Connolly': 6, 'taunting': 6, 'Traore': 6, 'Carvalho': 6, 'Calleri': 6, 'intensity': 6, 'superbly': 6, 'Barton': 6, 'Mardy': 6, 'clinching': 6, 'relishing': 6, 'Livingston': 6, 'Livi': 6, 'grabbing': 6, 'Dair': 6, 'Olympiakos': 6, 'binned': 6, 'Berti': 6, 'Striker': 6, 'Wada': 6, 'Stuttgart': 6, 'Kooyong': 6, 'Off': 6, 'Leipzig': 6, 'Joice': 6, 'Ricksen': 6, 'McNamara': 6, 'Serie': 6, 'Costacurta': 6, 'unsubstantiated': 6, 'grass': 6, 'Cotonsport': 6, 'consolation': 6, 'streaking': 6, 'academy': 6, 'Hellenic': 6, 'rescheduled': 6, 'Queens': 6, 'Fifth': 6, 'PSV': 6, 'Isaiah': 6, 'Kiplagat': 6, 'Rosenborg': 6, 'Tykes': 6, 'Klinsmann': 6, 'Dane': 6, 'refereed': 6, 'chased': 6, 'Jaaskelainen': 6, 'Allardyce': 6, 'Ameobi': 6, 'Kalman': 6, 'Vyvyan': 6, 'Gabbidon': 6, 'emotionally': 6, 'worded': 6, 'Critical': 6, 'Floyd': 6, '90m': 6, 'Benita': 6, 'fouls': 6, '45m': 6, 'Feliciano': 6, 'Srichaphan': 6, 'Santoro': 6, 'Davydenko': 6, 'Jesse': 6, 'Mellor': 6, 'Alonso': 6, 'Connacht': 6, 'Dulko': 6, 'Jordi': 6, 'Segas': 6, 'Sevastis': 6, 'Charly': 6, 'Aliadiere': 6, 'superstar': 6, 'Barca': 6, 'Ballymena': 6, 'ligaments': 6, 'Marlu': 6, 'Walk': 6, 'bye': 6, 'Veracruz': 6, 'Lagat': 6, 'Curbishley': 6, 'Doyle': 6, 'Ludovico': 6, 'chanting': 6, 'forearm': 6, 'sublime': 6, 'stuttering': 6, 'Mirco': 6, 'CA': 6, 'Sowden': 6, 'Kelli': 6, 'Shaftesbury': 6, 'Barnet': 6, 'Koubek': 6, 'Riggott': 6, 'penned': 6, 'Arvind': 6, 'reunion': 6, 'Montenegro': 6, 'AS': 6, 'Sakhnin': 6, 'pipped': 6, 'Teenage': 6, 'surreal': 6, 'toughness': 6, 'underdogs': 6, 'metatarsal': 6, 'Shalaby': 6, 'Stoica': 6, 'Orlando': 6, 'Bent': 6, 'Gallacher': 6, 'swearing': 6, 'deliberations': 6, 'Bondarenko': 6, 'Amy': 6, 'Tulu': 6, 'Esson': 6, 'Ancelotti': 6, 'Pedro': 6, 'judo': 6, 'Viadana': 6, 'Dieter': 6, 'Void': 6, 'witty': 6, 'Royale': 6, 'rockers': 6, 'indie': 6, 'spiky': 6, 'guitars': 6, 'MC': 6, 'Ziyi': 6, 'Circle': 6, 'explores': 6, 'specials': 6, 'Fool': 6, 'Adarsh': 6, 'SECC': 6, 'Idlewild': 6, 'candid': 6, 'lewd': 6, 'Kristin': 6, 'Bookmaker': 6, 'Graceland': 6, 'Daredevil': 6, 'Alfonso': 6, 'Bridget': 6, '365': 6, 'cameo': 6, 'pianist': 6, 'Anastacia': 6, 'Dogg': 6, 'Tolkien': 6, 'Hayao': 6, 'Lyric': 6, 'choreography': 6, 'Drury': 6, 'Lyttelton': 6, 'Genius': 6, 'Loves': 6, 'Norah': 6, 'Welch': 6, 'assaulted': 6, 'Gladiator': 6, '999th': 6, 'artwork': 6, 'Exhibitor': 6, 'Aaliyah': 6, 'JM': 6, 'Submission': 6, 'Tonight': 6, 'Fender': 6, 'Stratocaster': 6, 'Beyonce': 6, 'McCaughrean': 6, 'Doren': 6, 'widow': 6, 'rehearsal': 6, 'Ruby': 6, 'Mackintosh': 6, 'Eyre': 6, 'composers': 6, 'Considine': 6, 'Metallica': 6, 'rats': 6, 'Roxy': 6, 'Original': 6, 'Speakerboxxx': 6, 'Below': 6, 'Houck': 6, 'Catalina': 6, 'Marston': 6, 'malfunction': 6, 'Tickets': 6, 'Killers': 6, 'Brass': 6, 'Eye': 6, 'Damon': 6, 'OutRage': 6, 'Witherspoon': 6, 'Tear': 6, 'Heaven': 6, 'angels': 6, 'Madsen': 6, 'Translation': 6, 'Wendy': 6, 'bandmates': 6, 'Renee': 6, 'Zellweger': 6, 'Lana': 6, 'Billionaire': 6, 'Apprentice': 6, 'Eurovision': 6, 'Atwood': 6, 'Adoption': 6, 'Model': 6, 'Caprice': 6, 'Wings': 6, 'Rap': 6, 'Newcomer': 6, 'mythology': 6, 'Transformers': 6, 'remade': 6, 'Wass': 6, 'Atlas': 6, 'Hermione': 6, 'gate': 6, 'Saumarez': 6, 'Halloween': 6, 'residue': 6, 'Dowell': 6, 'Anton': 6, 'lavish': 6, 'Diaghilev': 6, 'postcards': 6, 'Deeley': 6, 'Renner': 6, 'Pande': 6, 'Keaveney': 6, 'commissioning': 6, 'rocks': 5, 'jibe': 5, 'mainland': 5, 'trails': 5, 'Opus': 5, 'Dei': 5, 'strictly': 5, 'absorbing': 5, 'insensitive': 5, 'Dracula': 5, 'extravagant': 5, 'Authorities': 5, 'overturning': 5, 'fingers': 5, 'Constitution': 5, 'ratification': 5, 'pinned': 5, 'Tweedbank': 5, 'libertarian': 5, 'regressive': 5, 'Bangor': 5, 'diverted': 5, 'doomed': 5, 'concentrates': 5, 'chairing': 5, 'traced': 5, 'Camilla': 5, 'grandson': 5, 'diamond': 5, 'smiling': 5, 'smile': 5, 'desert': 5, 'Sutherland': 5, 'blueprint': 5, 'deploy': 5, 'Erewash': 5, 'Ashfield': 5, 'parody': 5, 'MSCPs': 5, 'permit': 5, 'reunite': 5, 'shrine': 5, 'bread': 5, 'Lahore': 5, 'consulates': 5, '1975': 5, 'suspiciously': 5, 'mystified': 5, 'speeded': 5, 'Liberals': 5, 'mandate': 5, 'Hours': 5, 'micro': 5, 'conferences': 5, 'leant': 5, 'Solicitor': 5, 'Harriet': 5, 'Harman': 5, 'sanctioning': 5, 'resigns': 5, 'outlines': 5, 'hinting': 5, 'Sepa': 5, 'intrusion': 5, 'storms': 5, 'frequent': 5, 'Researchers': 5, 'tenants': 5, 'VAT': 5, 'hypocrisy': 5, 'Housing': 5, 'tapping': 5, 'organs': 5, 'distraction': 5, 'occupies': 5, 'peacefully': 5, 'sensitivity': 5, 'humane': 5, 'systematically': 5, 'simulating': 5, 'lull': 5, 'accommodation': 5, 'allay': 5, 'ignoring': 5, 'instinctively': 5, 'committees': 5, 'rolls': 5, 'halving': 5, 'Leoncia': 5, 'Casalme': 5, 'miscarriages': 5, 'Guildford': 5, 'heal': 5, 'shoulders': 5, 'scientific': 5, 'ought': 5, 'stringent': 5, 'seizing': 5, 'afforded': 5, 'leapfrog': 5, 'outburst': 5, 'bricks': 5, '48bn': 5, 'pupil': 5, 'Mori': 5, 'reckless': 5, 'Visa': 5, 'Accounts': 5, 'dismiss': 5, 'entrepreneurs': 5, 'plough': 5, 'overseen': 5, 'sectarianism': 5, 'disapproval': 5, 'Privately': 5, 'clearest': 5, 'authoritarian': 5, 'Broadcasters': 5, 'oppression': 5, 'aide': 5, '1942': 5, 'rejecting': 5, 'intruders': 5, 'honestly': 5, 'Prosecution': 5, 'gratuitous': 5, 'Cheshire': 5, 'manslaughter': 5, 'sympathetically': 5, 'lacks': 5, '110m': 5, '450': 5, 'toilets': 5, 'rigorous': 5, 'inmates': 5, 'degrading': 5, 'redundancy': 5, 'crippled': 5, 'motorists': 5, 'irritated': 5, 'fearful': 5, 'warfare': 5, 'contradict': 5, 'pointedly': 5, 'corrosive': 5, 'lid': 5, 'fled': 5, 'replies': 5, 'touchy': 5, 'feely': 5, 'broaden': 5, '56m': 5, 'graduates': 5, 'breeding': 5, 'extremist': 5, 'stabilising': 5, 'forecaster': 5, 'meal': 5, 'prematurely': 5, 'softer': 5, 'ideological': 5, 'springboard': 5, 'seizure': 5, 'conspiring': 5, 'imaginative': 5, 'bashing': 5, 'nationalities': 5, 'Farage': 5, 'unguarded': 5, 'homosexuality': 5, 'Groups': 5, 'blight': 5, 'fanfare': 5, 'inspector': 5, 'functional': 5, 'Mid': 5, 'Bedfordshire': 5, 'brutal': 5, 'rude': 5, 'accidentally': 5, 'deputies': 5, 'whistleblowers': 5, 'workplaces': 5, 'tribunals': 5, 'Brendan': 5, 'fatal': 5, 'Syria': 5, 'bullet': 5, 'evolving': 5, 'pretending': 5, 'neighbours': 5, '1960': 5, 'unintentional': 5, 'biological': 5, 'conclusions': 5, 'biased': 5, 'religions': 5, 'flamboyant': 5, 'slumped': 5, 'accelerate': 5, 'clarify': 5, 'breaching': 5, 'jeopardise': 5, 'foundations': 5, 'Rhodri': 5, 'architect': 5, 'serialised': 5, 'cultures': 5, 'contingency': 5, 'Laurent': 5, 'RSPCA': 5, 'wooing': 5, 'dependant': 5, 'asserts': 5, 'tiger': 5, 'sceptic': 5, 'Does': 5, 'contradictory': 5, 'Someone': 5, 'ignores': 5, 'Republicans': 5, 'Uruguay': 5, 'guessed': 5, 'coincidentally': 5, 'composed': 5, 'scathing': 5, 'schizophrenic': 5, 'notoriously': 5, 'Anything': 5, 'purse': 5, 'phased': 5, 'drinkers': 5, '11pm': 5, 'rescued': 5, 'dissatisfied': 5, 'multitude': 5, 'compromising': 5, 'embarked': 5, 'Ahead': 5, 'Classification': 5, 'Rockstar': 5, 'preach': 5, 'Leaving': 5, '50bn': 5, 'Turning': 5, 'Friend': 5, 'Something': 5, 'understandably': 5, 'cynical': 5, 'fundamentalism': 5, 'sleeper': 5, 'NY': 5, 'apathetic': 5, 'Terrorists': 5, 'beautifully': 5, 'allegiance': 5, 'consequence': 5, 'absurd': 5, 'surrender': 5, 'squads': 5, 'par': 5, 'explosions': 5, 'assassination': 5, 'Gypsies': 5, 'boarding': 5, 'Prague': 5, 'refugee': 5, 'heightened': 5, 'humiliating': 5, 'fairy': 5, 'despatch': 5, 'inconvenience': 5, 'factions': 5, 'contrasted': 5, 'specifics': 5, 'identifying': 5, 'Dimbleby': 5, 'toe': 5, 'accordance': 5, 'illnesses': 5, 'Fresh': 5, 'foods': 5, 'spared': 5, 'legislate': 5, 'awful': 5, 'champagne': 5, 'reunites': 5, 'rot': 5, 'abide': 5, 'refuge': 5, 'Shrewsbury': 5, 'Dorset': 5, 'guilt': 5, 'Emily': 5, 'administered': 5, 'commentary': 5, 'Newham': 5, 'entrance': 5, 'Lovenduski': 5, 'Moran': 5, 'tortured': 5, 'Milton': 5, 'urgently': 5, 'inpatient': 5, 'efficiently': 5, 'Ariel': 5, 'plotting': 5, 'Hatfield': 5, 'sciences': 5, 'indirectly': 5, 'Talk': 5, 'Families': 5, 'Coalition': 5, 'ferocity': 5, 'Worst': 5, 'distanced': 5, 'Reverend': 5, 'Commander': 5, 'spanning': 5, 'exams': 5, 'Parenting': 5, 'apprehended': 5, 'defection': 5, 'symbolic': 5, 'Referring': 5, 'disclosed': 5, 'Writer': 5, 'backside': 5, 'stride': 5, 'discomfort': 5, 'Buck': 5, 'wounded': 5, 'sadness': 5, 'lieutenant': 5, 'tempered': 5, 'fox': 5, 'Certainly': 5, 'Businesses': 5, 'catering': 5, 'humiliation': 5, 'outstripping': 5, 'Living': 5, 'raft': 5, 'bribes': 5, 'undertake': 5, 'bother': 5, 'treasury': 5, '5000': 5, 'deployed': 5, 'demonstrating': 5, 'dilemma': 5, 'Serious': 5, 'wishing': 5, 'intending': 5, 'deletion': 5, 'retention': 5, 'Similar': 5, 'Cosla': 5, 'Monteith': 5, 'burdens': 5, 'regimes': 5, 'Artists': 5, 'McCain': 5, '1230': 5, 'accountancy': 5, 'scripted': 5, 'coin': 5, 'disgruntled': 5, 'underline': 5, 'wrecked': 5, 'shamed': 5, 'stead': 5, 'Wellington': 5, 'mafia': 5, 'Thabo': 5, 'Mbeki': 5, 'outspoken': 5, 'sisters': 5, 'marrying': 5, 'Joynt': 5, 'flows': 5, 'Lyons': 5, 'taxed': 5, 'liberating': 5, 'misjudged': 5, 'Wight': 5, 'travesty': 5, 'chooses': 5, 'interpret': 5, 'provocation': 5, 'murders': 5, 'seriousness': 5, 'Discussions': 5, 'dissolve': 5, 'incapacitated': 5, 'withholding': 5, 'withdrawing': 5, 'Fellowship': 5, 'Doctors': 5, 'intensified': 5, 'workable': 5, 'Mousa': 5, 'Stoke': 5, 'battleground': 5, 'netted': 5, 'sizeable': 5, 'overdue': 5, 'Opponents': 5, 'Carol': 5, 'sailed': 5, 'lake': 5, 'worthless': 5, 'adopting': 5, 'inequality': 5, 'Funding': 5, 'affluent': 5, '16th': 5, 'wishful': 5, 'signatures': 5, 'extraordinarily': 5, '76m': 5, 'crafted': 5, 'toting': 5, 'Lim': 5, 'advertised': 5, 'hid': 5, 'welcoming': 5, 'guides': 5, 'slaughter': 5, '900m': 5, 'glowing': 5, 'boil': 5, 'Probably': 5, 'Grantham': 5, 'complexes': 5, 'revolt': 5, 'motive': 5, 'Brankin': 5, 'tall': 5, 'protagonists': 5, 'participant': 5, 'ubiquitous': 5, 'ingenious': 5, 'sliced': 5, 'compulsion': 5, 'rigid': 5, 'differ': 5, 'edited': 5, 'congratulate': 5, 'anticipation': 5, 'stooge': 5, 'occupation': 5, 'wasting': 5, 'Higgins': 5, 'floors': 5, 'shelf': 5, 'commemoration': 5, 'disliked': 5, 'retroviral': 5, 'disturbing': 5, 'squandered': 5, 'arrives': 5, 'Curtice': 5, 'static': 5, 'lodged': 5, 'flurry': 5, 'wet': 5, 'relaxation': 5, 'instalment': 5, 'arson': 5, 'Glyndwr': 5, 'Bryn': 5, 'Wigley': 5, 'fires': 5, 'persecuted': 5, 'hint': 5, 'Anglia': 5, 'Nancy': 5, 'ethical': 5, '144': 5, 'intimidation': 5, 'Wiltshire': 5, 'tidal': 5, '575': 5, 'eliminating': 5, 'villagers': 5, '36m': 5, '19m': 5, 'gentle': 5, 'alarming': 5, 'loser': 5, 'Says': 5, 'Austin': 5, 'retract': 5, 'horrific': 5, 'Citizen': 5, 'intelligently': 5, 'Blackwatch': 5, 'Index': 5, 'haves': 5, 'Hopes': 5, 'Kuwait': 5, 'boosts': 5, 'Schweppes': 5, 'Trident': 5, 'Dresdner': 5, 'Kleinwort': 5, 'Wasserstein': 5, 'Helmut': 5, 'revaluing': 5, 'Rato': 5, 'tenth': 5, 'lessen': 5, 'projections': 5, 'liar': 5, 'orchestrating': 5, 'Optimism': 5, 'reacts': 5, 'therapy': 5, 'remedy': 5, 'lessening': 5, 'MMC': 5, 'Bert': 5, 'Hartz': 5, 'methodology': 5, 'automated': 5, 'amplified': 5, 'correction': 5, 'Saharan': 5, 'reacting': 5, 'outstrip': 5, 'reais': 5, '73m': 5, '260': 5, 'suitor': 5, 'punish': 5, 'vintners': 5, 'seals': 5, 'A320': 5, 'fleet': 5, 'Vaile': 5, 'stellar': 5, 'metals': 5, 'nickel': 5, 'procurement': 5, 'quieter': 5, 'upside': 5, 'compensated': 5, 'eighteen': 5, 'timescale': 5, 'comprising': 5, 'comprised': 5, 'haute': 5, 'couture': 5, 'venerable': 5, 'comparatively': 5, 'zones': 5, 'exchanged': 5, 'Changes': 5, '227': 5, 'greenback': 5, 'exporter': 5, 'Chennai': 5, 'midday': 5, 'Managers': 5, 'machinery': 5, 'subdued': 5, 'mutually': 5, 'embezzlement': 5, '26m': 5, 'seeds': 5, 'urgency': 5, 'associations': 5, 'narrowed': 5, 'Siberia': 5, 'refineries': 5, 'mainstay': 5, '189': 5, 'fork': 5, 'drugmaker': 5, 'populations': 5, 'Congressional': 5, 'attendants': 5, 'Ground': 5, 'approximately': 5, 'Ohio': 5, '850': 5, 'Ivo': 5, 'mechanics': 5, 'Grey': 5, 'lager': 5, 'complied': 5, 'motto': 5, 'turbulent': 5, 'burdensome': 5, 'Turks': 5, 'wallets': 5, 'stemming': 5, 'felony': 5, '850m': 5, 'Donkey': 5, 'ordering': 5, 'repayment': 5, 'Macy': 5, 'Morocco': 5, 'reeling': 5, 'Claire': 5, 'Arese': 5, 'dismantled': 5, 'di': 5, 'replica': 5, 'Dimension': 5, 'occurring': 5, 'relocating': 5, 'questionnaires': 5, 'Solaris': 5, 'Mayland': 5, 'forefront': 5, 'manipulated': 5, 'suitors': 5, 'lent': 5, 'Avi': 5, 'Omar': 5, 'Dreamliner': 5, 'potent': 5, 'bargain': 5, 'bouncing': 5, 'presently': 5, 'Brett': 5, 'Sarkozy': 5, '98m': 5, 'Profit': 5, 'Softbank': 5, 'telecommunication': 5, 'Mitsui': 5, 'brokerage': 5, 'pelted': 5, 'societies': 5, 'toppled': 5, 'surviving': 5, '187': 5, 'controllers': 5, 'grim': 5, 'payrolls': 5, 'communist': 5, 'Macedonia': 5, 'pumped': 5, 'Marks': 5, 'Spencer': 5, 'Takeover': 5, 'oligarchs': 5, 'CIPS': 5, 'workplace': 5, 'Smaller': 5, 'reignite': 5, 'fashionable': 5, 'manufacture': 5, '337': 5, '139': 5, '360': 5, 'Deep': 5, 'barring': 5, 'Whereas': 5, 'Equant': 5, 'IPC': 5, 'acquiring': 5, 'Pharmaceuticals': 5, 'outs': 5, 'comparable': 5, 'Jessops': 5, 'Body': 5, 'Tesco': 5, 'bpd': 5, 'Talal': 5, 'Fairmont': 5, 'lashed': 5, 'G20': 5, 'Eurozone': 5, 'gradual': 5, 'drill': 5, 'panels': 5, 'Matsushita': 5, 'Panasonic': 5, 'stranglehold': 5, 'Saabs': 5, '77m': 5, 'proceeding': 5, 'Riggs': 5, 'concealed': 5, 'Ore': 5, 'deflation': 5, 'Nestor': 5, 'Easygroup': 5, 'rentals': 5, 'Allianz': 5, 'Societies': 5, 'Humanitarian': 5, 'busiest': 5, 'Bonds': 5, 'cotton': 5, 'manipulation': 5, 'flock': 5, 'discoveries': 5, 'pioneered': 5, 'oversubscribed': 5, 'Futures': 5, '700m': 5, 'districts': 5, 'Irancell': 5, 'Illva': 5, 'approves': 5, '424m': 5, 'Yulia': 5, 'violating': 5, 'danced': 5, 'Whenever': 5, 'Nevzlin': 5, 'guise': 5, 'restraining': 5, 'raked': 5, 'journeys': 5, 'discounted': 5, 'sharper': 5, 'insolvency': 5, 'Governor': 5, 'reliant': 5, 'zinc': 5, 'knocks': 5, 'relaunch': 5, 'taxi': 5, 'borne': 5, 'thirties': 5, 'persist': 5, 'recalling': 5, 'brake': 5, 'celebrates': 5, 'surcharge': 5, 'benign': 5, 'A350': 5, 'Iressa': 5, 'rejection': 5, 'Patterson': 5, 'renationalise': 5, 'mechanical': 5, 'Multi': 5, 'MFA': 5, 'seismic': 5, 'breathing': 5, 'Gimme': 5, 'Communist': 5, 'Sergei': 5, 'overcoming': 5, 'Sidney': 5, 'Marquez': 5, 'misusing': 5, 'execute': 5, '220m': 5, 'Senate': 5, 'CBO': 5, 'ingredient': 5, 'Varley': 5, 'winds': 5, 'cloud': 5, 'analysed': 5, 'inhibitors': 5, 'condom': 5, '5p': 5, 'Eighteen': 5, 'Chalone': 5, '*': 5, 'fathom': 5, 'ski': 5, 'Trial': 5, 'shines': 5, 'Kids': 5, '1940s': 5, 'Mellon': 5, '74m': 5, 'improves': 5, 'Pipa': 5, 'proxy': 5, 'tripled': 5, '46m': 5, 'Huge': 5, 'HealthSouth': 5, 'Alabama': 5, 'ante': 5, 'Mendis': 5, 'reckoning': 5, 'Filippo': 5, 'snacks': 5, 'Plant': 5, 'Electrical': 5, 'Creek': 5, 'Malibu': 5, 'subsidiaries': 5, 'FleetBoston': 5, 'BOA': 5, '140m': 5, '1955': 5, 'BB': 5, 'unskilled': 5, 'Baoshan': 5, '1966': 5, '168m': 5, 'misconduct': 5, 'drain': 5, 'obstacles': 5, 'Grove': 5, 'Cooperative': 5, 'flattering': 5, 'shaking': 5, 'dock': 5, 'splash': 5, 'Anders': 5, 'reckons': 5, 'legged': 5, 'facilitate': 5, 'Fourth': 5, 'Hybrid': 5, 'CAO': 5, 'Charter': 5, 'Gaillard': 5, 'founders': 5, 'pills': 5, 'diverting': 5, 'exits': 5, 'blessing': 5, 'AEFA': 5, 'EBay': 5, 'Partners': 5, '85m': 5, 'Gorillaz': 5, 'Alain': 5, 'Lebanese': 5, 'connecting': 5, 'Castro': 5, 'displaced': 5, 'circuits': 5, 'mentions': 5, 'planks': 5, 'stifle': 5, 'playlist': 5, 'inaccessible': 5, 'Spammers': 5, 'tinker': 5, 'Circuits': 5, 'fused': 5, 'Officer': 5, 'creature': 5, 'o': 5, 'LokiTorrent': 5, 'Graphics': 5, 'Nasa': 5, 'computational': 5, 'receiver': 5, 'SP2': 5, 'partnered': 5, 'OneStat': 5, 'ecosystem': 5, 'Safari': 5, '625': 5, 'switches': 5, 'peripherals': 5, 'sleek': 5, 'Oudendijk': 5, 'adaptors': 5, 'Summit': 5, 'Adopting': 5, 'domination': 5, 'Rogue': 5, 'glamour': 5, 'noisy': 5, 'chronology': 5, 'Trowbridge': 5, 'Chicoine': 5, 'Townsend': 5, 'replays': 5, 'Tiscali': 5, 'digitised': 5, 'stereo': 5, 'limitations': 5, 'expansive': 5, 'limbo': 5, 'logging': 5, 'terminals': 5, 'wrists': 5, 'aesthetics': 5, 'UV': 5, 'forehead': 5, 'downloaders': 5, 'retrieve': 5, 'Tech': 5, 'Avril': 5, 'Lavigne': 5, 'Hitchhiker': 5, 'transmit': 5, 'mask': 5, 'patented': 5, 'JURI': 5, 'apparatus': 5, '23rd': 5, 'Spectrum': 5, 'tv': 5, 'pros': 5, 'levelling': 5, 'bath': 5, 'Pompeii': 5, 'attractions': 5, 'Nadia': 5, 'recreate': 5, 'Gage': 5, 'specify': 5, 'interoperability': 5, 'stuffed': 5, 'sneak': 5, 'E3': 5, 'folk': 5, 'newcomers': 5, 'Safe': 5, 'Operators': 5, 'Sridharan': 5, 'digging': 5, '512kbps': 5, 'Curt': 5, 'complement': 5, 'Compared': 5, 'Patent': 5, 'lap': 5, 'Asymmetric': 5, 'AADC': 5, 'Handheld': 5, 'Brazilians': 5, 'textures': 5, 'wheels': 5, '3km': 5, 'trumpet': 5, 'Coming': 5, 'Eighty': 5, 'AAC': 5, 'bay': 5, 'centrally': 5, 'numerical': 5, 'Nebraska': 5, 'archived': 5, 'Syndication': 5, 'discovering': 5, 'Kirsten': 5, 'breadth': 5, 'Seagate': 5, 'Slim': 5, 'Equipment': 5, 'www': 5, 'Whalley': 5, 'Gillmor': 5, 'adaptor': 5, 'dwindling': 5, 'liner': 5, 'Jurors': 5, 'snake': 5, 'swappers': 5, 'Delft': 5, 'clumsy': 5, 'Grail': 5, 'buttons': 5, 'spinal': 5, 'biz': 5, 'Deaf': 5, 'Honeynet': 5, 'PCtvt': 5, 'educate': 5, 'descend': 5, 'elevators': 5, 'amplifier': 5, 'suck': 5, 'liking': 5, 'Jarek': 5, 'anomaly': 5, 'franchises': 5, 'puzzle': 5, 'cripple': 5, 'Radicati': 5, 'Tools': 5, 'spaces': 5, 'compile': 5, 'redirected': 5, 'spammer': 5, 'tastes': 5, 'cinematography': 5, 'Wyver': 5, 'portions': 5, 'pleasing': 5, 'magnetic': 5, 'bland': 5, 'TNO': 5, 'poses': 5, 'greeting': 5, 'Ebay': 5, 'parcel': 5, 'gigantic': 5, 'iMP': 5, 'Shot': 5, 'calibre': 5, 'blogsphere': 5, 'Emin': 5, 'mixes': 5, 'ion': 5, 'recharge': 5, 'VJ': 5, 'mom': 5, 'Listen': 5, 'Buntes': 5, 'Fernsehen': 5, 'Cloud': 5, 'Stening': 5, '2km': 5, 'radius': 5, 'Homeland': 5, 'amateur': 5, 'crave': 5, 'Sandvine': 5, 'immediacy': 5, 'Chronicles': 5, 'geek': 5, 'Bolz': 5, '40s': 5, 'Cisco': 5, 'Tveter': 5, 'ferocious': 5, 'IDC': 5, 'intentional': 5, 'warez': 5, 'Philadelphia': 5, 'kudos': 5, 'cabs': 5, 'burn': 5, 'AMD': 5, 'wings': 5, 'Cranfield': 5, 'Openzone': 5, 'usernames': 5, 'Anonymous': 5, 'impractical': 5, 'histories': 5, 'validated': 5, 'assistants': 5, 'nailed': 5, 'purely': 5, 'Codemasters': 5, 'realism': 5, 'Gardner': 5, 'Climax': 5, 'TPM': 5, 'immersed': 5, 'Kotamaraja': 5, 'Gillingwater': 5, 'mobi': 5, 'Darfur': 5, 'Hutch': 5, 'upstairs': 5, 'bike': 5, 'dreadful': 5, 'sprawling': 5, 'restrained': 5, 'hilarious': 5, 'Claudia': 5, 'trainer': 5, 'CEC': 5, 'silent': 5, 'NetSurity': 5, 'tabloids': 5, 'scratch': 5, 'leagues': 5, 'stats': 5, 'Abramovich': 5, 'ISBN': 5, 'tricked': 5, 'Highlights': 5, 'blank': 5, 'SD': 5, 'weaknesses': 5, 'Lionhead': 5, 'Keeper': 5, 'dotted': 5, 'puzzles': 5, 'rendering': 5, 'fantastically': 5, 'ATMs': 5, 'Pitylak': 5, 'elimination': 5, 'purporting': 5, 'Weiner': 5, 'intrigued': 5, 'festivities': 5, 'Pax': 5, 'sloppy': 5, 'addicted': 5, 'dysfunctional': 5, 'spells': 5, 'damn': 5, 'Templeton': 5, 'Considering': 5, 'previews': 5, 'vacant': 5, 'Clitheroe': 5, 'Villiers': 5, 'Lusaka': 5, 'Richardson': 5, 'Sportsweek': 5, 'crushing': 5, '1963': 5, 'pinnacle': 5, 'vaulter': 5, 'Leonard': 5, 'Ludovic': 5, 'refereeing': 5, 'goalless': 5, 'blazed': 5, 'Jeannin': 5, 'umpire': 5, 'silverware': 5, 'powerfully': 5, 'deflected': 5, 'Hyypia': 5, 'Biscan': 5, 'og': 5, 'Alberto': 5, 'Jiri': 5, 'coping': 5, 'Perez': 5, 'lone': 5, 'Eidur': 5, 'Distin': 5, 'Sibierski': 5, 'Musampa': 5, 'contests': 5, 'Devonish': 5, 'Physically': 5, 'Bahoken': 5, 'Simmons': 5, 'McPake': 5, 'hauled': 5, 'proceeds': 5, 'influences': 5, 'Hickey': 5, 'ligament': 5, 'Harrier': 5, 'Warnock': 5, 'bagged': 5, 'Howe': 5, 'McCormick': 5, 'farce': 5, 'Percy': 5, 'miserable': 5, 'Nichols': 5, 'recovers': 5, 'SEGAS': 5, 'Panagopoulos': 5, 'Cram': 5, 'Opens': 5, 'lobbing': 5, 'crushed': 5, 'Oak': 5, 'Asante': 5, 'resumption': 5, 'Danielli': 5, 'Hines': 5, 'Hinshelwood': 5, 'wildcard': 5, '1500': 5, 'Fratton': 5, 'Aitken': 5, 'QPR': 5, 'Holloway': 5, 'Zenden': 5, 'Irina': 5, 'Larne': 5, '3000m': 5, 'Findlay': 5, 'Obikwelu': 5, 'injuring': 5, 'concede': 5, 'agonisingly': 5, 'ecstatic': 5, 'exposing': 5, 'dreams': 5, 'Jenny': 5, 'federations': 5, 'Kieron': 5, 'Hierro': 5, 'despairing': 5, 'scoreline': 5, 'Faye': 5, 'Jenas': 5, 'Ronaldinho': 5, 'Zvonareva': 5, 'unstoppable': 5, 'Freddy': 5, 'Balshaw': 5, 'Zidane': 5, 'Partridge': 5, 'inferior': 5, 'fluffed': 5, 'Kiole': 5, 'Mayerhofler': 5, 'Krasner': 5, 'ref': 5, 'Chin': 5, 'Tirunesh': 5, 'outplayed': 5, 'showdown': 5, 'Paradorn': 5, 'Fabrice': 5, 'Youzhny': 5, 'evident': 5, 'acrimonious': 5, 'Hammers': 5, 'Kolo': 5, 'Makofo': 5, 'Kamara': 5, 'cursing': 5, 'Xabi': 5, 'Keska': 5, 'reigning': 5, 'doubted': 5, 'Sherwood': 5, '1952': 5, 'Costa': 5, 'Harlequins': 5, 'Prop': 5, 'Masters': 5, 'Starace': 5, 'hardcourt': 5, 'cartilage': 5, 'cop': 5, 'Ana': 5, 'Donnelly': 5, 'Yeading': 5, 'Senderos': 5, 'sportsman': 5, 'Graz': 5, 'Sanchez': 5, 'Samaria': 5, 'Markos': 5, 'Geneti': 5, 'Arena': 5, 'Massu': 5, 'Gronkjaer': 5, 'Monfils': 5, 'missile': 5, 'unheralded': 5, 'hapless': 5, 'Del': 5, 'Dal': 5, 'Pozzebon': 5, 'Zealander': 5, 'Bowen': 5, 'Remy': 5, 'Crane': 5, 'Addicks': 5, 'mantle': 5, 'Bovina': 5, 'Jankovic': 5, 'Haile': 5, 'scrummaging': 5, 'Murambadoro': 5, 'stint': 5, 'impartial': 5, 'Partizan': 5, 'Hare': 5, 'Cygan': 5, 'Peters': 5, 'Worthington': 5, 'Carrow': 5, 'Arteta': 5, 'Stubbs': 5, 'Arkansas': 5, 'Mathieson': 5, 'Dahl': 5, 'respectful': 5, 'Denise': 5, 'Preview': 5, 'tasting': 5, 'Jagielka': 5, 'blazing': 5, 'rundown': 5, 'Files': 5, 'Cure': 5, 'Kaiser': 5, 'Chiefs': 5, 'McFly': 5, 'Collateral': 5, 'Gondry': 5, 'filmmaking': 5, 'McKendry': 5, 'Ashvin': 5, 'Festen': 5, 'Judi': 5, 'Dench': 5, 'Ends': 5, 'Ras': 5, 'Kwame': 5, '1Xtra': 5, 'reissued': 5, 'Historical': 5, 'autographs': 5, 'Soldier': 5, 'Ewan': 5, 'screenwriter': 5, 'Reason': 5, 'Minogue': 5, 'Greatest': 5, 'diva': 5, 'heroine': 5, 'Xhosa': 5, 'supernatural': 5, 'Constantine': 5, 'Juliette': 5, 'PJ': 5, 'Ronnie': 5, 'Wikid': 5, 'Away': 5, 'Cruise': 5, 'Trafalgar': 5, 'Jacqueline': 5, 'Bonnie': 5, 'posthumous': 5, 'Bosworth': 5, 'entertainers': 5, 'lukewarm': 5, 'Precinct': 5, 'natured': 5, 'controversies': 5, 'likeable': 5, 'SonyBMG': 5, 'McCune': 5, 'Madame': 5, 'Alfred': 5, 'von': 5, 'Trapp': 5, 'Gallery': 5, 'sculptor': 5, 'Led': 5, 'Zeppelin': 5, 'Drama': 5, 'Eyes': 5, 'Symmons': 5, 'Song': 5, 'Choir': 5, 'Comedian': 5, 'Cullum': 5, 'Courtney': 5, 'unedited': 5, '1950': 5, 'gala': 5, 'impresario': 5, 'Daldry': 5, 'crawling': 5, 'Napoleon': 5, 'Dynamite': 5, 'Door': 5, 'Indie': 5, 'Art': 5, 'Fintian': 5, 'embarking': 5, 'D12': 5, 'Sweet': 5, 'ballad': 5, 'Keating': 5, 'Sylvester': 5, 'Brigitte': 5, 'Blazin': 5, 'Germaine': 5, '1934': 5, 'Tears': 5, 'Bratman': 5, 'Byrds': 5, 'Lonesome': 5, 'Rusesabagina': 5, 'Balado': 5, 'Bowie': 5, 'Rat': 5, 'Winehouse': 5, 'homophobic': 5, 'dancehall': 5, 'unsuitable': 5, 'Reese': 5, 'ladies': 5, 'repertoire': 5, 'Monty': 5, 'Jazz': 5, 'Ide': 5, 'Gaydos': 5, 'sampling': 5, 'Vabres': 5, 'Takeaway': 5, 'Begins': 5, 'statuette': 5, 'Kechiche': 5, '535': 5, 'originals': 5, 'Spark': 5, 'McEwan': 5, 'WRAZ': 5, 'Tupac': 5, 'Mendelsohn': 5, 'CFCA': 5, 'Wife': 5, 'Thundercats': 5, 'Bod': 5, 'Chorlton': 5, 'Wheelies': 5, 'Kerrang': 5, 'Tree': 5, 'Singles': 5, 'Prater': 5, 'Jarre': 5, 'supermodel': 5, 'Leroi': 5, 'Gilmore': 5, 'Meltdown': 5, 'Alva': 5, 'Debra': 5, 'Mad': 5, 'Depardieu': 5, 'Barrie': 5, 'Hogwarts': 5, 'Mantooth': 5, 'Appleton': 5, 'Touch': 5, 'PG': 5, 'Nas': 5, 'Wire': 5, 'Charlotte': 5, 'Ugandan': 5, 'Dolin': 5, 'Baywatch': 5, 'Paradise': 5, 'Buffy': 5, 'Fatboy': 5, 'Dominica': 5, 'cannibalism': 5, 'Skarsgard': 5, 'Supervolcano': 5, 'Zombic': 5, 'Hillbillies': 5, 'Severn': 5, 'Kombou': 5, 'Coltrane': 5, 'Comeback': 5, 'uncut': 5, 'Gonna': 5, 'Barrow': 5, 'dashed': 4, 'vibrant': 4, 'teachings': 4, 'hypnotism': 4, 'inherent': 4, 'Supplement': 4, 'approaches': 4, '132': 4, 'Vaz': 4, 'prosperous': 4, 'ignorance': 4, 'reopened': 4, 'reinstatement': 4, 'hourly': 4, 'freight': 4, 'Main': 4, 'reinstated': 4, 'vociferously': 4, 'stink': 4, 'foil': 4, 'pretend': 4, 'intrude': 4, 'counterbalancing': 4, 'nurses': 4, 'retraining': 4, 'picket': 4, 'peninsula': 4, 'defends': 4, 'sly': 4, 'backfired': 4, 'Sentencing': 4, 'Guidelines': 4, 'killers': 4, 'Prosecutions': 4, 'Gilligan': 4, 'engages': 4, 'Inquiry': 4, 'Houses': 4, 'Faulkner': 4, 'Duke': 4, 'giveaways': 4, 'forecasters': 4, 'slap': 4, 'boils': 4, 'angered': 4, 'Joyce': 4, 'preserving': 4, 'interference': 4, 'Derbyshire': 4, 'hereditary': 4, 'ceasefire': 4, 'Kashmiris': 4, 'Control': 4, 'applaud': 4, 'accidents': 4, 'rushing': 4, 'evaporated': 4, 'activated': 4, 'invading': 4, 'Irvine': 4, 'Lairg': 4, 'enforcer': 4, 'coded': 4, 'seas': 4, 'mimicked': 4, '42bn': 4, 'Lanarkshire': 4, 'resurrection': 4, 'overshot': 4, 'Nielson': 4, 'Christians': 4, 'Ankara': 4, 'Ritchie': 4, 'charming': 4, 'establishment': 4, 'stain': 4, 'tables': 4, 'Lynton': 4, 'iota': 4, 'populist': 4, 'disheartened': 4, 'menace': 4, 'sexuality': 4, 'changeover': 4, 'vaccination': 4, '53bn': 4, 'Want': 4, 'rhetoric': 4, 'commenting': 4, 'injustice': 4, 'exonerated': 4, 'wounds': 4, 'prospectus': 4, 'Ideas': 4, 'unofficial': 4, 'revisit': 4, 'oversight': 4, 'renewable': 4, 'eminent': 4, 'predictable': 4, 'McFadyen': 4, 'polite': 4, 'radioactive': 4, 'offload': 4, 'PE': 4, 'inter': 4, 'Countryfile': 4, 'unbiased': 4, 'continuation': 4, 'predecessors': 4, 'Cathy': 4, 'confined': 4, 'Clubs': 4, '80mg': 4, '50mg': 4, 'Advisory': 4, 'Allsop': 4, 'assumption': 4, 'Reducing': 4, 'Dunwoody': 4, 'residential': 4, 'lectures': 4, 'balloted': 4, 'walkout': 4, 'embarrass': 4, 'implementing': 4, 'Democratic': 4, 'briefings': 4, 'Bedwellty': 4, 'peerage': 4, 'Doing': 4, 'hurting': 4, 'householder': 4, 'fluent': 4, 'observation': 4, 'morally': 4, 'indefensible': 4, 'Initial': 4, 'Sheerman': 4, 'proponent': 4, 'Councils': 4, 'inhumane': 4, 'overcrowding': 4, 'Bahamas': 4, 'Swaziland': 4, 'embassy': 4, 'congregation': 4, 'striving': 4, 'petulance': 4, 'reinstate': 4, 'irritate': 4, 'reneged': 4, 'dashing': 4, 'enjoyable': 4, 'capping': 4, 'EOC': 4, 'prevents': 4, 'segregated': 4, 'stereotypical': 4, 'Pakistanis': 4, 'illiteracy': 4, 'cornerstone': 4, 'receipts': 4, 'wash': 4, 'landslide': 4, 'dad': 4, 'Fife': 4, 'Dunfermline': 4, 'frontbench': 4, 'treadmill': 4, 'redistribution': 4, 'nursing': 4, 'rig': 4, 'fraudulently': 4, 'Ravi': 4, 'Witnesses': 4, 'forging': 4, 'Junior': 4, 'Greaves': 4, 'gimmicks': 4, 'directions': 4, 'fascist': 4, 'HACAN': 4, 'detainee': 4, 'hearted': 4, 'vocational': 4, 'structural': 4, 'QCA': 4, 'symbols': 4, 'differentiate': 4, 'seeker': 4, 'grandfather': 4, 'deselect': 4, 'hostage': 4, 'Bigley': 4, 'Spectator': 4, 'stereotype': 4, 'drunken': 4, 'stoppage': 4, 'disrupt': 4, 'laden': 4, 'frowned': 4, 'rebuke': 4, 'conventions': 4, 'allegiances': 4, 'migrant': 4, 'Giving': 4, 'tolerate': 4, 'PA': 4, 'implicated': 4, 'Vishwanathan': 4, 'surrendering': 4, 'likelihood': 4, 'disunity': 4, 'capitalise': 4, 'scorching': 4, 'admired': 4, 'Separate': 4, 'NI': 4, 'Kensington': 4, 'rode': 4, 'disagreement': 4, 'whereby': 4, 'sanction': 4, 'passive': 4, 'advocacy': 4, 'mindful': 4, 'charting': 4, 'chatted': 4, 'despair': 4, 'Bevan': 4, 'evacuate': 4, 'hostages': 4, 'rebels': 4, 'pet': 4, 'outlawing': 4, 'inflict': 4, 'downgraded': 4, 'edges': 4, 'Mukherjee': 4, 'unenforceable': 4, 'principals': 4, 'pernicious': 4, 'consigned': 4, 'Euroscepticism': 4, 'arrogance': 4, 'countless': 4, 'communicator': 4, 'communicating': 4, 'shining': 4, 'conveniently': 4, 'Interesting': 4, 'doom': 4, 'essence': 4, 'Yorker': 4, 'handedly': 4, 'unreformable': 4, 'inherently': 4, 'undemocratic': 4, 'stiffen': 4, 'assaults': 4, 'gaffe': 4, 'Acpo': 4, 'calculating': 4, 'backlog': 4, '456m': 4, 'Courts': 4, 'wracking': 4, 'intimidated': 4, 'appointments': 4, 'irritation': 4, 'fury': 4, 'alarmed': 4, 'pour': 4, 'inconceivable': 4, 'Pakeerah': 4, 'Giselle': 4, 'Adults': 4, 'necessity': 4, 'prevention': 4, 'mechanisms': 4, 'tendencies': 4, 'Strike': 4, 'cling': 4, 'Beckett': 4, 'opportunism': 4, 'rectify': 4, 'Mowden': 4, 'reheated': 4, 'outdo': 4, 'equate': 4, '1938': 4, 'scruffy': 4, '1946': 4, 'Churchill': 4, 'terrorised': 4, 'communism': 4, 'bullets': 4, 'shadows': 4, 'obscure': 4, 'voicing': 4, 'erroneous': 4, 'scant': 4, 'Magna': 4, 'Carta': 4, 'bombers': 4, 'doubtful': 4, 'ordinating': 4, '1941': 4, 'surreptitiously': 4, 'whittled': 4, 'eroded': 4, 'temptation': 4, 'prevail': 4, 'manipulating': 4, 'Hobbes': 4, 'depriving': 4, 'smacks': 4, 'deserving': 4, 'distorted': 4, 'Canary': 4, 'Wharf': 4, 'statute': 4, 'intrusive': 4, 'objectionable': 4, 'Drink': 4, 'Alcohol': 4, 'webcast': 4, 'coined': 4, 'contesting': 4, 'annum': 4, 'incidence': 4, 'PLP': 4, 'resisting': 4, 'identifies': 4, 'newsletter': 4, '680': 4, 'spelling': 4, 'secondly': 4, 'protester': 4, 'bush': 4, 'Arabs': 4, 'loaned': 4, 'Hoffmann': 4, 'kidney': 4, 'infighting': 4, 'pleads': 4, 'undermines': 4, 'betrayal': 4, 'tracing': 4, 'dried': 4, 'Basingstoke': 4, 'fathered': 4, 'nutter': 4, 'pregnancy': 4, 'sailor': 4, 'violate': 4, 'pursuits': 4, 'baiting': 4, 'vacuous': 4, 'weighted': 4, 'unbecoming': 4, 'rigorously': 4, 'Isn': 4, 'Shipley': 4, 'glossy': 4, 'epitomised': 4, 'slammed': 4, 'rational': 4, 'agnostic': 4, 'fence': 4, 'Male': 4, 'melons': 4, 'Yvette': 4, 'sleeping': 4, 'prosecuting': 4, 'renewal': 4, 'deportation': 4, 'Efforts': 4, 'Marketing': 4, 'lags': 4, '305': 4, '775': 4, 'overrule': 4, 'roadmap': 4, 'slightest': 4, 'rallies': 4, 'Headingley': 4, 'Auckland': 4, 'establishments': 4, 'afflicting': 4, 'qualitative': 4, 'Evangelical': 4, 'appreciation': 4, 'liberalise': 4, 'Payment': 4, 'rewarding': 4, 'neighbouring': 4, 'expelled': 4, 'staunch': 4, 'intermediary': 4, 'lipped': 4, 'interfering': 4, 'overshadowing': 4, 'eroding': 4, 'repossessions': 4, 'inflicted': 4, 'signalling': 4, 'dislike': 4, 'knighted': 4, 'withheld': 4, 'Rural': 4, 'relocate': 4, 'sweeps': 4, 'distressing': 4, 'Belmar': 4, 'Feroz': 4, 'intercepts': 4, 'dose': 4, 'Hutchings': 4, 'averted': 4, 'undoubted': 4, 'flesh': 4, 'Fabian': 4, 'Heseltine': 4, 'warmth': 4, '1912': 4, 'devaluation': 4, 'standstill': 4, 'morale': 4, 'Welcome': 4, 'battered': 4, 'unmissable': 4, 'Audience': 4, 'combatants': 4, 'counselling': 4, 'empower': 4, '151': 4, 'Pay': 4, 'decency': 4, 'decrease': 4, 'encourages': 4, 'Wages': 4, '75p': 4, 'fools': 4, 'openly': 4, 'arising': 4, 'feeds': 4, 'whoever': 4, 'Alun': 4, 'mis': 4, 'horrified': 4, 'impeccable': 4, 'depressing': 4, 'dismissive': 4, 'crying': 4, 'martyrs': 4, 'Beynon': 4, 'sizes': 4, 'quango': 4, 'assemblies': 4, 'Announcing': 4, 'Britains': 4, 'Asbos': 4, 'patchy': 4, 'Advocates': 4, 'resignations': 4, 'Jerwood': 4, 'railways': 4, 'totalitarian': 4, 'civilised': 4, 'momentous': 4, 'Was': 4, 'greenhouse': 4, 'unwillingness': 4, 'senator': 4, 'fielding': 4, 'Ernst': 4, 'terrified': 4, 'openness': 4, 'cigarettes': 4, '265m': 4, 'stewardship': 4, 'Gershon': 4, 'Salmond': 4, 'tartan': 4, 'senses': 4, 'riot': 4, 'stunts': 4, 'footing': 4, 'Whoever': 4, 'namesake': 4, 'rebanding': 4, 'Dai': 4, 'extracting': 4, '1701': 4, 'Settlement': 4, 'governs': 4, 'lightly': 4, 'Rt': 4, 'Rev': 4, 'markedly': 4, 'cure': 4, 'Existing': 4, 'condemns': 4, 'Parties': 4, '340': 4, 'Gleneagles': 4, 'blunt': 4, 'unfulfilling': 4, '1917': 4, 'Asplin': 4, 'bookings': 4, 'Opik': 4, 'outlawed': 4, 'flushing': 4, '146': 4, 'jealous': 4, 'vindicated': 4, 'fundraiser': 4, 'Mennear': 4, 'legalise': 4, 'wills': 4, 'CMF': 4, 'Lammy': 4, 'pictured': 4, 'swinging': 4, 'chaotic': 4, 'institute': 4, 'disgusting': 4, 'saddened': 4, '1700': 4, 'mayors': 4, 'Doncaster': 4, 'Tyneside': 4, 'chapters': 4, 'neglected': 4, 'shunned': 4, 'quadruple': 4, '2050': 4, 'Portillo': 4, '195': 4, '205': 4, 'calculate': 4, 'Godsiff': 4, 'upgrades': 4, 'undermined': 4, 'dinghy': 4, '191': 4, 'charter': 4, 'tying': 4, 'bursaries': 4, 'KGB': 4, 'glance': 4, 'medically': 4, 'hepatitis': 4, 'tide': 4, 'Evan': 4, '31bn': 4, 'Arundel': 4, 'EGM': 4, 'eurosceptic': 4, 'prudent': 4, 'behaved': 4, 'Gavron': 4, 'Idris': 4, 'beach': 4, 'Phuket': 4, 'Scandinavian': 4, 'Fleet': 4, 'balls': 4, 'Kelvin': 4, 'dispensed': 4, 'canvassers': 4, 'Raftery': 4, 'unsettling': 4, 'Peace': 4, 'raided': 4, 'vans': 4, 'hardening': 4, 'mugging': 4, 'rifled': 4, 'manoeuvre': 4, 'rests': 4, 'tattoos': 4, 'confession': 4, 'Curfews': 4, 'separations': 4, 'Extending': 4, 'Ison': 4, 'papering': 4, 'studied': 4, 'overview': 4, 'Zambian': 4, 'naked': 4, 'shorts': 4, 'Defense': 4, 'forcibly': 4, 'installations': 4, 'commander': 4, '645': 4, '907': 4, 'safest': 4, 'Liddell': 4, 'boundary': 4, 'occupy': 4, 'rays': 4, '185': 4, 'falsify': 4, '1857': 4, 'testimonies': 4, '325': 4, 'researching': 4, 'goat': 4, 'Seen': 4, '229': 4, '206': 4, 'Walkington': 4, 'mischief': 4, 'salute': 4, 'reassuring': 4, 'overarching': 4, '2nd': 4, 'Rochdale': 4, 'ammunition': 4, 'distinction': 4, 'misplaced': 4, 'Dodd': 4, 'Constable': 4, 'encounters': 4, 'Etzioni': 4, 'Bin': 4, 'enriched': 4, 'blended': 4, 'quiz': 4, 'acre': 4, 'repairs': 4, 'Fallon': 4, '160': 4, 'Meibion': 4, 'burning': 4, '220': 4, 'Peterborough': 4, 'Franco': 4, 'duplicate': 4, 'Essential': 4, 'deregulation': 4, 'Potato': 4, 'preparatory': 4, 'transitional': 4, 'Rothwell': 4, 'mattered': 4, 'devise': 4, 'candidacy': 4, 'ageism': 4, 'Benefit': 4, 'hurdle': 4, 'drastically': 4, 'jitters': 4, 'intimidating': 4, 'cared': 4, 'churches': 4, 'tack': 4, 'echo': 4, 'dreamed': 4, 'merchant': 4, 'Doha': 4, 'woefully': 4, 'Gypsy': 4, 'encampments': 4, 'Normally': 4, 'responsive': 4, 'Employers': 4, 'Say': 4, 'bankroll': 4, 'billboard': 4, 'bursting': 4, 'Otis': 4, 'Station': 4, 'Magistrates': 4, 'jockey': 4, 'Analysing': 4, 'Croydon': 4, 'pent': 4, 'Allander': 4, 'reassurance': 4, 'Quarterly': 4, 'Estelle': 4, 'overtures': 4, 'editors': 4, 'imbalance': 4, 'au': 4, 'gangsters': 4, 'deadlock': 4, 'medicines': 4, 'Falcon': 4, '280': 4, 'pleasant': 4, 'Bowers': 4, 'Angelina': 4, 'Jolie': 4, 'shove': 4, 'Natexis': 4, 'Banques': 4, 'Populaires': 4, 'Unemployment': 4, 'fabrics': 4, 'Dairy': 4, 'seminal': 4, 'concepts': 4, 'implying': 4, 'Sars': 4, 'teetered': 4, 'indications': 4, 'renationalisation': 4, 'circumvent': 4, 'waters': 4, 'Alvarez': 4, 'shortfalls': 4, 'blighting': 4, 'continuously': 4, 'jolt': 4, 'Hemington': 4, 'impatient': 4, 'stumbling': 4, 'Lorillard': 4, 'Liggett': 4, '29bn': 4, 'Cartagena': 4, 'veterans': 4, 'trump': 4, 'Francois': 4, 'Theodore': 4, 'stagnate': 4, 'stubbornly': 4, 'Purchasing': 4, 'imbalances': 4, '111m': 4, '66m': 4, 'surrounds': 4, 'Lake': 4, 'Initiative': 4, 'decree': 4, 'freezing': 4, 'teetering': 4, '412bn': 4, 'Clump': 4, 'Jagran': 4, 'editions': 4, 'Buy': 4, 'recognisable': 4, 'Vijay': 4, 'Infrastructure': 4, 'silk': 4, 'Gopinath': 4, 'Wolfson': 4, 'openings': 4, '33bn': 4, 'deposits': 4, 'objection': 4, 'tempting': 4, 'espionage': 4, 'Slower': 4, 'Insight': 4, 'Acceptance': 4, 'GMAC': 4, 'memorandum': 4, 'Suzuki': 4, 'annoyed': 4, 'issuers': 4, '546m': 4, '246': 4, 'Candy': 4, 'Lyle': 4, 'leapt': 4, 'hiatus': 4, 'Indonesians': 4, 'cooking': 4, 'Yudhoyono': 4, 'projection': 4, 'stalled': 4, 'crept': 4, 'psychologically': 4, 'Tamil': 4, 'editorial': 4, 'Joaquin': 4, 'Ethiopians': 4, 'imploded': 4, 'subsidy': 4, 'haunt': 4, 'extraction': 4, 'Subir': 4, 'liquefied': 4, 'brewers': 4, 'drown': 4, 'Breweries': 4, '291m': 4, 'derived': 4, 'Norbert': 4, 'Which': 4, '179': 4, 'Salvador': 4, 'Glaxo': 4, 'GlaxoSmithKline': 4, 'Garnier': 4, 'mastermind': 4, 'petered': 4, 'Kommersant': 4, 'Franklin': 4, 'OFHEO': 4, '125m': 4, 'saliva': 4, '49m': 4, 'sufferers': 4, 'Staff': 4, 'stranded': 4, 'adjusting': 4, 'shedding': 4, 'downfall': 4, '04bn': 4, '36bn': 4, 'projecting': 4, 'cattle': 4, 'possess': 4, 'meat': 4, 'cautiously': 4, 'Waller': 4, '21bn': 4, 'Costs': 4, '134': 4, 'onwards': 4, 'Bewlay': 4, 'scheming': 4, 'Invaders': 4, 'Ubisoft': 4, 'Bloomingdale': 4, 'slumping': 4, 'Internal': 4, 'stagnant': 4, 'loading': 4, 'bio': 4, 'vendor': 4, 'materialised': 4, 'Sachs': 4, 'Powertrain': 4, 'Vincenzo': 4, 'Aburizal': 4, 'Putting': 4, 'revisions': 4, 'cyclical': 4, 'Eco': 4, '259': 4, '222': 4, 'outsource': 4, 'Cordes': 4, '137': 4, 'Share': 4, 'consolidating': 4, 'trailblazer': 4, 'Buying': 4, 'Cummings': 4, 'NM': 4, 'Rothschild': 4, 'Bannister': 4, '89m': 4, 'ailing': 4, 'Snecma': 4, '630m': 4, 'reverted': 4, 'Mangala': 4, 'Nepal': 4, 'LNM': 4, 'Ulrich': 4, 'impressively': 4, 'Beck': 4, 'Henk': 4, 'chocolate': 4, 'broadly': 4, 'Perrier': 4, 'plummet': 4, 'inched': 4, '398m': 4, '768m': 4, 'Sontaya': 4, 'Kunplome': 4, 'Surgutneftegas': 4, 'hark': 4, '34bn': 4, 'Finanziaria': 4, 'lawmakers': 4, 'undervalues': 4, '225': 4, 'placings': 4, 'Thayer': 4, 'empt': 4, '717': 4, 'conservatives': 4, '117': 4, 'Competition': 4, 'garden': 4, 'jobseekers': 4, 'presided': 4, 'Hoover': 4, 'ClearView': 4, 'abrupt': 4, 'unexpectedly': 4, 'rebalance': 4, 'dealers': 4, 'Huckabees': 4, 'nullified': 4, 'Mehta': 4, 'dampening': 4, 'Rolls': 4, 'sedans': 4, '24bn': 4, 'centring': 4, 'diligence': 4, 'bona': 4, 'fide': 4, 'indirect': 4, 'input': 4, 'Lankans': 4, 'cushion': 4, 'aiding': 4, 'reorganised': 4, 'unprofitable': 4, 'Gianni': 4, 'stoke': 4, 'rebalancing': 4, 'Xing': 4, 'Monopoly': 4, 'Smoking': 4, 'Kathleen': 4, 'disruptions': 4, 'swelling': 4, 'rife': 4, 'infancy': 4, 'Steps': 4, 'Formula': 4, 'Minutes': 4, 'assessed': 4, 'laddish': 4, 'Cegetel': 4, '65bn': 4, 'sand': 4, 'Shop': 4, 'Kumaratunga': 4, 'Erik': 4, 'Earnings': 4, 'strained': 4, 'Cantalupo': 4, 'drowning': 4, '474': 4, 'Audi': 4, 'weighing': 4, 'applauded': 4, '427bn': 4, '230bn': 4, 'Popular': 4, 'Travelers': 4, '419': 4, 'leases': 4, 'LCDs': 4, 'inroads': 4, 'overshoot': 4, 'orderly': 4, '53m': 4, '99bn': 4, 'concealing': 4, 'teens': 4, 'practises': 4, 'Avonex': 4, 'relegated': 4, 'doldrums': 4, 'exceptionally': 4, 'scaled': 4, 'distant': 4, 'upswing': 4, 'Easyjet': 4, 'rented': 4, 'stricken': 4, 'underestimating': 4, 'Insurers': 4, 'toy': 4, 'Walden': 4, 'gifted': 4, 'deduction': 4, 'tsunamis': 4, 'Lagardere': 4, 'Rainer': 4, 'A380': 4, '799': 4, 'fervour': 4, 'confounded': 4, 'bourse': 4, 'lagging': 4, 'privatise': 4, '41bn': 4, 'Countries': 4, 'Wagoner': 4, 'HK': 4, 'dived': 4, 'Mueller': 4, 'Highfield': 4, 'accomodate': 4, 'deregistration': 4, 'capitalisations': 4, 'Compliance': 4, 'supervisory': 4, '32m': 4, 'opportunistic': 4, 'Beige': 4, 'Pinchuk': 4, 'Boynton': 4, 'Vijver': 4, 'restated': 4, 'bodes': 4, 'Coupled': 4, 'Locally': 4, 'obstruction': 4, 'foreman': 4, 'headache': 4, 'Property': 4, 'Russians': 4, 'ERAA': 4, 'Willie': 4, 'Ahern': 4, 'factored': 4, 'accomplices': 4, 'graft': 4, 'upsetting': 4, 'reconstruct': 4, 'dizzyingly': 4, 'detached': 4, 'fertile': 4, 'Regent': 4, 'Traffic': 4, 'NHTSA': 4, 'hood': 4, 'fluid': 4, 'Theede': 4, '1776': 4, 'bible': 4, 'Bryce': 4, 'Turkmen': 4, '106m': 4, 'prolong': 4, 'propelled': 4, 'liberalised': 4, 'succumbing': 4, 'burdened': 4, 'Context': 4, 'CSR': 4, '135m': 4, 'assurance': 4, 'Ambuja': 4, 'Formerly': 4, 'Current': 4, 'onside': 4, 'Announced': 4, 'Reduced': 4, 'unused': 4, 'inspected': 4, 'Rangel': 4, 'Daly': 4, 'telecom': 4, 'reminder': 4, 'consists': 4, 'Schumacher': 4, 'strides': 4, 'Morrow': 4, 'Tsuda': 4, 'oriented': 4, 'retaining': 4, 'riled': 4, 'batch': 4, 'weigh': 4, 'guts': 4, 'Jeddah': 4, 'Immelt': 4, 'adjusts': 4, 'contingent': 4, 'Alexandra': 4, 'designation': 4, 'relate': 4, 'geographical': 4, 'smoothly': 4, 'Approve': 4, '293': 4, 'trialled': 4, '264': 4, '599': 4, 'afield': 4, 'floods': 4, 'Xie': 4, 'possessions': 4, 'PSA': 4, 'Boix': 4, 'Vives': 4, 'Hispano': 4, 'Abbey': 4, 'peso': 4, 'Drayton': 4, 'diversify': 4, 'Deluxe': 4, '194m': 4, 'leisure': 4, 'engined': 4, '1300': 4, '444': 4, 'generator': 4, 'reunification': 4, 'Wolfgang': 4, 'Gus': 4, 'Freezing': 4, 'Minneapolis': 4, 'disposable': 4, 'downhill': 4, 'Maryland': 4, 'Alexei': 4, 'deceived': 4, 'upped': 4, 'ravaged': 4, 'staple': 4, 'unsettled': 4, 'insufficient': 4, 'abided': 4, 'sank': 4, 'Seagram': 4, 'whisky': 4, 'WSJ': 4, 'Banc': 4, 'Distributors': 4, 'CFD': 4, 'parting': 4, 'Tan': 4, '1961': 4, 'murky': 4, 'Together': 4, 'owe': 4, 'Shawn': 4, 'Boots': 4, 'CVRD': 4, 'MTFG': 4, 'formality': 4, 'sometime': 4, 'Caire': 4, 'oilfield': 4, 'gigajoule': 4, 'Liberia': 4, 'Cruises': 4, 'McDonalds': 4, 'Petrel': 4, 'cumulative': 4, 'adept': 4, 'Bones': 4, '64m': 4, 'watches': 4, 'Heavy': 4, 'trucks': 4, 'SK': 4, 'Stearns': 4, 'Anand': 4, 'resale': 4, 'packaging': 4, 'thirty': 4, 'Morchio': 4, 'inconsistent': 4, 'hinder': 4, 'stemmed': 4, '133m': 4, 'Intelligence': 4, 'Kiev': 4, 'entrants': 4, 'fulfilling': 4, 'reasoning': 4, 'unthinkable': 4, 'Saud': 4, '54m': 4, 'Francesco': 4, 'tussle': 4, 'Marianne': 4, 'imperative': 4, 'Use': 4, 'router': 4, 'LAN': 4, 'renovated': 4, 'RICS': 4, 'Garments': 4, 'Modern': 4, 'beefing': 4, 'fuller': 4, 'exhibitors': 4, 'Alert': 4, 'Retrieval': 4, 'Cache': 4, 'cyberspace': 4, 'Linpack': 4, 'modelling': 4, 'Alamos': 4, 'leaped': 4, 'frequencies': 4, 'Gerolami': 4, 'gateway': 4, 'Server': 4, 'Lima': 4, 'Chancay': 4, 'Peruvian': 4, 'bulbs': 4, '6GB': 4, '4GB': 4, 'syncing': 4, 'Zens': 4, 'WebSideStory': 4, 'Set': 4, '080': 4, 'primetime': 4, 'spilling': 4, 'Quested': 4, 'specification': 4, 'EBU': 4, 'squashed': 4, 'triumphing': 4, 'enveloping': 4, 'messy': 4, 'detection': 4, 'Shooting': 4, 'crazed': 4, 'unplayable': 4, 'buries': 4, 'adware': 4, 'Computeractive': 4, 'Traditional': 4, 'accompanies': 4, 'Niven': 4, 'polish': 4, 'Bungie': 4, 'blurring': 4, 'shells': 4, 'Amiga': 4, 'Infogrames': 4, 'probed': 4, 'Kalanick': 4, 'Swoosh': 4, 'experimentation': 4, 'commoditising': 4, 'Overpeer': 4, 'Unsigned': 4, 'incensed': 4, 'dissuading': 4, 'bewildering': 4, 'Stanford': 4, 'Bodleian': 4, 'NTT': 4, 'marker': 4, 'algorithms': 4, 'listener': 4, 'Josep': 4, 'espanol': 4, 'commercialised': 4, 'Latinohiphopradio': 4, 'Emcees': 4, 'bragging': 4, 'emcees': 4, 'surf': 4, '940': 4, 'demographics': 4, 'CCTV': 4, 'Digest': 4, 'Gescher': 4, 'basics': 4, 'Jedi': 4, 'relive': 4, 'abundance': 4, 'galaxy': 4, 'stirring': 4, 'frenetic': 4, 'novelty': 4, 'futurologist': 4, 'clumsily': 4, 'sensors': 4, 'Edgware': 4, 'ruined': 4, 'Mulligan': 4, 'Historically': 4, 'woven': 4, 'Bankash': 4, 'Sybari': 4, 'NHTCU': 4, 'tampered': 4, 'Galaxy': 4, 'Adventure': 4, 'Spooks': 4, 'Chaplin': 4, 'Collection': 4, 'Ultra': 4, 'wirelessly': 4, 'interfere': 4, 'rotate': 4, 'simulate': 4, 'muddied': 4, 'proponents': 4, 'excesses': 4, 'fbi': 4, 'gov': 4, 'questionnaire': 4, 'Recipients': 4, 'solicitations': 4, 'functioned': 4, 'Zenith': 4, 'subset': 4, 'abacus': 4, '1731': 4, '59th': 4, '1761': 4, '42nd': 4, 'Brownie': 4, 'Tivo': 4, 'QV': 4, 'crystalline': 4, 'Elsener': 4, '1891': 4, 'Pulsar': 4, 'quartz': 4, '98th': 4, '84th': 4, 'PDA': 4, 'Minidisc': 4, 'Tandy': 4, 'tinny': 4, 'Organiser': 4, 'usable': 4, 'Case': 4, 'err': 4, 'plugged': 4, 'invariably': 4, 'smartcards': 4, 'Romen': 4, 'Mbita': 4, 'cons': 4, 'solar': 4, 'root': 4, 'stealing': 4, 'Lite': 4, 'alphabets': 4, 'Cyrillic': 4, 'Registering': 4, 'ASCII': 4, 'Unicode': 4, 'alphabet': 4, 'Verisign': 4, 'mirrors': 4, 'staked': 4, 'captures': 4, 'Troy': 4, 'Stoddart': 4, 'maturing': 4, 'immeasurably': 4, 'Rarely': 4, 'Java': 4, 'TOO': 4, 'keypad': 4, 'futuristic': 4, 'scenarios': 4, 'molly': 4, 'coddled': 4, 'trimmings': 4, 'sprites': 4, 'arcades': 4, 'grunt': 4, 'wade': 4, 'gastropods': 4, 'fried': 4, 'spuds': 4, 'lick': 4, 'twinkle': 4, 'Ernie': 4, 'Wise': 4, 'briefcase': 4, 'eavesdrop': 4, 'One2One': 4, 'advent': 4, 'TfL': 4, 'IR': 4, 'Harker': 4, 'partnering': 4, 'playlists': 4, 'fray': 4, 'simulation': 4, 'Torvalds': 4, 'iRiver': 4, 'AV400': 4, 'Recording': 4, 'racer': 4, 'amputated': 4, 'Shift': 4, 'strokes': 4, 'ultraviolet': 4, 'sprayed': 4, 'nevertheless': 4, 'spates': 4, 'announces': 4, '35mm': 4, '2048': 4, 'Husson': 4, '3GP': 4, 'Etsi': 4, 'SonyEricsson': 4, 'lured': 4, '50GB': 4, 'PlayStations': 4, 'ravenous': 4, 'immersion': 4, 'Fitting': 4, 'compressing': 4, 'Cardwell': 4, 'Pal': 4, 'gait': 4, 'Carly': 4, 'fest': 4, '607': 4, 'Hub': 4, 'NPD': 4, 'WAP': 4, 'McAfee': 4, 'GeCAD': 4, 'Hailstorm': 4, 'Yusuf': 4, 'Copernic': 4, 'Enfish': 4, 'Counterfeit': 4, 'authenticity': 4, 'georgewbush': 4, 'Competitors': 4, 'Accurate': 4, 'handles': 4, 'foothold': 4, 'customise': 4, 'eminence': 4, 'Hardened': 4, 'novices': 4, 'Pfeifer': 4, 'plethora': 4, 'fore': 4, 'outsold': 4, 'themed': 4, 'additives': 4, 'antique': 4, 'workstation': 4, 'shallow': 4, 'selects': 4, 'Reflecting': 4, 'Nomad': 4, 'GNER': 4, 'decuk': 4, 'dec': 4, 'anomalies': 4, 'Instruments': 4, 'accessibility': 4, 'residual': 4, 'Berit': 4, 'activation': 4, 'impaired': 4, 'Loyalty': 4, 'chipped': 4, 'smartcard': 4, 'confronting': 4, 'AppleInsider': 4, 'Journalism': 4, 'LLU': 4, 'holidaymakers': 4, 'balmy': 4, 'validate': 4, 'IPods': 4, 'Rainie': 4, 'DeGroot': 4, 'salesman': 4, 'amassed': 4, 'Oblon': 4, 'insert': 4, 'moderation': 4, 'laziness': 4, 'overload': 4, 'Brunini': 4, 'Holzle': 4, 'woken': 4, 'cataloguing': 4, 'THX': 4, 'compress': 4, 'gigabits': 4, 'meticulous': 4, 'monkeys': 4, 'implanted': 4, 'Albany': 4, 'wheelchairs': 4, 'corrected': 4, 'Panlogic': 4, 'caf': 4, 'Catalan': 4, 'Partnership': 4, 'Language': 4, 'webcams': 4, 'Relay': 4, 'relays': 4, 'Especially': 4, 'Carnegie': 4, 'Raj': 4, 'Brewer': 4, 'G4': 4, '2Mbps': 4, '40Mbps': 4, 'zip': 4, 'homepage': 4, 'Ard': 4, 'Supermarket': 4, 'Invasion': 4, 'Numbering': 4, '106': 4, 'Towers': 4, 'Liu': 4, 'amplifies': 4, 'gallium': 4, 'arsenide': 4, 'colliding': 4, 'photons': 4, 'atoms': 4, 'absorbs': 4, 'errant': 4, 'Years': 4, 'eyebrows': 4, 'bouts': 4, 'hockey': 4, 'fingerprint': 4, 'Brisbane': 4, 'stairs': 4, 'Batter': 4, 'dominating': 4, 'refine': 4, 'mailing': 4, 'aggregators': 4, 'creators': 4, 'Monitoring': 4, 'downing': 4, 'retaliation': 4, 'props': 4, 'thinner': 4, 'auditions': 4, 'Bioware': 4, 'Vampire': 4, 'parrot': 4, 'redder': 4, 'Musiwave': 4, 'heralds': 4, 'iLife': 4, 'iPhoto': 4, 'Garage': 4, 'iDVD': 4, '80GB': 4, 'enterprising': 4, 'gigapixel': 4, 'panoramic': 4, 'overlap': 4, 'Alongside': 4, 'disguising': 4, 'bestselling': 4, 'Maine': 4, 'Nolan': 4, 'robotiquette': 4, 'RPG': 4, 'moniker': 4, 'Namibia': 4, 'evaporate': 4, 'Optimists': 4, 'grassroot': 4, 'VoIP': 4, 'innovate': 4, 'Fi': 4, 'filler': 4, 'husbands': 4, 'boyfriends': 4, 'geeks': 4, 'reconditioned': 4, 'Messaging': 4, 'rotating': 4, 'viewfinders': 4, 'Image': 4, 'Rankin': 4, 'Asymmetry': 4, 'presentations': 4, 'squeezing': 4, 'lithium': 4, 'XML': 4, 'coders': 4, 'Alley': 4, 'aggregator': 4, 'Engerwitzdorf': 4, 'Aon': 4, 'Visitors': 4, 'insecure': 4, 'megabit': 4, 'MP3s': 4, 'defunct': 4, 'penetrating': 4, 'squash': 4, 'geared': 4, 'Satellite': 4, 'herald': 4, 'Sci': 4, 'Legend': 4, 'Battlefield': 4, 'Riddick': 4, 'Butcher': 4, 'Unsung': 4, 'Microsystems': 4, '53p': 4, 'ours': 4, 'Computing': 4, '056': 4, 'emotion': 4, 'Distributed': 4, 'Denial': 4, 'precede': 4, 'originated': 4, 'alphabetically': 4, 'Nice': 4, 'encompasses': 4, 'encompass': 4, 'Lifestyles': 4, 'notching': 4, 'Sankus': 4, 'Townsden': 4, 'Owning': 4, '455': 4, '902': 4, 'Pentax': 4, 'Optio': 4, 'SV': 4, 'YH': 4, '999': 4, 'sexier': 4, 'imaginations': 4, 'Patentability': 4, 'Hardware': 4, 'vandals': 4, 'initiating': 4, 'EEOC': 4, 'anonymity': 4, 'encryption': 4, 'Nobles': 4, 'routing': 4, 'phpBB': 4, 'Warnings': 4, 'blacklists': 4, 'filtering': 4, 'folders': 4, 'Scandinavians': 4, 'adventurous': 4, 'frames': 4, 'overplayed': 4, 'token': 4, 'Activcard': 4, 'passcode': 4, 'authentication': 4, 'Suppliers': 4, '9Mbps': 4, 'Optimised': 4, '6Mbps': 4, 'Christoph': 4, 'Caselitz': 4, 'Fraunhofer': 4, 'Sino': 4, 'Applied': 4, 'transmitting': 4, 'harness': 4, 'unlocked': 4, 'bailed': 4, 'undercover': 4, 'Detective': 4, 'Casual': 4, 'poker': 4, 'spec': 4, 'Goosens': 4, 'Viruses': 4, 'vivid': 4, 'gears': 4, 'Heretic': 4, 'walks': 4, 'helper': 4, 'exoskeletons': 4, 'Design': 4, 'Avineri': 4, 'malware': 4, 'categorisation': 4, 'criminality': 4, 'GHz': 4, '178m': 4, 'wadis': 4, '8Mbps': 4, 'Hanlon': 4, 'Adamind': 4, 'funky': 4, 'shy': 4, 'Mblox': 4, 'swamping': 4, '5km': 4, 'transparently': 4, 'conform': 4, 'Zed': 4, 'flouting': 4, 'resent': 4, 'amends': 4, 'spoilt': 4, 'dazzling': 4, 'niggling': 4, 'Spiderman': 4, 'vacation': 4, 'bothered': 4, 'Connection': 4, 'subscribes': 4, 'unsubscribe': 4, 'fledgling': 4, 'Advertising': 4, 'CeBit': 4, 'Elspa': 4, 'matured': 4, 'impairments': 4, 'Renton': 4, 'RNIB': 4, '512K': 4, 'Ethernet': 4, 'Athlon': 4, 'Performance': 4, 'unfolds': 4, 'DVRs': 4, 'Populous': 4, 'acrobatic': 4, 'Pairing': 4, 'imagined': 4, 'Everett': 4, 'intimate': 4, 'versatile': 4, 'spitting': 4, 'Nate': 4, 'Leadplex': 4, 'Wride': 4, 'Bysshe': 4, 'Treacy': 4, 'Celebrities': 4, 'journalism': 4, 'spamming': 4, 'Currie': 4, 'departed': 4, 'serendipity': 4, 'keywords': 4, 'wandering': 4, 'Wide': 4, 'gems': 4, 'OF': 4, 'THE': 4, 'trailer': 4, 'enigmatic': 4, 'intriguing': 4, 'Cumming': 4, 'Alerting': 4, 'Yates': 4, 'Salam': 4, 'gatekeeper': 4, 'overloaded': 4, 'Powergen': 4, 'Cahoot': 4, 'educationalists': 4, 'MacIntyre': 4, 'Massively': 4, 'EQ': 4, 'quests': 4, 'encouragement': 4, 'paused': 4, 'Hell': 4, 'negatively': 4, 'thwarts': 4, 'wrap': 4, 'fragmentation': 4, 'Confusingly': 4, 'Sure': 4, 'Shelley': 4, 'undergone': 4, 'progresses': 4, 'feline': 4, 'void': 4, 'et': 4, 'Ontrack': 4, 'Intervoice': 4, 'organizations': 4, 'Smallpox': 4, 'Snappy': 4, 'Snaps': 4, '8x10in': 4, 'bespectacled': 4, 'tiresome': 4, 'Running': 4, 'cue': 4, 'suburbs': 4, 'overhauled': 4, 'Bobo': 4, 'Hoeft': 4, 'Waugh': 4, 'Kefu': 4, 'humbled': 4, 'minnows': 4, 'Edelman': 4, 'fabulous': 4, '107': 4, '1905': 4, 'provincial': 4, 'Bernardo': 4, 'Juniors': 4, 'tranquillity': 4, 'ugly': 4, 'melancholy': 4, 'Pole': 4, '88m': 4, 'Heymans': 4, 'thundering': 4, 'Referees': 4, 'footballing': 4, 'goalwards': 4, 'Moxey': 4, 'Saha': 4, 'Djemba': 4, 'Staffordshire': 4, 'faulted': 4, 'racket': 4, 'scoresheet': 4, 'Mariano': 4, 'Felix': 4, 'Novak': 4, 'Montanes': 4, 'evacuated': 4, 'Florentino': 4, 'standings': 4, 'torrid': 4, 'Auvergne': 4, 'consisting': 4, 'heroics': 4, 'parried': 4, 'stopper': 4, 'Weaver': 4, 'Tokumasu': 4, 'unassailable': 4, 'vociferous': 4, 'rubbers': 4, 'Garros': 4, '04secs': 4, 'Vincze': 4, 'Horvath': 4, 'McNamee': 4, 'Tama': 4, 'Wigglesworth': 4, 'Lombard': 4, 'Chabal': 4, 'stumbled': 4, 'McGee': 4, 'Fear': 4, 'convene': 4, 'Claudio': 4, 'Primera': 4, 'Martina': 4, 'Toby': 4, 'acquittal': 4, 'compulsive': 4, 'Aussie': 4, '127th': 4, 'Seles': 4, 'absentee': 4, 'Unicef': 4, 'Ioanidis': 4, 'cum': 4, 'selectors': 4, '6ft': 4, 'flown': 4, 'tore': 4, 'Gevaert': 4, 'Nacho': 4, 'thumped': 4, 'Balde': 4, 'Henchoz': 4, 'Zola': 4, 'Gharafa': 4, 'Marseilles': 4, 'Maldini': 4, 'openside': 4, '95m': 4, 'Savante': 4, 'Stringfellow': 4, 'supplement': 4, 'Newly': 4, '24th': 4, 'Charleroi': 4, 'Robby': 4, 'Taik': 4, 'Carlsen': 4, 'supplements': 4, 'spurned': 4, 'hoisted': 4, 'magnificently': 4, 'Warriors': 4, 'Hitzlsperger': 4, 'fracture': 4, 'Papadoyiannakis': 4, 'EPO': 4, 'sanctioned': 4, 'Feofanova': 4, 'sided': 4, 'awkward': 4, 'Stepanek': 4, 'Colchester': 4, 'autobiography': 4, 'Eindhoven': 4, 'Deirdre': 4, '87m': 4, 'Shannon': 4, 'enraged': 4, 'Embu': 4, 'Puerto': 4, 'pentathlon': 4, 'Jeanette': 4, 'Cesc': 4, 'ephedrine': 4, 'stimulant': 4, 'fuming': 4, 'Di': 4, 'Fullarton': 4, 'characteristic': 4, 'carve': 4, 'pulsating': 4, 'sensation': 4, 'Athletes': 4, 'tick': 4, 'tripped': 4, 'Werder': 4, 'Bremen': 4, 'bamboozled': 4, 'Enqvist': 4, 'cruised': 4, 'Thie': 4, 'Hoadley': 4, 'Birkett': 4, 'Everitt': 4, 'Injured': 4, 'Upson': 4, 'Carlton': 4, 'Spoon': 4, 'revelling': 4, 'Personality': 4, 'Rigoglioso': 4, 'accidental': 4, 'EAA': 4, 'resultant': 4, 'Harper': 4, 'Booked': 4, 'Nieminen': 4, 'abdominal': 4, 'Raiwalui': 4, 'McMillan': 4, 'Astiazaran': 4, 'Clarets': 4, 'HEAD': 4, 'Narraway': 4, 'Feyenoord': 4, 'Tynecastle': 4, 'construed': 4, 'Rhinos': 4, 'Endacott': 4, 'Garland': 4, 'dour': 4, 'Arnaud': 4, 'Nikolay': 4, 'Rico': 4, 'Chorley': 4, 'McKoy': 4, 'Pacquette': 4, 'Vivancos': 4, 'Dudley': 4, '63secs': 4, 'ruing': 4, 'Ambrose': 4, 'linesman': 4, 'Dad': 4, 'Wiley': 4, 'Teenager': 4, 'stalwart': 4, 'Gleeson': 4, 'annoys': 4, 'Karol': 4, 'unflappable': 4, 'dreaming': 4, 'courters': 4, 'headbutt': 4, 'unrepentant': 4, 'headbutted': 4, 'Worlds': 4, 'Legendary': 4, 'Aiden': 4, 'Jonah': 4, 'stroked': 4, 'deft': 4, 'breathed': 4, 'fumbled': 4, 'Czink': 4, 'gripping': 4, 'uninformed': 4, 'rumbled': 4, 'Meseret': 4, 'Flora': 4, 'Echo': 4, 'Watford': 4, 'Yeovil': 4, 'Donnie': 4, 'Primus': 4, 'planted': 4, 'Yakubu': 4, 'palmed': 4, 'Cisse': 4, 'Elhorga': 4, 'sour': 4, 'hey': 4, 'blatantly': 4, 'Fawcett': 4, 'exhausted': 4, 'disrespect': 4, 'overworked': 4, 'Mullen': 4, 'Worse': 4, 'workmanlike': 4, 'kickable': 4, 'sparkling': 4, 'latched': 4, 'raring': 4, 'Moorcroft': 4, 'Barnes': 4, 'Melville': 4, 'Basel': 4, 'Rowell': 4, 'Tomas': 4, 'Paseo': 4, 'Anoeta': 4, 'Eagles': 4, 'Petrova': 4, 'bumps': 4, 'lurking': 4, 'hash': 4, 'nous': 4, 'padding': 4, 'mazy': 4, 'loads': 4, 'scamper': 4, 'KP': 4, '67th': 4, 'Harrow': 4, 'Southall': 4, 'Middlesex': 4, 'Queudrue': 4, 'Karkouri': 4, 'Marseille': 4, 'chicken': 4, 'pox': 4, 'Deportivo': 4, 'casualty': 4, 'Elene': 4, 'Likhotseva': 4, 'Jie': 4, 'Bartoli': 4, 'Patty': 4, 'Schnyder': 4, 'windy': 4, 'inept': 4, 'witch': 4, 'felled': 4, 'motivating': 4, 'Reacting': 4, 'Bnei': 4, 'Tunisian': 4, 'Hassel': 4, 'thunderous': 4, 'exuberance': 4, 'medallists': 4, 'bloody': 4, 'creaky': 4, 'Mokoena': 4, 'conquering': 4, 'avenues': 4, 'IFA': 4, 'McCreadie': 4, 'Pedrazzi': 4, 'Hibbert': 4, 'Alli': 4, 'Brownsword': 4, 'Likhovtseva': 4, 'pizza': 4, 'ensuing': 4, 'Frisk': 4, 'hometown': 4, 'Blatter': 4, 'Andriy': 4, '8km': 4, 'Francesca': 4, 'Johann': 4, 'jackass': 4, 'Agen': 4, 'prank': 4, 'Cope': 4, 'Geary': 4, 'plumping': 4, 'Unusually': 4, 'Vozvrashchenie': 4, 'Andrey': 4, 'Zvyagintsev': 4, 'Yimou': 4, 'Belleville': 4, 'poems': 4, 'Pointon': 4, 'Goldeneye': 4, 'Zeta': 4, '1954': 4, 'Dido': 4, 'Lionel': 4, 'Proceeds': 4, 'Endicott': 4, 'mastery': 4, 'NME': 4, 'Britpop': 4, 'courageously': 4, 'Theatregoers': 4, 'Goat': 4, 'Measure': 4, 'Flew': 4, 'Cuckoo': 4, 'Nest': 4, 'Bethan': 4, 'championing': 4, '2300': 4, 'reissues': 4, 'Grief': 4, 'Grows': 4, 'Bee': 4, 'Gees': 4, 'Ciara': 4, 'BMG': 4, 'audition': 4, 'AR': 4, 'Rahman': 4, 'Mull': 4, 'Massive': 4, 'Carey': 4, 'Anita': 4, 'F4': 4, 'Biz': 4, 'Winterbottom': 4, 'Panorama': 4, 'Southan': 4, 'unseen': 4, 'Pepsi': 4, 'Aquatic': 4, 'roster': 4, 'Incredible': 4, '857m': 4, 'Tu': 4, 'Tambien': 4, 'Divo': 4, 'shorten': 4, 'Shortlist': 4, 'enjoyment': 4, '1958': 4, 'Bugsy': 4, 'recreated': 4, 'Rifkin': 4, 'Bizet': 4, 'premiered': 4, 'Give': 4, 'Keaton': 4, 'Meteor': 4, 'Mack': 4, '1959': 4, 'Mountain': 4, 'Pawlikowski': 4, 'Hustle': 4, 'Norton': 4, 'Claus': 4, '211bn': 4, '08bn': 4, '102m': 4, 'Spirited': 4, 'Samurai': 4, '497bn': 4, 'playwrights': 4, 'musicals': 4, 'Conleth': 4, 'Donmar': 4, 'Warehouse': 4, 'Rambert': 4, 'Sadler': 4, 'publicist': 4, 'duets': 4, 'bestseller': 4, 'Hellewell': 4, 'Rounding': 4, 'Quaid': 4, 'Scarlett': 4, 'Buddy': 4, 'Roll': 4, 'blackmail': 4, 'devil': 4, 'revitalised': 4, 'Conductor': 4, 'Marcello': 4, 'Scala': 4, 'Jules': 4, 'Thais': 4, 'Verdi': 4, 'Ariadne': 4, 'auf': 4, 'Naxos': 4, 'Roi': 4, 'Giacomo': 4, 'Puccini': 4, 'Butterfly': 4, 'Boheme': 4, 'Fromental': 4, 'Halevy': 4, 'Juive': 4, 'Rasheed': 4, 'showbusiness': 4, 'tributes': 4, 'Wentworth': 4, 'Guitarist': 4, 'ashes': 4, 'precedence': 4, 'supergroup': 4, 'Crimson': 4, 'Mott': 4, 'Hoople': 4, 'vocals': 4, 'Superstar': 4, 'Mobos': 4, 'autobiographical': 4, 'Tudor': 4, 'Dust': 4, 'Attallah': 4, 'Shabazz': 4, 'quoting': 4, 'forty': 4, 'Travers': 4, 'Unforgiven': 4, 'Motormouth': 4, 'Primer': 4, 'shootings': 4, 'Son': 4, 'banked': 4, 'Invention': 4, 'Veterans': 4, 'Garfunkel': 4, 'Supergrass': 4, 'Ya': 4, 'Boi': 4, 'McFeeley': 4, 'Applegate': 4, 'Shirley': 4, 'Doctor': 4, 'Vatican': 4, 'overtones': 4, 'Herlihy': 4, 'Peaks': 4, 'Wants': 4, 'Onyx': 4, 'censor': 4, 'brawl': 4, 'Kinross': 4, 'religiosity': 4, 'depiction': 4, 'Barley': 4, 'satire': 4, 'sketch': 4, 'caper': 4, '184m': 4, 'unabashedly': 4, 'resting': 4, 'Yearwood': 4, 'Apollo': 4, 'censors': 4, 'Cates': 4, 'musically': 4, 'smuggler': 4, 'Kind': 4, 'Barrymore': 4, 'Icon': 4, 'Productions': 4, 'Places': 4, 'soulful': 4, 'Lenny': 4, 'Origin': 4, 'Sundays': 4, 'Coronation': 4, 'Pizzorno': 4, 'Foot': 4, 'chronicles': 4, 'Jonesboro': 4, 'demeaning': 4, 'Idiot': 4, 'Skeens': 4, 'happiness': 4, 'Paraguay': 4, 'honourary': 4, 'Roth': 4, 'Nightmare': 4, 'Elm': 4, 'Modest': 4, 'Esquive': 4, 'Novelist': 4, 'Fairbanks': 4, 'Muriel': 4, 'Daddy': 4, 'jackpot': 4, 'tallied': 4, 'confines': 4, 'Charts': 4, 'parole': 4, 'marijuana': 4, 'Boo': 4, 'Dukes': 4, 'Hazzard': 4, 'abysmal': 4, 'Noggin': 4, 'Nog': 4, 'Torch': 4, 'hippy': 4, 'Bloody': 4, 'Shogo': 4, 'Tomiyama': 4, 'hereby': 4, 'guitarists': 4, 'Benjamin': 4, 'Mamma': 4, 'Ulvaeus': 4, 'Faltskog': 4, 'Climan': 4, 'evaded': 4, 'spider': 4, 'heyday': 4, 'Bashir': 4, 'Roosevelt': 4, 'Left': 4, 'Crucible': 4, 'Boxer': 4, 'Shochiku': 4, 'Nipple': 4, 'sweatshirt': 4, '292': 4, 'Mischer': 4, 'Gentleman': 4, 'reuniting': 4, 'ICRC': 4, 'Bakley': 4, 'Figaro': 4, 'Marley': 4, 'McClelland': 4, 'Gone': 4, 'disloyal': 4, 'Adler': 4, 'Vibe': 4, 'telethon': 4, '1962': 4, 'Craymer': 4, 'Secrets': 4, 'lyricist': 4, 'Cinematographer': 4, 'vagina': 4, 'Kudrow': 4, 'smell': 4, 'depicts': 4, 'Voldemort': 4, 'Quirky': 4, 'Darcey': 4, 'Bussell': 4, 'Ticket': 4, 'Blackadder': 4, 'Lichtenstein': 4, 'cannibals': 4, 'Bon': 4, 'Harlin': 4, 'retrospective': 4, 'Manics': 4, 'ass': 4, 'saver': 4, 'nude': 4, 'Moped': 4, 'skater': 4, 'rink': 4, 'Thin': 4, 'touts': 4, 'Won': 3, 'tracts': 3, 'secretive': 3, 'contraception': 3, 'depict': 3, 'blackboard': 3, '=': 3, 'Dickens': 3, 'Temko': 3, 'Shylock': 3, 'cock': 3, 'emphasise': 3, 'misjudgement': 3, 'Educational': 3, 'Malik': 3, 'Shahid': 3, 'reflective': 3, 'underhand': 3, 'Midlothian': 3, 'tirelessly': 3, 'unjust': 3, 'Jobcentres': 3, 'sensibly': 3, 'regenerate': 3, 'Greenwich': 3, 'Delivery': 3, 'pie': 3, 'Exhibition': 3, 'inappropriately': 3, 'Macdonald': 3, 'discounting': 3, 'convicting': 3, 'Betting': 3, 'Condon': 3, 'derisory': 3, 'penalising': 3, 'monarchy': 3, 'divorced': 3, 'congratulations': 3, 'engagements': 3, 'Clarence': 3, 'stun': 3, 'unpleasant': 3, 'Military': 3, 'battalion': 3, 'bang': 3, 'Blackman': 3, 'Nottinghamshire': 3, 'tout': 3, 'hereditaries': 3, '385': 3, 'Temple': 3, 'Amritsar': 3, 'characterised': 3, 'unanswered': 3, 'faltered': 3, 'Somehow': 3, 'Study': 3, 'BSE': 3, 'backbenches': 3, 'unseat': 3, 'Damian': 3, 'Hulme': 3, 'centrepiece': 3, 'gases': 3, 'Mutual': 3, 'renovate': 3, 'Spelman': 3, 'Terror': 3, 'wire': 3, 'resentment': 3, 'Recep': 3, 'Erdogan': 3, 'disturbances': 3, 'Merseyside': 3, 'beings': 3, 'clocks': 3, 'trickery': 3, 'unawares': 3, 'fades': 3, 'ratcheting': 3, 'strip': 3, 'curbing': 3, 'pets': 3, 'anecdotal': 3, 'Privileges': 3, 'planting': 3, 'dismisses': 3, 'simplest': 3, 'Peers': 3, 'stoking': 3, 'unworkable': 3, '`': 3, 'Were': 3, 'depicted': 3, 'tbwa': 3, 'Posters': 3, 'Paxman': 3, 'dreamt': 3, 'dumpsite': 3, 'armed': 3, 'DTI': 3, 'Secondary': 3, 'Heads': 3, 'Beverley': 3, 'toughened': 3, 'bigots': 3, 'tainted': 3, 'troublemakers': 3, 'Document': 3, 'Gwyneth': 3, 'avert': 3, 'averting': 3, 'balloting': 3, 'shower': 3, 'slug': 3, 'valleys': 3, 'assumes': 3, 'injure': 3, 'lawfully': 3, 'Mercer': 3, 'adage': 3, 'Englishman': 3, 'castle': 3, 'murdering': 3, 'frighten': 3, 'temper': 3, 'impetuosity': 3, 'IFS': 3, 'enacted': 3, 'integrating': 3, 'Barlinnie': 3, 'Session': 3, '310': 3, 'jails': 3, 'Maseru': 3, 'Basra': 3, '86m': 3, 'adversely': 3, 'YouGov': 3, 'derided': 3, 'environmentalists': 3, 'Fuel': 3, 'Billions': 3, 'Cormac': 3, 'denounce': 3, 'devote': 3, 'Cathedral': 3, 'genie': 3, 'Haskins': 3, 'confound': 3, 'petty': 3, 'provocative': 3, 'scheduling': 3, 'Sedgefield': 3, 'courteous': 3, 'Cockerell': 3, 'descended': 3, 'Link': 3, 'cried': 3, 'Debate': 3, 'seminar': 3, 'Opportunities': 3, 'intensely': 3, 'Hiding': 3, 'veils': 3, 'Emmerson': 3, 'overtaking': 3, 'exchequer': 3, 'Waterfront': 3, 'unmatched': 3, 'Profile': 3, 'elude': 3, 'milestone': 3, '1908': 3, '1951': 3, 'PhD': 3, 'bickering': 3, 'hacks': 3, 'Blairite': 3, 'Amid': 3, 'unsealed': 3, 'raid': 3, 'Afzal': 3, 'Kazi': 3, '275': 3, 'neatly': 3, 'Observers': 3, 'scrutinising': 3, 'Nattrass': 3, '4th': 3, 'Pointing': 3, 'excessively': 3, 'nutters': 3, 'parry': 3, 'consultations': 3, 'arbitrarily': 3, 'reviewer': 3, 'madness': 3, 'rewriting': 3, 'Qualifications': 3, 'attainment': 3, 'publicised': 3, 'complains': 3, 'chatshow': 3, 'landlords': 3, 'Liverpudlians': 3, 'grieving': 3, 'butt': 3, 'curious': 3, 'curry': 3, 'Hillsborough': 3, 'museums': 3, 'redress': 3, 'reps': 3, 'roving': 3, 'inspections': 3, 'legitimacy': 3, 'renewing': 3, 'CRE': 3, 'Ethnic': 3, 'patrols': 3, 'deportations': 3, 'shameful': 3, 'trafficking': 3, 'inequalities': 3, '2013': 3, 'defects': 3, 'Bills': 3, 'basing': 3, 'Taken': 3, 'Islamophobia': 3, 'disability': 3, 'deselected': 3, 'lamentable': 3, 'levied': 3, 'lingering': 3, 'persistently': 3, 'breathe': 3, 'disinterested': 3, 'motions': 3, 'AM': 3, '311': 3, 'flak': 3, 'sparks': 3, 'revelations': 3, 'fullest': 3, 'temple': 3, 'Hindu': 3, 'principled': 3, 'demonstrations': 3, 'Anglers': 3, 'neglect': 3, 'amend': 3, 'recreational': 3, 'persons': 3, 'irreversible': 3, 'mammals': 3, 'Quorn': 3, 'Accepting': 3, 'Retirement': 3, 'incapable': 3, 'ceased': 3, 'relevance': 3, 'publicising': 3, 'Brilliant': 3, 'fracturing': 3, 'vanity': 3, 'ridicule': 3, 'resorted': 3, 'discredit': 3, 'tan': 3, 'refreshing': 3, 'cringe': 3, 'armour': 3, 'pray': 3, 'dissipated': 3, 'defecting': 3, 'soundbite': 3, 'Possibly': 3, 'spine': 3, 'instability': 3, 'Loch': 3, 'quip': 3, 'Archy': 3, 'Kirkwood': 3, 'disenchanted': 3, 'incitement': 3, 'Tyndall': 3, 'racially': 3, 'aggravated': 3, 'Bid': 3, 'disguised': 3, 'unavoidable': 3, 'Leblanc': 3, 'Massacre': 3, 'misused': 3, 'reinforcing': 3, 'foolishly': 3, 'lump': 3, 'Export': 3, 'MoD': 3, 'electors': 3, 'mistrust': 3, 'upholding': 3, 'mortal': 3, 'yearned': 3, 'Winston': 3, 'Adriatic': 3, 'tyrants': 3, 'Evidence': 3, 'immunity': 3, 'fanatics': 3, 'compassion': 3, 'totalitarianism': 3, 'Orwell': 3, 'un': 3, 'ANY': 3, 'idealistic': 3, 'gut': 3, 'fundamentalist': 3, 'questionable': 3, 'Isles': 3, 'Terrorist': 3, 'WWII': 3, 'loyalist': 3, 'someday': 3, 'wholehearted': 3, 'persuasion': 3, 'incidentally': 3, 'invaded': 3, 'Prophet': 3, 'survivor': 3, 'Notwithstanding': 3, 'retaliatory': 3, '1940': 3, 'Hale': 3, 'documented': 3, 'troubling': 3, 'Scotsman': 3, 'Hamish': 3, 'diverts': 3, 'regretting': 3, 'Grade': 3, 'Brightside': 3, 'Hallam': 3, 'Braille': 3, 'wry': 3, 'Citizenship': 3, 'forgive': 3, 'arenas': 3, 'clarifying': 3, 'mailings': 3, 'summon': 3, 'bucket': 3, 'shouted': 3, 'SIAC': 3, 'Neurone': 3, 'Superman': 3, 'sentencers': 3, 'Asylum': 3, 'prostitution': 3, 'weeded': 3, 'vague': 3, 'Torbay': 3, 'Precious': 3, 'Describing': 3, 'Maggie': 3, 'Ban': 3, 'definitions': 3, 'judgements': 3, 'Beaufort': 3, 'qualms': 3, 'slums': 3, 'mud': 3, 'unwise': 3, 'bias': 3, 'apathy': 3, 'doorstep': 3, 'Spence': 3, 'jaded': 3, 'Brownite': 3, 'roasting': 3, 'bloke': 3, 'Swan': 3, 'suppress': 3, 'showpiece': 3, 'Telford': 3, 'pandering': 3, 'taped': 3, 'Joni': 3, 'insults': 3, 'Ballard': 3, 'influx': 3, 'intake': 3, 'Keynes': 3, 'memorandums': 3, 'dodging': 3, 'Sandford': 3, 'Drive': 3, 'Usdaw': 3, 'directives': 3, '264m': 3, 'Glyn': 3, '630': 3, 'ousting': 3, 'resurrect': 3, 'Arafat': 3, 'stationed': 3, 'Laying': 3, 'ERM': 3, 'repossessed': 3, 'trumpeting': 3, 'derailed': 3, 'Railtrack': 3, 'Sussex': 3, 'practically': 3, 'Caborn': 3, 'savages': 3, 'Crisis': 3, 'chemistry': 3, 'cohesion': 3, 'intolerant': 3, 'intolerance': 3, 'Fiona': 3, 'Limiting': 3, '108': 3, 'ADSS': 3, 'practicable': 3, 'delegate': 3, 'Wanless': 3, 'Levels': 3, '560': 3, 'bonfire': 3, 'stubborn': 3, 'patrol': 3, 'compelled': 3, 'Sensible': 3, 'HQ': 3, 'winnable': 3, 'achievable': 3, 'slanging': 3, 'hecklers': 3, 'contrived': 3, 'aspirations': 3, 'Pressed': 3, 'incapacity': 3, 'juvenile': 3, 'cosmetic': 3, 'Educated': 3, 'Guards': 3, 'roots': 3, 'Navy': 3, 'Elected': 3, 'smelling': 3, 'mugs': 3, 'ridiculed': 3, 'hug': 3, 'homecoming': 3, '750m': 3, 'Adair': 3, 'hairdressing': 3, 'Too': 3, 'indignity': 3, 'Darling': 3, 'Exchequer': 3, 'recouped': 3, 'whining': 3, 'supermarkets': 3, 'exploitation': 3, 'negatives': 3, 'afloat': 3, 'incompetent': 3, 'hello': 3, 'southwest': 3, 'dare': 3, 'coincidental': 3, 'elites': 3, 'paltry': 3, 'Seems': 3, 'hardship': 3, 'differential': 3, 'Youth': 3, 'GCSE': 3, 'Sleaford': 3, 'augment': 3, '1949': 3, 'plumb': 3, 'mobilise': 3, 'postponing': 3, 'lorry': 3, 'Dragon': 3, 'defector': 3, 'swim': 3, 'surpluses': 3, 'Organised': 3, 'JCWI': 3, 'wed': 3, 'Rhian': 3, 'convenience': 3, 'deterrent': 3, 'draconian': 3, 'Ditto': 3, 'McCabe': 3, 'Knox': 3, 'bureaucrats': 3, 'Lawyer': 3, 'ignorant': 3, 'dioxide': 3, 'Budgets': 3, 'hides': 3, 'beg': 3, 'prominently': 3, '1p': 3, '895': 3, 'Mother': 3, 'convey': 3, 'residence': 3, 'Miguel': 3, 'unfinished': 3, 'rebuff': 3, 'hollow': 3, 'hastily': 3, 'bewilderment': 3, 'Sue': 3, 'WLGA': 3, 'utmost': 3, 'males': 3, 'Succession': 3, 'Doubling': 3, 'preoccupation': 3, 'departmental': 3, 'deceit': 3, 'backlogs': 3, 'brutally': 3, 'uncompromising': 3, 'Definitely': 3, 'restrict': 3, 'Cities': 3, 'apartheid': 3, 'Vicky': 3, 'Giles': 3, 'bobby': 3, 'volunteered': 3, 'renegotiation': 3, 'swastika': 3, 'armband': 3, 'Teddy': 3, 'Coastal': 3, 'clarified': 3, 'fluids': 3, 'LCF': 3, 'unscrupulous': 3, 'updating': 3, 'Mencap': 3, 'embroiled': 3, 'upholds': 3, 'bent': 3, 'Rix': 3, 'foreword': 3, 'instalments': 3, 'Elderly': 3, 'beds': 3, 'Rogers': 3, 'chronically': 3, 'commanded': 3, 'BAE': 3, '001': 3, 'Consulting': 3, 'seminars': 3, 'colluded': 3, 'piloted': 3, 'confrontational': 3, 'terminal': 3, 'murderer': 3, 'exercises': 3, 'ranged': 3, 'entrenched': 3, 'cow': 3, 'spied': 3, 'Perm': 3, 'infectious': 3, 'shrugs': 3, 'gloating': 3, '0800': 3, '105m': 3, 'dispose': 3, 'turmoil': 3, 'obsessively': 3, 'Buckinghamshire': 3, 'Stability': 3, 'Deputies': 3, 'Politics': 3, 'guarded': 3, 'mooted': 3, 'UAF': 3, 'crumble': 3, 'holistic': 3, 'solidarity': 3, 'presidents': 3, 'HMS': 3, 'vessel': 3, '1130': 3, 'dynamism': 3, 'Allawi': 3, 'communiqu': 3, 'Questioned': 3, 'unearthed': 3, 'charitable': 3, 'smattering': 3, 'eccentric': 3, 'Sergeant': 3, 'crestfallen': 3, 'Rodney': 3, 'Potts': 3, 'fraudster': 3, 'shouldering': 3, 'Willetts': 3, 'desk': 3, 'rattle': 3, '168': 3, 'cheering': 3, 'invoices': 3, 'inkling': 3, 'afoot': 3, 'bury': 3, 'Pepper': 3, 'disco': 3, 'exchanging': 3, 'revels': 3, 'nodding': 3, 'Thanks': 3, 'instruction': 3, 'Forward': 3, 'stimulating': 3, 'Naturally': 3, 'located': 3, 'costings': 3, 'charade': 3, 'ploy': 3, 'coma': 3, 'barrage': 3, 'hurriedly': 3, 'authorising': 3, 'authorisation': 3, 'shoes': 3, 'faded': 3, 'parable': 3, 'trumped': 3, 'downright': 3, 'desperation': 3, 'cleaned': 3, '276': 3, 'Departments': 3, 'exercised': 3, 'cave': 3, 'Trials': 3, 'similarities': 3, 'destructive': 3, 'vigorously': 3, '161': 3, 'amending': 3, 'unravel': 3, 'Ah': 3, 'vaunted': 3, 'flouted': 3, 'Oona': 3, 'Unity': 3, 'fortress': 3, 'harming': 3, 'Nat': 3, 'recipe': 3, 'Possible': 3, 'Tax': 3, 'rocketed': 3, 'wonderfully': 3, 'adultery': 3, 'Addison': 3, 'authorise': 3, 'ancestors': 3, 'warrant': 3, 'Plot': 3, 'Tutsis': 3, 'Hutu': 3, 'orphans': 3, 'desolate': 3, 'advancing': 3, 'dull': 3, 'tedious': 3, 'Battalion': 3, 'Gurkha': 3, 'Rifles': 3, 'logistical': 3, 'Representatives': 3, 'MCB': 3, 'illusion': 3, 'constraint': 3, 'Article': 3, 'horns': 3, 'fissile': 3, 'Creating': 3, '336m': 3, 'cottage': 3, 'Elfyn': 3, 'renegade': 3, 'Milk': 3, 'Committees': 3, 'jackets': 3, 'ironed': 3, 'shelved': 3, 'affordability': 3, 'breathtaking': 3, 'cloning': 3, '028': 3, 'shredding': 3, 'noses': 3, 'acceleration': 3, 'poaching': 3, 'Bicester': 3, '840': 3, 'Sykes': 3, 'knowingly': 3, 'prey': 3, 'leavers': 3, 'compiling': 3, 'Moves': 3, 'Nato': 3, 'impossibly': 3, 'reverses': 3, 'endorse': 3, 'Katwala': 3, 'inauguration': 3, '130m': 3, 'quizzed': 3, 'greener': 3, 'stinging': 3, 'shortcomings': 3, 'brown': 3, 'Finnie': 3, 'Peterhead': 3, 'variation': 3, 'Defiant': 3, 'Hoey': 3, '8am': 3, 'conclusive': 3, 'vouchers': 3, 'notable': 3, 'angering': 3, 'backtrack': 3, 'evolve': 3, 'sanitation': 3, 'settles': 3, 'Lifetime': 3, 'Sugar': 3, 'Kamal': 3, 'confectionery': 3, 'execution': 3, 'sibling': 3, 'ounce': 3, 'adjustment': 3, 'sanguine': 3, 'capitalism': 3, 'safeguarding': 3, 'landmines': 3, 'aluminium': 3, 'Pharmaceutical': 3, 'offsetting': 3, 'mergers': 3, 'irregular': 3, 'fool': 3, '206bn': 3, 'stances': 3, 'Copper': 3, '950m': 3, 'substitutes': 3, 'prejudices': 3, 'evaluation': 3, 'unrelated': 3, 'Doubts': 3, '216': 3, 'Adjusted': 3, 'defines': 3, 'Disappointing': 3, 'Calyon': 3, 'throat': 3, 'AIDS': 3, 'progressing': 3, 'synonymous': 3, 'cholesterol': 3, 'Crude': 3, 'revision': 3, 'revise': 3, 'Alencar': 3, 'Ruben': 3, 'depreciation': 3, '274': 3, '984m': 3, 'vow': 3, '211': 3, '377bn': 3, 'uplift': 3, 'Clearing': 3, '116': 3, '47m': 3, 'Yamaha': 3, 'preferential': 3, 'overcapacity': 3, 'consent': 3, 'Bangalore': 3, 'Gorur': 3, 'Bubb': 3, 'Woolworths': 3, '131': 3, 'ethics': 3, 'peaks': 3, 'outperformed': 3, 'grappling': 3, 'Buick': 3, 'diversified': 3, 'acres': 3, 'oversees': 3, 'accountant': 3, '570': 3, 'Outside': 3, 'frauds': 3, 'Moet': 3, 'Chandon': 3, 'Vuitton': 3, 'METI': 3, 'Cairo': 3, 'Products': 3, '572': 3, 'exacerbated': 3, 'downwards': 3, 'Nadu': 3, 'Dear': 3, 'NUJ': 3, 'Fitzpatrick': 3, 'Trinity': 3, 'breakers': 3, 'punitive': 3, '170m': 3, 'PCO': 3, 'subcontractors': 3, 'separation': 3, 'Bright': 3, 'Chen': 3, 'crops': 3, 'cereals': 3, 'prestige': 3, 'laggard': 3, 'Wim': 3, 'inception': 3, 'Mani': 3, 'Shankar': 3, 'heel': 3, 'AMRO': 3, 'northeast': 3, 'Prices': 3, 'flavoured': 3, 'malt': 3, 'disguises': 3, '154m': 3, 'brewery': 3, 'Cowley': 3, 'outskirts': 3, '690': 3, 'measurement': 3, 'Julio': 3, 'Associates': 3, 'Sao': 3, 'Janeiro': 3, 'Rescue': 3, 'AGM': 3, 'Gerd': 3, 'Niebaum': 3, 'Adding': 3, 'diabetes': 3, 'Mississippi': 3, '160bn': 3, 'Andrei': 3, 'nationalisation': 3, 'ineffective': 3, 'Atomstroieksport': 3, 'Raines': 3, 'KPMG': 3, 'desmoteplase': 3, '119': 3, 'mutiny': 3, 'Municipal': 3, '196': 3, 'Americas': 3, 'Paribas': 3, 'handlers': 3, 'Mixed': 3, '532m': 3, 'Revenues': 3, 'NOP': 3, 'hectare': 3, 'Alexis': 3, 'Interfax': 3, 'dynamics': 3, 'Brunswick': 3, 'TNK': 3, 'ChevronTexaco': 3, '15bn': 3, 'balloon': 3, 'palatable': 3, 'obstacle': 3, 'powerhouse': 3, '114': 3, '011': 3, 'DB': 3, 'entrepreneurial': 3, 'Rolf': 3, '1030': 3, 'gainer': 3, '464': 3, 'exceeding': 3, 'Qatargas': 3, 'pleading': 3, 'Arizona': 3, 'liquidity': 3, '1830': 3, 'Understanding': 3, 'underused': 3, 'Demonstrators': 3, 'Watan': 3, '4Cast': 3, 'hovering': 3, 'nano': 3, 'Confidence': 3, 'faring': 3, 'reined': 3, 'gasoline': 3, 'LLC': 3, 'furnishings': 3, '55bn': 3, 'Lilliu': 3, '147': 3, '166': 3, 'Malagasy': 3, 'phasing': 3, 'Siregar': 3, 'Shihab': 3, 'beermaker': 3, 'Stella': 3, 'Kursk': 3, 'appraising': 3, 'Problems': 3, 'towel': 3, 'eligibility': 3, '370m': 3, 'downs': 3, 'DiPiazza': 3, '324': 3, 'comparisons': 3, 'untaxed': 3, 'tube': 3, 'obligatory': 3, 'Consolidation': 3, 'Ole': 3, 'Gunnar': 3, 'tycoons': 3, 'Renaissance': 3, 'Troika': 3, 'Dialog': 3, 'Florian': 3, 'HAL': 3, '787': 3, 'tandem': 3, 'intimated': 3, 'dim': 3, 'oilfields': 3, 'Aishwariya': 3, 'slides': 3, 'trimmed': 3, 'DB9': 3, 'Victorian': 3, 'beside': 3, 'vanished': 3, 'crossroads': 3, 'rigs': 3, 'Addink': 3, 'stifling': 3, 'mired': 3, 'Jetstar': 3, 'respite': 3, 'boon': 3, 'Otoku': 3, 'Schweitzer': 3, 'Taking': 3, 'welter': 3, 'Peres': 3, 'keenly': 3, 'Devils': 3, 'nail': 3, '740': 3, 'Combining': 3, 'Istanbul': 3, 'Kazakh': 3, '425': 3, 'presses': 3, 'Georgian': 3, 'uprising': 3, '469': 3, 'Aycliffe': 3, '190m': 3, 'Closures': 3, '603': 3, 'hawkish': 3, 'slows': 3, 'corrective': 3, 'Dealers': 3, '349': 3, 'inputs': 3, 'Balkan': 3, 'AMBO': 3, 'premiums': 3, 'strapped': 3, '25p': 3, 'PMI': 3, 'deterred': 3, 'institutional': 3, 'denominated': 3, 'undo': 3, 'nears': 3, 'godfather': 3, 'Sal': 3, 'Oppenheim': 3, 'sucked': 3, 'Barings': 3, 'chagrin': 3, 'speculating': 3, 'populated': 3, 'Petrochemicals': 3, '118': 3, '05bn': 3, '0400': 3, 'trough': 3, 'Rene': 3, 'Hexal': 3, 'cabin': 3, '870': 3, 'chronic': 3, 'Jinshajiang': 3, 'downstream': 3, 'dams': 3, 'gloss': 3, 'Buddhist': 3, 'mourn': 3, 'tills': 3, 'restart': 3, 'mileage': 3, 'Alwaleed': 3, 'HBOS': 3, 'Strand': 3, 'Berkeley': 3, 'Hotels': 3, 'suites': 3, 'Palaniappan': 3, 'appliance': 3, 'Nomura': 3, 'Rourke': 3, 'Barney': 3, 'restrain': 3, 'stockpile': 3, 'shrink': 3, 'collaborate': 3, 'subside': 3, 'upmarket': 3, 'limousine': 3, 'badge': 3, 'Lexus': 3, '104m': 3, 'KDB': 3, 'delisted': 3, 'delist': 3, 'redemption': 3, 'stalling': 3, 'Ambassador': 3, 'Johannesson': 3, '148': 3, 'overheating': 3, 'Rapid': 3, 'shrank': 3, 'ruler': 3, 'Guinea': 3, '16m': 3, 'Stockbrokers': 3, 'apparel': 3, 'borrowers': 3, 'Humber': 3, 'Vido': 3, 'Roberto': 3, 'Lavagna': 3, 'contractual': 3, 'Toshihiko': 3, 'Soaring': 3, 'Forecasts': 3, 'austere': 3, 'explodes': 3, 'afflicted': 3, 'Governments': 3, 'WTTC': 3, 'ocean': 3, 'boats': 3, 'devastation': 3, 'Premium': 3, 'guardian': 3, 'drawback': 3, 'Fighting': 3, 'superjumbo': 3, 'informing': 3, 'efficiencies': 3, '89bn': 3, '364': 3, 'Faraj': 3, 'enthusiastically': 3, 'loosened': 3, '481': 3, 'starved': 3, 'EIA': 3, 'delisting': 3, 'yawning': 3, 'onus': 3, 'buyback': 3, 'Moffat': 3, 'Eurex': 3, 'Talking': 3, 'stipulate': 3, 'Penfolds': 3, 'Lindemans': 3, 'Finn': 3, 'Beringer': 3, 'Blass': 3, 'Oatley': 3, 'Estates': 3, 'brisk': 3, 'supplying': 3, '0900': 3, 'Saronno': 3, 'temperature': 3, 'shockwaves': 3, 'Mauskopf': 3, 'tampering': 3, 'fetches': 3, 'accumulate': 3, 'exorbitant': 3, 'Ferrovial': 3, '281m': 3, '230m': 3, 'Bertie': 3, 'Cescau': 3, 'Antony': 3, '1930': 3, 'diets': 3, 'Monte': 3, '328m': 3, 'moderating': 3, 'Blythe': 3, 'Inoni': 3, 'trimming': 3, 'depress': 3, 'zeros': 3, 'Shortly': 3, 'Practices': 3, 'remarkably': 3, 'Shimizu': 3, 'contemplates': 3, 'Philippines': 3, 'babies': 3, 'Rubinsohn': 3, 'Annie': 3, 'Highway': 3, 'malfunctions': 3, 'GMC': 3, 'Sierra': 3, 'Pontiac': 3, 'pedal': 3, 'backdated': 3, '28bn': 3, 'Mozart': 3, 'subliminal': 3, 'Reagan': 3, 'Gerald': 3, 'relieve': 3, 'Eddington': 3, 'cargo': 3, '198m': 3, 'Naresh': 3, 'AstraZeneca': 3, 'Crestor': 3, 'Tarceva': 3, 'stave': 3, 'conducts': 3, 'scramble': 3, 'anticipate': 3, 'Ghana': 3, 'Pendleton': 3, 'Jacksonville': 3, '145': 3, 'Directions': 3, 'Majumdar': 3, 'Aggregate': 3, 'KK': 3, 'republic': 3, 'resilience': 3, 'delicate': 3, 'emigrated': 3, 'VEB': 3, 'discriminating': 3, 'depressant': 3, '184': 3, 'Foodservice': 3, 'Commodity': 3, 'ingredients': 3, 'envisaged': 3, '262': 3, 'Leibovich': 3, 'Verwaayen': 3, 'wires': 3, 'ISP': 3, 'greyhound': 3, 'Rhode': 3, 'Colorado': 3, 'fractious': 3, 'Toshiyuki': 3, 'masterminded': 3, 'technologically': 3, 'exaggerated': 3, 'cumbersome': 3, 'u': 3, 'mockery': 3, '458': 3, '1330': 3, 'terminated': 3, 'Selling': 3, 'Leahy': 3, '368bn': 3, 'Feta': 3, 'Arne': 3, 'Barclaycard': 3, '590': 3, 'ECLAC': 3, 'Regional': 3, 'Celebrex': 3, 'Alcobev': 3, 'consumes': 3, '47bn': 3, 'awaits': 3, 'Reckitt': 3, 'Benckiser': 3, 'Chateau': 3, 'Estate': 3, 'Cincinnati': 3, 'heavyweight': 3, 'comprehensively': 3, 'unchecked': 3, 'sore': 3, 'Coordination': 3, 'sounding': 3, 'Corcostegui': 3, '155bn': 3, 'accumulated': 3, 'Tripoli': 3, 'Lockerbie': 3, 'recourse': 3, 'A300s': 3, 'demerger': 3, 'Formed': 3, 'allure': 3, 'Compiled': 3, 'Publications': 3, '542': 3, 'McIvor': 3, 'Weise': 3, 'Whitcomb': 3, 'unseasonably': 3, 'Fathi': 3, 'Shatwan': 3, 'Rybachuk': 3, 'accomplish': 3, 'eases': 3, 'pressured': 3, 'worsening': 3, 'Doubleclick': 3, 'distort': 3, '300bn': 3, 'airplanes': 3, 'stifled': 3, 'extract': 3, 'Robbins': 3, 'CAM': 3, 'Rebecca': 3, 'Malaysian': 3, 'Khoo': 3, 'shuffling': 3, 'baseball': 3, 'Seibu': 3, 'Railways': 3, 'twelve': 3, 'flip': 3, 'penalise': 3, 'ThyssenKrupp': 3, 'Corus': 3, 'dumped': 3, 'resumes': 3, 'Cheung': 3, 'recoup': 3, 'Wheatley': 3, 'roost': 3, 'accompany': 3, 'ballooning': 3, 'saturation': 3, 'attendances': 3, 'Bradford': 3, 'Visitor': 3, 'Did': 3, 'audited': 3, 'Spindler': 3, 'loving': 3, 'Quake': 3, '258': 3, 'Himrin': 3, 'catches': 3, 'instructed': 3, 'solicit': 3, 'spur': 3, 'promoter': 3, 'easiest': 3, 'Sudell': 3, 'propensity': 3, '29m': 3, '329': 3, '733': 3, 'PayPal': 3, 'gotten': 3, 'rightful': 3, 'sunk': 3, 'nutritional': 3, 'calorie': 3, 'commercials': 3, 'researched': 3, 'aggression': 3, 'Barrionuevo': 3, 'scroll': 3, 'voltage': 3, 'finishes': 3, 'surveyor': 3, '231m': 3, 'restatement': 3, '650': 3, 'Macaefa': 3, 'woods': 3, 'prescription': 3, 'Shepherdson': 3, 'brimming': 3, 'Hessel': 3, 'astonishing': 3, 'intentionally': 3, 'cores': 3, 'lens': 3, 'friendship': 3, 'slated': 3, 'Rainbow': 3, 'hyped': 3, 'wired': 3, 'Vision': 3, 'waving': 3, 'Blogging': 3, 'Trinidad': 3, 'Tobago': 3, 'Taran': 3, 'redistribute': 3, 'reliability': 3, 'Ames': 3, 'megaflops': 3, 'academics': 3, 'Supercomputer': 3, 'l': 3, 'brakes': 3, 'Toxic': 3, 'vulnerability': 3, 'plunders': 3, 'clicked': 3, 'viral': 3, 'Shutting': 3, 'offshoots': 3, 'loophole': 3, 'Farmers': 3, 'inhabitants': 3, 'telecentres': 3, 'plague': 3, 'scarce': 3, 'Cuyo': 3, '152m': 3, 'Publishers': 3, 'formulated': 3, 'Fewer': 3, 'Analytics': 3, 'administer': 3, 'Macworld': 3, 'connectors': 3, 'Binks': 3, 'Astra': 3, 'hallowed': 3, 'deserts': 3, 'Goldfinger': 3, 'Tina': 3, 'plummeting': 3, 'Quite': 3, 'navigating': 3, 'collision': 3, 'animations': 3, 'niggles': 3, 'blending': 3, 'eras': 3, 'Schwarzenegger': 3, 'render': 3, 'unusable': 3, 'gaze': 3, 'graphically': 3, 'fraternity': 3, 'Graphically': 3, 'flourishes': 3, 'advertiser': 3, 'camped': 3, 'Texan': 3, 'digitise': 3, 'librarian': 3, 'startling': 3, 'positional': 3, 'headphones': 3, 'nicer': 3, 'DoCoMo': 3, 'synthesising': 3, 'emanating': 3, 'Montieth': 3, 'infant': 3, 'forays': 3, 'Side': 3, 'Ewoks': 3, 'Skywalker': 3, 'curiously': 3, 'remix': 3, 'annoyances': 3, 'objects': 3, 'Forget': 3, 'fabric': 3, 'Wearable': 3, 'incorporating': 3, 'coatings': 3, 'reputable': 3, 'Illegal': 3, 'leveraged': 3, 'interacting': 3, 'Faster': 3, 'Youngsters': 3, 'birthdays': 3, 'pinpoint': 3, 'floppy': 3, 'Beckhams': 3, 'CBBC': 3, 'Postal': 3, 'emphasises': 3, 'liaison': 3, 'Sydus': 3, 'Cridland': 3, 'megabyte': 3, 'inventors': 3, 'Looks': 3, 'oddities': 3, 'Marine': 3, 'tin': 3, 'Shame': 3, 'qwerty': 3, '3c': 3, 'Congratulations': 3, 'buses': 3, 'Hanau': 3, 'ticketing': 3, 'textual': 3, 'Lateral': 3, 'Visions': 3, 'analyse': 3, 'chatrooms': 3, 'outcomes': 3, 'Angela': 3, 'Traditionally': 3, 'Civilisation': 3, 'wavelength': 3, 'Twentieth': 3, 'Lifeplus': 3, 'excavated': 3, '2d3': 3, 'Snake': 3, 'McRae': 3, 'Rally': 3, 'hacked': 3, 'Rip': 3, 'fireworks': 3, 'buddy': 3, 'infra': 3, 'Hypertag': 3, 'tones': 3, 'interactions': 3, 'prevalent': 3, 'DSL': 3, 'Edition': 3, 'flavour': 3, 'niches': 3, 'focussed': 3, 'middleware': 3, 'geography': 3, 'DOE': 3, 'racks': 3, 'surpassing': 3, 'petaflop': 3, 'tailor': 3, 'Intellect': 3, 'crucially': 3, 'motorsport': 3, 'riders': 3, 'exhibit': 3, 'Subaru': 3, 'limbs': 3, 'pedals': 3, 'Likewise': 3, 'significance': 3, 'circulated': 3, 'lauded': 3, 'receivers': 3, 'profiting': 3, 'glean': 3, 'supremacy': 3, 'Buena': 3, 'Vista': 3, 'Chum': 3, 'Mechanical': 3, 'Mobility': 3, 'vocabulary': 3, 'Robotics': 3, 'jogging': 3, 'customised': 3, 'Slattery': 3, 'Ernest': 3, 'patched': 3, 'touting': 3, 'Readers': 3, 'Managing': 3, 'Yarnton': 3, 'HDTVs': 3, 'glitches': 3, 'Freescale': 3, 'Computerandvideogames': 3, 'slimline': 3, 'Burnout': 3, 'adjudged': 3, 'Konami': 3, 'Soccer': 3, 'Chip': 3, 'toxic': 3, 'arsenic': 3, 'cadmium': 3, 'Waste': 3, 'exploding': 3, 'hazardous': 3, '5G': 3, 'clamshell': 3, 'securely': 3, 'outpouring': 3, 'needle': 3, 'bingo': 3, 'acquitted': 3, 'Kitts': 3, 'Nevis': 3, 'Yonca': 3, 'eyeballs': 3, 'Indiana': 3, 'xxx': 3, 'bots': 3, 'drawings': 3, 'unannounced': 3, 'trailers': 3, 'misconception': 3, 'tower': 3, 'finely': 3, 'Roux': 3, 'inducing': 3, 'Morpheus': 3, 'Defenders': 3, 'Shapiro': 3, 'handy': 3, 'decoration': 3, 'blips': 3, 'connects': 3, 'improvise': 3, 'unwitting': 3, 'gunshot': 3, 'GenCrowd': 3, 'ethnicities': 3, 'fossils': 3, 'Forever': 3, 'Gonzalo': 3, 'ecology': 3, 'Hidden': 3, 'reconstructed': 3, 'metadata': 3, 'Jakob': 3, 'conmen': 3, 'tricking': 3, 'Netsky': 3, 'mailers': 3, '29A': 3, 'incite': 3, 'aesthetically': 3, 'Rayman': 3, 'Gran': 3, 'Turismo': 3, 'PAL': 3, 'cant': 3, 'Gilles': 3, '60GB': 3, 'Jonas': 3, 'Guest': 3, 'Macs': 3, 'ie': 3, '120GB': 3, 'Barlow': 3, 'bulky': 3, 'stitching': 3, 'zoom': 3, 'Hartog': 3, 'Savvy': 3, 'smiley': 3, 'Mikko': 3, 'Hypponen': 3, 'circulate': 3, 'textbook': 3, 'theoretically': 3, 'Chakkara': 3, 'Benoit': 3, 'antelope': 3, 'wildlife': 3, 'thorny': 3, 'bewildered': 3, 'greet': 3, 'discarded': 3, 'pigeon': 3, 'conditioning': 3, 'lit': 3, 'Nan': 3, 'breakfast': 3, 'reputedly': 3, 'transmitter': 3, 'gel': 3, 'Dawn': 3, 'builds': 3, 'ME': 3, '512': 3, 'ET': 3, 'Cosgrave': 3, 'revolves': 3, 'Jollans': 3, 'Amit': 3, 'clout': 3, 'Iwata': 3, 'hots': 3, 'Ofoto': 3, 'collide': 3, 'Alcatel': 3, 'Fixed': 3, 'Convergence': 3, 'strips': 3, 'polygons': 3, '30s': 3, '50s': 3, 'pastime': 3, '160GB': 3, 'recordable': 3, 'obese': 3, 'brighter': 3, 'napster': 3, 'debuting': 3, 'Blizzard': 3, 'gamesindustry': 3, 'wallpaper': 3, 'surfaced': 3, 'unwittingly': 3, 'extradition': 3, 'Wasenius': 3, 'beloved': 3, 'forgetting': 3, 'eagerly': 3, 'relates': 3, 'Xboxes': 3, 'Vaio': 3, 'W1': 3, 'Cybercriminals': 3, 'cybercrime': 3, 'sniffed': 3, 'Cern': 3, 'IPv4': 3, 'unwelcome': 3, 'defaced': 3, 'grounded': 3, 'Chandratillake': 3, 'Footage': 3, 'Gambino': 3, 'Chan': 3, 'MMO2': 3, 'Estonia': 3, 'resembled': 3, 'Graber': 3, 'Preventon': 3, 'infecting': 3, 'rarer': 3, 'cruising': 3, 'Loughborough': 3, 'bandwagon': 3, 'categorise': 3, 'Devices': 3, 'animators': 3, 'Developing': 3, 'rollout': 3, 'Voigt': 3, 'simplified': 3, 'dinkier': 3, 'apprehension': 3, 'Alive': 3, 'thumbs': 3, 'Websites': 3, 'poem': 3, 'casts': 3, 'knit': 3, 'plum': 3, 'witnessing': 3, 'overblown': 3, 'moody': 3, 'overs': 3, 'sacrifices': 3, 'Targeting': 3, 'harshly': 3, 'prone': 3, 'ramp': 3, 'accessories': 3, 'enquiries': 3, 'strangest': 3, 'waged': 3, 'Santos': 3, 'brigade': 3, 'shied': 3, 'gratuitously': 3, 'jarring': 3, 'Fahey': 3, 'Proposals': 3, 'nascent': 3, 'hurry': 3, 'elated': 3, 'chuckle': 3, 'fever': 3, 'incompatibilities': 3, 'platinum': 3, 'converts': 3, 'resemblance': 3, 'bore': 3, '1Mbps': 3, 'sorting': 3, 'clicks': 3, 'Cory': 3, 'Firewire': 3, 'jack': 3, 'dvd': 3, 'stylish': 3, '512MB': 3, '2500': 3, 'buoy': 3, 'Nevo': 3, 'C4': 3, 'stills': 3, 'Firebird': 3, 'Sunner': 3, 'Bullfrog': 3, 'basking': 3, 'meticulously': 3, 'leaping': 3, 'flashy': 3, 'gruesome': 3, 'foes': 3, 'strangely': 3, 'Coppin': 3, 'disposing': 3, 'Seth': 3, 'Heine': 3, 'innocuous': 3, 'adapters': 3, 'Blanchard': 3, 'psychology': 3, 'housed': 3, 'Dating': 3, 'Scare': 3, 'registers': 3, 'uncovering': 3, 'Tara': 3, 'Hirsch': 3, 'Imperial': 3, 'plundering': 3, 'PayPerAction': 3, 'FTC': 3, 'Roper': 3, 'girlfriends': 3, 'Iggy': 3, 'Rebellion': 3, 'pits': 3, 'Telegraaf': 3, 'Matin': 3, 'Reichhold': 3, 'Clicking': 3, 'Dobrow': 3, 'Content': 3, 'Rellie': 3, 'Musical': 3, 'chronicle': 3, 'Ico': 3, 'masterpiece': 3, 'wits': 3, 'polished': 3, 'Beeks': 3, 'Alerts': 3, 'abating': 3, 'avenue': 3, 'Noam': 3, 'databases': 3, 'chore': 3, 'adolescent': 3, 'incidental': 3, 'enthralling': 3, 'grinding': 3, 'invitations': 3, 'obsessive': 3, 'resolute': 3, 'dont': 3, 'undeniable': 3, 'staring': 3, 'Coral': 3, 'Communicator': 3, 'packet': 3, 'campus': 3, 'persona': 3, 'perpetrators': 3, '320': 3, 'reimburse': 3, 'mishaps': 3, 'Nineteen': 3, 'Noone': 3, 'WCG': 3, 'Seti': 3, 'HL2': 3, 'designing': 3, 'Luckily': 3, 'temperamental': 3, 'SET': 3, 'Glickman': 3, 'Tonga': 3, 'Sititi': 3, 'Rauluni': 3, 'Groenefeld': 3, 'Cosafa': 3, 'Curepipe': 3, 'Botswana': 3, 'Malawi': 3, 'Haka': 3, 'Kiwi': 3, 'warrior': 3, 'victors': 3, 'inventive': 3, 'crush': 3, 'Hayden': 3, 'Gandulla': 3, 'Maradona': 3, 'relish': 3, 'Lievin': 3, 'Hackett': 3, 'Flack': 3, 'Sawyer': 3, 'Ampadu': 3, 'Clay': 3, 'Silvestre': 3, 'loosehead': 3, 'Kingsholm': 3, 'volleyed': 3, 'smother': 3, 'Dietmar': 3, 'bravely': 3, 'clung': 3, 'Eighth': 3, 'Puerta': 3, 'Mantilla': 3, 'Agustin': 3, 'Volandri': 3, 'Cadena': 3, 'ETA': 3, 'Budge': 3, 'Mateja': 3, 'customary': 3, 'Smertin': 3, 'Macken': 3, 'resumed': 3, 'phases': 3, 'Rocky': 3, 'MBEs': 3, 'heroic': 3, 'specimen': 3, 'fouled': 3, 'Stanic': 3, 'Lilley': 3, 'Deloumeaux': 3, 'Freeland': 3, '87th': 3, 'Berra': 3, 'Burchill': 3, '796': 3, '1400': 3, 'Sanderson': 3, 'Hanley': 3, 'Hercus': 3, 'Guscott': 3, 'MBE': 3, 'captains': 3, 'spectacle': 3, 'Hore': 3, 'carded': 3, 'Kenyon': 3, 'Bucharest': 3, 'delightful': 3, 'Honiss': 3, 'pounced': 3, '34th': 3, 'Randt': 3, '77th': 3, 'meagre': 3, 'Certain': 3, 'Jake': 3, 'innuendoes': 3, 'Olsson': 3, 'shrewd': 3, 'Coe': 3, 'targetting': 3, 'goalkicking': 3, 'Promising': 3, 'derbies': 3, 'Kyrgiakos': 3, 'Dado': 3, 'pouncing': 3, 'Laursen': 3, 'Paulista': 3, 'Rae': 3, 'Mentally': 3, 'thankful': 3, '15s': 3, 'diligent': 3, 'slams': 3, 'Accra': 3, 'Kumasi': 3, 'contracting': 3, 'Hyung': 3, 'Hernych': 3, 'Irakli': 3, 'Labadze': 3, 'disgusted': 3, 'Velimir': 3, 'Zajec': 3, 'contamination': 3, 'tighthead': 3, 'RFC': 3, 'Stilian': 3, 'prerogative': 3, 'stardom': 3, 'beers': 3, 'Gillick': 3, '02': 3, 'Speaight': 3, 'Cairns': 3, 'Coleraine': 3, 'admirer': 3, 'endeared': 3, 'Ravenhill': 3, 'Marathons': 3, 'disciplines': 3, 'Janine': 3, 'Whitlock': 3, 'sprints': 3, 'Seaman': 3, 'Euan': 3, 'Allister': 3, 'Selhurst': 3, 'Pickering': 3, 'tamely': 3, 'scintillating': 3, 'piling': 3, 'raucous': 3, 'Amor': 3, 'Rhodes': 3, 'cricket': 3, 'psychologist': 3, 'conquer': 3, 'upsets': 3, 'Internazionale': 3, 'fielded': 3, 'Fenerbahce': 3, 'Monaco': 3, 'Spadea': 3, 'understudy': 3, 'Staniforth': 3, 'Hatley': 3, 'Gustard': 3, 'Erinle': 3, 'bruised': 3, 'Upton': 3, 'reminds': 3, 'Sivabaek': 3, 'feted': 3, 'Olympian': 3, 'decathlete': 3, 'tearing': 3, 'tonight': 3, 'McIndoe': 3, 'withstood': 3, 'admirable': 3, 'dame': 3, 'goalmouth': 3, 'Okocha': 3, 'flattered': 3, 'Milner': 3, 'Haim': 3, 'Ref': 3, 'Staples': 3, 'feigned': 3, 'calmer': 3, 'incur': 3, 'McMullen': 3, 'Raphael': 3, 'Cotterill': 3, 'Turf': 3, 'Moor': 3, 'WINNERS': 3, 'gladly': 3, 'popped': 3, 'Dowson': 3, 'indecision': 3, 'secrecy': 3, 'Upping': 3, 'Lorimer': 3, 'Gibbs': 3, 'Pognon': 3, 'anabolic': 3, '5000m': 3, 'Kipchoge': 3, 'Baddeley': 3, 'disqualified': 3, 'gem': 3, 'Samantha': 3, 'Stosur': 3, 'Beating': 3, 'Aussies': 3, 'stumble': 3, 'USATF': 3, 'SRU': 3, 'amateurs': 3, 'triumphant': 3, 'legitimately': 3, 'Megson': 3, 'Goalscorer': 3, 'Trophy': 3, 'Dons': 3, 'Gillespie': 3, 'Felipe': 3, 'Kronberg': 3, 'Dorival': 3, 'raining': 3, 'stalemate': 3, 'Sinama': 3, 'Pongolle': 3, 'coins': 3, 'Erlich': 3, 'kilometre': 3, 'Grosjean': 3, 'Kieran': 3, 'meteoric': 3, 'MRI': 3, 'yielded': 3, '121': 3, 'Potito': 3, 'hitter': 3, 'deck': 3, 'healing': 3, 'Jolanda': 3, 'Arturo': 3, 'Jeremie': 3, 'spectacularly': 3, 'lately': 3, 'testimonial': 3, 'coolly': 3, 'talismanic': 3, 'dummy': 3, 'sigh': 3, 'Canberra': 3, 'Solano': 3, 'cigars': 3, 'Corkman': 3, 'Costin': 3, '5K': 3, 'McKee': 3, 'stalwarts': 3, 'Annadale': 3, 'strugglers': 3, 'Rotherham': 3, 'Coventry': 3, 'Flanker': 3, 'Berkovic': 3, 'brackets': 3, 'Pepito': 3, 'Betis': 3, 'hernia': 3, 'Viduka': 3, 'Pumas': 3, 'Waterford': 3, 'vertebrae': 3, 'Mater': 3, 'crutches': 3, 'underwent': 3, 'Gustavo': 3, 'unsettle': 3, 'Purkiss': 3, 'Vaidyanathan': 3, 'selections': 3, 'Bupa': 3, 'Jonatan': 3, 'Cubs': 3, 'sarcastically': 3, 'blows': 3, 'prodigy': 3, 'Gael': 3, 'WADA': 3, 'Harding': 3, 'Schuettler': 3, 'spades': 3, 'verve': 3, 'characteristics': 3, 'reinvented': 3, 'Shaughnessy': 3, 'Baccanello': 3, 'blushes': 3, 'Ma': 3, 'Replacement': 3, 'Jaime': 3, 'adidas': 3, 'realize': 3, 'Celestine': 3, 'thrashing': 3, 'des': 3, 'Jansen': 3, 'Amoruso': 3, 'dogged': 3, 'guessing': 3, 'Sat': 3, 'Schubert': 3, 'Diack': 3, 'cheated': 3, 'onrushing': 3, 'Ilston': 3, 'Korchemny': 3, 'Alvin': 3, 'Torres': 3, 'brace': 3, 'skilful': 3, 'Mottram': 3, 'pressurised': 3, 'Hounslow': 3, 'Beagles': 3, 'Kwakye': 3, 'Flores': 3, 'fatigue': 3, 'Franck': 3, 'Nemeth': 3, 'Desire': 3, 'Southgate': 3, 'Konchesky': 3, 'honeymoon': 3, 'Tarpishchev': 3, 'LW': 3, 'Na': 3, 'lambasted': 3, 'poked': 3, '153': 3, 'arch': 3, 'Baa': 3, 'Baas': 3, 'emphatic': 3, 'respectability': 3, 'Tannadice': 3, 'reprieve': 3, 'Botafogo': 3, 'Durban': 3, 'trounced': 3, 'joie': 3, 'vivre': 3, 'wooed': 3, 'Belgrade': 3, 'Zone': 3, '4in': 3, 'ruthless': 3, 'astounded': 3, 'Felgate': 3, 'amateurish': 3, 'scuffed': 3, 'Slovakian': 3, 'Maleeva': 3, 'Sfar': 3, 'greats': 3, 'Mats': 3, 'Wilander': 3, 'Portadown': 3, 'oh': 3, 'bag': 3, 'rowing': 3, 'Azzurri': 3, 'probing': 3, 'deafening': 3, 'Naysmith': 3, 'Mikel': 3, 'bell': 3, 'Berhane': 3, 'laps': 3, 'Silvia': 3, 'soup': 3, 'diatribe': 3, 'substantiated': 3, 'Orient': 3, 'Pilkington': 3, 'booted': 3, 'dismal': 3, 'Prinz': 3, 'Sprem': 3, 'Schiavone': 3, 'Caledonian': 3, 'fracas': 3, 'helpless': 3, 'Brebner': 3, 'commentate': 3, 'Jaslyn': 3, 'sympathised': 3, 'mesmeric': 3, 'crescendo': 3, 'Mandic': 3, 'Vaidisova': 3, 'Hashemian': 3, 'Miresmaeili': 3, 'Backley': 3, 'fallout': 3, 'Rutto': 3, 'Okayo': 3, 'conquered': 3, 'arduous': 3, 'Ok': 3, 'lt': 3, 'Going': 3, 'admire': 3, 'Butters': 3, 'vinyl': 3, 'revived': 3, 'jokes': 3, 'commentaries': 3, 'Titchmarsh': 3, 'frothy': 3, 'Guernsey': 3, '1937': 3, 'Dougray': 3, 'Mask': 3, 'savage': 3, 'Interpol': 3, 'Unconditional': 3, 'Fearne': 3, 'Cotton': 3, 'Bernal': 3, 'Mirren': 3, 'Craney': 3, 'bedside': 3, 'necklace': 3, 'babysitter': 3, 'Hector': 3, 'Rufus': 3, 'Norris': 3, 'Redmayne': 3, 'Annies': 3, 'Bird': 3, 'Mode': 3, 'SpongeBob': 3, 'SquarePants': 3, 'Theater': 3, 'Animated': 3, 'Homegrown': 3, 'Wednesdays': 3, 'Thursdays': 3, 'toppers': 3, 'Poet': 3, 'Ghai': 3, 'Aishwarya': 3, 'Rai': 3, 'Bride': 3, 'Prejudice': 3, 'rapping': 3, 'Talent': 3, 'Stripes': 3, 'millennium': 3, 'Anselmo': 3, 'Feleppa': 3, 'Sting': 3, 'Sillerman': 3, 'CFX': 3, 'Comics': 3, 'Robinov': 3, 'artistry': 3, 'Lose': 3, 'Aloud': 3, 'Stand': 3, 'Hits': 3, 'pondered': 3, 'Postcards': 3, 'gangster': 3, 'perennial': 3, 'dinosaur': 3, '1943': 3, 'Rothemund': 3, 'preserved': 3, 'eKhayelitsha': 3, 'Khayelitsha': 3, 'troupe': 3, 'Devil': 3, 'Gotta': 3, 'Nicholson': 3, 'Halle': 3, 'Hank': 3, 'Michell': 3, 'Pawel': 3, 'Hobbit': 3, 'thrash': 3, 'Naomi': 3, 'Lovely': 3, 'Sebold': 3, 'scoops': 3, 'Hytner': 3, 'Gielgud': 3, 'Othello': 3, 'Macbeth': 3, 'Hamlet': 3, 'Digney': 3, 'Kashyap': 3, 'Fergus': 3, 'Riddell': 3, 'lousy': 3, 'Singers': 3, 'rendition': 3, 'salsa': 3, 'Gretchen': 3, 'wandered': 3, '950': 3, 'Dylan': 3, 'sofa': 3, 'Detakats': 3, 'chiffon': 3, 'fascinated': 3, 'widower': 3, 'Bandstand': 3, 'Aretha': 3, 'caustic': 3, 'Tennessee': 3, 'MMF': 3, '137m': 3, 'Blackground': 3, 'negligence': 3, 'Philharmonic': 3, 'Turin': 3, '267': 3, 'Miyagishima': 3, 'toppling': 3, 'Hammerstein': 3, 'occupied': 3, 'spruce': 3, 'decorating': 3, 'plates': 3, 'Ashanti': 3, 'Hollinghurst': 3, 'Geraldine': 3, 'Lower': 3, 'songwriting': 3, 'Tarrant': 3, 'Nesbit': 3, 'reprise': 3, 'BMR': 3, 'Silvas': 3, 'Raging': 3, 'Goodfellas': 3, 'Adult': 3, 'wasp': 3, 'Bacon': 3, 'Portrait': 3, 'Omai': 3, 'glamorised': 3, 'Donna': 3, 'Minority': 3, 'Fogarty': 3, 'earner': 3, 'Songbook': 3, 'headliners': 3, 'Patsy': 3, 'Matron': 3, 'Loving': 3, 'Beast': 3, 'Cavanagh': 3, 'novelists': 3, 'UPN': 3, 'squibs': 3, 'cemented': 3, 'Missy': 3, 'Turn': 3, 'aborted': 3, 'costumes': 3, 'Federline': 3, 'newscasters': 3, 'Saving': 3, 'greatness': 3, 'Fiction': 3, 'Basement': 3, 'Jaxx': 3, 'overthrow': 3, 'columnist': 3, 'Fantasy': 3, 'Kranks': 3, 'acoustic': 3, 'Cullumpton': 3, 'choir': 3, 'Jocelyn': 3, 'Stoker': 3, 'Greenberg': 3, 'Dolls': 3, 'joking': 3, 'slate': 3, 'Bounty': 3, 'bleep': 3, 'Gil': 3, 'tendency': 3, 'Feature': 3, 'Chaka': 3, 'overrated': 3, 'Bohemian': 3, 'Rhapsody': 3, 'Granted': 3, 'Smiths': 3, 'formulaic': 3, 'funerals': 3, 'Blur': 3, 'Pulp': 3, 'Sofia': 3, 'Coppola': 3, 'Glass': 3, 'Menagerie': 3, 'screenings': 3, 'vested': 3, 'Schulberg': 3, 'Corleone': 3, 'moustache': 3, 'Hop': 3, 'originate': 3, 'Redemption': 3, 'Fridays': 3, 'relaunched': 3, 'Kash': 3, 'Andi': 3, 'Rutland': 3, 'raunchy': 3, 'irresponsibility': 3, 'unbeatable': 3, 'Bakersfield': 3, 'Vs': 3, 'Raimi': 3, 'Filming': 3, 'Rooms': 3, 'Melancholia': 3, 'Chechnya': 3, 'Reservoir': 3, 'Witch': 3, 'Clunes': 3, 'Trapped': 3, 'Mighty': 3, 'gods': 3, 'Happened': 3, 'Ferris': 3, 'LeBlanc': 3, 'Abdellatif': 3, 'Redmond': 3, 'Grange': 3, 'distressed': 3, 'steamy': 3, 'Trump': 3, 'Contestants': 3, 'Lessing': 3, 'Bellow': 3, 'Kundera': 3, 'Updike': 3, 'Holby': 3, 'Broken': 3, 'Maroon5': 3, 'molest': 3, 'idiotic': 3, 'punching': 3, 'RDF': 3, 'WAS': 3, 'Fall': 3, 'Clash': 3, 'bolder': 3, 'Vanessa': 3, 'Paradis': 3, 'Binoche': 3, 'OCC': 3, 'lesser': 3, 'Grauman': 3, 'overdose': 3, 'Playschool': 3, 'Factual': 3, 'Filthy': 3, 'Amma': 3, 'Frederik': 3, 'Ugly': 3, 'Youssou': 3, 'Dour': 3, 'Concert': 3, '79p': 3, 'Vaughn': 3, 'superheroes': 3, 'Lieberman': 3, 'extravaganza': 3, '1929': 3, 'Chandler': 3, 'Pavilion': 3, '1927': 3, 'Rain': 3, 'Luther': 3, 'Opal': 3, 'Narcotics': 3, 'Armand': 3, 'Armistead': 3, 'Hari': 3, 'Iris': 3, 'Thumbsucker': 3, 'Promoters': 3, 'Patti': 3, 'Attractions': 3, 'Fog': 3, 'Madeley': 3, 'agitated': 3, 'maverick': 3, 'Down': 3, 'mansion': 3, 'Poulton': 3, 'Reggae': 3, 'Platoon': 3, 'Motley': 3, 'Crue': 3, 'Performing': 3, 'Messing': 3, 'prequel': 3, 'Hammersmith': 3, 'feuds': 3, 'stabbing': 3, 'Doves': 3, 'Akon': 3, 'Futureheads': 3, '79m': 3, 'sampled': 3, 'Alfie': 3, 'craphouse': 3, 'Jameson': 3, 'Mayer': 3, 'garnered': 3, 'Gemma': 3, 'Vagina': 3, 'Monologues': 3, 'Ensler': 3, 'Romancing': 3, 'Schwimmer': 3, 'Pretenders': 3, 'Sledge': 3, 'Jays': 3, 'Hynde': 3, 'ballerina': 3, 'Matisse': 3, 'Stamp': 3, 'Pamela': 3, 'Lectures': 3, 'Sirius': 3, 'Bradburn': 3, 'Tru': 3, 'Rakosky': 3, 'wizard': 3, 'Deadwood': 3, 'Trew': 3, 'Slayer': 3, 'Whedon': 3, 'fallow': 3, 'Palookaville': 3, 'Album': 3, 'Warhol': 3, 'Caribs': 3, 'airs': 3, 'Beginning': 3, 'Merrin': 3, 'Yellowstone': 3, 'Timothy': 3, 'Spall': 3, 'Grandchild': 3, 'Miss': 3, 'Hernandez': 3, 'Wynne': 3, 'Censor': 3, 'Im': 3, 'Richey': 3, 'Flicker': 3, 'Bible': 3, 'Sherry': 3, 'Thorne': 3, 'saxophone': 3, 'Hylands': 3, 'Dummy': 3, 'Tufnell': 3, 'Extras': 3, 'Anderton': 3, 'Bushtucker': 3, 'NRJ': 3, 'geographically': 2, 'recommending': 2, 'Teachers': 2, 'adheres': 2, 'elitist': 2, 'exam': 2, 'hypnotising': 2, 'Ned': 2, 'notions': 2, 'hypnotist': 2, 'truant': 2, 'Snooker': 2, 'Grammar': 2, 'Meo': 2, 'Reardon': 2, 'cues': 2, 'elect': 2, 'inconspicuous': 2, 'supersede': 2, 'Outlining': 2, 'ethnically': 2, 'Appearing': 2, 'Abbot': 2, 'squarely': 2, 'referendums': 2, 'reintroduction': 2, 'Sayeeda': 2, 'Warsi': 2, 'pickets': 2, 'Aberystwyth': 2, 'relocation': 2, 'Pickets': 2, 'muddled': 2, 'Partnerships': 2, 'guideline': 2, 'sexed': 2, 'Gavyn': 2, 'Dyke': 2, 'anatomy': 2, 'trivialisation': 2, 'demonisation': 2, 'disengagement': 2, 'distrust': 2, 'Cricket': 2, 'convinces': 2, 'constitutes': 2, 'HRH': 2, 'Duchess': 2, 'Consort': 2, 'queen': 2, 'abdication': 2, 'Princes': 2, 'pains': 2, 'Borderers': 2, 'amalgamate': 2, 'moulding': 2, 'envy': 2, 'armies': 2, 'flexibly': 2, 'Heald': 2, 'bishops': 2, 'Elect': 2, 'Kashmiri': 2, 'Srinagar': 2, 'Muzaffarabad': 2, 'Sikhism': 2, 'holiest': 2, 'roti': 2, 'flashpoint': 2, '301': 2, 'Archives': 2, 'makings': 2, 'unravelled': 2, 'encountering': 2, 'memo': 2, 'stilts': 2, 'mulled': 2, 'Booz': 2, 'HI': 2, 'Claims': 2, 'stormy': 2, 'Skidelsky': 2, 'doctored': 2, 'Copeland': 2, 'GLA': 2, 'idleness': 2, 'squalor': 2, 'Solutions': 2, 'Thurso': 2, 'satellites': 2, 'greenfield': 2, 'Shropshire': 2, 'uncosted': 2, 'refurbishing': 2, 'Deals': 2, 'idiocies': 2, 'invaluable': 2, 'Yugoslavia': 2, 'Distinguished': 2, 'nephew': 2, 'Sloss': 2, 'alight': 2, 'electrifying': 2, 'epitome': 2, 'scandalous': 2, 'heartlands': 2, 'insecurity': 2, 'overmighty': 2, 'occupants': 2, 'identifiers': 2, 'inaccuracies': 2, 'redirection': 2, 'retrace': 2, 'illustrated': 2, 'Vaccines': 2, 'Immunisation': 2, 'thereafter': 2, 'Movement': 2, 'neo': 2, 'strategically': 2, 'bully': 2, 'Woolwich': 2, 'sincerity': 2, 'doubting': 2, 'Interviewed': 2, 'Vine': 2, 'cutters': 2, 'uprate': 2, 'inserted': 2, 'concerted': 2, 'deliberation': 2, 'ramrodded': 2, 'uneasy': 2, 'tiptoed': 2, 'nastiest': 2, 'provoke': 2, 'sharking': 2, 'missive': 2, 'messaged': 2, 'malarkey': 2, 'intermediate': 2, 'ILW': 2, 'Fuels': 2, 'Intermediate': 2, 'drums': 2, 'sixfold': 2, 'radioactivity': 2, '680m': 2, 'Decommissioning': 2, 'millstone': 2, 'yoga': 2, 'coherent': 2, 'Polling': 2, '801': 2, '234': 2, '520m': 2, 'tinkering': 2, 'vanish': 2, 'Entry': 2, 'sectarian': 2, '100ml': 2, 'BAC': 2, '30mg': 2, 'evenings': 2, 'AA': 2, 'Motoring': 2, 'roadside': 2, 'staggered': 2, 'ramming': 2, 'exasperated': 2, 'pouring': 2, 'Sion': 2, 'blushed': 2, 'verbally': 2, 'cooperate': 2, 'Amos': 2, 'Royall': 2, 'Blaisdon': 2, 'rebellious': 2, 'ACPO': 2, 'unconscious': 2, 'yob': 2, 'lurches': 2, 'Beaumont': 2, 'reneging': 2, 'constituted': 2, 'sticks': 2, 'inmate': 2, 'slop': 2, 'buckets': 2, 'remand': 2, 'MacAskill': 2, 'spelled': 2, 'GMTV': 2, 'Gidley': 2, 'polluting': 2, 'emmissions': 2, 'litre': 2, 'Midnight': 2, 'Thought': 2, 'poison': 2, 'denials': 2, 'whispered': 2, 'beset': 2, 'rebuts': 2, 'Bremner': 2, 'falsehood': 2, 'ping': 2, 'conceivable': 2, 'mailshot': 2, 'resourced': 2, 'taster': 2, '80p': 2, '60p': 2, 'sexes': 2, 'woolly': 2, 'erode': 2, 'Cards': 2, 'backward': 2, 'extremism': 2, 'outling': 2, 'reinforced': 2, 'overestimated': 2, 'fulfils': 2, '20s': 2, 'naval': 2, 'devotion': 2, 'Marguerite': 2, 'eldest': 2, 'Macaulay': 2, 'encroachment': 2, 'vengeful': 2, 'delights': 2, 'journalistic': 2, 'followers': 2, 'deserted': 2, 'Muhammad': 2, 'Birch': 2, 'Interrupting': 2, 'Bordesley': 2, 'deceive': 2, 'Prentice': 2, 'unregistered': 2, 'passionate': 2, 'Clearskies': 2, 'boroughs': 2, 'Hillingdon': 2, 'Wandsworth': 2, 'unblighted': 2, 'homeowner': 2, 'Carlile': 2, 'internees': 2, 'Curriculum': 2, 'disappearing': 2, 'grades': 2, '143': 2, 'Donoghue': 2, 'backyard': 2, 'Booth': 2, '299': 2, 'Manner': 2, 'unreserved': 2, 'perpetuating': 2, 'grovelling': 2, '290': 2, 'expletive': 2, 'earpieces': 2, 'object': 2, 'risking': 2, 'Hazards': 2, 'exerting': 2, 'ambassadors': 2, 'Condoleezza': 2, 'councillor': 2, 'Ashok': 2, 'Stocking': 2, 'crises': 2, '09': 2, 'Ormond': 2, 'Wantage': 2, 'courageous': 2, 'drifting': 2, 'Heal': 2, 'appointees': 2, 'IHRC': 2, 'falsely': 2, 'disproportionately': 2, 'imams': 2, 'Massoud': 2, 'Shadjareh': 2, 'alienating': 2, 'racists': 2, 'hospice': 2, 'Maze': 2, 'SDLP': 2, 'lobbyist': 2, 'denounced': 2, 'devolved': 2, 'Licensees': 2, 'liquor': 2, 'exempted': 2, 'Eleanor': 2, 'refuted': 2, 'Conduct': 2, 'Misselbrook': 2, 'quell': 2, 'feuding': 2, 'amicably': 2, 'trusting': 2, 'waiter': 2, 'Blaengwynfi': 2, 'Afan': 2, 'Aberavon': 2, 'weeping': 2, '856': 2, 'healthier': 2, 'deckchairs': 2, 'unequivocal': 2, 'proceeded': 2, 'cavalier': 2, 'peacekeepers': 2, 'peacekeeping': 2, 'colony': 2, 'Gbagbo': 2, 'Sloppy': 2, 'anglers': 2, 'fairs': 2, 'mutilation': 2, 'carte': 2, 'clauses': 2, 'unpunished': 2, 'arouses': 2, 'welcomes': 2, 'invalid': 2, 'Lifelong': 2, 'Applications': 2, 'Legislation': 2, 'Caldwell': 2, 'Generalised': 2, 'vigorous': 2, 'proportional': 2, 'splintering': 2, 'trousers': 2, 'clown': 2, 'collects': 2, 'Supremacy': 2, 'nauseating': 2, 'shun': 2, 'chauvinistic': 2, 'ego': 2, 'enthusiast': 2, 'Sceptic': 2, 'insulted': 2, 'amusing': 2, 'expresses': 2, 'rescues': 2, 'Europhiles': 2, 'purge': 2, 'Recruit': 2, 'schoolchildren': 2, 'RKS': 2, 'twee': 2, 'symbolises': 2, 'ideologue': 2, 'evangelical': 2, 'Mediterranean': 2, 'rob': 2, 'analogy': 2, 'despatches': 2, 'soundbites': 2, 'shocker': 2, 'sprees': 2, 'rapes': 2, 'regulating': 2, 'tossed': 2, 'exacerbate': 2, 'CS2': 2, 'escalate': 2, '720m': 2, '947m': 2, 'unrecoverable': 2, 'twelfth': 2, 'Keighley': 2, '1925': 2, 'sneering': 2, 'upstage': 2, 'pertinent': 2, 'intimately': 2, 'mentioning': 2, 'seething': 2, 'ELSPA': 2, 'minors': 2, 'volition': 2, 'Strengthening': 2, 'accord': 2, 'Cypriot': 2, 'overspend': 2, 'tanker': 2, 'Fighter': 2, 'Nimrod': 2, 'A400M': 2, 'Type': 2, 'Destroyer': 2, 'resonsible': 2, 'Identification': 2, 'chord': 2, 'correctness': 2, 'Boulton': 2, 'dictatorship': 2, 'Baltic': 2, 'Curtain': 2, 'psychopath': 2, 'holocaust': 2, 'marched': 2, 'Brigades': 2, 'policemen': 2, 'covert': 2, 'juries': 2, 'habeas': 2, 'fascism': 2, 'imprisoning': 2, 'detective': 2, 'flimsy': 2, 'Remember': 2, 'overstepping': 2, 'pretends': 2, 'Kilo': 2, 'flatten': 2, 'hysteria': 2, 'migrate': 2, 'riddled': 2, 'meddling': 2, 'roughshod': 2, 'Wake': 2, 'WILL': 2, 'Mutually': 2, 'Assured': 2, 'Destruction': 2, 'SO': 2, 'nuked': 2, 'verbalise': 2, 'Troubles': 2, 'Experienced': 2, 'interned': 2, 'duration': 2, 'perpetuation': 2, 'craftily': 2, 'parallels': 2, 'fanaticism': 2, 'Jefferson': 2, 'republican': 2, 'philosophers': 2, 'totalitarians': 2, 'imprison': 2, 'indeterminate': 2, 'uttered': 2, 'resentful': 2, 'republicans': 2, 'Blitz': 2, 'Hence': 2, 'discriminate': 2, 'sceptically': 2, 'Maeve': 2, 'Sherlock': 2, 'discriminatorily': 2, 'bleakly': 2, 'diversion': 2, 'aggrieved': 2, 'drank': 2, 'misrepresent': 2, 'incurred': 2, 'portfolios': 2, 'Named': 2, 'intensify': 2, 'unafraid': 2, 'censure': 2, 'Kosovo': 2, 'divorcee': 2, 'casually': 2, 'schooled': 2, 'unifying': 2, 'Sadie': 2, 'Labrador': 2, 'curly': 2, 'coated': 2, 'retriever': 2, 'inclusive': 2, 'Bangladeshi': 2, 'scrutinised': 2, 'Strasbourg': 2, 'tardy': 2, 'handbook': 2, 'Stevenage': 2, 'peradventure': 2, 'segmented': 2, 'amputators': 2, 'repressors': 2, 'farmyard': 2, 'muck': 2, 'stank': 2, 'heaven': 2, 'splattered': 2, 'Detaining': 2, 'Gestingthorpe': 2, 'embryonic': 2, 'Stem': 2, 'mankind': 2, 'souls': 2, 'Multiple': 2, 'Sclerosis': 2, 'Disease': 2, 'Reeve': 2, 'forgiven': 2, 'Denham': 2, 'unnoticed': 2, 'mitigating': 2, 'betraying': 2, 'backsides': 2, 'forcible': 2, 'reintegration': 2, 'suitability': 2, 'muddling': 2, 'spats': 2, 'Reunited': 2, 'Euston': 2, 'rabbit': 2, 'hare': 2, 'flush': 2, 'Farquhar': 2, 'prevaricated': 2, 'otter': 2, 'badger': 2, 'ratcheted': 2, 'euphoric': 2, 'crockery': 2, 'slum': 2, 'shantytown': 2, 'orphanage': 2, 'Narobi': 2, 'Primary': 2, 'Meantime': 2, 'steamrolling': 2, 'Divorced': 2, 'template': 2, 'relegate': 2, 'reassert': 2, 'Delays': 2, 'Change': 2, 'massacre': 2, 'keener': 2, 'clapping': 2, 'Katrina': 2, 'rouse': 2, 'grassroots': 2, 'Councillor': 2, 'Parbutt': 2, 'hallmark': 2, 'regeneration': 2, 'bravura': 2, 'Porterhouse': 2, 'feelgood': 2, 'abhorrent': 2, 'uncontrolled': 2, 'taunts': 2, 'endure': 2, 'jeered': 2, 'Birkbeck': 2, 'patronising': 2, 'Follet': 2, 'Babes': 2, 'wiggle': 2, 'advancement': 2, 'energetically': 2, 'Whitefield': 2, 'Hannett': 2, 'ceases': 2, 'outpatient': 2, 'BMA': 2, '613': 2, '764': 2, 'siding': 2, 'usurp': 2, 'tomb': 2, 'nodded': 2, 'endeavour': 2, 'Gaza': 2, 'upkeep': 2, 'Maintenance': 2, 'mph': 2, 'Physicians': 2, 'stagger': 2, 'statisticians': 2, 'postgraduates': 2, 'rectifying': 2, 'tenets': 2, 'coherence': 2, 'assert': 2, 'Carole': 2, 'Mactaggart': 2, 'Whittingdale': 2, 'Penny': 2, 'Minimum': 2, 'remuneration': 2, 'kidnapped': 2, 'abducted': 2, 'Jazeera': 2, 'GMB': 2, 'bossy': 2, 'disbelief': 2, 'shone': 2, 'dear': 2, 'alluding': 2, 'abortions': 2, 'tantamount': 2, 'commend': 2, 'Cosmopolitan': 2, 'communion': 2, 'Weyman': 2, 'Gieve': 2, 'beggared': 2, 'Nationality': 2, 'principally': 2, 'NatWest': 2, 'knifes': 2, 'Measures': 2, 'Truancy': 2, 'Behaviour': 2, 'Improvement': 2, 'Held': 2, 'SPS': 2, 'offender': 2, 'revolving': 2, 'Communities': 2, 'Taxpayers': 2, 'delusion': 2, 'Desmond': 2, 'dispensation': 2, 'Analysis': 2, 'masochism': 2, 'questioners': 2, 'turnouts': 2, 'hazards': 2, 'gritted': 2, 'stomping': 2, 'punched': 2, 'grief': 2, 'Belgrano': 2, 'Falklands': 2, 'fizz': 2, 'enthuse': 2, 'trips': 2, 'dinners': 2, 'tittle': 2, 'tattle': 2, 'Normandy': 2, '93rd': 2, 'Hattersley': 2, 'kindly': 2, 'treason': 2, 'Discontent': 2, 'garbage': 2, 'uncollected': 2, 'gravediggers': 2, 'galleries': 2, 'Starbucks': 2, 'Rymans': 2, 'dawn': 2, 'intents': 2, 'garish': 2, 'unstained': 2, 'hallmarks': 2, 'keenness': 2, 'daft': 2, 'unsatisfactory': 2, 'Paddington': 2, 'MI5': 2, 'inadmissible': 2, 'Peirce': 2, 'appalled': 2, 'Iqbal': 2, 'Sacranie': 2, 'Club2School': 2, 'Moynihan': 2, 'absorb': 2, 'apprentices': 2, 'disturb': 2, '3rds': 2, 'unattractive': 2, 'insinuation': 2, 'simplistic': 2, 'protestations': 2, 'folds': 2, 'underpaid': 2, 'ancillary': 2, 'portering': 2, 'stinks': 2, 'heap': 2, 'SMEs': 2, 'foresee': 2, 'Program': 2, 'bettered': 2, '3x': 2, 'Employer': 2, 'Contributions': 2, 'crucible': 2, 'thirdly': 2, 'Whichever': 2, 'consumerism': 2, 'Secondly': 2, 'Tuppence': 2, 'Regrettably': 2, 'lorries': 2, 'Donor': 2, 'broadside': 2, 'Disunity': 2, 'piecemeal': 2, 'incompetence': 2, 'Abstentions': 2, 'resolutely': 2, 'showings': 2, 'certified': 2, 'Algerian': 2, 'Welfare': 2, 'Liechtenstein': 2, 'registrar': 2, 'Registrars': 2, 'registrations': 2, 'Watchdog': 2, 'bigotry': 2, 'hospitality': 2, 'reinvest': 2, 'Scared': 2, 'payer': 2, '325m': 2, 'barristers': 2, 'dictatorships': 2, 'Shani': 2, 'liken': 2, 'Elwa': 2, 'Bolshevik': 2, 'Comparing': 2, 'blushing': 2, 'Aidan': 2, 'Thatcherites': 2, 'conversational': 2, 'rhetorical': 2, 'spontaneous': 2, 'homebuyers': 2, '4p': 2, 'froze': 2, '745': 2, 'avoidance': 2, '263': 2, 'spines': 2, 'starkly': 2, 'jeopardising': 2, 'childishness': 2, 'Chevening': 2, 'Moratinos': 2, 'socialist': 2, 'libbed': 2, 'Larissa': 2, 'stepson': 2, 'Sholto': 2, 'lampooned': 2, 'hoper': 2, 'whopping': 2, 'deception': 2, 'missionairies': 2, 'unilaterally': 2, 'Alloway': 2, 'Winchester': 2, 'tolerant': 2, 'deadliest': 2, 'curable': 2, 'Domenico': 2, 'Siniscalco': 2, 'ordination': 2, 'inoculation': 2, 'vaccines': 2, 'Actionaid': 2, 'Backbencher': 2, 'threatend': 2, 'poisonous': 2, 'obstructing': 2, 'interacts': 2, 'Pensioners': 2, 'graded': 2, 'Relief': 2, 'characteristically': 2, 'interpreted': 2, 'Richmond': 2, 'Yorks': 2, 'Ffion': 2, 'crammed': 2, 'repayable': 2, 'crippling': 2, 'wardens': 2, 'Tyne': 2, 'Follett': 2, 'surveying': 2, 'perversion': 2, 'unpalatable': 2, 'seaside': 2, 'placatory': 2, 'amazes': 2, 'accusation': 2, 'barking': 2, 'gracious': 2, 'mercy': 2, 'Hampshire': 2, 'Parmjit': 2, 'disengaged': 2, 'Rafferty': 2, 'palace': 2, 'Sandhurst': 2, 'Nazis': 2, 'Dicky': 2, 'Arbiter': 2, 'disgraced': 2, 'vindictiveness': 2, 'perjury': 2, 'perverting': 2, 'reparations': 2, 'Tebbit': 2, 'sinners': 2, 'disclosures': 2, 'Anglian': 2, 'Woodbridge': 2, 'Prospective': 2, 'distasteful': 2, 'Ninety': 2, 'Saunders': 2, 'suspends': 2, 'GPs': 2, 'Shocked': 2, 'Hannah': 2, 'Baha': 2, 'Regiment': 2, 'Colonel': 2, 'Saying': 2, 'Timetable': 2, 'Ladyman': 2, '820': 2, '480': 2, 'serialisation': 2, 'paperback': 2, 'Widdecombe': 2, 'Fit': 2, 'Abdullah': 2, 'Brunei': 2, 'declares': 2, 'Mamdouh': 2, 'Habib': 2, 'combating': 2, 'patrolling': 2, 'discernible': 2, 'inconclusive': 2, 'ruins': 2, 'Sheppey': 2, 'runways': 2, 'frills': 2, 'donned': 2, 'windswept': 2, 'Egwin': 2, 'Evesham': 2, 'instructor': 2, 'Wayfarer': 2, 'frivolous': 2, 'annoyance': 2, 'shirk': 2, 'boasts': 2, 'Hefce': 2, 'neighbourhoods': 2, 'aspire': 2, 'Howells': 2, 'upfront': 2, 'deferred': 2, 'righteousness': 2, 'Gordievsky': 2, 'Yale': 2, 'historian': 2, 'wrung': 2, 'directorate': 2, 'M16': 2, 'x': 2, 'Tuberculosis': 2, '16s': 2, 'sanctuary': 2, 'stricter': 2, 'Applicants': 2, '175': 2, 'dubbing': 2, 'Wastealot': 2, 'dross': 2, '170bn': 2, 'Sacked': 2, 'Downs': 2, 'instructs': 2, 'deposal': 2, 'dictators': 2, 'negligent': 2, 'skilling': 2, 'predominately': 2, 'Taha': 2, 'noon': 2, 'articulate': 2, '58bn': 2, 'Auxiliary': 2, 'Chatham': 2, 'chartering': 2, 'woke': 2, '0530GMT': 2, 'streamline': 2, 'invade': 2, 'Ingham': 2, 'Oddie': 2, 'ITN': 2, 'Lorraine': 2, 'Nicki': 2, 'Chapman': 2, 'haircut': 2, 'implored': 2, 'giggles': 2, 'confided': 2, 'Irfan': 2, 'Hanif': 2, 'drunks': 2, 'Carman': 2, 'Hylton': 2, 'crooks': 2, 'coordinating': 2, 'grilled': 2, 'reins': 2, 'Waterson': 2, 'mockingly': 2, 'conjured': 2, 'prudence': 2, 'Twigg': 2, 'panics': 2, 'bn': 2, 'wealthiest': 2, 'livestock': 2, 'dreadfully': 2, 'pyres': 2, 'throats': 2, 'choreographed': 2, 'mantras': 2, 'microphones': 2, 'Galifray': 2, 'planetary': 2, 'noticing': 2, 'apprenticeship': 2, 'budgetary': 2, 'contributes': 2, 'finalise': 2, 'anxiety': 2, 'muggers': 2, 'mugged': 2, 'frightening': 2, 'shirking': 2, 'polluter': 2, 'Concessions': 2, 'Bland': 2, '297': 2, '203': 2, 'authorises': 2, 'sideline': 2, 'paranoid': 2, 'Rhona': 2, 'unescorted': 2, 'approving': 2, 'psychiatric': 2, 'endogenous': 2, 'convict': 2, 'ramifications': 2, 'collectively': 2, 'exhorting': 2, 'greedy': 2, 'retreating': 2, 'uncooperative': 2, 'Tagging': 2, 'collapses': 2, 'Member': 2, '922': 2, '831': 2, '177': 2, 'irregularity': 2, 'detecting': 2, 'Towards': 2, 'daubed': 2, 'reconnaissance': 2, 'interrogator': 2, 'mop': 2, 'daub': 2, 'chained': 2, 'combatant': 2, 'Glos': 2, 'coachloads': 2, 'escort': 2, 'Justices': 2, 'criss': 2, 'fringe': 2, '272': 2, '219': 2, 'Folkestone': 2, 'Hythe': 2, '738': 2, 'passivity': 2, 'morality': 2, 'strife': 2, 'passions': 2, 'frontbenchers': 2, 'laughed': 2, 'cronies': 2, 'overcrowded': 2, 'Hamlets': 2, 'Eady': 2, 'ludicrous': 2, 'inefficiencies': 2, 'burgeoned': 2, 'hidebound': 2, 'overspending': 2, 'misrepresenting': 2, 'embargoes': 2, 'Zhaoxing': 2, 'quantitative': 2, 'arrivals': 2, 'dint': 2, 'Increase': 2, 'incurring': 2, 'sprinkled': 2, 'marital': 2, '1670': 2, 'illicit': 2, 'Divorce': 2, 'maids': 2, 'butlers': 2, 'coachmen': 2, 'mistresses': 2, 'Jessy': 2, 'mistress': 2, 'divorces': 2, 'Frideric': 2, 'Handel': 2, '1727': 2, 'profession': 2, 'staid': 2, '1497': 2, 'woollen': 2, '1834': 2, '400th': 2, 'Fawkes': 2, 'perished': 2, 'Soviets': 2, 'leftwing': 2, 'leaning': 2, 'widowed': 2, 'burnt': 2, 'flicking': 2, 'hips': 2, 'fist': 2, 'ridding': 2, 'coordination': 2, 'helicopters': 2, 'Issues': 2, 'Azzam': 2, 'erosion': 2, 'Approximately': 2, 'Sher': 2, 'Specifically': 2, 'surgeon': 2, 'redistributive': 2, 'glossing': 2, 'larder': 2, 'Corston': 2, 'Institution': 2, 'constitute': 2, 'placards': 2, 'extends': 2, 'Animal': 2, 'cruel': 2, 'liability': 2, 'proportions': 2, 'Attempts': 2, 'Abdul': 2, 'Qadeer': 2, 'overlooking': 2, 'Upgrading': 2, 'Encouraging': 2, 'pressuring': 2, 'havens': 2, 'Compelling': 2, 'Aides': 2, 'fiddled': 2, 'impugning': 2, '153m': 2, 'drastic': 2, 'discrediting': 2, 'DNA': 2, '244': 2, 'Merionnydd': 2, 'Nant': 2, 'Maniffesto': 2, 'S4C': 2, 'Withdrawing': 2, 'Introduce': 2, 'Detain': 2, 'Frattini': 2, 'contravene': 2, 'Lives': 2, '529': 2, 'Quangos': 2, 'endorses': 2, 'Democracy': 2, 'boiler': 2, 'Scheme': 2, 'Woolstenholmes': 2, 'embryo': 2, 'allocations': 2, 'embryos': 2, 'DfES': 2, 'Lovell': 2, 'fertility': 2, 'Votes': 2, 'Folkes': 2, '1695': 2, 'Incapacity': 2, 'backtracking': 2, 'shredded': 2, 'outsiders': 2, 'enforceable': 2, 'masse': 2, 'Addressing': 2, 'hares': 2, 'videoing': 2, 'ofNew': 2, 'justfor': 2, 'bottled': 2, 'seconded': 2, 'holidaying': 2, 'Phi': 2, 'raged': 2, 'foment': 2, 'chests': 2, '724': 2, '929': 2, '610': 2, '849': 2, 'philanthropist': 2, 'Ondaatje': 2, 'refrigerator': 2, 'Haughey': 2, '330': 2, 'bequest': 2, 'Beardmore': 2, 'Bearwood': 2, 'Registered': 2, 'recklessly': 2, 'presidencies': 2, 'malaria': 2, 'unnecessarily': 2, 'Cafod': 2, 'guff': 2, 'scars': 2, 'caravan': 2, 'refurbish': 2, 'tolerated': 2, 'Ryder': 2, 'Traveller': 2, 'dodge': 2, 'Numerous': 2, 'Solving': 2, 'Internationally': 2, 'umbilical': 2, 'whichever': 2, 'Myron': 2, 'Ebell': 2, 'outspent': 2, 'trespassing': 2, 'retrospectively': 2, 'Redvers': 2, 'Hartpury': 2, 'Ledbury': 2, 'wrestled': 2, 'strive': 2, 'undimmed': 2, 'Forces': 2, 'inflicting': 2, 'Foulkes': 2, 'Prerogative': 2, 'believing': 2, 'Sundar': 2, 'nudge': 2, 'descent': 2, 'sworn': 2, 'succour': 2, 'SAS': 2, 'Commentary': 2, 'redone': 2, 'Pervez': 2, 'Mayfair': 2, 'dishonest': 2, 'Sustainable': 2, 'builders': 2, 'beneficiary': 2, 'metric': 2, 'Robb': 2, 'gutter': 2, 'Fraserburgh': 2, 'Harrogate': 2, 'recounted': 2, 'facial': 2, 'Postbridge': 2, 'Dartmoor': 2, 'Badminton': 2, 'horseback': 2, 'Judith': 2, 'repealed': 2, 'illiberal': 2, 'structured': 2, 'Jacqui': 2, '6pm': 2, 'grandparent': 2, 'carer': 2, 'conservation': 2, 'tatters': 2, 'Radwan': 2, 'Estimates': 2, 'mend': 2, 'Observes': 2, 'uneasily': 2, 'multinationals': 2, 'Consequently': 2, 'Kirkuk': 2, 'geo': 2, 'Aiming': 2, '418bn': 2, 'Colen': 2, 'Garrow': 2, 'Reveta': 2, 'Shamrock': 2, 'Aside': 2, 'Showbiz': 2, 'converge': 2, 'Toutai': 2, 'Claquin': 2, 'CCF': 2, 'Calmer': 2, 'threefold': 2, '186': 2, '97m': 2, 'spices': 2, 'aberration': 2, 'trims': 2, 'Halls': 2, '850bn': 2, 'OAO': 2, 'Telesystems': 2, 'saloon': 2, 'X5': 2, 'X3': 2, 'Slowdowns': 2, 'Lian': 2, 'Chia': 2, 'Liang': 2, 'rebounding': 2, 'feasibility': 2, '217': 2, 'ounces': 2, 'Revised': 2, 'hesitant': 2, 'Lehman': 2, 'muddying': 2, 'conceal': 2, 'defibrillators': 2, 'expirations': 2, 'heartbeat': 2, '149bn': 2, 'Corrupt': 2, 'Patricio': 2, 'BHP': 2, 'Billiton': 2, 'analyzing': 2, 'persuasions': 2, 'creep': 2, 'automobiles': 2, 'durables': 2, 'toothless': 2, 'aging': 2, 'Brute': 2, 'indigent': 2, 'equip': 2, 'Hindustan': 2, 'Congo': 2, 'Troubled': 2, 'misdeeds': 2, 'joblessness': 2, 'Widely': 2, 'bleak': 2, '875': 2, 'hovered': 2, 'jumpy': 2, '3652': 2, '3667': 2, 'Mackel': 2, '387m': 2, '206m': 2, 'Neidl': 2, 'wranglings': 2, 'proactively': 2, 'Commitment': 2, 'Effective': 2, 'Brink': 2, 'demography': 2, '294': 2, '725m': 2, '527': 2, '61m': 2, 'SARS': 2, 'pins': 2, 'violators': 2, 'Garfield': 2, 'overproduction': 2, 'wines': 2, 'Bussereau': 2, 'cooperatives': 2, 'Domestic': 2, 'distil': 2, '931m': 2, 'pricier': 2, 'Clearance': 2, '415m': 2, '798m': 2, 'locality': 2, 'Directory': 2, 'fivefold': 2, '246bn': 2, 'Woodside': 2, '961': 2, 'favouring': 2, 'steered': 2, 'revoked': 2, 'clamour': 2, 'nudging': 2, 'Annual': 2, 'troughs': 2, 'performs': 2, 'Satyanarayana': 2, 'ensued': 2, 'Sox': 2, 'certify': 2, 'onerous': 2, 'Nicolaisen': 2, '635': 2, '290m': 2, 'Catalogue': 2, 'Decay': 2, 'Businessman': 2, 'sagging': 2, 'Takashi': 2, 'resilient': 2, 'Susilo': 2, 'Bambang': 2, 'importers': 2, 'Megawati': 2, 'Sukarnoputri': 2, 'thaw': 2, 'Hosni': 2, 'Mubarak': 2, '037': 2, 'ZDF': 2, 'abnormal': 2, 'axing': 2, 'disregard': 2, '521': 2, 'hedging': 2, 'Barclay': 2, 'Conrad': 2, 'MacLennan': 2, 'lifeblood': 2, 'Italaudit': 2, 'Touche': 2, 'deteriorated': 2, 'Pact': 2, 'Eichel': 2, 'EPP': 2, 'cancellation': 2, 'envisioned': 2, 'Lt': 2, 'Col': 2, 'Schnaible': 2, 'Inner': 2, 'Mongolia': 2, 'Junhuai': 2, 'Xinhua': 2, 'befall': 2, '387': 2, 'fortified': 2, 'vegetable': 2, 'supplementary': 2, 'distributions': 2, 'lactating': 2, 'drought': 2, 'drained': 2, '965': 2, 'synonym': 2, 'scarcely': 2, 'Hofheinz': 2, 'Targets': 2, 'backseat': 2, 'sacrificed': 2, 'altar': 2, 'Aleksey': 2, 'Khristenko': 2, 'rebounds': 2, 'rebounded': 2, 'panicked': 2, 'Deborah': 2, 'SG': 2, 'soybean': 2, 'peptides': 2, 'Sapporo': 2, 'seawater': 2, 'potatoes': 2, '280m': 2, 'Reithofer': 2, '730': 2, 'Convertible': 2, 'Minis': 2, 'SE': 2, 'Geography': 2, '332': 2, 'leftist': 2, '39m': 2, 'Westfalen': 2, 'discontinued': 2, '771': 2, 'typhoons': 2, 'earthquakes': 2, 'Tightly': 2, 'catastrophes': 2, 'retrial': 2, 'Iliaronov': 2, 'qualitatively': 2, 'rouble': 2, 'Vedomosti': 2, 'wiping': 2, 'underwriting': 2, 'Oversight': 2, 'spit': 2, 'vampire': 2, 'Paion': 2, 'undelivered': 2, 'Mineta': 2, 'stranding': 2, 'paycuts': 2, 'Disruptions': 2, 'mandated': 2, 'Airway': 2, 'Choking': 2, 'jams': 2, 'reorganising': 2, 'Yan': 2, 'bays': 2, 'dignitaries': 2, 'Bloomberg': 2, '530m': 2, '94m': 2, 'cleaners': 2, 'liquidating': 2, 'outperform': 2, 'Omnicom': 2, 'Ogilvy': 2, 'Mather': 2, 'Cordiant': 2, 'FIFA': 2, 'stout': 2, 'agrarian': 2, 'Cojedes': 2, 'farmland': 2, 'estates': 2, 'Charcote': 2, 'landowners': 2, 'tenders': 2, 'Trutnev': 2, 'Kulakov': 2, 'Barrick': 2, 'Moreover': 2, 'Income': 2, 'macroeconomic': 2, 'Sener': 2, 'alleviate': 2, 'literate': 2, 'assertions': 2, 'darkly': 2, 'egged': 2, 'Reza': 2, 'Moghadam': 2, '479': 2, '962': 2, 'overpaying': 2, 'contemplated': 2, '639m': 2, 'flops': 2, '09bn': 2, 'Parsons': 2, 'foresees': 2, 'cubic': 2, 'malpractice': 2, 'AIG': 2, 'tyres': 2, 'Activison': 2, 'Pac': 2, 'financings': 2, 'shave': 2, 'clerical': 2, 'Struggling': 2, 'catalysed': 2, 'repairing': 2, 'bailouts': 2, '472bn': 2, 'orchestrated': 2, 'Ebber': 2, 'Firestone': 2, 'dinars': 2, 'Riots': 2, 'Maghnia': 2, 'Butane': 2, 'cook': 2, 'fluctuating': 2, 'defaulting': 2, 'Upscale': 2, 'Nordstrom': 2, 'bargains': 2, '220bn': 2, 'Costco': 2, 'Accessory': 2, 'Jeweller': 2, 'Zale': 2, 'sporty': 2, 'Luca': 2, '156': 2, '893': 2, 'Bisnis': 2, 'Mahendra': 2, 'Steady': 2, 'Payroll': 2, 'Brewing': 2, '353': 2, '183': 2, 'Bass': 2, 'Artois': 2, 'Klin': 2, 'Ivanovo': 2, 'Saransk': 2, 'Volzhsky': 2, 'Omsk': 2, 'Novocheboksarsk': 2, 'sportswear': 2, 'McGuigan': 2, 'equation': 2, 'frustrates': 2, 'churn': 2, 'offshoring': 2, 'Sunovate': 2, 'Greensleeves': 2, 'Surprisingly': 2, '136': 2, 'Eckhard': 2, 'dealerships': 2, 'paving': 2, 'disappointingly': 2, 'rested': 2, 'mediating': 2, 'windows': 2, 'curtains': 2, 'horseracing': 2, 'Mystery': 2, 'Maximov': 2, 'bailiffs': 2, '152': 2, 'Homeowners': 2, 'persists': 2, 'Westfallen': 2, 'HVB': 2, 'Schechter': 2, '560m': 2, 'restructured': 2, 'Aero': 2, 'Giants': 2, 'Orion': 2, 'Dassault': 2, 'Mikoyan': 2, 'Gurevich': 2, 'SpiceJet': 2, 'fog': 2, 'awoken': 2, 'tonne': 2, 'refutes': 2, 'disappointments': 2, 'catapulted': 2, '3666': 2, '3636': 2, '141': 2, 'ISG': 2, 'Lakshmi': 2, 'modernisation': 2, 'Ispat': 2, '32bn': 2, 'spokeman': 2, 'V8': 2, 'specialises': 2, 'bolts': 2, 'fixings': 2, 'Hugues': 2, 'Charbonnier': 2, 'Sawicki': 2, 'Huisman': 2, 'Itrec': 2, 'cordless': 2, 'Bonn': 2, '861m': 2, '451m': 2, 'Uncertainty': 2, 'Sluggish': 2, 'fend': 2, 'european': 2, '0619': 2, 'Junya': 2, 'Tanase': 2, 'Hang': 2, 'Seng': 2, 'Naris': 2, 'Chaiyasoot': 2, '660m': 2, 'Calculators': 2, '261bn': 2, 'Megane': 2, 'impacted': 2, 'Bids': 2, 'changeable': 2, 'ritzier': 2, 'frost': 2, 'chill': 2, 'conciliatory': 2, 'Yassir': 2, 'Malaria': 2, 'desktops': 2, 'Lawmakers': 2, 'billionaires': 2, 'Bonderman': 2, 'Anheuser': 2, 'Busch': 2, 'distancing': 2, 'preconditions': 2, 'vehemently': 2, 'placements': 2, 'OTC': 2, 'Bulletin': 2, 'Sons': 2, 'traction': 2, '000bn': 2, '537bn': 2, 'Yoshifumi': 2, 'Nishikawa': 2, 'TAV': 2, 'Tehran': 2, 'Imam': 2, 'Khomeini': 2, '722m': 2, 'Svanberg': 2, 'muddy': 2, 'topple': 2, 'Uzbekistan': 2, 'Belarus': 2, 'Nursultan': 2, 'Abish': 2, 'uly': 2, 'Nazarbayev': 2, 'Eduard': 2, 'flagging': 2, '971': 2, 'taxiing': 2, 'Straberg': 2, 'trades': 2, 'Intifada': 2, 'Assessment': 2, 'surges': 2, '449': 2, 'Automobile': 2, '296': 2, 'discrepancy': 2, 'Egelton': 2, 'BMO': 2, 'Dismal': 2, 'unrevised': 2, 'confounding': 2, '265': 2, 'automotives': 2, '367': 2, 'widens': 2, 'Dayanidhi': 2, 'Potential': 2, 'Desai': 2, 'FDI': 2, 'Sterling': 2, 'clouding': 2, 'retires': 2, 'lapsed': 2, 'Macedonian': 2, '912km': 2, 'Burgas': 2, 'Vlore': 2, 'Balkans': 2, 'Fatos': 2, 'Nano': 2, '789m': 2, '03bn': 2, '548m': 2, 'shuttle': 2, 'containers': 2, 'Randall': 2, 'Guaranty': 2, 'Roundtable': 2, 'Congressmen': 2, 'dismayed': 2, 'firmer': 2, 'Logue': 2, 'Oklahoma': 2, 'bailout': 2, 'DrKW': 2, 'basket': 2, 'Panel': 2, 'Platon': 2, 'fertiliser': 2, 'contradictions': 2, 'Lena': 2, 'Ifzal': 2, 'Debt': 2, 'downgrades': 2, '514m': 2, 'bookrunners': 2, 'equated': 2, 'payoff': 2, 'overheats': 2, 'Congdon': 2, 'cheapness': 2, 'formulating': 2, 'Deshui': 2, 'renminbi': 2, 'Wangli': 2, 'sociable': 2, 'STMA': 2, 'overcharged': 2, '169': 2, '198': 2, 'Utgoff': 2, 'densely': 2, 'Mercantile': 2, 'Nymex': 2, '671': 2, '484bn': 2, '496': 2, 'Bootle': 2, 'constrained': 2, '578m': 2, '72bn': 2, 'Subject': 2, 'Koram': 2, 'overpaid': 2, 'accretive': 2, 'Newbridge': 2, 'mulls': 2, 'carmaking': 2, '3270': 2, 'victimisation': 2, 'Teva': 2, 'Birgit': 2, '648m': 2, 'willmean': 2, 'sourcing': 2, 'Topping': 2, 'scenic': 2, 'SEPA': 2, 'Yue': 2, 'megawatts': 2, 'Xiluodi': 2, 'damming': 2, 'Nu': 2, 'Clothing': 2, 'booms': 2, 'powder': 2, 'Reconstruction': 2, 'lovin': 2, 'McCafe': 2, 'Colleagues': 2, '40bn': 2, 'NIOC': 2, 'Yadavaran': 2, 'Jufeyr': 2, 'Consumption': 2, 'defective': 2, 'Resorts': 2, 'Seasons': 2, 'renovating': 2, 'halts': 2, '2944': 2, '2100GMT': 2, '3006': 2, 'Cars': 2, 'Annuity': 2, 'broking': 2, '901m': 2, 'Sung': 2, 'Sohn': 2, 'Plasma': 2, 'spooked': 2, 'sails': 2, 'Berson': 2, 'Cadillacs': 2, 'BLS': 2, 'unalloyed': 2, 'Jaguar': 2, 'liquidated': 2, 'Yoo': 2, 'Ji': 2, 'chang': 2, 'issuer': 2, 'Yungmin': 2, 'Dongwon': 2, 'pinpointing': 2, 'unconscionable': 2, 'unhappiness': 2, 'tooling': 2, 'overbalancing': 2, 'BdB': 2, 'Publishing': 2, 'reversal': 2, 'proximity': 2, 'Augusto': 2, 'Allende': 2, 'Equatorial': 2, 'rejoiced': 2, 'horrors': 2, '676m': 2, '352m': 2, '618m': 2, '232m': 2, '337m': 2, '360m': 2, 'fixing': 2, 'progressive': 2, 'PML': 2, 'Goodbody': 2, 'Wearside': 2, '31p': 2, '086': 2, 'unsecured': 2, 'spurts': 2, 'flashing': 2, 'Clarin': 2, 'Bolivia': 2, 'renegotiate': 2, 'Weaker': 2, 'pullback': 2, 'nonetheless': 2, 'Koen': 2, 'earnest': 2, 'twenty': 2, 'durability': 2, '997': 2, 'orthodox': 2, 'Stelios': 2, 'Haji': 2, 'Ioannou': 2, 'Easy': 2, 'disclaimer': 2, 'epicentre': 2, 'Egeland': 2, 'Troeber': 2, 'insured': 2, 'southeast': 2, 'Arrivals': 2, 'thrived': 2, '1st': 2, 'feeder': 2, 'notification': 2, 'pooled': 2, 'wrought': 2, 'underwater': 2, 'Reisurance': 2, 'TUI': 2, 'Mediterranne': 2, 'Dax': 2, 'Cac': 2, 'unfolding': 2, 'Kinki': 2, 'HIS': 2, 'destabilise': 2, 'overrun': 2, 'jumbo': 2, 'agrochemical': 2, 'bribing': 2, 'remedial': 2, 'labourers': 2, '82bn': 2, 'Mexicans': 2, '327': 2, 'remittance': 2, 'Remittance': 2, 'Regulatory': 2, '97bn': 2, 'reaping': 2, 'dissenting': 2, '88bn': 2, 'Chadha': 2, 'shabby': 2, '51bn': 2, 'defaulted': 2, 'Yesterday': 2, 'parliaments': 2, 'Deficits': 2, '193bn': 2, '327m': 2, 'wafer': 2, 'Thermal': 2, 'crudes': 2, '751': 2, 'harden': 2, 'Kyle': 2, 'Highfields': 2, 'CL': 2, 'tires': 2, 'BASF': 2, '07bn': 2, '558m': 2, 'Sinche': 2, 'Equities': 2, 'correspondents': 2, 'unpayable': 2, 'Lawson': 2, 'comprises': 2, 'Mandela': 2, 'impede': 2, 'Barrot': 2, 'Iberia': 2, 'AZ': 2, '39bn': 2, 'luring': 2, 'Utility': 2, 'tractor': 2, 'Mahindra': 2, '874': 2, 'unrivalled': 2, 'Hoy': 2, 'Cleveland': 2, 'firmed': 2, 'congested': 2, 'interconnection': 2, 'unwind': 2, 'liqueur': 2, 'capita': 2, 'shopfronts': 2, 'Rinat': 2, 'Akhmetov': 2, 'annul': 2, 'resold': 2, '522': 2, 'severance': 2, 'inquire': 2, 'Statistic': 2, 'Emmanuel': 2, '6709': 2, 'fizzled': 2, 'Baglihar': 2, 'Jailed': 2, 'exile': 2, 'Worker': 2, '499m': 2, 'Laah': 2, 'Chong': 2, 'gyu': 2, 'Roslynn': 2, 'extortion': 2, 'sobbed': 2, 'contended': 2, 'Shadrin': 2, 'Sberbank': 2, 'freshwater': 2, 'Tass': 2, 'pumping': 2, 'expropriation': 2, 'observing': 2, 'offloading': 2, '146m': 2, 'bumping': 2, 'misleads': 2, 'Seamus': 2, 'positioning': 2, 'Dove': 2, 'Burgmans': 2, 'simplification': 2, 'Sweere': 2, 'Petercam': 2, 'organizational': 2, 'beverage': 2, 'Procter': 2, 'Gamble': 2, '650m': 2, 'wane': 2, 'carbohydrate': 2, 'Banda': 2, 'flattened': 2, 'vows': 2, 'Mickey': 2, '253m': 2, '175m': 2, 'Ephraim': 2, 'Fidelis': 2, 'Nanga': 2, 'Yaounde': 2, 'exemplary': 2, 'meted': 2, 'Transparency': 2, 'Bosses': 2, 'onward': 2, 'insolvent': 2, 'sweetening': 2, 'Tommie': 2, 'Bergman': 2, 'Michelmore': 2, 'denominations': 2, 'Sureyya': 2, 'Serdengecti': 2, '18bn': 2, 'austerity': 2, 'Tevfik': 2, 'Aksoy': 2, 'nominal': 2, 'Hayriye': 2, 'Evren': 2, 'funnelling': 2, 'centenarians': 2, 'Osaka': 2, 'sexagenarian': 2, 'sutras': 2, 'outlive': 2, 'childbirth': 2, '127': 2, 'Standing': 2, 'harbour': 2, 'spurt': 2, 'quarrying': 2, 'outturn': 2, 'Shops': 2, 'weekends': 2, 'heaving': 2, '465': 2, 'pickups': 2, 'accumulator': 2, 'fragments': 2, 'hydraulic': 2, '815': 2, 'Raniers': 2, 'Trailblazers': 2, 'Envoys': 2, 'Isuzu': 2, 'Ascenders': 2, 'windshield': 2, 'documenting': 2, 'Wealth': 2, 'Kirk': 2, 'gratitude': 2, 'birthplace': 2, '1723': 2, 'reared': 2, 'intellect': 2, 'insights': 2, 'laissez': 2, 'faire': 2, 'Supplies': 2, 'Niyazov': 2, 'pester': 2, 'stump': 2, 'Reporting': 2, '59m': 2, 'yields': 2, 'Broughton': 2, 'surcharges': 2, 'Buyers': 2, 'ISEQ': 2, '6661': 2, 'ticks': 2, 'Asher': 2, 'Hibernian': 2, 'Buoyant': 2, 'Jefferies': 2, 'reclaim': 2, 'billing': 2, 'contends': 2, 'jurisdictions': 2, 'Refining': 2, 'Silliere': 2, 'Gasoline': 2, 'colder': 2, 'Bello': 2, 'naira': 2, 'Cocoa': 2, 'Osagie': 2, 'Edo': 2, 'spraying': 2, 'grower': 2, 'Rags': 2, 'consenus': 2, 'grocers': 2, '87bn': 2, 'merchandising': 2, 'SalterBaxter': 2, 'verified': 2, 'fluff': 2, 'moratoriums': 2, 'brick': 2, 'timeframe': 2, 'discouraging': 2, '126': 2, '906': 2, 'Clearnet': 2, 'firepower': 2, '429m': 2, 'Aggregates': 2, '164': 2, 'Mohammad': 2, 'Continued': 2, 'modestly': 2, 'Majlis': 2, '830bn': 2, 'vis': 2, 'burgeoning': 2, 'Presenting': 2, '56bn': 2, 'Pledged': 2, 'sourced': 2, 'budgeted': 2, 'Expanded': 2, 'Raised': 2, 'displeasure': 2, 'Hebrew': 2, 'Binyamin': 2, 'Netanyahu': 2, 'stabilisation': 2, 'Oganesyan': 2, 'leverage': 2, 'Lukashov': 2, 'unfiltered': 2, 'Bevington': 2, 'Rosemead': 2, 'Letter': 2, 'Breier': 2, 'Vicente': 2, 'ranchers': 2, 'classifying': 2, 'vindicate': 2, 'owing': 2, 'swelled': 2, '428m': 2, 'Seafood': 2, 'Label': 2, 'Distribution': 2, 'Basic': 2, 'Amuro': 2, 'Membership': 2, 'envoy': 2, 'applicant': 2, 'situated': 2, 'Lavender': 2, 'Strafford': 2, '339m': 2, 'maximisation': 2, 'Claes': 2, 'Hultman': 2, 'Dhirubhai': 2, 'dampen': 2, 'Trichet': 2, 'Dubbed': 2, '331bn': 2, 'characterized': 2, 'Shiro': 2, '610m': 2, 'notifying': 2, 'Correspondents': 2, 'placate': 2, 'candles': 2, 'mourning': 2, 'Ogden': 2, 'easygoing': 2, 'edgy': 2, 'cowardly': 2, '245m': 2, 'entities': 2, '793': 2, 'downbeat': 2, 'Touati': 2, 'Passengers': 2, 'behemoth': 2, '86bn': 2, 'Roukis': 2, 'Studio': 2, 'sidestepped': 2, 'Brokers': 2, 'Schumer': 2, '197bn': 2, '348bn': 2, '855bn': 2, 'Kristiansen': 2, 'rebrand': 2, 'cuisine': 2, 'hikes': 2, 'Hinting': 2, 'robustly': 2, 'fretted': 2, 'IADB': 2, 'incorrect': 2, 'supervision': 2, 'COX': 2, '581m': 2, 'Alarm': 2, 'cardiovascular': 2, 'Facing': 2, 'Medicines': 2, '66bn': 2, 'redeemable': 2, 'brainchild': 2, 'Durex': 2, 'GPW': 2, 'Seton': 2, 'Healthcare': 2, '260m': 2, '134m': 2, 'vodka': 2, 'Menezes': 2, 'refundable': 2, '646m': 2, 'twitched': 2, 'MSCI': 2, 'notional': 2, 'rubbing': 2, 'Moines': 2, 'costliest': 2, 'minuscule': 2, 'slumps': 2, 'indifferent': 2, 'Taxation': 2, 'Xuren': 2, '311bn': 2, '165bn': 2, '593': 2, 'rebates': 2, '420bn': 2, '124bn': 2, '150bn': 2, 'Rebuilding': 2, 'Insured': 2, 'Maldive': 2, 'Prudential': 2, 'Gelb': 2, 'Bermuda': 2, 'Newsome': 2, 'Tourists': 2, 'Citroen': 2, 'alliances': 2, 'Skis': 2, 'surfwear': 2, 'snowboards': 2, 'retreated': 2, 'Adnan': 2, 'Eldin': 2, '208m': 2, 'orchestrate': 2, 'Banco': 2, 'counteract': 2, 'hideous': 2, 'halting': 2, 'defaults': 2, 'AARA': 2, 'savers': 2, 'Libyan': 2, 'Farhat': 2, 'Gadaravice': 2, 'decker': 2, 'Blixt': 2, 'transforms': 2, 'demerge': 2, 'Pinewood': 2, 'Cafes': 2, 'JD': 2, 'Carmakers': 2, 'Prius': 2, 'popularised': 2, 'hybrids': 2, 'Mariner': 2, 'pickup': 2, 'deceleration': 2, 'Pratt': 2, 'Comments': 2, '3187': 2, 'flats': 2, '192': 2, '713': 2, '544': 2, '314': 2, '825': 2, 'Agreeing': 2, 'waive': 2, 'propping': 2, 'detailing': 2, 'Filing': 2, 'debtor': 2, '483': 2, 'Juergen': 2, 'Unadjusted': 2, 'Lockyer': 2, 'renews': 2, 'snowfalls': 2, 'Declines': 2, 'shivering': 2, 'Yanukovych': 2, 'soothe': 2, 'frayed': 2, 'sympathetic': 2, 'Veron': 2, 'Reville': 2, 'eternal': 2, '1650': 2, '3280': 2, '8923': 2, 'implicating': 2, 'autos': 2, 'plurality': 2, 'Kull': 2, 'Blunt': 2, 'blistering': 2, 'Louisa': 2, 'NTV': 2, 'swallowed': 2, 'Bogdanchikov': 2, 'Obtaining': 2, 'industrially': 2, 'dwarfed': 2, '204m': 2, '187m': 2, 'endangered': 2, 'rice': 2, 'overhang': 2, '050': 2, 'Goya': 2, 'Kuala': 2, 'Lumpur': 2, 'undervaluing': 2, 'Reckers': 2, 'segments': 2, '691m': 2, 'Sunil': 2, 'Avions': 2, 'Bagnato': 2, 'Sans': 2, 'Dixey': 2, '915': 2, '486': 2, 'apace': 2, 'Patents': 2, '966m': 2, 'Schilbe': 2, 'Trinkaus': 2, 'Burkhardt': 2, 'Strikes': 2, 'Isabelle': 2, 'Kronawitter': 2, 'Hypovereinsbank': 2, 'builder': 2, 'Doughnuts': 2, 'dunking': 2, 'franchisee': 2, 'Ricard': 2, 'Havana': 2, 'rum': 2, 'snack': 2, 'problematic': 2, '515m': 2, 'harms': 2, 'BACAP': 2, '785m': 2, 'unfavourably': 2, '784m': 2, 'Dodge': 2, 'Jeep': 2, '506m': 2, 'Fuso': 2, 'Lynn': 2, 'Converse': 2, 'sneakers': 2, '261': 2, 'Oregon': 2, 'Ainum': 2, 'Lillian': 2, 'Metrojaya': 2, '376m': 2, 'Peng': 2, 'shrivelled': 2, 'husk': 2, 'creditworthiness': 2, 'BBB': 2, 'businessmen': 2, 'Yoshiaki': 2, 'untouchable': 2, 'industrialists': 2, 'dined': 2, 'stern': 2, 'drift': 2, 'persuasive': 2, 'diminished': 2, 'Reline': 2, 'Oatleys': 2, 'startled': 2, 'manger': 2, 'Constellation': 2, 'Mondavi': 2, 'Parcel': 2, 'DHL': 2, 'logistics': 2, 'Beh': 2, '950p': 2, 'Arcleor': 2, 'Vale': 2, 'Dolce': 2, 'MEPS': 2, 'uncharted': 2, 'JFE': 2, '172': 2, '805': 2, 'Luxury': 2, 'reaffirming': 2, '38am': 2, 'teaches': 2, 'Shoppers': 2, '269bn': 2, '268bn': 2, '568m': 2, 'Banton': 2, 'plaintiff': 2, 'Lerach': 2, '155m': 2, '378': 2, 'retrieved': 2, 'Lay': 2, 'Skilling': 2, 'kickstarting': 2, 'Sole': 2, 'negligible': 2, 'juddering': 2, 'Naoki': 2, 'periodically': 2, 'privatising': 2, 'Misr': 2, 'Soccerex': 2, 'Ofex': 2, 'seater': 2, 'matchday': 2, 'quantity': 2, 'Bingley': 2, 'housebuilder': 2, 'riyals': 2, 'functioning': 2, 'softness': 2, 'scout': 2, 'deepened': 2, 'Northumberland': 2, 'Liberians': 2, 'unfazed': 2, 'woe': 2, 'duopoly': 2, 'fattening': 2, 'revamping': 2, 'pedometers': 2, 'jelly': 2, 'Wolfensohn': 2, 'foremost': 2, 'Thaksin': 2, 'Juthamas': 2, 'Siriwan': 2, 'Khurmala': 2, 'IOG': 2, 'Ironhorse': 2, 'Suba': 2, 'Luhais': 2, 'Nanjing': 2, '793m': 2, '470m': 2, 'receivable': 2, 'Visteon': 2, 'Hundred': 2, 'Montego': 2, 'Freestyle': 2, 'Mustang': 2, 'LR3': 2, 'Discovery': 2, 'S40': 2, 'V50': 2, '798': 2, 'automotive': 2, 'McLean': 2, 'Harbin': 2, 'frontrunners': 2, 'Xuebing': 2, 'worthiness': 2, 'snowfall': 2, 'notched': 2, 'G6': 2, 'Cobalt': 2, 'automaker': 2, 'Avalon': 2, 'sedan': 2, 'arbitrator': 2, 'amidst': 2, '488': 2, 'pessimism': 2, 'Scandal': 2, '117m': 2, 'Jiulin': 2, 'Changi': 2, 'Holding': 2, 'resolving': 2, 'CPI': 2, 'Deflation': 2, 'confidant': 2, 'reaffirmed': 2, 'GSK': 2, 'underperformed': 2, '240m': 2, 'formalised': 2, 'PDVSA': 2, 'Enarsa': 2, 'Petrobras': 2, 'uneven': 2, 'tit': 2, 'tat': 2, 'enlargement': 2, 'Zoellick': 2, 'Lack': 2, 'uniformity': 2, 'reshape': 2, 'revisits': 2, 'privatised': 2, 'annulled': 2, 'DZ': 2, 'Bernd': 2, 'Weidensteiner': 2, 'Sinn': 2, '1800': 2, 'Incomes': 2, 'Schulte': 2, 'Strathaus': 2, 'languishing': 2, 'undeclared': 2, 'rigour': 2, 'soundness': 2, 'trebled': 2, 'attribute': 2, 'unrealistically': 2, 'Diversified': 2, 'amassing': 2, 'empires': 2, 'swathe': 2, 'Miles': 2, 'Shipside': 2, 'Notebaert': 2, '778': 2, 'Faisal': 2, 'pitiful': 2, 'Comptroller': 2, 'Hevesi': 2, 'Elson': 2, 'Governance': 2, 'Manhattan': 2, 'machinations': 2, 'Galesi': 2, 'cites': 2, 'rescheduling': 2, 'Oreo': 2, 'cookies': 2, 'sugary': 2, 'Kool': 2, 'Solution': 2, 'tragically': 2, 'descendants': 2, '1800s': 2, 'assassinated': 2, 'Rafik': 2, 'redeveloped': 2, 'prevailing': 2, 'Fidel': 2, 'virtue': 2, 'Cubans': 2, 'Barrioneuvo': 2, 'gripes': 2, 'workspace': 2, 'congenial': 2, 'prettier': 2, 'Petersen': 2, 'conferring': 2, 'yours': 2, 'workload': 2, 'trusses': 2, 'bracing': 2, 'outer': 2, 'plasterboard': 2, 'rockwool': 2, 'slab': 2, 'oak': 2, 'veneer': 2, 'uplights': 2, 'washers': 2, 'downlights': 2, 'Regarding': 2, 'lengthened': 2, 'Surveyors': 2, 'chartered': 2, 'Correcting': 2, '434m': 2, '732m': 2, 'restatements': 2, 'Landmark': 2, 'Bangaldesh': 2, 'Mafeca': 2, 'AGOA': 2, 'Bridgewell': 2, 'biotech': 2, 'importer': 2, 'stategist': 2, 'Cherney': 2, 'Frequency': 2, 'speculative': 2, 'solidity': 2, 'outweight': 2, 'solves': 2, 'iDefence': 2, 'Junk': 2, 'Scam': 2, 'Hammerton': 2, 'focussing': 2, 'bleakest': 2, 'trillions': 2, 'Kutaragi': 2, 'nearing': 2, 'attach': 2, 'ROKR': 2, 'CeBIT': 2, 'hangar': 2, 'Literally': 2, 'embodiment': 2, 'avatars': 2, 'avatar': 2, 'downstairs': 2, 'bathroom': 2, 'kettle': 2, 'unfolded': 2, 'centralise': 2, 'purification': 2, 'tablets': 2, 'flung': 2, 'Torrent': 2, 'Started': 2, 'Pittsburgh': 2, 'numerique': 2, 'terrestre': 2, 'Mediametrie': 2, 'MPEG': 2, 'Bodinat': 2, 'poisoned': 2, 'dole': 2, 'Copies': 2, 'Filtering': 2, 'gateways': 2, 'coordinate': 2, 'inaugurated': 2, 'Irrigation': 2, 'huaral': 2, 'unites': 2, 'Ways': 2, 'Academics': 2, 'Cumberbatch': 2, 'Niels': 2, 'Brinkman': 2, 'measurements': 2, 'Euro1080': 2, 'halo': 2, 'hulking': 2, 'Gammage': 2, 'Pelletier': 2, 'engrossing': 2, 'Sixth': 2, 'Oram': 2, 'hysterical': 2, 'DLP': 2, 'GfK': 2, 'sticker': 2, 'flavours': 2, '42in': 2, '106cm': 2, 'suffice': 2, 'evokes': 2, 'N64': 2, 'glued': 2, 'backfires': 2, 'juices': 2, 'Nightfire': 2, 'aura': 2, 'glaring': 2, 'fraught': 2, 'raging': 2, 'firefights': 2, 'fiend': 2, 'Oddjob': 2, 'Xenia': 2, 'Onatopp': 2, 'villains': 2, 'Diehard': 2, 'predetermined': 2, 'dually': 2, 'depletion': 2, 'expiration': 2, 'restitution': 2, 'OFT': 2, '2s': 2, 'shutting': 2, 'Cells': 2, 'furiously': 2, 'succeeds': 2, 'cyborg': 2, 'Produced': 2, 'cultivated': 2, 'shooters': 2, 'remarking': 2, 'Master': 2, 'Yeahronimo': 2, 'Ventures': 2, 'elicits': 2, 'languished': 2, 'emulators': 2, 'Remembering': 2, 'VCRs': 2, 'demonised': 2, 'Paid': 2, 'unimaginable': 2, 'validity': 2, 'Broadcasts': 2, 'lineout': 2, 'Gridlock': 2, 'species': 2, 'pronounced': 2, 'unlock': 2, 'scholarly': 2, 'Reg': 2, 'LeClerc': 2, 'buzzing': 2, 'unremarkable': 2, 'AM3D': 2, 'SRS': 2, 'encoder': 2, 'Driving': 2, 'Jos': 2, 'Borrell': 2, 'Lipietz': 2, 'Spin': 2, 'Monterrey': 2, 'Mainstream': 2, 'Makisa': 2, 'Papo': 2, 'Uno': 2, 'Contra': 2, 'Veinte': 2, 'Hotspot': 2, 'Connectotel': 2, 'Megastores': 2, 'Travelodge': 2, 'Trains': 2, 'Magnus': 2, 'McEwen': 2, 'SARFT': 2, 'sensitivities': 2, 'Ruigang': 2, 'watcher': 2, 'CGA': 2, 'Jeanne': 2, 'quotient': 2, 'Knights': 2, 'skirmishes': 2, 'Darth': 2, 'Vader': 2, 'ample': 2, 'waypoints': 2, 'dusty': 2, 'Tatooine': 2, 'Geonosis': 2, 'moon': 2, 'Endor': 2, 'maligned': 2, 'backdrops': 2, 'motifs': 2, 'symphonies': 2, 'doubtless': 2, 'pony': 2, 'whipping': 2, 'formulate': 2, 'bolted': 2, 'pervaded': 2, 'handbag': 2, 'lenses': 2, 'fuses': 2, 'neuroscientist': 2, 'sleepwalk': 2, 'electrically': 2, 'conductive': 2, 'sewn': 2, 'sleeves': 2, 'swimming': 2, 'titanium': 2, 'socks': 2, 'resistant': 2, 'passer': 2, 'infiltrates': 2, 'biology': 2, 'arrogantly': 2, 'implants': 2, 'Starfox': 2, 'Kentish': 2, 'captive': 2, 'oxygen': 2, 'dump': 2, 'Advertisers': 2, 'allocate': 2, 'Lifestyle': 2, 'funkier': 2, 'tribes': 2, 'phonecam': 2, 'Usage': 2, 'keystrokes': 2, 'sabotage': 2, 'Sabotage': 2, 'Potentially': 2, 'emailed': 2, 'Ellsmore': 2, 'Hackarmy': 2, 'Stagework': 2, 'Bend': 2, 'McQueen': 2, 'Wideband': 2, 'licencing': 2, 'CEPT': 2, 'Ubisense': 2, 'IEEE': 2, 'firemen': 2, 'Groove': 2, 'V603SH': 2, 'Devised': 2, 'Fishing': 2, 'afficiandos': 2, 'rod': 2, 'PH': 2, 'S6500': 2, 'Pantech': 2, 'Lueders': 2, 'CompTIA': 2, 'organization': 2, 'monopolies': 2, 'Complaint': 2, 'bureau': 2, '674': 2, 'zooms': 2, 'Razr': 2, 'V3': 2, 'attentive': 2, 'Diamound': 2, 'CDP': 2, 'hiss': 2, 'surprisngly': 2, 'Pez': 2, 'dispenser': 2, 'Tamagotchi': 2, '86th': 2, 'Ronco': 2, 'scrambler': 2, 'subsumed': 2, 'Chronometer': 2, 'Completely': 2, 'NetMD': 2, 'clockwork': 2, 'revolutionalised': 2, 'Breville': 2, 'noteboook': 2, 'pc': 2, 'A4': 2, 'DOS': 2, 'razor': 2, 'blade': 2, 'stones': 2, 'hooves': 2, 'anyhting': 2, 'QL': 2, 'Utter': 2, 'Palm': 2, 'Pilot': 2, 'Libretto': 2, 'Vulcan': 2, 'Flipstart': 2, 'vapourware': 2, 'radios': 2, 'swiss': 2, 'apps': 2, 'programmable': 2, '16k': 2, 'PB100': 2, 'Particularly': 2, 'disheartening': 2, 'trackball': 2, 'trackpad': 2, 'Gabrielle': 2, 'Beauvillian': 2, 'ticketless': 2, 'Maciej': 2, 'Sundra': 2, 'divulging': 2, 'transplanted': 2, 'habitat': 2, 'eschewed': 2, 'edu': 2, 'tainment': 2, 'edutainment': 2, 'useable': 2, 'undetectable': 2, 'CENTR': 2, 'Level': 2, 'Registries': 2, 'zealous': 2, 'IDNs': 2, 'JVC': 2, 'augmented': 2, 'miniature': 2, 'frescos': 2, 'taverns': 2, 'villas': 2, 'believable': 2, 'interprets': 2, 'snowballed': 2, 'Lunar': 2, 'Bejewelled': 2, 'strafing': 2, 'Usually': 2, 'ghost': 2, 'FAST': 2, 'FURIOUS': 2, 'DIGITAL': 2, 'BRIDGES': 2, 'evocation': 2, 'palm': 2, 'trees': 2, 'scrolls': 2, 'uselessness': 2, 'appreciably': 2, 'niggle': 2, 'FATAL': 2, 'FORCE': 2, 'MACROSPACE': 2, 'deathmatch': 2, 'Fatal': 2, 'commanders': 2, 'Weapons': 2, 'flamethrowers': 2, 'launchers': 2, 'grenades': 2, 'mech': 2, 'clans': 2, 'enablement': 2, 'Weinstein': 2, 'Guard': 2, 'joypad': 2, 'hordes': 2, 'snowmen': 2, 'crabs': 2, 'Tanks': 2, 'submarines': 2, 'commandeered': 2, 'cannon': 2, 'camels': 2, 'elephants': 2, 'ostriches': 2, 'weaponry': 2, 'Doling': 2, 'nut': 2, 'gagging': 2, 'blasters': 2, 'custom': 2, 'DirectX': 2, 'personalise': 2, 'Newbury': 2, 'yuppy': 2, 'BYODKM': 2, 'excuses': 2, '512mb': 2, 'Uk': 2, 'consecutively': 2, 'shuffled': 2, 'Marson': 2, 'hypertags': 2, 'bedding': 2, 'Telcos': 2, 'TDG': 2, 'bespoke': 2, 'insignificant': 2, 'milliseconds': 2, 'Allaire': 2, 'Brightcove': 2, 'harnessing': 2, 'Teleservices': 2, 'pipes': 2, 'Lightpointe': 2, '25gbps': 2, '2mbps': 2, 'weblogger': 2, 'Gilan': 2, 'Saminejad': 2, 'contacting': 2, 'Persian': 2, 'Farda': 2, 'Ayatollah': 2, '5th': 2, 'theoretical': 2, 'proteins': 2, 'Linus': 2, 'Kapor': 2, 'unleash': 2, 'copyrights': 2, 'PMC': 2, 'TiVos': 2, 'Coleman': 2, 'Autosport': 2, 'sequential': 2, 'changer': 2, 'invent': 2, 'Hewland': 2, 'gearboxes': 2, 'TT': 2, 'bodied': 2, 'Impreza': 2, 'disabilities': 2, 'ParaRallying': 2, 'paraplegic': 2, 'amputees': 2, 'quadriplegics': 2, 'duck': 2, 'Rainey': 2, 'adaptations': 2, 'Askar': 2, 'Akaev': 2, 'lamp': 2, 'indelible': 2, 'solvents': 2, 'panacea': 2, 'ills': 2, 'png': 2, 'Including': 2, 'degradation': 2, '2k': 2, '1080': 2, 'roaring': 2, 'Batteries': 2, '40GB': 2, 'TIM': 2, 'masts': 2, 'XDA': 2, '6600': 2, 'P900': 2, 'E200': 2, 'InStat': 2, '833': 2, 'Plante': 2, 'Heilmann': 2, 'dependability': 2, '2ft': 2, 'Horiuchi': 2, 'Excellent': 2, 'scooter': 2, 'AAAS': 2, 'Advancement': 2, 'rainbow': 2, 'hues': 2, 'networked': 2, 'Scribe': 2, 'equating': 2, 'artifice': 2, 'Gellhorn': 2, 'unlawfully': 2, 'Musicmatch': 2, 'RealPlayer': 2, 'WMA': 2, 'Booking': 2, 'Donate': 2, 'cranked': 2, 'sneaks': 2, 'bombards': 2, 'hijacks': 2, 'Info': 2, 'specialise': 2, 'stat': 2, 'Spotlight': 2, 'collating': 2, 'Geographic': 2, 'plunge': 2, 'Hotmail': 2, 'Irving': 2, 'Omaha': 2, 'tattooed': 2, '171': 2, 'parlour': 2, '666': 2, 'Pyra': 2, 'monetise': 2, 'Napsterization': 2, 'insiders': 2, 'clam': 2, 'Tapwave': 2, 'Zodiac': 2, 'genders': 2, 'Metroid': 2, 'Hunters': 2, 'disorientating': 2, 'ers': 2, 'cabinets': 2, 'wideband': 2, 'WiMedia': 2, 'OFDM': 2, 'Ravencraft': 2, 'Promoter': 2, 'ZDNet': 2, 'wimax': 2, '677': 2, 'Gangster': 2, 'Singstar': 2, 'bongo': 2, 'Konga': 2, 'Hitman': 2, 'Contracts': 2, 'astonishingly': 2, 'recycle': 2, 'oblige': 2, 'vapour': 2, '386': 2, 'rechargeable': 2, 'swivelled': 2, 'Qwerty': 2, 'MPx': 2, 'MDAs': 2, 'McBride': 2, 'Urgent': 2, 'characterises': 2, 'canvass': 2, 'hoax': 2, 'Zar': 2, 'plundered': 2, 'Livio': 2, 'Costantini': 2, 'haystack': 2, 'blueprints': 2, 'Barely': 2, 'Dedicated': 2, 'Jukebox': 2, 'OMAP': 2, 'Vox': 2, 'magnify': 2, 'fonts': 2, 'width': 2, 'eliminates': 2, 'horizontal': 2, 'Telenor': 2, 'addicts': 2, 'freebies': 2, 'Decipher': 2, 'Amendment': 2, 'exposes': 2, 'confidences': 2, 'outlet': 2, 'Nfox': 2, 'SP': 2, 'Loop': 2, 'Unbundling': 2, 'Carrier': 2, 'TalkTalk': 2, 'Seamen': 2, 'barcode': 2, 'occupations': 2, 'biometrics': 2, 'wellbeing': 2, 'oceans': 2, 'Sixteen': 2, 'Rutkowski': 2, 'eraser': 2, 'Swarm': 2, 'fakes': 2, 'migrated': 2, 'User': 2, 'Urs': 2, 'muscling': 2, 'outfits': 2, 'outflank': 2, 'conjoined': 2, 'def': 2, 'doubly': 2, 'tanned': 2, 'restoration': 2, 'corridor': 2, 'plainly': 2, 'doorways': 2, 'blurs': 2, 'bookshelves': 2, 'Brainwave': 2, 'Proceedings': 2, 'electroencephalogram': 2, 'rhythms': 2, 'Wolpaw': 2, 'McFarlane': 2, 'implantation': 2, 'Brain': 2, 'Complex': 2, 'multidimensional': 2, 'clinically': 2, 'motorised': 2, 'neuroprosthesis': 2, 'conceals': 2, 'licenced': 2, 'Sendo': 2, 'Generally': 2, 'Progress': 2, 'pornographers': 2, 'aero': 2, 'Sign': 2, 'videophones': 2, 'textphones': 2, 'Currington': 2, 'Guido': 2, 'Gybels': 2, 'universally': 2, 'disenfranchised': 2, 'honey': 2, 'pots': 2, 'worryingly': 2, 'Adsense': 2, 'Criminals': 2, 'telemedicine': 2, 'Prassana': 2, 'Rambathla': 2, 'withstand': 2, 'PCtvts': 2, 'misappropriated': 2, 'disseminated': 2, 'PowerMac': 2, 'Upload': 2, 'caption': 2, 'indexed': 2, 'NBA': 2, 'webcasts': 2, 'warehouses': 2, 'scanner': 2, 'inventory': 2, 'passcard': 2, 'M6': 2, 'Toll': 2, 'belongings': 2, 'tallest': 2, 'whisk': 2, '508m': 2, 'swiftest': 2, 'ascending': 2, '382m': 2, '38mph': 2, '61km': 2, 'Curiously': 2, 'suction': 2, 'discharge': 2, 'blowers': 2, 'vibrations': 2, 'Streamlined': 2, 'whistling': 2, 'shaft': 2, 'certification': 2, 'authoritative': 2, 'Masayuki': 2, 'Shimono': 2, 'Elevator': 2, 'Asking': 2, 'Breyer': 2, 'conceptually': 2, 'interconnect': 2, 'photonics': 2, 'Haisheng': 2, 'Rong': 2, 'Ansheng': 2, 'Oded': 2, 'Hak': 2, 'Fang': 2, 'competency': 2, 'amplification': 2, 'Semi': 2, 'validation': 2, 'Pachter': 2, 'Wedbush': 2, 'Pure': 2, 'unparalleled': 2, 'classy': 2, 'stirred': 2, 'NFL': 2, 'answering': 2, '2k5': 2, 'shading': 2, 'quench': 2, 'thirsts': 2, 'framing': 2, 'bash': 2, 'tweaks': 2, 'improvisational': 2, 'Kudja': 2, 'Malgorzata': 2, 'purveyors': 2, 'jam': 2, 'anytime': 2, 'brokered': 2, 'swarms': 2, 'Attacks': 2, 'noticeable': 2, 'Battle': 2, 'Alita': 2, 'lucid': 2, 'Krome': 2, 'averaging': 2, 'Maxis': 2, 'Endorphin': 2, 'sequences': 2, 'differing': 2, 'attendees': 2, 'noticed': 2, 'flakier': 2, 'fossil': 2, 'Dial': 2, 'laughably': 2, 'bubbling': 2, 'Iowa': 2, 'astonished': 2, 'forefathers': 2, 'frontiers': 2, 'Uruguayan': 2, 'experimenting': 2, 'Sensitive': 2, 'acute': 2, 'amended': 2, 'survives': 2, 'Torrents': 2, 'usefulness': 2, 'intranet': 2, 'Roughly': 2, 'tidy': 2, 'boomed': 2, 'Phishing': 2, 'Gaobot': 2, 'Randex': 2, 'Carderplanet': 2, 'attributable': 2, 'Kos': 2, 'Instapundit': 2, 'Freeze': 2, 'inboxes': 2, 'explicitly': 2, 'vigilantism': 2, 'Attacking': 2, 'grizzly': 2, 'pointy': 2, 'vigilantes': 2, 'Manipulating': 2, 'endgame': 2, 'storylines': 2, 'Lego': 2, 'reassembled': 2, 'Illuminations': 2, 'stringing': 2, 'spearheads': 2, 'megastores': 2, 'Nights': 2, 'Ridge': 2, 'Racer': 2, 'Acid': 2, 'Evo': 2, 'LMA': 2, 'GT4': 2, 'walkman': 2, 'Flash': 2, 'MiniDisc': 2, 'whizzy': 2, 'froth': 2, 'Calm': 2, 'Taser': 2, 'remotes': 2, 'TiVO': 2, 'Lap': 2, 'fizzy': 2, 'Astro': 2, 'hears': 2, 'Cornell': 2, 'tablet': 2, 'assigns': 2, 'numbered': 2, 'ecosystems': 2, 'continuum': 2, 'tuner': 2, 'motherboards': 2, 'fledged': 2, 'constructed': 2, 'Canyon': 2, 'composite': 2, 'multilingual': 2, 'Holidays': 2, 'hoaxes': 2, 'Christmases': 2, 'sparse': 2, 'floats': 2, 'skinny': 2, 'cherish': 2, 'Voting': 2, 'Nominations': 2, 'Weblogs': 2, 'Boing': 2, 'GreenFairyDotcom': 2, 'Londonist': 2, 'Hicksdesign': 2, 'PlasticBag': 2, 'companions': 2, 'Cogniron': 2, 'Kerstin': 2, 'imitating': 2, 'demonstrator': 2, 'Showing': 2, 'beaches': 2, 'PEDs': 2, 'rump': 2, 'CVs': 2, 'Inclusion': 2, 'Delivering': 2, 'packets': 2, 'Rahul': 2, 'BBCi': 2, 'fait': 2, 'Joly': 2, 'Thales': 2, 'enabler': 2, 'cams': 2, 'underlines': 2, 'roam': 2, 'bulb': 2, 'silhouette': 2, 'Wildlife': 2, 'statutes': 2, 'unregulated': 2, 'dedicate': 2, 'dissidents': 2, 'focal': 2, 'ubiquitously': 2, 'landfill': 2, 'Reconditioned': 2, 'Georgeta': 2, 'Minciu': 2, 'unpredictability': 2, 'Godel': 2, 'Theorem': 2, 'catastrophically': 2, 'Legionnaire': 2, 'evidently': 2, '159': 2, 'Handset': 2, 'moblogs': 2, 'kiosks': 2, 'nightclubs': 2, 'Fonetography': 2, 'Goldin': 2, 'Vettriano': 2, 'uploading': 2, 'heck': 2, 'spreadsheets': 2, 'Stata': 2, 'toolbars': 2, 'holy': 2, 'grail': 2, 'chemistries': 2, 'cram': 2, 'Extended': 2, 'Battery': 2, 'EBL': 2, 'parsimonious': 2, 'transistors': 2, 'guzzler': 2, 'Podcasts': 2, 'gadgetry': 2, 'Countdown': 2, 'Wisconsin': 2, 'Podcast': 2, 'outgrowth': 2, 'auditorium': 2, 'Lynne': 2, 'Brindley': 2, 'Zones': 2, 'scouring': 2, 'scanning': 2, 'strangle': 2, 'bundling': 2, 'mice': 2, 'amass': 2, '248': 2, '772': 2, 'Intellectual': 2, 'toprevent': 2, 'insubstantial': 2, 'tasked': 2, 'susceptible': 2, 'assertion': 2, 'sexy': 2, 'Satoru': 2, 'bulging': 2, 'Snapfish': 2, 'Picasa': 2, 'detects': 2, 'Morin': 2, 'clarion': 2, 'Schroth': 2, 'Yankee': 2, 'reflections': 2, 'hyperlinks': 2, 'dictionaries': 2, 'Words': 2, 'wield': 2, 'HitWise': 2, '0051': 2, 'Joystick': 2, 'Zelda': 2, 'differed': 2, 'inescapable': 2, 'Analyst': 2, 'dwindle': 2, 'Designed': 2, 'Nash': 2, 'malign': 2, 'steals': 2, 'extortionists': 2, 'deluges': 2, 'Increasing': 2, 'overspill': 2, 'pluck': 2, 'Hijacked': 2, 'anonymously': 2, 'forewarning': 2, 'soaps': 2, 'Networked': 2, 'interconnected': 2, 'Telefonica': 2, 'blaze': 2, '224': 2, 'interception': 2, 'hoarders': 2, 'Floppies': 2, 'Transfer': 2, 'DirectConnect': 2, 'Tono': 2, 'abetting': 2, 'premeditated': 2, 'cite': 2, 'inhabit': 2, 'mitts': 2, 'Smartphones': 2, 'skulls': 2, 'shareware': 2, 'masquerading': 2, 'alias': 2, 'Tee': 2, 'BenQ': 2, 'Arima': 2, 'McNulty': 2, 'techno': 2, 'faceless': 2, 'illusory': 2, 'acquiescent': 2, '2940': 2, 'Enforcement': 2, 'enhancements': 2, 'Reidar': 2, 'Listeners': 2, '3230': 2, '7710': 2, 'Jemima': 2, 'Licensed': 2, 'Taxi': 2, 'Drivers': 2, 'Pointsec': 2, 'backup': 2, 'Oslo': 2, 'Danes': 2, 'Norwegians': 2, 'Swedes': 2, 'Retrofone': 2, 'Database': 2, 'covet': 2, 'inexorably': 2, 'phrasing': 2, 'ignited': 2, 'harmonise': 2, 'Eva': 2, 'preventative': 2, 'hazard': 2, 'cords': 2, 'innovator': 2, 'Conferring': 2, 'PCG': 2, 'X505': 2, 'inventing': 2, 'Canon': 2, 'EOS': 2, '300D': 2, 'Reliability': 2, 'Surfers': 2, 'sited': 2, 'uniforms': 2, 'initiate': 2, 'logon': 2, 'tuning': 2, 'Dana': 2, 'evolves': 2, 'distinguished': 2, 'protocols': 2, 'Technically': 2, 'randomly': 2, 'Quirksville': 2, 'skirt': 2, 'Matsuura': 2, 'discontinue': 2, '12cm': 2, '4cm': 2, 'Kaz': 2, 'Hirai': 2, 'efficacy': 2, 'filtered': 2, 'Brightmail': 2, 'Sites': 2, 'informally': 2, 'promiscuous': 2, 'Yeob': 2, 'Yeun': 2, 'TU': 2, 'deco': 2, 'Audio': 2, 'Fake': 2, 'Ensuring': 2, 'iris': 2, 'scammer': 2, 'turbo': 2, 'Mbps': 2, '384': 2, 'kilobits': 2, 'Kbps': 2, '14Mbps': 2, 'throughputs': 2, 'Brydon': 2, 'Pushing': 2, 'Limits': 2, 'Enhancements': 2, 'WCDMA': 2, 'deploying': 2, 'Cingular': 2, 'codename': 2, 'horrendous': 2, 'leaps': 2, 'horsepower': 2, 'indistinguishable': 2, 'starter': 2, 'craft': 2, 'module': 2, 'obscurantism': 2, 'Camberley': 2, 'Jersey': 2, 'certificates': 2, 'Deats': 2, '755': 2, 'rockstars': 2, 'livelihood': 2, 'Inadvertently': 2, 'modems': 2, 'Jef': 2, 'navigated': 2, 'mercurial': 2, 'apple': 2, 'pancreatic': 2, 'Portal': 2, 'RealArcade': 2, 'particuarly': 2, 'Programs': 2, 'SMSes': 2, 'palpable': 2, 'volunteer': 2, 'funnel': 2, 'pooling': 2, 'unbelievable': 2, 'spreads': 2, 'envelop': 2, 'wheeled': 2, 'strolling': 2, 'encased': 2, 'cocoon': 2, 'Aichi': 2, 'lanes': 2, 'Erel': 2, 'pickings': 2, 'subtle': 2, 'crank': 2, 'prowess': 2, 'Stowell': 2, 'Sudanese': 2, 'rivers': 2, 'Einar': 2, 'Bjorgo': 2, 'Unosat': 2, 'laminate': 2, 'encapsulate': 2, 'Slow': 2, 'Finger': 2, 'differentiating': 2, 'unbundled': 2, '15Mbps': 2, 'ntl': 2, 'Stacey': 2, 'Jolna': 2, 'scheduler': 2, 'Humax': 2, 'DirectTV': 2, 'slinkier': 2, 'seldom': 2, 'technophobes': 2, 'finite': 2, 'Yaron': 2, 'Toren': 2, 'Step': 2, 'Innovative': 2, 'leisurely': 2, '10cm': 2, '130cm': 2, '2kg': 2, 'automobile': 2, 'comical': 2, 'reigns': 2, 'algorithmic': 2, 'plaguing': 2, 'wallpapers': 2, 'screensavers': 2, 'grumbletext': 2, 'racking': 2, 'MEF': 2, 'MBlox': 2, 'groundrules': 2, 'cowboys': 2, 'excite': 2, 'patentability': 2, 'infringing': 2, 'algorithm': 2, 'Eolas': 2, 'Apache': 2, 'GNU': 2, 'fearsomely': 2, 'battlefronts': 2, 'cohorts': 2, 'bark': 2, 'Pearl': 2, 'Harbour': 2, 'studiously': 2, 'perilous': 2, 'stilted': 2, 'narrative': 2, 'muster': 2, 'scorched': 2, 'tidier': 2, 'reminiscent': 2, 'underwhelming': 2, 'hearty': 2, 'contented': 2, 'Priced': 2, 'Position': 2, '129': 2, 'crams': 2, 'enquires': 2, 'typed': 2, 'revisiting': 2, 'stomps': 2, 'carefree': 2, 'Driv3r': 2, 'commandeer': 2, 'stumbles': 2, 'blackmailed': 2, 'cops': 2, 'Penn': 2, 'thinly': 2, 'Fierro': 2, 'Venturas': 2, 'sucks': 2, 'ambience': 2, 'behold': 2, 'gloriously': 2, 'menacing': 2, 'grounding': 2, 'convincingly': 2, 'Clothes': 2, 'inflame': 2, 'brutality': 2, 'lends': 2, 'gags': 2, 'anchored': 2, 'swagger': 2, 'magnificence': 2, 'detract': 2, 'entirety': 2, 'Authentication': 2, 'OSX': 2, 'Janus': 2, 'Tool': 2, 'implication': 2, 'iCan': 2, 'tabs': 2, 'middleman': 2, 'cosmopolitan': 2, 'cliques': 2, 'Pied': 2, 'Piper': 2, 'iPodder': 2, 'Avenue': 2, 'Audiences': 2, '10s': 2, 'commercialising': 2, 'PodShow': 2, 'unobtrusive': 2, 'bucks': 2, 'stereos': 2, 'Reseller': 2, 'Neulling': 2, 'kitted': 2, 'Brailey': 2, 'Koji': 2, 'inductance': 2, 'Adidas': 2, 'Susanne': 2, 'Risse': 2, 'cushioning': 2, 'Play': 2, 'broadened': 2, 'Howell': 2, 'Cracknell': 2, 'shaving': 2, 'tortoise': 2, 'caveat': 2, '2Mb': 2, '3Mb': 2, 'CM5': 2, 'backroom': 2, 'Margate': 2, 'directs': 2, 'Tags': 2, 'AutoLinks': 2, 'Rivals': 2, 'Dot': 2, '4ghz': 2, 'peripheral': 2, 'headphone': 2, 'iMovie': 2, 'GarageBand': 2, 'Compact': 2, '8GHz': 2, 'Sempron': 2, 'XP2': 2, 'cheerful': 2, 'buildyourown': 2, 'Shipments': 2, 'storing': 2, 'paradise': 2, 'Hotseat': 2, 'Solo': 2, 'skeletal': 2, 'P7131': 2, 'audiophile': 2, 'Sanyo': 2, 'VPC': 2, 'camcorder': 2, 'MPIO': 2, 'dangling': 2, 'pendant': 2, 'fiends': 2, '514': 2, 'maneuvers': 2, 'sic': 2, 'charted': 2, 'garner': 2, 'Spread': 2, 'unabated': 2, 'Theme': 2, 'Dungeon': 2, 'popularise': 2, 'fad': 2, 'skateboarding': 2, 'ambitous': 2, 'bellicose': 2, 'sultry': 2, 'Empress': 2, 'dependable': 2, 'energetic': 2, 'preposterously': 2, 'scenery': 2, 'lopping': 2, 'swoop': 2, 'annoyingly': 2, 'fountains': 2, 'intro': 2, 'disservice': 2, 'commences': 2, 'sequence': 2, 'Onimusha': 2, 'unsatisfying': 2, 'Missing': 2, 'Exact': 2, 'RIPMobile': 2, 'Elements': 2, 'chromium': 2, 'vampires': 2, 'rechargers': 2, 'Fanara': 2, 'Initiatives': 2, 'censoring': 2, 'purged': 2, 'Speak': 2, 'unlocks': 2, 'jukeboxes': 2, 'SpeechWorks': 2, 'hotbed': 2, 'beamed': 2, 'ICA': 2, 'profiles': 2, 'Flic': 2, 'singletons': 2, 'layer': 2, 'WLTS': 2, 'WLTM': 2, 'Pescatore': 2, 'chatting': 2, 'Connected': 2, 'incubating': 2, 'Coudenberg': 2, 'Abstract': 2, 'Rendering': 2, 'Architecture': 2, 'planners': 2, 'unleashing': 2, 'technologists': 2, 'TowerGroup': 2, 'Slammer': 2, 'Incidents': 2, 'spontaneously': 2, 'Joke': 2, 'AU': 2, 'variables': 2, 'Controlling': 2, 'Solicited': 2, 'Pornography': 2, 'Solicitation': 2, 'Deceptive': 2, 'groundless': 2, 'Lin': 2, 'deceptive': 2, 'shopper': 2, 'purses': 2, 'Hostway': 2, 'lingerie': 2, 'wives': 2, 'bracket': 2, 'Fanlo': 2, 'Robosapiens': 2, 'Tiga': 2, 'cull': 2, 'Kingsley': 2, 'transitions': 2, 'staging': 2, 'comers': 2, 'Jolt': 2, 'excel': 2, 'Cyberathlete': 2, 'pot': 2, 'curse': 2, 'flourished': 2, 'paedophiles': 2, 'Mirapoint': 2, 'proliferate': 2, 'hooking': 2, 'extinct': 2, 'dinosaurs': 2, 'refocused': 2, 'by3G': 2, 'norm': 2, 'Providers': 2, 'ISPA': 2, 'expletives': 2, 'lengths': 2, 'Ayers': 2, 'cries': 2, 'Whistler': 2, 'aesthetic': 2, 'Tateson': 2, 'P800': 2, 'captivated': 2, 'Sichuan': 2, 'Province': 2, 'Hemin': 2, '802': 2, '11b': 2, 'Globio': 2, 'Portland': 2, 'WORLD': 2, 'WARCRAFT': 2, 'ICO': 2, 'WORKING': 2, 'TITLE': 2, 'Wanda': 2, 'ADVANCE': 2, 'WARS': 2, 'WarioWare': 2, 'Touched': 2, 'Feel': 2, 'Hellboy': 2, 'comb': 2, 'Waarschuwingsdienst': 2, 'Aquarius': 2, 'Auld': 2, 'Lang': 2, 'Syne': 2, 'Wishing': 2, 'Restaurants': 2, 'Jongleurs': 2, 'merry': 2, 'nearest': 2, 'GOODPUB': 2, '85130': 2, 'crawl': 2, 'shapes': 2, 'Monde': 2, 'linguist': 2, 'Chomsky': 2, 'acclimate': 2, 'discourse': 2, 'exponential': 2, 'MovableType': 2, 'overdraft': 2, 'plugging': 2, 'Universe': 2, 'gravity': 2, 'illustrate': 2, 'drawbacks': 2, 'pronunciation': 2, 'simulated': 2, 'Losing': 2, 'impair': 2, 'Multiplayer': 2, 'Role': 2, 'mongering': 2, 'Pong': 2, 'infinite': 2, 'mindless': 2, 'Hayot': 2, 'blogzine': 2, 'Print': 2, 'compiles': 2, 'MMOPRGs': 2, 'widows': 2, 'comedic': 2, 'restlessness': 2, 'longing': 2, 'definately': 2, 'irretrievably': 2, 'measurable': 2, 'addict': 2, 'birds': 2, 'hobble': 2, 'cos': 2, 'bladder': 2, 'toast': 2, 'fascination': 2, 'friday': 2, 'consumed': 2, 'alot': 2, '30am': 2, 'pm': 2, 'escapism': 2, 'upto': 2, 'evermore': 2, 'ogres': 2, 'Sounds': 2, 'Everquest': 2, 'solitary': 2, 'reccomend': 2, 'counsellor': 2, 'frag': 2, 'relasing': 2, '24hours': 2, 'ahhhh': 2, 'Malte': 2, 'subjecting': 2, 'pirating': 2, 'Intertrust': 2, 'Plays': 2, 'freer': 2, 'Telephony': 2, 'Subscribers': 2, 'Livebox': 2, 'Vonage': 2, 'se': 2, 'effortlessly': 2, 'shipment': 2, '188': 2, 'Filo': 2, 'Originally': 2, 'yahoo': 2, 'unsophisticated': 2, 'uncouth': 2, 'Swift': 2, 'capitalists': 2, 'Sequoia': 2, '04m': 2, 'nicely': 2, 'warps': 2, 'bubbles': 2, 'traps': 2, 'intuitive': 2, 'Miramax': 2, 'wayside': 2, 'Kill': 2, 'Volume': 2, 'VOD': 2, 'Dwight': 2, 'coat': 2, 'hotline': 2, 'profiteering': 2, 'ruin': 2, 'burned': 2, 'Careless': 2, 'Recovery': 2, 'reformat': 2, 'Launched': 2, 'cycles': 2, 'analyze': 2, 'Elain': 2, 'Gallin': 2, 'Charitable': 2, 'molecules': 2, 'millilitre': 2, 'tester': 2, '6x4in': 2, '7x5in': 2, 'Epson': 2, 'R800': 2, 'inconvenient': 2, 'halide': 2, 'tantalising': 2, 'infuriating': 2, 'perfection': 2, 'oppressive': 2, 'nightmarish': 2, 'Alienware': 2, '3500': 2, 'ATI': 2, 'Radeon': 2, 'X800': 2, 'annoying': 2, 'unfeasibly': 2, 'unrelenting': 2, 'eerie': 2, 'rashly': 2, 'luckily': 2, 'sympathise': 2, 'Hinton': 2, 'Week': 2, 'awe': 2, 'Trillions': 2, 'contexts': 2, 'collaborative': 2, 'Parent': 2, 'Scan': 2, 'Movielink': 2, 'CinemaNow': 2, 'Margot': 2, 'Jennings': 2, 'withdrawals': 2, 'paces': 2, 'Maling': 2, 'Taukafa': 2, 'Palepoi': 2, 'Delport': 2, 'Wer': 2, 'requisite': 2, 'doubters': 2, 'marathons': 2, '1888': 2, 'AE': 2, 'Warbrick': 2, 'Eyton': 2, 'pakiha': 2, 'fern': 2, '1893': 2, '1903': 2, 'Bedell': 2, 'Sivright': 2, 'convulsed': 2, 'Golds': 2, '1921': 2, 'Employing': 2, 'rover': 2, 'blemish': 2, 'Carwyn': 2, 'centenary': 2, 'swatted': 2, 'demolished': 2, 'Johannesburg': 2, 'Presumably': 2, 'Palermo': 2, 'vacate': 2, 'Hounded': 2, 'skyscrapers': 2, 'passionately': 2, 'kiss': 2, 'feint': 2, 'dribble': 2, 'Pape': 2, 'sprained': 2, 'ENG': 2, 'Pap': 2, 'ziers': 2, 'Neale': 2, 'Signing': 2, 'stamps': 2, 'Fiszman': 2, 'volleying': 2, 'brightly': 2, 'sensed': 2, 'incessant': 2, 'Hiley': 2, 'Gaia': 2, 'Afful': 2, 'Bellion': 2, 'overcomes': 2, 'alarms': 2, 'Andreev': 2, 'mins': 2, '79th': 2, 'stunned': 2, 'Djimi': 2, 'Ferrerira': 2, 'Canas': 2, 'Acapulco': 2, 'Injuries': 2, 'Spectators': 2, 'Basque': 2, '2100': 2, 'Albacete': 2, 'berth': 2, 'Gillingham': 2, 'Onuoha': 2, 'strongholds': 2, 'HKRFU': 2, 'JRFU': 2, '508': 2, 'competitve': 2, 'Wild': 2, 'Cozza': 2, 'Sentinel': 2, 'Budapest': 2, 'percentages': 2, 'fancied': 2, 'glides': 2, 'giddy': 2, 'wrapped': 2, 'outjumped': 2, 'Hartley': 2, 'Neilson': 2, 'Wyness': 2, 'Cesnauskis': 2, 'McKenzie': 2, 'hesitate': 2, 'proudest': 2, 'Fri': 2, 'Collier': 2, 'Niekerk': 2, 'MacLeod': 2, 'Redpath': 2, 'Roddam': 2, 'Schofield': 2, 'Caillet': 2, 'Bozzi': 2, 'Coutts': 2, 'Anglesea': 2, 'Lund': 2, 'Martens': 2, 'Coby': 2, 'tsumani': 2, 'Caucaunibuca': 2, 'Rawaqa': 2, 'fightback': 2, 'MacRae': 2, 'surrendered': 2, 'Pattison': 2, 'Morton': 2, 'nick': 2, 'Ally': 2, 'Maxwell': 2, 'Shields': 2, 'McCullough': 2, 'Feather': 2, 'K3': 2, 'winless': 2, 'satisfactory': 2, 'lesson': 2, 'stale': 2, 'dismissing': 2, 'Hardcourts': 2, 'Leander': 2, 'Paes': 2, 'Sustained': 2, 'slotting': 2, '48th': 2, '52nd': 2, 'transgression': 2, '63rd': 2, 'Du': 2, 'Characters': 2, 'vitae': 2, 'callow': 2, 'Rogge': 2, 'TBC': 2, 'potency': 2, 'thoroughness': 2, 'soundings': 2, 'sacrifice': 2, 'rehabilitated': 2, 'submitting': 2, '22nd': 2, 'Grigoris': 2, 'Deliberations': 2, 'Spar': 2, 'repeats': 2, '1000m': 2, 'juniors': 2, 'acclimatise': 2, 'curtain': 2, 'ultimitely': 2, 'adaptibility': 2, 'handicap': 2, 'antibiotics': 2, 'vomiting': 2, 'chipping': 2, 'Kosenkow': 2, 'Balkom': 2, 'Ghent': 2, 'Arron': 2, 'Rab': 2, 'Opposite': 2, 'foxed': 2, 'hesitation': 2, 'lob': 2, 'Buffel': 2, 'Tore': 2, 'Flo': 2, 'Gianfranco': 2, 'Rivaldo': 2, 'Figo': 2, 'Gullit': 2, 'Gianluca': 2, 'Vialli': 2, 'instil': 2, 'winding': 2, 'Lebeouf': 2, 'Guardiola': 2, 'Titi': 2, 'Batistuta': 2, 'Dugarry': 2, 'physiotherapist': 2, 'Lanzarote': 2, 'podium': 2, 'bronzes': 2, 'selfish': 2, 'Ghanaian': 2, 'Garoua': 2, 'Kotoko': 2, 'Douala': 2, 'Cameroonians': 2, 'Sable': 2, 'wavering': 2, 'searing': 2, 'scoreboard': 2, 'scrummage': 2, 'dispatched': 2, 'rubbished': 2, 'demoted': 2, 'masterminding': 2, 'Lowe': 2, 'Fuming': 2, 'Yiannis': 2, 'testified': 2, 'uphold': 2, 'Amateur': 2, 'refute': 2, 'illogical': 2, 'procedural': 2, 'testosterone': 2, 'epitestosterone': 2, 'Boudewijn': 2, 'Hristo': 2, 'Stoichkov': 2, 'Radek': 2, '30th': 2, '95th': 2, 'ankles': 2, 'Filderstadt': 2, 'Jaap': 2, 'Cafu': 2, 'Ailis': 2, 'McSweeney': 2, 'Derval': 2, 'Offaly': 2, 'Aoife': 2, 'Lisburn': 2, 'McNeice': 2, 'Willowfield': 2, 'Lagan': 2, 'PSG': 2, 'rub': 2, 'blazers': 2, 'McDowell': 2, 'scooping': 2, 'stroll': 2, 'colossus': 2, 'cordon': 2, 'disintegrating': 2, 'Kwayke': 2, 'Rabah': 2, 'Londoner': 2, 'conserving': 2, 'Kansas': 2, 'Ato': 2, 'Boldon': 2, 'Celta': 2, 'Vigo': 2, 'Dimitar': 2, 'Berbatov': 2, 'Franca': 2, 'digs': 2, 'Criticised': 2, 'calf': 2, 'Backs': 2, 'Rollo': 2, 'Calvin': 2, 'Forwards': 2, 'Corner': 2, 'Nixon': 2, 'Result': 2, 'chases': 2, 'hangover': 2, 'grit': 2, 'roused': 2, 'bangs': 2, 'leaden': 2, 'loops': 2, 'retrieving': 2, 'dunk': 2, 'outplays': 2, 'crashing': 2, 'Gollings': 2, 'Lucio': 2, 'examines': 2, 'accomplishment': 2, 'Liz': 2, 'impulsive': 2, 'adversity': 2, 'Mirnyi': 2, 'sharpen': 2, 'Olga': 2, 'Fedorova': 2, 'Kallur': 2, '23secs': 2, '4x200m': 2, 'Tosin': 2, 'Oke': 2, 'Buckfield': 2, 'unchallenged': 2, 'Grayson': 2, 'Paice': 2, 'Strudwick': 2, 'Danaher': 2, 'Purdy': 2, 'Gotting': 2, 'makeshift': 2, 'summoned': 2, 'Darius': 2, 'Vassell': 2, 'alleviated': 2, 'knack': 2, 'Aizlewood': 2, 'defiantly': 2, 'Wanderley': 2, 'Luxemburgo': 2, 'disallow': 2, 'loneliness': 2, 'wilt': 2, 'unquestionable': 2, 'grind': 2, 'defeating': 2, 'backhands': 2, 'Mawson': 2, 'Mkandawire': 2, 'Pitman': 2, 'Purdie': 2, 'Stansfield': 2, 'Causeway': 2, 'pounded': 2, 'Rabeni': 2, 'Sally': 2, 'Jussi': 2, 'cynically': 2, 'frustrate': 2, 'Boumsong': 2, 'Fadiga': 2, 'Gotty': 2, 'Te': 2, 'Campo': 2, 'Poole': 2, 'Att': 2, 'motorcyle': 2, 'Crete': 2, 'routed': 2, 'Vima': 2, 'boiled': 2, 'unprofessional': 2, 'Jarkko': 2, 'baseline': 2, 'Christophers': 2, 'Rigney': 2, 'Vickerman': 2, 'Bartholomeusz': 2, 'Vaikona': 2, 'Bracken': 2, 'Randell': 2, 'Socieded': 2, 'Partido': 2, 'contra': 2, 'Pobreza': 2, 'Injury': 2, 'Bluebirds': 2, 'Coyne': 2, 'Motherwell': 2, 'Ricketts': 2, 'Tranmere': 2, 'Koumas': 2, 'Earnshaw': 2, 'gutful': 2, 'ratify': 2, 'consist': 2, 'eyewitness': 2, 'KEY': 2, 'MATCH': 2, 'STATS': 2, 'Success': 2, 'BURNLEY': 2, 'Cotterills': 2, 'disposed': 2, 'TO': 2, 'PREM': 2, 'motorbike': 2, 'Alter': 2, 'flame': 2, 'cauldron': 2, '54th': 2, 'Finals': 2, 'scorch': 2, 'scythed': 2, 'Grindal': 2, 'Isaacson': 2, 'Buxton': 2, 'Mauger': 2, 'Training': 2, 'broadening': 2, '91kg': 2, '9kg': 2, 'weights': 2, 'unsung': 2, 'Justyna': 2, 'Bak': 2, 'relishes': 2, 'Throw': 2, 'warding': 2, 'challengers': 2, 'ajar': 2, 'stack': 2, 'traditionalist': 2, '0227': 2, 'Elland': 2, 'firefighting': 2, 'Outgoing': 2, '103m': 2, 'Yvonne': 2, 'Kel': 2, 'Coslett': 2, 'iterated': 2, 'Verroken': 2, 'ceremonial': 2, 'TEAG': 2, 'Sparkassen': 2, 'hundreth': 2, 'McIlory': 2, 'Ovens': 2, 'Eliud': 2, 'Myerscough': 2, '3cm': 2, 'Swain': 2, 'Taniesha': 2, 'Scanlon': 2, '28m': 2, 'Kilmarnock': 2, 'sweeter': 2, 'strolled': 2, '158th': 2, '1430': 2, '1815': 2, '10K': 2, 'Joanna': 2, 'Established': 2, '1936': 2, 'Finlay': 2, 'simmering': 2, 'waging': 2, 'Galan': 2, 'proclaimed': 2, 'pecking': 2, 'humbling': 2, 'reassess': 2, 'reputations': 2, 'unstuck': 2, 'Bromwich': 2, 'Albion': 2, 'Athletic': 2, 'Ties': 2, 'Amankwaah': 2, 'Coles': 2, 'Anyinsah': 2, 'Dinning': 2, 'Orr': 2, 'Oyedele': 2, 'Ntimban': 2, 'Zeh': 2, 'Crooks': 2, 'Puncheon': 2, 'Tapp': 2, '64secs': 2, '60secs': 2, '62secs': 2, 'rues': 2, '33rd': 2, 'Bouba': 2, 'Diop': 2, 'rounding': 2, 'Shay': 2, 'snuffed': 2, 'Shola': 2, 'deservedly': 2, 'Florent': 2, 'Zogbia': 2, 'Gilmar': 2, 'Ines': 2, 'Monteiro': 2, 'Abebe': 2, 'Dinkessa': 2, 'Gelete': 2, 'Burka': 2, '90th': 2, 'wrestling': 2, 'cautions': 2, 'shoving': 2, 'zealousness': 2, 'outsprinted': 2, 'reeled': 2, 'affirmed': 2, 'myths': 2, 'finalising': 2, 'evaluating': 2, 'jersey': 2, 'Flatman': 2, 'daunting': 2, 'cramping': 2, 'Footballers': 2, 'Perth': 2, 'Gisela': 2, 'silenced': 2, 'Bryans': 2, 'Tarik': 2, 'Benhabiles': 2, 'Advanta': 2, 'Acasuso': 2, 'Gonzalez': 2, 'heavier': 2, 'reffed': 2, 'Aged': 2, 'Mallorcan': 2, 'hone': 2, 'Ashia': 2, 'detrimental': 2, 'butting': 2, 'Slovenian': 2, 'runaway': 2, 'pacemaker': 2, 'idol': 2, 'Aftenposten': 2, 'Flowers': 2, 'SANZAR': 2, 'Rinus': 2, 'Referred': 2, 'Neeskens': 2, 'possessing': 2, 'KNVB': 2, 'Huizinga': 2, 'Clemence': 2, 'Dorp': 2, 'licking': 2, 'rueing': 2, 'illusions': 2, 'sprain': 2, 'minimise': 2, 'Costas': 2, 'humility': 2, 'Canio': 2, 'Alcock': 2, 'Rofe': 2, 'shepherd': 2, 'Willian': 2, 'Noe': 2, 'Pamarot': 2, 'gaffer': 2, 'rout': 2, 'busier': 2, 'floundering': 2, 'glanced': 2, 'Mensing': 2, 'revered': 2, 'captaining': 2, 'supercharged': 2, 'blustery': 2, 'shirted': 2, 'bisected': 2, 'chiropractor': 2, 'Melinda': 2, 'Katarina': 2, 'Srebotnik': 2, 'Iveta': 2, 'Benesova': 2, 'Nolberto': 2, 'unhelpful': 2, 'flounders': 2, 'walker': 2, 'Cathal': 2, 'shattering': 2, 'sting': 2, 'underachievement': 2, 'undignified': 2, 'Amazingly': 2, 'bearer': 2, 'lash': 2, 'gamely': 2, 'McKiernan': 2, 'Dermot': 2, 'Striders': 2, 'Scandinavia': 2, 'instal': 2, 'scupper': 2, 'Ryman': 2, 'Scunthorpe': 2, 'Hull': 2, 'Sheff': 2, 'Nottm': 2, 'Macfadyen': 2, 'medial': 2, 'flutter': 2, 'punch': 2, 'fiddle': 2, 'teased': 2, 'Patrik': 2, 'reflexes': 2, 'scraps': 2, 'LuaLua': 2, 'Hoyte': 2, 'inury': 2, 'Cups': 2, 'Shaka': 2, 'harried': 2, 'Geremi': 2, 'Lievremont': 2, 'Tabacco': 2, 'Magne': 2, 'Liebenberg': 2, 'CIS': 2, 'wee': 2, 'revelled': 2, 'smashing': 2, 'Midfielder': 2, 'substituted': 2, 'UEFA': 2, '2115': 2, 'Aramburu': 2, 'Indiscipline': 2, 'ragged': 2, '45th': 2, 'Munsterman': 2, 'thump': 2, 'fortuitous': 2, '50K': 2, 'toes': 2, 'pelvis': 2, 'ambulance': 2, 'unaided': 2, 'cryotherapy': 2, 'outfield': 2, 'defensively': 2, 'prising': 2, 'Apparently': 2, 'centimetre': 2, 'Hennigar': 2, 'Petra': 2, 'Mandula': 2, 'telecast': 2, 'Kalusha': 2, 'Chipolopolo': 2, 'Zambians': 2, 'Santry': 2, 'currentily': 2, 'agio': 2, 'Jolene': 2, 'bows': 2, 'prolific': 2, 'shortstop': 2, 'Nomar': 2, 'Garciaparra': 2, 'gameplan': 2, 'darn': 2, 'Jesper': 2, 'Viking': 2, 'Pardew': 2, 'unprovoked': 2, 'foresight': 2, 'hog': 2, 'crumpled': 2, 'salient': 2, 'whisper': 2, 'Hardcourt': 2, 'impressing': 2, 'polarised': 2, 'crowning': 2, 'treasured': 2, 'splashed': 2, 'punishing': 2, 'Wessels': 2, 'Meghann': 2, 'scissors': 2, 'overhead': 2, 'scooted': 2, 'Winger': 2, 'maul': 2, 'Mi': 2, 'Canale': 2, 'Villar': 2, 'offend': 2, 'colloquial': 2, 'Lissavetzky': 2, 'Angry': 2, 'Yetunde': 2, 'ironically': 2, 'nailbiting': 2, 'Ninth': 2, 'laboured': 2, 'marshalled': 2, 'tempo': 2, 'Bradley': 2, 'Spice': 2, 'ebb': 2, 'Liebeneberg': 2, 'Beziers': 2, 'Seventh': 2, 'Xavier': 2, 'lobs': 2, '88th': 2, 'Parc': 2, '667': 2, 'Euskarians': 2, '51st': 2, 'Zornotza': 2, 'Amorebieta': 2, 'romped': 2, 'EdinburghInternational': 2, 'Lorenzo': 2, 'Billups': 2, 'Donnacha': 2, 'Sheehan': 2, '65th': 2, 'Surgener': 2, 'Lakomskis': 2, 'Hobson': 2, 'Frankie': 2, 'Fredericks': 2, 'taunt': 2, 'Dougie': 2, 'Musselburgh': 2, 'Racecourse': 2, 'goon': 2, 'bruises': 2, 'simplifying': 2, 'Tries': 2, 'Diminutive': 2, 'snaffled': 2, 'hared': 2, 'Barbini': 2, 'wrongfully': 2, 'Athletico': 2, 'Zinedine': 2, 'Marcoussis': 2, 'fancies': 2, 'Knowsley': 2, 'punt': 2, 'UKA': 2, 'Wessex': 2, 'Farah': 2, 'Mayock': 2, 'Barnsley': 2, 'Achike': 2, 'Cossins': 2, 'Preddy': 2, 'Warburton': 2, 'Herne': 2, 'lenient': 2, 'sparingly': 2, 'traces': 2, 'Hermann': 2, 'Szilard': 2, 'mopped': 2, 'Euell': 2, 'Kishishev': 2, 'barren': 2, 'Damen': 2, 'Glynn': 2, 'Tromans': 2, 'gargantuan': 2, 'Yugoslavian': 2, 'likeliest': 2, 'bicep': 2, 'haematoma': 2, 'Ephedrine': 2, 'Accosiation': 2, 'Shamil': 2, 'Coruna': 2, 'Irureta': 2, 'booing': 2, 'ole': 2, 'chants': 2, 'Garrido': 2, 'showered': 2, 'Xavi': 2, 'plaudits': 2, 'Vargas': 2, 'refrained': 2, 'missiles': 2, 'knockback': 2, 'unruffled': 2, 'jinked': 2, 'waved': 2, 'illustrious': 2, 'Bergh': 2, 'thanking': 2, 'mentoring': 2, 'Marty': 2, 'Holah': 2, 'curtail': 2, 'Cowan': 2, 'bolt': 2, 'deserting': 2, 'attributes': 2, 'Daveport': 2, 'puzzled': 2, 'cuff': 2, 'impresses': 2, 'destroyer': 2, 'lunging': 2, 'fatigued': 2, 'frontrunner': 2, 'Hapoel': 2, 'Haifa': 2, 'ethic': 2, 'departing': 2, 'Hassall': 2, 'scorers': 2, 'Boks': 2, 'immaculately': 2, 'strutted': 2, 'beileve': 2, 'Declan': 2, 'tragedies': 2, 'Dragonhood': 2, 'shackles': 2, 'innate': 2, 'debris': 2, 'Disgraced': 2, 'Fiorentina': 2, 'Moggi': 2, 'Villarreal': 2, 'inquest': 2, 'rapped': 2, 'Olof': 2, 'Mellberg': 2, 'Delgado': 2, 'Childs': 2, 'hitters': 2, 'Captaincy': 2, 'Stokes': 2, 'cage': 2, 'disallowing': 2, 'Poms': 2, 'predicament': 2, 'castigated': 2, 'Wallaby': 2, 'stutter': 2, 'repetitive': 2, 'KA': 2, 'Sodje': 2, 'Torquay': 2, 'SOUTHAMPTON': 2, 'eventful': 2, 'Solent': 2, 'Millmoor': 2, 'Craven': 2, 'USTA': 2, 'nuts': 2, 'Dusty': 2, 'Auxerre': 2, 'pairing': 2, 'unforgiving': 2, 'dished': 2, 'fallible': 2, 'Cahill': 2, 'chap': 2, 'Matchwinner': 2, 'Roberta': 2, 'Magdaleena': 2, 'Ai': 2, 'Sugiyama': 2, 'Selima': 2, 'Memphis': 2, 'Hossam': 2, 'Methat': 2, 'exerted': 2, 'Shehata': 2, 'Kuerten': 2, 'limp': 2, 'rollercoaster': 2, 'ejection': 2, 'fronts': 2, 'slaughtered': 2, 'hatful': 2, 'predator': 2, 'Zara': 2, 'Tanni': 2, 'Evaluation': 2, 'outdoors': 2, 'pavement': 2, 'Canaries': 2, 'Almagro': 2, 'Compatriot': 2, 'forehands': 2, 'Flavio': 2, 'Saretta': 2, 'reopens': 2, 'Anderlecht': 2, 'unknowns': 2, 'thrusts': 2, 'pendulum': 2, 'wriggled': 2, 'wilting': 2, 'laugh': 2, 'jeers': 2, 'outpaced': 2, 'Yobo': 2, 'Osman': 2, 'Carsley': 2, 'Kilbane': 2, 'Shinobu': 2, 'Asagoe': 2, 'Kostanic': 2, 'Blisters': 2, 'springs': 2, 'Adera': 2, 'Dragan': 2, 'blindside': 2, 'Dipo': 2, 'dwarfs': 2, 'Merritt': 2, '66secs': 2, '45secs': 2, 'Brannen': 2, '10secs': 2, '89secs': 2, 'Eamonn': 2, 'Coghlan': 2, '09secs': 2, '51secs': 2, 'phoned': 2, 'Sav': 2, 'delirious': 2, 'Reminded': 2, 'reprimanded': 2, 'Sprinters': 2, 'Giordano': 2, 'nervously': 2, 'midfielders': 2, 'midweek': 2, 'Eldon': 2, 'Talbot': 2, 'Lockwood': 2, 'Donny': 2, 'Saah': 2, 'Ibehre': 2, 'uncharacteristic': 2, 'dimensional': 2, 'mentor': 2, 'overhauling': 2, 'Compatriots': 2, 'Mulugeta': 2, 'Wondimu': 2, 'Abiyote': 2, 'Abate': 2, 'scragged': 2, 'nibbled': 2, 'flaxseed': 2, 'Korchemy': 2, 'Sepp': 2, 'Footballer': 2, 'orientated': 2, 'beckon': 2, '12km': 2, 'Bjorkman': 2, 'Edmondson': 2, 'Bronchitis': 2, 'Pavel': 2, 'Karolina': 2, 'Tatiana': 2, 'Smashnova': 2, 'Derartu': 2, 'BUPA': 2, 'tempers': 2, 'bursts': 2, 'dredge': 2, 'erasing': 2, 'prodded': 2, 'Colgan': 2, 'McNaughton': 2, 'Heikkinen': 2, 'Einstein': 2, 'GMR': 2, 'deem': 2, 'resurgent': 2, 'Os': 2, 'stadiums': 2, 'Dropping': 2, 'bouncebackability': 2, 'gloomier': 2, 'finisher': 2, 'ruffled': 2, 'Serginho': 2, 'Tomasson': 2, 'shootout': 2, 'Waalwijk': 2, 'earpiece': 2, 'centimetres': 2, 'shuddering': 2, 'prospered': 2, 'personified': 2, 'fumble': 2, 'repelled': 2, 'din': 2, 'snatching': 2, 'Cristian': 2, 'conqueror': 2, 'energised': 2, 'Vassilli': 2, 'reponse': 2, '27th': 2, 'Bring': 2, 'Abigail': 2, 'overweight': 2, 'storming': 2, 'clouded': 2, 'Mutola': 2, 'javelin': 2, 'Annus': 2, 'Fazelas': 2, 'Korzhanenko': 2, 'Kenyans': 2, 'Montpellier': 2, 'Padova': 2, 'Aquilla': 2, 'propostition': 2, 'swipe': 2, 'sternest': 2, 'leaderless': 2, 'sweetest': 2, 'unearth': 2, 'Crowther': 2, 'workouts': 2, 'Instilling': 2, 'Commenee': 2, 'curling': 2, 'karate': 2, 'JPR': 2, 'Emerald': 2, 'scalps': 2, 'legions': 2, 'Bleus': 2, 'Antwerp': 2, 'Kindlmann': 2, 'Luczak': 2, 'Gimelstob': 2, 'Einhoven': 2, 'rust': 2, 'Muna': 2, 'fiancee': 2, 'Tariku': 2, 'Alleyne': 2, 'Francique': 2, 'breaker': 2, 'berated': 2, 'Thaliand': 2, 'praising': 2, 'admittedly': 2, 'Bromby': 2, 'Thirlwell': 2, 'showbiz': 2, 'ejecting': 2, 'Granada': 2, 'Soap': 2, 'cheeky': 2, 'punctuate': 2, 'Verbalicious': 2, 'Stereophonics': 2, 'rapport': 2, 'brooding': 2, 'Keira': 2, 'Attenborough': 2, 'Admit': 2, 'fascinating': 2, 'Zatoichi': 2, 'martial': 2, 'Tragedy': 2, 'Girin': 2, 'Rendezvous': 2, 'Esther': 2, 'Rantzen': 2, 'gentleman': 2, 'adored': 2, 'comedians': 2, 'Emperor': 2, 'pantomime': 2, '60s': 2, 'consummate': 2, 'Huston': 2, 'Zorro': 2, 'pitted': 2, 'baccarat': 2, 'Americanised': 2, 'reinvigorate': 2, 'Darkness': 2, 'Dionne': 2, 'Bunnymen': 2, 'zillion': 2, 'Kessler': 2, 'nimble': 2, 'concise': 2, 'yearning': 2, 'Strokes': 2, 'Conor': 2, 'McNicholas': 2, 'Hosted': 2, 'Cristie': 2, '30ft': 2, 'impulse': 2, 'slept': 2, 'Pope': 2, 'Chalfont': 2, 'Inspector': 2, 'disturbed': 2, 'daisy': 2, 'Muller': 2, 'arses': 2, 'Furnish': 2, '505': 2, 'Dartford': 2, 'unbalanced': 2, 'Lenkiewicz': 2, 'Rigg': 2, 'RSC': 2, 'Barnett': 2, 'Brittany': 2, 'Parfitt': 2, '0100': 2, '001st': 2, 'Antonia': 2, 'Subhash': 2, 'improvised': 2, 'Langrishe': 2, 'Polly': 2, 'Aamir': 2, 'backdrop': 2, 'determines': 2, 'Jools': 2, 'Chelsom': 2, 'Lowell': 2, 'Tess': 2, 'Realise': 2, 'Witness': 2, 'despondent': 2, 'detested': 2, 'inauthentic': 2, 'Hacienda': 2, 'Rough': 2, 'proliferated': 2, 'indies': 2, 'independents': 2, 'Ridgeley': 2, 'Shirlie': 2, 'Mariah': 2, 'Geri': 2, 'Fiennes': 2, 'wagers': 2, 'punter': 2, 'Salmon': 2, '156m': 2, 'offspring': 2, 'Hardcastle': 2, 'spawn': 2, 'collaborating': 2, 'POW': 2, 'rites': 2, 'Frances': 2, 'erotic': 2, 'Libertine': 2, 'VC': 2, 'stacks': 2, 'damndest': 2, 'courtroom': 2, 'buzzes': 2, 'Carolyn': 2, 'Burnham': 2, 'Langtry': 2, 'fiery': 2, 'musicologist': 2, 'fragment': 2, 'palaeontologists': 2, 'aria': 2, 'Days': 2, 'Featuring': 2, 'recut': 2, '239': 2, '957': 2, '72m': 2, 'fledging': 2, 'Innocent': 2, 'gonna': 2, 'brushes': 2, 'unrequited': 2, 'Nominees': 2, 'Almodovar': 2, 'Kar': 2, 'Wai': 2, 'Bodies': 2, 'Omagh': 2, 'McBurney': 2, 'Newcomers': 2, 'risers': 2, 'Cow': 2, 'Vicar': 2, 'Dibley': 2, 'elegant': 2, 'embodied': 2, 'Forrest': 2, 'Gump': 2, 'JRR': 2, '157m': 2, 'grossing': 2, 'Crying': 2, '287': 2, 'Ridgeway': 2, 'dilapidated': 2, 'Belisha': 2, 'beacon': 2, 'Yeats': 2, 'Rea': 2, 'Paisley': 2, 'DUP': 2, 'preacher': 2, 'orator': 2, 'Dreyfuss': 2, 'DeBris': 2, 'Paule': 2, 'Mtsensk': 2, 'Ades': 2, 'Tempest': 2, 'Clancy': 2, 'Revival': 2, 'Cadle': 2, 'choreographer': 2, 'Mear': 2, 'Upstairs': 2, 'Swamp': 2, 'Hecuba': 2, 'Investigating': 2, 'Anurag': 2, 'Majeed': 2, 'Memon': 2, 'Smarties': 2, 'Prizes': 2, 'eights': 2, '4Children': 2, 'clergyman': 2, 'Biblical': 2, 'rebuttals': 2, 'merengue': 2, 'Velvet': 2, 'Revolver': 2, 'Raitt': 2, 'Lynyrd': 2, 'Skynyrd': 2, 'Dickie': 2, 'Broadcaster': 2, 'Camden': 2, 'stool': 2, 'gameshow': 2, 'wood': 2, 'deterring': 2, 'stalls': 2, 'Historians': 2, 'clip': 2, 'quizzing': 2, 'diCaprio': 2, 'beads': 2, 'croooner': 2, 'sings': 2, 'recluse': 2, 'cashed': 2, 'creepy': 2, 'Snyder': 2, 'Shefrin': 2, 'drugged': 2, 'Kimmel': 2, 'deceitful': 2, 'Wander': 2, 'bemoan': 2, 'dumbing': 2, 'Sacha': 2, 'Sketchbook': 2, 'sketches': 2, '196m': 2, 'snubbing': 2, 'nominating': 2, 'Aramaic': 2, 'Downfall': 2, 'bunker': 2, 'inflammatory': 2, 'punky': 2, 'paced': 2, 'impersonator': 2, 'hindering': 2, 'Seller': 2, 'speedily': 2, 'Cessna': 2, '320kg': 2, 'Famed': 2, 'rehearsals': 2, 'Manon': 2, 'orchestras': 2, 'cello': 2, 'Lausanne': 2, 'Conservatory': 2, 'Gino': 2, 'Marinuzzi': 2, 'Giampaolo': 2, 'Vianello': 2, 'superintendent': 2, 'joyous': 2, 'rebirth': 2, 'Bellini': 2, 'Norma': 2, 'Takuo': 2, 'Scientific': 2, 'Dinner': 2, 'musings': 2, 'Underexposure': 2, 'Oday': 2, 'Sensitivities': 2, 'Nazism': 2, 'unwrapped': 2, 'blindingly': 2, '5ive': 2, 'Faces': 2, 'Spanglish': 2, 'Connelly': 2, 'entertained': 2, 'orphaned': 2, 'wicked': 2, 'Count': 2, 'Novel': 2, 'Joanne': 2, 'landlady': 2, 'lodgers': 2, 'didactic': 2, 'preachy': 2, 'Strange': 2, 'Norrell': 2, 'Susanna': 2, 'Waterstone': 2, 'Suzie': 2, 'Doore': 2, 'readable': 2, 'queens': 2, 'Laing': 2, 'constraints': 2, 'workshops': 2, 'Gift': 2, 'Gospel': 2, 'Fireside': 2, 'Tales': 2, 'Edgar': 2, 'Poe': 2, 'Bierce': 2, 'wrangles': 2, 'Lights': 2, 'unplugged': 2, 'biographer': 2, 'Poiter': 2, 'Shade': 2, 'Humpty': 2, 'Dumpty': 2, 'Lessons': 2, 'Pike': 2, 'creatives': 2, 'indescribable': 2, 'Brothels': 2, 'prostitutes': 2, 'Calcutta': 2, 'Elliots': 2, 'familiarise': 2, 'Healy': 2, 'Haydn': 2, 'Gwnne': 2, 'Walters': 2, 'breadline': 2, 'mum': 2, 'Dogville': 2, 'Dancer': 2, 'Lars': 2, 'Trier': 2, 'gongs': 2, 'courier': 2, 'Schmidt': 2, 'Robbing': 2, 'Woodsman': 2, 'Floor': 2, 'sculpture': 2, 'fetched': 2, 'noble': 2, 'Polynesia': 2, '1774': 2, 'exhibited': 2, 'Charlene': 2, 'Letisha': 2, 'Forms': 2, 'Jama': 2, 'progression': 2, 'stalker': 2, 'Hickox': 2, 'Directorial': 2, 'Debut': 2, 'impresarios': 2, 'Mirvish': 2, 'conjuction': 2, 'Varttina': 2, 'implied': 2, 'Corporal': 2, 'wilderness': 2, 'Madly': 2, '23m': 2, 'Strip': 2, 'seasoned': 2, 'dizzy': 2, 'Manzerana': 2, 'Eno': 2, 'Manzanera': 2, 'Knowles': 2, 'Linkin': 2, 'Bennington': 2, 'infallibility': 2, 'Forensic': 2, 'pathologist': 2, 'attorneys': 2, 'juggernaut': 2, 'Married': 2, 'Previews': 2, 'Verdon': 2, 'MacLaine': 2, 'Barbados': 2, 'slain': 2, 'Pim': 2, 'regulars': 2, 'Sid': 2, 'Guildhall': 2, 'Convenience': 2, 'Beresford': 2, 'trouper': 2, 'symbologist': 2, 'brotherhood': 2, 'Illuminati': 2, 'mysteries': 2, 'closets': 2, 'Sulpice': 2, 'Lit': 2, 'Passage': 2, 'reconvene': 2, 'Crashed': 2, 'Present': 2, 'Quantum': 2, 'Leap': 2, 'Bakula': 2, 'Voyager': 2, 'firework': 2, 'physicians': 2, 'Pancake': 2, 'detonated': 2, 'Adventures': 2, 'Omni': 2, 'Genie': 2, 'Bottle': 2, 'Marmalade': 2, 'Maya': 2, 'Pink': 2, 'Ry': 2, 'Cooder': 2, 'scoured': 2, 'heroin': 2, 'Illinois': 2, 'capitalising': 2, 'Ti': 2, 'biblical': 2, 'Spielberg': 2, 'shelter': 2, '55th': 2, 'crowns': 2, 'Stakonia': 2, 'Pie': 2, 'unviable': 2, 'curtails': 2, 'paedophilia': 2, 'Ragovoy': 2, 'mastering': 2, 'Emotional': 2, 'heists': 2, 'Wesley': 2, 'Snipes': 2, 'Blade': 2, 'fable': 2, 'Fellman': 2, 'complimentary': 2, 'dispiriting': 2, 'Religion': 2, 'Seventeen': 2, 'Wrong': 2, 'Earls': 2, 'EP': 2, 'pinnies': 2, 'pic': 2, 'Infinity': 2, 'Gay': 2, 'Flag': 2, 'violently': 2, 'humorously': 2, 'counterterrorism': 2, 'torrential': 2, '0130': 2, 'Mira': 2, 'Makepeace': 2, 'climber': 2, 'Features': 2, 'Masterpiece': 2, 'Salaam': 2, 'Denzel': 2, 'sightedness': 2, 'intuitively': 2, 'minx': 2, 'prophesy': 2, 'Dry': 2, 'bandmate': 2, 'Ain': 2, 'Specials': 2, 'Ghost': 2, 'Stairway': 2, 'slushy': 2, 'NOT': 2, 'biassed': 2, 'kidding': 2, 'catergory': 2, 'Soppy': 2, 'serene': 2, 'Booo': 2, 'hisss': 2, 'REAL': 2, 'bane': 2, 'Pavlovian': 2, 'scream': 2, 'baked': 2, 'ditty': 2, 'sops': 2, 'mediocre': 2, 'snobby': 2, 'meanings': 2, 'british': 2, 'diehard': 2, 'appelas': 2, 'lackluster': 2, 'Robbies': 2, 'goodlooks': 2, 'redifining': 2, '25year': 2, 'oversentimental': 2, 'Python': 2, 'Serna': 2, '952m': 2, 'bestowing': 2, 'warmed': 2, 'sported': 2, 'pencil': 2, 'Mutiny': 2, 'Bertolucci': 2, 'Tango': 2, 'Caan': 2, 'Duvall': 2, 'reignited': 2, 'acknowledging': 2, 'Sessions': 2, 'uber': 2, 'originates': 2, 'Funk': 2, 'isnt': 2, 'fueled': 2, 'Gaye': 2, 'Kravitz': 2, 'puting': 2, 'ok': 2, 'pigeonhole': 2, 'irrelevent': 2, 'MOBO': 2, 'invoked': 2, 'sidestep': 2, 'colourblind': 2, 'comapnies': 2, 'condesending': 2, 'Ignore': 2, 'scoop': 2, 'Roly': 2, 'Crockett': 2, 'Cult': 2, 'blends': 2, 'arse': 2, 'sideburns': 2, 'farmhouse': 2, 'Signed': 2, 'LSF': 2, 'sleaze': 2, 'Smut': 2, 'Peddlers': 2, 'Drugs': 2, '881': 2, 'Bozell': 2, 'baring': 2, 'Kedas': 2, 'boycott': 2, 'Fullness': 2, 'wrenching': 2, 'gorgeous': 2, 'Noll': 2, 'sexiest': 2, 'Pass': 2, 'Mic': 2, 'Trevin': 2, 'censored': 2, 'Hagerstown': 2, 'awakening': 2, '390': 2, 'Lily': 2, 'Tuck': 2, 'narratives': 2, 'Arc': 2, '1920s': 2, 'Collected': 2, 'Poems': 2, 'Odds': 2, 'Conversation': 2, '1000th': 2, 'Voorhees': 2, 'Krueger': 2, 'SAG': 2, 'Letters': 2, 'Renaud': 2, 'Donnedieu': 2, 'Shake': 2, 'Hands': 2, 'Journey': 2, 'Dallaire': 2, 'Moon': 2, 'separating': 2, 'Shades': 2, 'forbidden': 2, 'Geordie': 2, 'McAvoy': 2, 'Barratt': 2, 'Fielding': 2, 'Boosh': 2, 'Winner': 2, 'Hawking': 2, '808': 2, 'Albee': 2, 'Pillowman': 2, 'McDonagh': 2, 'Buds': 2, 'Notes': 2, 'Leaves': 2, 'Dumb': 2, 'Shining': 2, 'MacNeil': 2, 'Arditti': 2, 'Hildegard': 2, 'Bechtler': 2, 'Iphigenia': 2, 'Aulis': 2, 'False': 2, 'Servant': 2, 'Shulman': 2, 'Romola': 2, 'Garai': 2, 'Calico': 2, 'snubbed': 2, 'inwhich': 2, 'Quai': 2, 'Orfevres': 2, 'Desplechin': 2, 'Grams': 2, 'Rollers': 2, 'goth': 2, 'Chain': 2, 'rediscover': 2, 'Hollyoaks': 2, 'CBE': 2, 'Cutler': 2, 'Negar': 2, 'Bipin': 2, 'Bihari': 2, 'topless': 2, 'Entrepreneur': 2, '91st': 2, 'materialistic': 2, 'scrutinise': 2, 'turners': 2, 'authorial': 2, 'rusty': 2, '318': 2, 'memorably': 2, 'spoofed': 2, 'Airplane': 2, 'Runaway': 2, 'Zero': 2, 'Brolin': 2, 'harassed': 2, 'aiport': 2, 'womanising': 2, 'Seberg': 2, 'Bisset': 2, 'painstaking': 2, 'professions': 2, 'Medicine': 2, 'panoply': 2, 'Contest': 2, 'Ruslana': 2, 'commends': 2, 'Gunter': 2, 'Grass': 2, 'Ismail': 2, 'Kadare': 2, 'Stanislaw': 2, 'Lem': 2, 'Naguib': 2, 'Mahfouz': 2, 'Eloy': 2, 'Kenzaburo': 2, 'Oe': 2, 'Ozick': 2, 'Tabucchi': 2, 'Yehoshua': 2, 'Schenck': 2, 'housemate': 2, 'Downloads': 2, '312': 2, '282': 2, 'OD2': 2, 'mycokemusic': 2, 'Groban': 2, 'molestation': 2, 'courthouse': 2, 'Stilwell': 2, 'goers': 2, 'guilds': 2, 'adore': 2, 'Suge': 2, 'Barstow': 2, 'Southeastern': 2, 'Dolores': 2, 'Troiani': 2, 'wholescale': 2, 'Spouses': 2, 'Champ': 2, 'Sprung': 2, 'mannequins': 2, 'reinvention': 2, 'Clangers': 2, 'Banana': 2, 'Pandy': 2, 'toons': 2, 'cartoons': 2, 'thunderbirds': 2, 'apalling': 2, 'cuddly': 2, 'Disneyfying': 2, 'everthing': 2, 'remaking': 2, 'reinventing': 2, 'Pugwash': 2, 'inventiveness': 2, 'rework': 2, 'daring': 2, 'Battlestar': 2, 'Galactica': 2, 'Connery': 2, 'plany': 2, 'rehashing': 2, 'Atkinson': 2, 'Dungeons': 2, 'dearest': 2, 'Childrens': 2, 'Spongebob': 2, 'Squarepants': 2, 'Rentaghost': 2, 'Terrahawks': 2, 'luv': 2, 'Willow': 2, 'Wisp': 2, 'wouldnt': 2, 'remembers': 2, 'Morph': 2, 'hmmmmm': 2, 'Postgate': 2, 'Fingerbobs': 2, 'antics': 2, 'bearded': 2, 'Yoffi': 2, 'Fingermouse': 2, 'Builder': 2, 'Postman': 2, 'Fireman': 2, 'targetted': 2, 'Bagpuss': 2, 'clunkiness': 2, 'Chorton': 2, 'mega': 2, 'gurgitation': 2, 'Thats': 2, 'Motorhead': 2, 'homegrown': 2, 'clog': 2, 'alcoholism': 2, 'rejoined': 2, 'clinging': 2, 'schoolfriends': 2, '26th': 2, 'Clayton': 2, 'McGuinness': 2, 'anthemic': 2, 'cliche': 2, 'Haven': 2, 'Found': 2, 'explorations': 2, 'Beckinsale': 2, 'luncheon': 2, 'ravages': 2, 'premieres': 2, 'fundraisers': 2, 'visibly': 2, 'toned': 2, 'subtitles': 2, 'offputting': 2, 'cinemagoers': 2, 'Damme': 2, 'Kinnaree': 2, 'aroused': 2, 'Endemol': 2, 'Shady': 2, 'docked': 2, 'Encore': 2, 'Superbowl': 2, 'Entertainers': 2, 'legisation': 2, 'politcians': 2, 'adjourned': 2, 'traumatic': 2, '507': 2, '596': 2, 'Munchies': 2, '271st': 2, 'proclaim': 2, 'fascinate': 2, 'filmmakers': 2, 'Experience': 2, 'Dom': 2, 'Bungalow': 2, 'McCourt': 2, 'Floella': 2, 'Debbie': 2, 'Isitt': 2, 'Illustrated': 2, 'Mum': 2, 'Animation': 2, 'Poliakoff': 2, 'bicentennial': 2, 'tales': 2, 'recognizes': 2, 'authorship': 2, 'Odense': 2, 'Duckling': 2, 'Christensen': 2, 'Categories': 2, 'Spelling': 2, 'Senegalese': 2, 'Andersson': 2, 'Agnetha': 2, 'Anni': 2, 'Frid': 2, 'Lyngstad': 2, 'Niklas': 2, 'Stromstedt': 2, 'Carradine': 2, 'Ipod': 2, 'Crouching': 2, 'Sara': 2, 'Peels': 2, 'commited': 2, 'listens': 2, 'ledgendary': 2, 'Vicki': 2, 'reserved': 2, 'chilly': 2, 'throngs': 2, 'piercing': 2, 'Rooting': 2, 'Glamour': 2, 'Sienna': 2, 'Schiffer': 2, 'OC': 2, 'Micha': 2, 'Timely': 2, 'byline': 2, 'Batman': 2, 'astronauts': 2, 'cosmic': 2, 'dandruff': 2, 'ingrown': 2, 'toenails': 2, 'acne': 2, 'rekindled': 2, 'Spidey': 2, 'sidekick': 2, 'brawn': 2, 'Radically': 2, 'Panther': 2, 'Surfer': 2, 'indestructible': 2, 'accuser': 2, 'Schaffel': 2, 'LeGrand': 2, 'frailties': 2, 'Gun': 2, 'Sneddon': 2, 'plied': 2, 'HOW': 2, 'ALL': 2, 'STARTED': 2, '45pm': 2, 'suspense': 2, 'Herrick': 2, 'statue': 2, 'Skolsky': 2, 'statuettes': 2, 'Sr': 2, 'admittance': 2, 'receipt': 2, 'glitz': 2, 'demure': 2, 'dresses': 2, 'CONTROVERSIES': 2, 'OTHER': 2, 'GAFFES': 2, 'Cruz': 2, 'Launderette': 2, 'Famous': 2, 'Akira': 2, 'Hole': 2, 'Weitzman': 2, 'sober': 2, 'Rand': 2, 'concurrently': 2, 'opiates': 2, 'mutants': 2, 'abnormality': 2, 'Mutants': 2, 'Kunzru': 2, 'Sayle': 2, 'elegance': 2, 'inquisitiveness': 2, 'provoking': 2, 'memoir': 2, 'Valery': 2, 'Giscard': 2, 'Estaing': 2, 'Aymone': 2, 'Aznavour': 2, 'racy': 2, 'Alltel': 2, 'mellow': 2, 'Fergie': 2, 'purple': 2, 'hotpants': 2, 'Aerosmith': 2, 'Gloria': 2, 'Estefan': 2, 'graced': 2, 'outstripped': 2, 'recounts': 2, 'Gellar': 2, 'Jayanti': 2, 'Amarishi': 2, 'inlay': 2, 'Mohabbatein': 2, 'Legitimate': 2, 'Janie': 2, 'stepsister': 2, 'Balloch': 2, 'Lomond': 2, 'Ticketweb': 2, 'spiritually': 2, 'Birkin': 2, 'artworks': 2, 'treasures': 2, 'pedestrianisation': 2, 'exhibitions': 2, 'Broke': 2, 'Visits': 2, 'Luanda': 2, 'Assignment': 2, 'gripped': 2, 'Lapete': 2, 'Wambo': 2, 'reunified': 2, 'Marques': 2, 'rubble': 2, 'paperbacks': 2, 'Finnigan': 2, 'Bonny': 2, 'criminalist': 2, 'revolver': 2, 'Baretta': 2, 'Chrissie': 2, 'daffodils': 2, 'canal': 2, 'Bardem': 2, 'Geislerova': 2, 'Choristes': 2, 'Hellblazer': 2, 'Elise': 2, 'philandering': 2, 'Jackal': 2, 'Repertory': 2, 'cordoned': 2, 'masonry': 2, '31m': 2, 'Reno': 2, '55m': 2, 'manifest': 2, 'sucessor': 2, 'Corbijn': 2, 'Depeche': 2, 'Corpus': 2, 'Coupling': 2, 'idiosyncratic': 2, 'surefire': 2, 'unconventional': 2, 'Brasco': 2, 'infiltrating': 2, 'Moss': 2, 'Willy': 2, 'Wonka': 2, 'Roald': 2, 'Chocolate': 2, '144m': 2, 'Westerns': 2, 'Quiet': 2, 'Wilma': 2, 'Erin': 2, 'cheek': 2, 'adventures': 2, 'gaudy': 2, 'po': 2, 'Statler': 2, 'gunner': 2, 'warmonger': 2, 'amicable': 2, 'coinciding': 2, 'Fuelled': 2, 'riotous': 2, 'Clutterbuck': 2, 'Crabbe': 2, 'Rennie': 2, 'calamity': 2, 'myriad': 2, 'Oldman': 2, 'troublemaker': 2, 'bushtucker': 2, 'folllowing': 2, 'lavished': 2, 'Brookstein': 2, 'Erasure': 2, 'Breathe': 2, 'taskforce': 2, 'Horror': 2, 'Date': 2, 'Revenge': 2, 'Sith': 2, '13s': 2, '12A': 2, 'Leno': 2, 'Clear': 2, 'Notorious': 2, 'BIG': 2, 'negativity': 2, 'Pajama': 2, 'charisma': 2, 'Emile': 2, 'Therese': 2, 'Raquin': 2, 'Thou': 2, 'Shalt': 2, 'bestow': 2, 'Kenard': 2, 'sickening': 2, 'seated': 2, 'autograph': 2, 'scuffle': 2, 'Locked': 2, 'Hounds': 2, 'Caught': 2, 'operatic': 2, 'crooner': 2, 'Definitive': 2, 'Performers': 2, 'DMC': 2, 'Mase': 2, 'Madd': 2, 'exaggeration': 2, 'dancefloor': 2, 'varirty': 2, 'Pieces': 2, 'Flashmob': 2, 'Tootsie': 2, '174': 2, 'Katie': 2, 'Melua': 2, 'feminist': 2, 'cola': 2, 'Sunita': 2, 'Sharma': 2, 'VOTE': 2, 'slashing': 2, '67m': 2, 'Gladys': 2, 'replicate': 2, 'Walks': 2, 'Stardust': 2, 'Lies': 2, 'Topsy': 2, 'Turvy': 2, 'Learn': 2, 'Lonely': 2, 'Push': 2, 'Button': 2, 'Kampala': 2, 'unnatural': 2, 'NGOs': 2, 'Percept': 2, 'Swashbuckling': 2, 'Costner': 2, 'Flow': 2, 'Squid': 2, 'Whale': 2, 'Noah': 2, 'Baumbach': 2, 'Persuasion': 2, 'Introducing': 2, 'mocked': 2, 'mullet': 2, 'endearingly': 2, 'messianic': 2, 'prima': 2, 'Lilian': 2, '1910': 2, 'Ballets': 2, 'Russes': 2, 'diphtheria': 2, 'governess': 2, 'tow': 2, 'choreographers': 2, 'Dying': 2, 'ballerinas': 2, 'Sylphides': 2, 'argumentative': 2, 'loopy': 2, 'recommissioned': 2, 'encompassed': 2, 'indisputably': 2, 'stained': 2, 'Redding': 2, 'Pickett': 2, 'Hoagy': 2, 'Carmichael': 2, 'Manfred': 2, 'Sha': 2, 'Malkovich': 2, 'Nighy': 2, 'Surf': 2, 'numbingly': 2, 'beachgoer': 2, '0700': 2, 'strenuously': 2, '163m': 2, 'Areas': 2, 'fraternities': 2, 'pursues': 2, 'NEA': 2, 'allotting': 2, 'Cidatel': 2, 'infomercial': 2, 'Citadel': 2, 'syndicated': 2, 'Hirst': 2, 'Loach': 2, 'Chalayan': 2, 'Coxon': 2, 'Fine': 2, 'alienated': 2, 'suburb': 2, 'schoolteacher': 2, 'introduces': 2, 'pleasures': 2, 'swords': 2, 'sandals': 2, 'novelist': 2, 'Gore': 2, 'Vidal': 2, 'bisexuality': 2, 'Outen': 2, 'Heard': 2, 'Orleans': 2, 'Corey': 2, 'Terrell': 2, 'Witchcraft': 2, 'Wizardry': 2, 'Wilbur': 2, 'Phinnaeus': 2, 'Oprah': 2, 'Winfrey': 2, 'goose': 2, 'Cleese': 2, 'Buscemi': 2, 'Jagger': 2, 'Habits': 2, 'McShane': 2, 'suburban': 2, 'Hatcher': 2, 'Arrested': 2, 'Bateman': 2, 'dainty': 2, 'carving': 2, 'Aimed': 2, 'nurture': 2, 'rivalries': 2, 'Jadakiss': 2, 'Jada': 2, 'homie': 2, 'escorted': 2, 'Outnumbered': 2, 'Outgunned': 2, 'superclubs': 2, 'Halfway': 2, 'Gutter': 2, 'consciously': 2, 'subconsciously': 2, 'scrub': 2, 'Peppe': 2, 'jolly': 2, 'Masochistic': 2, 'Went': 2, 'Enemy': 2, 'ate': 2, 'Grazer': 2, 'supersize': 2, 'supersized': 2, 'poignant': 2, 'storey': 2, 'townhouse': 2, 'Sotheby': 2, 'Basquiat': 2, '305m': 2, '162m': 2, 'Cat': 2, 'SM': 2, 'Krim': 2, 'Exorcist': 2, 'Stellan': 2, 'foreruns': 2, 'Renny': 2, 'Frankenheimer': 2, 'Sydow': 2, 'shelving': 2, 'Verne': 2, 'docu': 2, 'volcanic': 2, 'eruption': 2, 'Cannings': 2, 'Belsen': 2, 'Archangel': 2, 'Waters': 2, 'Fingersmith': 2, 'lesbian': 2, 'Stevenson': 2, 'Bex': 2, 'Barron': 2, 'Nettles': 2, 'Midsomer': 2, 'Murders': 2, 'Marple': 2, 'commemorate': 2, 'Outlaw': 2, 'unmistakable': 2, 'Slamdance': 2, 'XDance': 2, 'merchants': 2, 'viewpoints': 2, 'monolithic': 2, 'Sooner': 2, 'Returning': 2, 'educates': 2, 'gatekeepers': 2, 'paramedics': 2, 'Shore': 2, 'Poitier': 2, 'daugher': 2, 'Misel': 2, 'animator': 2, 'Toho': 2, 'Vinod': 2, 'portraying': 2, 'Zubair': 2, 'hoardings': 2, 'Runcorn': 2, 'Rise': 2, 'Kwon': 2, 'Taek': 2, 'Chihwaseon': 2, 'Dornford': 2, 'Tolerate': 2, 'Bradfield': 2, 'figurehead': 2, 'Suicide': 2, 'Goa': 2, 'Fuerteventura': 2, 'skeleton': 2, 'Lifeblood': 2, 'Afterlife': 2, 'daytime': 2, 'Shook': 2, 'Bonhams': 2, 'divulge': 2, 'noticeably': 2, 'crisper': 2, 'paedophile': 2, 'Kassell': 2, 'molester': 2, 'Fipresci': 2, 'Aaltra': 2, 'handicapped': 2, 'Caouette': 2, 'Tarnation': 2, 'handwritten': 2, 'Theolonius': 2, 'Monk': 2, 'Angus': 2, 'Dickinson': 2, 'Thirteen': 2, 'Arquette': 2, 'Wisdom': 2, 'Pinsent': 2, 'Jennie': 2, 'scrubbed': 2, 'Jacoba': 2, 'discreet': 2, 'enchanting': 2, 'Torak': 2, 'hunter': 2, 'breathes': 2, '6000': 2, 'primeval': 2, 'Slade': 2, 'Mistletoe': 2, 'Founding': 2, 'Tsumani': 2, 'Masscre': 2, 'concurrent': 2, 'Osella': 2, 'faint': 2, 'assignment': 2, 'sketching': 2, 'rehearsing': 2, 'ramble': 2, 'laughs': 2, 'whodunit': 2, 'cryptography': 2, 'stipulated': 2, 'skating': 2, 'Jayne': 2, 'Torvill': 2, 'Burrell': 2, 'Fran': 2, 'Beanstalk': 2, 'deconstruct': 2, 'bitches': 2, 'Flanimals': 2, 'Elephunk': 2, 'Jenifer': 2, 'Murdered': 2, 'Hamer': 2, 'Depardon': 2, 'Magistrate': 2, 'Creep': 2, 'mediaThe': 2, 'RendezvousDirected': 2, 'gravitate': 1, 'melted': 1, 'supplanted': 1, 'categorically': 1, 'inextricably': 1, 'Ellman': 1, 'truanted': 1, 'Whirlwind': 1, 'smoky': 1, 'outlining': 1, 'dictating': 1, 'politicisation': 1, 'terribly': 1, 'Dewsbury': 1, 'Patriots': 1, 'enjoined': 1, 'Gorebridge': 1, 'Longtown': 1, 'Hindus': 1, 'Sikhs': 1, 'downdraft': 1, 'Islamaphobia': 1, 'contraceptives': 1, 'Parts': 1, 'Objective': 1, 'Piers': 1, 'Freelove': 1, 'impersonal': 1, 'PCSU': 1, 'Lanning': 1, 'Errors': 1, 'elephant': 1, 'thefirst': 1, 'abortive': 1, 'smearing': 1, 'reminders': 1, 'reviving': 1, 'apologies': 1, 'watered': 1, 'Probation': 1, 'deterrents': 1, 'Symbolically': 1, '313': 1, 'heirloom': 1, 'prayer': 1, 'Chapel': 1, 'preside': 1, 'Anglicans': 1, 'remarriage': 1, 'divorcees': 1, 'disillusionment': 1, 'Ros': 1, 'Coward': 1, 'princess': 1, 'thereabouts': 1, 'Fusiliers': 1, 'Argyll': 1, 'Highlanders': 1, 'Colonels': 1, '932': 1, 'quashes': 1, 'Facey': 1, 'lieu': 1, 'Islamabad': 1, 'Sindh': 1, 'Cryer': 1, 'miners': 1, 'hoc': 1, 'stickling': 1, 'cultivating': 1, 'Benchmarking': 1, 'defectors': 1, 'morals': 1, 'conservationists': 1, 'Ecologists': 1, 'havoc': 1, 'UHI': 1, 'Oceanography': 1, 'Hebrides': 1, 'Stafford': 1, 'confining': 1, 'Adherence': 1, 'dispossessed': 1, 'rotten': 1, 'apples': 1, 'Complaints': 1, 'radicalism': 1, 'praetorian': 1, 'emperors': 1, 'pheromones': 1, 'daylight': 1, 'Casinos': 1, 'pheremones': 1, 'defeatism': 1, 'Choose': 1, 'contravenes': 1, 'deferential': 1, 'faiths': 1, 'Fido': 1, 'residences': 1, 'warden': 1, 'Declaration': 1, 'mortality': 1, 'Compassionate': 1, 'retorted': 1, 'spouses': 1, 'Mawer': 1, 'jailings': 1, 'jailing': 1, 'healed': 1, 'rifts': 1, 'explosives': 1, 'discredited': 1, 'quashed': 1, 'Alternative': 1, 'sanitise': 1, 'xenophobia': 1, 'alternatively': 1, 'battlegrounds': 1, 'exclusions': 1, 'trev': 1, 'shd': 1, 'newsnight': 1, 'fuck': 1, 'twats': 1, 'trevor': 1, 'Pigs': 1, 'circs': 1, 'swears': 1, 'Sellafield': 1, 'Cumbria': 1, 'untreated': 1, 'Tai': 1, 'Chi': 1, 'agility': 1, 'hoops': 1, 'Southwark': 1, 'fenced': 1, 'dwellers': 1, 'evenly': 1, 'Pressure': 1, 'Investigations': 1, 'Wouldn': 1, 'broom': 1, 'bigoted': 1, 'Parkhead': 1, 'troublesome': 1, 'Praising': 1, '119m': 1, 'Parliamentarians': 1, 'breathalysed': 1, 'Slight': 1, 'pedestrians': 1, 'cyclists': 1, '30mph': 1, '40mph': 1, 'instinct': 1, 'Laxton': 1, 'stammered': 1, 'interfered': 1, 'democratically': 1, 'nudges': 1, 'winks': 1, 'informative': 1, 'Tredegar': 1, 'Pengam': 1, 'Glenys': 1, 'tutor': 1, 'Islwyn': 1, 'firebrand': 1, 'Militant': 1, 'Tendency': 1, 'Burglar': 1, 'Householders': 1, 'trawl': 1, 'Barras': 1, '914': 1, 'Leaders': 1, 'Armenians': 1, 'staunchest': 1, 'robber': 1, 'eczema': 1, 'probabilities': 1, 'heartened': 1, 'Timor': 1, 'Honorary': 1, 'consuls': 1, 'Bordeaux': 1, 'Oporto': 1, 'redeployed': 1, 'Pretoria': 1, 'Mbabane': 1, 'Kabul': 1, 'Pyongyang': 1, '943': 1, 'Ballot': 1, 'salvoes': 1, 'Maternity': 1, 'Petrol': 1, 'RAC': 1, 'Lobby': 1, 'convoys': 1, '28p': 1, 'iterate': 1, 'Mass': 1, 'malnourishment': 1, 'Saviour': 1, 'unnerved': 1, 'majorities': 1, 'captivity': 1, 'swayed': 1, 'amply': 1, 'pronouncements': 1, 'mammoth': 1, 'sulk': 1, 'uninterested': 1, 'chatter': 1, 'misrepresented': 1, 'unwinnable': 1, 'inference': 1, 'Weakest': 1, 'despaired': 1, 'passable': 1, 'Draconian': 1, 'pong': 1, 'confesses': 1, 'decries': 1, 'evaluated': 1, 'Mothers': 1, 'reimburses': 1, 'tram': 1, 'Maleeha': 1, 'Lodhi': 1, 'grievances': 1, 'totality': 1, '838th': 1, '1812': 1, 'firsts': 1, 'Blairs': 1, 'Leo': 1, '1848': 1, 'subscribed': 1, '1915': 1, 'canvassing': 1, 'lecturing': 1, 'Rosyth': 1, 'Entering': 1, 'Granita': 1, 'columns': 1, 'Infirmary': 1, 'hearsay': 1, 'cooked': 1, 'hothouse': 1, 'presiding': 1, 'petitioners': 1, '10ft': 1, 'Reich': 1, 'Sudetenland': 1, 'Czechoslovakia': 1, 'aspired': 1, 'unfeasibility': 1, 'Batten': 1, 'Broadmoor': 1, 'scuppered': 1, 'Greener': 1, 'decidedly': 1, 'dissenter': 1, 'Woodhead': 1, 'upheaval': 1, 'revert': 1, 'sodomy': 1, 'Odell': 1, 'Henley': 1, 'wallowing': 1, 'thuggish': 1, 'unsafe': 1, 'Kofi': 1, 'Annan': 1, 'Lyn': 1, 'panicky': 1, 'streamlined': 1, 'streamlining': 1, 'QMV': 1, 'disagrees': 1, 'heightens': 1, 'tsar': 1, 'Oriel': 1, 'hardened': 1, 'unilateral': 1, 'denunciation': 1, 'rightwards': 1, 'defect': 1, 'Tyrie': 1, 'Raising': 1, 'discourtesies': 1, 'Dalton': 1, 'Carvel': 1, 'reasoned': 1, 'Salford': 1, 'legitimisation': 1, 'victimised': 1, 'Polytechnic': 1, 'unionists': 1, 'Discord': 1, 'deselection': 1, 'Eurosceptics': 1, 'wrecking': 1, 'Disability': 1, 'Smoke': 1, 'Miscellaneous': 1, 'Provisions': 1, 'enclosed': 1, 'Individuals': 1, 'ticked': 1, 'tendered': 1, 'misconceptions': 1, 'enquiry': 1, 'registrable': 1, 'prejudicing': 1, 'Block': 1, 'essentials': 1, 'Nye': 1, 'Ieuan': 1, 'Wyn': 1, 'Kisrty': 1, 'deflect': 1, '1441': 1, 'Lawless': 1, 'justifies': 1, 'pr': 1, 'cis': 1, 'Shri': 1, 'Swaminarayan': 1, 'Mandir': 1, 'Neasden': 1, 'evacuating': 1, 'deteriorates': 1, 'evacuation': 1, 'consults': 1, 'rearing': 1, 'keepers': 1, 'angling': 1, 'exempting': 1, 'blanche': 1, 'redraft': 1, 'enshrined': 1, 'circuses': 1, 'looms': 1, 'Hunts': 1, '0001': 1, 'culmination': 1, 'Farmer': 1, 'revolved': 1, 'Ucas': 1, 'acceptances': 1, 'myth': 1, 'Islamism': 1, 'slurs': 1, 'constituent': 1, 'RK': 1, 'mindedness': 1, 'humankind': 1, 'tiff': 1, 'midstream': 1, 'mouthing': 1, 'steed': 1, 'diminishes': 1, 'egotist': 1, 'splinter': 1, 'etat': 1, 'eventuality': 1, 'exhaust': 1, 'energies': 1, 'vain': 1, 'pompous': 1, 'Honestly': 1, 'vacuity': 1, 'gaffes': 1, 'irrelevance': 1, 'ridiculousness': 1, 'knight': 1, 'wrecks': 1, 'dithers': 1, 'bureaucratism': 1, 'nexus': 1, 'Glenurquhart': 1, 'Inverness': 1, 'Davidson': 1, 'Ness': 1, 'evils': 1, 'railed': 1, 'preaching': 1, 'booze': 1, 'Staggering': 1, 'underage': 1, '2am': 1, 'Leaked': 1, 'Faced': 1, 'correspondence': 1, 'covertly': 1, 'variously': 1, 'firearm': 1, 'courtrooms': 1, 'umpteenth': 1, 'flames': 1, 'reallocated': 1, '512m': 1, 'classifications': 1, 'Chainsaw': 1, 'responsibly': 1, 'countering': 1, 'Dover': 1, 'Shipman': 1, 'Strategic': 1, 'Controls': 1, 'Undersecretary': 1, 'Eurofighter': 1, 'Successor': 1, 'Foe': 1, 'SIFF': 1, 'Somewhere': 1, '569': 1, '072': 1, 'genocidal': 1, 'Josef': 1, 'blockade': 1, 'shelters': 1, 'sheltered': 1, 'treasure': 1, 'precautions': 1, 'futilely': 1, 'Fatah': 1, 'INLA': 1, 'humanly': 1, 'instituted': 1, 'Informants': 1, 'penetrate': 1, 'movers': 1, 'shatter': 1, 'rakes': 1, 'WMD': 1, 'GCHQ': 1, 'Semtex': 1, 'plutonium': 1, 'gagged': 1, 'Inform': 1, 'Educate': 1, 'Entertain': 1, 'Ricin': 1, 'misguided': 1, 'Administrative': 1, 'nightmares': 1, 'forgets': 1, 'alienation': 1, 'indiscriminately': 1, 'lunatics': 1, 'probability': 1, 'distorts': 1, 'Totalitarianism': 1, 'liberate': 1, 'propositions': 1, 'barbaric': 1, 'roundly': 1, 'posterity': 1, 'collusion': 1, 'superficially': 1, 'competence': 1, 'denunciations': 1, 'Ceausescu': 1, 'duped': 1, 'paranoia': 1, 'insidiously': 1, 'grieve': 1, 'Qur': 1, 'aan': 1, 'Fundamentalist': 1, 'derogation': 1, 'undue': 1, 'neutered': 1, 'eloquently': 1, 'Steyn': 1, 'Carswell': 1, 'Welcoming': 1, 'pilloried': 1, 'problematically': 1, 'drunkenness': 1, 'distortion': 1, 'wiser': 1, 'convener': 1, 'emergencies': 1, 'invasions': 1, 'Avoiding': 1, 'spurns': 1, 'airy': 1, 'libertarians': 1, 'liberati': 1, 'amalgam': 1, 'glitterati': 1, 'courted': 1, 'reclassification': 1, 'shadowing': 1, 'heckled': 1, 'conciliator': 1, 'patching': 1, 'iniquity': 1, 'Cohesion': 1, 'segregation': 1, 'thriving': 1, 'Census': 1, 'whites': 1, 'insurrection': 1, 'restating': 1, 'flagrant': 1, 'systematic': 1, 'Insofar': 1, 'Tribunal': 1, 'Wilmslow': 1, 'Corsa': 1, 'ginger': 1, 'beard': 1, 'deprives': 1, 'unjustifiably': 1, 'mustn': 1, 'nostalgic': 1, 'harnessed': 1, 'Teens': 1, 'ambiguity': 1, 'prescriptive': 1, 'expulsion': 1, 'rancour': 1, 'nagged': 1, 'spokespeople': 1, 'Brownlees': 1, 'Torture': 1, 'abusers': 1, 'scurrilous': 1, 'purposely': 1, 'marrow': 1, 'adoptive': 1, 'Pelham': 1, 'blanket': 1, 'quarry': 1, 'Kibera': 1, 'huts': 1, 'cardboard': 1, 'vindictively': 1, '981': 1, 'CommunicateResearch': 1, '401': 1, '601': 1, 'Ley': 1, 'Saxon': 1, 'lays': 1, 'zeal': 1, 'tieless': 1, 'supremely': 1, 'stewards': 1, 'shipyard': 1, 'leanings': 1, 'campaiging': 1, 'Whose': 1, 'barracking': 1, 'ah': 1, 'Teather': 1, 'strands': 1, 'Deportation': 1, 'inpatients': 1, 'Beddow': 1, 'modernising': 1, 'unacceptably': 1, 'waiters': 1, 'Kirsty': 1, 'unambitious': 1, '785': 1, '708': 1, 'Televised': 1, 'concurrence': 1, 'grasped': 1, 'Yasser': 1, 'Ramallah': 1, 'wreath': 1, 'Abu': 1, 'Mazen': 1, 'disengage': 1, 'insurgent': 1, 'centralisation': 1, 'Jeffries': 1, 'Fugill': 1, 'Lea': 1, 'Pease': 1, 'Pottage': 1, 'Monkhouse': 1, 'Tuxford': 1, 'Alcorn': 1, 'responsibilty': 1, 'inconvenienced': 1, 'liaises': 1, 'mirrored': 1, 'Faith': 1, 'Diversity': 1, 'Badly': 1, 'harmony': 1, 'illiberalism': 1, 'demean': 1, 'instruct': 1, 'climbdown': 1, 'imposes': 1, 'Salvation': 1, 'Cobham': 1, 'scaring': 1, 'fosterers': 1, 'Fostering': 1, 'Tapsfield': 1, 'devils': 1, 'kidnappers': 1, 'Arabic': 1, 'abduction': 1, 'Abortion': 1, 'terminations': 1, 'Heeled': 1, 'criminalise': 1, 'mandarin': 1, 'knighting': 1, 'astonishment': 1, 'knighthoods': 1, 'undertook': 1, 'Serial': 1, 'absences': 1, '885m': 1, 'academically': 1, '776': 1, 'Correction': 1, 'correctional': 1, 'Correctional': 1, 'reconvicted': 1, 'hopers': 1, 'conclusively': 1, 'safely': 1, 'unwashed': 1, 'freakery': 1, 'bout': 1, 'flagellation': 1, 'marching': 1, 'autistic': 1, 'grilling': 1, 'interviewer': 1, 'Coppendale': 1, 'Tens': 1, 'Granger': 1, 'Sharron': 1, 'Storer': 1, 'harangued': 1, 'soapbox': 1, 'eggs': 1, 'memoirs': 1, 'artful': 1, 'maxim': 1, 'feckless': 1, 'infections': 1, 'billboards': 1, 'eater': 1, 'Clwyd': 1, 'mourned': 1, 'Attlee': 1, 'Place': 1, 'Strife': 1, 'Idi': 1, 'Amin': 1, '520': 1, 'taxis': 1, 'scooters': 1, 'timetabled': 1, 'inefficiency': 1, 'sexing': 1, 'condemnation': 1, 'overstate': 1, 'competently': 1, 'Northolt': 1, 'overstretched': 1, 'Stages': 1, 'fifths': 1, 'Stage': 1, '41m': 1, 'Spellar': 1, '50pc': 1, 'decreases': 1, 'Uni': 1, 'hardworking': 1, 'br': 1, 'gt': 1, 'cats': 1, 'purr': 1, 'whines': 1, 'sweatshops': 1, 'unglamorous': 1, 'decently': 1, 'consciences': 1, 'jubilation': 1, 'degraded': 1, 'manpower': 1, 'sweat': 1, 'tangible': 1, 'fudge': 1, '20p': 1, 'overtime': 1, 'Increases': 1, 'laze': 1, 'insurgency': 1, 'handedness': 1, 'Fallujah': 1, 'lobbies': 1, 'Repealing': 1, 'intimidatory': 1, 'housewives': 1, 'pheasant': 1, 'ideology': 1, 'Thirdly': 1, 'formers': 1, 'haulage': 1, '92p': 1, 'Defection': 1, 'limitation': 1, 'Immigrants': 1, 'documentation': 1, 'Amoah': 1, 'illegals': 1, 'deletions': 1, 'Tell': 1, '419m': 1, 'rationalisation': 1, 'Cuts': 1, 'dispersal': 1, 'youths': 1, 'Nicol': 1, 'Manjit': 1, 'Scannell': 1, 'Mare': 1, 'Hugill': 1, 'possibilty': 1, 'sleepless': 1, 'habeus': 1, 'blot': 1, 'dragons': 1, 'leeks': 1, 'choirs': 1, 'unelected': 1, 'Llangadfan': 1, 'Mostyn': 1, 'lite': 1, 'transporting': 1, 'OAPs': 1, 'pint': 1, '7p': 1, '80th': 1, 'rides': 1, 'devalue': 1, 'snatches': 1, 'fictions': 1, 'briefers': 1, 'sniping': 1, 'Caruana': 1, 'Dominick': 1, 'Chilcott': 1, 'Pons': 1, 'trainee': 1, 'vicar': 1, 'flags': 1, 'contrasts': 1, 'Aldridge': 1, 'Browhills': 1, 'Torfaen': 1, 'minimsed': 1, 'whinging': 1, 'pants': 1, 'chalk': 1, 'stripe': 1, 'rhyme': 1, 'spaghetti': 1, 'imperialists': 1, 'internationalism': 1, 'Mardell': 1, 'Britishness': 1, 'tinkered': 1, 'symbolise': 1, 'secular': 1, 'inseparable': 1, 'pandemic': 1, 'inoculations': 1, 'inducement': 1, 'decimating': 1, 'Treatments': 1, 'Savours': 1, 'grubby': 1, 'Winkfield': 1, 'revalue': 1, 'Perthshire': 1, 'reintroduce': 1, 'necks': 1, 'Gorton': 1, 'Holborn': 1, 'Pancras': 1, 'Saddleworth': 1, 'Withington': 1, 'Finsbury': 1, 'Yardley': 1, 'Taunton': 1, 'Orpington': 1, 'Haltemprice': 1, 'Howden': 1, 'Eastbourne': 1, 'Westmorland': 1, 'Lonsdale': 1, 'quash': 1, 'Lembit': 1, 'landowner': 1, 'Luff': 1, 'accommodating': 1, 'grading': 1, 'unfaithful': 1, 'Stops': 1, 'creatively': 1, 'Stalemate': 1, 'reservoir': 1, 'Janner': 1, 'contrite': 1, 'elapsed': 1, 'prostitute': 1, 'perjurer': 1, 'forgiving': 1, 'Candidate': 1, 'presume': 1, 'depicting': 1, 'Finchley': 1, 'tasteless': 1, 'superimposed': 1, 'winged': 1, 'overstepped': 1, 'refusals': 1, 'hasty': 1, 'dementia': 1, 'Patients': 1, 'Autistic': 1, 'misunderstandings': 1, 'legalising': 1, 'neurone': 1, 'orthopaedic': 1, 'Hospitals': 1, 'Twist': 1, 'likening': 1, 'Shiner': 1, 'receptionist': 1, 'Carla': 1, 'Ferstman': 1, 'Redress': 1, 'ethically': 1, 'Completed': 1, 'unitary': 1, 'Stockton': 1, 'Tees': 1, 'Trent': 1, 'Campaigning': 1, 'Northamptonshire': 1, 'quagmire': 1, 'Thatcherism': 1, 'dependency': 1, 'antithesis': 1, 'dogmatic': 1, 'overbearing': 1, 'Burstow': 1, 'Promoting': 1, 'Bridgepoint': 1, '433': 1, 'agony': 1, 'aunt': 1, 'Indepen': 1, '001and': 1, 'sightseeing': 1, 'Wadi': 1, 'Rum': 1, 'Sultan': 1, 'lawlessness': 1, 'contravention': 1, 'distinguishing': 1, 'begging': 1, 'Protesters': 1, 'Hanningfield': 1, 'Witney': 1, 'Bromsgrove': 1, 'Worcestershire': 1, 'academies': 1, 'mendaciously': 1, 'damning': 1, 'taps': 1, 'Crimes': 1, 'invoking': 1, 'Humberside': 1, 'Soham': 1, 'Huntley': 1, 'Welling': 1, 'coppers': 1, 'Newby': 1, 'Participation': 1, 'postgraduate': 1, 'Tuition': 1, 'Tackling': 1, 'spies': 1, 'Hunger': 1, 'batches': 1, 'decoded': 1, 'repression': 1, 'Artic': 1, 'Latvia': 1, 'bedsits': 1, 'deteriorating': 1, 'Hepatitis': 1, 'taxing': 1, 'rebuttal': 1, '285m': 1, '1800GMT': 1, 'Sweetman': 1, 'Maastricht': 1, 'Catholicism': 1, 'Oulds': 1, 'abut': 1, 'deprive': 1, 'infringes': 1, 'Website': 1, 'Probe': 1, 'doorstepping': 1, 'derelict': 1, 'Welshpool': 1, 'Unite': 1, 'Fascism': 1, 'Kalan': 1, 'Kawa': 1, 'Karim': 1, 'Kurd': 1, 'births': 1, 'convened': 1, 'Diligence': 1, 'frigate': 1, 'Bayleaf': 1, 'Remembered': 1, '1215': 1, 'receptive': 1, 'perceives': 1, '2230GMT': 1, 'polar': 1, 'Iyad': 1, 'allocation': 1, 'Idols': 1, 'corrupting': 1, 'dues': 1, 'eccentrics': 1, 'publicists': 1, 'chancing': 1, 'druid': 1, 'brothels': 1, 'liners': 1, 'Wheelchair': 1, 'Donnellon': 1, 'Inuit': 1, 'Maitland': 1, 'evict': 1, 'breakpoint': 1, '050505': 1, 'slaps': 1, 'abolition': 1, 'lackadaisical': 1, 'reimbursement': 1, 'Vet': 1, '349m': 1, 'culled': 1, 'preparedness': 1, 'Billingsgate': 1, 'surest': 1, 'crackled': 1, 'MGs': 1, 'camper': 1, 'trundled': 1, 'decked': 1, 'bending': 1, 'psychedelic': 1, 'Scooby': 1, 'Doo': 1, 'Regency': 1, 'dandies': 1, 'wig': 1, 'Sgt': 1, 'approximation': 1, 'chic': 1, 'soberly': 1, 'chit': 1, 'thoughtfully': 1, 'italics': 1, 'cunningly': 1, 'slopes': 1, 'mushy': 1, 'pea': 1, 'unbroken': 1, 'adulthood': 1, 'bled': 1, 'energise': 1, 'undercutting': 1, 'exacerbating': 1, 'neurosis': 1, 'Anglican': 1, 'dusk': 1, 'rejoining': 1, 'Dafur': 1, 'expertly': 1, 'Taxes': 1, 'realities': 1, '75s': 1, 'reintroducing': 1, 'dental': 1, 'hydration': 1, 'quicksand': 1, 'tad': 1, 'Sittingbourne': 1, 'Escaped': 1, 'Ministerial': 1, 'clarification': 1, 'reassured': 1, 'apportion': 1, 'reassurances': 1, 'minimised': 1, 'Coatbridge': 1, 'fianc': 1, 'Annabella': 1, '5ft': 1, '9ins': 1, 'blond': 1, 'complexion': 1, 'jeans': 1, 'sightings': 1, 'snowball': 1, 'rationally': 1, 'wonks': 1, 'heinous': 1, 'mouths': 1, 'induce': 1, '283': 1, 'selfishly': 1, 'ensues': 1, 'perverse': 1, 'Solomon': 1, 'allocating': 1, 'Auditors': 1, '808m': 1, '644m': 1, 'administering': 1, 'weed': 1, 'Jorg': 1, 'Wojahn': 1, 'consigning': 1, 'misfeasance': 1, 'kidnapping': 1, 'mattress': 1, 'Abroad': 1, 'Jakobi': 1, 'Sitting': 1, 'demonstrators': 1, 'Mackey': 1, 'shields': 1, 'Addaction': 1, 'tolerable': 1, 'unravelling': 1, 'civility': 1, 'decapitation': 1, 'laments': 1, 'Irene': 1, 'dripped': 1, 'monger': 1, 'endorsement': 1, 'Soweto': 1, 'Hornsey': 1, 'allaying': 1, 'repeal': 1, 'Brick': 1, 'shamelessly': 1, 'borough': 1, 'Dunstan': 1, 'Stepney': 1, 'improbability': 1, 'Nobutaka': 1, 'Machimura': 1, 'Gillon': 1, 'Lung': 1, 'Terrence': 1, 'hive': 1, '1801': 1, 'transcript': 1, 'maid': 1, 'Amelia': 1, 'Laugher': 1, 'protestation': 1, '1642': 1, 'Protestants': 1, 'Protestant': 1, 'collectors': 1, 'trawling': 1, 'vistas': 1, '1689': 1, 'Bonar': 1, '1606': 1, 'thanksgiving': 1, 'Gunpowder': 1, 'vellum': 1, 'parchment': 1, 'insensitivity': 1, 'hated': 1, 'brazenly': 1, 'Rabbi': 1, 'Hier': 1, 'Wiesenthal': 1, 'Ralph': 1, 'Haverstock': 1, 'Comprehensive': 1, 'MSc': 1, 'unfettered': 1, 'discretion': 1, 'nurtured': 1, 'distrusted': 1, 'Hykeham': 1, 'aspic': 1, 'communicated': 1, 'Hutus': 1, 'militias': 1, 'taboo': 1, 'retrovirals': 1, 'Kayitesi': 1, 'Blewitt': 1, 'Survivors': 1, 'SURF': 1, 'channelled': 1, 'schoolgirls': 1, 'clenched': 1, 'missionaries': 1, 'heartfelt': 1, 'disaffection': 1, 'Lorna': 1, 'Fitzsimons': 1, 'beneficiaries': 1, 'handouts': 1, 'precision': 1, 'doorsteps': 1, 'demeanour': 1, 'Prudence': 1, 'pore': 1, 'Custody': 1, 'Deaths': 1, 'glaringly': 1, 'hanged': 1, 'Offender': 1, 'robberies': 1, 'exhibiting': 1, 'suicidal': 1, 'Northumbria': 1, 'pedestrian': 1, 'Warcup': 1, 'liaised': 1, 'tradesman': 1, 'Amitai': 1, 'Axis': 1, 'communitarian': 1, 'emption': 1, 'gravest': 1, 'Osama': 1, 'Laden': 1, 'jay': 1, 'walkers': 1, 'counties': 1, '1337': 1, 'duchy': 1, 'reclassified': 1, 'Heathcoat': 1, 'Amory': 1, 'folly': 1, 'centralises': 1, 'entrenches': 1, 'Populus': 1, 'atLabour': 1, '1906': 1, 'shadowy': 1, 'yield': 1, 'cottages': 1, 'Llyn': 1, 'Peninsula': 1, 'Pembrokeshire': 1, 'Aubrey': 1, 'unsolved': 1, 'provocateur': 1, 'nationalists': 1, 'Dafydd': 1, 'unaccountable': 1, 'mushroomed': 1, 'Efficiency': 1, 'objecting': 1, 'policeman': 1, 'nightspot': 1, 'eightieth': 1, 'riles': 1, 'firefighters': 1, 'reproductive': 1, 'developmental': 1, 'genetics': 1, 'Badge': 1, 'Candidacy': 1, 'Bernadette': 1, 'Devlin': 1, 'Turnour': 1, '1904': 1, 'Horsham': 1, 'occupiers': 1, 'Correspondent': 1, 'mandarins': 1, 'unflattering': 1, 'mammal': 1, 'spiteful': 1, 'stresses': 1, 'ideologically': 1, 'theirfamilies': 1, 'radicallyimproved': 1, 'generators': 1, 'Koh': 1, 'Eileen': 1, 'Inevitably': 1, 'recess': 1, 'whips': 1, 'affiliated': 1, 'Drayson': 1, 'PowderJect': 1, 'smallpox': 1, 'totals': 1, 'Hambro': 1, 'Magan': 1, '417': 1, 'treasurer': 1, '081': 1, 'multilaterally': 1, 'adulation': 1, 'amenity': 1, 'Cottenham': 1, 'Cambridgeshire': 1, 'Minety': 1, 'congratulates': 1, 'anew': 1, 'warmest': 1, 'Auditor': 1, 'innumeracy': 1, 'intervals': 1, 'equivalents': 1, 'Greens': 1, 'unaccounted': 1, 'princes': 1, 'impromptu': 1, 'Charing': 1, 'Holliday': 1, 'huntsman': 1, 'Herefordshire': 1, 'Thame': 1, 'polo': 1, 'Highgrove': 1, 'auctioneer': 1, 'Bromesberrow': 1, 'Wakeham': 1, 'chef': 1, 'doorkeeper': 1, 'handcuffed': 1, 'Margherita': 1, 'endorsing': 1, 'marginals': 1, 'Dumfriesshire': 1, 'Ochil': 1, 'Stirling': 1, 'Renfrewshire': 1, 'Guardsman': 1, 'Hendry': 1, 'steely': 1, 'undoing': 1, 'dated': 1, 'consensual': 1, 'Echoing': 1, 'affirmative': 1, 'Dubious': 1, '2022': 1, 'Cuthbert': 1, 'Directorate': 1, 'cornered': 1, 'Tatton': 1, 'Irreversible': 1, 'Regulations': 1, 'lax': 1, 'Financing': 1, 'twentieth': 1, 'Ainsworth': 1, 'disjointed': 1, 'Points': 1, 'spatial': 1, 'densities': 1, 'wades': 1, 'NE': 1, 'Tomaney': 1, 'exerts': 1, '487': 1, '939': 1, 'Fisheries': 1, 'conserve': 1, 'harvesting': 1, 'fisheries': 1, 'flap': 1, 'wedge': 1, 'Ashford': 1, 'Heap': 1, 'hunstman': 1, 'Moritz': 1, 'Melton': 1, 'Mowbray': 1, 'outnumbered': 1, 'unpick': 1, 'McWhirter': 1, 'transcription': 1, 'paternity': 1, 'deductible': 1, 'brigands': 1, 'bribers': 1, 'consequently': 1, 'glibly': 1, 'Vouchers': 1, 'Brookings': 1, 'pharmacies': 1, 'Bechtel': 1, 'Halliburton': 1, 'Baathist': 1, 'exceptions': 1, '910m': 1, 'refrain': 1, 'secretarial': 1, 'leased': 1, 'Thomsen': 1, 'impedes': 1, 'objectivity': 1, 'Nonethless': 1, 'hostilities': 1, 'plastics': 1, 'monsoon': 1, 'Underlying': 1, '933m': 1, '78bn': 1, 'Snapple': 1, 'Stitzer': 1, 'Drinks': 1, 'carbonated': 1, '0950': 1, '3218': 1, '9094': 1, 'steadied': 1, '85bn': 1, '364m': 1, 'Hannes': 1, 'Wittig': 1, 'Accura': 1, 'trans': 1, '413': 1, 'disconcerted': 1, 'Reade': 1, 'escapes': 1, 'patchier': 1, 'Sheard': 1, 'Improvements': 1, 'Shedding': 1, 'cowboy': 1, 'cloak': 1, 'dagger': 1, 'Kraus': 1, 'Sovlink': 1, 'renationalising': 1, 'combats': 1, 'implant': 1, 'pacemakers': 1, 'antitrust': 1, 'overlapping': 1, 'stent': 1, 'Stents': 1, 'tubes': 1, 'artery': 1, 'unblocked': 1, 'smoker': 1, 'Sebok': 1, 'Brooklyn': 1, 'Racketeer': 1, 'Influenced': 1, 'Plaza': 1, 'Ohlemeyer': 1, 'ballooned': 1, 'Wyss': 1, 'Crescenzi': 1, 'Tabak': 1, 'expansions': 1, 'Escondida': 1, 'Codelco': 1, '2018': 1, 'bode': 1, 'Capitol': 1, 'lion': 1, 'rearranging': 1, 'harmless': 1, 'fixate': 1, 'Moderate': 1, 'dispassionate': 1, 'onshore': 1, 'Exploration': 1, 'Finian': 1, '583p': 1, '533p': 1, 'Ruerup': 1, 'hovers': 1, 'Arpey': 1, '761m': 1, 'Lifting': 1, 'Vadim': 1, 'Mitroshin': 1, 'UNAIDS': 1, 'Providing': 1, 'triggers': 1, 'industrialized': 1, 'beleaguered': 1, 'Orin': 1, 'Middleton': 1, 'Berta': 1, 'flies': 1, '380m': 1, 'mutates': 1, 'weakest': 1, '402': 1, 'Indy': 1, 'Dainik': 1, 'Chongqing': 1, 'Lifan': 1, 'motorbikes': 1, 'recognized': 1, 'plugs': 1, 'Paws': 1, 'Incorporated': 1, '140bn': 1, '258bn': 1, 'Dominique': 1, 'reschedule': 1, 'viticulture': 1, 'Lemetayer': 1, 'FNSEA': 1, 'vines': 1, 'growers': 1, 'Burgundy': 1, 'underserved': 1, 'maharajas': 1, 'Praful': 1, 'Patel': 1, '425m': 1, '779m': 1, 'menswear': 1, '420m': 1, 'undervaluation': 1, 'Nickel': 1, 'Darleen': 1, 'refuelling': 1, 'tankers': 1, 'opts': 1, 'Slumping': 1, 'float': 1, 'Waggoner': 1, 'Attaining': 1, 'Visakhapatnam': 1, 'unfashionable': 1, 'delegations': 1, 'signifies': 1, 'occurs': 1, 'Misusing': 1, 'firming': 1, 'Goodwin': 1, 'Gent': 1, 'Yamanaka': 1, 'preyed': 1, 'kerosene': 1, 'Mulyani': 1, 'Indrawati': 1, 'Jasperneite': 1, 'MM': 1, 'Warburg': 1, 'renaissance': 1, 'SPD': 1, 'Schleswig': 1, 'Holstein': 1, 'Rhine': 1, 'Westphalia': 1, 'Battered': 1, '3516': 1, '3509': 1, 'coordinated': 1, 'Statements': 1, 'upturns': 1, 'Chung': 1, 'Mong': 1, 'koo': 1, 'consultative': 1, 'broadsheet': 1, 'Hollinger': 1, 'mulling': 1, 'Littlewoods': 1, 'Consob': 1, 'abeyance': 1, 'buckling': 1, 'Arlington': 1, 'Contract': 1, 'permissive': 1, 'Executives': 1, '417m': 1, 'Mengniu': 1, 'Huiqin': 1, 'Huatai': 1, 'rains': 1, 'fertilizers': 1, 'wells': 1, 'Josserand': 1, 'prioritised': 1, 'shaming': 1, 'faming': 1, 'Rhetoric': 1, 'politeness': 1, 'unchartered': 1, 'Weather': 1, 'sorrows': 1, 'Shinnama': 1, 'Draft': 1, 'Suntory': 1, 'happoshu': 1, 'shochu': 1, 'distilled': 1, 'barley': 1, 'Happoshu': 1, 'Kirin': 1, 'modernised': 1, 'tapers': 1, 'Beetle': 1, 'Wernle': 1, '556': 1, 'depreciates': 1, 'C180': 1, '116i': 1, 'Range': 1, 'Hegedus': 1, 'Lopes': 1, 'Filho': 1, 'Janeir': 1, 'Belo': 1, 'Horizonte': 1, 'Recife': 1, 'Molsiris': 1, 'Cheap': 1, 'depressants': 1, 'Paxil': 1, 'Wellbutrin': 1, '1218': 1, 'allergies': 1, 'Stormy': 1, '105bn': 1, 'Tyco': 1, 'Kozlowski': 1, 'looting': 1, 'Trail': 1, 'swindle': 1, 'hustlers': 1, 'Illarionov': 1, 'privatized': 1, 'nationalise': 1, 'webs': 1, 'admonished': 1, 'Armando': 1, 'clotting': 1, 'Transportation': 1, 'disarray': 1, 'mountains': 1, 'luggage': 1, 'sickout': 1, 'understaffed': 1, 'congressionally': 1, 'Beijingers': 1, 'fume': 1, 'clogged': 1, 'circling': 1, 'jacking': 1, 'motorcades': 1, 'outriders': 1, 'Unclogging': 1, 'impassable': 1, 'decelerate': 1, '790m': 1, 'Geijsen': 1, 'Oyens': 1, 'Eeghen': 1, 'retrenchment': 1, 'reiterating': 1, 'Naude': 1, 'Rubicam': 1, 'Brewers': 1, '537m': 1, '701m': 1, '371m': 1, '26bn': 1, 'Amstel': 1, 'latifundios': 1, 'Hato': 1, 'hectares': 1, 'Ortiz': 1, 'trample': 1, 'Miner': 1, 'regretted': 1, 'Yuri': 1, 'wrested': 1, 'Breach': 1, 'Foreigners': 1, 'banging': 1, 'Abdullatif': 1, 'uneducated': 1, 'plentiful': 1, 'oriental': 1, 'richness': 1, 'xenophobic': 1, 'Deppler': 1, '201bn': 1, '214': 1, 'spurs': 1, 'bourses': 1, 'Dress': 1, '284m': 1, 'Catwoman': 1, 'Bertelsmann': 1, 'sheikhdom': 1, 'Activision': 1, '95bn': 1, '57bn': 1, 'Memorandum': 1, '540bn': 1, '77bn': 1, 'DaimlerChrylser': 1, 'Nishioka': 1, 'whistleblower': 1, '479m': 1, '540m': 1, 'sped': 1, 'bluntly': 1, 'butane': 1, 'canister': 1, 'fanning': 1, 'Bouira': 1, 'Algiers': 1, 'Tiaret': 1, 'Sidi': 1, 'Ammar': 1, 'dips': 1, 'quickening': 1, 'Trendy': 1, 'Bebe': 1, 'Eagle': 1, 'Outfitters': 1, 'Perkins': 1, 'RetailMetrics': 1, 'Pier': 1, 'dearth': 1, 'desertion': 1, 'Neilsen': 1, 'Ratings': 1, 'Romeos': 1, 'Montezemolo': 1, 'Sportwagon': 1, 'GTV': 1, 'GT': 1, 'exchangeable': 1, 'prefering': 1, 'Alwi': 1, 'swallows': 1, 'Hoegaarden': 1, 'Staropramen': 1, 'Leuven': 1, 'Chernigov': 1, 'Nikolaev': 1, 'Kharkov': 1, 'canned': 1, 'Cara': 1, 'Resolution': 1, 'Vivaldi': 1, 'Depending': 1, 'entitle': 1, 'Permanent': 1, 'Bearing': 1, 'PIBS': 1, 'pronged': 1, 'IFRS': 1, 'Hacking': 1, 'hedged': 1, 'mull': 1, '004': 1, 'Ghriskey': 1, 'Clearview': 1, 'Successive': 1, '422bn': 1, 'Metrovias': 1, 'exited': 1, 'rationale': 1, 'underpinning': 1, 'footballers': 1, 'screwed': 1, 'collapsing': 1, 'PWC': 1, 'overvalued': 1, '879': 1, 'Manger': 1, 'Magazin': 1, 'mismanagement': 1, 'Thilo': 1, 'Halser': 1, 'deferring': 1, 'suspending': 1, 'transports': 1, 'Pranab': 1, '240': 1, 'Mukerjee': 1, 'collaborations': 1, 'conformity': 1, 'Aeronautics': 1, 'maritime': 1, 'HCL': 1, 'Dinesh': 1, 'Keskar': 1, 'shouldered': 1, 'licensee': 1, '247p': 1, '1115': 1, 'Kenney': 1, 'Currency': 1, 'Mazanec': 1, 'workforces': 1, '911': 1, 'Gaydon': 1, 'Chambre': 1, 'Crespel': 1, 'Armentieres': 1, 'crane': 1, 'cranes': 1, 'sunken': 1, 'submarine': 1, 'Boscholt': 1, 'Stueker': 1, 'Schneider': 1, 'petcare': 1, 'Brabeck': 1, 'Letmathe': 1, 'Godfrey': 1, 'diplomacy': 1, 'forthright': 1, 'destabilising': 1, 'accumulation': 1, 'Apurva': 1, 'Shah': 1, 'ASK': 1, 'Vivek': 1, 'Azim': 1, 'Premji': 1, 'Bargain': 1, 'remedies': 1, 'recourses': 1, 'Yuganksneftegas': 1, 'Clio': 1, 'Logan': 1, 'ITPC': 1, 'Amman': 1, '20C': 1, 'knotty': 1, 'Pointedly': 1, 'Barosso': 1, 'empted': 1, 'Shimon': 1, 'stockmarket': 1, 'quotation': 1, 'Apcom': 1, 'Irishmen': 1, 'Malcom': 1, '193': 1, 'Continuing': 1, 'Rijk': 1, '719m': 1, 'tooth': 1, 'Longden': 1, 'Brusca': 1, 'Fact': 1, 'Nihon': 1, 'Keizai': 1, 'Shimbun': 1, 'Heronry': 1, 'Nozaki': 1, 'NikkoCitigroup': 1, 'Atinc': 1, 'Ozkan': 1, 'Finans': 1, 'MTN': 1, 'posture': 1, 'inward': 1, 'Henric': 1, 'seasonality': 1, 'reverberations': 1, 'militancy': 1, 'pardon': 1, 'legitimise': 1, 'Documentation': 1, 'warped': 1, 'Survey': 1, 'completions': 1, '041': 1, '436': 1, 'Flights': 1, 'Rhein': 1, 'lawn': 1, 'cookers': 1, 'ovens': 1, 'Spennymoor': 1, 'AEG': 1, 'Zanussi': 1, 'Frigidaire': 1, 'Ulf': 1, 'Carlsson': 1, 'Average': 1, 'claimant': 1, '813': 1, 'inactive': 1, 'Ostwald': 1, 'Monument': 1, 'Seasonally': 1, 'showrooms': 1, 'Maury': 1, 'labor': 1, 'trending': 1, 'domicile': 1, 'Manmohan': 1, 'Kobita': 1, 'Sanjay': 1, 'Bharti': 1, 'Televentures': 1, 'Essar': 1, 'Hutchison': 1, 'Whampoa': 1, 'retirees': 1, 'Overseas': 1, 'OPIC': 1, 'Eximbank': 1, 'Mobil': 1, 'Bosphorus': 1, 'Dardanelles': 1, 'Straits': 1, 'Royces': 1, 'assembling': 1, 'Tunnel': 1, 'Eurostar': 1, 'lounge': 1, 'Nobel': 1, 'laureate': 1, 'Sharpe': 1, 'reseach': 1, 'Bhs': 1, 'rebidding': 1, 'financier': 1, 'spike': 1, 'Opening': 1, 'deliverable': 1, 'takeovers': 1, 'Pitched': 1, 'Prebon': 1, 'Yamane': 1, 'Komileva': 1, 'policymakers': 1, '717m': 1, '379m': 1, 'hinged': 1, 'asses': 1, 'ABD': 1, 'Thadao': 1, 'Chino': 1, 'normalcy': 1, '690m': 1, 'Welle': 1, 'SME': 1, 'policyholder': 1, 'endowment': 1, '998': 1, 'Deadline': 1, 'deadlocked': 1, '06bn': 1, 'extricate': 1, 'voided': 1, 'Juchemich': 1, 'RHB': 1, 'scouting': 1, 'Malays': 1, 'manly': 1, 'salesmen': 1, 'STMC': 1, '210bn': 1, 'raps': 1, 'MacIntosh': 1, 'Eaton': 1, 'Vance': 1, 'Mild': 1, '162bn': 1, 'spurring': 1, 'astronomical': 1, 'Ripert': 1, 'IXIS': 1, 'triggering': 1, 'subscriber': 1, 'Breton': 1, 'directory': 1, 'PagesJaunes': 1, 'hogged': 1, '44bn': 1, 'decisiveness': 1, '925p': 1, 'sportscar': 1, 'Mediobanca': 1, '775m': 1, 'Yamarone': 1, 'Argus': 1, '8832': 1, 'apprised': 1, 'FOMC': 1, 'Daw': 1, 'Banker': 1, 'Stephanie': 1, 'unequal': 1, 'meritocracy': 1, 'Fourtou': 1, 'Messier': 1, 'Eon': 1, 'Generic': 1, 'chemically': 1, 'drugmakers': 1, 'Kuhlhoff': 1, '492m': 1, '370': 1, 'Mijatov': 1, 'Attendants': 1, 'Fujian': 1, 'stoppages': 1, 'crackdowns': 1, 'Parallel': 1, 'Rivers': 1, 'Mekong': 1, 'Salween': 1, 'averages': 1, 'Morrisons': 1, 'Hambantota': 1, 'clergy': 1, 'Mahinda': 1, 'Rajapakse': 1, 'negotiator': 1, 'Solheim': 1, 'colorectal': 1, 'getter': 1, 'prayers': 1, 'abbreviated': 1, 'hose': 1, 'LPG': 1, 'Dingolfing': 1, 'Sindelfingen': 1, 'Claridge': 1, 'Connaught': 1, 'cowed': 1, '166bn': 1, 'Carsten': 1, 'Fritsch': 1, 'Commerzbank': 1, 'accessory': 1, 'grocery': 1, 'Parul': 1, 'Benmosche': 1, 'brokerages': 1, 'Citibank': 1, 'Quint': 1, 'Gartmore': 1, 'obstruct': 1, 'Avery': 1, 'Shenfeld': 1, 'CIBC': 1, 'geopolitics': 1, 'Beale': 1, 'Matshushita': 1, 'robustness': 1, 'Trollhaettan': 1, 'Ruesselsheim': 1, 'majors': 1, '151m': 1, 'Opels': 1, 'badged': 1, 'Vauxhalls': 1, 'mediate': 1, 'Sticking': 1, 'counterfeiting': 1, 'tabling': 1, 'fiduciary': 1, 'Capellas': 1, 'Newest': 1, 'Malta': 1, 'fragility': 1, '38m': 1, 'disclosing': 1, 'unwinding': 1, 'Maidenhead': 1, 'Berkshire': 1, 'Eduardo': 1, 'Contreras': 1, 'Baltasar': 1, 'Garzon': 1, 'layoffs': 1, 'placement': 1, 'multifocal': 1, 'leukoencephalopathy': 1, 'evaluations': 1, 'initiation': 1, 'dosing': 1, 'Yamanouchi': 1, 'Slowdown': 1, 'disparate': 1, '088': 1, 'evalution': 1, 'grinds': 1, 'Output': 1, 'Hiromichi': 1, 'Shirakawa': 1, 'amber': 1, 'futurology': 1, 'Alto': 1, 'impoverish': 1, '242m': 1, 'Fukui': 1, 'bi': 1, 'turbulence': 1, 'Cotis': 1, 'Supported': 1, 'discretionary': 1, 'Presidency': 1, 'needy': 1, 'Medicaid': 1, '587m': 1, 'Bovespa': 1, 'buoyancy': 1, 'Paschoal': 1, 'Tadeu': 1, 'Buonomo': 1, 'TOV': 1, 'pillars': 1, 'Palocci': 1, 'Brasilia': 1, 'Founder': 1, 'intercity': 1, 'SIM': 1, 'airtime': 1, 'Milverton': 1, 'islands': 1, 'epidemics': 1, 'polluted': 1, 'reinsurer': 1, 'Crescent': 1, 'waterborne': 1, 'diarrhoea': 1, 'grandchild': 1, 'Gifts': 1, 'Ladybird': 1, 'Saffron': 1, 'FirstSaver': 1, 'payable': 1, 'R85': 1, 'riches': 1, 'multiples': 1, 'invests': 1, 'comprise': 1, 'Traded': 1, 'Currencies': 1, 'Goetti': 1, 'Floiran': 1, 'Woest': 1, '847': 1, 'analsyts': 1, 'cheered': 1, 'AirAsia': 1, 'Resort': 1, 'Tanco': 1, 'deplored': 1, 'Hertrich': 1, '686m': 1, 'LCI': 1, '747': 1, 'invoice': 1, 'genetically': 1, 'waiving': 1, 'Wray': 1, 'operative': 1, 'investigative': 1, 'expatriates': 1, 'Remittances': 1, '1875': 1, 'Aggressive': 1, 'buybacks': 1, 'operationally': 1, '548p': 1, 'progressively': 1, 'warranted': 1, 'pans': 1, 'whiff': 1, 'sweetener': 1, 'Anais': 1, 'Chada': 1, 'irrational': 1, 'Sorting': 1, 'reside': 1, 'competences': 1, 'align': 1, 'Ecofin': 1, '345m': 1, '569m': 1, '838m': 1, 'stiffening': 1, 'unprofitability': 1, '865': 1, 'Suhas': 1, 'Naik': 1, 'calmed': 1, 'Chakib': 1, 'Khelil': 1, 'deplete': 1, 'Person': 1, '2871': 1, '2974': 1, 'loosening': 1, '266m': 1, '38bn': 1, '69bn': 1, '495m': 1, '275m': 1, 'Barot': 1, '330m': 1, '069': 1, 'Winemaker': 1, 'Lager': 1, '584m': 1, 'leasing': 1, 'Ehud': 1, 'Olmert': 1, 'Ruhi': 1, 'Dogusoy': 1, 'evade': 1, 'patriarch': 1, 'soured': 1, 'recapitalised': 1, 'tempts': 1, 'Shenzhen': 1, 'Perchesk': 1, 'permitting': 1, 'intervening': 1, 'Jeroen': 1, 'Veer': 1, 'Exane': 1, 'ISAE': 1, 'Jubilant': 1, 'Yaseen': 1, 'MMA': 1, 'countrywide': 1, 'Asif': 1, 'Zardari': 1, 'Benazir': 1, 'Bhutto': 1, 'abuzz': 1, 'defusing': 1, '480m': 1, 'redemptions': 1, 'Sejong': 1, 'colludes': 1, 'picker': 1, 'extort': 1, 'marshals': 1, 'crusader': 1, 'foreknowledge': 1, 'outbid': 1, 'Tver': 1, 'Kaha': 1, 'Kiknavelidze': 1, 'Collison': 1, 'Rainsford': 1, 'retaliate': 1, 'injunctions': 1, 'impound': 1, 'refinancing': 1, 'PFI': 1, 'Jubilee': 1, 'Piccadilly': 1, 'Amey': 1, 'ELAA': 1, 'IATA': 1, 'Overbooking': 1, 'preposterous': 1, 'Cawley': 1, 'Regions': 1, 'Marja': 1, 'Quillinan': 1, 'Meiland': 1, 'Kearney': 1, 'slips': 1, '510': 1, 'Atkins': 1, 'Depository': 1, 'Receipts': 1, 'Banca': 1, 'Nazionale': 1, 'Lavoro': 1, 'Paschi': 1, 'Siena': 1, 'JSE': 1, 'fallers': 1, 'defrayed': 1, 'Ailing': 1, 'Arabian': 1, 'Walid': 1, 'Macfarlane': 1, 'Salary': 1, 'CFA': 1, 'existent': 1, 'unearned': 1, 'Destatis': 1, 'Calisto': 1, 'indictments': 1, 'Fausto': 1, 'Tonna': 1, 'Pervan': 1, 'Gonsalves': 1, 'presuming': 1, 'MIM': 1, 'coking': 1, 'thermal': 1, 'ferrochrome': 1, 'vanadium': 1, 'valuations': 1, 'tamed': 1, 'embarks': 1, 'slimmed': 1, 'slogans': 1, 'Prosecuting': 1, 'Lam': 1, 'tolerates': 1, 'twenties': 1, 'tuberculosis': 1, 'Torao': 1, 'eaten': 1, 'Yuji': 1, 'genes': 1, 'Shigeo': 1, 'Morioka': 1, 'Longevity': 1, 'Statue': 1, 'procreative': 1, '2030': 1, 'unfold': 1, 'chuckles': 1, 'classify': 1, 'Bluewater': 1, 'Enoch': 1, 'Walton': 1, 'mobbed': 1, 'footfall': 1, 'Avalanche': 1, 'Kodiak': 1, 'Silverade': 1, 'Suburban': 1, 'Savana': 1, 'Yukon': 1, '924': 1, 'XLR': 1, 'coupes': 1, 'SRX': 1, 'accelerator': 1, 'philosopher': 1, 'towering': 1, 'ponder': 1, 'emanation': 1, 'societal': 1, 'measurably': 1, 'intellectuals': 1, 'Enlightenment': 1, 'toiling': 1, 'environs': 1, 'knighthood': 1, 'Balmoral': 1, 'fellowship': 1, 'atrium': 1, 'Presidents': 1, 'Saparmurat': 1, 'Naftohaz': 1, 'Yury': 1, 'Boyko': 1, 'thay': 1, 'individuality': 1, '141m': 1, 'Turnover': 1, 'Brul': 1, 'controllable': 1, 'A321': 1, 'Goyal': 1, 'Eircom': 1, 'McAlinden': 1, 'NCB': 1, 'economical': 1, '7E7s': 1, 'coagulant': 1, 'pill': 1, 'Exanta': 1, 'spinners': 1, 'placebo': 1, '692': 1, 'Genentech': 1, 'AztraZeneca': 1, 'McKillop': 1, 'Khordokovsky': 1, '4850': 1, 'gallon': 1, 'Instability': 1, 'Adamu': 1, '591': 1, 'seedlings': 1, 'Ibadan': 1, 'nurseries': 1, 'beans': 1, 'Fibre': 1, 'Rockwell': 1, 'Riches': 1, '980m': 1, 'Harwood': 1, 'Greenpeace': 1, 'lexicon': 1, 'homilies': 1, 'generalities': 1, 'butterflies': 1, 'SLBA': 1, 'AL': 1, 'Gooneratne': 1, 'DLF': 1, 'Builders': 1, 'Vancheshwar': 1, 'Promotion': 1, 'townships': 1, 'construct': 1, 'meters': 1, '538': 1, 'specifying': 1, 'speculatively': 1, 'Anshuman': 1, 'CB': 1, 'Chittabrata': 1, 'CITU': 1, 'Der': 1, 'Spiegel': 1, 'underpriced': 1, '138p': 1, 'Markfield': 1, '142': 1, 'quarries': 1, 'asphalt': 1, 'Escorts': 1, 'stronghold': 1, 'Normanton': 1, 'hardliners': 1, 'Expediency': 1, '546': 1, 'rials': 1, '070': 1, 'perilously': 1, 'Communists': 1, 'Klein': 1, 'Massachussetts': 1, 'Shultz': 1, 'Dmitry': 1, 'Aton': 1, 'accusers': 1, 'legends': 1, 'averts': 1, 'Taurel': 1, 'Arnoldo': 1, 'Administrators': 1, 'squatters': 1, 'Babacan': 1, 'improperly': 1, 'consolidated': 1, 'Kelley': 1, 'Nettle': 1, 'Bailin': 1, 'Rymer': 1, 'Bowman': 1, 'Hannigan': 1, 'Maritime': 1, 'Processors': 1, 'Redgate': 1, 'Tyson': 1, 'Jibouri': 1, 'Assad': 1, 'Mihkail': 1, 'underlining': 1, '748': 1, '2019': 1, 'Ovum': 1, 'Panayis': 1, 'Freedom2surf': 1, 'IPStream': 1, '308m': 1, '797p': 1, 'Vue': 1, 'Barr': 1, 'Nanik': 1, 'Rupani': 1, 'Merchants': 1, 'Dirk': 1, 'nominally': 1, 'Australasia': 1, 'le': 1, '684bn': 1, 'appoints': 1, 'Tetsuro': 1, 'Tsusaka': 1, 'unfamiliar': 1, '234m': 1, 'Glocer': 1, 'funereal': 1, 'Aggarwal': 1, '357': 1, '191m': 1, '431m': 1, 'Gregg': 1, '720': 1, '563': 1, 'Siberian': 1, 'clawing': 1, 'buffets': 1, 'Obligatory': 1, 'protracted': 1, 'chides': 1, 'bide': 1, 'Vermont': 1, 'Tracy': 1, 'Schmaler': 1, 'envisages': 1, 'ham': 1, 'Champagne': 1, 'cheeses': 1, 'brie': 1, 'Shepherds': 1, 'Purse': 1, 'Cheeses': 1, 'wool': 1, '347m': 1, '801m': 1, '1405': 1, 'busting': 1, '445': 1, '227bn': 1, 'blocs': 1, 'underwrite': 1, 'questionsmarks': 1, 'pricked': 1, 'ineffectiveness': 1, 'Bextra': 1, 'therapies': 1, 'Froggatt': 1, 'Ale': 1, 'Strongbow': 1, 'Kronenbourg': 1, 'bottles': 1, 'surgical': 1, 'gloves': 1, 'antiseptics': 1, '173m': 1, 'Syndol': 1, 'analgesic': 1, 'Meltus': 1, 'cough': 1, 'Sauber': 1, 'hosiery': 1, 'deodorant': 1, 'Mister': 1, 'Smirnoff': 1, 'winemaking': 1, 'Wines': 1, 'SimpliFares': 1, 'Standoff': 1, 'Slager': 1, 'Breuer': 1, 'Booming': 1, 'Confifi': 1, 'Adhi': 1, 'Karya': 1, 'Semen': 1, 'Gresik': 1, 'bankruptcies': 1, 'unforeseeable': 1, 'unguessable': 1, 'contagion': 1, 'Congressionally': 1, 'claimants': 1, 'Lloyds': 1, '640m': 1, 'incalculable': 1, 'nameless': 1, 'K2': 1, 'skis': 1, 'reconvened': 1, 'Amusategui': 1, 'governors': 1, 'Mafia': 1, 'infiltration': 1, 'Argentines': 1, 'Scathes': 1, 'implies': 1, 'Understandably': 1, 'loath': 1, 'hopeless': 1, 'Boorman': 1, 'beneath': 1, 'mattresses': 1, 'unfrozen': 1, 'vowing': 1, 'unfreeze': 1, 'A380s': 1, 'airliners': 1, 'Tacit': 1, '3040': 1, '975': 1, '0730': 1, 'disgorge': 1, 'Sentelle': 1, 'preclude': 1, 'disgorgement': 1, 'Corr': 1, 'demerged': 1, 'distributes': 1, '392': 1, 'Grosvenor': 1, 'Mecca': 1, 'Bingo': 1, 'Hybrids': 1, 'burnish': 1, 'Highlander': 1, 'hybridise': 1, 'Cayenne': 1, 'softening': 1, 'Gunner': 1, 'Mansoor': 1, 'Mohi': 1, 'Uddin': 1, 'stabilises': 1, 'hydroelectric': 1, '365m': 1, 'overheat': 1, 'Split': 1, 'Splits': 1, 'trusts': 1, '780': 1, 'Zack': 1, 'Yuganskneftgas': 1, 'irreparable': 1, 'Allowing': 1, 'onstart': 1, 'KarstadtQuelle': 1, 'Californians': 1, '0710': 1, 'Shum': 1, 'Purvin': 1, 'Gertz': 1, 'tacitly': 1, 'overstating': 1, 'congruent': 1, 'Comerica': 1, 'Littman': 1, 'whittle': 1, 'utilisation': 1, 'Cary': 1, 'lean': 1, 'Wieting': 1, 'doctoring': 1, '953': 1, 'GlobeScan': 1, 'Attitudes': 1, 'untrammelled': 1, 'Willey': 1, 'cashflow': 1, 'Landes': 1, 'Lukoil': 1, 'Surgutneftegaz': 1, 'outperformance': 1, 'protectionism': 1, 'Sub': 1, 'Seung': 1, 'inching': 1, '443m': 1, 'Hiten': 1, '271': 1, 'overstated': 1, 'vouch': 1, 'clinics': 1, 'Hessen': 1, 'Alois': 1, 'Rhiel': 1, '320m': 1, 'destitute': 1, 'confiscatory': 1, 'Cactus': 1, '309m': 1, 'bushmen': 1, 'Kalahari': 1, 'calorific': 1, 'Erling': 1, 'Refsum': 1, 'annoucement': 1, 'hypertension': 1, 'Norvasc': 1, '705m': 1, 'nineteenth': 1, 'sputter': 1, 'brunt': 1, 'cherished': 1, 'hirings': 1, 'defies': 1, 'shutdown': 1, 'repurchase': 1, 'Ivankoe': 1, 'Glenmorangie': 1, 'Chivas': 1, 'Regal': 1, 'Scotch': 1, 'Jacob': 1, 'Courvoisier': 1, 'brandy': 1, 'Stolichnaya': 1, 'Ballantine': 1, 'Dunkin': 1, 'Donuts': 1, 'Baskin': 1, '277m': 1, 'Tambone': 1, 'Hussey': 1, 'Gustafson': 1, 'Palombo': 1, 'Rabb': 1, '142bn': 1, 'Schrempp': 1, '475m': 1, 'DaimerChrysler': 1, 'malls': 1, 'Woods': 1, 'Beaverton': 1, 'furnishing': 1, 'Navarednam': 1, '118m': 1, '200p': 1, 'buoying': 1, 'Bhanu': 1, 'Baweja': 1, 'Inheriting': 1, 'Nagano': 1, 'rebuilt': 1, 'scolded': 1, 'soy': 1, 'sauce': 1, 'futon': 1, 'steepest': 1, 'Apec': 1, '500bn': 1, 'unaltered': 1, '800bn': 1, 'takers': 1, '846m': 1, 'Lensworth': 1, 'scratching': 1, 'BRL': 1, 'Perpetual': 1, 'Trustees': 1, 'hitch': 1, 'expectancies': 1, 'rumour': 1, '873p': 1, 'Bracknell': 1, '109': 1, 'Tibbett': 1, 'Britten': 1, 'Burberry': 1, 'Mothercare': 1, 'Steelmakers': 1, 'Miners': 1, 'Tinto': 1, 'Cia': 1, 'Kazuhiro': 1, 'Takahashi': 1, 'SMBC': 1, 'Arcelor': 1, 'Restrictions': 1, 'lockup': 1, '393': 1, 'searchable': 1, 'NYSE': 1, 'DBS': 1, 'Vickers': 1, '458m': 1, '874m': 1, 'Docklands': 1, 'redevelopment': 1, 'paring': 1, 'writeback': 1, 'groceries': 1, 'Cromwell': 1, 'Infants': 1, 'Gosport': 1, 'Jemma': 1, 'asbestosis': 1, 'sufferer': 1, 'chairwoman': 1, 'Meredith': 1, 'Hellicar': 1, 'terminally': 1, 'persisting': 1, 'deepening': 1, 'boardrooms': 1, 'Fastow': 1, '2001alleging': 1, '145m': 1, 'underfunding': 1, 'Enel': 1, 'annualised': 1, 'Iizuka': 1, 'ichi': 1, 'Mohieldin': 1, 'technocrat': 1, 'Listing': 1, 'affable': 1, '372': 1, 'Deregulation': 1, 'reshuffled': 1, '1130p': 1, 'appraisal': 1, 'plunges': 1, 'geological': 1, 'Transition': 1, 'blizzard': 1, 'unambiguous': 1, 'blinked': 1, 'mismatch': 1, 'mitigate': 1, 'cruises': 1, 'Assuming': 1, 'outfitting': 1, 'arches': 1, 'catchphrase': 1, 'burgers': 1, 'Quarter': 1, 'Pounder': 1, 'Cheese': 1, 'salads': 1, 'vitality': 1, 'Hooking': 1, 'displacement': 1, 'Societe': 1, 'Generale': 1, 'Shinawatra': 1, '510m': 1, '97p': 1, '44p': 1, 'Everasia': 1, 'eighties': 1, 'narrows': 1, 'Dales': 1, 'prognosis': 1, 'Woodley': 1, 'Fusion': 1, 'Zephyr': 1, 'breakthroughs': 1, '697m': 1, 'Yea': 1, '190bn': 1, 'Officially': 1, 'Wen': 1, 'Jiabao': 1, 'Furness': 1, 'fared': 1, 'guzzling': 1, 'LaNeve': 1, 'nibble': 1, 'redesigned': 1, 'Concerned': 1, 'Kamiyama': 1, 'Structural': 1, 'debacle': 1, 'conveyed': 1, 'pretences': 1, 'Chubb': 1, 'Shearman': 1, 'accrued': 1, '745bn': 1, 'Dhiru': 1, 'Bhai': 1, 'profiteers': 1, 'wealthier': 1, 'coating': 1, 'dye': 1, 'agile': 1, 'Umberto': 1, 'Sur': 1, 'filings': 1, 'harmed': 1, 'Gooch': 1, 'Beaudoin': 1, 'Montreal': 1, 'snowmobile': 1, 'seating': 1, 'resell': 1, 'Yanukovich': 1, 'heartland': 1, 'jilted': 1, '354': 1, 'Liquidity': 1, 'annuity': 1, 'paternalistic': 1, 'laggards': 1, 'Combined': 1, 'politicial': 1, 'opaque': 1, 'siphoning': 1, 'wilder': 1, 'healthiest': 1, 'complexities': 1, 'alarmingly': 1, 'greased': 1, 'antagonistic': 1, 'overlook': 1, 'vendetta': 1, 'rectitude': 1, 'salutary': 1, 'Amex': 1, 'Marquis': 1, 'Kain': 1, '98bn': 1, 'indulge': 1, 'Deutschland': 1, 'seventy': 1, 'Carrick': 1, 'Snapping': 1, 'massaged': 1, '142m': 1, '935': 1, '648': 1, 'Janco': 1, 'Pyykkonen': 1, 'Meg': 1, 'Whitman': 1, 'facto': 1, 'Ghazi': 1, 'Gosaibi': 1, 'uproar': 1, 'Wareham': 1, 'shockwave': 1, 'Areen': 1, 'Aycock': 1, 'Bobbitt': 1, 'Clifford': 1, 'Stiles': 1, 'Kellett': 1, 'Sidgmore': 1, 'litigations': 1, '235': 1, 'Numis': 1, 'PepsiCo': 1, 'reformulating': 1, 'nutritionally': 1, 'Lance': 1, 'Friedmann': 1, '1831': 1, '1865': 1, 'plantation': 1, 'intertwined': 1, 'Dimon': 1, 'Slavery': 1, 'ingrained': 1, 'Louisiana': 1, '08': 1, 'BLOM': 1, '642': 1, 'shudders': 1, 'planemaker': 1, 'jumbos': 1, 'aisle': 1, 'offically': 1, 'pinning': 1, 'ferried': 1, 'EVA': 1, 'airliner': 1, '767': 1, '186m': 1, '143m': 1, 'suffocate': 1, 'underscores': 1, 'exiles': 1, 'disrepair': 1, 'decentralise': 1, 'periodic': 1, 'importing': 1, 'brighten': 1, 'Click': 1, 'introspective': 1, 'solver': 1, 'Isolated': 1, 'insulated': 1, 'drainage': 1, 'washing': 1, 'fluorescent': 1, 'fittings': 1, 'dimmable': 1, 'Large': 1, 'tub': 1, 'docking': 1, 'Tablet': 1, '605': 1, 'unsold': 1, 'surveyors': 1, 'stabilised': 1, 'anticipating': 1, 'leeway': 1, 'Loynes': 1, 'Accordingly': 1, 'maloti': 1, 'unceremoniously': 1, 'Organization': 1, 'TW': 1, 'Hats': 1, 'Vogue': 1, 'Cannabis': 1, 'spray': 1, 'Satifex': 1, 'tetrahydrocannabinol': 1, 'cannabidiol': 1, 'cocktail': 1, 'arthritis': 1, 'tons': 1, 'orimulsion': 1, 'barometer': 1, 'downshifting': 1, 'seizures': 1, '119bn': 1, '113bn': 1, 'alludes': 1, 'Hacker': 1, 'Hackers': 1, 'inserting': 1, 'pls': 1, 'm3u': 1, 'Itunes': 1, 'SCH': 1, 'V770': 1, 'reflex': 1, 'telephoto': 1, 'Zander': 1, 'CTIA': 1, 'teaming': 1, 'YLE': 1, 'sphere': 1, 'Gabriele': 1, 'Dorries': 1, 'Face': 1, 'Signal': 1, 'Processing': 1, 'childlike': 1, 'stimulus': 1, 'preset': 1, 'Orwellian': 1, 'Sanjaya': 1, 'unreliable': 1, 'techies': 1, 'mobs': 1, 'organizing': 1, 'Saffo': 1, 'Michelangelo': 1, 'infringe': 1, 'Erich': 1, 'Strohmaier': 1, 'Top500': 1, 'Numerique': 1, 'Tous': 1, 'Televisions': 1, 'Sagem': 1, 'Conseil': 1, 'Superieur': 1, 'Audiovisuel': 1, 'inexpensive': 1, 'bouquets': 1, 'progam': 1, 'combs': 1, 'scours': 1, 'weblinks': 1, 'Finjan': 1, 'propagating': 1, 'irony': 1, 'behavioural': 1, 'penetrated': 1, 'telecentre': 1, '2kW': 1, 'bloodthirsty': 1, 'Randle': 1, 'Client': 1, 'blurry': 1, 'sharpness': 1, 'widescreen': 1, 'telly': 1, 'Flaherty': 1, 'bravest': 1, 'balked': 1, 'expo': 1, 'hesaid': 1, 'interchangeable': 1, 'Form': 1, 'Burn': 1, 'thrives': 1, 'Confusion': 1, 'DVI': 1, 'HDMI': 1, 'Definition': 1, 'Interface': 1, 'Preparations': 1, 'preoccupied': 1, 'Ready': 1, 'Laven': 1, 'tumble': 1, 'masterminds': 1, 'portly': 1, 'Auric': 1, 'Admittedly': 1, 'crosshair': 1, 'uninspiring': 1, 'dash': 1, 'umbrage': 1, 'commendable': 1, 'rectified': 1, 'XDR': 1, 'Rambus': 1, 'fis': 1, 'stab': 1, 'PSX': 1, 'instigate': 1, 'microwave': 1, 'videogame': 1, 'horde': 1, 'Remembrance': 1, 'schlock': 1, 'Ringworld': 1, 'Starship': 1, 'Troopers': 1, 'Dolby': 1, 'playability': 1, 'fansite': 1, 'Org': 1, 'distracts': 1, 'fours': 1, 'attained': 1, 'titbit': 1, 'screenshots': 1, 'essay': 1, 'texture': 1, 'painter': 1, 'della': 1, 'passages': 1, 'telemetric': 1, 'cosiness': 1, 'Scanned': 1, 'Wojcicki': 1, 'extracts': 1, 'bibliographies': 1, 'Important': 1, 'Wilkin': 1, 'bee': 1, 'Rohm': 1, 'psychoacoustics': 1, 'Sibbald': 1, 'mimic': 1, 'encoding': 1, 'Handhelds': 1, 'populous': 1, 'regulates': 1, 'Geared': 1, 'gunfights': 1, 'blockbusting': 1, 'trilogies': 1, 'mayhem': 1, 'Wookie': 1, 'Locations': 1, 'wastes': 1, 'Hoth': 1, 'ATs': 1, 'snazzy': 1, 'bog': 1, 'spawning': 1, 'Scout': 1, 'Speeder': 1, 'Bike': 1, 'quaintly': 1, 'ambient': 1, 'Inanimate': 1, 'surfacing': 1, 'molecular': 1, 'nanoscale': 1, 'nanotechnology': 1, 'shark': 1, 'Nanoscale': 1, 'TiO2': 1, 'antibacterial': 1, 'odour': 1, 'Dressings': 1, 'nanoparticles': 1, 'biocidal': 1, 'cyborgian': 1, 'paves': 1, 'inorganic': 1, 'rebuilds': 1, 'rages': 1, 'condemn': 1, 'bedfellows': 1, 'filesharing': 1, 'OneTel': 1, 'Yagan': 1, 'desks': 1, 'Messages': 1, 'Kournikova': 1, 'popstars': 1, 'salacious': 1, 'Newsround': 1, 'SSEYO': 1, 'miniMIXA': 1, 'sequencer': 1, 'compositions': 1, 'Trauma': 1, 'fashionista': 1, 'Souped': 1, 'Administrations': 1, 'harmonisation': 1, 'Theriault': 1, 'Saumil': 1, 'Nanavati': 1, '2MB': 1, 'golfing': 1, 'instrument': 1, 'tambourine': 1, 'maracas': 1, 'karaoke': 1, 'subway': 1, 'Juniper': 1, 'emenating': 1, '3220': 1, 'timetables': 1, 'unmask': 1, 'snippets': 1, 'leakers': 1, 'outputs': 1, 'Teamwork': 1, 'collaboratively': 1, 'fusion': 1, 'satisfies': 1, 'classrooms': 1, 'archaeological': 1, 'Engineers': 1, 'backpack': 1, 'Augmented': 1, 'Magnenat': 1, 'Thalman': 1, 'MiraLab': 1, 'dramatisations': 1, 'Reviews': 1, 'Splinter': 1, 'Pandora': 1, 'peek': 1, 'soundtracks': 1, 'swipes': 1, 'brute': 1, 'Sited': 1, 'unlicensed': 1, 'minicabs': 1, 'Compression': 1, 'aligned': 1, 'ramping': 1, 'geographies': 1, 'limitless': 1, 'fingertips': 1, 'bypassing': 1, 'instantaneous': 1, 'unencumbered': 1, 'prohibitive': 1, 'Myrio': 1, 'Cor': 1, 'Lasers': 1, 'roofs': 1, 'pairs': 1, 'foggy': 1, 'permissions': 1, 'revolutionaries': 1, 'clamped': 1, 'Motjaba': 1, 'dissuade': 1, 'Ruhollah': 1, 'Khomenei': 1, 'Khamenei': 1, 'mullahs': 1, 'Surpassing': 1, 'teraflop': 1, 'Rochester': 1, 'Minnesota': 1, 'Supercomputers': 1, 'simulations': 1, 'proactive': 1, 'genome': 1, 'corroborated': 1, 'wielded': 1, 'licenses': 1, 'Philpott': 1, 'WMDs': 1, 'PMA430': 1, 'Crohas': 1, 'demons': 1, 'Autocycle': 1, 'amputee': 1, 'sidecars': 1, 'prejudiced': 1, 'Lincolnshire': 1, 'throttles': 1, 'clutches': 1, 'GSI': 1, 'gearbox': 1, 'Imprezas': 1, 'throttle': 1, 'hill': 1, 'climbs': 1, 'lever': 1, 'Minor': 1, 'Ink': 1, 'backsliding': 1, 'dries': 1, 'glow': 1, 'neon': 1, 'inked': 1, 'prelude': 1, 'Autumn': 1, 'Republics': 1, 'metaphor': 1, 'Organizations': 1, 'rumors': 1, 'cuticle': 1, 'inking': 1, 'Mikosz': 1, 'IFES': 1, 'Cinemas': 1, 'terabyte': 1, 'lossless': 1, 'encrypted': 1, 'scratches': 1, 'Emiews': 1, 'Existence': 1, 'Workmate': 1, 'resemble': 1, 'Segway': 1, 'waist': 1, 'Shinjuku': 1, 'Shibuya': 1, 'bipedal': 1, 'ITunes': 1, 'Mason': 1, 'netting': 1, 'IDs': 1, 'IE7': 1, 'fruits': 1, 'Websidestory': 1, 'gatherers': 1, 'Mehdi': 1, 'prompts': 1, 'Stanzel': 1, 'inundated': 1, 'ebbs': 1, 'EdgeScape': 1, 'Boingboing': 1, '322': 1, 'triples': 1, 'Tooth': 1, 'Byplanes': 1, 'mercury': 1, 'transformers': 1, 'redesign': 1, 'Redesigning': 1, 'bins': 1, 'compostable': 1, 'cans': 1, 'smuggled': 1, 'transfers': 1, 'visualisation': 1, 'reproduction': 1, 'compromises': 1, '836m': 1, 'Cheaper': 1, 'Rasor': 1, 'activate': 1, 'decryption': 1, 'dormant': 1, 'ingenuity': 1, 'packaged': 1, 'symptomatic': 1, 'timers': 1, 'Hotbot': 1, 'Altavista': 1, 'trumpeted': 1, 'truer': 1, 'financials': 1, 'unlocking': 1, 'Personalisation': 1, 'seaboard': 1, 'radar': 1, 'Familiarity': 1, 'cachet': 1, 'shortest': 1, 'IRC': 1, 'peep': 1, 'Leveraging': 1, 'Powerpoint': 1, 'personalized': 1, 'hatched': 1, 'Literate': 1, 'designate': 1, 'choke': 1, 'foolproof': 1, 'Starbuck': 1, 'intermittency': 1, 'insect': 1, 'postulating': 1, 'Plusnet': 1, 'Rosenberg': 1, 'SPAN': 1, 'captioning': 1, 'blinkx': 1, 'ascend': 1, 'deckers': 1, 'escalators': 1, '426m': 1, 'km': 1, 'Hein': 1, 'taller': 1, 'Petronas': 1, 'skyscraper': 1, 'summed': 1, 'Souter': 1, 'queuing': 1, 'Ape': 1, 'Wipeout': 1, 'Fired': 1, 'sims': 1, 'honed': 1, 'ooze': 1, 'indignation': 1, 'monopolise': 1, 'rankled': 1, 'disliking': 1, 'NHL': 1, '2K5': 1, 'oodles': 1, 'identifiable': 1, 'preambles': 1, 'Poles': 1, 'cacophony': 1, 'boops': 1, 'beeps': 1, 'Kraftwerk': 1, 'GameBoys': 1, 'rudimentary': 1, 'synthesizer': 1, 'workgroups': 1, 'diffuse': 1, 'bucking': 1, 'amoeba': 1, 'organism': 1, 'jaws': 1, 'planets': 1, 'Frodo': 1, 'Baggins': 1, 'Seuss': 1, 'v2': 1, 'simulates': 1, 'crumples': 1, 'animate': 1, 'lessens': 1, 'Genemation': 1, 'Owain': 1, 'Bennallack': 1, 'Develop': 1, 'abundantly': 1, 'superfast': 1, 'joysticks': 1, 'gamepads': 1, 'Frontrunner': 1, 'eLections': 1, 'Machine': 1, 'virtues': 1, 'vices': 1, 'newsgaming': 1, 'Cambiemos': 1, 'expunged': 1, 'Remove': 1, 'drafts': 1, 'tendering': 1, 'torrent': 1, 'Searching': 1, 'Linden': 1, 'glamorous': 1, 'variations': 1, 'Mosquito': 1, 'Jaschen': 1, 'Sasser': 1, 'avid': 1, 'educations': 1, 'slushier': 1, 'bare': 1, 'Participants': 1, 'Peake': 1, 'gothic': 1, 'Gormenghast': 1, 'Stollenmayer': 1, 'engagers': 1, 'Neverwinter': 1, 'mall': 1, 'Edmonton': 1, 'Alberta': 1, 'Shauna': 1, 'Hawk': 1, 'compass': 1, 'illustrates': 1, 'Soda': 1, 'Stream': 1, 'Ease': 1, 'equilibrium': 1, 'bobs': 1, 'bluetooth': 1, 'Window': 1, 'Sparrow': 1, 'biscuit': 1, 'Recorders': 1, 'ITX': 1, 'dots': 1, 'panorama': 1, 'rockscape': 1, 'mm': 1, 'Telco': 1, 'modifying': 1, 'homepages': 1, 'Medecins': 1, 'sans': 1, 'Frontieres': 1, 'Drop': 1, 'Nikolai': 1, 'Gawker': 1, 'Needs': 1, 'Bicycle': 1, 'Wonkette': 1, 'Gothamist': 1, 'Included': 1, 'meme': 1, 'replicating': 1, 'Flickr': 1, 'syndication': 1, 'robotics': 1, 'pointer': 1, 'Gamer': 1, 'plateau': 1, 'Behrmann': 1, 'Mindark': 1, 'beachfront': 1, 'Entopia': 1, 'PED': 1, 'Dollars': 1, 'ingots': 1, 'shogun': 1, 'accumulating': 1, 'alternate': 1, 'facilitator': 1, 'bumped': 1, '20Mbps': 1, 'supplemented': 1, 'Slimmer': 1, 'Remote': 1, 'tail': 1, 'taxidermy': 1, 'Species': 1, 'barbary': 1, 'Corsican': 1, 'mouflon': 1, 'blackbuck': 1, 'Handlers': 1, 'Animals': 1, 'mums': 1, 'radicals': 1, 'templating': 1, 'unrecycled': 1, 'entitlement': 1, 'diatribes': 1, 'interconnectedness': 1, 'excused': 1, 'Lookout': 1, 'Instant': 1, 'keyword': 1, 'Rittweger': 1, 'JF': 1, 'Sendmail': 1, 'invasiveness': 1, 'recharges': 1, 'shortness': 1, 'evangelist': 1, 'Lithium': 1, 'wringing': 1, 'separators': 1, 'evaporation': 1, 'chambers': 1, 'watts': 1, 'assortment': 1, 'Shack': 1, 'junkies': 1, 'ipodder': 1, 'Kaye': 1, 'podcaster': 1, 'Ipodder': 1, 'Topics': 1, 'Playboy': 1, 'unbelievably': 1, 'Rudolf': 1, 'Coloured': 1, 'Reboot': 1, 'setbacks': 1, 'Intense': 1, 'abstain': 1, 'Piazza': 1, 'mainline': 1, 'browses': 1, 'Productivity': 1, 'WiFi': 1, 'Oftel': 1, 'upping': 1, 'renting': 1, 'occupancy': 1, 'kilobit': 1, 'shakes': 1, 'cam': 1, 'Tremors': 1, 'genetic': 1, 'afflict': 1, 'Assistive': 1, 'Adapter': 1, 'AMA': 1, 'Levine': 1, 'shaky': 1, 'Montrose': 1, 'Secam': 1, 'frees': 1, 'innovating': 1, 'academia': 1, 'diversionary': 1, 'leadsnosoftwarepatents': 1, 'aboutroughly': 1, 'filethat': 1, 'simultaneous': 1, 'multiprocessing': 1, 'steams': 1, 'impervious': 1, 'abruptly': 1, 'cybersecurity': 1, 'Additionally': 1, 'Pictochat': 1, 'Rub': 1, 'Kart': 1, 'Pixagogo': 1, 'Photosig': 1, 'critique': 1, 'sharpening': 1, 'Photos': 1, 'historians': 1, 'archivists': 1, 'tantilising': 1, 'tucked': 1, 'adopters': 1, 'Deering': 1, 'practicalities': 1, 'Demographics': 1, 'fourfold': 1, 'prioritising': 1, 'reserving': 1, 'spoils': 1, 'Dictionary': 1, 'derive': 1, 'slant': 1, 'hurricane': 1, 'repressive': 1, 'poach': 1, 'obituary': 1, 'Niel': 1, 'Ransom': 1, 'Larribeau': 1, 'ubiquity': 1, 'Bluephone': 1, 'Charging': 1, 'Terms': 1, 'subtleties': 1, 'tuners': 1, '20GB': 1, 'Dixons': 1, 'immoral': 1, 'elementary': 1, 'Logs': 1, 'hoarded': 1, 'Assistants': 1, 'Virtual': 1, 'bytes': 1, 'squirreling': 1, 'hoarding': 1, 'functionalities': 1, 'Downloadable': 1, 'BandAid': 1, 'Lillehammer': 1, 'unauthorized': 1, 'KaZaa': 1, 'Doe': 1, 'Killzone': 1, 'Owners': 1, 'sporadic': 1, 'investigates': 1, 'buffs': 1, 'Razor': 1, '1911': 1, 'Risciso': 1, 'Myth': 1, 'Popz': 1, 'Fourteen': 1, 'Buccaneer': 1, 'Seventy': 1, 'warrants': 1, 'Eriflleh': 1, 'Hellfire': 1, 'spelt': 1, 'Kartadinata': 1, 'Tresco': 1, 'invincibility': 1, 'Hew': 1, 'loudmouth': 1, 'messageboard': 1, 'extradite': 1, 'aliases': 1, 'graffiti': 1, 'brag': 1, 'Primarily': 1, 'notoriety': 1, 'Warez': 1, 'victimless': 1, 'enhancement': 1, 'Cabs': 1, 'Palms': 1, 'immune': 1, 'muggings': 1, 'snatch': 1, 'harp': 1, 'hamster': 1, 'Lichtenberg': 1, '9276': 1, 'Clie': 1, 'PEG': 1, 'UX50': 1, 'swivel': 1, 'RA': 1, 'LEDs': 1, 'Vendor': 1, 'Novatech': 1, 'jacked': 1, 'configured': 1, 'Particle': 1, 'Physics': 1, 'TCP': 1, 'knits': 1, 'glitch': 1, 'tailed': 1, 'defacement': 1, 'layovers': 1, 'Dayton': 1, 'deluge': 1, 'Ciphertrust': 1, 'armoury': 1, 'meltdown': 1, 'bookmarks': 1, '1000': 1, 'Suranga': 1, 'Igels': 1, 'Nordic': 1, 'Teliasonera': 1, 'Consultancy': 1, 'conditional': 1, 'Shin': 1, 'Bae': 1, 'watchable': 1, 'negotiates': 1, 'Developments': 1, 'Radioscape': 1, 'shopaholics': 1, 'dogging': 1, 'Beal': 1, 'indemnify': 1, 'ascertain': 1, 'gen': 1, 'pixel': 1, 'shaders': 1, 'Graphical': 1, 'canvas': 1, 'filmic': 1, 'ThinkVantage': 1, 'Optiplex': 1, 'Compaq': 1, 'safeguarded': 1, 'ProtectTools': 1, 'Wave': 1, 'purchaser': 1, 'uncontrollable': 1, 'Dozens': 1, 'Firewall': 1, 'Newark': 1, 'ringleaders': 1, 'Anatoly': 1, 'Tyukanov': 1, 'Investigators': 1, 'Darkprofits': 1, 'Acting': 1, 'Superintendent': 1, 'trafficked': 1, 'Supt': 1, 'commodities': 1, 'proprietary': 1, 'Britneys': 1, 'RIAA': 1, 'Modem': 1, 'dialled': 1, 'refunds': 1, 'Creator': 1, 'GUI': 1, 'Xerox': 1, 'PARC': 1, 'initiator': 1, 'Hertzfeld': 1, 'Appliance': 1, 'pervades': 1, 'females': 1, 'vigilant': 1, 'naively': 1, 'descriptions': 1, 'snapshots': 1, 'Rohit': 1, 'Dina': 1, 'Ramdhan': 1, 'Yadav': 1, 'trawlers': 1, 'Keep': 1, 'blogged': 1, 'Robotic': 1, 'pods': 1, 'Built': 1, 'autopilot': 1, 'reclining': 1, 'customized': 1, 'mountable': 1, '35km': 1, '83mph': 1, 'staircases': 1, 'Mounting': 1, 'dismounting': 1, 'iMac': 1, 'vehicular': 1, 'Powered': 1, 'infirm': 1, 'trojans': 1, 'Marek': 1, 'Strihavka': 1, 'synergistic': 1, 'multicore': 1, 'Kleynhans': 1, 'Meta': 1, '25s': 1, 'Wheelock': 1, 'bypass': 1, 'echoes': 1, 'fr': 1, 'unsurprisingly': 1, 'Nation': 1, 'Solitary': 1, 'Solidarity': 1, 'Sixty': 1, 'clothe': 1, 'interpreting': 1, 'Aerospace': 1, 'Keyobs': 1, 'rainy': 1, 'riverbeds': 1, 'impeded': 1, 'Candillon': 1, 'Sertit': 1, 'pastimes': 1, 'Hume': 1, 'Starcom': 1, 'MediaVest': 1, 'diapers': 1, 'TiVoToGo': 1, 'Humanoid': 1, 'learns': 1, 'gainful': 1, 'jog': 1, 'beckoned': 1, 'entertainer': 1, 'amusement': 1, 'indexes': 1, 'Encarta': 1, 'encyclopaedia': 1, 'equations': 1, 'equalisers': 1, 'agonising': 1, 'obsess': 1, 'disregarding': 1, 'Byron': 1, 'Childe': 1, 'Pilgrimage': 1, 'LZW': 1, 'GIF': 1, 'Coincidence': 1, 'darlings': 1, 'Rooster': 1, 'Belinda': 1, 'intermission': 1, 'Guadalcanal': 1, 'talkative': 1, 'Hawaii': 1, 'gunboat': 1, 'battleship': 1, 'crewman': 1, 'skilfully': 1, 'linear': 1, 'misdirection': 1, 'imparting': 1, 'suitably': 1, 'bombastic': 1, 'Letting': 1, 'unconvincing': 1, 'Checkpoints': 1, 'simulator': 1, 'disturbingly': 1, 'irritatingly': 1, 'teamwork': 1, 'superficial': 1, 'camaraderie': 1, 'lush': 1, 'tropical': 1, 'puzzlement': 1, 'Conflict': 1, '277': 1, 'informaton': 1, 'untouched': 1, 'serviette': 1, 'elf': 1, 'vacations': 1, '40052308090': 1, 'envisage': 1, 'barnstorming': 1, 'avenge': 1, 'deeds': 1, 'framed': 1, 'crooked': 1, 'swathes': 1, 'grungy': 1, 'preppy': 1, 'Flaunting': 1, 'sunsets': 1, 'stupendous': 1, 'butter': 1, 'freeway': 1, 'Pedestrians': 1, 'loquacious': 1, 'pad': 1, 'haircuts': 1, 'patrons': 1, 'hijacking': 1, 'jokey': 1, 'wit': 1, 'odious': 1, 'gangland': 1, 'lowlifes': 1, 'fiddly': 1, 'Lombardi': 1, 'Bit': 1, 'cluttered': 1, 'batter': 1, 'decentralised': 1, 'Manifesto': 1, 'Podcasters': 1, 'bedrooms': 1, 'audioblogs': 1, 'WMP': 1, 'Madison': 1, 'buzzword': 1, '100s': 1, '000s': 1, 'Winer': 1, 'Scripting': 1, 'democratising': 1, 'aggregation': 1, 'bait': 1, 'microcosms': 1, 'Coffee': 1, 'referral': 1, 'flyers': 1, 'hoards': 1, 'parked': 1, 'crashes': 1, 'SGH': 1, 'i300': 1, 'probable': 1, 'Umemoto': 1, '6230i': 1, '6230': 1, 'Riccardo': 1, 'Rinaldini': 1, 'Buttons': 1, 'accordingly': 1, 'shoe': 1, 'Gangsters': 1, 'EyeToy': 1, 'Driver': 1, 'fondness': 1, 'baffled': 1, 'summarise': 1, 'PanaVox': 1, 'synthesised': 1, 'imitation': 1, 'sincerest': 1, 'flattery': 1, 'repetition': 1, 'scrambles': 1, 'Accidental': 1, 'soars': 1, 'whetting': 1, 'broadbanders': 1, 'Topic': 1, '15Mb': 1, 'manageable': 1, 'faithfully': 1, 'bonnet': 1, 'Carfax': 1, 'Grassroots': 1, 'hypergrowth': 1, 'outreach': 1, 'Fronter': 1, 'proxies': 1, 'beige': 1, '6ghz': 1, 'Celeron': 1, '256mb': 1, 'Homes': 1, 'Cost': 1, 'upgradeable': 1, 'workhorse': 1, 'JAL': 1, 'pricey': 1, 'chop': 1, 'eminently': 1, 'expandable': 1, 'galore': 1, 'Innovations': 1, 'Showcase': 1, 'circular': 1, 'unplug': 1, 'NevoSL': 1, 'Arling': 1, 'UEI': 1, 'Chassis': 1, 'LeBoff': 1, 'risqu': 1, '2GB': 1, 'MPEG4': 1, 'Slung': 1, 'geeky': 1, 'discreetly': 1, 'FY500': 1, '256MB': 1, 'Listed': 1, 'Ministries': 1, 'Communication': 1, 'Seoul': 1, 'Boramae': 1, 'banded': 1, 'incarnations': 1, 'browsed': 1, 'Amaya': 1, '273': 1, 'Worryingly': 1, 'harvest': 1, 'middlemen': 1, 'persistence': 1, 'scattergun': 1, 'Signs': 1, '268': 1, 'restructuing': 1, 'expressions': 1, 'Honour': 1, 'god': 1, 'computerised': 1, 'Gritty': 1, 'ramps': 1, 'hinges': 1, 'Dahaka': 1, 'Studiously': 1, 'haphazard': 1, 'somersault': 1, 'pirouette': 1, 'purposefully': 1, 'cliff': 1, 'fiendish': 1, 'slaying': 1, 'Slicing': 1, 'Feet': 1, 'eco': 1, 'Rethink': 1, 'Schemes': 1, 'drawer': 1, 'WEEE': 1, 'juice': 1, 'Sohu': 1, 'subversive': 1, 'Headlines': 1, 'Connectedness': 1, 'iBand': 1, 'bracelet': 1, 'wearer': 1, 'devoices': 1, 'brainwaves': 1, 'collaborators': 1, 'undergraduate': 1, 'Contemporary': 1, 'Oxby': 1, 'booths': 1, 'twitches': 1, 'accesses': 1, 'Langlands': 1, 'Cellars': 1, 'remnants': 1, 'bricked': 1, 'modernity': 1, 'Senne': 1, 'Encounter': 1, 'Expressionist': 1, 'vein': 1, 'altruistic': 1, 'Europay': 1, 'Mastercard': 1, 'stripes': 1, 'Welchia': 1, 'Risks': 1, 'emoticon': 1, '0630': 1, 'BST': 1, '0530': 1, 'ADSL2': 1, '18Mbps': 1, 'GMIPoll': 1, 'ported': 1, 'Krewell': 1, 'Microprocessor': 1, 'ofTexas': 1, 'confer': 1, 'CAN': 1, 'headings': 1, 'sender': 1, 'freezes': 1, 'Cyberspace': 1, 'IMRG': 1, 'narrowband': 1, 'coding': 1, 'Bloodline': 1, 'Counter': 1, 'hopping': 1, 'snappers': 1, 'Schoonen': 1, 'Dominican': 1, 'Aarhus': 1, 'Stiftstidende': 1, 'moblog': 1, 'photojournal': 1, 'Buzznet': 1, 'Tabloid': 1, 'sustains': 1, 'Nienhuis': 1, 'aspersions': 1, 'bogus': 1, 'Alyn': 1, 'Hockey': 1, 'Sexually': 1, 'misspell': 1, 'vigilante': 1, 'skirting': 1, 'senders': 1, 'centralised': 1, 'upstart': 1, 'Offering': 1, 'stacked': 1, 'diversifies': 1, 'Gmail': 1, 'Froogle': 1, 'Beauvillain': 1, 'Inktomi': 1, 'Overture': 1, '120bn': 1, 'Koogle': 1, 'Semel': 1, 'marketers': 1, 'impairment': 1, 'risque': 1, 'chefs': 1, 'conduits': 1, 'ZIP': 1, 'pleasantly': 1, 'decompress': 1, 'horoscopes': 1, 'eyesight': 1, 'expensively': 1, 'MP3G': 1, 'Pandas': 1, 'bamboo': 1, 'vets': 1, 'cubs': 1, 'Infant': 1, 'Biodiversity': 1, 'Colossus': 1, 'LEGEND': 1, 'ZELDA': 1, 'cel': 1, 'Ocarina': 1, 'Horseback': 1, 'adventuring': 1, 'Tarkovsky': 1, 'Stalker': 1, 'decay': 1, 'mutation': 1, 'METAL': 1, 'GEAR': 1, 'SOLID': 1, 'SNAKE': 1, 'EATER': 1, 'Hideo': 1, 'Kojima': 1, 'DEAD': 1, 'OR': 1, 'ALIVE': 1, 'ULTIMATE': 1, 'Tecmo': 1, 'Ninja': 1, 'retooled': 1, 'KNIGHTS': 1, 'OLD': 1, 'REPUBLIC': 1, 'Saw': 1, 'Punisher': 1, 'Recall': 1, 'Rambo': 1, '8GB': 1, 'XXX': 1, 'Resident': 1, 'Apocalypse': 1, 'Upon': 1, 'unfeasible': 1, 'Pub': 1, 'NEXT': 1, 'Abtahi': 1, 'wikinews': 1, 'unshredded': 1, 'Cratchit': 1, 'underworld': 1, 'auditing': 1, 'SecureWave': 1, 'transit': 1, 'Unauthorised': 1, 'convoluted': 1, 'homework': 1, 'oppositional': 1, 'Boring': 1, 'drumming': 1, 'couched': 1, 'impart': 1, 'energie': 1, 'asleep': 1, 'mod': 1, 'inferences': 1, 'phenomena': 1, 'mushroom': 1, 'Stanton': 1, 'Huddersfield': 1, 'winded': 1, 'endedness': 1, 'EverCrack': 1, 'obsessives': 1, 'Grind': 1, 'rending': 1, 'ummm': 1, 'ya': 1, 'sadder': 1, 'marginalised': 1, 'Crack': 1, 'waking': 1, '3am': 1, 'RPGs': 1, 'sorround': 1, 'sword': 1, 'unhealthily': 1, 'hehe': 1, 'thankfully': 1, 'adiction': 1, 'mirage': 1, 'Obsessive': 1, 'bothers': 1, 'tinkerer': 1, 'MMORPGS': 1, '2pm': 1, '5am': 1, 'restarted': 1, 'RPGS': 1, 'hence': 1, 'marrage': 1, 'Galaxies': 1, 'attest': 1, 'addictiveness': 1, 'sanity': 1, 'unproductive': 1, 'vacuum': 1, 'succesfull': 1, 'willpower': 1, 'adrenaline': 1, 'Bangs': 1, 'xbox': 1, 'hrs': 1, 'enviroment': 1, 'trifling': 1, 'LOL': 1, 'Screensaver': 1, 'terabytes': 1, 'Spamcop': 1, 'entitles': 1, '0870': 1, 'Abensur': 1, 'Simmelink': 1, 'TI': 1, 'pipe': 1, 'seeping': 1, 'Calls': 1, 'footprint': 1, 'queued': 1, 'satirist': 1, 'Gulliver': 1, 'Travels': 1, 'purrs': 1, 'tweaking': 1, 'Annoyingly': 1, 'Jak': 1, 'Daxter': 1, 'Ratchet': 1, 'Clank': 1, 'dulled': 1, 'dollops': 1, 'Touchstone': 1, 'knell': 1, 'Snalune': 1, 'Gothika': 1, 'Eastenders': 1, 'Casualty': 1, 'Antiques': 1, 'Roadshow': 1, 'Informa': 1, 'ombudsman': 1, 'phoning': 1, 'interventions': 1, 'AVG': 1, 'ZoneAlarm': 1, 'innocently': 1, 'Ignorance': 1, 'Disable': 1, 'scammed': 1, 'galls': 1, 'DeCSS': 1, 'ripper': 1, 'circumvents': 1, 'Scrambling': 1, 'weirdest': 1, 'rescuing': 1, 'malfunctioning': 1, 'lavatory': 1, 'flushed': 1, 'corrupted': 1, 'sos': 1, 'Memory': 1, 'Mate': 1, 'untapped': 1, '@': 1, 'Extra': 1, 'Terrestrial': 1, 'WGC': 1, 'Proteome': 1, 'Folding': 1, 'specializing': 1, 'intractable': 1, 'smudging': 1, '10x7in': 1, 'cropping': 1, 'inks': 1, 'skirmish': 1, 'foreboding': 1, 'troublespot': 1, 'Sinister': 1, 'unkempt': 1, 'clobbers': 1, 'sledgehammer': 1, 'herded': 1, 'mingle': 1, 'blinding': 1, 'Underplaying': 1, 'immerses': 1, 'interrupt': 1, 'Exposition': 1, 'haunting': 1, 'landscapes': 1, 'hurling': 1, 'prodding': 1, 'corpses': 1, 'lifelike': 1, 'crowbar': 1, 'Virtually': 1, 'interacted': 1, 'exhilarating': 1, 'resorting': 1, 'distinctly': 1, 'hesitating': 1, 'irk': 1, 'Installing': 1, 'draining': 1, 'saint': 1, 'transformative': 1, 'pervasively': 1, 'Nanotechnologies': 1, 'superconducting': 1, 'Pervasive': 1, 'keyboards': 1, 'cures': 1, 'gene': 1, 'multidisciplinary': 1, 'traits': 1, 'underrepresented': 1, 'wav': 1, 'deleterious': 1, 'spasm': 1, 'studded': 1, 'Tana': 1, 'Cobus': 1, 'Jacque': 1, 'Guinazu': 1, 'Baxter': 1, 'Assertiveness': 1, 'breakdowns': 1, 'Garry': 1, 'Munro': 1, '1870': 1, 'nil': 1, 'instigating': 1, 'psyche': 1, 'Maoris': 1, 'empathy': 1, 'ethos': 1, 'reflecion': 1, 'enlightened': 1, 'undefeated': 1, 'Revell': 1, 'churlishly': 1, 'despatched': 1, 'laughter': 1, 'exclaimed': 1, '1924': 1, 'Invincibles': 1, '1928': 1, 'inauspiciously': 1, 'schoolboy': 1, 'Tanner': 1, 'Clem': 1, 'Uzzell': 1, 'Parade': 1, 'Whinneray': 1, 'Quittenton': 1, 'duly': 1, 'McKechnie': 1, 'beatings': 1, 'salvation': 1, 'Vasco': 1, 'Gama': 1, 'gandula': 1, 'ballboy': 1, 'spearheaded': 1, 'disorganized': 1, 'acquainted': 1, 'restless': 1, 'metropolis': 1, 'Pel': 1, 'reams': 1, 'ambushed': 1, 'Copa': 1, 'Libertadores': 1, 'appalling': 1, '05m': 1, '46secs': 1, 'tremble': 1, 'arsenal': 1, 'unearthing': 1, 'Grecians': 1, 'goalline': 1, 'messed': 1, 'baying': 1, '033': 1, 'Serve': 1, 'disgust': 1, 'tryscorers': 1, 'Uncapped': 1, 'lips': 1, 'hush': 1, 'hushing': 1, 'dangerously': 1, 'sidefooting': 1, '110th': 1, 'Pellegrino': 1, 'Pidgeley': 1, 'marches': 1, 'eliminated': 1, 'improbable': 1, 'outlasting': 1, 'sniffer': 1, 'Guti': 1, 'Ser': 1, 'Nihat': 1, 'Kahveci': 1, 'separatist': 1, 'Horner': 1, 'Probyn': 1, 'enclosure': 1, 'likelier': 1, 'enliven': 1, 'drab': 1, 'lethargic': 1, '150th': 1, 'ricochets': 1, 'accidently': 1, '093': 1, 'Molloy': 1, 'pools': 1, 'clinches': 1, 'aftewards': 1, 'Welford': 1, 'negate': 1, '13secs': 1, 'whisker': 1, 'crossbar': 1, 'undaunted': 1, 'weighty': 1, 'skimmed': 1, 'Gabor': 1, 'Ferenc': 1, 'Lothian': 1, 'Moilanen': 1, 'Kizys': 1, 'Hand': 1, 'revel': 1, 'Sixways': 1, 'Pieters': 1, 'Rasmussen': 1, 'Windo': 1, 'Horsman': 1, 'Gillies': 1, 'Fortey': 1, 'Vaili': 1, 'Trueman': 1, 'depleted': 1, 'standout': 1, 'faultless': 1, 'baton': 1, 'hundredth': 1, 'Captains': 1, 'Reserves': 1, 'Reihana': 1, 'Netherdale': 1, 'Calum': 1, 'Substitute': 1, 'trickling': 1, 'glimmer': 1, 'Berthinussen': 1, 'McEntee': 1, 'Parr': 1, 'Rennick': 1, 'Millar': 1, 'Longwell': 1, 'Doak': 1, 'Bautista': 1, 'Steaua': 1, 'counterproductive': 1, 'Germain': 1, 'horn': 1, 'poached': 1, 'backline': 1, 'Stung': 1, '61st': 1, 'Paulse': 1, 'Joubert': 1, 'Wet': 1, 'Willemse': 1, 'Westhuyzen': 1, 'Preez': 1, 'Botha': 1, 'AJ': 1, 'Venter': 1, 'Shimange': 1, 'Linde': 1, 'Britz': 1, 'Rossouw': 1, 'Claassens': 1, 'Toit': 1, 'Dumbarton': 1, 'invective': 1, 'adroit': 1, 'magician': 1, 'dope': 1, 'precautionary': 1, 'Sevilla': 1, 'Mount': 1, 'Everest': 1, 'Trying': 1, 'Ovett': 1, 'Dmitriy': 1, 'Bogdanov': 1, 'Arnoud': 1, 'Okken': 1, 'Reina': 1, '68seconds': 1, 'starters': 1, '6in': 1, 'Selection': 1, 'beckons': 1, 'drip': 1, '37cm': 1, 'Jadel': 1, 'Gregorio': 1, 'confidently': 1, 'dispossesed': 1, 'Sotiris': 1, 'latch': 1, 'Namouchi': 1, 'Lovenkrands': 1, 'McCurry': 1, 'Kai': 1, 'Horstman': 1, 'Thirlby': 1, 'Neumi': 1, 'Nanuku': 1, 'Marika': 1, 'Vakacegu': 1, 'Tuidriva': 1, 'Bainivalu': 1, 'Appleford': 1, 'bowl': 1, 'irritable': 1, 'abdomen': 1, 'Agyemang': 1, 'Bortey': 1, 'Boukar': 1, 'Makaji': 1, '89th': 1, 'Nzame': 1, 'Batie': 1, '35th': 1, 'Kemadjou': 1, 'Thokozani': 1, 'Xaba': 1, 'Ngom': 1, 'Nfor': 1, 'Cloete': 1, 'foiled': 1, 'stray': 1, 'presentable': 1, 'burrow': 1, 'commanding': 1, 'bereft': 1, 'scuttle': 1, 'reasserted': 1, 'Jutge': 1, 'sportswoman': 1, 'Fifteen': 1, 'Gambill': 1, 'Dancevic': 1, 'downed': 1, 'collegiate': 1, 'prevails': 1, 'organizers': 1, 'rackets': 1, 'chin': 1, 'contaminated': 1, 'Higdon': 1, 'Hamburg': 1, 'Generoso': 1, 'Rossi': 1, 'irons': 1, 'Loftus': 1, 'Valenciana': 1, 'synthetic': 1, 'spice': 1, 'rankles': 1, 'Rooneys': 1, 'electrician': 1, 'blowing': 1, 'cannisters': 1, 'Kampen': 1, 'motored': 1, 'Sheffied': 1, 'Bogle': 1, 'apologises': 1, 'mistakenly': 1, '62m': 1, 'Bosman': 1, 'eclipses': 1, 'haranguing': 1, 'belly': 1, 'knuckles': 1, 'cosh': 1, 'gobbled': 1, 'tacklers': 1, 'hurdlers': 1, 'resuming': 1, 'recapturing': 1, 'Kanu': 1, 'workrate': 1, 'Sveta': 1, 'Godman': 1, 'Howarth': 1, 'Callam': 1, 'kung': 1, 'fu': 1, 'caveats': 1, 'gee': 1, 'lunge': 1, 'deuce': 1, 'ferociously': 1, 'dinked': 1, 'buts': 1, 'unreturnable': 1, 'groundstrokes': 1, 'stared': 1, 'Giteau': 1, 'Jonty': 1, 'repercussions': 1, 'Olympians': 1, 'Staten': 1, 'undulating': 1, 'Alumnia': 1, 'Cats': 1, 'invitational': 1, 'Persson': 1, 'Verdecchia': 1, '39secs': 1, 'recurrence': 1, 'Holm': 1, '65m': 1, '51cm': 1, 'adrift': 1, 'Djhone': 1, 'Rund': 1, 'botched': 1, 'Madejski': 1, '43rd': 1, 'Stimpson': 1, 'flankers': 1, 'Horak': 1, 'Penney': 1, 'Nordt': 1, 'Hardwick': 1, 'Priscott': 1, 'Skivington': 1, 'Fury': 1, 'Ledley': 1, 'realms': 1, 'Arrigo': 1, 'Sacchi': 1, 'Landsdowne': 1, 'McGeough': 1, 'Inver': 1, 'physique': 1, 'Daley': 1, 'gnaw': 1, 'emphatically': 1, 'pronouncement': 1, 'Fenton': 1, 'Morley': 1, 'Priet': 1, 'Tierney': 1, 'Beardsley': 1, 'Coppinger': 1, 'Warrington': 1, '375': 1, 'Parkes': 1, 'bloodied': 1, 'footwork': 1, 'debrief': 1, 'scrums': 1, 'Ginsberg': 1, 'relinquish': 1, 'saluted': 1, 'Biljon': 1, 'Buckland': 1, 'Cockerill': 1, 'Tuilagi': 1, 'Bemand': 1, 'Tuiliagi': 1, 'Vesty': 1, 'Gunnell': 1, 'Wanderers': 1, 'striding': 1, '69th': 1, 'Butt': 1, 'Jaidi': 1, '430': 1, 'Gaal': 1, 'envious': 1, 'Lakers': 1, 'childish': 1, 'feign': 1, 'Edgy': 1, 'wrapping': 1, 'exhausting': 1, 'outlasted': 1, 'Rawlinson': 1, 'Gerber': 1, 'Popham': 1, 'Broster': 1, 'Chesney': 1, 'goalposts': 1, 'confirned': 1, 'fiesta': 1, 'Delaney': 1, '21s': 1, 'modifications': 1, 'presumed': 1, 'tarnished': 1, 'Testers': 1, 'Konstantinos': 1, 'Panagiotis': 1, 'Dimakos': 1, 'Haralabos': 1, 'Hrisanthakis': 1, 'Stilianos': 1, 'Perakis': 1, 'Ioannis': 1, 'Karmis': 1, 'Matteo': 1, 'McGreal': 1, 'Oster': 1, 'Micah': 1, 'BLACKBURN': 1, 'ROVERS': 1, 'hotpot': 1, 'spicy': 1, 'accredited': 1, 'rehearsed': 1, 'Mayerholfer': 1, 'Parling': 1, 'Garvey': 1, 'Fanolua': 1, 'Curnier': 1, 'Eustace': 1, 'Balding': 1, 'Elloway': 1, 'Sigley': 1, 'Cornwell': 1, 'Ferencvaros': 1, 'Basle': 1, 'threadbare': 1, 'heartbreaking': 1, 'Unclear': 1, 'hills': 1, 'Heringsdorf': 1, 'Kop': 1, 'dodged': 1, 'underscore': 1, 'Hawkpoint': 1, 'Shiniwatra': 1, 'benefactor': 1, 'veil': 1, 'mantel': 1, 'Thorp': 1, 'Arch': 1, 'jon': 1, 'dea': 1, 'cheques': 1, 'Millward': 1, 'Iestyn': 1, 'Bulls': 1, 'stipulates': 1, 'Simms': 1, 'Wolfram': 1, 'Mulle': 1, 'Favourite': 1, 'tearful': 1, '47secs': 1, '96m': 1, 'Dale': 1, 'Gebre': 1, 'Gebremariam': 1, 'Dejene': 1, 'Berhanu': 1, 'Morpeth': 1, 'lasp': 1, 'asI': 1, 'Allyn': 1, 'thunder': 1, 'wobble': 1, 'swings': 1, 'Ashes': 1, 'satisfactorily': 1, 'Knowing': 1, 'strings': 1, 'acrimony': 1, 'unwavering': 1, 'Courier': 1, 'cools': 1, 'laurels': 1, 'richly': 1, 'capitulation': 1, 'sharpens': 1, 'dismantling': 1, 'blooming': 1, 'shoots': 1, 'sown': 1, 'coax': 1, 'ensue': 1, 'inconsistency': 1, 'demolition': 1, 'bemoaning': 1, 'Hooker': 1, 'underrated': 1, 'Holders': 1, 'dejected': 1, 'peformance': 1, 'Magath': 1, 'Leroy': 1, 'LDV': 1, 'Vans': 1, 'Disappointed': 1, 'Cagigal': 1, 'Haiti': 1, 'Titus': 1, 'bookable': 1, 'Sami': 1, 'Jermaine': 1, 'clandestine': 1, 'slapped': 1, 'Fatigue': 1, 'Internacional': 1, 'Venta': 1, 'Banos': 1, 'savours': 1, 'Saulius': 1, 'barged': 1, 'eclipse': 1, 'Becker': 1, 'Harel': 1, 'Okun': 1, 'FAI': 1, 'penultimate': 1, 'clashing': 1, 'Catt': 1, 'outclass': 1, 'glimpses': 1, 'omitted': 1, 'Question': 1, 'berths': 1, 'substitution': 1, 'unavailability': 1, 'Haughton': 1, 'Monye': 1, 'Roques': 1, 'mindset': 1, 'Kucera': 1, 'Karina': 1, 'Habsudova': 1, 'outclassed': 1, 'Spaniards': 1, 'dissatisfaction': 1, 'SFX': 1, 'Flushing': 1, 'Majors': 1, 'dwell': 1, 'scavenger': 1, 'refered': 1, 'prejudge': 1, 'Vassilis': 1, 'fazed': 1, 'overreacted': 1, 'halves': 1, 'slavishly': 1, 'Amadeo': 1, 'Fensao': 1, 'Cologne': 1, 'Verdict': 1, 'Michalis': 1, 'Dimitrakopoulos': 1, 'remonstrating': 1, 'condone': 1, 'Toon': 1, 'Jole': 1, 'nervy': 1, 'Stephane': 1, 'flare': 1, 'Bollan': 1, 'Balmer': 1, 'Arbuckle': 1, 'Gilhaney': 1, 'Malone': 1, 'Harty': 1, 'Teak': 1, 'rucks': 1, 'mauls': 1, 'Dogged': 1, 'banished': 1, 'ghosts': 1, 'jerseys': 1, 'indiscretion': 1, 'shortlived': 1, 'upfield': 1, 'Anticipation': 1, '32nd': 1, 'begrudge': 1, 'unaccountably': 1, 'Olympiad': 1, 'tongues': 1, 'wagging': 1, 'scraped': 1, 'delude': 1, 'transpired': 1, 'Cobhwoman': 1, 'achilles': 1, 'probem': 1, 'Catherina': 1, 'spikes': 1, 'candidly': 1, 'clubman': 1, 'happenings': 1, 'complying': 1, 'bowing': 1, 'spinner': 1, 'Stockport': 1, 'Crewe': 1, 'Matches': 1, 'Alasdair': 1, 'Strokosch': 1, 'verification': 1, 'Linvoy': 1, 'Aiyegbeni': 1, 'U21': 1, 'primed': 1, 'Emil': 1, 'Hallfredsson': 1, 'FH': 1, 'Hafnarfjordur': 1, 'majestic': 1, 'muscled': 1, 'beforehand': 1, 'choked': 1, 'Pool': 1, 'Cheslea': 1, 'salvaged': 1, 'swerving': 1, 'exert': 1, 'Icelandic': 1, 'acrobatically': 1, '210': 1, 'Pieter': 1, 'Henrik': 1, 'Santiago': 1, 'Solari': 1, 'Helguera': 1, 'Doblas': 1, 'Teessiders': 1, 'Gaizka': 1, 'Mendieta': 1, 'Federico': 1, 'drilled': 1, 'unstructured': 1, 'turnovers': 1, 'rugged': 1, 'Longo': 1, 'cortisone': 1, 'rods': 1, 'Walking': 1, 'Physio': 1, 'McEvoy': 1, 'Limerick': 1, 'acupuncture': 1, 'Needles': 1, 'Spala': 1, 'Korzeniowski': 1, 'nitrogen': 1, 'centigrade': 1, 'Lying': 1, 'pelvic': 1, 'tightens': 1, 'Dubliner': 1, 'Eastlands': 1, 'dishevelled': 1, 'Parente': 1, 'respecter': 1, 'Agnes': 1, 'Melanie': 1, '4x400m': 1, 'Nirupama': 1, 'cricketers': 1, 'Palancas': 1, 'Negras': 1, 'Etienne': 1, 'Cobh': 1, 'Provincial': 1, 'Nationals': 1, 'McCambridge': 1, 'Fionnualla': 1, 'Britton': 1, 'golds': 1, 'Foudy': 1, 'Classy': 1, 'medalist': 1, 'deceptively': 1, 'Toni': 1, 'Munoz': 1, 'Scrichapan': 1, 'Stavanger': 1, 'fervent': 1, 'stitches': 1, '2340': 1, 'calms': 1, 'unduly': 1, 'gunpowder': 1, 'decreed': 1, 'cousins': 1, 'huffed': 1, 'puffed': 1, 'IRFU': 1, 'oche': 1, 'gloat': 1, 'freshness': 1, 'yore': 1, 'Whitewashed': 1, 'downsized': 1, 'agreeable': 1, 'rubbed': 1, 'manor': 1, 'Displaying': 1, 'buffers': 1, 'pragmatist': 1, 'irreplaceable': 1, 'Michaella': 1, 'Krajicek': 1, 'Slovaks': 1, 'deputised': 1, 'Hudell': 1, 'Keenan': 1, 'Tillen': 1, 'untried': 1, 'Faultless': 1, 'Twice': 1, 'tasty': 1, 'stoked': 1, 'exuberant': 1, 'tiring': 1, 'tepid': 1, 'interrupting': 1, 'monotony': 1, 'inject': 1, 'Kiki': 1, 'Flood': 1, 'Automatic': 1, 'rejoins': 1, 'Walshe': 1, 'motivates': 1, 'tinkers': 1, 'clamours': 1, 'Malisse': 1, 'Delray': 1, 'aces': 1, 'Zib': 1, 'unimpressed': 1, 'Timbilil': 1, '22secs': 1, 'freak': 1, 'chomping': 1, 'Alec': 1, 'Kort': 1, 'Viljoen': 1, 'Emerick': 1, 'Sika': 1, 'Fee': 1, 'Timoteo': 1, 'Waasdorp': 1, 'Klerck': 1, 'Petruzzella': 1, 'Osentowski': 1, 'Gouws': 1, 'Mo': 1, 'unga': 1, 'Sherman': 1, 'Tuipulotu': 1, 'nutrition': 1, 'mystify': 1, 'Lamine': 1, 'Namibian': 1, 'Crossley': 1, 'nandrolone': 1, 'rucking': 1, 'problematical': 1, 'advocated': 1, 'Cherry': 1, 'rehab': 1, 'Ronaldino': 1, 'equalise': 1, 'Espanyol': 1, 'reduces': 1, 'Granclaude': 1, 'mars': 1, 'stretcher': 1, 'Boavista': 1, 'Financially': 1, 'RFL': 1, 'niggly': 1, 'Perreira': 1, 'recharged': 1, 'commits': 1, 'Aldershot': 1, 'Farnham': 1, 'Challenger': 1, 'Crawley': 1, 'Basildon': 1, '060': 1, 'decorum': 1, 'Islero': 1, 'bull': 1, 'bullfighter': 1, 'Manolete': 1, 'scapegoat': 1, 'Suspension': 1, '74th': 1, 'capitulate': 1, 'Reiziger': 1, 'Parlour': 1, 'Doriva': 1, 'Parnaby': 1, 'Jeffers': 1, 'destruct': 1, 'Inspirational': 1, 'honeymoons': 1, 'Reebok': 1, 'Bute': 1, '9km': 1, 'countrymen': 1, '407th': 1, 'quaking': 1, '187th': 1, 'fabrication': 1, '1600': 1, 'uninspired': 1, 'bas': 1, 'televising': 1, 'Wolverhampton': 1, 'Jorge': 1, 'Andrade': 1, 'Depor': 1, 'Reaction': 1, 'Journalist': 1, 'Guillem': 1, 'Balague': 1, 'culturalism': 1, 'nappies': 1, 'naivety': 1, 'yourselves': 1, 'miscreants': 1, 'ugliness': 1, 'volvi': 1, '243': 1, 'loco': 1, 'el': 1, 'Bernab': 1, 'chilling': 1, 'Casillas': 1, 'Marchena': 1, 'infirmary': 1, 'beams': 1, 'lauding': 1, 'Galacticos': 1, 'PS': 1, 'ejected': 1, 'perimeter': 1, 'Paphitis': 1, 'Faregas': 1, 'aplomb': 1, 'brilliance': 1, 'Subtitute': 1, 'nicked': 1, 'frustratingly': 1, 'sidefooted': 1, 'Matthieu': 1, 'penal': 1, 'Almeria': 1, 'Stefano': 1, 'Baldini': 1, 'Jaouad': 1, 'Gharib': 1, 'Tergat': 1, 'rigours': 1, 'vacated': 1, 'Nonu': 1, 'Laulala': 1, 'coasted': 1, 'Jermoe': 1, 'Keino': 1, 'Piri': 1, 'Weepu': 1, 'Dwyer': 1, 'Moldova': 1, 'Carrington': 1, 'Sardinia': 1, 'Ellery': 1, 'rehearse': 1, 'amibition': 1, 'anouncing': 1, 'Luigi': 1, 'Neri': 1, 'folded': 1, 'lapse': 1, 'Partizani': 1, 'Tirana': 1, 'Etchi': 1, 'DR': 1, 'Masudi': 1, 'Agoye': 1, 'Esperance': 1, 'deflects': 1, 'Lomana': 1, 'assessor': 1, 'Ormerod': 1, 'Kenton': 1, 'sorrow': 1, 'warriors': 1, 'finsihed': 1, 'Blomefontein': 1, 'vertical': 1, 'Galway': 1, 'wager': 1, 'sapping': 1, 'duel': 1, 'manged': 1, 'Kidney': 1, 'Armagh': 1, 'Londonderry': 1, 'YM': 1, 'Huey': 1, 'Hutchinson': 1, 'milkman': 1, 'mesmerising': 1, 'battering': 1, 'biting': 1, 'tribal': 1, 'scarred': 1, 'Principality': 1, 'overdrive': 1, 'emulating': 1, 'Juve': 1, 'Dinamo': 1, 'Villareal': 1, 'amibitions': 1, '264th': 1, 'hander': 1, 'Plaisir': 1, 'Mulhouse': 1, 'recuperating': 1, '117th': 1, '1871': 1, 'Heerenveen': 1, 'aggregate': 1, 'Chaunac': 1, 'Karlovic': 1, 'NIA': 1, 'berates': 1, 'fringes': 1, 'Added': 1, 'mounts': 1, 'thick': 1, 'oxymoron': 1, 'wtih': 1, 'adductor': 1, 'setter': 1, 'salvage': 1, 'proviso': 1, 'Frampton': 1, 'Deon': 1, 'Saux': 1, 'Svensson': 1, 'Oakley': 1, 'Staying': 1, 'BRENTFORD': 1, 'carrot': 1, 'Docherty': 1, 'Cottage': 1, 'QUARTER': 1, 'FINALS': 1, 'talker': 1, 'lonely': 1, 'moulded': 1, 'Goal': 1, 'retirements': 1, 'golfers': 1, 'fairway': 1, 'commencing': 1, 'outwardly': 1, 'playmaker': 1, 'athleticism': 1, 'Newcombe': 1, 'Lendl': 1, 'Rafter': 1, 'escalated': 1, 'sniffing': 1, 'Duffer': 1, 'volleys': 1, 'Algemeen': 1, 'Dagblad': 1, 'Dacourt': 1, 'fractures': 1, '113th': 1, 'Pharaohs': 1, 'Tardelli': 1, 'overreact': 1, 'Berdych': 1, 'Nicoals': 1, 'Gonzaelz': 1, 'Belgians': 1, 'SW19': 1, 'priceless': 1, 'prioritises': 1, 'rocky': 1, 'solidifies': 1, 'calming': 1, 'messing': 1, 'victorious': 1, 'Pascoe': 1, 'Anyway': 1, 'Redgrave': 1, 'Hospices': 1, 'Leukaemia': 1, 'Toffees': 1, '81st': 1, 'Unseeded': 1, 'Zabaleta': 1, 'outmuscled': 1, 'numerically': 1, 'shaved': 1, 'Galmier': 1, 'assesses': 1, 'Quinton': 1, 'chorus': 1, 'idolised': 1, 'Heintze': 1, 'hesitated': 1, 'Pistone': 1, 'Plessis': 1, 'Styles': 1, 'beatable': 1, 'Hind': 1, 'Dehiba': 1, 'Cherkasova': 1, 'compounded': 1, 'venting': 1, 'Cheetham': 1, 'Ramsay': 1, 'Christchurch': 1, 'miscounted': 1, '63m': 1, 'Bees': 1, 'cups': 1, 'Jauregi': 1, 'pectoral': 1, 'signings': 1, 'departures': 1, 'invigorate': 1, 'ultimatum': 1, 'LaShawn': 1, 'Fayetteville': 1, 'Invitational': 1, 'Bershawn': 1, '1200m': 1, '19secs': 1, 'hungrier': 1, 'appreciative': 1, 'epitomises': 1, 'peacemakers': 1, 'aggressors': 1, 'paragons': 1, 'Deco': 1, 'fewest': 1, 'freshen': 1, 'Alyona': 1, 'erupted': 1, 'clipped': 1, 'Archie': 1, 'McLaughlin': 1, 'Pollock': 1, 'amalgamated': 1, 'Gnoll': 1, 'Howley': 1, 'Leyton': 1, 'Haslam': 1, 'Dimech': 1, 'Artell': 1, 'Corden': 1, 'Warne': 1, 'McIntosh': 1, 'Wardley': 1, 'Newey': 1, 'Zakuani': 1, 'McMahon': 1, '803': 1, 'ridiculously': 1, 'thinker': 1, 'scoreless': 1, 'betray': 1, 'engendered': 1, 'botch': 1, 'dispense': 1, 'industrious': 1, 'straying': 1, 'unerring': 1, 'Banned': 1, 'Operative': 1, 'narcolepsy': 1, 'cheat': 1, 'Marta': 1, 'Fipro': 1, 'cheapened': 1, 'diabolical': 1, 'savoured': 1, 'triumphs': 1, 'Wollaton': 1, 'Eleni': 1, 'Daniilidou': 1, 'Frenchwoman': 1, 'Camille': 1, 'Pin': 1, 'Fabiola': 1, 'Zuluaga': 1, 'Golovin': 1, 'Frazier': 1, 'Magdalena': 1, 'Flavia': 1, 'Pennetta': 1, 'cute': 1, 'Dodds': 1, '661': 1, 'Molineux': 1, '1100': 1, 'reintroduced': 1, 'reckoned': 1, 'aided': 1, 'Baltacha': 1, 'commentating': 1, 'Purely': 1, 'nip': 1, 'tuck': 1, 'papered': 1, 'hairy': 1, 'Schwarzer': 1, 'Edwin': 1, 'Sar': 1, 'Frey': 1, 'cheekbone': 1, 'Rui': 1, 'Kaka': 1, 'goalscoring': 1, 'talisman': 1, 'accommodated': 1, 'substitutions': 1, 'Koeman': 1, 'Tonny': 1, 'Bruins': 1, 'Slot': 1, 'Krol': 1, 'hammers': 1, 'MUTV': 1, 'sidesteps': 1, 'howitzer': 1, 'Valleys': 1, 'craved': 1, 'salvo': 1, 'nonchantly': 1, 'toying': 1, 'savouring': 1, 'glided': 1, 'relished': 1, 'ado': 1, 'nervelessly': 1, 'spikey': 1, 'freshly': 1, 'gelled': 1, 'drags': 1, 'tendinitis': 1, 'Rodick': 1, 'shuts': 1, 'spearate': 1, 'dismantles': 1, 'inexperience': 1, 'romp': 1, 'collar': 1, 'Vahid': 1, 'Maccabi': 1, 'Judo': 1, 'Campell': 1, 'silvers': 1, 'Macey': 1, 'Abi': 1, 'Oyepitan': 1, 'discus': 1, 'compatriots': 1, 'stanozolol': 1, 'livened': 1, 'cobblestones': 1, 'tumbling': 1, 'mistiming': 1, 'Bollesan': 1, 'Woodman': 1, 'socket': 1, 'excelled': 1, 'cente': 1, 'immaculate': 1, 'Djibril': 1, 'excites': 1, 'Keothavong': 1, 'thrower': 1, 'Celts': 1, 'savour': 1, 'heady': 1, 'ignominy': 1, 'phalanx': 1, 'tenterhooks': 1, 'blossoming': 1, 'dawns': 1, 'romantics': 1, 'ideals': 1, 'Willems': 1, 'Hyuung': 1, 'Patience': 1, 'Seeds': 1, 'Phau': 1, 'Melissa': 1, 'Adere': 1, 'strode': 1, 'ominously': 1, 'collided': 1, 'scotch': 1, 'precaution': 1, 'homesick': 1, 'impersonated': 1, 'Marlene': 1, 'Weingartner': 1, 'Barwick': 1, 'punctuated': 1, 'Mikael': 1, 'intimidate': 1, 'stuttered': 1, 'devoid': 1, 'pacy': 1, 'tame': 1, 'Kabba': 1, 'Haystead': 1, 'Eboue': 1, '595': 1, 'Illston': 1, 'evidentiary': 1, 'congressional': 1, 'admissibility': 1, 'Playboyz': 1, 'Maniacs': 1, 'cassette': 1, 'grandma': 1, 'Guinevere': 1, 'Knightly': 1, 'Winstone': 1, 'Schama': 1, 'peeled': 1, 'odes': 1, 'misprints': 1, 'Brains': 1, 'gardens': 1, 'reciting': 1, 'revue': 1, 'Tele': 1, 'Ho': 1, 'Whittington': 1, 'Nickleby': 1, 'Astell': 1, 'pantos': 1, 'Secombe': 1, 'gardening': 1, 'whimsical': 1, 'droll': 1, 'sorely': 1, 'Banderas': 1, 'Broccoli': 1, 'Neal': 1, 'Purvis': 1, 'Wade': 1, 'Simultaneously': 1, 'sadistic': 1, 'nemesis': 1, 'Chiffre': 1, 'McGurk': 1, 'Professionals': 1, 'Minder': 1, 'Bergerac': 1, 'Vertical': 1, 'Limit': 1, 'gobsmacked': 1, 'Predicted': 1, 'Xfm': 1, 'unheard': 1, 'Anjelica': 1, 'hindsight': 1, 'stalkers': 1, 'handmade': 1, 'pearl': 1, 'sapphire': 1, 'carat': 1, 'sapphires': 1, 'lamented': 1, 'quad': 1, 'colon': 1, 'childrens': 1, 'burglary': 1, 'accomplice': 1, '0845': 1, '555': 1, 'insidious': 1, 'Partly': 1, 'Season': 1, 'Shakespearean': 1, 'Whatsonstage': 1, 'Chosen': 1, 'Edna': 1, '881m': 1, '468m': 1, '576m': 1, '306m': 1, 'timeslot': 1, 'unsigned': 1, 'Above': 1, 'Tuesdays': 1, 'Wyman': 1, 'outselling': 1, 'Galvanize': 1, 'Feeder': 1, 'Picked': 1, 'Lagaan': 1, 'Spurred': 1, 'throbs': 1, 'Barrels': 1, 'Annabelle': 1, 'bilingual': 1, 'Dil': 1, 'Bhi': 1, 'Kahey': 1, 'Amitabh': 1, 'Bachchan': 1, 'eastwards': 1, 'sweetheart': 1, 'Mogwai': 1, 'Fanclub': 1, 'braved': 1, 'boasted': 1, 'waltzing': 1, 'ballroom': 1, 'swollen': 1, 'glands': 1, 'Dobson': 1, 'apologising': 1, 'Mogul': 1, 'gambles': 1, 'Mission': 1, 'Impossible': 1, 'Enigma': 1, 'Bana': 1, 'Enterprises': 1, 'CKX': 1, 'Degeneres': 1, 'Milian': 1, 'Latifah': 1, 'Foreverman': 1, 'Briggs': 1, 'evergreen': 1, 'Burnett': 1, 'enlists': 1, 'Knightley': 1, 'Samuelson': 1, 'Calendar': 1, 'Believe': 1, 'Breath': 1, 'Misunderstood': 1, 'humming': 1, 'muso': 1, 'posteriors': 1, 'disused': 1, 'rename': 1, 'raiding': 1, 'arresting': 1, 'contravening': 1, 'abatement': 1, 'Domino': 1, 'Smog': 1, 'Sebadoh': 1, 'Tet': 1, 'eluded': 1, 'deliciously': 1, 'neurotic': 1, 'surburban': 1, 'Outdoors': 1, 'Akroyd': 1, 'seductive': 1, 'Myra': 1, 'Grifters': 1, 'contrasting': 1, 'recreates': 1, '1728': 1, 'Cantata': 1, 'BWV': 1, 'Chieko': 1, 'Hara': 1, 'cantata': 1, 'soprano': 1, 'alto': 1, 'Rubik': 1, 'cube': 1, 'beheaded': 1, 'condemning': 1, 'Scholls': 1, 'transcripts': 1, 'Gestapo': 1, 'interrogations': 1, 'township': 1, '277th': 1, 'Advocate': 1, 'Idaho': 1, 'inventor': 1, 'Vin': 1, 'Diesel': 1, 'Pacifier': 1, 'Hostage': 1, 'Newmarket': 1, 'Thrills': 1, 'gutted': 1, 'greed': 1, 'Merle': 1, 'congestive': 1, 'Wolverton': 1, 'crediting': 1, 'Spinal': 1, 'Tap': 1, 'Curzon': 1, '2046': 1, 'directorial': 1, 'Books': 1, 'Tamsin': 1, 'Greig': 1, 'Hat': 1, 'Trick': 1, 'Kumars': 1, 'Aspect': 1, 'wintry': 1, 'carol': 1, 'hats': 1, 'mince': 1, 'pies': 1, 'Gollum': 1, 'Zemeckis': 1, 'Castaway': 1, '291': 1, 'Adrien': 1, 'Brody': 1, 'Schindler': 1, 'Menace': 1, 'Malley': 1, 'Stranmillis': 1, 'embankment': 1, 'SoHo': 1, 'Glens': 1, 'Antrim': 1, 'sermons': 1, 'thumping': 1, 'Gambon': 1, 'Endgame': 1, 'Pryce': 1, 'Whishaw': 1, 'Emilia': 1, 'longtime': 1, 'ephemera': 1, 'Hussain': 1, 'Zaidi': 1, 'Mihir': 1, 'Grindley': 1, 'Spilled': 1, 'Biscuit': 1, 'illustrations': 1, 'Eccleshare': 1, 'crucified': 1, 'Magdalene': 1, 'Conspiracy': 1, 'theories': 1, 'fantasise': 1, 'Christianity': 1, 'manuscripts': 1, 'gospels': 1, 'Testament': 1, 'Virgil': 1, 'Tacitus': 1, 'Rican': 1, 'Mavis': 1, 'perched': 1, 'sofas': 1, 'clutter': 1, 'gregarious': 1, 'peculiarly': 1, 'unshowbusiness': 1, 'sipped': 1, 'smoked': 1, 'scarf': 1, 'Aladdin': 1, 'ostentation': 1, 'eccentricity': 1, 'Toothbrush': 1, 'Sofas': 1, 'upholstered': 1, 'stripy': 1, 'deckchair': 1, 'bartering': 1, 'Vintage': 1, 'Raquel': 1, 'toothbrushes': 1, 'curiosity': 1, 'trickle': 1, 'Burgess': 1, 'Wedgburg': 1, 'archivist': 1, 'Jody': 1, 'Riders': 1, 'Storm': 1, 'apartment': 1, 'coroner': 1, 'Pere': 1, 'Lachaise': 1, 'crowed': 1, 'screamed': 1, 'darkness': 1, 'Dream': 1, 'Lover': 1, 'Hoskins': 1, 'Brenda': 1, 'Blethyn': 1, 'Holly': 1, 'Frankin': 1, 'Bloopers': 1, 'rape': 1, 'spiked': 1, 'Broadus': 1, 'Gin': 1, 'Juice': 1, 'dumbed': 1, 'Aren': 1, 'Fools': 1, 'Horses': 1, 'vegetating': 1, 'f': 1, 'slamming': 1, 'fussy': 1, 'makeup': 1, 'Palme': 1, 'mythical': 1, 'Tinseltown': 1, 'Symphony': 1, 'Gennaro': 1, 'Castaldo': 1, 'Orkneys': 1, 'benchmarks': 1, '204': 1, '109m': 1, 'Noise': 1, 'Penski': 1, 'mortem': 1, 'Than': 1, 'vie': 1, 'dossiers': 1, 'stalked': 1, 'mistaken': 1, 'emails': 1, 'strangers': 1, 'respiratory': 1, 'emphysema': 1, 'Carsoni': 1, 'Alpine': 1, 'Austrians': 1, 'Edelweiss': 1, 'filmgoers': 1, 'kitsch': 1, 'yodelling': 1, 'herds': 1, 'lederhosen': 1, 'Viennese': 1, 'Volksoper': 1, 'novice': 1, 'nun': 1, 'Austro': 1, 'foyer': 1, 'adornments': 1, 'dimmed': 1, 'ArtWorks': 1, 'photography': 1, 'mundane': 1, 'jammed': 1, 'wonky': 1, 'displacing': 1, 'whisked': 1, 'Handler': 1, 'Olaf': 1, 'Teja': 1, 'Bout': 1, 'Rah': 1, 'Digga': 1, 'See': 1, 'NSPCC': 1, 'fickle': 1, 'motherhood': 1, 'mysticism': 1, 'erotica': 1, 'Biography': 1, 'uninterrupted': 1, 'bulletins': 1, 'Sold': 1, 'Disputed': 1, 'Nevermind': 1, 'Krist': 1, 'Novoselic': 1, 'Grohl': 1, 'Smells': 1, 'Teen': 1, 'pops': 1, 'PL': 1, 'Absolute': 1, 'Ark': 1, 'Lamda': 1, 'Songwriter': 1, 'Yoxall': 1, 'Value': 1, 'Feargal': 1, 'Sharkey': 1, 'Lucie': 1, 'Copyright': 1, 'oiled': 1, 'Backstage': 1, 'Bittersweet': 1, 'Lomas': 1, 'Mower': 1, 'outwards': 1, 'Salles': 1, 'Selma': 1, 'wrangle': 1, 'Creation': 1, 'caricatures': 1, 'Roni': 1, 'Asha': 1, 'Minghella': 1, 'Bonham': 1, 'BIFA': 1, 'Earring': 1, 'Birthistle': 1, 'Ae': 1, 'Fond': 1, 'Kiss': 1, 'Seasoned': 1, 'Pavlikowsky': 1, 'Auditions': 1, 'Hobbits': 1, 'Warchus': 1, 'withdraws': 1, 'fictitious': 1, 'Alcoholism': 1, 'collaborator': 1, 'doorway': 1, 'spiders': 1, 'Plain': 1, 'Jealous': 1, 'Xzibit': 1, 'Tor': 1, 'Valle': 1, 'bicycles': 1, 'skateboards': 1, 'Doubt': 1, 'Pharrell': 1, 'Colosseum': 1, 'laboratories': 1, 'forensics': 1, 'backlogged': 1, 'toxicology': 1, 'instantaneously': 1, 'jittery': 1, 'Weissler': 1, 'fiscally': 1, 'Boyzone': 1, 'Gibb': 1, 'Olivia': 1, 'enormity': 1, 'suddenness': 1, 'aimlessly': 1, 'Islamist': 1, 'Photographer': 1, 'Booy': 1, 'burgle': 1, 'underestimated': 1, 'compound': 1, '0300': 1, 'Feminist': 1, 'carved': 1, 'Bless': 1, 'Hove': 1, 'Cazalets': 1, 'booksellers': 1, 'braced': 1, 'skeletons': 1, 'synopsis': 1, 'Ontario': 1, '466': 1, 'excerpt': 1, 'Northwest': 1, 'Made': 1, 'NX': 1, 'coupon': 1, 'Fan': 1, 'Dudas': 1, 'disobeys': 1, 'Antoine': 1, 'Fuqua': 1, 'Bunuel': 1, 'Crusoe': 1, 'Macduff': 1, 'Orson': 1, 'Welles': 1, 'Meghan': 1, 'Dirrty': 1, 'jeweller': 1, 'Wash': 1, 'Kokomo': 1, 'Cocktail': 1, 'Tambourine': 1, 'Gram': 1, 'Mamas': 1, 'Papas': 1, 'Chords': 1, 'mule': 1, 'smuggles': 1, 'swallowing': 1, 'pellets': 1, 'condoms': 1, 'Plaudits': 1, 'Bogota': 1, 'Pietro': 1, 'quirkier': 1, 'Alejandro': 1, 'Amenabar': 1, 'reimbursed': 1, 'Outrageous': 1, 'Jive': 1, 'milestones': 1, 'hypnotic': 1, 'Kowalski': 1, 'Malloy': 1, 'annals': 1, 'Brokaw': 1, 'anchor': 1, 'freefall': 1, 'Unsure': 1, 'affiliates': 1, 'applauds': 1, 'Raoul': 1, 'Peck': 1, 'Kigali': 1, 'exponents': 1, 'Move': 1, 'displace': 1, 'spans': 1, 'Southernplayalisticadillacmuzik': 1, 'aeroplane': 1, 'stewardess': 1, 'soulman': 1, 'blasphemy': 1, 'bridgetothestars': 1, 'Subtle': 1, 'Amber': 1, 'Spyglass': 1, 'Lyra': 1, 'Belacqua': 1, 'iconoclastic': 1, 'modification': 1, 'guises': 1, 'Brooker': 1, 'webmaster': 1, 'guerrilla': 1, 'facilitating': 1, 'node': 1, 'hates': 1, 'Germano': 1, 'mastered': 1, 'Whitney': 1, 'Bodyguard': 1, 'stub': 1, 'Rest': 1, 'accoustic': 1, 'Been': 1, 'ruptured': 1, 'aneurysm': 1, 'Wolstenholme': 1, 'Teignmouth': 1, 'Gothic': 1, 'Plague': 1, 'Penalty': 1, 'Rocket': 1, 'Absolution': 1, 'Hysteria': 1, 'Butterflies': 1, 'Hurricanes': 1, 'Celebrating': 1, 'beaded': 1, 'gunpoint': 1, 'jock': 1, 'cancels': 1, 'halftime': 1, 'Elephant': 1, 'Buju': 1, 'Killer': 1, 'TOK': 1, 'Capleton': 1, 'Vybz': 1, 'Kartel': 1, 'picketing': 1, 'VP': 1, 'Jammins': 1, 'bleeps': 1, 'disapproved': 1, 'vicissitudes': 1, 'sarin': 1, 'visibility': 1, 'erected': 1, 'canopy': 1, 'receded': 1, 'mink': 1, 'eyelashes': 1, 'Danner': 1, '165': 1, 'Masala': 1, 'mesmerised': 1, 'intuition': 1, 'visceral': 1, 'irresistibility': 1, 'underfed': 1, 'luminosity': 1, 'fleshiness': 1, 'bosom': 1, 'carts': 1, 'carriage': 1, 'frontwoman': 1, 'Matronic': 1, 'Siouxsie': 1, 'Sioux': 1, 'LP': 1, 'sisterhood': 1, 'siblings': 1, 'duetted': 1, 'Addicted': 1, 'speechless': 1, 'facsimile': 1, 'Listened': 1, 'Robs': 1, 'Perfection': 1, 'Buzzcocks': 1, 'Fallen': 1, 'Kinky': 1, 'Afro': 1, 'McAlmont': 1, 'claptrap': 1, 'lyrically': 1, 'Cunning': 1, 'Rubbish': 1, 'boringly': 1, 'Him': 1, 'discos': 1, 'Wuthering': 1, 'Heights': 1, 'aspirational': 1, 'orrible': 1, 'Folks': 1, 'folks': 1, 'picnic': 1, 'mediocrity': 1, 'ANYTHING': 1, 'Nope': 1, 'Predictable': 1, 'brainwashed': 1, 'pulp': 1, 'presneted': 1, 'pleeease': 1, 'embarassment': 1, 'coffin': 1, 'Anybody': 1, 'Bites': 1, 'Karaoke': 1, 'rounder': 1, 'ridiculuous': 1, 'Sigh': 1, 'disputing': 1, 'Suede': 1, 'bargaining': 1, 'moguls': 1, 'baffling': 1, 'discisions': 1, 'artisic': 1, 'Compares': 1, 'requesting': 1, 'Dragoon': 1, 'Amazing': 1, 'Requiem': 1, 'Wanting': 1, 'Heathers': 1, 'Hood': 1, 'Thieves': 1, 'Ethel': 1, 'Leveaux': 1, 'Lange': 1, 'domineering': 1, 'Wingfield': 1, '322m': 1, 'Pierson': 1, 'commercialisation': 1, 'Amadeus': 1, 'Killing': 1, 'Fields': 1, 'Eyeballs': 1, '436m': 1, '259m': 1, 'Nikki': 1, 'Rocco': 1, 'glorify': 1, 'Marchak': 1, 'Raft': 1, 'brushstroke': 1, 'Rhythm': 1, 'Outkast': 1, 'pigeonholing': 1, 'syncopated': 1, 'melody': 1, 'bebop': 1, 'ragtime': 1, 'Tuff': 1, 'Sucks': 1, 'hay': 1, 'Ty': 1, 'btw': 1, 'Nonsense': 1, 'RnB': 1, 'Crunk': 1, 'clumping': 1, 'oversensitive': 1, 'despise': 1, 'northing': 1, 'Same': 1, 'Terri': 1, 'Benson': 1, 'Refreshing': 1, 'characterise': 1, 'Sideway': 1, 'Shawshank': 1, 'Darabont': 1, 'Kane': 1, 'Matter': 1, 'TOTP2': 1, 'Ballykissangel': 1, 'afterlife': 1, 'serpent': 1, 'Karloff': 1, 'Inspired': 1, 'sensibility': 1, 'getaway': 1, 'Coincidentally': 1, 'Armenian': 1, 'butcher': 1, 'guerilla': 1, 'Primal': 1, 'Scream': 1, 'badlands': 1, 'Processed': 1, 'Beats': 1, 'Cutt': 1, 'spar': 1, 'Break': 1, 'raunch': 1, 'Jeannie': 1, 'vile': 1, 'filthy': 1, 'Herre': 1, 'Dilemma': 1, 'chum': 1, 'Nina': 1, 'Neighbours': 1, 'Cher': 1, 'Luna': 1, 'fairground': 1, 'Electra': 1, 'Imbruglia': 1, 'flautist': 1, 'Horowitz': 1, 'Yauch': 1, 'Sampling': 1, 'flutist': 1, 'Evanescence': 1, 'Anywhere': 1, 'Brownsville': 1, '660': 1, 'Marts': 1, 'Wind': 1, 'Untouchables': 1, 'Skillset': 1, 'underpinned': 1, 'fictionalised': 1, 'Paraguayan': 1, 'contagious': 1, 'wildfire': 1, 'Censors': 1, 'snobbery': 1, 'napkin': 1, 'Hautman': 1, 'Godless': 1, 'Brockstein': 1, 'stalk': 1, 'Commitments': 1, 'weave': 1, 'Gale': 1, 'veritable': 1, 'Shape': 1, 'tug': 1, 'Salt': 1, 'misfit': 1, 'Stoppard': 1, 'Curb': 1, 'Enthusiasm': 1, 'Buffalo': 1, 'furlong': 1, 'Paltrow': 1, 'mudslides': 1, 'rained': 1, 'Pavlik': 1, 'Funny': 1, 'Pam': 1, 'Luc': 1, 'Bondy': 1, 'Tender': 1, 'Wishaw': 1, 'Eldridge': 1, 'Wintour': 1, 'bursary': 1, 'Anniversary': 1, 'Surprise': 1, 'Pasadena': 1, 'backstage': 1, 'backer': 1, 'Terzian': 1, 'Academie': 1, 'Techniques': 1, 'Auteuil': 1, 'Amalric': 1, 'Torreton': 1, 'Equipier': 1, 'Poelvoorde': 1, 'Podium': 1, 'Emmanuelle': 1, 'Devos': 1, 'Yolande': 1, 'Moreau': 1, 'Karin': 1, 'Viard': 1, 'Dutronc': 1, 'Eurythmics': 1, 'lowly': 1, 'Female': 1, 'Breakthrough': 1, 'Artist': 1, 'Mersey': 1, 'civilly': 1, 'rigueur': 1, 'Roderick': 1, 'Lindblom': 1, 'Chadti': 1, 'Jawani': 1, 'Grogin': 1, 'Creatively': 1, 'plank': 1, 'comptroller': 1, 'bestsellers': 1, 'daydreaming': 1, 'visualised': 1, 'Diagnosis': 1, 'Nassau': 1, 'Wheels': 1, 'Moneychangers': 1, 'Overload': 1, 'Providence': 1, 'Celine': 1, 'Dion': 1, 'Bucks': 1, 'Fizz': 1, 'Nana': 1, 'Mouskouri': 1, 'Lulu': 1, 'Iglesias': 1, 'pitting': 1, 'parade': 1, 'Salman': 1, 'Rushdie': 1, 'Coetzee': 1, 'Kazuo': 1, 'Ishiguro': 1, 'trivialises': 1, 'impostor': 1, 'vetted': 1, 'Roots': 1, 'Branches': 1, 'Reflections': 1, 'Hoobastank': 1, 'Seacrest': 1, 'juror': 1, 'sensationalist': 1, '33m': 1, 'plying': 1, 'molesting': 1, 'gatherings': 1, 'showering': 1, 'unprintable': 1, 'glitzy': 1, 'Unsurprisingly': 1, 'tents': 1, 'cert': 1, 'ton': 1, 'pep': 1, 'assaulting': 1, 'bodyguard': 1, 'protegees': 1, 'ER': 1, 'Alias': 1, 'laud': 1, 'Castor': 1, 'detectives': 1, 'sitcoms': 1, 'Moms': 1, 'Contender': 1, 'moderately': 1, 'makeovers': 1, 'yesteryear': 1, 'puppets': 1, 'reviewers': 1, 'CG': 1, 'airbrushes': 1, 'trippy': 1, 'otherworldliness': 1, 'Papamichael': 1, 'repackaging': 1, 'backfiring': 1, 'Soup': 1, 'tabby': 1, 'Yaffle': 1, 'Mice': 1, 'Marvellous': 1, 'Organ': 1, 'Furry': 1, 'recyclers': 1, 'Wombling': 1, 'Advances': 1, 'buccaneer': 1, 'Catweazle': 1, 'Gandalf': 1, 'sacred': 1, 'Tops': 1, 'grearest': 1, 'entice': 1, 'Leave': 1, 'sarcastic': 1, 'Dougal': 1, 'smiled': 1, 'american': 1, 'pludering': 1, 'clipping': 1, 'Character': 1, 'Muffin': 1, 'Mule': 1, 'grannies': 1, 'grandpas': 1, 'UFO': 1, 'Scarlet': 1, 'Saphire': 1, 'misty': 1, 'eyed': 1, 'Mungo': 1, 'Midge': 1, 'mysterious': 1, 'remodel': 1, 'expat': 1, 'twitch': 1, 'Repackage': 1, 'extortionate': 1, 'Till': 1, 'Citreon': 1, 'Trap': 1, 'Rushden': 1, 'clowns': 1, 'Krusty': 1, 'Gobo': 1, 'miserably': 1, 'Find': 1, 'Supermarionation': 1, 'seam': 1, 'childhoods': 1, 'peoples': 1, 'g': 1, 'Starsky': 1, 'saturated': 1, 'drivel': 1, 'Paranoid': 1, 'Pistols': 1, 'glam': 1, 'Judas': 1, 'Priest': 1, 'Lostprophets': 1, 'flower': 1, 'gravestone': 1, 'cemetery': 1, 'catsuit': 1, 'churning': 1, 'edginess': 1, 'youthful': 1, 'Drummer': 1, 'Hewson': 1, 'Feedback': 1, 'Hype': 1, 'coarse': 1, 'scouts': 1, 'Achtung': 1, 'Zooropa': 1, 'corresponding': 1, 'olives': 1, 'egos': 1, 'MacPhisto': 1, 'BARD': 1, 'carpets': 1, 'mothballed': 1, 'conspicuously': 1, 'eclectic': 1, 'attain': 1, 'Pusan': 1, 'awfully': 1, 'Kinnarees': 1, 'Bets': 1, 'adjudicator': 1, 'Quo': 1, 'Proof': 1, 'Lantern': 1, 'Obie': 1, 'Trice': 1, 'Mosh': 1, 'tirade': 1, 'crotch': 1, 'gestures': 1, 'Fines': 1, '266': 1, '582': 1, 'profanities': 1, 'revoke': 1, 'Brownbeck': 1, '788': 1, '439': 1, 'Masahiro': 1, 'Matsuoka': 1, 'Ryuhei': 1, 'Kitamura': 1, 'prehistoric': 1, 'lizard': 1, 'atomic': 1, 'Rocker': 1, 'frenzied': 1, 'Killamangiro': 1, 'guards': 1, 'disconnect': 1, 'punches': 1, 'Bouncers': 1, 'occurrence': 1, 'Carlish': 1, 'Monterey': 1, 'auctioneers': 1, 'Cafe': 1, 'Joko': 1, 'Jakamoko': 1, 'Toto': 1, 'Collingwood': 1, 'Thinking': 1, 'Tartan': 1, 'Turban': 1, 'Balamory': 1, 'Brush': 1, 'Featherboy': 1, 'Desert': 1, 'Daughter': 1, 'highbrow': 1, 'Author': 1, 'Clocking': 1, 'fairytale': 1, 'Parken': 1, 'Mermaid': 1, 'Keitel': 1, 'Pele': 1, 'roms': 1, 'Chango': 1, 'Spasiuk': 1, 'Eliza': 1, 'Carthy': 1, 'Zephaniah': 1, 'Malian': 1, 'Tinariwen': 1, 'nomadic': 1, 'Bebo': 1, 'Valdes': 1, 'flamenco': 1, 'Cigala': 1, 'Lagrimas': 1, 'Negrasmusic': 1, 'Planet': 1, 'Sulimanovic': 1, 'Cirkus': 1, 'Trouper': 1, 'SOS': 1, 'mirroring': 1, 'OneMusic': 1, 'Saturdays': 1, 'Lamacq': 1, 'heir': 1, 'Kember': 1, 'totallyradio': 1, 'knowledgeable': 1, 'nipple': 1, 'rocking': 1, 'limos': 1, 'sunshine': 1, 'idols': 1, 'Screaming': 1, 'sparkled': 1, 'sequins': 1, 'Shivering': 1, 'shimmering': 1, 'Armani': 1, 'Wearing': 1, 'caramel': 1, 'floaty': 1, 'frock': 1, 'headaches': 1, '1922': 1, 'westerns': 1, 'sate': 1, 'syllables': 1, 'discouraged': 1, 'shades': 1, 'Joan': 1, 'swansong': 1, 'superteam': 1, 'nerdy': 1, 'irradiated': 1, 'affectionately': 1, 'Thor': 1, 'grappled': 1, 'Kirby': 1, 'Romitaand': 1, 'Northstar': 1, 'closet': 1, 'Purveyors': 1, 'claws': 1, 'whore': 1, 'hunted': 1, 'WHEN': 1, 'WHERE': 1, 'banquet': 1, 'Dorothy': 1, 'Shrine': 1, 'Auditorium': 1, 'OSCAR': 1, 'overheard': 1, '1939': 1, 'statues': 1, 'SITS': 1, 'IN': 1, 'JUDGEMENT': 1, 'STARS': 1, 'LEFT': 1, 'EMPTY': 1, 'HANDED': 1, 'Searchers': 1, 'Jolson': 1, 'Humphrey': 1, 'Bogart': 1, 'Casablanca': 1, '1944': 1, 'Singing': 1, 'Fonda': 1, 'Hitchcock': 1, 'SHOW': 1, 'ALWAYS': 1, 'GOES': 1, 'ON': 1, 'Sacheen': 1, 'Littlefeather': 1, 'streaked': 1, 'bounded': 1, 'Cavalcade': 1, 'Kurosawa': 1, 'painkiller': 1, 'oxycodone': 1, 'Bean': 1, 'Mutant': 1, 'varieties': 1, 'cultured': 1, 'trek': 1, 'Teeth': 1, 'Zadie': 1, 'Bastille': 1, 'Fondation': 1, 'Enfance': 1, 'Childhood': 1, 'accompaniment': 1, 'Bratt': 1, 'budding': 1, 'Ellie': 1, 'Jury': 1, 'Carruth': 1, 'conterfeit': 1, 'trademarks': 1, 'counterfeiters': 1, 'flailing': 1, 'demolish': 1, 'Hurosawa': 1, 'tent': 1, 'Hampden': 1, 'Bellahouston': 1, 'Cave': 1, 'readings': 1, 'Genet': 1, 'Proust': 1, 'exploitative': 1, 'Pinks': 1, 'Pleasure': 1, 'Greco': 1, 'Landscape': 1, 'Tolstoy': 1, 'Urbino': 1, 'Caravaggio': 1, 'Rubens': 1, 'Tussauds': 1, 'Alton': 1, 'savaged': 1, 'Bruckheimer': 1, 'Gera': 1, 'Aries': 1, 'Gazetta': 1, 'Joaquim': 1, 'Sahundi': 1, 'detaching': 1, 'Screenwriter': 1, 'trailblazed': 1, 'Resurrection': 1, 'Curse': 1, 'Lynda': 1, 'Obst': 1, 'Babysitting': 1, 'Clue': 1, 'Cluedo': 1, 'spoiled': 1, 'Emmy': 1, 'deplorable': 1, 'stupidity': 1, 'Barratie': 1, 'Chook': 1, 'Cursed': 1, 'werewolf': 1, 'ranger': 1, 'cheerleader': 1, 'Madea': 1, 'Port': 1, 'trodden': 1, 'jewel': 1, 'estimation': 1, 'assassin': 1, 'benefactors': 1, 'uncredited': 1, '885': 1, '611': 1, 'Un': 1, 'Dimanche': 1, 'Fiancailles': 1, 'Exodus': 1, 'truncated': 1, 'correspond': 1, 'firstly': 1, 'Distance': 1, 'Emmer': 1, 'dale': 1, 'Primetime': 1, 'goings': 1, 'Kentucky': 1, '52s': 1, 'Jump': 1, 'Scissorhands': 1, 'blades': 1, 'Eating': 1, 'Grape': 1, 'retarded': 1, 'Brave': 1, 'snuff': 1, 'Gilliam': 1, 'Loathing': 1, 'Sleepy': 1, 'Hollow': 1, 'Chocolat': 1, 'mannerisms': 1, 'streetwise': 1, 'Pirate': 1, 'Material': 1, 'revelatory': 1, 'notables': 1, 'Zutons': 1, '40th': 1, '44th': 1, 'Alison': 1, 'headlining': 1, 'Sugababes': 1, 'Ock': 1, 'Gigantic': 1, 'torment': 1, 'Tobey': 1, 'Dunst': 1, 'Molina': 1, 'blooper': 1, 'leans': 1, 'Grit': 1, 'Hellraisers': 1, 'dabbled': 1, 'Nashville': 1, 'RPM': 1, 'dysfunctions': 1, 'Confirmation': 1, 'Eccleshall': 1, 'Promotions': 1, 'Coordinator': 1, '4pm': 1, 'chiefly': 1, 'Brigade': 1, 'hindered': 1, 'Liked': 1, 'marvelling': 1, 'corny': 1, 'winsome': 1, 'Missed': 1, 'Crookshanks': 1, 'Scabbers': 1, 'Conjuring': 1, 'featurette': 1, 'degenerative': 1, 'rheumatic': 1, 'tendons': 1, 'Degrees': 1, 'Huggy': 1, 'Fargas': 1, 'bookies': 1, 'dismally': 1, 'putrid': 1, 'tether': 1, 'rations': 1, 'shoo': 1, 'outdone': 1, 'regains': 1, 'royalty': 1, 'Gorgeous': 1, 'Rayne': 1, 'Object': 1, 'Cut': 1, 'Uniting': 1, 'Fuss': 1, 'swore': 1, 'indecent': 1, 'profanity': 1, 'Pump': 1, 'patois': 1, 'dem': 1, 'weh': 1, 'Bruer': 1, 'darkest': 1, 'Clones': 1, 'Anakin': 1, 'erupting': 1, 'volcanoes': 1, 'molten': 1, 'lava': 1, 'Chili': 1, 'Peppers': 1, 'lapping': 1, 'Blige': 1, 'Uma': 1, 'Thurman': 1, 'superstars': 1, 'ditched': 1, 'Jayceon': 1, 'Compton': 1, 'outshining': 1, 'Dreamworks': 1, '242': 1, 'supervisor': 1, 'pyjama': 1, 'romance': 1, 'Bissell': 1, 'Ackerman': 1, 'Darnell': 1, 'Flame': 1, '525': 1, 'sizable': 1, 'Mandarin': 1, 'Cantonese': 1, 'Tribute': 1, 'Heroes': 1, 'rhymes': 1, 'Izzo': 1, 'HOVA': 1, 'Blueprint': 1, 'Incorporating': 1, 'injecting': 1, 'Anytime': 1, 'sinks': 1, 'clich': 1, 'Jamz': 1, 'Twista': 1, 'gratified': 1, 'vies': 1, 'Supernanny': 1, 'Kitchen': 1, 'Lucerne': 1, 'Borat': 1, 'Agatha': 1, 'Event': 1, 'Faking': 1, 'Individual': 1, 'culturally': 1, 'exorcist': 1, 'Satan': 1, 'minions': 1, 'Hollwood': 1, 'suitcase': 1, 'Pistol': 1, 'Lydon': 1, 'Danniella': 1, 'Westbrook': 1, 'E17': 1, '50p': 1, '9p': 1, 'remortgaged': 1, 'Zomba': 1, '340m': 1, 'Dhani': 1, 'Daughters': 1, 'Lennox': 1, 'Transmigration': 1, 'Souls': 1, 'Otro': 1, 'Lado': 1, 'Martika': 1, 'glorified': 1, 'lesbianism': 1, 'expunge': 1, 'monologues': 1, 'parliamentarians': 1, 'Kefa': 1, 'Ssempgani': 1, 'slang': 1, 'anatomical': 1, 'Mukasa': 1, 'Jewel': 1, 'Nile': 1, 'angadias': 1, 'diamonds': 1, 'decamp': 1, 'Endings': 1, 'Gyllenhaal': 1, 'drunkard': 1, 'Duane': 1, 'Hopwood': 1, 'Matador': 1, 'contemporaries': 1, 'inductee': 1, 'Honeyman': 1, 'Farndon': 1, 'overdoses': 1, 'medley': 1, 'Stabbers': 1, 'Waldorf': 1, 'Astoria': 1, 'Bo': 1, 'Diddley': 1, 'rowdy': 1, 'pounder': 1, 'Whole': 1, 'Lotta': 1, 'Shakin': 1, 'Goin': 1, 'Obituary': 1, 'Fearing': 1, 'Stravinsky': 1, 'uncles': 1, 'Ashton': 1, 'lightness': 1, 'Created': 1, 'escaping': 1, 'clubbing': 1, 'Rowetta': 1, 'Satchell': 1, 'Tabby': 1, 'Rosencrantz': 1, 'recommissioning': 1, 'Lasting': 1, 'Cocker': 1, 'Winwood': 1, 'Burdon': 1, 'Cooke': 1, 'Baptist': 1, 'arranger': 1, 'Milt': 1, 'Fathead': 1, 'Newman': 1, 'trait': 1, 'Orbison': 1, 'Hallelujah': 1, 'Cochran': 1, 'Cheating': 1, 'Win': 1, 'Message': 1, 'echoing': 1, 'progeny': 1, 'Mayfield': 1, 'Rickman': 1, 'Humma': 1, 'Kavula': 1, 'intergalactic': 1, 'voyage': 1, 'Hasselhoff': 1, 'operas': 1, 'Knots': 1, 'Landing': 1, 'Crest': 1, 'Bold': 1, 'Transatlantic': 1, 'howlers': 1, 'Extreme': 1, 'Makeover': 1, 'Musician': 1, 'discharged': 1, 'Cast': 1, 'sustenance': 1, 'angst': 1, 'Chopin': 1, 'Debussy': 1, 'Wagner': 1, 'napalm': 1, 'MacMillan': 1, 'Gorbachev': 1, 'louder': 1, 'megastars': 1, 'twiddling': 1, 'moulds': 1, 'Pennsylvania': 1, 'rantings': 1, 'Testino': 1, 'Forestier': 1, 'wistful': 1, 'Cesars': 1, 'travails': 1, 'dramatist': 1, 'Marivaux': 1, 'impoverished': 1, 'Thanksgiving': 1, 'bisexual': 1, 'sinew': 1, 'bravado': 1, 'buttnumbathon': 1, 'hamstrung': 1, 'hectoring': 1, 'grandiosity': 1, 'scorn': 1, 'bleached': 1, 'unwieldy': 1, 'accent': 1, 'Mata': 1, 'JFK': 1, 'Parish': 1, 'Sheriff': 1, 'withering': 1, 'Siemssen': 1, 'amazon': 1, 'bookshops': 1, 'manuscript': 1, 'EB': 1, 'Dakota': 1, 'Fanning': 1, 'Fern': 1, 'Winick': 1, 'dramas': 1, 'comedies': 1, 'Teri': 1, 'Marcia': 1, 'Felicity': 1, 'Huffman': 1, 'Cosmetic': 1, 'Nip': 1, 'Sopranos': 1, 'Cecil': 1, 'DeMille': 1, 'hobbies': 1, 'Gameboys': 1, 'kickboxing': 1, 'perfecting': 1, 'Antoinette': 1, 'Sibley': 1, 'Fonteyn': 1, 'Nureyev': 1, 'Dancers': 1, 'Violator': 1, 'XXL': 1, 'spiral': 1, 'bombed': 1, 'Serenity': 1, 'Firefly': 1, 'Lead': 1, 'hitches': 1, 'threes': 1, 'Valium': 1, 'pacing': 1, 'revellers': 1, 'horizons': 1, 'landlocked': 1, 'carnival': 1, 'Maracana': 1, 'yeah': 1, 'masochistic': 1, 'accumulates': 1, 'rattling': 1, 'pap': 1, 'LL': 1, 'Cool': 1, 'DMX': 1, 'Dash': 1, 'Beanie': 1, 'Sigel': 1, 'Knock': 1, 'Dirt': 1, 'Shoulder': 1, 'Roadside': 1, 'Goldwyn': 1, 'Showtime': 1, '25lb': 1, 'liver': 1, 'McLibel': 1, 'libelling': 1, 'libelled': 1, 'Baldrick': 1, 'trench': 1, 'Laurie': 1, 'Miranda': 1, 'Cunanan': 1, 'impressionist': 1, 'Nude': 1, 'Tobias': 1, 'juxtaposed': 1, 'masterpieces': 1, 'Clemente': 1, '2001fetched': 1, 'practised': 1, 'conquerors': 1, 'perpetuated': 1, 'Dominicans': 1, 'colonisation': 1, '1600s': 1, 'Croke': 1, 'MCD': 1, 'Ticketmaster': 1, 'Astronaut': 1, 'Happens': 1, 'Principal': 1, 'Cliffhanger': 1, 'Volcano': 1, 'erupts': 1, 'Cherished': 1, 'Schooldays': 1, 'Pompei': 1, 'merges': 1, 'supervolcano': 1, 'erupt': 1, 'Mongolian': 1, 'Genghis': 1, 'conman': 1, 'headmaster': 1, 'Millionaire': 1, 'Sant': 1, 'epipsodes': 1, 'Auf': 1, 'Wiedersehen': 1, 'Pet': 1, 'Critters': 1, 'Basketball': 1, 'Juliet': 1, 'corduroy': 1, 'glasses': 1, 'downtown': 1, 'merrier': 1, 'Dramatic': 1, 'disdain': 1, 'unpatriotic': 1, 'egalitarian': 1, 'Hate': 1, 'Atlanta': 1, 'Morehouse': 1, 'stepchild': 1, 'Purlie': 1, 'Victorious': 1, 'Daze': 1, 'Jnr': 1, 'Besides': 1, 'Nora': 1, 'Hasna': 1, 'realties': 1, 'plummeted': 1, 'endangering': 1, 'Ballad': 1, 'Jed': 1, 'Clampett': 1, 'anniversaries': 1, 'bluegrass': 1, 'Flatt': 1, 'Earl': 1, 'Scruggs': 1, 'banjo': 1, 'Sins': 1, 'Dolphy': 1, 'ordained': 1, 'Dias': 1, 'Secular': 1, 'picturesque': 1, 'Kerala': 1, 'Nellie': 1, 'Fridges': 1, 'Wives': 1, 'Neaptide': 1, 'forceful': 1, 'cinematographically': 1, 'reticent': 1, 'stylised': 1, 'Hazlewood': 1, 'Radiohead': 1, 'Jupitus': 1, 'vocalist': 1, 'Guitar': 1, 'Greats': 1, 'Pause': 1, 'poet': 1, 'articulated': 1, 'Plath': 1, 'disorders': 1, 'Issue': 1, 'homelessness': 1, 'Self': 1, 'Dredd': 1, 'compilation': 1, 'Lipstick': 1, 'Traces': 1, 'Gail': 1, 'drifted': 1, 'unscripted': 1, 'Stories': 1, 'scrapbook': 1, 'souvenir': 1, 'stepdaughter': 1, 'Jana': 1, 'flourishing': 1, 'Fellner': 1, 'chairmen': 1, 'Title': 1, 'Laundrette': 1, 'Pegg': 1, 'Deakins': 1, 'Achievement': 1, 'Ladykillers': 1, 'Guests': 1, 'Cattrall': 1, 'Firth': 1, 'TOTP': 1, 'Butterfields': 1, 'Satyajit': 1, 'transsexual': 1, 'Brandon': 1, 'Teena': 1, 'Pixar': 1, 'Bullet': 1, 'Crew': 1, 'gown': 1, 'Ella': 1, 'Fitzgerald': 1, 'Dizzy': 1, 'JJ': 1, 'trombone': 1, 'vibraphone': 1, 'beloned': 1, 'Hampton': 1, 'Works': 1, 'Bruni': 1, 'Sablan': 1, 'heavyweights': 1, 'Bramham': 1, 'Wetherby': 1, 'Richfield': 1, 'Charlatans': 1, 'Marilyn': 1, 'Leon': 1, 'Babyshamblers': 1, 'Mean': 1, 'Fiddler': 1, 'Weekend': 1, 'Phoebe': 1, 'Aniston': 1, 'Courteney': 1, 'Kaplinsky': 1, 'Moment': 1, 'Buerk': 1, 'unwell': 1, '306': 1, '814': 1, 'Ridley': 1, 'biochemistry': 1, 'wolf': 1, 'cub': 1, 'Albums': 1, 'sleigh': 1, 'parted': 1, 'Beth': 1, 'Disco': 1, 'Inferno': 1, 'disloyalty': 1, 'Tryin': 1, 'charms': 1, 'Downloaded': 1, 'flustered': 1, 'footswitch': 1, 'elegantly': 1, 'gentlemen': 1, 'helmets': 1, 'hatchets': 1, 'smouldering': 1, 'carousing': 1, 'filmmaker': 1, 'Corelli': 1, 'Mandolin': 1, 'Splash': 1, 'bankable': 1, 'protagonist': 1, 'semiotics': 1, 'medieval': 1, 'skates': 1, 'Gascoigne': 1, 'Smillie': 1, 'butler': 1, 'cricketer': 1, 'McPartlin': 1, 'Pascuale': 1, 'listers': 1, 'zeitgeist': 1, 'Collecting': 1, 'Cote': 1, 'Azur': 1, 'clad': 1, 'schoolgirl': 1, 'Roch': 1, 'Voisine': 1, 'Francophone': 1, 'Somali': 1, 'Ayaan': 1, 'Hirsi': 1, 'Winkler': 1, 'altercation': 1, '0200': 1, 'jostled': 1, 'purchasers': 1, 'bugging': 1, 'Eucalyptus': 1, 'Crowe': 1, 'uptight': 1, 'CIA': 1, 'nowBy': 1, 'MacHowever': 1, 'PCOn': 1, 'matchBafana': 1, 'accidentIt': 1, 'Leicesterwas': 1, 'theatreMel': 1})\n"
          ],
          "name": "stdout"
        }
      ]
    },
    {
      "cell_type": "code",
      "metadata": {
        "id": "05YjCZ3ZF_qe",
        "colab_type": "code",
        "colab": {}
      },
      "source": [
        "vocab = dict()\n",
        "vocab['PAD'] = 0\n",
        "vocab_idx = 1\n",
        "for key, value in word_counter.most_common(len(word_counter)):\n",
        "  vocab[key] = vocab_idx\n",
        "  vocab_idx += 1"
      ],
      "execution_count": 0,
      "outputs": []
    },
    {
      "cell_type": "code",
      "metadata": {
        "id": "iCuE92QuGJOb",
        "colab_type": "code",
        "colab": {}
      },
      "source": [
        "reverse_vocab = dict()\n",
        "for key, value in vocab.items():\n",
        "  reverse_vocab[value] = key"
      ],
      "execution_count": 0,
      "outputs": []
    },
    {
      "cell_type": "code",
      "metadata": {
        "id": "pulomjSQz-II",
        "colab_type": "code",
        "colab": {}
      },
      "source": [
        "#flattened_list = flatten_list(flatten_list(combined_trn))"
      ],
      "execution_count": 0,
      "outputs": []
    },
    {
      "cell_type": "code",
      "metadata": {
        "id": "cfO9T7AF3P3D",
        "colab_type": "code",
        "colab": {}
      },
      "source": [
        "#inp_voc, inp_rev_voc, inp_max_voc = build_vocab(cmb)"
      ],
      "execution_count": 0,
      "outputs": []
    },
    {
      "cell_type": "code",
      "metadata": {
        "id": "Nqn0aitH4SzV",
        "colab_type": "code",
        "colab": {}
      },
      "source": [
        "def vocab_to_text_file(vocab):\n",
        "  voc_txt = []\n",
        "  for token in vocab:\n",
        "    voc_txt.append( (token, token2idx(token, vocab)))\n",
        "  with open('./vocab1.txt', 'w') as f:\n",
        "    f.write(str(list(voc_txt)))\n",
        "  return voc_txt"
      ],
      "execution_count": 0,
      "outputs": []
    },
    {
      "cell_type": "code",
      "metadata": {
        "id": "3p9mwPFP3FcF",
        "colab_type": "code",
        "colab": {}
      },
      "source": [
        "def token2idx(word, vocab):\n",
        "    return vocab[word]"
      ],
      "execution_count": 0,
      "outputs": []
    },
    {
      "cell_type": "code",
      "metadata": {
        "id": "ObIoIn_eps1_",
        "colab_type": "code",
        "colab": {}
      },
      "source": [
        "def idx2token(idx, rev_vocab):\n",
        "    return rev_vocab[idx]"
      ],
      "execution_count": 0,
      "outputs": []
    },
    {
      "cell_type": "code",
      "metadata": {
        "id": "yYT_nQrqhCMa",
        "colab_type": "code",
        "colab": {}
      },
      "source": [
        "voc_text = vocab_to_text_file(vocab)"
      ],
      "execution_count": 0,
      "outputs": []
    },
    {
      "cell_type": "code",
      "metadata": {
        "id": "1or8GKbg4vXk",
        "colab_type": "code",
        "colab": {}
      },
      "source": [
        "voccy = Vocab('./vocab.txt', 50000, vocab, reverse_vocab)"
      ],
      "execution_count": 0,
      "outputs": []
    },
    {
      "cell_type": "code",
      "metadata": {
        "id": "3IeEbM4SBVD3",
        "colab_type": "code",
        "outputId": "8d52de38-7c41-4cf2-816c-75ab85b1ba84",
        "colab": {
          "base_uri": "https://localhost:8080/",
          "height": 33
        }
      },
      "source": [
        "voccy.word2id('said')"
      ],
      "execution_count": 0,
      "outputs": [
        {
          "output_type": "execute_result",
          "data": {
            "text/plain": [
              "16"
            ]
          },
          "metadata": {
            "tags": []
          },
          "execution_count": 93
        }
      ]
    },
    {
      "cell_type": "code",
      "metadata": {
        "id": "fFChkaEslfh3",
        "colab_type": "code",
        "outputId": "bf6a43d2-e17c-4718-b92d-a991f3ca0fde",
        "colab": {
          "base_uri": "https://localhost:8080/",
          "height": 33
        }
      },
      "source": [
        "voccy.id2word(16)"
      ],
      "execution_count": 0,
      "outputs": [
        {
          "output_type": "execute_result",
          "data": {
            "text/plain": [
              "'said'"
            ]
          },
          "metadata": {
            "tags": []
          },
          "execution_count": 94
        }
      ]
    },
    {
      "cell_type": "code",
      "metadata": {
        "id": "rHGCDfQ2JYen",
        "colab_type": "code",
        "outputId": "75c95d3f-2a4a-4a3f-9e78-85e9484aa3fb",
        "colab": {
          "base_uri": "https://localhost:8080/",
          "height": 33
        }
      },
      "source": [
        "token2idx('said', vocab)"
      ],
      "execution_count": 0,
      "outputs": [
        {
          "output_type": "execute_result",
          "data": {
            "text/plain": [
              "16"
            ]
          },
          "metadata": {
            "tags": []
          },
          "execution_count": 95
        }
      ]
    },
    {
      "cell_type": "code",
      "metadata": {
        "id": "ZgK-U_2YoymO",
        "colab_type": "code",
        "outputId": "ad52dad8-119e-4401-e4ed-996b4508588b",
        "colab": {
          "base_uri": "https://localhost:8080/",
          "height": 33
        }
      },
      "source": [
        "vocab['said']"
      ],
      "execution_count": 0,
      "outputs": [
        {
          "output_type": "execute_result",
          "data": {
            "text/plain": [
              "16"
            ]
          },
          "metadata": {
            "tags": []
          },
          "execution_count": 96
        }
      ]
    },
    {
      "cell_type": "code",
      "metadata": {
        "id": "z_EWDKuRp1gd",
        "colab_type": "code",
        "outputId": "722128cc-e833-4685-cbfe-cd61e0f5b13c",
        "colab": {
          "base_uri": "https://localhost:8080/",
          "height": 33
        }
      },
      "source": [
        "reverse_vocab[16]"
      ],
      "execution_count": 0,
      "outputs": [
        {
          "output_type": "execute_result",
          "data": {
            "text/plain": [
              "'said'"
            ]
          },
          "metadata": {
            "tags": []
          },
          "execution_count": 97
        }
      ]
    },
    {
      "cell_type": "code",
      "metadata": {
        "id": "Kz9AK2E6Ko3v",
        "colab_type": "code",
        "cellView": "both",
        "colab": {}
      },
      "source": [
        "#@title Split list to words\n",
        "def split_list_to_words(list_of_list):\n",
        "  arr = ''\n",
        "  for i in list_of_list:\n",
        "    for word in i:\n",
        "      if word != '':\n",
        "        arr += word\n",
        "  return arr"
      ],
      "execution_count": 0,
      "outputs": []
    },
    {
      "cell_type": "code",
      "metadata": {
        "id": "j2yKLrH3kCUI",
        "colab_type": "code",
        "colab": {}
      },
      "source": [
        "###############ABISEE###########"
      ],
      "execution_count": 0,
      "outputs": []
    },
    {
      "cell_type": "code",
      "metadata": {
        "id": "bm9LP2xHj8U-",
        "colab_type": "code",
        "cellView": "both",
        "colab": {}
      },
      "source": [
        "#@title ABISEE\n",
        "dm_single_close_quote = u'\\u2019' # unicode\n",
        "dm_double_close_quote = u'\\u201d'\n",
        "END_TOKENS = ['.', '!', '?', '...', \"'\", \"`\", '\"', dm_single_close_quote, dm_double_close_quote, \")\"] # acceptable ways to end a sentence\n",
        "\n",
        "VOCAB_SIZE = 200000\n",
        "CHUNK_SIZE = 1000 # num examples per chunk, for the chunked data\n",
        "\n",
        "\n",
        "def chunk_file(set_name):\n",
        "  in_file = 'finished_files/%s.bin' % set_name\n",
        "  reader = open(in_file, \"rb\")\n",
        "  chunk = 0\n",
        "  finished = False\n",
        "  while not finished:\n",
        "    chunk_fname = os.path.join(chunks_dir, '%s_%03d.bin' % (set_name, chunk)) # new chunk\n",
        "    with open(chunk_fname, 'wb') as writer:\n",
        "      for _ in range(CHUNK_SIZE):\n",
        "        len_bytes = reader.read(8)\n",
        "        if not len_bytes:\n",
        "          finished = True\n",
        "          break\n",
        "        str_len = struct.unpack('q', len_bytes)[0]\n",
        "        example_str = struct.unpack('%ds' % str_len, reader.read(str_len))[0]\n",
        "        writer.write(struct.pack('q', str_len))\n",
        "        writer.write(struct.pack('%ds' % str_len, example_str))\n",
        "      chunk += 1\n",
        "\n",
        "\n",
        "def chunk_all():\n",
        "  # Make a dir to hold the chunks\n",
        "  if not os.path.isdir(chunks_dir):\n",
        "    os.mkdir(chunks_dir)\n",
        "  # Chunk the data\n",
        "  for set_name in ['train', 'val', 'test']:\n",
        "    print( \"Splitting %s data into chunks...\" % set_name)\n",
        "    chunk_file(set_name)\n",
        "  print( \"Saved chunked data in %s\" % chunks_dir)\n",
        "\n",
        "\n",
        "\n",
        "def read_text_file(text_file, if_byte=''):\n",
        "  lines = []\n",
        "  with open(text_file, \"r\") as f:\n",
        "    for line in f:\n",
        "      lines.append(line.strip())\n",
        "    lines=list(filter(None, lines))\n",
        "  return lines\n",
        "\n",
        "\n",
        "def hashhex(s):\n",
        "  \"\"\"Returns a heximal formated SHA1 hash of the input string.\"\"\"\n",
        "  h = hashlib.sha1()\n",
        "  h.update(s)\n",
        "  return h.hexdigest()\n",
        "\n",
        "\n",
        "def get_url_hashes(url_list):\n",
        "  return [hashhex(url) for url in url_list]\n",
        "\n",
        "\n",
        "def fix_missing_period(line):\n",
        "  \"\"\"Adds a period to a line that is missing a period\"\"\"\n",
        "  if \"@highlight\" in line: return line\n",
        "  if line==\"\": return line\n",
        "  if line[-1] in END_TOKENS: return line\n",
        "  # print line[-1]\n",
        "  return line + \" .\"\n",
        "\n",
        "\n",
        "flaggy = False\n",
        "if flaggy == True:\n",
        "  if len(sys.argv) != 3:\n",
        "    print (\"USAGE: python make_datafiles.py <cnn_stories_dir> <dailymail_stories_dir>\")\n",
        "    sys.exit()\n",
        "  cnn_stories_dir = sys.argv[1]\n",
        "  dm_stories_dir = sys.argv[2]\n",
        "\n",
        "  # Check the stories directories contain the correct number of .story files\n",
        "  check_num_stories(cnn_stories_dir, num_expected_cnn_stories)\n",
        "  check_num_stories(dm_stories_dir, num_expected_dm_stories)\n",
        "\n",
        "  # Create some new directories\n",
        "  if not os.path.exists(cnn_tokenized_stories_dir): os.makedirs(cnn_tokenized_stories_dir)\n",
        "  if not os.path.exists(dm_tokenized_stories_dir): os.makedirs(dm_tokenized_stories_dir)\n",
        "  if not os.path.exists(finished_files_dir): os.makedirs(finished_files_dir)\n",
        "\n",
        "  # Run stanford tokenizer on both stories dirs, outputting to tokenized stories directories\n",
        "  tokenize_stories(cnn_stories_dir, cnn_tokenized_stories_dir)\n",
        "  tokenize_stories(dm_stories_dir, dm_tokenized_stories_dir)\n",
        "\n",
        "  # Read the tokenized stories, do a little postprocessing then write to bin files\n",
        "  write_to_bin(all_test_urls, os.path.join(finished_files_dir, \"test.bin\"))\n",
        "  write_to_bin(all_val_urls, os.path.join(finished_files_dir, \"val.bin\"))\n",
        "  write_to_bin(all_train_urls, os.path.join(finished_files_dir, \"train.bin\"), makevocab=True)\n",
        "\n",
        "  # Chunk the data. This splits each of train.bin, val.bin and test.bin into smaller chunks, each containing e.g. 1000 examples, and saves them in finished_files/chunks\n",
        "  chunk_all()"
      ],
      "execution_count": 0,
      "outputs": []
    },
    {
      "cell_type": "markdown",
      "metadata": {
        "id": "8hFgib9Eytw0",
        "colab_type": "text"
      },
      "source": [
        "##Convert Text to Binary\n",
        "\n",
        "TFRecord file formats are a TF binary storage format\n",
        "\n",
        "It stores you data as a sequence of binary strings\n",
        "\n",
        "You need to specify the structure of your data before writing it to file\n",
        "\n",
        "TF provides 2 components for this: tf.train.Example and tf.train.SequenceExample. You have to store each sample of your data in one of these structures, then it serializes it and uses a tf.python_io.TFRecordWriter to write it to disk. \n",
        "\n",
        "tf.train.example is not a python class but a protocol buffer. It's used to serialize structure data efficiently. \n",
        "\n",
        "If you have features where every entry is the same dtype use this. We first create a list that constitute the features. \n",
        "\n",
        "**Python strings need to be converted to byes**, text = tf.train.BytesList(value=[b'some text', b'some more text'])\n",
        "\n",
        "tf.train.Feature wraps a list of data so TF can understand it. text_features = tf.train.Feature(bytes_list=text)\n",
        "\n",
        "tf.train.Features is a collection of named features. dict = { 'text' : text_features} txt = tf.train.Features(feature=dict)\n",
        "\n",
        "tf.train.Example is a core component for structuring a TFRecord, it stores features in a single attribute features of type tf.train.Features. exmp = tf.train.Example(features=txt)\n",
        "\n",
        "tf.python_io.TFRecordWriter accepts a file path and creates a writer object. The write method accepts a string as parameter and writes it to disk, meaning that data must be serialized first. tf.python_io.TFRecordWriter('tffile.tfrecord') as writer: writer.write(examle.SerializeToString())\n",
        "\n",
        "Reading a TFRecord is easy by using tf.TFRecordReader, define the features you expect in the TFRecord by using tf.FixedLenFeature and tf.VarLenFeature. Parse one tf.train.Example using a tf.parse_single_example (one file). \n",
        "\n",
        "https://medium.com/mostly-ai/tensorflow-records-what-they-are-and-how-to-use-them-c46bc4bbb564"
      ]
    },
    {
      "cell_type": "code",
      "metadata": {
        "id": "U8RUtrk6ZIlD",
        "colab_type": "code",
        "colab": {}
      },
      "source": [
        "def my_get_art_abs(story_file, is_summary=False):\n",
        "  lines = read_text_file(story_file)\n",
        "\n",
        "  # Lowercase everything\n",
        "  lines = [line.lower() for line in lines]\n",
        "\n",
        "  # Put periods on the ends of lines that are missing them (this is a problem in the dataset because many image captions don't end in periods; consequently they end up in the body of the article as run-on sentences)\n",
        "  lines = [fix_missing_period(line) for line in lines]\n",
        "\n",
        "  # Separate out article and abstract sentences\n",
        "  article_lines = []\n",
        "  highlights = []\n",
        "  next_is_highlight = False\n",
        "  for idx,line in enumerate(lines):\n",
        "    if line == \"\":\n",
        "      continue\n",
        "    else:\n",
        "      article_lines.append(line)\n",
        "\n",
        "  # Make abstract into a single string, putting <s> and </s> tags around the sentences\n",
        "  if is_summary == True:\n",
        "    article = ' '.join([\"%s %s %s\" % (SENTENCE_START, sent, SENTENCE_END) for sent in article_lines])\n",
        "  else:\n",
        "    # Make article into a single string\n",
        "    article = ' '.join(article_lines)\n",
        "\n",
        "  return article"
      ],
      "execution_count": 0,
      "outputs": []
    },
    {
      "cell_type": "markdown",
      "metadata": {
        "id": "d4Jnq34Wkflu",
        "colab_type": "text"
      },
      "source": [
        "Given a list of paths, write a file and store tokenized summary or article\n",
        "\n",
        "Open the file and write it to binary"
      ]
    },
    {
      "cell_type": "code",
      "metadata": {
        "id": "cjh0pgENlWmh",
        "colab_type": "code",
        "colab": {}
      },
      "source": [
        "def unicodify(list_of_strings, is_summary=False):\n",
        "  tok = []\n",
        "  lines = [line.lower() for line in list_of_strings]\n",
        "  lines = [fix_missing_period(line) for line in lines]\n",
        "  article_lines = []\n",
        "  \n",
        "  for idx,line in enumerate(lines):\n",
        "    if line == \"\":\n",
        "      continue\n",
        "    elif is_summary == True:\n",
        "      article_lines.append(line)\n",
        "    else:\n",
        "      article_lines.append(line)\n",
        "      \n",
        "  if is_summary == True:\n",
        "    #for each sentence join \n",
        "    \n",
        "    article = ' '.join([\"%s %s %s\" % (SENTENCE_START, sent, SENTENCE_END) for sent in article_lines])\n",
        "    #Pass in list of lists get a list of strings tokenized back\n",
        "    #abs_tokens = article.split(' ')\n",
        "    tok_lines = nltk_tokenizer(article)\n",
        "    #convert list of strings to bytes\n",
        "    #strings = list_str_to_byte(tok_lines)\n",
        "    return article\n",
        "  else:\n",
        "    #Pass in list of lists get a list of strings tokenized back\n",
        "    tok_lines = nltk_tokenizer(article_lines)\n",
        "    #convert list of strings to bytes\n",
        "    strings = list_str_to_byte(tok_lines)\n",
        "    return strings"
      ],
      "execution_count": 0,
      "outputs": []
    },
    {
      "cell_type": "code",
      "metadata": {
        "id": "IPN2dsE5Gc9f",
        "colab_type": "code",
        "colab": {}
      },
      "source": [
        "from keras.preprocessing.text import text_to_word_sequence\n",
        "\n",
        "def keras_tokenizer(doc):\n",
        "  string=[]\n",
        "  for i in doc:\n",
        "    string.append(text_to_word_sequence(i))\n",
        "  return string\n"
      ],
      "execution_count": 0,
      "outputs": []
    },
    {
      "cell_type": "code",
      "metadata": {
        "id": "cADrftYiCPly",
        "colab_type": "code",
        "outputId": "468f2403-0019-414f-ada0-0f84bc380406",
        "colab": {
          "base_uri": "https://localhost:8080/",
          "height": 50
        }
      },
      "source": [
        "import nltk\n",
        "nltk.download('punkt')\n",
        "\n",
        "def nltk_tokenizer(doc):\n",
        "  doc = ' '.join([str(elem) for elem in doc ])\n",
        "  return nltk.word_tokenize(doc)"
      ],
      "execution_count": 0,
      "outputs": [
        {
          "output_type": "stream",
          "text": [
            "[nltk_data] Downloading package punkt to /root/nltk_data...\n",
            "[nltk_data]   Package punkt is already up-to-date!\n"
          ],
          "name": "stdout"
        }
      ]
    },
    {
      "cell_type": "code",
      "metadata": {
        "id": "k3lMwZoe3yJN",
        "colab_type": "code",
        "colab": {}
      },
      "source": [
        "#artthing = unicodify( read_text_file('./BBC News Summary/News Articles/politics/068.txt'))\n",
        "#sumething = unicodify( read_text_file('./BBC News Summary/Summaries/politics/068.txt'))"
      ],
      "execution_count": 0,
      "outputs": []
    },
    {
      "cell_type": "code",
      "metadata": {
        "id": "5g3hqTdMCl8M",
        "colab_type": "code",
        "colab": {}
      },
      "source": [
        "def list_str_to_byte(list_str):\n",
        "  strings = []\n",
        "  for i in list_str:\n",
        "    strings.append(str.encode(i))\n",
        "  #strings = [str.encode(item) for item in list_str]\n",
        "  #strings = ' '.join([str(elem) for elem in doc ])\n",
        "  return strings"
      ],
      "execution_count": 0,
      "outputs": []
    },
    {
      "cell_type": "code",
      "metadata": {
        "id": "NL6J41Gj_YNH",
        "colab_type": "code",
        "cellView": "form",
        "colab": {}
      },
      "source": [
        "#@title Spacy Tokenizer\n",
        "def spacy_tokenizer(doc):\n",
        "  \n",
        "  doc = ' '.join([str(elem) for elem in doc ])\n",
        "  words = nlp(doc)\n",
        "  empt = []\n",
        "  empty = []\n",
        "  for word in words:\n",
        "      empt.append(word)\n",
        "  for tok in empt:\n",
        "    empty.append(str.encode(tok))\n",
        "  return empty"
      ],
      "execution_count": 0,
      "outputs": []
    },
    {
      "cell_type": "code",
      "metadata": {
        "id": "BqHGfNzbDVw7",
        "colab_type": "code",
        "colab": {}
      },
      "source": [
        "def _bytes_feature(value):\n",
        "  \"\"\"Returns a bytes_list from a string / byte.\"\"\"\n",
        "  return tf.train.Feature(bytes_list=tf.train.BytesList(value=value))"
      ],
      "execution_count": 0,
      "outputs": []
    },
    {
      "cell_type": "code",
      "metadata": {
        "id": "xS7Q5umYHIIP",
        "colab_type": "code",
        "colab": {}
      },
      "source": [
        "art=read_text_file(art_pol_path[0])\n",
        "art=unicodify(art)"
      ],
      "execution_count": 0,
      "outputs": []
    },
    {
      "cell_type": "code",
      "metadata": {
        "id": "pzYTOyj6AEKk",
        "colab_type": "code",
        "colab": {}
      },
      "source": [
        "tok_art, tok_sum = unicodify(read_text_file(art_pol_path[0])), unicodify(read_text_file(sum_pol_path[0]))"
      ],
      "execution_count": 0,
      "outputs": []
    },
    {
      "cell_type": "code",
      "metadata": {
        "id": "pYaRIINkKlOL",
        "colab_type": "code",
        "colab": {}
      },
      "source": [
        "tok_sum"
      ],
      "execution_count": 0,
      "outputs": []
    },
    {
      "cell_type": "code",
      "metadata": {
        "id": "iEakauwrC2y5",
        "colab_type": "code",
        "colab": {}
      },
      "source": [
        "totext = tf.train.BytesList(value=art)\n",
        "totext"
      ],
      "execution_count": 0,
      "outputs": []
    },
    {
      "cell_type": "code",
      "metadata": {
        "id": "vTcrAuMYDaDN",
        "colab_type": "code",
        "colab": {}
      },
      "source": [
        "tf_example = example_pb2.Example()\n",
        "tf_example.features.feature['article'].bytes_list.value.extend(art)\n",
        "tf_example_str = tf_example.SerializeToString()"
      ],
      "execution_count": 0,
      "outputs": []
    },
    {
      "cell_type": "code",
      "metadata": {
        "id": "zPhVURuSPwnn",
        "colab_type": "code",
        "outputId": "f755a706-2fb5-458c-c292-4c8a5a34f972",
        "colab": {
          "base_uri": "https://localhost:8080/",
          "height": 33
        }
      },
      "source": [
        "tf_example.features.feature['article'].bytes_list.value[0]"
      ],
      "execution_count": 0,
      "outputs": [
        {
          "output_type": "execute_result",
          "data": {
            "text/plain": [
              "b'kennedy'"
            ]
          },
          "metadata": {
            "tags": []
          },
          "execution_count": 276
        }
      ]
    },
    {
      "cell_type": "code",
      "metadata": {
        "id": "R8qNHVLNMW91",
        "colab_type": "code",
        "colab": {}
      },
      "source": [
        ".features.feature['article'].bytes_list.value[0]"
      ],
      "execution_count": 0,
      "outputs": []
    },
    {
      "cell_type": "code",
      "metadata": {
        "id": "ji2w5kAnBq3S",
        "colab_type": "code",
        "colab": {}
      },
      "source": [
        "tf!rm -r ./tokenized"
      ],
      "execution_count": 0,
      "outputs": []
    },
    {
      "cell_type": "code",
      "metadata": {
        "id": "C2Y3sAC0pvSZ",
        "colab_type": "code",
        "colab": {}
      },
      "source": [
        "categories = ['politics', 'business', 'tech', 'sport', 'entertainment']\n",
        "\n",
        "art_pol_path = glob.glob('./BBC News Summary/News Articles/politics/' +'*.txt')\n",
        "art_biz_path = glob.glob('./BBC News Summary/News Articles/business/' +'*.txt')\n",
        "art_tech_path = glob.glob('./BBC News Summary/News Articles/tech/' +'*.txt')\n",
        "art_sport_path = glob.glob('./BBC News Summary/News Articles/sport/' +'*.txt')\n",
        "art_ent_path = glob.glob('./BBC News Summary/News Articles/entertainment/' +'*.txt')\n",
        "\n",
        "sum_pol_path = glob.glob('./BBC News Summary/Summaries/politics/' +'*.txt')\n",
        "sum_biz_path = glob.glob('./BBC News Summary/Summaries/business/' +'*.txt')\n",
        "sum_tech_path = glob.glob('./BBC News Summary/Summaries/tech/' +'*.txt')\n",
        "sum_sport_path = glob.glob('./BBC News Summary/Summaries/sport/' +'*.txt')\n",
        "sum_ent_path = glob.glob('./BBC News Summary/Summaries/entertainment/' +'*.txt')"
      ],
      "execution_count": 0,
      "outputs": []
    },
    {
      "cell_type": "code",
      "metadata": {
        "id": "TT_9iSRaUQg6",
        "colab_type": "code",
        "colab": {}
      },
      "source": [
        "pap = os.listdir('./BBC News Summary/News Articles/politics/')\n",
        "psp = os.listdir('./BBC News Summary/Summaries/politics/')"
      ],
      "execution_count": 0,
      "outputs": []
    },
    {
      "cell_type": "code",
      "metadata": {
        "id": "XmGdbT6uyB-1",
        "colab_type": "code",
        "colab": {}
      },
      "source": [
        "spacyify(art_pol_path,\n",
        "         sum_pol_path,\n",
        "         pap,\n",
        "         './tokenized',\n",
        "        makevocab=False)"
      ],
      "execution_count": 0,
      "outputs": []
    },
    {
      "cell_type": "code",
      "metadata": {
        "id": "agDcuycq1LPn",
        "colab_type": "code",
        "outputId": "80fb985c-8040-4743-aae3-d124b96c067d",
        "colab": {
          "base_uri": "https://localhost:8080/",
          "height": 33
        }
      },
      "source": [
        "make_vocab(read_text_file(art_pol_path[1]), read_text_file(sum_pol_path[1]))"
      ],
      "execution_count": 0,
      "outputs": [
        {
          "output_type": "stream",
          "text": [
            "Finished writing vocab file\n"
          ],
          "name": "stdout"
        }
      ]
    },
    {
      "cell_type": "code",
      "metadata": {
        "id": "iegQfUuo16QK",
        "colab_type": "code",
        "colab": {}
      },
      "source": [
        "comb = read_text_file(art_pol_path[1]) + read_text_file(sum_pol_path[1])"
      ],
      "execution_count": 0,
      "outputs": []
    },
    {
      "cell_type": "code",
      "metadata": {
        "id": "rcu5f3x31__h",
        "colab_type": "code",
        "colab": {}
      },
      "source": [
        "comb"
      ],
      "execution_count": 0,
      "outputs": []
    },
    {
      "cell_type": "code",
      "metadata": {
        "id": "IsTMBEnf2bYw",
        "colab_type": "code",
        "colab": {}
      },
      "source": [
        "lines = [line.lower() for line in comb]\n",
        "lines = [fix_missing_period(line) for line in lines]\n",
        "article_lines = []"
      ],
      "execution_count": 0,
      "outputs": []
    },
    {
      "cell_type": "code",
      "metadata": {
        "id": "ow5hCM8X2evo",
        "colab_type": "code",
        "colab": {}
      },
      "source": [
        "for idx,line in enumerate(lines):\n",
        "  if line == \"\":\n",
        "    continue # empty line\n",
        "  else:\n",
        "    article_lines.append(line)\n",
        "article = ' '.join(article_lines)"
      ],
      "execution_count": 0,
      "outputs": []
    },
    {
      "cell_type": "code",
      "metadata": {
        "id": "aUcv2dhi3C28",
        "colab_type": "code",
        "colab": {}
      },
      "source": [
        "arts = article.split(' ')\n",
        "arts = [t.strip() for t in arts]\n",
        "arts = [t for t in arts if t!=\"\"]"
      ],
      "execution_count": 0,
      "outputs": []
    },
    {
      "cell_type": "code",
      "metadata": {
        "id": "IYmndE0R0wVZ",
        "colab_type": "code",
        "colab": {}
      },
      "source": [
        "def make_vocab(arts, sums):\n",
        "  comb = arts + sums\n",
        "  lines = [line.lower() for line in comb]\n",
        "  lines = [fix_missing_period(line) for line in lines]\n",
        "  article_lines = []\n",
        "  \n",
        "  for idx,line in enumerate(lines):\n",
        "    if line == \"\":\n",
        "      continue # empty line\n",
        "    else:\n",
        "      article_lines.append(line)\n",
        "  \n",
        "  article = ' '.join(article_lines)\n",
        "    \n",
        "  vocab_counter = collections.Counter()\n",
        "  tokens = article.split(' ')\n",
        "  #art_tokens = arts.split(' ')\n",
        "  #sum_tokens = sums.split(' ')\n",
        "  #tokens = [t for t in tokens if t not in [SENTENCE_START, SENTENCE_END]] # remove these tags from vocab\n",
        "  #tokens = art_tokens + abs_tokens\n",
        "  tokens = [t.strip() for t in tokens] # strip\n",
        "  tokens = [t for t in tokens if t!=\"\"] # remove empty\n",
        "  vocab_counter.update(tokens)\n",
        "  with open(\"./vocab.txt\", 'w') as writer:\n",
        "    for word, count in vocab_counter.most_common(VOCAB_SIZE):\n",
        "      writer.write(word + ' ' + str(count) + '\\n')\n",
        "  print (\"Finished writing vocab file\")"
      ],
      "execution_count": 0,
      "outputs": []
    },
    {
      "cell_type": "code",
      "metadata": {
        "id": "mBpI3X75lj8C",
        "colab_type": "code",
        "colab": {}
      },
      "source": [
        "def spacyify(path_to_art, path_to_sum, a_l_dir, tokenized_stories_dir, makevocab=False):\n",
        "  #loop over list of files\n",
        "  #get the list of strings\n",
        "  #unicodify\n",
        "  #tokenize\n",
        "  #write to bin\n",
        "  max_len = len(path_to_art)\n",
        "  split_point = int(max_len * 0.8)\n",
        "  test_split_point = int((max_len - split_point) / 2)\n",
        "  \n",
        "  if not os.path.isdir(tokenized_stories_dir):\n",
        "    os.mkdir(tokenized_stories_dir)\n",
        "    os.mkdir(tokenized_stories_dir + '/train/')\n",
        "    os.mkdir(tokenized_stories_dir + '/test/')\n",
        "    os.mkdir(tokenized_stories_dir + '/val/')\n",
        "    \n",
        "  comb_arts = []\n",
        "  comb_sums = []\n",
        "  \n",
        "  for index, (path_art, path_sum) in enumerate(zip(path_to_art, path_to_sum)):\n",
        "    \n",
        "    \n",
        "    \n",
        "    if index < split_point:\n",
        "      \n",
        "      tok_art, tok_sum = unicodify(read_text_file(path_art)), unicodify(read_text_file(path_sum))\n",
        "      my_write_to_bin(tok_art, tok_sum, os.path.join(tokenized_stories_dir + '/train', a_l_dir[index]))\n",
        "      comb_arts.append(tok_art)\n",
        "      comb_sums.append(tok_sum)\n",
        "    elif index > split_point and index < split_point + test_split_point:\n",
        "      \n",
        "      tok_art, tok_sum = unicodify(read_text_file(path_art)), unicodify(read_text_file(path_sum))\n",
        "      my_write_to_bin(tok_art, tok_sum, os.path.join(tokenized_stories_dir + '/val', a_l_dir[index]))\n",
        "      comb_arts.append(tok_art)\n",
        "      comb_sums.append(tok_sum)\n",
        "    else:\n",
        "      \n",
        "      tok_art, tok_sum = unicodify(read_text_file(path_art)), unicodify(read_text_file(path_sum))\n",
        "      my_write_to_bin(tok_art, tok_sum, os.path.join(tokenized_stories_dir + '/test', a_l_dir[index]))\n",
        "      comb_arts.append(tok_art)\n",
        "      comb_sums.append(tok_sum)\n",
        "    \n",
        "    if makevocab == True:\n",
        "        vocab_counter = collections.Counter()\n",
        "        art_tokens = comb_arts.split(' ')\n",
        "        sum_tokens = comb_sums.split(' ')\n",
        "        #tokens = [t for t in tokens if t not in [SENTENCE_START, SENTENCE_END]] # remove these tags from vocab\n",
        "        tokens = art_tokens + abs_tokens\n",
        "        tokens = [t.strip() for t in tokens] # strip\n",
        "        tokens = [t for t in tokens if t!=\"\"] # remove empty\n",
        "        vocab_counter.update(tokens)\n",
        "        with open(\"./vocab\", 'w') as writer:\n",
        "          for word, count in vocab_counter.most_common(VOCAB_SIZE):\n",
        "            writer.write(word + ' ' + str(count) + '\\n')\n",
        "        print (\"Finished writing vocab file\")\n",
        "      "
      ],
      "execution_count": 0,
      "outputs": []
    },
    {
      "cell_type": "code",
      "metadata": {
        "id": "CJAwCXujAHNg",
        "colab_type": "code",
        "outputId": "5dfe0f38-eda0-435b-a21a-2c4ac7529087",
        "colab": {
          "base_uri": "https://localhost:8080/",
          "height": 33
        }
      },
      "source": [
        "tok_art[41]"
      ],
      "execution_count": 0,
      "outputs": [
        {
          "output_type": "execute_result",
          "data": {
            "text/plain": [
              "b'of'"
            ]
          },
          "metadata": {
            "tags": []
          },
          "execution_count": 264
        }
      ]
    },
    {
      "cell_type": "code",
      "metadata": {
        "id": "4P5jD_7wAQqx",
        "colab_type": "code",
        "outputId": "987a0225-e383-477b-ed69-adb93450d295",
        "colab": {
          "base_uri": "https://localhost:8080/",
          "height": 33
        }
      },
      "source": [
        "tok_art.index(b'of')"
      ],
      "execution_count": 0,
      "outputs": [
        {
          "output_type": "execute_result",
          "data": {
            "text/plain": [
              "41"
            ]
          },
          "metadata": {
            "tags": []
          },
          "execution_count": 263
        }
      ]
    },
    {
      "cell_type": "code",
      "metadata": {
        "id": "REcgjEz9AWQv",
        "colab_type": "code",
        "colab": {}
      },
      "source": [
        "tf_example = example_pb2.Example()\n",
        "tf_example.features.feature['article'].bytes_list.value.extend(tok_art)\n",
        "tf_example_str = tf_example.SerializeToString()"
      ],
      "execution_count": 0,
      "outputs": []
    },
    {
      "cell_type": "code",
      "metadata": {
        "id": "Yj0nCNtzAa8d",
        "colab_type": "code",
        "outputId": "8a33a2d5-8f7d-4856-d5e9-1fda968182d2",
        "colab": {
          "base_uri": "https://localhost:8080/",
          "height": 33
        }
      },
      "source": [
        "g_abstract_sentences = [sent.strip() for sent in abstract2sents(tok_art)]\n",
        "g_abstract_sentences"
      ],
      "execution_count": 0,
      "outputs": [
        {
          "output_type": "execute_result",
          "data": {
            "text/plain": [
              "[]"
            ]
          },
          "metadata": {
            "tags": []
          },
          "execution_count": 261
        }
      ]
    },
    {
      "cell_type": "code",
      "metadata": {
        "id": "VddMBK9iYEnJ",
        "colab_type": "code",
        "cellView": "both",
        "colab": {}
      },
      "source": [
        "#@title Write to bin\n",
        "def my_write_to_bin(art, summ, out_file, makevocab=False):\n",
        "  \"\"\"Reads the tokenized .story files corresponding to the urls listed in the url_file and writes them to a out_file.\"\"\"\n",
        "\n",
        "  if makevocab:\n",
        "    vocab_counter = collections.Counter()\n",
        "\n",
        "  with open(out_file, 'wb') as writer:\n",
        "      # get the tokenized articles and convert to binary\n",
        "      article, abstract = art, summ\n",
        "\n",
        "      # Write to tf.Example\n",
        "      tf_example = example_pb2.Example()\n",
        "      tf_example.features.feature['article'].bytes_list.value.extend(article)\n",
        "      tf_example.features.feature['abstract'].bytes_list.value.extend(abstract)\n",
        "      tf_example_str = tf_example.SerializeToString()\n",
        "      str_len = len(tf_example_str)\n",
        "      writer.write(struct.pack('q', str_len))\n",
        "      writer.write(struct.pack('%ds' % str_len, tf_example_str))\n",
        "\n",
        "      # Write the vocab to file, if applicable\n",
        "      if makevocab:\n",
        "        art_tokens = article.split(' ')\n",
        "        abs_tokens = abstract.split(' ')\n",
        "        abs_tokens = [t for t in abs_tokens if t not in [SENTENCE_START, SENTENCE_END]] # remove these tags from vocab\n",
        "        tokens = art_tokens + abs_tokens\n",
        "        tokens = [t.strip() for t in tokens] # strip\n",
        "        tokens = [t for t in tokens if t!=\"\"] # remove empty\n",
        "        vocab_counter.update(tokens)\n",
        "\n",
        "  print (\"Finished writing file %s\\n\" % out_file)\n",
        "\n",
        "  # write vocab to file\n",
        "  if makevocab:\n",
        "    print( \"Writing vocab file...\")\n",
        "    with open(os.path.join(finished_files_dir, \"vocab\"), 'w') as writer:\n",
        "      for word, count in vocab_counter.most_common(VOCAB_SIZE):\n",
        "        writer.write(word + ' ' + str(count) + '\\n')\n",
        "    print (\"Finished writing vocab file\")"
      ],
      "execution_count": 0,
      "outputs": []
    },
    {
      "cell_type": "code",
      "metadata": {
        "id": "KoSKz7Gmj97H",
        "colab_type": "code",
        "colab": {}
      },
      "source": [
        "###############ABISEE~~END###########"
      ],
      "execution_count": 0,
      "outputs": []
    },
    {
      "cell_type": "code",
      "metadata": {
        "id": "IK0VPwRReKWB",
        "colab_type": "code",
        "colab": {}
      },
      "source": [
        "#############DATA PROCESSING~~END################"
      ],
      "execution_count": 0,
      "outputs": []
    },
    {
      "cell_type": "code",
      "metadata": {
        "id": "3Vlzazgc0Swl",
        "colab_type": "code",
        "colab": {}
      },
      "source": [
        "def file_based_convert_examples_to_features(\n",
        "        examples, max_seq_length_src,max_seq_length_tgt,tokenizer, output_file):\n",
        "    \"\"\"Convert a set of `InputExample`s to a TFRecord file.\"\"\"\n",
        "\n",
        "    writer = tf.python_io.TFRecordWriter(output_file)\n",
        "\n",
        "    for (ex_index, example) in enumerate(examples):\n",
        "        #print(\"ex_index\",ex_index)\n",
        "\n",
        "        if (ex_index+1) %1000 == 0 :\n",
        "          print(\"------------processed..{}...examples\".format(ex_index))\n",
        "          \n",
        "        feature = convert_single_example(ex_index, example,\n",
        "                                         max_seq_length_src,max_seq_length_tgt,tokenizer)\n",
        "\n",
        "        def create_int_feature(values):\n",
        "            return tf.train.Feature(\n",
        "                int64_list=tf.train.Int64List(value=list(values)))\n",
        "\n",
        "        features = collections.OrderedDict()\n",
        "        features[\"src_input_ids\"] = create_int_feature(feature.src_input_ids)\n",
        "        features[\"src_input_mask\"] = create_int_feature(feature.src_input_mask)\n",
        "        features[\"src_segment_ids\"] = create_int_feature(feature.src_segment_ids)\n",
        "\n",
        "        features[\"tgt_input_ids\"] = create_int_feature(feature.tgt_input_ids)\n",
        "        features[\"tgt_input_mask\"] = create_int_feature(feature.tgt_input_mask)\n",
        "        features['tgt_labels'] = create_int_feature(feature.tgt_labels)\n",
        "        \n",
        "        \n",
        "        \n",
        "        #print(feature.tgt_labels)\n",
        "        \n",
        "\n",
        "        tf_example = tf.train.Example(\n",
        "            features=tf.train.Features(feature=features))\n",
        "        writer.write(tf_example.SerializeToString())"
      ],
      "execution_count": 0,
      "outputs": []
    },
    {
      "cell_type": "markdown",
      "metadata": {
        "id": "9_ZB7WDbPcND",
        "colab_type": "text"
      },
      "source": [
        "Just need to yield example objects??"
      ]
    },
    {
      "cell_type": "code",
      "metadata": {
        "id": "IiKo6CDW1FW4",
        "colab_type": "code",
        "colab": {}
      },
      "source": [
        "def my_example_generator(data_path, single_pass):\n",
        "  while True:\n",
        "    filelist = glob.glob(data_path) # get the list of datafiles\n",
        "    assert filelist, ('Error: Empty filelist at %s' % data_path) # check filelist isn't empty\n",
        "    if single_pass:\n",
        "      filelist = sorted(filelist)\n",
        "    else:\n",
        "      random.shuffle(filelist)\n",
        "    for f in filelist:\n",
        "      reader = open(f, 'rb')\n",
        "      while True:\n",
        "        len_bytes = reader.read(8)\n",
        "        if not len_bytes: break # finished reading this file\n",
        "        str_len = struct.unpack('q', len_bytes)[0]\n",
        "        example_str = struct.unpack('%ds' % str_len, reader.read(str_len))[0]\n",
        "        print('Yielding')\n",
        "        yield example_pb2.Example.FromString(example_str)\n",
        "    if single_pass:\n",
        "      print (\"example_generator completed reading all datafiles. No more data.\")\n",
        "      break"
      ],
      "execution_count": 0,
      "outputs": []
    },
    {
      "cell_type": "code",
      "metadata": {
        "id": "-xvoTWuT60_J",
        "colab_type": "code",
        "colab": {}
      },
      "source": [
        "tf.keras.preprocessing.text.text_to_word_sequence(\n",
        "    text,\n",
        "    filters='!\"#$%&()*+,-./:;<=>?@[\\\\]^_`{|}~\\t\\n',\n",
        "    lower=True,\n",
        "    split=' '\n",
        ")"
      ],
      "execution_count": 0,
      "outputs": []
    },
    {
      "cell_type": "code",
      "metadata": {
        "id": "UVFuPXi9hI36",
        "colab_type": "code",
        "colab": {}
      },
      "source": [
        "genny = my_example_generator(train_data_path, single_pass=False)"
      ],
      "execution_count": 0,
      "outputs": []
    },
    {
      "cell_type": "code",
      "metadata": {
        "id": "TTvaygKZ424t",
        "colab_type": "code",
        "colab": {}
      },
      "source": [
        "next(genny)"
      ],
      "execution_count": 0,
      "outputs": []
    },
    {
      "cell_type": "code",
      "metadata": {
        "id": "M84Wyvui33UR",
        "colab_type": "code",
        "colab": {}
      },
      "source": [
        " def my_text_generator(example_generator):\n",
        "    while True:\n",
        "      e = next(example_generator) # e is a tf.Example\n",
        "      try:\n",
        "        article_text = e.features.feature['article'].bytes_list.value[0] # the article text was saved under the key 'article' in the data files\n",
        "        abstract_text = e.features.feature['abstract'].bytes_list.value[0] # the abstract text was saved under the key 'abstract' in the data files\n",
        "      except ValueError:\n",
        "        tf.logging.error('Failed to get article or abstract from example')\n",
        "        continue\n",
        "      if len(article_text)==0: # See https://github.com/abisee/pointer-generator/issues/1\n",
        "        #tf.logging.warning('Found an example with empty article text. Skipping it.')\n",
        "        continue\n",
        "      else:\n",
        "        yield (article_text, abstract_text)"
      ],
      "execution_count": 0,
      "outputs": []
    },
    {
      "cell_type": "code",
      "metadata": {
        "id": "fE12m8-r4AzL",
        "colab_type": "code",
        "colab": {}
      },
      "source": [
        "gen2 = my_text_generator(genny)"
      ],
      "execution_count": 0,
      "outputs": []
    },
    {
      "cell_type": "code",
      "metadata": {
        "id": "BWBTEhys6Y25",
        "colab_type": "code",
        "outputId": "42b8fc39-db79-4a74-c5d2-e962521b2ee9",
        "colab": {
          "base_uri": "https://localhost:8080/",
          "height": 50
        }
      },
      "source": [
        "next(gen2)"
      ],
      "execution_count": 0,
      "outputs": [
        {
          "output_type": "stream",
          "text": [
            "Yielding\n"
          ],
          "name": "stdout"
        },
        {
          "output_type": "execute_result",
          "data": {
            "text/plain": [
              "(b'tories', b'six')"
            ]
          },
          "metadata": {
            "tags": []
          },
          "execution_count": 150
        }
      ]
    },
    {
      "cell_type": "code",
      "metadata": {
        "id": "4Vh6z7UC4IcK",
        "colab_type": "code",
        "outputId": "9e313032-3cb7-42d9-9307-a1c27a32bd65",
        "colab": {
          "base_uri": "https://localhost:8080/",
          "height": 33
        }
      },
      "source": [
        "(article, abstract) = next(gen2)"
      ],
      "execution_count": 0,
      "outputs": [
        {
          "output_type": "stream",
          "text": [
            "Yielding\n"
          ],
          "name": "stdout"
        }
      ]
    },
    {
      "cell_type": "code",
      "metadata": {
        "id": "KNpWLeVT_0yt",
        "colab_type": "code",
        "outputId": "a2dccde4-7cb6-4346-8290-75ca2172f36b",
        "colab": {
          "base_uri": "https://localhost:8080/",
          "height": 33
        }
      },
      "source": [
        "abstract"
      ],
      "execution_count": 0,
      "outputs": [
        {
          "output_type": "execute_result",
          "data": {
            "text/plain": [
              "b'and'"
            ]
          },
          "metadata": {
            "tags": []
          },
          "execution_count": 183
        }
      ]
    },
    {
      "cell_type": "code",
      "metadata": {
        "id": "hwOYeVax-KDt",
        "colab_type": "code",
        "outputId": "b299eeb1-3782-4f88-c483-c7551bbd7db8",
        "colab": {
          "base_uri": "https://localhost:8080/",
          "height": 33
        }
      },
      "source": [
        "abstract.index(b'and')"
      ],
      "execution_count": 0,
      "outputs": [
        {
          "output_type": "execute_result",
          "data": {
            "text/plain": [
              "0"
            ]
          },
          "metadata": {
            "tags": []
          },
          "execution_count": 184
        }
      ]
    },
    {
      "cell_type": "code",
      "metadata": {
        "id": "GKdwIBRf-BsY",
        "colab_type": "code",
        "colab": {}
      },
      "source": [
        "cur = 0\n",
        "sents = []\n",
        "i =0\n",
        "while i<10:\n",
        "  try:\n",
        "    start_p = abstract.index(SENTENCE_START, cur)\n",
        "    end_p = abstract.index(SENTENCE_END, start_p + 1)\n",
        "    cur = end_p + len(SENTENCE_END)\n",
        "    sents.append(abstract[start_p+len(SENTENCE_START):end_p])\n",
        "    i+=1\n",
        "  except ValueError as e: # no more sentences\n",
        "    return sents"
      ],
      "execution_count": 0,
      "outputs": []
    },
    {
      "cell_type": "code",
      "metadata": {
        "id": "wMYVpeD65R3L",
        "colab_type": "code",
        "colab": {}
      },
      "source": [
        "g_abstract_sentences = [sent for sent in abstract2sents(tok_art)]"
      ],
      "execution_count": 0,
      "outputs": []
    },
    {
      "cell_type": "code",
      "metadata": {
        "id": "QJ9mjXc9QPIC",
        "colab_type": "code",
        "outputId": "0a2eebd4-9198-413a-eedf-e2b43843e6a8",
        "colab": {
          "base_uri": "https://localhost:8080/",
          "height": 33
        }
      },
      "source": [
        "g_abstract_sentences"
      ],
      "execution_count": 0,
      "outputs": [
        {
          "output_type": "execute_result",
          "data": {
            "text/plain": [
              "[]"
            ]
          },
          "metadata": {
            "tags": []
          },
          "execution_count": 280
        }
      ]
    },
    {
      "cell_type": "code",
      "metadata": {
        "id": "t9SdP94y905O",
        "colab_type": "code",
        "outputId": "55524045-ae95-4aeb-fec5-b9d328a7c440",
        "colab": {
          "base_uri": "https://localhost:8080/",
          "height": 50
        }
      },
      "source": [
        "import keras \n",
        "\n",
        "keras.preprocessing.text.Tokenizer(num_words=None, filters='!\"#$%&()*+,-./:;<=>?@[\\\\]^_`{|}~\\t\\n', lower=True, split=' ', char_level=False, oov_token=None, document_count=0)"
      ],
      "execution_count": 0,
      "outputs": [
        {
          "output_type": "stream",
          "text": [
            "Using TensorFlow backend.\n"
          ],
          "name": "stderr"
        },
        {
          "output_type": "execute_result",
          "data": {
            "text/plain": [
              "<keras_preprocessing.text.Tokenizer at 0x7f2088200ac8>"
            ]
          },
          "metadata": {
            "tags": []
          },
          "execution_count": 159
        }
      ]
    },
    {
      "cell_type": "code",
      "metadata": {
        "id": "pGahk2Bx5kLS",
        "colab_type": "code",
        "colab": {}
      },
      "source": [
        "def my_abstract2sents():\n",
        "  cur = 0\n",
        "  sents = []\n",
        "  while True:\n",
        "    try:\n",
        "      start_p = abstract.index(SENTENCE_START, cur)\n",
        "      end_p = abstract.index(SENTENCE_END, start_p + 1)\n",
        "      cur = end_p + len(SENTENCE_END)\n",
        "      sents.append(abstract[start_p+len(SENTENCE_START):end_p])\n",
        "    except ValueError as e: # no more sentences\n",
        "      return sents"
      ],
      "execution_count": 0,
      "outputs": []
    },
    {
      "cell_type": "code",
      "metadata": {
        "id": "sgt_nbUm4ZSt",
        "colab_type": "code",
        "colab": {}
      },
      "source": [
        "abstract_sentences = [sent.strip() for sent in abstract2sents(abstract)]"
      ],
      "execution_count": 0,
      "outputs": []
    },
    {
      "cell_type": "markdown",
      "metadata": {
        "id": "pPdDIHKR7Cx4",
        "colab_type": "text"
      },
      "source": [
        "simply have to create examples and put them in the queue"
      ]
    },
    {
      "cell_type": "markdown",
      "metadata": {
        "id": "f23AepIUM_vt",
        "colab_type": "text"
      },
      "source": [
        "THis just wants the indexes of the abstract's which are byte encoded.\n",
        "\n",
        "So can we not just use keras tokenizer and use the word indices from there??"
      ]
    },
    {
      "cell_type": "code",
      "metadata": {
        "id": "c2KcrINI7CDx",
        "colab_type": "code",
        "colab": {}
      },
      "source": [
        "def fill_example_queue(self):\n",
        "    input_gen = self.text_generator(example_generator(self._data_path, self._single_pass))\n",
        "\n",
        "    while True:\n",
        "      try:\n",
        "        (article, abstract) = next(input_gen) # read the next example from file. article and abstract are both strings.\n",
        "      except StopIteration: # if there are no more examples:\n",
        "        tf.logging.info(\"The example generator for this example queue filling thread has exhausted data.\")\n",
        "        if self._single_pass:\n",
        "          tf.logging.info(\"single_pass mode is on, so we've finished reading dataset. This thread is stopping.\")\n",
        "          self._finished_reading = True\n",
        "          break\n",
        "        else:\n",
        "          raise Exception(\"single_pass mode is off but the example generator is out of data; error.\")\n",
        "\n",
        "      #abstract_sentences = [sent.strip() for sent in data.abstract2sents(abstract)] # Use the <s> and </s> tags in abstract to get a list of sentences.\n",
        "      abstract_sentences = [sent.strip() for sent in abstract2sents(abstract)]\n",
        "      example = Example(article, abstract_sentences, self._vocab) # Process into an Example.\n",
        "      self._example_queue.put(example)"
      ],
      "execution_count": 0,
      "outputs": []
    },
    {
      "cell_type": "code",
      "metadata": {
        "id": "7hJRMpjcZpvi",
        "colab_type": "code",
        "colab": {}
      },
      "source": [
        "a################VOCAB############"
      ],
      "execution_count": 0,
      "outputs": []
    },
    {
      "cell_type": "code",
      "metadata": {
        "id": "vRY7tktOYbA7",
        "colab_type": "code",
        "cellView": "both",
        "colab": {}
      },
      "source": [
        "#@title Vocab class\n",
        "# <s> and </s> are used in the data files to segment the abstracts into sentences. They don't receive vocab ids.\n",
        "SENTENCE_START = '<s>'\n",
        "SENTENCE_END = '</s>'\n",
        "\n",
        "PAD_TOKEN = '[PAD]' # This has a vocab id, which is used to pad the encoder input, decoder input and target sequence\n",
        "UNKNOWN_TOKEN = '[UNK]' # This has a vocab id, which is used to represent out-of-vocabulary words\n",
        "START_DECODING = '[START]' # This has a vocab id, which is used at the start of every decoder input sequence\n",
        "STOP_DECODING = '[STOP]' # This has a vocab id, which is used at the end of untruncated target sequences\n",
        "\n",
        "# Note: none of <s>, </s>, [PAD], [UNK], [START], [STOP] should appear in the vocab file.\n",
        "\n",
        "\n",
        "class Vocab(object):\n",
        "\n",
        "  def __init__(self, vocab_file, max_size, inp_vocab=None, rev_voc=None):\n",
        "    self._word_to_id = {}\n",
        "    self._id_to_word = {}\n",
        "    self._count = 0 # keeps track of total number of words in the Vocab\n",
        "\n",
        "    # [UNK], [PAD], [START] and [STOP] get the ids 0,1,2,3.\n",
        "    for w in [UNKNOWN_TOKEN, PAD_TOKEN, START_DECODING, STOP_DECODING]:\n",
        "      self._word_to_id[w] = self._count\n",
        "      self._id_to_word[self._count] = w\n",
        "      self._count += 1\n",
        "      \n",
        "    # Read the vocab file and add words up to max_size\n",
        "    for line in inp_vocab:\n",
        "      w = line\n",
        "      if w in [SENTENCE_START, SENTENCE_END, UNKNOWN_TOKEN, PAD_TOKEN, START_DECODING, STOP_DECODING]:\n",
        "        raise Exception('<s>, </s>, [UNK], [PAD], [START] and [STOP] shouldn\\'t be in the vocab file, but %s is' % w)\n",
        "      if w in self._word_to_id:\n",
        "        raise Exception('Duplicated word in vocabulary file: %s' % w)\n",
        "      #self._word_to_id[w] = self._count\n",
        "      self._word_to_id[w] = token2idx(w, inp_vocab)\n",
        "      #self._id_to_word[self._count] = w\n",
        "      self._id_to_word[self._word_to_id[w]] = idx2token(self._word_to_id[w], rev_voc)\n",
        "      self._count += 1\n",
        "      if max_size != 0 and self._count >= max_size:\n",
        "        print (\"max_size of vocab was specified as %i; we now have %i words. Stopping reading.\" % (max_size, self._count))\n",
        "        break\n",
        "\n",
        "    #print (\"Finished constructing vocabulary of %i total words. Last word added: %s\" % (self._count, self._id_to_word[self._count-1]))\n",
        "\n",
        "    # Read the vocab file and add words up to max_size\n",
        "    #with open(vocab_file, 'r') as vocab_f:\n",
        "    #  for line in vocab_f:\n",
        "    #    pieces = line.split()\n",
        "    #    if len(pieces) != 2:\n",
        "    #      print ('Warning: incorrectly formatted line in vocabulary file: %s\\n' % line)\n",
        "    #      continue\n",
        "    #    w = pieces[0]\n",
        "    #    if w in [SENTENCE_START, SENTENCE_END, UNKNOWN_TOKEN, PAD_TOKEN, START_DECODING, STOP_DECODING]:\n",
        "    #      raise Exception('<s>, </s>, [UNK], [PAD], [START] and [STOP] shouldn\\'t be in the vocab file, but %s is' % w)\n",
        "    #    if w in self._word_to_id:\n",
        "    #      raise Exception('Duplicated word in vocabulary file: %s' % w)\n",
        "    #    self._word_to_id[w] = self._count\n",
        "    #    self._id_to_word[self._count] = w\n",
        "    #    self._count += 1\n",
        "    #    if max_size != 0 and self._count >= max_size:\n",
        "    #      print (\"max_size of vocab was specified as %i; we now have %i words. Stopping reading.\" % (max_size, self._count))\n",
        "    #      break\n",
        "\n",
        "    #print (\"Finished constructing vocabulary of %i total words. Last word added: %s\" % (self._count, self._id_to_word[self._count-1]))\n",
        "\n",
        "  def word2id(self, word):\n",
        "    if word not in self._word_to_id:\n",
        "      return self._word_to_id[UNKNOWN_TOKEN]\n",
        "    return self._word_to_id[word]\n",
        "\n",
        "  def id2word(self, word_id):\n",
        "    if word_id not in self._id_to_word:\n",
        "      raise ValueError('Id not found in vocab: %d' % word_id)\n",
        "    return self._id_to_word[word_id]\n",
        "\n",
        "  def size(self):\n",
        "    return self._count\n",
        "\n",
        "  def write_metadata(self, fpath):\n",
        "    print (\"Writing word embedding metadata file to %s...\" % (fpath))\n",
        "    with open(fpath, \"w\") as f:\n",
        "      fieldnames = ['word']\n",
        "      writer = csv.DictWriter(f, delimiter=\"\\t\", fieldnames=fieldnames)\n",
        "      for i in xrange(self.size()):\n",
        "        writer.writerow({\"word\": self._id_to_word[i]})\n",
        "\n",
        "\n",
        "def example_generator(data_path, single_pass):\n",
        "  while True:\n",
        "    filelist = glob.glob(data_path) # get the list of datafiles\n",
        "    assert filelist, ('Error: Empty filelist at %s' % data_path) # check filelist isn't empty\n",
        "    if single_pass:\n",
        "      filelist = sorted(filelist)\n",
        "    else:\n",
        "      random.shuffle(filelist)\n",
        "    for f in filelist:\n",
        "      reader = open(f, 'rb')\n",
        "      while True:\n",
        "        len_bytes = reader.read(8)\n",
        "        if not len_bytes: break # finished reading this file\n",
        "        str_len = struct.unpack('q', len_bytes)[0]\n",
        "        example_str = struct.unpack('%ds' % str_len, reader.read(str_len))[0]\n",
        "        print('Yielding')\n",
        "        yield example_pb2.Example.FromString(example_str)\n",
        "    if single_pass:\n",
        "      print (\"example_generator completed reading all datafiles. No more data.\")\n",
        "      break\n",
        "\n",
        "\n",
        "def article2ids(article_words, vocab):\n",
        "  ids = []\n",
        "  oovs = []\n",
        "  unk_id = vocab.word2id(UNKNOWN_TOKEN)\n",
        "  for w in article_words:\n",
        "    i = vocab.word2id(w)\n",
        "    if i == unk_id: # If w is OOV\n",
        "      if w not in oovs: # Add to list of OOVs\n",
        "        oovs.append(w)\n",
        "      oov_num = oovs.index(w) # This is 0 for the first article OOV, 1 for the second article OOV...\n",
        "      ids.append(vocab.size() + oov_num) # This is e.g. 50000 for the first article OOV, 50001 for the second...\n",
        "    else:\n",
        "      ids.append(i)\n",
        "  return ids, oovs\n",
        "\n",
        "\n",
        "def abstract2ids(abstract_words, vocab, article_oovs):\n",
        "  ids = []\n",
        "  unk_id = vocab.word2id(UNKNOWN_TOKEN)\n",
        "  for w in abstract_words:\n",
        "    i = vocab.word2id(w)\n",
        "    if i == unk_id: # If w is an OOV word\n",
        "      if w in article_oovs: # If w is an in-article OOV\n",
        "        vocab_idx = vocab.size() + article_oovs.index(w) # Map to its temporary article OOV number\n",
        "        ids.append(vocab_idx)\n",
        "      else: # If w is an out-of-article OOV\n",
        "        ids.append(unk_id) # Map to the UNK token id\n",
        "    else:\n",
        "      ids.append(i)\n",
        "  return ids\n",
        "\n",
        "\n",
        "def outputids2words(id_list, vocab, article_oovs):\n",
        "  words = []\n",
        "  for i in id_list:\n",
        "    try:\n",
        "      w = vocab.id2word(i) # might be [UNK]\n",
        "    except ValueError as e: # w is OOV\n",
        "      assert article_oovs is not None, \"Error: model produced a word ID that isn't in the vocabulary. This should not happen in baseline (no pointer-generator) mode\"\n",
        "      article_oov_idx = i - vocab.size()\n",
        "      try:\n",
        "        w = article_oovs[article_oov_idx]\n",
        "      except ValueError as e: # i doesn't correspond to an article oov\n",
        "        raise ValueError('Error: model produced word ID %i which corresponds to article OOV %i but this example only has %i article OOVs' % (i, article_oov_idx, len(article_oovs)))\n",
        "    words.append(w)\n",
        "  return words\n",
        "\n",
        "\n",
        "def abstract2sents(abstract):\n",
        "  cur = 0\n",
        "  sents = []\n",
        "  while True:\n",
        "    try:\n",
        "      start_p = abstract.index(SENTENCE_START, cur)\n",
        "      end_p = abstract.index(SENTENCE_END, start_p + 1)\n",
        "      cur = end_p + len(SENTENCE_END)\n",
        "      sents.append(abstract[start_p+len(SENTENCE_START):end_p])\n",
        "    except ValueError as e: # no more sentences\n",
        "      return sents\n",
        "\n",
        "\n",
        "def show_art_oovs(article, vocab):\n",
        "  unk_token = vocab.word2id(UNKNOWN_TOKEN)\n",
        "  words = article.split(' ')\n",
        "  words = [(\"__%s__\" % w) if vocab.word2id(w)==unk_token else w for w in words]\n",
        "  out_str = ' '.join(words)\n",
        "  return out_str\n",
        "\n",
        "\n",
        "def show_abs_oovs(abstract, vocab, article_oovs):\n",
        "  unk_token = vocab.word2id(UNKNOWN_TOKEN)\n",
        "  words = abstract.split(' ')\n",
        "  new_words = []\n",
        "  for w in words:\n",
        "    if vocab.word2id(w) == unk_token: # w is oov\n",
        "      if article_oovs is None: # baseline mode\n",
        "        new_words.append(\"__%s__\" % w)\n",
        "      else: # pointer-generator mode\n",
        "        if w in article_oovs:\n",
        "          new_words.append(\"__%s__\" % w)\n",
        "        else:\n",
        "          new_words.append(\"!!__%s__!!\" % w)\n",
        "    else: # w is in-vocab word\n",
        "      new_words.append(w)\n",
        "  out_str = ' '.join(new_words)\n",
        "  return out_str"
      ],
      "execution_count": 0,
      "outputs": []
    },
    {
      "cell_type": "code",
      "metadata": {
        "id": "IDl4veJ9Z904",
        "colab_type": "code",
        "colab": {}
      },
      "source": [
        "################VOCAB~~~EMD############"
      ],
      "execution_count": 0,
      "outputs": []
    },
    {
      "cell_type": "code",
      "metadata": {
        "id": "YqFeOajhZk9y",
        "colab_type": "code",
        "colab": {}
      },
      "source": [
        "################BATCHER############"
      ],
      "execution_count": 0,
      "outputs": []
    },
    {
      "cell_type": "code",
      "metadata": {
        "id": "6deccaJPWy0a",
        "colab_type": "code",
        "colab": {}
      },
      "source": [
        "import queue as Queue\n",
        "import time\n",
        "from random import shuffle\n",
        "from threading import Thread"
      ],
      "execution_count": 0,
      "outputs": []
    },
    {
      "cell_type": "code",
      "metadata": {
        "id": "zCFFK-y5N7Gu",
        "colab_type": "code",
        "colab": {}
      },
      "source": [
        "myArt, MySum = read_text_file(art_pol_path[1]), read_text_file(sum_pol_path[1])"
      ],
      "execution_count": 0,
      "outputs": []
    },
    {
      "cell_type": "code",
      "metadata": {
        "id": "7wBJ6wPkOtfg",
        "colab_type": "code",
        "colab": {}
      },
      "source": [
        "myA=split_list_to_words(myArt)\n",
        "myS=split_list_to_words(MySum)"
      ],
      "execution_count": 0,
      "outputs": []
    },
    {
      "cell_type": "code",
      "metadata": {
        "id": "ipjD-6ExOweE",
        "colab_type": "code",
        "colab": {}
      },
      "source": [
        "myA.split()"
      ],
      "execution_count": 0,
      "outputs": []
    },
    {
      "cell_type": "code",
      "metadata": {
        "id": "WVea75klNPS0",
        "colab_type": "code",
        "colab": {}
      },
      "source": [
        "egg = Example(myA, myS, voccy)"
      ],
      "execution_count": 0,
      "outputs": []
    },
    {
      "cell_type": "code",
      "metadata": {
        "id": "2EsQKOTaO7dk",
        "colab_type": "code",
        "colab": {}
      },
      "source": [
        "egg.article_oovs"
      ],
      "execution_count": 0,
      "outputs": []
    },
    {
      "cell_type": "code",
      "metadata": {
        "id": "l48ncLMKXJE7",
        "colab_type": "code",
        "cellView": "both",
        "colab": {}
      },
      "source": [
        "t#@title Example Class\n",
        "class Example(object):\n",
        "\n",
        "  def __init__(self, article, abstract_sentences, vocab):\n",
        "    # Get ids of special tokens\n",
        "    start_decoding = vocab.word2id(START_DECODING)\n",
        "    stop_decoding = vocab.word2id(STOP_DECODING)\n",
        "\n",
        "    # Process the article\n",
        "    article_words = article.split()\n",
        "    if len(article_words) > max_enc_steps:\n",
        "      article_words = article_words[:max_enc_steps]\n",
        "    self.enc_len = len(article_words) # store the length after truncation but before padding\n",
        "    self.enc_input = [vocab.word2id(w) for w in article_words] # list of word ids; OOVs are represented by the id for UNK token\n",
        "\n",
        "    # Process the abstract\n",
        "    abstract = ' '.join(abstract_sentences) # string\n",
        "    abstract_words = abstract.split() # list of strings\n",
        "    abs_ids = [vocab.word2id(w) for w in abstract_words] # list of word ids; OOVs are represented by the id for UNK token\n",
        "\n",
        "    # Get the decoder input sequence and target sequence\n",
        "    self.dec_input, self.target = self.get_dec_inp_targ_seqs(abs_ids, max_dec_steps, start_decoding, stop_decoding)\n",
        "    self.dec_len = len(self.dec_input)\n",
        "\n",
        "    # If using pointer-generator mode, we need to store some extra info\n",
        "    if pointer_gen:\n",
        "      # Store a version of the enc_input where in-article OOVs are represented by their temporary OOV id; also store the in-article OOVs words themselves\n",
        "      self.enc_input_extend_vocab, self.article_oovs = article2ids(article_words, vocab)\n",
        "\n",
        "      # Get a verison of the reference summary where in-article OOVs are represented by their temporary article OOV id\n",
        "      abs_ids_extend_vocab = abstract2ids(abstract_words, vocab, self.article_oovs)\n",
        "\n",
        "      # Overwrite decoder target sequence so it uses the temp article OOV ids\n",
        "      _, self.target = self.get_dec_inp_targ_seqs(abs_ids_extend_vocab, max_dec_steps, start_decoding, stop_decoding)\n",
        "\n",
        "    # Store the original strings\n",
        "    self.original_article = article\n",
        "    self.original_abstract = abstract\n",
        "    self.original_abstract_sents = abstract_sentences\n",
        "\n",
        "\n",
        "  def get_dec_inp_targ_seqs(self, sequence, max_len, start_id, stop_id):\n",
        "    inp = [start_id] + sequence[:]\n",
        "    target = sequence[:]\n",
        "    if len(inp) > max_len: # truncate\n",
        "      inp = inp[:max_len]\n",
        "      target = target[:max_len] # no end_token\n",
        "    else: # no truncation\n",
        "      target.append(stop_id) # end token\n",
        "    assert len(inp) == len(target)\n",
        "    return inp, target\n",
        "\n",
        "\n",
        "  def pad_decoder_inp_targ(self, max_len, pad_id):\n",
        "    while len(self.dec_input) < max_len:\n",
        "      self.dec_input.append(pad_id)\n",
        "    while len(self.target) < max_len:\n",
        "      self.target.append(pad_id)\n",
        "\n",
        "\n",
        "  def pad_encoder_input(self, max_len, pad_id):\n",
        "    while len(self.enc_input) < max_len:\n",
        "      self.enc_input.append(pad_id)\n",
        "    if pointer_gen:\n",
        "      while len(self.enc_input_extend_vocab) < max_len:\n",
        "        self.enc_input_extend_vocab.append(pad_id)"
      ],
      "execution_count": 0,
      "outputs": []
    },
    {
      "cell_type": "code",
      "metadata": {
        "id": "yvb-oNczXMsz",
        "colab_type": "code",
        "cellView": "form",
        "colab": {}
      },
      "source": [
        "#@title Batch Class\n",
        "class Batch(object):\n",
        "  def __init__(self, example_list, vocab, batch_size):\n",
        "    self.batch_size = batch_size\n",
        "    self.pad_id = vocab.word2id(PAD_TOKEN) # id of the PAD token used to pad sequences\n",
        "    self.init_encoder_seq(example_list) # initialize the input to the encoder\n",
        "    self.init_decoder_seq(example_list) # initialize the input and targets for the decoder\n",
        "    self.store_orig_strings(example_list) # store the original strings\n",
        "\n",
        "\n",
        "  def init_encoder_seq(self, example_list):\n",
        "    # Determine the maximum length of the encoder input sequence in this batch\n",
        "    max_enc_seq_len = max([ex.enc_len for ex in example_list])\n",
        "\n",
        "    # Pad the encoder input sequences up to the length of the longest sequence\n",
        "    for ex in example_list:\n",
        "      ex.pad_encoder_input(max_enc_seq_len, self.pad_id)\n",
        "\n",
        "    # Initialize the numpy arrays\n",
        "    # Note: our enc_batch can have different length (second dimension) for each batch because we use dynamic_rnn for the encoder.\n",
        "    self.enc_batch = np.zeros((self.batch_size, max_enc_seq_len), dtype=np.int32)\n",
        "    self.enc_lens = np.zeros((self.batch_size), dtype=np.int32)\n",
        "    self.enc_padding_mask = np.zeros((self.batch_size, max_enc_seq_len), dtype=np.float32)\n",
        "\n",
        "    # Fill in the numpy arrays\n",
        "    for i, ex in enumerate(example_list):\n",
        "      self.enc_batch[i, :] = ex.enc_input[:]\n",
        "      self.enc_lens[i] = ex.enc_len\n",
        "      for j in range(ex.enc_len):\n",
        "        self.enc_padding_mask[i][j] = 1\n",
        "\n",
        "    # For pointer-generator mode, need to store some extra info\n",
        "    if pointer_gen:\n",
        "      # Determine the max number of in-article OOVs in this batch\n",
        "      self.max_art_oovs = max([len(ex.article_oovs) for ex in example_list])\n",
        "      # Store the in-article OOVs themselves\n",
        "      self.art_oovs = [ex.article_oovs for ex in example_list]\n",
        "      # Store the version of the enc_batch that uses the article OOV ids\n",
        "      self.enc_batch_extend_vocab = np.zeros((self.batch_size, max_enc_seq_len), dtype=np.int32)\n",
        "      for i, ex in enumerate(example_list):\n",
        "        self.enc_batch_extend_vocab[i, :] = ex.enc_input_extend_vocab[:]\n",
        "\n",
        "  def init_decoder_seq(self, example_list):\n",
        "    # Pad the inputs and targets\n",
        "    for ex in example_list:\n",
        "      ex.pad_decoder_inp_targ(max_dec_steps, self.pad_id)\n",
        "\n",
        "    # Initialize the numpy arrays.\n",
        "    self.dec_batch = np.zeros((self.batch_size, max_dec_steps), dtype=np.int32)\n",
        "    self.target_batch = np.zeros((self.batch_size, max_dec_steps), dtype=np.int32)\n",
        "    self.dec_padding_mask = np.zeros((self.batch_size, max_dec_steps), dtype=np.float32)\n",
        "    self.dec_lens = np.zeros((self.batch_size), dtype=np.int32)\n",
        "\n",
        "    # Fill in the numpy arrays\n",
        "    for i, ex in enumerate(example_list):\n",
        "      self.dec_batch[i, :] = ex.dec_input[:]\n",
        "      self.target_batch[i, :] = ex.target[:]\n",
        "      self.dec_lens[i] = ex.dec_len\n",
        "      for j in range(ex.dec_len):\n",
        "        self.dec_padding_mask[i][j] = 1\n",
        "\n",
        "  def store_orig_strings(self, example_list):\n",
        "    self.original_articles = [ex.original_article for ex in example_list] # list of lists\n",
        "    self.original_abstracts = [ex.original_abstract for ex in example_list] # list of lists\n",
        "    self.original_abstracts_sents = [ex.original_abstract_sents for ex in example_list] # list of list of lists"
      ],
      "execution_count": 0,
      "outputs": []
    },
    {
      "cell_type": "code",
      "metadata": {
        "id": "jOiLHJ482xag",
        "colab_type": "code",
        "colab": {}
      },
      "source": [
        "voccy."
      ],
      "execution_count": 0,
      "outputs": []
    },
    {
      "cell_type": "code",
      "metadata": {
        "id": "dk5Yf3Da0hrW",
        "colab_type": "code",
        "outputId": "cb611c8c-f4f4-4be4-c5aa-1ae73953149d",
        "colab": {
          "base_uri": "https://localhost:8080/",
          "height": 250
        }
      },
      "source": [
        "train_data_path = \"./tokenized/train/\" +\"*.txt\"\n",
        "\n",
        "batches = Batcher(train_data_path, voccy, mode='train',\n",
        "                               batch_size=8, single_pass=False)"
      ],
      "execution_count": 0,
      "outputs": [
        {
          "output_type": "stream",
          "text": [
            "INFO:tensorflow:Bucket queue size: 0, Input queue size: 0\n",
            "Yielding"
          ],
          "name": "stdout"
        },
        {
          "output_type": "stream",
          "text": [
            "Exception in thread Thread-30:\n",
            "Traceback (most recent call last):\n",
            "  File \"/usr/lib/python3.6/threading.py\", line 916, in _bootstrap_inner\n",
            "    self.run()\n",
            "  File \"/usr/lib/python3.6/threading.py\", line 864, in run\n",
            "    self._target(*self._args, **self._kwargs)\n",
            "  File \"<ipython-input-123-400d7f2080ca>\", line 70, in fill_example_queue\n",
            "    abstract_sentences = [sent.strip() for sent in abstract2sents(abstract)]\n",
            "  File \"<ipython-input-1-d99556ea03ab>\", line 161, in abstract2sents\n",
            "    start_p = abstract.index(SENTENCE_START, cur)\n",
            "TypeError: a bytes-like object is required, not 'str'\n"
          ],
          "name": "stderr"
        },
        {
          "output_type": "stream",
          "text": [
            "\n"
          ],
          "name": "stdout"
        },
        {
          "output_type": "stream",
          "text": [
            "\n"
          ],
          "name": "stderr"
        }
      ]
    },
    {
      "cell_type": "code",
      "metadata": {
        "id": "sMvn089uXHuT",
        "colab_type": "code",
        "cellView": "both",
        "colab": {}
      },
      "source": [
        "#@title Batcher Class\n",
        "class Batcher(object):\n",
        "  BATCH_QUEUE_MAX = 100 # max number of batches the batch_queue can hold\n",
        "\n",
        "  def __init__(self, data_path, vocab, mode, batch_size, single_pass):\n",
        "    #self._data_path = data_path\n",
        "    self._vocab = vocab\n",
        "    self._single_pass = single_pass\n",
        "    self.mode = mode\n",
        "    self.batch_size = batch_size\n",
        "    # Initialize a queue of Batches waiting to be used, and a queue of Examples waiting to be batched\n",
        "    self._batch_queue = Queue.Queue(self.BATCH_QUEUE_MAX)\n",
        "    self._example_queue = Queue.Queue(self.BATCH_QUEUE_MAX * self.batch_size)\n",
        "\n",
        "    # Different settings depending on whether we're in single_pass mode or not\n",
        "    if single_pass:\n",
        "      self._num_example_q_threads = 1 # just one thread, so we read through the dataset just once\n",
        "      self._num_batch_q_threads = 1  # just one thread to batch examples\n",
        "      self._bucketing_cache_size = 1 # only load one batch's worth of examples before bucketing; this essentially means no bucketing\n",
        "      self._finished_reading = False # this will tell us when we're finished reading the dataset\n",
        "    else:\n",
        "      self._num_example_q_threads = 1 #16 # num threads to fill example queue\n",
        "      self._num_batch_q_threads = 1 #4  # num threads to fill batch queue\n",
        "      self._bucketing_cache_size = 1 #100 # how many batches-worth of examples to load into cache before bucketing\n",
        "\n",
        "    # Start the threads that load the queues\n",
        "    self._example_q_threads = []\n",
        "    for _ in range(self._num_example_q_threads):\n",
        "      self._example_q_threads.append(Thread(target=self.fill_example_queue))\n",
        "      self._example_q_threads[-1].daemon = True\n",
        "      self._example_q_threads[-1].start()\n",
        "    self._batch_q_threads = []\n",
        "    for _ in range(self._num_batch_q_threads):\n",
        "      self._batch_q_threads.append(Thread(target=self.fill_batch_queue))\n",
        "      self._batch_q_threads[-1].daemon = True\n",
        "      self._batch_q_threads[-1].start()\n",
        "\n",
        "    # Start a thread that watches the other threads and restarts them if they're dead\n",
        "    if not single_pass: # We don't want a watcher in single_pass mode because the threads shouldn't run forever\n",
        "      self._watch_thread = Thread(target=self.watch_threads)\n",
        "      self._watch_thread.daemon = True\n",
        "      self._watch_thread.start()\n",
        "\n",
        "  def next_batch(self):\n",
        "    # If the batch queue is empty, print a warning\n",
        "    if self._batch_queue.qsize() == 0:\n",
        "      tf.logging.warning('Bucket input queue is empty when calling next_batch. Bucket queue size: %i, Input queue size: %i', self._batch_queue.qsize(), self._example_queue.qsize())\n",
        "      if self._single_pass and self._finished_reading:\n",
        "        tf.logging.info(\"Finished reading dataset in single_pass mode.\")\n",
        "        return None\n",
        "\n",
        "    batch = self._batch_queue.get() # get the next Batch\n",
        "    return batch\n",
        "\n",
        "  def fill_example_queue(self):\n",
        "    input_gen = self.text_generator(example_generator(self._data_path, self._single_pass))\n",
        "\n",
        "    while True:\n",
        "      try:\n",
        "        (article, abstract) = next(input_gen) # read the next example from file. article and abstract are both strings.\n",
        "      except StopIteration: # if there are no more examples:\n",
        "        tf.logging.info(\"The example generator for this example queue filling thread has exhausted data.\")\n",
        "        if self._single_pass:\n",
        "          tf.logging.info(\"single_pass mode is on, so we've finished reading dataset. This thread is stopping.\")\n",
        "          self._finished_reading = True\n",
        "          break\n",
        "        else:\n",
        "          raise Exception(\"single_pass mode is off but the example generator is out of data; error.\")\n",
        "\n",
        "      #abstract_sentences = [sent.strip() for sent in data.abstract2sents(abstract)] # Use the <s> and </s> tags in abstract to get a list of sentences.\n",
        "      abstract_sentences = [sent.strip() for sent in abstract2sents(abstract)]\n",
        "      example = Example(article, abstract_sentences, self._vocab) # Process into an Example.\n",
        "      self._example_queue.put(example) # place the Example in the example queue.\n",
        "\n",
        "  def fill_batch_queue(self):\n",
        "    while True:\n",
        "      if self.mode == 'decode':\n",
        "        # beam search decode mode single example repeated in the batch\n",
        "        ex = self._example_queue.get()\n",
        "        b = [ex for _ in range(self.batch_size)]\n",
        "        self._batch_queue.put(Batch(b, self._vocab, self.batch_size))\n",
        "      else:\n",
        "        # Get bucketing_cache_size-many batches of Examples into a list, then sort\n",
        "        inputs = []\n",
        "        for _ in range(self.batch_size * self._bucketing_cache_size):\n",
        "          inputs.append(self._example_queue.get())\n",
        "        inputs = sorted(inputs, key=lambda inp: inp.enc_len, reverse=True) # sort by length of encoder sequence\n",
        "\n",
        "        # Group the sorted Examples into batches, optionally shuffle the batches, and place in the batch queue.\n",
        "        batches = []\n",
        "        for i in range(0, len(inputs), self.batch_size):\n",
        "          batches.append(inputs[i:i + self.batch_size])\n",
        "        if not self._single_pass:\n",
        "          shuffle(batches)\n",
        "        for b in batches:  # each b is a list of Example objects\n",
        "          self._batch_queue.put(Batch(b, self._vocab, self.batch_size))\n",
        "\n",
        "  def watch_threads(self):\n",
        "    while True:\n",
        "      tf.logging.info(\n",
        "        'Bucket queue size: %i, Input queue size: %i',\n",
        "        self._batch_queue.qsize(), self._example_queue.qsize())\n",
        "\n",
        "      time.sleep(60)\n",
        "      for idx,t in enumerate(self._example_q_threads):\n",
        "        if not t.is_alive(): # if the thread is dead\n",
        "          tf.logging.error('Found example queue thread dead. Restarting.')\n",
        "          new_t = Thread(target=self.fill_example_queue)\n",
        "          self._example_q_threads[idx] = new_t\n",
        "          new_t.daemon = True\n",
        "          new_t.start()\n",
        "      for idx,t in enumerate(self._batch_q_threads):\n",
        "        if not t.is_alive(): # if the thread is dead\n",
        "          tf.logging.error('Found batch queue thread dead. Restarting.')\n",
        "          new_t = Thread(target=self.fill_batch_queue)\n",
        "          self._batch_q_threads[idx] = new_t\n",
        "          new_t.daemon = True\n",
        "          new_t.start()\n",
        "\n",
        "\n",
        "  def text_generator(self, example_generator):\n",
        "    while True:\n",
        "      e = next(example_generator) # e is a tf.Example\n",
        "      try:\n",
        "        article_text = e.features.feature['article'].bytes_list.value[0] # the article text was saved under the key 'article' in the data files\n",
        "        abstract_text = e.features.feature['abstract'].bytes_list.value[0] # the abstract text was saved under the key 'abstract' in the data files\n",
        "      except ValueError:\n",
        "        tf.logging.error('Failed to get article or abstract from example')\n",
        "        continue\n",
        "      if len(article_text)==0: # See https://github.com/abisee/pointer-generator/issues/1\n",
        "        #tf.logging.warning('Found an example with empty article text. Skipping it.')\n",
        "        continue\n",
        "      else:\n",
        "        yield (article_text, abstract_text)"
      ],
      "execution_count": 0,
      "outputs": []
    },
    {
      "cell_type": "code",
      "metadata": {
        "id": "UgTHMjOyZpOw",
        "colab_type": "code",
        "colab": {}
      },
      "source": [
        "################BATCHER~~~~END############"
      ],
      "execution_count": 0,
      "outputs": []
    },
    {
      "cell_type": "code",
      "metadata": {
        "id": "J9EnXXfALBPs",
        "colab_type": "code",
        "colab": {}
      },
      "source": [
        "################MODEL###############"
      ],
      "execution_count": 0,
      "outputs": []
    },
    {
      "cell_type": "code",
      "metadata": {
        "id": "P5ywqmtla5Fq",
        "colab_type": "code",
        "cellView": "form",
        "colab": {}
      },
      "source": [
        "#@title\n",
        "import torch\n",
        "import torch.nn as nn\n",
        "import torch.nn.functional as F\n",
        "from torch.nn.utils.rnn import pack_padded_sequence, pad_packed_sequence\n",
        "from numpy import random\n",
        "\n",
        "use_cuda = torch.cuda.is_available()\n",
        "\n",
        "random.seed(123)\n",
        "torch.manual_seed(123)\n",
        "if torch.cuda.is_available():\n",
        "    torch.cuda.manual_seed_all(123)\n",
        "\n",
        "def init_lstm_wt(lstm):\n",
        "    for names in lstm._all_weights:\n",
        "        for name in names:\n",
        "            if name.startswith('weight_'):\n",
        "                wt = getattr(lstm, name)\n",
        "                wt.data.uniform_(-rand_unif_init_mag, rand_unif_init_mag)\n",
        "            elif name.startswith('bias_'):\n",
        "                # set forget bias to 1\n",
        "                bias = getattr(lstm, name)\n",
        "                n = bias.size(0)\n",
        "                start, end = n // 4, n // 2\n",
        "                bias.data.fill_(0.)\n",
        "                bias.data[start:end].fill_(1.)\n",
        "\n",
        "def init_linear_wt(linear):\n",
        "    linear.weight.data.normal_(std=trunc_norm_init_std)\n",
        "    if linear.bias is not None:\n",
        "        linear.bias.data.normal_(std=trunc_norm_init_std)\n",
        "\n",
        "def init_wt_normal(wt):\n",
        "    wt.data.normal_(std=trunc_norm_init_std)\n",
        "\n",
        "def init_wt_unif(wt):\n",
        "    wt.data.uniform_(-rand_unif_init_mag, rand_unif_init_mag)\n",
        "\n",
        "class Encoder(nn.Module):\n",
        "    def __init__(self):\n",
        "        super(Encoder, self).__init__()\n",
        "        self.embedding = nn.Embedding(vocab_size, emb_dim)\n",
        "        init_wt_normal(self.embedding.weight)\n",
        "\n",
        "        self.lstm = nn.LSTM(emb_dim, hidden_dim, num_layers=1, batch_first=True, bidirectional=True)\n",
        "        init_lstm_wt(self.lstm)\n",
        "\n",
        "        self.W_h = nn.Linear(hidden_dim * 2, hidden_dim * 2, bias=False)\n",
        "\n",
        "    #seq_lens should be in descending order\n",
        "    def forward(self, input, seq_lens):\n",
        "        embedded = self.embedding(input)\n",
        "\n",
        "        packed = pack_padded_sequence(embedded, seq_lens, batch_first=True)\n",
        "        output, hidden = self.lstm(packed)\n",
        "\n",
        "        encoder_outputs, _ = pad_packed_sequence(output, batch_first=True)  # h dim = B x t_k x n\n",
        "        encoder_outputs = encoder_outputs.contiguous()\n",
        "\n",
        "        encoder_feature = encoder_outputs.view(-1, 2*hidden_dim)  # B * t_k x 2*hidden_dim\n",
        "        encoder_feature = self.W_h(encoder_feature)\n",
        "\n",
        "        return encoder_outputs, encoder_feature, hidden\n",
        "\n",
        "class ReduceState(nn.Module):\n",
        "    def __init__(self):\n",
        "        super(ReduceState, self).__init__()\n",
        "\n",
        "        self.reduce_h = nn.Linear(hidden_dim * 2, hidden_dim)\n",
        "        init_linear_wt(self.reduce_h)\n",
        "        self.reduce_c = nn.Linear(hidden_dim * 2, hidden_dim)\n",
        "        init_linear_wt(self.reduce_c)\n",
        "\n",
        "    def forward(self, hidden):\n",
        "        h, c = hidden # h, c dim = 2 x b x hidden_dim\n",
        "        h_in = h.transpose(0, 1).contiguous().view(-1, hidden_dim * 2)\n",
        "        hidden_reduced_h = F.relu(self.reduce_h(h_in))\n",
        "        c_in = c.transpose(0, 1).contiguous().view(-1, hidden_dim * 2)\n",
        "        hidden_reduced_c = F.relu(self.reduce_c(c_in))\n",
        "\n",
        "        return (hidden_reduced_h.unsqueeze(0), hidden_reduced_c.unsqueeze(0)) # h, c dim = 1 x b x hidden_dim\n",
        "\n",
        "class Attention(nn.Module):\n",
        "    def __init__(self):\n",
        "        super(Attention, self).__init__()\n",
        "        # attention\n",
        "        if is_coverage:\n",
        "            self.W_c = nn.Linear(1, hidden_dim * 2, bias=False)\n",
        "        self.decode_proj = nn.Linear(hidden_dim * 2, hidden_dim * 2)\n",
        "        self.v = nn.Linear(hidden_dim * 2, 1, bias=False)\n",
        "\n",
        "    def forward(self, s_t_hat, encoder_outputs, encoder_feature, enc_padding_mask, coverage):\n",
        "        b, t_k, n = list(encoder_outputs.size())\n",
        "\n",
        "        dec_fea = self.decode_proj(s_t_hat) # B x 2*hidden_dim\n",
        "        dec_fea_expanded = dec_fea.unsqueeze(1).expand(b, t_k, n).contiguous() # B x t_k x 2*hidden_dim\n",
        "        dec_fea_expanded = dec_fea_expanded.view(-1, n)  # B * t_k x 2*hidden_dim\n",
        "\n",
        "        att_features = encoder_feature + dec_fea_expanded # B * t_k x 2*hidden_dim\n",
        "        if is_coverage:\n",
        "            coverage_input = coverage.view(-1, 1)  # B * t_k x 1\n",
        "            coverage_feature = self.W_c(coverage_input)  # B * t_k x 2*hidden_dim\n",
        "            att_features = att_features + coverage_feature\n",
        "\n",
        "        e = F.tanh(att_features) # B * t_k x 2*hidden_dim\n",
        "        scores = self.v(e)  # B * t_k x 1\n",
        "        scores = scores.view(-1, t_k)  # B x t_k\n",
        "\n",
        "        attn_dist_ = F.softmax(scores, dim=1)*enc_padding_mask # B x t_k\n",
        "        normalization_factor = attn_dist_.sum(1, keepdim=True)\n",
        "        attn_dist = attn_dist_ / normalization_factor\n",
        "\n",
        "        attn_dist = attn_dist.unsqueeze(1)  # B x 1 x t_k\n",
        "        c_t = torch.bmm(attn_dist, encoder_outputs)  # B x 1 x n\n",
        "        c_t = c_t.view(-1, hidden_dim * 2)  # B x 2*hidden_dim\n",
        "\n",
        "        attn_dist = attn_dist.view(-1, t_k)  # B x t_k\n",
        "\n",
        "        if is_coverage:\n",
        "            coverage = coverage.view(-1, t_k)\n",
        "            coverage = coverage + attn_dist\n",
        "\n",
        "        return c_t, attn_dist, coverage\n",
        "\n",
        "class Decoder(nn.Module):\n",
        "    def __init__(self):\n",
        "        super(Decoder, self).__init__()\n",
        "        self.attention_network = Attention()\n",
        "        # decoder\n",
        "        self.embedding = nn.Embedding(vocab_size, emb_dim)\n",
        "        init_wt_normal(self.embedding.weight)\n",
        "\n",
        "        self.x_context = nn.Linear(hidden_dim * 2 + emb_dim, emb_dim)\n",
        "\n",
        "        self.lstm = nn.LSTM(emb_dim, hidden_dim, num_layers=1, batch_first=True, bidirectional=False)\n",
        "        init_lstm_wt(self.lstm)\n",
        "\n",
        "        if pointer_gen:\n",
        "            self.p_gen_linear = nn.Linear(hidden_dim * 4 + emb_dim, 1)\n",
        "\n",
        "        #p_vocab\n",
        "        self.out1 = nn.Linear(hidden_dim * 3, hidden_dim)\n",
        "        self.out2 = nn.Linear(hidden_dim, vocab_size)\n",
        "        init_linear_wt(self.out2)\n",
        "\n",
        "    def forward(self, y_t_1, s_t_1, encoder_outputs, encoder_feature, enc_padding_mask,\n",
        "                c_t_1, extra_zeros, enc_batch_extend_vocab, coverage, step):\n",
        "\n",
        "        if not self.training and step == 0:\n",
        "            h_decoder, c_decoder = s_t_1\n",
        "            s_t_hat = torch.cat((h_decoder.view(-1, hidden_dim),\n",
        "                                 c_decoder.view(-1, hidden_dim)), 1)  # B x 2*hidden_dim\n",
        "            c_t, _, coverage_next = self.attention_network(s_t_hat, encoder_outputs, encoder_feature,\n",
        "                                                              enc_padding_mask, coverage)\n",
        "            coverage = coverage_next\n",
        "\n",
        "        y_t_1_embd = self.embedding(y_t_1)\n",
        "        x = self.x_context(torch.cat((c_t_1, y_t_1_embd), 1))\n",
        "        lstm_out, s_t = self.lstm(x.unsqueeze(1), s_t_1)\n",
        "\n",
        "        h_decoder, c_decoder = s_t\n",
        "        s_t_hat = torch.cat((h_decoder.view(-1, hidden_dim),\n",
        "                             c_decoder.view(-1, hidden_dim)), 1)  # B x 2*hidden_dim\n",
        "        c_t, attn_dist, coverage_next = self.attention_network(s_t_hat, encoder_outputs, encoder_feature,\n",
        "                                                          enc_padding_mask, coverage)\n",
        "\n",
        "        if self.training or step > 0:\n",
        "            coverage = coverage_next\n",
        "\n",
        "        p_gen = None\n",
        "        if pointer_gen:\n",
        "            p_gen_input = torch.cat((c_t, s_t_hat, x), 1)  # B x (2*2*hidden_dim + emb_dim)\n",
        "            p_gen = self.p_gen_linear(p_gen_input)\n",
        "            p_gen = F.sigmoid(p_gen)\n",
        "\n",
        "        output = torch.cat((lstm_out.view(-1, hidden_dim), c_t), 1) # B x hidden_dim * 3\n",
        "        output = self.out1(output) # B x hidden_dim\n",
        "\n",
        "        #output = F.relu(output)\n",
        "\n",
        "        output = self.out2(output) # B x vocab_size\n",
        "        vocab_dist = F.softmax(output, dim=1)\n",
        "\n",
        "        if pointer_gen:\n",
        "            vocab_dist_ = p_gen * vocab_dist\n",
        "            attn_dist_ = (1 - p_gen) * attn_dist\n",
        "\n",
        "            if extra_zeros is not None:\n",
        "                vocab_dist_ = torch.cat([vocab_dist_, extra_zeros], 1)\n",
        "\n",
        "            final_dist = vocab_dist_.scatter_add(1, enc_batch_extend_vocab, attn_dist_)\n",
        "        else:\n",
        "            final_dist = vocab_dist\n",
        "\n",
        "        return final_dist, s_t, c_t, attn_dist, p_gen, coverage\n",
        "\n",
        "class Model(object):\n",
        "    def __init__(self, model_file_path=None, is_eval=False):\n",
        "        encoder = Encoder()\n",
        "        decoder = Decoder()\n",
        "        reduce_state = ReduceState()\n",
        "\n",
        "        # shared the embedding between encoder and decoder\n",
        "        decoder.embedding.weight = encoder.embedding.weight\n",
        "        if is_eval:\n",
        "            encoder = encoder.eval()\n",
        "            decoder = decoder.eval()\n",
        "            reduce_state = reduce_state.eval()\n",
        "\n",
        "        if use_cuda:\n",
        "            encoder = encoder.cuda()\n",
        "            decoder = decoder.cuda()\n",
        "            reduce_state = reduce_state.cuda()\n",
        "\n",
        "        self.encoder = encoder\n",
        "        self.decoder = decoder\n",
        "        self.reduce_state = reduce_state\n",
        "\n",
        "        if model_file_path is not None:\n",
        "            state = torch.load(model_file_path, map_location= lambda storage, location: storage)\n",
        "            self.encoder.load_state_dict(state['encoder_state_dict'])\n",
        "            self.decoder.load_state_dict(state['decoder_state_dict'], strict=False)\n",
        "            self.reduce_state.load_state_dict(state['reduce_state_dict'])"
      ],
      "execution_count": 0,
      "outputs": []
    },
    {
      "cell_type": "code",
      "metadata": {
        "id": "KUSHWj3da4RX",
        "colab_type": "code",
        "colab": {}
      },
      "source": [
        "################MODEL~~~END###############"
      ],
      "execution_count": 0,
      "outputs": []
    },
    {
      "cell_type": "code",
      "metadata": {
        "id": "HMkiFTH3LpLn",
        "colab_type": "code",
        "colab": {}
      },
      "source": [
        "##############TRAIN########################"
      ],
      "execution_count": 0,
      "outputs": []
    },
    {
      "cell_type": "markdown",
      "metadata": {
        "id": "sJqhOCD212Uu",
        "colab_type": "text"
      },
      "source": [
        "Need to create a batcher that we can get_next()"
      ]
    },
    {
      "cell_type": "code",
      "metadata": {
        "id": "lAMFSlhtLpDX",
        "colab_type": "code",
        "outputId": "f4b11928-bbd0-495e-b5c1-985e6b354346",
        "colab": {
          "base_uri": "https://localhost:8080/",
          "height": 212
        }
      },
      "source": [
        "class Train(object):\n",
        "    def __init__(self, vocab_fn):\n",
        "        self.vocab_fn = vocab_fn\n",
        "        self.vocab = Vocab(vocab_path, vocab_size, vocab_fn)\n",
        "        self.batcher = Batcher(train_data_path, self.vocab, mode='train',\n",
        "                               batch_size=batch_size, single_pass=False)\n",
        "        time.sleep(15)\n",
        "        #if dir doesnt exist create it\n",
        "        train_dir = os.path.join(log_root, 'train_%d' % (int(time.time())))\n",
        "        if not os.path.exists(train_dir):\n",
        "            os.mkdir(train_dir)\n",
        "        #if dir doesnt exist create it\n",
        "        self.model_dir = os.path.join(train_dir, 'model')\n",
        "        if not os.path.exists(self.model_dir):\n",
        "            os.mkdir(self.model_dir)\n",
        "      \n",
        "        self.summary_writer = tf.summary.FileWriter(train_dir)\n",
        "\n",
        "    def save_model(self, running_avg_loss, iter):\n",
        "        state = {\n",
        "            'iter': iter,\n",
        "            'encoder_state_dict': self.model.encoder.state_dict(),\n",
        "            'decoder_state_dict': self.model.decoder.state_dict(),\n",
        "            'reduce_state_dict': self.model.reduce_state.state_dict(),\n",
        "            'optimizer': self.optimizer.state_dict(),\n",
        "            'current_loss': running_avg_loss\n",
        "        }\n",
        "        model_save_path = os.path.join(self.model_dir, 'model_%d_%d' % (iter, int(time.time())))\n",
        "        torch.save(state, model_save_path)\n",
        "\n",
        "    def setup_train(self, model_file_path=None):\n",
        "        self.model = Model(model_file_path)\n",
        "\n",
        "        params = list(self.model.encoder.parameters()) + list(self.model.decoder.parameters()) + \\\n",
        "                 list(self.model.reduce_state.parameters())\n",
        "        initial_lr = lr_coverage if is_coverage else lr\n",
        "        self.optimizer = Adagrad(params, lr=initial_lr, initial_accumulator_value=adagrad_init_acc)\n",
        "\n",
        "        start_iter, start_loss = 0, 0\n",
        "\n",
        "        if model_file_path is not None:\n",
        "            state = torch.load(model_file_path, map_location= lambda storage, location: storage)\n",
        "            start_iter = state['iter']\n",
        "            start_loss = state['current_loss']\n",
        "\n",
        "            if not is_coverage:\n",
        "                self.optimizer.load_state_dict(state['optimizer'])\n",
        "                if use_cuda:\n",
        "                    for state in self.optimizer.state.values():\n",
        "                        for k, v in state.items():\n",
        "                            if torch.is_tensor(v):\n",
        "                                state[k] = v.cuda()\n",
        "\n",
        "        return start_iter, start_loss\n",
        "\n",
        "    def train_one_batch(self, batch):\n",
        "        enc_batch, enc_padding_mask, enc_lens, enc_batch_extend_vocab, extra_zeros, c_t_1, coverage = \\\n",
        "            get_input_from_batch(batch, use_cuda)\n",
        "        dec_batch, dec_padding_mask, max_dec_len, dec_lens_var, target_batch = \\\n",
        "            get_output_from_batch(batch, use_cuda)\n",
        "\n",
        "        self.optimizer.zero_grad()\n",
        "\n",
        "        encoder_outputs, encoder_feature, encoder_hidden = self.model.encoder(enc_batch, enc_lens)\n",
        "        s_t_1 = self.model.reduce_state(encoder_hidden)\n",
        "\n",
        "        step_losses = []\n",
        "        for di in range(min(max_dec_len, max_dec_steps)):\n",
        "            y_t_1 = dec_batch[:, di]  # Teacher forcing\n",
        "            final_dist, s_t_1,  c_t_1, attn_dist, p_gen, next_coverage = self.model.decoder(y_t_1, s_t_1,\n",
        "                                                        encoder_outputs, encoder_feature, enc_padding_mask, c_t_1,\n",
        "                                                        extra_zeros, enc_batch_extend_vocab,\n",
        "                                                                           coverage, di)\n",
        "            target = target_batch[:, di]\n",
        "            gold_probs = torch.gather(final_dist, 1, target.unsqueeze(1)).squeeze()\n",
        "            step_loss = -torch.log(gold_probs + eps)\n",
        "            if is_coverage:\n",
        "                step_coverage_loss = torch.sum(torch.min(attn_dist, coverage), 1)\n",
        "                step_loss = step_loss + cov_loss_wt * step_coverage_loss\n",
        "                coverage = next_coverage\n",
        "                \n",
        "            step_mask = dec_padding_mask[:, di]\n",
        "            step_loss = step_loss * step_mask\n",
        "            step_losses.append(step_loss)\n",
        "\n",
        "        sum_losses = torch.sum(torch.stack(step_losses, 1), 1)\n",
        "        batch_avg_loss = sum_losses/dec_lens_var\n",
        "        loss = torch.mean(batch_avg_loss)\n",
        "\n",
        "        loss.backward()\n",
        "\n",
        "        self.norm = clip_grad_norm_(self.model.encoder.parameters(), max_grad_norm)\n",
        "        clip_grad_norm_(self.model.decoder.parameters(), max_grad_norm)\n",
        "        clip_grad_norm_(self.model.reduce_state.parameters(), max_grad_norm)\n",
        "\n",
        "        self.optimizer.step()\n",
        "\n",
        "        return loss.item()\n",
        "\n",
        "    def trainIters(self, n_iters, model_file_path=None):\n",
        "        iter, running_avg_loss = self.setup_train(model_file_path)\n",
        "        start = time.time()\n",
        "        while iter < n_iters:\n",
        "            batch = self.batcher.next_batch()\n",
        "            loss = self.train_one_batch(batch)\n",
        "\n",
        "            running_avg_loss = calc_running_avg_loss(loss, running_avg_loss, self.summary_writer, iter)\n",
        "            iter += 1\n",
        "\n",
        "            if iter % 100 == 0:\n",
        "                self.summary_writer.flush()\n",
        "            print_interval = 1000\n",
        "            if iter % print_interval == 0:\n",
        "                print('steps %d, seconds for %d batch: %.2f , loss: %f' % (iter, print_interval,\n",
        "                                                                           time.time() - start, loss))\n",
        "                start = time.time()\n",
        "            if iter % 5000 == 0:\n",
        "                self.save_model(running_avg_loss, iter)\n",
        "\n",
        "\n",
        "#Arguments(\"-m\", dest=\"model_file_path\", required=False, default=None, Model file for retraining (default: None).\")\n",
        "model_file_path = './'\n",
        "if model_file_path is not '':\n",
        "  train_processor = Train(voc_txt)\n",
        "  train_processor.trainIters(max_iterations, model_file_path)"
      ],
      "execution_count": 0,
      "outputs": [
        {
          "output_type": "error",
          "ename": "NameError",
          "evalue": "ignored",
          "traceback": [
            "\u001b[0;31m---------------------------------------------------------------------------\u001b[0m",
            "\u001b[0;31mNameError\u001b[0m                                 Traceback (most recent call last)",
            "\u001b[0;32m<ipython-input-116-75042893a0b4>\u001b[0m in \u001b[0;36m<module>\u001b[0;34m()\u001b[0m\n\u001b[1;32m    119\u001b[0m \u001b[0mmodel_file_path\u001b[0m \u001b[0;34m=\u001b[0m \u001b[0;34m'./'\u001b[0m\u001b[0;34m\u001b[0m\u001b[0;34m\u001b[0m\u001b[0m\n\u001b[1;32m    120\u001b[0m \u001b[0;32mif\u001b[0m \u001b[0mmodel_file_path\u001b[0m \u001b[0;32mis\u001b[0m \u001b[0;32mnot\u001b[0m \u001b[0;34m''\u001b[0m\u001b[0;34m:\u001b[0m\u001b[0;34m\u001b[0m\u001b[0;34m\u001b[0m\u001b[0m\n\u001b[0;32m--> 121\u001b[0;31m   \u001b[0mtrain_processor\u001b[0m \u001b[0;34m=\u001b[0m \u001b[0mTrain\u001b[0m\u001b[0;34m(\u001b[0m\u001b[0mvoc_txt\u001b[0m\u001b[0;34m)\u001b[0m\u001b[0;34m\u001b[0m\u001b[0;34m\u001b[0m\u001b[0m\n\u001b[0m\u001b[1;32m    122\u001b[0m   \u001b[0mtrain_processor\u001b[0m\u001b[0;34m.\u001b[0m\u001b[0mtrainIters\u001b[0m\u001b[0;34m(\u001b[0m\u001b[0mmax_iterations\u001b[0m\u001b[0;34m,\u001b[0m \u001b[0mmodel_file_path\u001b[0m\u001b[0;34m)\u001b[0m\u001b[0;34m\u001b[0m\u001b[0;34m\u001b[0m\u001b[0m\n",
            "\u001b[0;31mNameError\u001b[0m: name 'voc_txt' is not defined"
          ]
        }
      ]
    },
    {
      "cell_type": "code",
      "metadata": {
        "id": "64VIe-oaLoZl",
        "colab_type": "code",
        "colab": {}
      },
      "source": [
        "##############TRAIN~~END########################"
      ],
      "execution_count": 0,
      "outputs": []
    },
    {
      "cell_type": "code",
      "metadata": {
        "id": "JzToYdiccsdD",
        "colab_type": "code",
        "colab": {}
      },
      "source": [
        "##############DECODE########################"
      ],
      "execution_count": 0,
      "outputs": []
    },
    {
      "cell_type": "code",
      "metadata": {
        "id": "m20sjaudcsVq",
        "colab_type": "code",
        "colab": {}
      },
      "source": [
        "class Beam(object):\n",
        "  def __init__(self, tokens, log_probs, state, context, coverage):\n",
        "    self.tokens = tokens\n",
        "    self.log_probs = log_probs\n",
        "    self.state = state\n",
        "    self.context = context\n",
        "    self.coverage = coverage\n",
        "\n",
        "  def extend(self, token, log_prob, state, context, coverage):\n",
        "    return Beam(tokens = self.tokens + [token],\n",
        "                      log_probs = self.log_probs + [log_prob],\n",
        "                      state = state,\n",
        "                      context = context,\n",
        "                      coverage = coverage)\n",
        "\n",
        "  @property\n",
        "  def latest_token(self):\n",
        "    return self.tokens[-1]\n",
        "\n",
        "  @property\n",
        "  def avg_log_prob(self):\n",
        "    return sum(self.log_probs) / len(self.tokens)\n",
        "\n",
        "\n",
        "class BeamSearch(object):\n",
        "    def __init__(self, model_file_path):\n",
        "        model_name = os.path.basename(model_file_path)\n",
        "        self._decode_dir = os.path.join(log_root, 'decode_%s' % (model_name))\n",
        "        self._rouge_ref_dir = os.path.join(self._decode_dir, 'rouge_ref')\n",
        "        self._rouge_dec_dir = os.path.join(self._decode_dir, 'rouge_dec_dir')\n",
        "        for p in [self._decode_dir, self._rouge_ref_dir, self._rouge_dec_dir]:\n",
        "            if not os.path.exists(p):\n",
        "                os.mkdir(p)\n",
        "\n",
        "        self.vocab = Vocab(vocab_path, vocab_size)\n",
        "        self.batcher = Batcher(decode_data_path, self.vocab, mode='decode',\n",
        "                               batch_size=beam_size, single_pass=True)\n",
        "        time.sleep(15)\n",
        "\n",
        "        self.model = Model(model_file_path, is_eval=True)\n",
        "\n",
        "    def sort_beams(self, beams):\n",
        "        return sorted(beams, key=lambda h: h.avg_log_prob, reverse=True)\n",
        "\n",
        "\n",
        "    def decode(self):\n",
        "        start = time.time()\n",
        "        counter = 0\n",
        "        batch = self.batcher.next_batch()\n",
        "        while batch is not None:\n",
        "            # Run beam search to get best Hypothesis\n",
        "            best_summary = self.beam_search(batch)\n",
        "\n",
        "            # Extract the output ids from the hypothesis and convert back to words\n",
        "            output_ids = [int(t) for t in best_summary.tokens[1:]]\n",
        "            decoded_words = data.outputids2words(output_ids, self.vocab,\n",
        "                                                 (batch.art_oovs[0] if pointer_gen else None))\n",
        "\n",
        "            # Remove the [STOP] token from decoded_words, if necessary\n",
        "            try:\n",
        "                fst_stop_idx = decoded_words.index(data.STOP_DECODING)\n",
        "                decoded_words = decoded_words[:fst_stop_idx]\n",
        "            except ValueError:\n",
        "                decoded_words = decoded_words\n",
        "\n",
        "            original_abstract_sents = batch.original_abstracts_sents[0]\n",
        "\n",
        "            write_for_rouge(original_abstract_sents, decoded_words, counter,\n",
        "                            self._rouge_ref_dir, self._rouge_dec_dir)\n",
        "            counter += 1\n",
        "            if counter % 1000 == 0:\n",
        "                print('%d example in %d sec'%(counter, time.time() - start))\n",
        "                start = time.time()\n",
        "\n",
        "            batch = self.batcher.next_batch()\n",
        "\n",
        "        print(\"Decoder has finished reading dataset for single_pass.\")\n",
        "        print(\"Now starting ROUGE eval...\")\n",
        "        results_dict = rouge_eval(self._rouge_ref_dir, self._rouge_dec_dir)\n",
        "        rouge_log(results_dict, self._decode_dir)\n",
        "\n",
        "\n",
        "    def beam_search(self, batch):\n",
        "        #batch should have only one example\n",
        "        enc_batch, enc_padding_mask, enc_lens, enc_batch_extend_vocab, extra_zeros, c_t_0, coverage_t_0 = \\\n",
        "            get_input_from_batch(batch, use_cuda)\n",
        "\n",
        "        encoder_outputs, encoder_feature, encoder_hidden = self.model.encoder(enc_batch, enc_lens)\n",
        "        s_t_0 = self.model.reduce_state(encoder_hidden)\n",
        "\n",
        "        dec_h, dec_c = s_t_0 # 1 x 2*hidden_size\n",
        "        dec_h = dec_h.squeeze()\n",
        "        dec_c = dec_c.squeeze()\n",
        "\n",
        "        #decoder batch preparation, it has beam_size example initially everything is repeated\n",
        "        beams = [Beam(tokens=[self.vocab.word2id(data.START_DECODING)],\n",
        "                      log_probs=[0.0],\n",
        "                      state=(dec_h[0], dec_c[0]),\n",
        "                      context = c_t_0[0],\n",
        "                      coverage=(coverage_t_0[0] if is_coverage else None))\n",
        "                 for _ in xrange(beam_size)]\n",
        "        results = []\n",
        "        steps = 0\n",
        "        while steps < max_dec_steps and len(results) < beam_size:\n",
        "            latest_tokens = [h.latest_token for h in beams]\n",
        "            latest_tokens = [t if t < self.vocab.size() else self.vocab.word2id(data.UNKNOWN_TOKEN) \\\n",
        "                             for t in latest_tokens]\n",
        "            y_t_1 = Variable(torch.LongTensor(latest_tokens))\n",
        "            if use_cuda:\n",
        "                y_t_1 = y_t_1.cuda()\n",
        "            all_state_h =[]\n",
        "            all_state_c = []\n",
        "\n",
        "            all_context = []\n",
        "\n",
        "            for h in beams:\n",
        "                state_h, state_c = h.state\n",
        "                all_state_h.append(state_h)\n",
        "                all_state_c.append(state_c)\n",
        "\n",
        "                all_context.append(h.context)\n",
        "\n",
        "            s_t_1 = (torch.stack(all_state_h, 0).unsqueeze(0), torch.stack(all_state_c, 0).unsqueeze(0))\n",
        "            c_t_1 = torch.stack(all_context, 0)\n",
        "\n",
        "            coverage_t_1 = None\n",
        "            if is_coverage:\n",
        "                all_coverage = []\n",
        "                for h in beams:\n",
        "                    all_coverage.append(h.coverage)\n",
        "                coverage_t_1 = torch.stack(all_coverage, 0)\n",
        "\n",
        "            final_dist, s_t, c_t, attn_dist, p_gen, coverage_t = self.model.decoder(y_t_1, s_t_1,\n",
        "                                                        encoder_outputs, encoder_feature, enc_padding_mask, c_t_1,\n",
        "                                                        extra_zeros, enc_batch_extend_vocab, coverage_t_1, steps)\n",
        "            log_probs = torch.log(final_dist)\n",
        "            topk_log_probs, topk_ids = torch.topk(log_probs, beam_size * 2)\n",
        "\n",
        "            dec_h, dec_c = s_t\n",
        "            dec_h = dec_h.squeeze()\n",
        "            dec_c = dec_c.squeeze()\n",
        "\n",
        "            all_beams = []\n",
        "            num_orig_beams = 1 if steps == 0 else len(beams)\n",
        "            for i in xrange(num_orig_beams):\n",
        "                h = beams[i]\n",
        "                state_i = (dec_h[i], dec_c[i])\n",
        "                context_i = c_t[i]\n",
        "                coverage_i = (coverage_t[i] if is_coverage else None)\n",
        "\n",
        "                for j in xrange(beam_size * 2):  # for each of the top 2*beam_size hyps:\n",
        "                    new_beam = h.extend(token=topk_ids[i, j].item(),\n",
        "                                   log_prob=topk_log_probs[i, j].item(),\n",
        "                                   state=state_i,\n",
        "                                   context=context_i,\n",
        "                                   coverage=coverage_i)\n",
        "                    all_beams.append(new_beam)\n",
        "\n",
        "            beams = []\n",
        "            for h in self.sort_beams(all_beams):\n",
        "                if h.latest_token == self.vocab.word2id(data.STOP_DECODING):\n",
        "                    if steps >= min_dec_steps:\n",
        "                        results.append(h)\n",
        "                else:\n",
        "                    beams.append(h)\n",
        "                if len(beams) == beam_size or len(results) == beam_size:\n",
        "                    break\n",
        "\n",
        "            steps += 1\n",
        "\n",
        "        if len(results) == 0:\n",
        "            results = beams\n",
        "\n",
        "        beams_sorted = self.sort_beams(results)\n",
        "\n",
        "        return beams_sorted[0]\n",
        "\n",
        "model_filename = ''\n",
        "if model_filename is not '':\n",
        "  beam_Search_processor = BeamSearch(model_filename)\n",
        "  beam_Search_processor.decode()\n",
        "else:\n",
        "  pass"
      ],
      "execution_count": 0,
      "outputs": []
    },
    {
      "cell_type": "code",
      "metadata": {
        "id": "vGi0vigqcsKd",
        "colab_type": "code",
        "colab": {}
      },
      "source": [
        "####################DECODE~~~END####################"
      ],
      "execution_count": 0,
      "outputs": []
    },
    {
      "cell_type": "code",
      "metadata": {
        "id": "8TvTTjS6ccC9",
        "colab_type": "code",
        "colab": {}
      },
      "source": [
        "###############TRAIN UTIL###########"
      ],
      "execution_count": 0,
      "outputs": []
    },
    {
      "cell_type": "code",
      "metadata": {
        "id": "_TXBeZDdccAB",
        "colab_type": "code",
        "colab": {}
      },
      "source": [
        "def get_input_from_batch(batch, use_cuda):\n",
        "  batch_size = len(batch.enc_lens)\n",
        "\n",
        "  enc_batch = Variable(torch.from_numpy(batch.enc_batch).long())\n",
        "  enc_padding_mask = Variable(torch.from_numpy(batch.enc_padding_mask)).float()\n",
        "  enc_lens = batch.enc_lens\n",
        "  extra_zeros = None\n",
        "  enc_batch_extend_vocab = None\n",
        "\n",
        "  if pointer_gen:\n",
        "    enc_batch_extend_vocab = Variable(torch.from_numpy(batch.enc_batch_extend_vocab).long())\n",
        "    # max_art_oovs is the max over all the article oov list in the batch\n",
        "    if batch.max_art_oovs > 0:\n",
        "      extra_zeros = Variable(torch.zeros((batch_size, batch.max_art_oovs)))\n",
        "\n",
        "  c_t_1 = Variable(torch.zeros((batch_size, 2 * hidden_dim)))\n",
        "\n",
        "  coverage = None\n",
        "  if is_coverage:\n",
        "    coverage = Variable(torch.zeros(enc_batch.size()))\n",
        "\n",
        "  if use_cuda:\n",
        "    enc_batch = enc_batch.cuda()\n",
        "    enc_padding_mask = enc_padding_mask.cuda()\n",
        "\n",
        "    if enc_batch_extend_vocab is not None:\n",
        "      enc_batch_extend_vocab = enc_batch_extend_vocab.cuda()\n",
        "    if extra_zeros is not None:\n",
        "      extra_zeros = extra_zeros.cuda()\n",
        "    c_t_1 = c_t_1.cuda()\n",
        "\n",
        "    if coverage is not None:\n",
        "      coverage = coverage.cuda()\n",
        "\n",
        "  return enc_batch, enc_padding_mask, enc_lens, enc_batch_extend_vocab, extra_zeros, c_t_1, coverage\n",
        "\n",
        "def get_output_from_batch(batch, use_cuda):\n",
        "  dec_batch = Variable(torch.from_numpy(batch.dec_batch).long())\n",
        "  dec_padding_mask = Variable(torch.from_numpy(batch.dec_padding_mask)).float()\n",
        "  dec_lens = batch.dec_lens\n",
        "  max_dec_len = np.max(dec_lens)\n",
        "  dec_lens_var = Variable(torch.from_numpy(dec_lens)).float()\n",
        "\n",
        "  target_batch = Variable(torch.from_numpy(batch.target_batch)).long()\n",
        "\n",
        "  if use_cuda:\n",
        "    dec_batch = dec_batch.cuda()\n",
        "    dec_padding_mask = dec_padding_mask.cuda()\n",
        "    dec_lens_var = dec_lens_var.cuda()\n",
        "    target_batch = target_batch.cuda()\n",
        "\n",
        "\n",
        "  return dec_batch, dec_padding_mask, max_dec_len, dec_lens_var, target_batch"
      ],
      "execution_count": 0,
      "outputs": []
    },
    {
      "cell_type": "code",
      "metadata": {
        "id": "EegTX06ecb8a",
        "colab_type": "code",
        "colab": {}
      },
      "source": [
        "###############TRAIN UTIL~~~~END###########"
      ],
      "execution_count": 0,
      "outputs": []
    },
    {
      "cell_type": "code",
      "metadata": {
        "id": "OoX3typUcK67",
        "colab_type": "code",
        "colab": {}
      },
      "source": [
        "################To do Model Transformer###########"
      ],
      "execution_count": 0,
      "outputs": []
    },
    {
      "cell_type": "code",
      "metadata": {
        "id": "PLBUYnfIcL9X",
        "colab_type": "code",
        "colab": {}
      },
      "source": [
        "random.seed(123)\n",
        "torch.manual_seed(123)\n",
        "if torch.cuda.is_available():\n",
        "    torch.cuda.manual_seed_all(123)\n",
        "\n",
        "d_model = 512\n",
        "N = 6\n",
        "H = 8\n",
        "d_k = d_v = 64 # = d_model / H\n",
        "sqrt_d_k = np.sqrt(d_k)\n",
        "\n",
        "d_ff = 2048\n",
        "\n",
        "def get_pos_embedding(max_len):\n",
        "    pos_emb = np.zeros(max_len, d_model)\n",
        "    pos = np.arange(0, max_len)\n",
        "\n",
        "    denom = np.exp(np.arange(0, d_model, 2) * (-np.log(10000.0) / d_model))\n",
        "\n",
        "    pos_emb[:, 0::2] = np.sin(pos*denom)\n",
        "    pos_emb[:, 1::2] = np.cos(pos*denom)\n",
        "\n",
        "    return pos_emb\n",
        "\n",
        "def init_wt_normal(wt):\n",
        "    wt.data.normal_(std=trunc_norm_init_std)\n",
        "\n",
        "class Encoder(nn.Module):\n",
        "    def __init__(self):\n",
        "        super(Encoder, self).__init__()\n",
        "        self.embedding = nn.Embedding(vocab_size, emb_dim)\n",
        "        init_wt_normal(self.embedding.weight)\n",
        "\n",
        "        layers = [EncoderLayer() for _ in range(N)]\n",
        "        features = nn.Sequential(*layers)\n",
        "\n",
        "    def forward(self, input, seq_lens):\n",
        "        embedded = self.embedding(input) * np.sqrt(d_model)\n",
        "\n",
        "\n",
        "class EncoderLayer(nn.Module):\n",
        "    def __init__(self):\n",
        "        super(EncoderLayer, self).__init__()\n",
        "        self.multi_head_att = MultiHeadAttention()\n",
        "        self.ln_mh = nn.LayerNorm([d_model])\n",
        "\n",
        "        self.affine1 = nn.Linear(d_model, d_ff, bias=True)\n",
        "        self.affine2 = nn.Linear(d_ff, d_model, bias=True)\n",
        "        self.ln_aff = nn.LayerNorm([d_model])\n",
        "\n",
        "    def forward(self, x):\n",
        "        x_att = self.multi_head_att(x)\n",
        "        x_1 = self.ln_mh(x + x_att)\n",
        "\n",
        "        x_aff = F.relu(self.affine1(x_1))\n",
        "        x_aff = self.affine2(x_aff)\n",
        "        x_2 = self.ln_aff(x_1 + x_aff)\n",
        "\n",
        "        return x_2\n",
        "\n",
        "class MultiHeadAttention(nn.Module):\n",
        "    def __init__(self):\n",
        "        super(MultiHeadAttention, self).__init__()\n",
        "        self.W_Q = nn.Linear(d_model, d_model, bias=False)\n",
        "        self.W_K = nn.Linear(d_model, d_model, bias=False)\n",
        "        self.W_V = nn.Linear(d_model, d_model, bias=False)\n",
        "\n",
        "        self.W_O = nn.Linear(d_model, d_model, bias=False)\n",
        "\n",
        "    def forward(self, q, k, v):\n",
        "        q_proj = self.W_Q(q) #B x d_model\n",
        "        k_proj = self.W_K(k)\n",
        "        v_proj = self.W_V(v)\n",
        "\n",
        "        q_proj_split = torch.split(q_proj, split_size_or_sections=d_k, dim=1)\n",
        "        k_proj_split = torch.split(k_proj, split_size_or_sections=d_k, dim=1)\n",
        "        v_proj_split = torch.split(v_proj, split_size_or_sections=d_v, dim=1)\n",
        "\n",
        "        heads = []\n",
        "\n",
        "        for i, q_i in enumerate(q_proj_split):\n",
        "            k_i = k_proj_split[i] #B x d_k\n",
        "            v_i = v_proj_split[i]\n",
        "            qk_i = torch.bmm(q_i, k_i)/sqrt_d_k ##B x d_k\n",
        "            att_i = F.softmax(qk_i)\n",
        "            att_i = torch.bmm(att_i, v_i)\n",
        "\n",
        "            heads.append(att_i)\n",
        "\n",
        "        heads_cat = torch.cat(heads, dim=1)\n",
        "        multi_head_att = self.W_O(heads_cat)\n",
        "\n",
        "        return multi_head_att"
      ],
      "execution_count": 0,
      "outputs": []
    },
    {
      "cell_type": "code",
      "metadata": {
        "id": "jUDU3NWAcL1Z",
        "colab_type": "code",
        "colab": {}
      },
      "source": [
        "################To do Model Transformer~~~END###########"
      ],
      "execution_count": 0,
      "outputs": []
    }
  ]
}